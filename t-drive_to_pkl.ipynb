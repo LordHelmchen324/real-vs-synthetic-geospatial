{
 "cells": [
  {
   "cell_type": "code",
   "execution_count": 1,
   "metadata": {},
   "outputs": [],
   "source": [
    "import pandas as pd\n",
    "import numpy as np\n",
    "\n",
    "import os"
   ]
  },
  {
   "cell_type": "code",
   "execution_count": 3,
   "metadata": {},
   "outputs": [],
   "source": [
    "# Read data from trajectory files\n",
    "\n",
    "ts = []\n",
    "names = ['taxi', 'time', 'longitude', 'latitude']\n",
    "\n",
    "for root, _, filenames in os.walk('t-drive/original/taxi_log_2008_by_id/'):\n",
    "    for filename in filenames:\n",
    "        if filename.endswith('.txt'):\n",
    "            path = os.path.join(root, filename)\n",
    "            \n",
    "            t = pd.read_csv(path, names=names, index_col=False)\n",
    "            \n",
    "            t['time'] = pd.to_datetime(t['time'], format = '%Y-%m-%d %H:%M:%S')\n",
    "            \n",
    "            ts.append(t)\n",
    "\n",
    "df = pd.concat(ts, ignore_index=True)"
   ]
  },
  {
   "cell_type": "code",
   "execution_count": 4,
   "metadata": {},
   "outputs": [
    {
     "data": {
      "text/plain": [
       "(17662984, 4)"
      ]
     },
     "execution_count": 4,
     "metadata": {},
     "output_type": "execute_result"
    }
   ],
   "source": [
    "df.shape"
   ]
  },
  {
   "cell_type": "code",
   "execution_count": 5,
   "metadata": {},
   "outputs": [
    {
     "data": {
      "text/html": [
       "<div>\n",
       "<style scoped>\n",
       "    .dataframe tbody tr th:only-of-type {\n",
       "        vertical-align: middle;\n",
       "    }\n",
       "\n",
       "    .dataframe tbody tr th {\n",
       "        vertical-align: top;\n",
       "    }\n",
       "\n",
       "    .dataframe thead th {\n",
       "        text-align: right;\n",
       "    }\n",
       "</style>\n",
       "<table border=\"1\" class=\"dataframe\">\n",
       "  <thead>\n",
       "    <tr style=\"text-align: right;\">\n",
       "      <th></th>\n",
       "      <th>taxi</th>\n",
       "      <th>time</th>\n",
       "      <th>longitude</th>\n",
       "      <th>latitude</th>\n",
       "    </tr>\n",
       "  </thead>\n",
       "  <tbody>\n",
       "    <tr>\n",
       "      <th>0</th>\n",
       "      <td>3644</td>\n",
       "      <td>2008-02-02 13:40:59</td>\n",
       "      <td>116.37497</td>\n",
       "      <td>39.85789</td>\n",
       "    </tr>\n",
       "    <tr>\n",
       "      <th>1</th>\n",
       "      <td>3644</td>\n",
       "      <td>2008-02-02 13:42:11</td>\n",
       "      <td>116.37542</td>\n",
       "      <td>39.85764</td>\n",
       "    </tr>\n",
       "    <tr>\n",
       "      <th>2</th>\n",
       "      <td>3644</td>\n",
       "      <td>2008-02-02 13:42:49</td>\n",
       "      <td>116.37727</td>\n",
       "      <td>39.85775</td>\n",
       "    </tr>\n",
       "    <tr>\n",
       "      <th>3</th>\n",
       "      <td>3644</td>\n",
       "      <td>2008-02-02 13:42:59</td>\n",
       "      <td>116.37746</td>\n",
       "      <td>39.85787</td>\n",
       "    </tr>\n",
       "    <tr>\n",
       "      <th>4</th>\n",
       "      <td>3644</td>\n",
       "      <td>2008-02-02 13:44:00</td>\n",
       "      <td>116.37749</td>\n",
       "      <td>39.85817</td>\n",
       "    </tr>\n",
       "  </tbody>\n",
       "</table>\n",
       "</div>"
      ],
      "text/plain": [
       "   taxi                time  longitude  latitude\n",
       "0  3644 2008-02-02 13:40:59  116.37497  39.85789\n",
       "1  3644 2008-02-02 13:42:11  116.37542  39.85764\n",
       "2  3644 2008-02-02 13:42:49  116.37727  39.85775\n",
       "3  3644 2008-02-02 13:42:59  116.37746  39.85787\n",
       "4  3644 2008-02-02 13:44:00  116.37749  39.85817"
      ]
     },
     "execution_count": 5,
     "metadata": {},
     "output_type": "execute_result"
    }
   ],
   "source": [
    "df.head()"
   ]
  },
  {
   "cell_type": "code",
   "execution_count": 6,
   "metadata": {},
   "outputs": [
    {
     "data": {
      "text/plain": [
       "(10336,)"
      ]
     },
     "execution_count": 6,
     "metadata": {},
     "output_type": "execute_result"
    }
   ],
   "source": [
    "df['taxi'].unique().shape"
   ]
  },
  {
   "cell_type": "code",
   "execution_count": 7,
   "metadata": {},
   "outputs": [
    {
     "data": {
      "text/plain": [
       "count                17662984\n",
       "unique                 525939\n",
       "top       2008-02-08 14:16:12\n",
       "freq                      381\n",
       "first     2008-02-02 13:30:44\n",
       "last      2008-02-08 17:39:19\n",
       "Name: time, dtype: object"
      ]
     },
     "execution_count": 7,
     "metadata": {},
     "output_type": "execute_result"
    }
   ],
   "source": [
    "df['time'].describe()"
   ]
  },
  {
   "cell_type": "code",
   "execution_count": 8,
   "metadata": {},
   "outputs": [],
   "source": [
    "# Change the way the dataset is indexed\n",
    "\n",
    "df_reindexed = df.set_index(['taxi', 'time'])\n",
    "df.sort_index(inplace=True)"
   ]
  },
  {
   "cell_type": "code",
   "execution_count": 9,
   "metadata": {},
   "outputs": [
    {
     "data": {
      "text/html": [
       "<div>\n",
       "<style scoped>\n",
       "    .dataframe tbody tr th:only-of-type {\n",
       "        vertical-align: middle;\n",
       "    }\n",
       "\n",
       "    .dataframe tbody tr th {\n",
       "        vertical-align: top;\n",
       "    }\n",
       "\n",
       "    .dataframe thead th {\n",
       "        text-align: right;\n",
       "    }\n",
       "</style>\n",
       "<table border=\"1\" class=\"dataframe\">\n",
       "  <thead>\n",
       "    <tr style=\"text-align: right;\">\n",
       "      <th></th>\n",
       "      <th></th>\n",
       "      <th>longitude</th>\n",
       "      <th>latitude</th>\n",
       "    </tr>\n",
       "    <tr>\n",
       "      <th>taxi</th>\n",
       "      <th>time</th>\n",
       "      <th></th>\n",
       "      <th></th>\n",
       "    </tr>\n",
       "  </thead>\n",
       "  <tbody>\n",
       "    <tr>\n",
       "      <th rowspan=\"10\" valign=\"top\">3644</th>\n",
       "      <th>2008-02-02 13:40:59</th>\n",
       "      <td>116.37497</td>\n",
       "      <td>39.85789</td>\n",
       "    </tr>\n",
       "    <tr>\n",
       "      <th>2008-02-02 13:42:11</th>\n",
       "      <td>116.37542</td>\n",
       "      <td>39.85764</td>\n",
       "    </tr>\n",
       "    <tr>\n",
       "      <th>2008-02-02 13:42:49</th>\n",
       "      <td>116.37727</td>\n",
       "      <td>39.85775</td>\n",
       "    </tr>\n",
       "    <tr>\n",
       "      <th>2008-02-02 13:42:59</th>\n",
       "      <td>116.37746</td>\n",
       "      <td>39.85787</td>\n",
       "    </tr>\n",
       "    <tr>\n",
       "      <th>2008-02-02 13:44:00</th>\n",
       "      <td>116.37749</td>\n",
       "      <td>39.85817</td>\n",
       "    </tr>\n",
       "    <tr>\n",
       "      <th>2008-02-02 13:45:00</th>\n",
       "      <td>116.37744</td>\n",
       "      <td>39.85812</td>\n",
       "    </tr>\n",
       "    <tr>\n",
       "      <th>2008-02-02 13:45:30</th>\n",
       "      <td>116.37744</td>\n",
       "      <td>39.85802</td>\n",
       "    </tr>\n",
       "    <tr>\n",
       "      <th>2008-02-02 13:46:20</th>\n",
       "      <td>116.37754</td>\n",
       "      <td>39.85815</td>\n",
       "    </tr>\n",
       "    <tr>\n",
       "      <th>2008-02-02 13:47:01</th>\n",
       "      <td>116.37757</td>\n",
       "      <td>39.85817</td>\n",
       "    </tr>\n",
       "    <tr>\n",
       "      <th>2008-02-02 13:47:01</th>\n",
       "      <td>116.37757</td>\n",
       "      <td>39.85817</td>\n",
       "    </tr>\n",
       "  </tbody>\n",
       "</table>\n",
       "</div>"
      ],
      "text/plain": [
       "                          longitude  latitude\n",
       "taxi time                                    \n",
       "3644 2008-02-02 13:40:59  116.37497  39.85789\n",
       "     2008-02-02 13:42:11  116.37542  39.85764\n",
       "     2008-02-02 13:42:49  116.37727  39.85775\n",
       "     2008-02-02 13:42:59  116.37746  39.85787\n",
       "     2008-02-02 13:44:00  116.37749  39.85817\n",
       "     2008-02-02 13:45:00  116.37744  39.85812\n",
       "     2008-02-02 13:45:30  116.37744  39.85802\n",
       "     2008-02-02 13:46:20  116.37754  39.85815\n",
       "     2008-02-02 13:47:01  116.37757  39.85817\n",
       "     2008-02-02 13:47:01  116.37757  39.85817"
      ]
     },
     "execution_count": 9,
     "metadata": {},
     "output_type": "execute_result"
    }
   ],
   "source": [
    "df_reindexed.head(10)"
   ]
  },
  {
   "cell_type": "code",
   "execution_count": 10,
   "metadata": {},
   "outputs": [],
   "source": [
    "# Save the dataset to .pkl\n",
    "\n",
    "df_reindexed.to_pickle('t-drive/t-drive.pkl')"
   ]
  }
 ],
 "metadata": {
  "kernelspec": {
   "display_name": "Python 3",
   "language": "python",
   "name": "python3"
  },
  "language_info": {
   "codemirror_mode": {
    "name": "ipython",
    "version": 3
   },
   "file_extension": ".py",
   "mimetype": "text/x-python",
   "name": "python",
   "nbconvert_exporter": "python",
   "pygments_lexer": "ipython3",
   "version": "3.6.5"
  }
 },
 "nbformat": 4,
 "nbformat_minor": 2
}
