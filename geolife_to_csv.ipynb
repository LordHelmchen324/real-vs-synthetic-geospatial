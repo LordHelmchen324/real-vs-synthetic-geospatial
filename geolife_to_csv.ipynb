{
 "cells": [
  {
   "cell_type": "code",
   "execution_count": 1,
   "metadata": {},
   "outputs": [],
   "source": [
    "import pandas as pd\n",
    "import numpy as np"
   ]
  },
  {
   "cell_type": "code",
   "execution_count": 21,
   "metadata": {},
   "outputs": [],
   "source": [
    "# Read data from .plt files\n",
    "\n",
    "ts = []\n",
    "names = ['latitude', 'longitude', 'na_0', 'na_1', 'min_time', 'date_time', 'detail_time'] \n",
    "\n",
    "for user in range(0, 182):\n",
    "    root = './datasets/geolife/Data/%d/Trajectory/' % (user)\n",
    "    for root, _, filenames in os.walk(root):\n",
    "        for filename in filenames:\n",
    "            if filename.endswith('.plt'):\n",
    "                path = os.path.join(root, filename)\n",
    "                trip = int(filename[:-4])\n",
    "                \n",
    "                t = pd.read_csv(path, names=names, skiprows=6, index_col=False)\n",
    "    \n",
    "                t['time'] = t['date_time'] + \" \" + t['detail_time']\n",
    "                t['time'] = pd.to_datetime(t['time'], format = '%Y-%m-%d %H:%M:%S')\n",
    "                t = t.drop(['na_0', 'na_1', 'min_time', 'date_time', 'detail_time'], axis = 1)\n",
    "                t['user'] = user\n",
    "                t['trip'] = trip\n",
    "    \n",
    "                ts.append(t)\n",
    "\n",
    "d = pd.concat(ts, ignore_index=True)"
   ]
  },
  {
   "cell_type": "code",
   "execution_count": 25,
   "metadata": {},
   "outputs": [
    {
     "data": {
      "text/html": [
       "<div>\n",
       "<style scoped>\n",
       "    .dataframe tbody tr th:only-of-type {\n",
       "        vertical-align: middle;\n",
       "    }\n",
       "\n",
       "    .dataframe tbody tr th {\n",
       "        vertical-align: top;\n",
       "    }\n",
       "\n",
       "    .dataframe thead th {\n",
       "        text-align: right;\n",
       "    }\n",
       "</style>\n",
       "<table border=\"1\" class=\"dataframe\">\n",
       "  <thead>\n",
       "    <tr style=\"text-align: right;\">\n",
       "      <th></th>\n",
       "      <th>latitude</th>\n",
       "      <th>longitude</th>\n",
       "      <th>time</th>\n",
       "      <th>user</th>\n",
       "      <th>trip</th>\n",
       "    </tr>\n",
       "  </thead>\n",
       "  <tbody>\n",
       "    <tr>\n",
       "      <th>0</th>\n",
       "      <td>39.974781</td>\n",
       "      <td>116.319370</td>\n",
       "      <td>2011-07-31 10:26:29</td>\n",
       "      <td>100</td>\n",
       "      <td>20110731102629</td>\n",
       "    </tr>\n",
       "    <tr>\n",
       "      <th>1</th>\n",
       "      <td>39.974837</td>\n",
       "      <td>116.319364</td>\n",
       "      <td>2011-07-31 10:26:30</td>\n",
       "      <td>100</td>\n",
       "      <td>20110731102629</td>\n",
       "    </tr>\n",
       "    <tr>\n",
       "      <th>2</th>\n",
       "      <td>39.974863</td>\n",
       "      <td>116.319036</td>\n",
       "      <td>2011-07-31 10:27:36</td>\n",
       "      <td>100</td>\n",
       "      <td>20110731102629</td>\n",
       "    </tr>\n",
       "    <tr>\n",
       "      <th>3</th>\n",
       "      <td>39.974850</td>\n",
       "      <td>116.318997</td>\n",
       "      <td>2011-07-31 10:27:37</td>\n",
       "      <td>100</td>\n",
       "      <td>20110731102629</td>\n",
       "    </tr>\n",
       "    <tr>\n",
       "      <th>4</th>\n",
       "      <td>39.974839</td>\n",
       "      <td>116.318951</td>\n",
       "      <td>2011-07-31 10:27:38</td>\n",
       "      <td>100</td>\n",
       "      <td>20110731102629</td>\n",
       "    </tr>\n",
       "  </tbody>\n",
       "</table>\n",
       "</div>"
      ],
      "text/plain": [
       "    latitude   longitude                time  user            trip\n",
       "0  39.974781  116.319370 2011-07-31 10:26:29   100  20110731102629\n",
       "1  39.974837  116.319364 2011-07-31 10:26:30   100  20110731102629\n",
       "2  39.974863  116.319036 2011-07-31 10:27:36   100  20110731102629\n",
       "3  39.974850  116.318997 2011-07-31 10:27:37   100  20110731102629\n",
       "4  39.974839  116.318951 2011-07-31 10:27:38   100  20110731102629"
      ]
     },
     "execution_count": 25,
     "metadata": {},
     "output_type": "execute_result"
    }
   ],
   "source": [
    "d.head()"
   ]
  },
  {
   "cell_type": "code",
   "execution_count": 27,
   "metadata": {},
   "outputs": [
    {
     "data": {
      "text/plain": [
       "(8855040, 5)"
      ]
     },
     "execution_count": 27,
     "metadata": {},
     "output_type": "execute_result"
    }
   ],
   "source": [
    "d.shape"
   ]
  }
 ],
 "metadata": {
  "kernelspec": {
   "display_name": "Python 3",
   "language": "python",
   "name": "python3"
  },
  "language_info": {
   "codemirror_mode": {
    "name": "ipython",
    "version": 3
   },
   "file_extension": ".py",
   "mimetype": "text/x-python",
   "name": "python",
   "nbconvert_exporter": "python",
   "pygments_lexer": "ipython3",
   "version": "3.6.5"
  }
 },
 "nbformat": 4,
 "nbformat_minor": 2
}
