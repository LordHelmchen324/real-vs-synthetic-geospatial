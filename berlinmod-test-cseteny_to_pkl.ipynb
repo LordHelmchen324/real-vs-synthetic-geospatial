{
 "cells": [
  {
   "cell_type": "code",
   "execution_count": 1,
   "metadata": {},
   "outputs": [],
   "source": [
    "import pandas as pd\n",
    "import numpy as np\n",
    "\n",
    "import datetime as dt"
   ]
  },
  {
   "cell_type": "code",
   "execution_count": 2,
   "metadata": {},
   "outputs": [],
   "source": [
    "# Read data from generated file\n",
    "\n",
    "df = pd.read_csv('./datasets/berlinmod_cseteny/trips.csv')\n",
    "\n",
    "df['time'] = pd.to_datetime(df['Tstart'], format = '%Y-%m-%d %H:%M:%S')\n",
    "df['longitude'] = df['Xstart']\n",
    "df['latitude'] = df['Ystart']\n",
    "df['trip'] = df['Tripid']\n",
    "\n",
    "df.drop(['Tstart', 'Tend', 'Xstart', 'Xend', 'Ystart', 'Yend', 'Tripid'], axis=1, inplace=True)"
   ]
  },
  {
   "cell_type": "code",
   "execution_count": 3,
   "metadata": {},
   "outputs": [
    {
     "data": {
      "text/html": [
       "<div>\n",
       "<style scoped>\n",
       "    .dataframe tbody tr th:only-of-type {\n",
       "        vertical-align: middle;\n",
       "    }\n",
       "\n",
       "    .dataframe tbody tr th {\n",
       "        vertical-align: top;\n",
       "    }\n",
       "\n",
       "    .dataframe thead th {\n",
       "        text-align: right;\n",
       "    }\n",
       "</style>\n",
       "<table border=\"1\" class=\"dataframe\">\n",
       "  <thead>\n",
       "    <tr style=\"text-align: right;\">\n",
       "      <th></th>\n",
       "      <th>Moid</th>\n",
       "      <th>time</th>\n",
       "      <th>longitude</th>\n",
       "      <th>latitude</th>\n",
       "      <th>trip</th>\n",
       "    </tr>\n",
       "  </thead>\n",
       "  <tbody>\n",
       "    <tr>\n",
       "      <th>0</th>\n",
       "      <td>1</td>\n",
       "      <td>2007-05-27 00:00:00.000</td>\n",
       "      <td>17.9888</td>\n",
       "      <td>47.3159</td>\n",
       "      <td>1</td>\n",
       "    </tr>\n",
       "    <tr>\n",
       "      <th>1</th>\n",
       "      <td>1</td>\n",
       "      <td>2007-05-29 09:08:08.941</td>\n",
       "      <td>17.9888</td>\n",
       "      <td>47.3159</td>\n",
       "      <td>1</td>\n",
       "    </tr>\n",
       "    <tr>\n",
       "      <th>2</th>\n",
       "      <td>3</td>\n",
       "      <td>2007-05-27 00:00:00.000</td>\n",
       "      <td>17.9888</td>\n",
       "      <td>47.3159</td>\n",
       "      <td>2</td>\n",
       "    </tr>\n",
       "    <tr>\n",
       "      <th>3</th>\n",
       "      <td>3</td>\n",
       "      <td>2007-05-29 09:57:29.116</td>\n",
       "      <td>17.9888</td>\n",
       "      <td>47.3159</td>\n",
       "      <td>2</td>\n",
       "    </tr>\n",
       "    <tr>\n",
       "      <th>4</th>\n",
       "      <td>3</td>\n",
       "      <td>2007-05-29 21:11:01.801</td>\n",
       "      <td>17.9888</td>\n",
       "      <td>47.3159</td>\n",
       "      <td>2</td>\n",
       "    </tr>\n",
       "  </tbody>\n",
       "</table>\n",
       "</div>"
      ],
      "text/plain": [
       "   Moid                    time  longitude  latitude  trip\n",
       "0     1 2007-05-27 00:00:00.000    17.9888   47.3159     1\n",
       "1     1 2007-05-29 09:08:08.941    17.9888   47.3159     1\n",
       "2     3 2007-05-27 00:00:00.000    17.9888   47.3159     2\n",
       "3     3 2007-05-29 09:57:29.116    17.9888   47.3159     2\n",
       "4     3 2007-05-29 21:11:01.801    17.9888   47.3159     2"
      ]
     },
     "execution_count": 3,
     "metadata": {},
     "output_type": "execute_result"
    }
   ],
   "source": [
    "df.head()"
   ]
  },
  {
   "cell_type": "code",
   "execution_count": 4,
   "metadata": {},
   "outputs": [
    {
     "data": {
      "text/plain": [
       "(370, 5)"
      ]
     },
     "execution_count": 4,
     "metadata": {},
     "output_type": "execute_result"
    }
   ],
   "source": [
    "df.shape"
   ]
  },
  {
   "cell_type": "code",
   "execution_count": 5,
   "metadata": {},
   "outputs": [
    {
     "data": {
      "text/plain": [
       "1     2\n",
       "2     3\n",
       "3     1\n",
       "4     1\n",
       "5     2\n",
       "6     1\n",
       "7     2\n",
       "8     1\n",
       "9     1\n",
       "10    3\n",
       "11    2\n",
       "12    2\n",
       "13    2\n",
       "14    3\n",
       "15    6\n",
       "Name: trip, dtype: int64"
      ]
     },
     "execution_count": 5,
     "metadata": {},
     "output_type": "execute_result"
    }
   ],
   "source": [
    "df['trip'].value_counts().sort_index().head(15)"
   ]
  },
  {
   "cell_type": "code",
   "execution_count": 6,
   "metadata": {},
   "outputs": [
    {
     "data": {
      "text/plain": [
       "1     2\n",
       "3     3\n",
       "5     7\n",
       "6     5\n",
       "7     2\n",
       "8     2\n",
       "9     2\n",
       "10    3\n",
       "11    6\n",
       "12    1\n",
       "13    3\n",
       "14    3\n",
       "15    4\n",
       "16    2\n",
       "17    2\n",
       "Name: Moid, dtype: int64"
      ]
     },
     "execution_count": 6,
     "metadata": {},
     "output_type": "execute_result"
    }
   ],
   "source": [
    "df['Moid'].value_counts().sort_index().head(15)"
   ]
  },
  {
   "cell_type": "code",
   "execution_count": 7,
   "metadata": {},
   "outputs": [
    {
     "data": {
      "text/plain": [
       "count                            370\n",
       "unique                           259\n",
       "top              2007-05-27 00:00:00\n",
       "freq                             111\n",
       "first            2007-05-27 00:00:00\n",
       "last      2007-05-29 22:34:35.867000\n",
       "Name: time, dtype: object"
      ]
     },
     "execution_count": 7,
     "metadata": {},
     "output_type": "execute_result"
    }
   ],
   "source": [
    "df['time'].describe()"
   ]
  },
  {
   "cell_type": "code",
   "execution_count": 8,
   "metadata": {},
   "outputs": [
    {
     "data": {
      "text/plain": [
       "count    370.000000\n",
       "mean      47.315007\n",
       "std        0.001329\n",
       "min       47.313100\n",
       "25%       47.313100\n",
       "50%       47.315900\n",
       "75%       47.315900\n",
       "max       47.319200\n",
       "Name: latitude, dtype: float64"
      ]
     },
     "execution_count": 8,
     "metadata": {},
     "output_type": "execute_result"
    }
   ],
   "source": [
    "df['latitude'].describe()"
   ]
  },
  {
   "cell_type": "code",
   "execution_count": 9,
   "metadata": {},
   "outputs": [
    {
     "data": {
      "text/plain": [
       "count    370.000000\n",
       "mean      17.978236\n",
       "std        0.015316\n",
       "min       17.956100\n",
       "25%       17.956100\n",
       "50%       17.988800\n",
       "75%       17.988800\n",
       "max       18.002500\n",
       "Name: longitude, dtype: float64"
      ]
     },
     "execution_count": 9,
     "metadata": {},
     "output_type": "execute_result"
    }
   ],
   "source": [
    "df['longitude'].describe()"
   ]
  },
  {
   "cell_type": "code",
   "execution_count": 10,
   "metadata": {},
   "outputs": [],
   "source": [
    "# Change the way the dataset is indexed\n",
    "\n",
    "df_reindexed = df.set_index(['Moid', 'time'])\n",
    "df_reindexed.sort_index(inplace=True)"
   ]
  },
  {
   "cell_type": "code",
   "execution_count": 11,
   "metadata": {},
   "outputs": [
    {
     "data": {
      "text/html": [
       "<div>\n",
       "<style scoped>\n",
       "    .dataframe tbody tr th:only-of-type {\n",
       "        vertical-align: middle;\n",
       "    }\n",
       "\n",
       "    .dataframe tbody tr th {\n",
       "        vertical-align: top;\n",
       "    }\n",
       "\n",
       "    .dataframe thead th {\n",
       "        text-align: right;\n",
       "    }\n",
       "</style>\n",
       "<table border=\"1\" class=\"dataframe\">\n",
       "  <thead>\n",
       "    <tr style=\"text-align: right;\">\n",
       "      <th></th>\n",
       "      <th></th>\n",
       "      <th>longitude</th>\n",
       "      <th>latitude</th>\n",
       "      <th>trip</th>\n",
       "    </tr>\n",
       "    <tr>\n",
       "      <th>Moid</th>\n",
       "      <th>time</th>\n",
       "      <th></th>\n",
       "      <th></th>\n",
       "      <th></th>\n",
       "    </tr>\n",
       "  </thead>\n",
       "  <tbody>\n",
       "    <tr>\n",
       "      <th rowspan=\"2\" valign=\"top\">1</th>\n",
       "      <th>2007-05-27 00:00:00.000</th>\n",
       "      <td>17.9888</td>\n",
       "      <td>47.3159</td>\n",
       "      <td>1</td>\n",
       "    </tr>\n",
       "    <tr>\n",
       "      <th>2007-05-29 09:08:08.941</th>\n",
       "      <td>17.9888</td>\n",
       "      <td>47.3159</td>\n",
       "      <td>1</td>\n",
       "    </tr>\n",
       "    <tr>\n",
       "      <th rowspan=\"3\" valign=\"top\">3</th>\n",
       "      <th>2007-05-27 00:00:00.000</th>\n",
       "      <td>17.9888</td>\n",
       "      <td>47.3159</td>\n",
       "      <td>2</td>\n",
       "    </tr>\n",
       "    <tr>\n",
       "      <th>2007-05-29 09:57:29.116</th>\n",
       "      <td>17.9888</td>\n",
       "      <td>47.3159</td>\n",
       "      <td>2</td>\n",
       "    </tr>\n",
       "    <tr>\n",
       "      <th>2007-05-29 21:11:01.801</th>\n",
       "      <td>17.9888</td>\n",
       "      <td>47.3159</td>\n",
       "      <td>2</td>\n",
       "    </tr>\n",
       "    <tr>\n",
       "      <th rowspan=\"5\" valign=\"top\">5</th>\n",
       "      <th>2007-05-27 00:00:00.000</th>\n",
       "      <td>17.9561</td>\n",
       "      <td>47.3131</td>\n",
       "      <td>3</td>\n",
       "    </tr>\n",
       "    <tr>\n",
       "      <th>2007-05-28 09:23:49.649</th>\n",
       "      <td>17.9561</td>\n",
       "      <td>47.3131</td>\n",
       "      <td>4</td>\n",
       "    </tr>\n",
       "    <tr>\n",
       "      <th>2007-05-28 09:23:49.650</th>\n",
       "      <td>17.9888</td>\n",
       "      <td>47.3159</td>\n",
       "      <td>5</td>\n",
       "    </tr>\n",
       "    <tr>\n",
       "      <th>2007-05-28 14:33:31.157</th>\n",
       "      <td>17.9888</td>\n",
       "      <td>47.3159</td>\n",
       "      <td>5</td>\n",
       "    </tr>\n",
       "    <tr>\n",
       "      <th>2007-05-29 08:18:53.058</th>\n",
       "      <td>17.9561</td>\n",
       "      <td>47.3131</td>\n",
       "      <td>6</td>\n",
       "    </tr>\n",
       "  </tbody>\n",
       "</table>\n",
       "</div>"
      ],
      "text/plain": [
       "                              longitude  latitude  trip\n",
       "Moid time                                              \n",
       "1    2007-05-27 00:00:00.000    17.9888   47.3159     1\n",
       "     2007-05-29 09:08:08.941    17.9888   47.3159     1\n",
       "3    2007-05-27 00:00:00.000    17.9888   47.3159     2\n",
       "     2007-05-29 09:57:29.116    17.9888   47.3159     2\n",
       "     2007-05-29 21:11:01.801    17.9888   47.3159     2\n",
       "5    2007-05-27 00:00:00.000    17.9561   47.3131     3\n",
       "     2007-05-28 09:23:49.649    17.9561   47.3131     4\n",
       "     2007-05-28 09:23:49.650    17.9888   47.3159     5\n",
       "     2007-05-28 14:33:31.157    17.9888   47.3159     5\n",
       "     2007-05-29 08:18:53.058    17.9561   47.3131     6"
      ]
     },
     "execution_count": 11,
     "metadata": {},
     "output_type": "execute_result"
    }
   ],
   "source": [
    "df_reindexed.head(10)"
   ]
  },
  {
   "cell_type": "code",
   "execution_count": 12,
   "metadata": {},
   "outputs": [],
   "source": [
    "# Save the dataset to .pkl\n",
    "\n",
    "df_reindexed.to_pickle('./datasets/berlinmod-test2.pkl')"
   ]
  }
 ],
 "metadata": {
  "kernelspec": {
   "display_name": "Python 3",
   "language": "python",
   "name": "python3"
  },
  "language_info": {
   "codemirror_mode": {
    "name": "ipython",
    "version": 3
   },
   "file_extension": ".py",
   "mimetype": "text/x-python",
   "name": "python",
   "nbconvert_exporter": "python",
   "pygments_lexer": "ipython3",
   "version": "3.6.5"
  }
 },
 "nbformat": 4,
 "nbformat_minor": 2
}
