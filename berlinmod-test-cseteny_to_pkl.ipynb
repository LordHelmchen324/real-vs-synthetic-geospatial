{
 "cells": [
  {
   "cell_type": "code",
   "execution_count": 1,
   "metadata": {},
   "outputs": [],
   "source": [
    "import pandas as pd\n",
    "import numpy as np\n",
    "\n",
    "import datetime as dt"
   ]
  },
  {
   "cell_type": "code",
   "execution_count": 2,
   "metadata": {},
   "outputs": [],
   "source": [
    "# Read data from generated file\n",
    "\n",
    "df = pd.read_csv('berlinmod/trips_cseteny.csv')\n",
    "\n",
    "df['time'] = pd.to_datetime(df['Tstart'], format = '%Y-%m-%d %H:%M:%S')\n",
    "df['longitude'] = df['Xstart']\n",
    "df['latitude'] = df['Ystart']\n",
    "df['trip'] = df['Tripid']\n",
    "\n",
    "df.drop(['Tstart', 'Tend', 'Xstart', 'Xend', 'Ystart', 'Yend', 'Tripid'], axis=1, inplace=True)"
   ]
  },
  {
   "cell_type": "code",
   "execution_count": 3,
   "metadata": {},
   "outputs": [
    {
     "data": {
      "text/html": [
       "<div>\n",
       "<style scoped>\n",
       "    .dataframe tbody tr th:only-of-type {\n",
       "        vertical-align: middle;\n",
       "    }\n",
       "\n",
       "    .dataframe tbody tr th {\n",
       "        vertical-align: top;\n",
       "    }\n",
       "\n",
       "    .dataframe thead th {\n",
       "        text-align: right;\n",
       "    }\n",
       "</style>\n",
       "<table border=\"1\" class=\"dataframe\">\n",
       "  <thead>\n",
       "    <tr style=\"text-align: right;\">\n",
       "      <th></th>\n",
       "      <th>Moid</th>\n",
       "      <th>time</th>\n",
       "      <th>longitude</th>\n",
       "      <th>latitude</th>\n",
       "      <th>trip</th>\n",
       "    </tr>\n",
       "  </thead>\n",
       "  <tbody>\n",
       "    <tr>\n",
       "      <th>0</th>\n",
       "      <td>2</td>\n",
       "      <td>2007-05-27 00:00:00.000</td>\n",
       "      <td>17.9991</td>\n",
       "      <td>47.3166</td>\n",
       "      <td>1</td>\n",
       "    </tr>\n",
       "    <tr>\n",
       "      <th>1</th>\n",
       "      <td>2</td>\n",
       "      <td>2007-05-28 15:54:57.735</td>\n",
       "      <td>17.9991</td>\n",
       "      <td>47.3166</td>\n",
       "      <td>1</td>\n",
       "    </tr>\n",
       "    <tr>\n",
       "      <th>2</th>\n",
       "      <td>2</td>\n",
       "      <td>2007-05-29 15:02:15.541</td>\n",
       "      <td>17.9991</td>\n",
       "      <td>47.3166</td>\n",
       "      <td>1</td>\n",
       "    </tr>\n",
       "    <tr>\n",
       "      <th>3</th>\n",
       "      <td>3</td>\n",
       "      <td>2007-05-27 00:00:00.000</td>\n",
       "      <td>17.9991</td>\n",
       "      <td>47.3166</td>\n",
       "      <td>2</td>\n",
       "    </tr>\n",
       "    <tr>\n",
       "      <th>4</th>\n",
       "      <td>3</td>\n",
       "      <td>2007-05-29 21:11:01.801</td>\n",
       "      <td>17.9991</td>\n",
       "      <td>47.3166</td>\n",
       "      <td>2</td>\n",
       "    </tr>\n",
       "  </tbody>\n",
       "</table>\n",
       "</div>"
      ],
      "text/plain": [
       "   Moid                    time  longitude  latitude  trip\n",
       "0     2 2007-05-27 00:00:00.000    17.9991   47.3166     1\n",
       "1     2 2007-05-28 15:54:57.735    17.9991   47.3166     1\n",
       "2     2 2007-05-29 15:02:15.541    17.9991   47.3166     1\n",
       "3     3 2007-05-27 00:00:00.000    17.9991   47.3166     2\n",
       "4     3 2007-05-29 21:11:01.801    17.9991   47.3166     2"
      ]
     },
     "execution_count": 3,
     "metadata": {},
     "output_type": "execute_result"
    }
   ],
   "source": [
    "df.head()"
   ]
  },
  {
   "cell_type": "code",
   "execution_count": 4,
   "metadata": {},
   "outputs": [
    {
     "data": {
      "text/plain": [
       "(455, 5)"
      ]
     },
     "execution_count": 4,
     "metadata": {},
     "output_type": "execute_result"
    }
   ],
   "source": [
    "df.shape"
   ]
  },
  {
   "cell_type": "code",
   "execution_count": 5,
   "metadata": {},
   "outputs": [
    {
     "data": {
      "text/plain": [
       "1     3\n",
       "2     2\n",
       "3     2\n",
       "4     1\n",
       "5     1\n",
       "6     2\n",
       "7     1\n",
       "8     1\n",
       "9     3\n",
       "10    7\n",
       "11    1\n",
       "12    1\n",
       "13    3\n",
       "14    3\n",
       "15    4\n",
       "Name: trip, dtype: int64"
      ]
     },
     "execution_count": 5,
     "metadata": {},
     "output_type": "execute_result"
    }
   ],
   "source": [
    "df['trip'].value_counts().sort_index().head(15)"
   ]
  },
  {
   "cell_type": "code",
   "execution_count": 6,
   "metadata": {},
   "outputs": [
    {
     "data": {
      "text/plain": [
       "2     3\n",
       "3     2\n",
       "4     4\n",
       "5     2\n",
       "6     5\n",
       "7     9\n",
       "8     3\n",
       "10    3\n",
       "11    4\n",
       "12    2\n",
       "15    5\n",
       "17    5\n",
       "18    6\n",
       "21    2\n",
       "24    3\n",
       "Name: Moid, dtype: int64"
      ]
     },
     "execution_count": 6,
     "metadata": {},
     "output_type": "execute_result"
    }
   ],
   "source": [
    "df['Moid'].value_counts().sort_index().head(15)"
   ]
  },
  {
   "cell_type": "code",
   "execution_count": 7,
   "metadata": {},
   "outputs": [
    {
     "data": {
      "text/plain": [
       "count                            455\n",
       "unique                           344\n",
       "top              2007-05-27 00:00:00\n",
       "freq                             109\n",
       "first            2007-05-27 00:00:00\n",
       "last      2007-05-29 22:33:03.050000\n",
       "Name: time, dtype: object"
      ]
     },
     "execution_count": 7,
     "metadata": {},
     "output_type": "execute_result"
    }
   ],
   "source": [
    "df['time'].describe()"
   ]
  },
  {
   "cell_type": "code",
   "execution_count": 8,
   "metadata": {},
   "outputs": [
    {
     "data": {
      "text/plain": [
       "count    455.000000\n",
       "mean      47.315376\n",
       "std        0.004552\n",
       "min       47.303900\n",
       "25%       47.311800\n",
       "50%       47.315900\n",
       "75%       47.317600\n",
       "max       47.325400\n",
       "Name: latitude, dtype: float64"
      ]
     },
     "execution_count": 8,
     "metadata": {},
     "output_type": "execute_result"
    }
   ],
   "source": [
    "df['latitude'].describe()"
   ]
  },
  {
   "cell_type": "code",
   "execution_count": 9,
   "metadata": {},
   "outputs": [
    {
     "data": {
      "text/plain": [
       "count    455.000000\n",
       "mean      17.993850\n",
       "std        0.009723\n",
       "min       17.956100\n",
       "25%       17.988800\n",
       "50%       17.994200\n",
       "75%       17.999100\n",
       "max       18.020900\n",
       "Name: longitude, dtype: float64"
      ]
     },
     "execution_count": 9,
     "metadata": {},
     "output_type": "execute_result"
    }
   ],
   "source": [
    "df['longitude'].describe()"
   ]
  },
  {
   "cell_type": "code",
   "execution_count": 10,
   "metadata": {},
   "outputs": [],
   "source": [
    "# Change the way the dataset is indexed\n",
    "\n",
    "df_reindexed = df.set_index(['Moid', 'time'])\n",
    "df_reindexed.sort_index(inplace=True)"
   ]
  },
  {
   "cell_type": "code",
   "execution_count": 11,
   "metadata": {},
   "outputs": [
    {
     "data": {
      "text/html": [
       "<div>\n",
       "<style scoped>\n",
       "    .dataframe tbody tr th:only-of-type {\n",
       "        vertical-align: middle;\n",
       "    }\n",
       "\n",
       "    .dataframe tbody tr th {\n",
       "        vertical-align: top;\n",
       "    }\n",
       "\n",
       "    .dataframe thead th {\n",
       "        text-align: right;\n",
       "    }\n",
       "</style>\n",
       "<table border=\"1\" class=\"dataframe\">\n",
       "  <thead>\n",
       "    <tr style=\"text-align: right;\">\n",
       "      <th></th>\n",
       "      <th></th>\n",
       "      <th>longitude</th>\n",
       "      <th>latitude</th>\n",
       "      <th>trip</th>\n",
       "    </tr>\n",
       "    <tr>\n",
       "      <th>Moid</th>\n",
       "      <th>time</th>\n",
       "      <th></th>\n",
       "      <th></th>\n",
       "      <th></th>\n",
       "    </tr>\n",
       "  </thead>\n",
       "  <tbody>\n",
       "    <tr>\n",
       "      <th rowspan=\"3\" valign=\"top\">2</th>\n",
       "      <th>2007-05-27 00:00:00.000</th>\n",
       "      <td>17.9991</td>\n",
       "      <td>47.3166</td>\n",
       "      <td>1</td>\n",
       "    </tr>\n",
       "    <tr>\n",
       "      <th>2007-05-28 15:54:57.735</th>\n",
       "      <td>17.9991</td>\n",
       "      <td>47.3166</td>\n",
       "      <td>1</td>\n",
       "    </tr>\n",
       "    <tr>\n",
       "      <th>2007-05-29 15:02:15.541</th>\n",
       "      <td>17.9991</td>\n",
       "      <td>47.3166</td>\n",
       "      <td>1</td>\n",
       "    </tr>\n",
       "    <tr>\n",
       "      <th rowspan=\"2\" valign=\"top\">3</th>\n",
       "      <th>2007-05-27 00:00:00.000</th>\n",
       "      <td>17.9991</td>\n",
       "      <td>47.3166</td>\n",
       "      <td>2</td>\n",
       "    </tr>\n",
       "    <tr>\n",
       "      <th>2007-05-29 21:11:01.801</th>\n",
       "      <td>17.9991</td>\n",
       "      <td>47.3166</td>\n",
       "      <td>2</td>\n",
       "    </tr>\n",
       "    <tr>\n",
       "      <th rowspan=\"4\" valign=\"top\">4</th>\n",
       "      <th>2007-05-27 00:00:00.000</th>\n",
       "      <td>17.9888</td>\n",
       "      <td>47.3159</td>\n",
       "      <td>3</td>\n",
       "    </tr>\n",
       "    <tr>\n",
       "      <th>2007-05-29 07:42:53.416</th>\n",
       "      <td>17.9888</td>\n",
       "      <td>47.3159</td>\n",
       "      <td>3</td>\n",
       "    </tr>\n",
       "    <tr>\n",
       "      <th>2007-05-29 21:18:33.367</th>\n",
       "      <td>17.9888</td>\n",
       "      <td>47.3159</td>\n",
       "      <td>4</td>\n",
       "    </tr>\n",
       "    <tr>\n",
       "      <th>2007-05-29 21:18:33.368</th>\n",
       "      <td>17.9896</td>\n",
       "      <td>47.3195</td>\n",
       "      <td>5</td>\n",
       "    </tr>\n",
       "    <tr>\n",
       "      <th>5</th>\n",
       "      <th>2007-05-27 00:00:00.000</th>\n",
       "      <td>17.9991</td>\n",
       "      <td>47.3166</td>\n",
       "      <td>6</td>\n",
       "    </tr>\n",
       "  </tbody>\n",
       "</table>\n",
       "</div>"
      ],
      "text/plain": [
       "                              longitude  latitude  trip\n",
       "Moid time                                              \n",
       "2    2007-05-27 00:00:00.000    17.9991   47.3166     1\n",
       "     2007-05-28 15:54:57.735    17.9991   47.3166     1\n",
       "     2007-05-29 15:02:15.541    17.9991   47.3166     1\n",
       "3    2007-05-27 00:00:00.000    17.9991   47.3166     2\n",
       "     2007-05-29 21:11:01.801    17.9991   47.3166     2\n",
       "4    2007-05-27 00:00:00.000    17.9888   47.3159     3\n",
       "     2007-05-29 07:42:53.416    17.9888   47.3159     3\n",
       "     2007-05-29 21:18:33.367    17.9888   47.3159     4\n",
       "     2007-05-29 21:18:33.368    17.9896   47.3195     5\n",
       "5    2007-05-27 00:00:00.000    17.9991   47.3166     6"
      ]
     },
     "execution_count": 11,
     "metadata": {},
     "output_type": "execute_result"
    }
   ],
   "source": [
    "df_reindexed.head(10)"
   ]
  },
  {
   "cell_type": "code",
   "execution_count": 12,
   "metadata": {},
   "outputs": [],
   "source": [
    "# Save the dataset to .pkl\n",
    "\n",
    "df_reindexed.to_pickle('berlinmod/cseteny.pkl')"
   ]
  }
 ],
 "metadata": {
  "kernelspec": {
   "display_name": "Python 3",
   "language": "python",
   "name": "python3"
  },
  "language_info": {
   "codemirror_mode": {
    "name": "ipython",
    "version": 3
   },
   "file_extension": ".py",
   "mimetype": "text/x-python",
   "name": "python",
   "nbconvert_exporter": "python",
   "pygments_lexer": "ipython3",
   "version": "3.6.5"
  }
 },
 "nbformat": 4,
 "nbformat_minor": 2
}
