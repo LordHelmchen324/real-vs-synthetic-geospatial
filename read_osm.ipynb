{
 "cells": [
  {
   "cell_type": "code",
   "execution_count": 2,
   "metadata": {},
   "outputs": [],
   "source": [
    "import xml.etree.ElementTree as et"
   ]
  },
  {
   "cell_type": "code",
   "execution_count": 4,
   "metadata": {},
   "outputs": [],
   "source": [
    "tree = et.parse('osm_maps/map.osm-2.xml')\n",
    "root = tree.getroot()"
   ]
  },
  {
   "cell_type": "code",
   "execution_count": 10,
   "metadata": {},
   "outputs": [
    {
     "data": {
      "text/plain": [
       "22182"
      ]
     },
     "execution_count": 10,
     "metadata": {},
     "output_type": "execute_result"
    }
   ],
   "source": [
    "len(root)"
   ]
  },
  {
   "cell_type": "code",
   "execution_count": 18,
   "metadata": {},
   "outputs": [
    {
     "data": {
      "text/plain": [
       "19262"
      ]
     },
     "execution_count": 18,
     "metadata": {},
     "output_type": "execute_result"
    }
   ],
   "source": [
    "len(root.findall('node'))"
   ]
  },
  {
   "cell_type": "code",
   "execution_count": 19,
   "metadata": {},
   "outputs": [
    {
     "data": {
      "text/plain": [
       "2839"
      ]
     },
     "execution_count": 19,
     "metadata": {},
     "output_type": "execute_result"
    }
   ],
   "source": [
    "len(root.findall('way'))"
   ]
  },
  {
   "cell_type": "code",
   "execution_count": 21,
   "metadata": {},
   "outputs": [
    {
     "data": {
      "text/plain": [
       "80"
      ]
     },
     "execution_count": 21,
     "metadata": {},
     "output_type": "execute_result"
    }
   ],
   "source": [
    "len(root.findall('relation'))"
   ]
  },
  {
   "cell_type": "code",
   "execution_count": 23,
   "metadata": {},
   "outputs": [
    {
     "data": {
      "text/plain": [
       "1"
      ]
     },
     "execution_count": 23,
     "metadata": {},
     "output_type": "execute_result"
    }
   ],
   "source": [
    "len(root.findall('bounds'))"
   ]
  },
  {
   "cell_type": "code",
   "execution_count": 24,
   "metadata": {},
   "outputs": [
    {
     "data": {
      "text/plain": [
       "22182"
      ]
     },
     "execution_count": 24,
     "metadata": {},
     "output_type": "execute_result"
    }
   ],
   "source": [
    "19262 + 2839 + 80 + 1"
   ]
  },
  {
   "cell_type": "code",
   "execution_count": 29,
   "metadata": {},
   "outputs": [],
   "source": [
    "# Create dictionary of all nodes in the map (by id)\n",
    "\n",
    "nodes = {}\n",
    "for node in root.findall('node'):\n",
    "    id = node.get('id')\n",
    "    lat = float(node.get('lat'))\n",
    "    lon = float(node.get('lon'))\n",
    "    nodes[id] = (lat, lon)"
   ]
  },
  {
   "cell_type": "code",
   "execution_count": 31,
   "metadata": {},
   "outputs": [
    {
     "data": {
      "text/plain": [
       "(53.2940033, 9.8112075)"
      ]
     },
     "execution_count": 31,
     "metadata": {},
     "output_type": "execute_result"
    }
   ],
   "source": [
    "nodes['31504505']"
   ]
  },
  {
   "cell_type": "code",
   "execution_count": 42,
   "metadata": {},
   "outputs": [],
   "source": [
    "class Street:\n",
    "    def __init__(self, line, speedlimit):\n",
    "        self.line = line\n",
    "        self.speedlimit = speedlimit"
   ]
  },
  {
   "cell_type": "code",
   "execution_count": 70,
   "metadata": {},
   "outputs": [],
   "source": [
    "streets = []\n",
    "for way in root.findall('way'):\n",
    "    for tag in way.findall('tag'):\n",
    "        if tag.get('k') == 'highway':\n",
    "            line = []\n",
    "            for nd in way.findall('nd'):\n",
    "                coords = nodes[nd.get('ref')]\n",
    "                line.append(coords)\n",
    "            \n",
    "            speedlimit = -1.0\n",
    "            for tag in way.findall('tag'):\n",
    "                if tag.get('k') == 'maxspeed':\n",
    "                    speedlimit = int(tag.get('v'))\n",
    "    \n",
    "            streets.append(Street(line, speedlimit))"
   ]
  },
  {
   "cell_type": "code",
   "execution_count": 71,
   "metadata": {},
   "outputs": [
    {
     "data": {
      "text/plain": [
       "417"
      ]
     },
     "execution_count": 71,
     "metadata": {},
     "output_type": "execute_result"
    }
   ],
   "source": [
    "len(streets)"
   ]
  },
  {
   "cell_type": "code",
   "execution_count": 73,
   "metadata": {},
   "outputs": [
    {
     "data": {
      "text/plain": [
       "30"
      ]
     },
     "execution_count": 73,
     "metadata": {},
     "output_type": "execute_result"
    }
   ],
   "source": [
    "streets[3].speedlimit"
   ]
  },
  {
   "cell_type": "code",
   "execution_count": 74,
   "metadata": {},
   "outputs": [
    {
     "data": {
      "text/plain": [
       "[(53.2802467, 9.8638224),\n",
       " (53.2810016, 9.8642766),\n",
       " (53.2816831, 9.8645753),\n",
       " (53.2823856, 9.8647446),\n",
       " (53.2830964, 9.8651636),\n",
       " (53.283728, 9.8655662),\n",
       " (53.2839595, 9.8657138),\n",
       " (53.2839949, 9.8657363),\n",
       " (53.284074, 9.8657868),\n",
       " (53.2841488, 9.8658345),\n",
       " (53.2843597, 9.8659237),\n",
       " (53.2844182, 9.8659506),\n",
       " (53.2846151, 9.866044),\n",
       " (53.2850591, 9.8661214),\n",
       " (53.2853889, 9.8661666),\n",
       " (53.2861821, 9.8664657),\n",
       " (53.2862277, 9.8664812)]"
      ]
     },
     "execution_count": 74,
     "metadata": {},
     "output_type": "execute_result"
    }
   ],
   "source": [
    "streets[3].line"
   ]
  },
  {
   "cell_type": "code",
   "execution_count": null,
   "metadata": {},
   "outputs": [],
   "source": []
  }
 ],
 "metadata": {
  "kernelspec": {
   "display_name": "Python 3",
   "language": "python",
   "name": "python3"
  },
  "language_info": {
   "codemirror_mode": {
    "name": "ipython",
    "version": 3
   },
   "file_extension": ".py",
   "mimetype": "text/x-python",
   "name": "python",
   "nbconvert_exporter": "python",
   "pygments_lexer": "ipython3",
   "version": "3.6.5"
  }
 },
 "nbformat": 4,
 "nbformat_minor": 2
}
