{
 "cells": [
  {
   "cell_type": "code",
   "execution_count": 1,
   "metadata": {},
   "outputs": [],
   "source": [
    "import pickle"
   ]
  },
  {
   "cell_type": "code",
   "execution_count": 2,
   "metadata": {},
   "outputs": [],
   "source": [
    "with open('osm_maps/streets_cseteny.pkl', 'rb') as file:\n",
    "    streets = pickle.load(file)"
   ]
  },
  {
   "cell_type": "code",
   "execution_count": 3,
   "metadata": {},
   "outputs": [],
   "source": [
    "len(streets)"
   ]
  },
  {
   "cell_type": "code",
   "execution_count": 4,
   "metadata": {},
   "outputs": [],
   "source": [
    "with open('berlinmod/streets_cseteny.data', 'w') as file:\n",
    "    file.write('\\n')\n",
    "    file.write('(OBJECT streets \\n')\n",
    "    file.write('    () \\n')\n",
    "    file.write('    (rel \\n')\n",
    "    file.write('        (tuple \\n')\n",
    "    file.write('            (\\n')\n",
    "    file.write('                (Vmax real) \\n')\n",
    "    file.write('                (GeoData line)))) \\n')\n",
    "    file.write('    (')\n",
    "    \n",
    "    for street in streets:\n",
    "        file.write('\\n')\n",
    "        file.write('        (%.1f \\n' % (street['speedlimit']))\n",
    "        file.write('            (')\n",
    "        \n",
    "        for i in range(len(street['line']) - 1):\n",
    "            a = street['line'][i]\n",
    "            b = street['line'][i + 1]\n",
    "            file.write(' \\n')\n",
    "            file.write('                (%f %f %f %f)' % (a[1], a[0], b[1], b[0]))\n",
    "        file.write('))')\n",
    "        \n",
    "    file.write('))\\n')"
   ]
  }
 ],
 "metadata": {
  "kernelspec": {
   "display_name": "Python 3",
   "language": "python",
   "name": "python3"
  },
  "language_info": {
   "codemirror_mode": {
    "name": "ipython",
    "version": 3
   },
   "file_extension": ".py",
   "mimetype": "text/x-python",
   "name": "python",
   "nbconvert_exporter": "python",
   "pygments_lexer": "ipython3",
   "version": "3.6.5"
  }
 },
 "nbformat": 4,
 "nbformat_minor": 2
}
