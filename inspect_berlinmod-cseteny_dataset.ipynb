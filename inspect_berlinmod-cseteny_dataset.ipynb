{
 "cells": [
  {
   "cell_type": "code",
   "execution_count": 1,
   "metadata": {},
   "outputs": [],
   "source": [
    "import pandas as pd\n",
    "import numpy as np\n",
    "\n",
    "import matplotlib.pyplot as plt\n",
    "% matplotlib inline\n",
    "plt.style.use('ggplot')\n",
    "\n",
    "import cartopy.crs as ccrs\n",
    "import cartopy.feature as cfeat\n",
    "import cartopy.io.img_tiles as cimgt"
   ]
  },
  {
   "cell_type": "code",
   "execution_count": 2,
   "metadata": {},
   "outputs": [],
   "source": [
    "df = pd.read_pickle('datasets/berlinmod-test2.pkl')"
   ]
  },
  {
   "cell_type": "code",
   "execution_count": 3,
   "metadata": {},
   "outputs": [
    {
     "data": {
      "text/plain": [
       "(370, 3)"
      ]
     },
     "execution_count": 3,
     "metadata": {},
     "output_type": "execute_result"
    }
   ],
   "source": [
    "df.shape"
   ]
  },
  {
   "cell_type": "code",
   "execution_count": 4,
   "metadata": {},
   "outputs": [
    {
     "data": {
      "text/html": [
       "<div>\n",
       "<style scoped>\n",
       "    .dataframe tbody tr th:only-of-type {\n",
       "        vertical-align: middle;\n",
       "    }\n",
       "\n",
       "    .dataframe tbody tr th {\n",
       "        vertical-align: top;\n",
       "    }\n",
       "\n",
       "    .dataframe thead th {\n",
       "        text-align: right;\n",
       "    }\n",
       "</style>\n",
       "<table border=\"1\" class=\"dataframe\">\n",
       "  <thead>\n",
       "    <tr style=\"text-align: right;\">\n",
       "      <th></th>\n",
       "      <th></th>\n",
       "      <th>longitude</th>\n",
       "      <th>latitude</th>\n",
       "      <th>trip</th>\n",
       "    </tr>\n",
       "    <tr>\n",
       "      <th>Moid</th>\n",
       "      <th>time</th>\n",
       "      <th></th>\n",
       "      <th></th>\n",
       "      <th></th>\n",
       "    </tr>\n",
       "  </thead>\n",
       "  <tbody>\n",
       "    <tr>\n",
       "      <th rowspan=\"2\" valign=\"top\">1</th>\n",
       "      <th>2007-05-27 00:00:00.000</th>\n",
       "      <td>17.9888</td>\n",
       "      <td>47.3159</td>\n",
       "      <td>1</td>\n",
       "    </tr>\n",
       "    <tr>\n",
       "      <th>2007-05-29 09:08:08.941</th>\n",
       "      <td>17.9888</td>\n",
       "      <td>47.3159</td>\n",
       "      <td>1</td>\n",
       "    </tr>\n",
       "    <tr>\n",
       "      <th rowspan=\"3\" valign=\"top\">3</th>\n",
       "      <th>2007-05-27 00:00:00.000</th>\n",
       "      <td>17.9888</td>\n",
       "      <td>47.3159</td>\n",
       "      <td>2</td>\n",
       "    </tr>\n",
       "    <tr>\n",
       "      <th>2007-05-29 09:57:29.116</th>\n",
       "      <td>17.9888</td>\n",
       "      <td>47.3159</td>\n",
       "      <td>2</td>\n",
       "    </tr>\n",
       "    <tr>\n",
       "      <th>2007-05-29 21:11:01.801</th>\n",
       "      <td>17.9888</td>\n",
       "      <td>47.3159</td>\n",
       "      <td>2</td>\n",
       "    </tr>\n",
       "    <tr>\n",
       "      <th rowspan=\"5\" valign=\"top\">5</th>\n",
       "      <th>2007-05-27 00:00:00.000</th>\n",
       "      <td>17.9561</td>\n",
       "      <td>47.3131</td>\n",
       "      <td>3</td>\n",
       "    </tr>\n",
       "    <tr>\n",
       "      <th>2007-05-28 09:23:49.649</th>\n",
       "      <td>17.9561</td>\n",
       "      <td>47.3131</td>\n",
       "      <td>4</td>\n",
       "    </tr>\n",
       "    <tr>\n",
       "      <th>2007-05-28 09:23:49.650</th>\n",
       "      <td>17.9888</td>\n",
       "      <td>47.3159</td>\n",
       "      <td>5</td>\n",
       "    </tr>\n",
       "    <tr>\n",
       "      <th>2007-05-28 14:33:31.157</th>\n",
       "      <td>17.9888</td>\n",
       "      <td>47.3159</td>\n",
       "      <td>5</td>\n",
       "    </tr>\n",
       "    <tr>\n",
       "      <th>2007-05-29 08:18:53.058</th>\n",
       "      <td>17.9561</td>\n",
       "      <td>47.3131</td>\n",
       "      <td>6</td>\n",
       "    </tr>\n",
       "  </tbody>\n",
       "</table>\n",
       "</div>"
      ],
      "text/plain": [
       "                              longitude  latitude  trip\n",
       "Moid time                                              \n",
       "1    2007-05-27 00:00:00.000    17.9888   47.3159     1\n",
       "     2007-05-29 09:08:08.941    17.9888   47.3159     1\n",
       "3    2007-05-27 00:00:00.000    17.9888   47.3159     2\n",
       "     2007-05-29 09:57:29.116    17.9888   47.3159     2\n",
       "     2007-05-29 21:11:01.801    17.9888   47.3159     2\n",
       "5    2007-05-27 00:00:00.000    17.9561   47.3131     3\n",
       "     2007-05-28 09:23:49.649    17.9561   47.3131     4\n",
       "     2007-05-28 09:23:49.650    17.9888   47.3159     5\n",
       "     2007-05-28 14:33:31.157    17.9888   47.3159     5\n",
       "     2007-05-29 08:18:53.058    17.9561   47.3131     6"
      ]
     },
     "execution_count": 4,
     "metadata": {},
     "output_type": "execute_result"
    }
   ],
   "source": [
    "df.head(10)"
   ]
  },
  {
   "cell_type": "code",
   "execution_count": 15,
   "metadata": {},
   "outputs": [
    {
     "data": {
      "text/plain": [
       "(111,)"
      ]
     },
     "execution_count": 15,
     "metadata": {},
     "output_type": "execute_result"
    }
   ],
   "source": [
    "df.index.unique(0).shape"
   ]
  },
  {
   "cell_type": "code",
   "execution_count": 16,
   "metadata": {},
   "outputs": [
    {
     "data": {
      "text/plain": [
       "(135,)"
      ]
     },
     "execution_count": 16,
     "metadata": {},
     "output_type": "execute_result"
    }
   ],
   "source": [
    "df['trip'].unique().shape"
   ]
  },
  {
   "cell_type": "code",
   "execution_count": 5,
   "metadata": {},
   "outputs": [
    {
     "data": {
      "text/plain": [
       "count    370.000000\n",
       "mean      47.315007\n",
       "std        0.001329\n",
       "min       47.313100\n",
       "25%       47.313100\n",
       "50%       47.315900\n",
       "75%       47.315900\n",
       "max       47.319200\n",
       "Name: latitude, dtype: float64"
      ]
     },
     "execution_count": 5,
     "metadata": {},
     "output_type": "execute_result"
    }
   ],
   "source": [
    "df['latitude'].describe()"
   ]
  },
  {
   "cell_type": "code",
   "execution_count": 6,
   "metadata": {},
   "outputs": [
    {
     "data": {
      "text/plain": [
       "count    370.000000\n",
       "mean      17.978236\n",
       "std        0.015316\n",
       "min       17.956100\n",
       "25%       17.956100\n",
       "50%       17.988800\n",
       "75%       17.988800\n",
       "max       18.002500\n",
       "Name: longitude, dtype: float64"
      ]
     },
     "execution_count": 6,
     "metadata": {},
     "output_type": "execute_result"
    }
   ],
   "source": [
    "df['longitude'].describe()"
   ]
  },
  {
   "cell_type": "code",
   "execution_count": 22,
   "metadata": {},
   "outputs": [
    {
     "data": {
      "image/png": "[encoded data removed]",
      "text/plain": [
       "<Figure size 792x792 with 1 Axes>"
      ]
     },
     "metadata": {},
     "output_type": "display_data"
    }
   ],
   "source": [
    "plt.figure(figsize = (11, 11))\n",
    "    \n",
    "img = cimgt.GoogleTiles()\n",
    "\n",
    "ax = plt.axes(projection = img.crs)\n",
    "#ax.set_extent((9.8457000, 9.8852000, 53.2732000, 53.29710005))\n",
    "#ax.set_extent((17.9836000, 18.0123000, 47.3096000, 47.3265000))\n",
    "#ax.set_extent((df['longitude'].min(), df['longitude'].max(), df['latitude'].min(), df['latitude'].max()))\n",
    "#ax.set_extent((17.956100, 18.002500, 47.313100, 47.319200))\n",
    "ax.set_extent((17.945147, 18.0201297, 47.2902535, 47.334994))\n",
    "    \n",
    "#ax.add_image(img, 12, interpolation = 'bicubic')\n",
    "\n",
    "for moid in df.index.levels[0]:\n",
    "    lats = df.loc[moid]['latitude']\n",
    "    lons = df.loc[moid]['longitude']\n",
    "    plt.plot(lons, lats, 'o--', transform=ccrs.PlateCarree())"
   ]
  }
 ],
 "metadata": {
  "kernelspec": {
   "display_name": "Python 3",
   "language": "python",
   "name": "python3"
  },
  "language_info": {
   "codemirror_mode": {
    "name": "ipython",
    "version": 3
   },
   "file_extension": ".py",
   "mimetype": "text/x-python",
   "name": "python",
   "nbconvert_exporter": "python",
   "pygments_lexer": "ipython3",
   "version": "3.6.5"
  }
 },
 "nbformat": 4,
 "nbformat_minor": 2
}
