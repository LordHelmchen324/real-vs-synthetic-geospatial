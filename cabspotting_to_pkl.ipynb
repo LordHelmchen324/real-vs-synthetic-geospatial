{
 "cells": [
  {
   "cell_type": "code",
   "execution_count": 1,
   "metadata": {},
   "outputs": [],
   "source": [
    "import pandas as pd\n",
    "import numpy as np\n",
    "\n",
    "import os"
   ]
  },
  {
   "cell_type": "code",
   "execution_count": 2,
   "metadata": {},
   "outputs": [],
   "source": [
    "# Read data from trajectory files\n",
    "\n",
    "ts = []\n",
    "names = ['latitude', 'longitude', 'occupied', 'time']\n",
    "\n",
    "for root, _, filenames in os.walk('./datasets/cabspotting/'):\n",
    "    for filename in filenames:\n",
    "        if filename.startswith('new_'):\n",
    "            path = os.path.join(root, filename)\n",
    "            taxi = filename[4:-4]\n",
    "            \n",
    "            t = pd.read_csv(path, names=names, index_col=False, sep=' ')\n",
    "    \n",
    "            t['time'] = pd.to_datetime(t['time'], unit='s')\n",
    "            t['taxi'] = taxi\n",
    "            \n",
    "            ts.append(t)\n",
    "\n",
    "df = pd.concat(ts, ignore_index=True)"
   ]
  },
  {
   "cell_type": "code",
   "execution_count": 3,
   "metadata": {},
   "outputs": [
    {
     "data": {
      "text/plain": [
       "(11219955, 5)"
      ]
     },
     "execution_count": 3,
     "metadata": {},
     "output_type": "execute_result"
    }
   ],
   "source": [
    "df.shape"
   ]
  },
  {
   "cell_type": "code",
   "execution_count": 4,
   "metadata": {},
   "outputs": [
    {
     "data": {
      "text/html": [
       "<div>\n",
       "<style scoped>\n",
       "    .dataframe tbody tr th:only-of-type {\n",
       "        vertical-align: middle;\n",
       "    }\n",
       "\n",
       "    .dataframe tbody tr th {\n",
       "        vertical-align: top;\n",
       "    }\n",
       "\n",
       "    .dataframe thead th {\n",
       "        text-align: right;\n",
       "    }\n",
       "</style>\n",
       "<table border=\"1\" class=\"dataframe\">\n",
       "  <thead>\n",
       "    <tr style=\"text-align: right;\">\n",
       "      <th></th>\n",
       "      <th>latitude</th>\n",
       "      <th>longitude</th>\n",
       "      <th>occupied</th>\n",
       "      <th>time</th>\n",
       "      <th>taxi</th>\n",
       "    </tr>\n",
       "  </thead>\n",
       "  <tbody>\n",
       "    <tr>\n",
       "      <th>0</th>\n",
       "      <td>37.61549</td>\n",
       "      <td>-122.38821</td>\n",
       "      <td>0</td>\n",
       "      <td>2008-06-09 18:43:48</td>\n",
       "      <td>adkavy</td>\n",
       "    </tr>\n",
       "    <tr>\n",
       "      <th>1</th>\n",
       "      <td>37.61562</td>\n",
       "      <td>-122.38849</td>\n",
       "      <td>0</td>\n",
       "      <td>2008-06-09 18:42:48</td>\n",
       "      <td>adkavy</td>\n",
       "    </tr>\n",
       "    <tr>\n",
       "      <th>2</th>\n",
       "      <td>37.61518</td>\n",
       "      <td>-122.39029</td>\n",
       "      <td>0</td>\n",
       "      <td>2008-06-09 18:41:43</td>\n",
       "      <td>adkavy</td>\n",
       "    </tr>\n",
       "    <tr>\n",
       "      <th>3</th>\n",
       "      <td>37.61393</td>\n",
       "      <td>-122.39508</td>\n",
       "      <td>0</td>\n",
       "      <td>2008-06-09 18:40:43</td>\n",
       "      <td>adkavy</td>\n",
       "    </tr>\n",
       "    <tr>\n",
       "      <th>4</th>\n",
       "      <td>37.60493</td>\n",
       "      <td>-122.38362</td>\n",
       "      <td>0</td>\n",
       "      <td>2008-06-09 18:39:43</td>\n",
       "      <td>adkavy</td>\n",
       "    </tr>\n",
       "  </tbody>\n",
       "</table>\n",
       "</div>"
      ],
      "text/plain": [
       "   latitude  longitude  occupied                time    taxi\n",
       "0  37.61549 -122.38821         0 2008-06-09 18:43:48  adkavy\n",
       "1  37.61562 -122.38849         0 2008-06-09 18:42:48  adkavy\n",
       "2  37.61518 -122.39029         0 2008-06-09 18:41:43  adkavy\n",
       "3  37.61393 -122.39508         0 2008-06-09 18:40:43  adkavy\n",
       "4  37.60493 -122.38362         0 2008-06-09 18:39:43  adkavy"
      ]
     },
     "execution_count": 4,
     "metadata": {},
     "output_type": "execute_result"
    }
   ],
   "source": [
    "df.head()"
   ]
  },
  {
   "cell_type": "code",
   "execution_count": 5,
   "metadata": {},
   "outputs": [
    {
     "data": {
      "text/plain": [
       "(536,)"
      ]
     },
     "execution_count": 5,
     "metadata": {},
     "output_type": "execute_result"
    }
   ],
   "source": [
    "df['taxi'].unique().shape"
   ]
  },
  {
   "cell_type": "code",
   "execution_count": 6,
   "metadata": {},
   "outputs": [
    {
     "data": {
      "text/plain": [
       "count                11219955\n",
       "unique                2023603\n",
       "top       2008-05-24 07:03:55\n",
       "freq                      414\n",
       "first     2008-05-17 10:00:04\n",
       "last      2008-06-10 09:25:34\n",
       "Name: time, dtype: object"
      ]
     },
     "execution_count": 6,
     "metadata": {},
     "output_type": "execute_result"
    }
   ],
   "source": [
    "df['time'].describe()"
   ]
  },
  {
   "cell_type": "code",
   "execution_count": 7,
   "metadata": {},
   "outputs": [],
   "source": [
    "# Change the way the dataset is indexed\n",
    "\n",
    "df_reindexed = df.set_index(['taxi', 'time'])\n",
    "df_reindexed.sort_index(inplace=True)"
   ]
  },
  {
   "cell_type": "code",
   "execution_count": 8,
   "metadata": {},
   "outputs": [
    {
     "data": {
      "text/html": [
       "<div>\n",
       "<style scoped>\n",
       "    .dataframe tbody tr th:only-of-type {\n",
       "        vertical-align: middle;\n",
       "    }\n",
       "\n",
       "    .dataframe tbody tr th {\n",
       "        vertical-align: top;\n",
       "    }\n",
       "\n",
       "    .dataframe thead th {\n",
       "        text-align: right;\n",
       "    }\n",
       "</style>\n",
       "<table border=\"1\" class=\"dataframe\">\n",
       "  <thead>\n",
       "    <tr style=\"text-align: right;\">\n",
       "      <th></th>\n",
       "      <th></th>\n",
       "      <th>latitude</th>\n",
       "      <th>longitude</th>\n",
       "      <th>occupied</th>\n",
       "    </tr>\n",
       "    <tr>\n",
       "      <th>taxi</th>\n",
       "      <th>time</th>\n",
       "      <th></th>\n",
       "      <th></th>\n",
       "      <th></th>\n",
       "    </tr>\n",
       "  </thead>\n",
       "  <tbody>\n",
       "    <tr>\n",
       "      <th rowspan=\"10\" valign=\"top\">abboip</th>\n",
       "      <th>2008-05-17 14:12:10</th>\n",
       "      <td>37.75153</td>\n",
       "      <td>-122.39447</td>\n",
       "      <td>0</td>\n",
       "    </tr>\n",
       "    <tr>\n",
       "      <th>2008-05-17 14:13:34</th>\n",
       "      <td>37.75149</td>\n",
       "      <td>-122.39447</td>\n",
       "      <td>0</td>\n",
       "    </tr>\n",
       "    <tr>\n",
       "      <th>2008-05-17 14:14:34</th>\n",
       "      <td>37.75149</td>\n",
       "      <td>-122.39447</td>\n",
       "      <td>0</td>\n",
       "    </tr>\n",
       "    <tr>\n",
       "      <th>2008-05-17 14:15:35</th>\n",
       "      <td>37.75149</td>\n",
       "      <td>-122.39446</td>\n",
       "      <td>0</td>\n",
       "    </tr>\n",
       "    <tr>\n",
       "      <th>2008-05-17 14:41:43</th>\n",
       "      <td>37.75144</td>\n",
       "      <td>-122.39449</td>\n",
       "      <td>0</td>\n",
       "    </tr>\n",
       "    <tr>\n",
       "      <th>2008-05-17 14:42:54</th>\n",
       "      <td>37.75151</td>\n",
       "      <td>-122.39453</td>\n",
       "      <td>0</td>\n",
       "    </tr>\n",
       "    <tr>\n",
       "      <th>2008-05-17 14:43:54</th>\n",
       "      <td>37.75137</td>\n",
       "      <td>-122.39502</td>\n",
       "      <td>0</td>\n",
       "    </tr>\n",
       "    <tr>\n",
       "      <th>2008-05-17 14:44:49</th>\n",
       "      <td>37.75139</td>\n",
       "      <td>-122.39498</td>\n",
       "      <td>0</td>\n",
       "    </tr>\n",
       "    <tr>\n",
       "      <th>2008-05-17 14:45:49</th>\n",
       "      <td>37.75140</td>\n",
       "      <td>-122.39495</td>\n",
       "      <td>0</td>\n",
       "    </tr>\n",
       "    <tr>\n",
       "      <th>2008-05-17 14:46:50</th>\n",
       "      <td>37.75140</td>\n",
       "      <td>-122.39496</td>\n",
       "      <td>0</td>\n",
       "    </tr>\n",
       "  </tbody>\n",
       "</table>\n",
       "</div>"
      ],
      "text/plain": [
       "                            latitude  longitude  occupied\n",
       "taxi   time                                              \n",
       "abboip 2008-05-17 14:12:10  37.75153 -122.39447         0\n",
       "       2008-05-17 14:13:34  37.75149 -122.39447         0\n",
       "       2008-05-17 14:14:34  37.75149 -122.39447         0\n",
       "       2008-05-17 14:15:35  37.75149 -122.39446         0\n",
       "       2008-05-17 14:41:43  37.75144 -122.39449         0\n",
       "       2008-05-17 14:42:54  37.75151 -122.39453         0\n",
       "       2008-05-17 14:43:54  37.75137 -122.39502         0\n",
       "       2008-05-17 14:44:49  37.75139 -122.39498         0\n",
       "       2008-05-17 14:45:49  37.75140 -122.39495         0\n",
       "       2008-05-17 14:46:50  37.75140 -122.39496         0"
      ]
     },
     "execution_count": 8,
     "metadata": {},
     "output_type": "execute_result"
    }
   ],
   "source": [
    "df_reindexed.head(10)"
   ]
  },
  {
   "cell_type": "code",
   "execution_count": 9,
   "metadata": {},
   "outputs": [],
   "source": [
    "# Save the dataset to .pkl\n",
    "\n",
    "df_reindexed.to_pickle('./datasets/cabspotting.pkl')"
   ]
  }
 ],
 "metadata": {
  "kernelspec": {
   "display_name": "Python 3",
   "language": "python",
   "name": "python3"
  },
  "language_info": {
   "codemirror_mode": {
    "name": "ipython",
    "version": 3
   },
   "file_extension": ".py",
   "mimetype": "text/x-python",
   "name": "python",
   "nbconvert_exporter": "python",
   "pygments_lexer": "ipython3",
   "version": "3.6.5"
  }
 },
 "nbformat": 4,
 "nbformat_minor": 2
}
