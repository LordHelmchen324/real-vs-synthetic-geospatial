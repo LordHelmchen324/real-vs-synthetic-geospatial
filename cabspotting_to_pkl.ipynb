{
 "cells": [
  {
   "cell_type": "code",
   "execution_count": 1,
   "metadata": {},
   "outputs": [],
   "source": [
    "import pandas as pd\n",
    "import numpy as np\n",
    "\n",
    "import os"
   ]
  },
  {
   "cell_type": "code",
   "execution_count": 2,
   "metadata": {},
   "outputs": [],
   "source": [
    "# Read data from trajectory files\n",
    "\n",
    "ts = []\n",
    "names = ['latitude', 'longitude', 'occupied', 'time']\n",
    "\n",
    "for root, _, filenames in os.walk('./datasets/cabspotting/'):\n",
    "    for filename in filenames:\n",
    "        if filename.startswith('new_'):\n",
    "            path = os.path.join(root, filename)\n",
    "            taxi = filename[4:-4]\n",
    "            \n",
    "            t = pd.read_csv(path, names=names, skiprows=6, index_col=False, sep=' ')\n",
    "    \n",
    "            t['time'] = pd.to_datetime(t['time'], unit='s')\n",
    "            t['taxi'] = taxi\n",
    "            \n",
    "            ts.append(t)\n",
    "\n",
    "df = pd.concat(ts, ignore_index=True)"
   ]
  },
  {
   "cell_type": "code",
   "execution_count": 3,
   "metadata": {},
   "outputs": [
    {
     "data": {
      "text/plain": [
       "(11216739, 5)"
      ]
     },
     "execution_count": 3,
     "metadata": {},
     "output_type": "execute_result"
    }
   ],
   "source": [
    "df.shape"
   ]
  },
  {
   "cell_type": "code",
   "execution_count": 4,
   "metadata": {},
   "outputs": [
    {
     "data": {
      "text/html": [
       "<div>\n",
       "<style scoped>\n",
       "    .dataframe tbody tr th:only-of-type {\n",
       "        vertical-align: middle;\n",
       "    }\n",
       "\n",
       "    .dataframe tbody tr th {\n",
       "        vertical-align: top;\n",
       "    }\n",
       "\n",
       "    .dataframe thead th {\n",
       "        text-align: right;\n",
       "    }\n",
       "</style>\n",
       "<table border=\"1\" class=\"dataframe\">\n",
       "  <thead>\n",
       "    <tr style=\"text-align: right;\">\n",
       "      <th></th>\n",
       "      <th>latitude</th>\n",
       "      <th>longitude</th>\n",
       "      <th>occupied</th>\n",
       "      <th>time</th>\n",
       "      <th>taxi</th>\n",
       "    </tr>\n",
       "  </thead>\n",
       "  <tbody>\n",
       "    <tr>\n",
       "      <th>0</th>\n",
       "      <td>37.58817</td>\n",
       "      <td>-122.35750</td>\n",
       "      <td>0</td>\n",
       "      <td>2008-06-09 18:38:09</td>\n",
       "      <td>adkavy</td>\n",
       "    </tr>\n",
       "    <tr>\n",
       "      <th>1</th>\n",
       "      <td>37.58696</td>\n",
       "      <td>-122.34099</td>\n",
       "      <td>0</td>\n",
       "      <td>2008-06-09 18:37:37</td>\n",
       "      <td>adkavy</td>\n",
       "    </tr>\n",
       "    <tr>\n",
       "      <th>2</th>\n",
       "      <td>37.58176</td>\n",
       "      <td>-122.32580</td>\n",
       "      <td>0</td>\n",
       "      <td>2008-06-09 18:36:36</td>\n",
       "      <td>adkavy</td>\n",
       "    </tr>\n",
       "    <tr>\n",
       "      <th>3</th>\n",
       "      <td>37.57136</td>\n",
       "      <td>-122.31451</td>\n",
       "      <td>0</td>\n",
       "      <td>2008-06-09 18:35:42</td>\n",
       "      <td>adkavy</td>\n",
       "    </tr>\n",
       "    <tr>\n",
       "      <th>4</th>\n",
       "      <td>37.56099</td>\n",
       "      <td>-122.30327</td>\n",
       "      <td>0</td>\n",
       "      <td>2008-06-09 18:34:58</td>\n",
       "      <td>adkavy</td>\n",
       "    </tr>\n",
       "  </tbody>\n",
       "</table>\n",
       "</div>"
      ],
      "text/plain": [
       "   latitude  longitude  occupied                time    taxi\n",
       "0  37.58817 -122.35750         0 2008-06-09 18:38:09  adkavy\n",
       "1  37.58696 -122.34099         0 2008-06-09 18:37:37  adkavy\n",
       "2  37.58176 -122.32580         0 2008-06-09 18:36:36  adkavy\n",
       "3  37.57136 -122.31451         0 2008-06-09 18:35:42  adkavy\n",
       "4  37.56099 -122.30327         0 2008-06-09 18:34:58  adkavy"
      ]
     },
     "execution_count": 4,
     "metadata": {},
     "output_type": "execute_result"
    }
   ],
   "source": [
    "df.head()"
   ]
  },
  {
   "cell_type": "code",
   "execution_count": 5,
   "metadata": {},
   "outputs": [
    {
     "data": {
      "text/plain": [
       "(536,)"
      ]
     },
     "execution_count": 5,
     "metadata": {},
     "output_type": "execute_result"
    }
   ],
   "source": [
    "df['taxi'].unique().shape"
   ]
  },
  {
   "cell_type": "code",
   "execution_count": 9,
   "metadata": {},
   "outputs": [
    {
     "data": {
      "text/plain": [
       "count                11216739\n",
       "unique                2023173\n",
       "top       2008-05-24 07:03:55\n",
       "freq                      414\n",
       "first     2008-05-17 10:00:04\n",
       "last      2008-06-10 09:18:30\n",
       "Name: time, dtype: object"
      ]
     },
     "execution_count": 9,
     "metadata": {},
     "output_type": "execute_result"
    }
   ],
   "source": [
    "df['time'].describe()"
   ]
  },
  {
   "cell_type": "code",
   "execution_count": 14,
   "metadata": {},
   "outputs": [],
   "source": [
    "# Change the way the dataset is indexed\n",
    "\n",
    "df_reindexed = df.set_index(['taxi', 'time'])\n",
    "df.sort_index(inplace=True)"
   ]
  },
  {
   "cell_type": "code",
   "execution_count": 15,
   "metadata": {},
   "outputs": [
    {
     "data": {
      "text/html": [
       "<div>\n",
       "<style scoped>\n",
       "    .dataframe tbody tr th:only-of-type {\n",
       "        vertical-align: middle;\n",
       "    }\n",
       "\n",
       "    .dataframe tbody tr th {\n",
       "        vertical-align: top;\n",
       "    }\n",
       "\n",
       "    .dataframe thead th {\n",
       "        text-align: right;\n",
       "    }\n",
       "</style>\n",
       "<table border=\"1\" class=\"dataframe\">\n",
       "  <thead>\n",
       "    <tr style=\"text-align: right;\">\n",
       "      <th></th>\n",
       "      <th></th>\n",
       "      <th>latitude</th>\n",
       "      <th>longitude</th>\n",
       "      <th>occupied</th>\n",
       "    </tr>\n",
       "    <tr>\n",
       "      <th>taxi</th>\n",
       "      <th>time</th>\n",
       "      <th></th>\n",
       "      <th></th>\n",
       "      <th></th>\n",
       "    </tr>\n",
       "  </thead>\n",
       "  <tbody>\n",
       "    <tr>\n",
       "      <th rowspan=\"10\" valign=\"top\">adkavy</th>\n",
       "      <th>2008-06-09 18:38:09</th>\n",
       "      <td>37.58817</td>\n",
       "      <td>-122.35750</td>\n",
       "      <td>0</td>\n",
       "    </tr>\n",
       "    <tr>\n",
       "      <th>2008-06-09 18:37:37</th>\n",
       "      <td>37.58696</td>\n",
       "      <td>-122.34099</td>\n",
       "      <td>0</td>\n",
       "    </tr>\n",
       "    <tr>\n",
       "      <th>2008-06-09 18:36:36</th>\n",
       "      <td>37.58176</td>\n",
       "      <td>-122.32580</td>\n",
       "      <td>0</td>\n",
       "    </tr>\n",
       "    <tr>\n",
       "      <th>2008-06-09 18:35:42</th>\n",
       "      <td>37.57136</td>\n",
       "      <td>-122.31451</td>\n",
       "      <td>0</td>\n",
       "    </tr>\n",
       "    <tr>\n",
       "      <th>2008-06-09 18:34:58</th>\n",
       "      <td>37.56099</td>\n",
       "      <td>-122.30327</td>\n",
       "      <td>0</td>\n",
       "    </tr>\n",
       "    <tr>\n",
       "      <th>2008-06-09 18:34:16</th>\n",
       "      <td>37.55003</td>\n",
       "      <td>-122.29296</td>\n",
       "      <td>0</td>\n",
       "    </tr>\n",
       "    <tr>\n",
       "      <th>2008-06-09 18:33:10</th>\n",
       "      <td>37.53917</td>\n",
       "      <td>-122.28291</td>\n",
       "      <td>0</td>\n",
       "    </tr>\n",
       "    <tr>\n",
       "      <th>2008-06-09 18:32:22</th>\n",
       "      <td>37.52851</td>\n",
       "      <td>-122.27257</td>\n",
       "      <td>0</td>\n",
       "    </tr>\n",
       "    <tr>\n",
       "      <th>2008-06-09 18:31:33</th>\n",
       "      <td>37.51820</td>\n",
       "      <td>-122.26090</td>\n",
       "      <td>0</td>\n",
       "    </tr>\n",
       "    <tr>\n",
       "      <th>2008-06-09 18:30:46</th>\n",
       "      <td>37.50827</td>\n",
       "      <td>-122.24961</td>\n",
       "      <td>0</td>\n",
       "    </tr>\n",
       "  </tbody>\n",
       "</table>\n",
       "</div>"
      ],
      "text/plain": [
       "                            latitude  longitude  occupied\n",
       "taxi   time                                              \n",
       "adkavy 2008-06-09 18:38:09  37.58817 -122.35750         0\n",
       "       2008-06-09 18:37:37  37.58696 -122.34099         0\n",
       "       2008-06-09 18:36:36  37.58176 -122.32580         0\n",
       "       2008-06-09 18:35:42  37.57136 -122.31451         0\n",
       "       2008-06-09 18:34:58  37.56099 -122.30327         0\n",
       "       2008-06-09 18:34:16  37.55003 -122.29296         0\n",
       "       2008-06-09 18:33:10  37.53917 -122.28291         0\n",
       "       2008-06-09 18:32:22  37.52851 -122.27257         0\n",
       "       2008-06-09 18:31:33  37.51820 -122.26090         0\n",
       "       2008-06-09 18:30:46  37.50827 -122.24961         0"
      ]
     },
     "execution_count": 15,
     "metadata": {},
     "output_type": "execute_result"
    }
   ],
   "source": [
    "df_reindexed.head(10)"
   ]
  },
  {
   "cell_type": "code",
   "execution_count": 16,
   "metadata": {},
   "outputs": [],
   "source": [
    "# Save the dataset to .pkl\n",
    "\n",
    "df_reindexed.to_pickle('./datasets/cabspotting.pkl')"
   ]
  }
 ],
 "metadata": {
  "kernelspec": {
   "display_name": "Python 3",
   "language": "python",
   "name": "python3"
  },
  "language_info": {
   "codemirror_mode": {
    "name": "ipython",
    "version": 3
   },
   "file_extension": ".py",
   "mimetype": "text/x-python",
   "name": "python",
   "nbconvert_exporter": "python",
   "pygments_lexer": "ipython3",
   "version": "3.6.5"
  }
 },
 "nbformat": 4,
 "nbformat_minor": 2
}
