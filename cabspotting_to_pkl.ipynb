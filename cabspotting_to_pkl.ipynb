{
 "cells": [
  {
   "cell_type": "code",
   "execution_count": 1,
   "metadata": {},
   "outputs": [],
   "source": [
    "import pandas as pd\n",
    "import numpy as np\n",
    "\n",
    "import os"
   ]
  },
  {
   "cell_type": "code",
   "execution_count": 2,
   "metadata": {},
   "outputs": [],
   "source": [
    "# Read data from trajectory files\n",
    "\n",
    "ts = []\n",
    "names = ['latitude', 'longitude', 'occupied', 'time']\n",
    "\n",
    "for root, _, filenames in os.walk('./datasets/cabspotting/'):\n",
    "    for filename in filenames:\n",
    "        if filename.startswith('new_'):\n",
    "            path = os.path.join(root, filename)\n",
    "            taxi = filename[4:-4]\n",
    "            \n",
    "            t = pd.read_csv(path, names=names, index_col=False, sep=' ')\n",
    "    \n",
    "            t['time'] = pd.to_datetime(t['time'], unit='s')\n",
    "            t['taxi'] = taxi\n",
    "            \n",
    "            ts.append(t)\n",
    "\n",
    "df = pd.concat(ts, ignore_index=True)"
   ]
  },
  {
   "cell_type": "code",
   "execution_count": 3,
   "metadata": {},
   "outputs": [
    {
     "data": {
      "text/plain": [
       "(11219955, 5)"
      ]
     },
     "execution_count": 3,
     "metadata": {},
     "output_type": "execute_result"
    }
   ],
   "source": [
    "df.shape"
   ]
  },
  {
   "cell_type": "code",
   "execution_count": 4,
   "metadata": {},
   "outputs": [
    {
     "data": {
      "text/html": [
       "<div>\n",
       "<style scoped>\n",
       "    .dataframe tbody tr th:only-of-type {\n",
       "        vertical-align: middle;\n",
       "    }\n",
       "\n",
       "    .dataframe tbody tr th {\n",
       "        vertical-align: top;\n",
       "    }\n",
       "\n",
       "    .dataframe thead th {\n",
       "        text-align: right;\n",
       "    }\n",
       "</style>\n",
       "<table border=\"1\" class=\"dataframe\">\n",
       "  <thead>\n",
       "    <tr style=\"text-align: right;\">\n",
       "      <th></th>\n",
       "      <th>latitude</th>\n",
       "      <th>longitude</th>\n",
       "      <th>occupied</th>\n",
       "      <th>time</th>\n",
       "      <th>taxi</th>\n",
       "    </tr>\n",
       "  </thead>\n",
       "  <tbody>\n",
       "    <tr>\n",
       "      <th>0</th>\n",
       "      <td>37.61549</td>\n",
       "      <td>-122.38821</td>\n",
       "      <td>0</td>\n",
       "      <td>2008-06-09 18:43:48</td>\n",
       "      <td>adkavy</td>\n",
       "    </tr>\n",
       "    <tr>\n",
       "      <th>1</th>\n",
       "      <td>37.61562</td>\n",
       "      <td>-122.38849</td>\n",
       "      <td>0</td>\n",
       "      <td>2008-06-09 18:42:48</td>\n",
       "      <td>adkavy</td>\n",
       "    </tr>\n",
       "    <tr>\n",
       "      <th>2</th>\n",
       "      <td>37.61518</td>\n",
       "      <td>-122.39029</td>\n",
       "      <td>0</td>\n",
       "      <td>2008-06-09 18:41:43</td>\n",
       "      <td>adkavy</td>\n",
       "    </tr>\n",
       "    <tr>\n",
       "      <th>3</th>\n",
       "      <td>37.61393</td>\n",
       "      <td>-122.39508</td>\n",
       "      <td>0</td>\n",
       "      <td>2008-06-09 18:40:43</td>\n",
       "      <td>adkavy</td>\n",
       "    </tr>\n",
       "    <tr>\n",
       "      <th>4</th>\n",
       "      <td>37.60493</td>\n",
       "      <td>-122.38362</td>\n",
       "      <td>0</td>\n",
       "      <td>2008-06-09 18:39:43</td>\n",
       "      <td>adkavy</td>\n",
       "    </tr>\n",
       "  </tbody>\n",
       "</table>\n",
       "</div>"
      ],
      "text/plain": [
       "   latitude  longitude  occupied                time    taxi\n",
       "0  37.61549 -122.38821         0 2008-06-09 18:43:48  adkavy\n",
       "1  37.61562 -122.38849         0 2008-06-09 18:42:48  adkavy\n",
       "2  37.61518 -122.39029         0 2008-06-09 18:41:43  adkavy\n",
       "3  37.61393 -122.39508         0 2008-06-09 18:40:43  adkavy\n",
       "4  37.60493 -122.38362         0 2008-06-09 18:39:43  adkavy"
      ]
     },
     "execution_count": 4,
     "metadata": {},
     "output_type": "execute_result"
    }
   ],
   "source": [
    "df.head()"
   ]
  },
  {
   "cell_type": "code",
   "execution_count": 5,
   "metadata": {},
   "outputs": [
    {
     "data": {
      "text/plain": [
       "(536,)"
      ]
     },
     "execution_count": 5,
     "metadata": {},
     "output_type": "execute_result"
    }
   ],
   "source": [
    "df['taxi'].unique().shape"
   ]
  },
  {
   "cell_type": "code",
   "execution_count": 6,
   "metadata": {},
   "outputs": [
    {
     "data": {
      "text/plain": [
       "count                11219955\n",
       "unique                2023603\n",
       "top       2008-05-24 07:03:55\n",
       "freq                      414\n",
       "first     2008-05-17 10:00:04\n",
       "last      2008-06-10 09:25:34\n",
       "Name: time, dtype: object"
      ]
     },
     "execution_count": 6,
     "metadata": {},
     "output_type": "execute_result"
    }
   ],
   "source": [
    "df['time'].describe()"
   ]
  },
  {
   "cell_type": "code",
   "execution_count": 7,
   "metadata": {},
   "outputs": [],
   "source": [
    "# Change the way the dataset is indexed\n",
    "\n",
    "df_reindexed = df.set_index(['taxi', 'time'])\n",
    "df.sort_index(inplace=True)"
   ]
  },
  {
   "cell_type": "code",
   "execution_count": 8,
   "metadata": {},
   "outputs": [
    {
     "data": {
      "text/html": [
       "<div>\n",
       "<style scoped>\n",
       "    .dataframe tbody tr th:only-of-type {\n",
       "        vertical-align: middle;\n",
       "    }\n",
       "\n",
       "    .dataframe tbody tr th {\n",
       "        vertical-align: top;\n",
       "    }\n",
       "\n",
       "    .dataframe thead th {\n",
       "        text-align: right;\n",
       "    }\n",
       "</style>\n",
       "<table border=\"1\" class=\"dataframe\">\n",
       "  <thead>\n",
       "    <tr style=\"text-align: right;\">\n",
       "      <th></th>\n",
       "      <th></th>\n",
       "      <th>latitude</th>\n",
       "      <th>longitude</th>\n",
       "      <th>occupied</th>\n",
       "    </tr>\n",
       "    <tr>\n",
       "      <th>taxi</th>\n",
       "      <th>time</th>\n",
       "      <th></th>\n",
       "      <th></th>\n",
       "      <th></th>\n",
       "    </tr>\n",
       "  </thead>\n",
       "  <tbody>\n",
       "    <tr>\n",
       "      <th rowspan=\"10\" valign=\"top\">adkavy</th>\n",
       "      <th>2008-06-09 18:43:48</th>\n",
       "      <td>37.61549</td>\n",
       "      <td>-122.38821</td>\n",
       "      <td>0</td>\n",
       "    </tr>\n",
       "    <tr>\n",
       "      <th>2008-06-09 18:42:48</th>\n",
       "      <td>37.61562</td>\n",
       "      <td>-122.38849</td>\n",
       "      <td>0</td>\n",
       "    </tr>\n",
       "    <tr>\n",
       "      <th>2008-06-09 18:41:43</th>\n",
       "      <td>37.61518</td>\n",
       "      <td>-122.39029</td>\n",
       "      <td>0</td>\n",
       "    </tr>\n",
       "    <tr>\n",
       "      <th>2008-06-09 18:40:43</th>\n",
       "      <td>37.61393</td>\n",
       "      <td>-122.39508</td>\n",
       "      <td>0</td>\n",
       "    </tr>\n",
       "    <tr>\n",
       "      <th>2008-06-09 18:39:43</th>\n",
       "      <td>37.60493</td>\n",
       "      <td>-122.38362</td>\n",
       "      <td>0</td>\n",
       "    </tr>\n",
       "    <tr>\n",
       "      <th>2008-06-09 18:38:51</th>\n",
       "      <td>37.59638</td>\n",
       "      <td>-122.37072</td>\n",
       "      <td>0</td>\n",
       "    </tr>\n",
       "    <tr>\n",
       "      <th>2008-06-09 18:38:09</th>\n",
       "      <td>37.58817</td>\n",
       "      <td>-122.35750</td>\n",
       "      <td>0</td>\n",
       "    </tr>\n",
       "    <tr>\n",
       "      <th>2008-06-09 18:37:37</th>\n",
       "      <td>37.58696</td>\n",
       "      <td>-122.34099</td>\n",
       "      <td>0</td>\n",
       "    </tr>\n",
       "    <tr>\n",
       "      <th>2008-06-09 18:36:36</th>\n",
       "      <td>37.58176</td>\n",
       "      <td>-122.32580</td>\n",
       "      <td>0</td>\n",
       "    </tr>\n",
       "    <tr>\n",
       "      <th>2008-06-09 18:35:42</th>\n",
       "      <td>37.57136</td>\n",
       "      <td>-122.31451</td>\n",
       "      <td>0</td>\n",
       "    </tr>\n",
       "  </tbody>\n",
       "</table>\n",
       "</div>"
      ],
      "text/plain": [
       "                            latitude  longitude  occupied\n",
       "taxi   time                                              \n",
       "adkavy 2008-06-09 18:43:48  37.61549 -122.38821         0\n",
       "       2008-06-09 18:42:48  37.61562 -122.38849         0\n",
       "       2008-06-09 18:41:43  37.61518 -122.39029         0\n",
       "       2008-06-09 18:40:43  37.61393 -122.39508         0\n",
       "       2008-06-09 18:39:43  37.60493 -122.38362         0\n",
       "       2008-06-09 18:38:51  37.59638 -122.37072         0\n",
       "       2008-06-09 18:38:09  37.58817 -122.35750         0\n",
       "       2008-06-09 18:37:37  37.58696 -122.34099         0\n",
       "       2008-06-09 18:36:36  37.58176 -122.32580         0\n",
       "       2008-06-09 18:35:42  37.57136 -122.31451         0"
      ]
     },
     "execution_count": 8,
     "metadata": {},
     "output_type": "execute_result"
    }
   ],
   "source": [
    "df_reindexed.head(10)"
   ]
  },
  {
   "cell_type": "code",
   "execution_count": 9,
   "metadata": {},
   "outputs": [],
   "source": [
    "# Save the dataset to .pkl\n",
    "\n",
    "df_reindexed.to_pickle('./datasets/cabspotting.pkl')"
   ]
  }
 ],
 "metadata": {
  "kernelspec": {
   "display_name": "Python 3",
   "language": "python",
   "name": "python3"
  },
  "language_info": {
   "codemirror_mode": {
    "name": "ipython",
    "version": 3
   },
   "file_extension": ".py",
   "mimetype": "text/x-python",
   "name": "python",
   "nbconvert_exporter": "python",
   "pygments_lexer": "ipython3",
   "version": "3.6.5"
  }
 },
 "nbformat": 4,
 "nbformat_minor": 2
}
