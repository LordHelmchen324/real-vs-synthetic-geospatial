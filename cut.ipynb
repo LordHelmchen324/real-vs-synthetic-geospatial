{
 "cells": [
  {
   "cell_type": "code",
   "execution_count": 1,
   "metadata": {},
   "outputs": [],
   "source": [
    "import matplotlib.pyplot as plt\n",
    "import numpy as np\n",
    "import pandas as pd\n",
    "import pickle"
   ]
  },
  {
   "cell_type": "markdown",
   "metadata": {},
   "source": [
    "## Cabspotting"
   ]
  },
  {
   "cell_type": "code",
   "execution_count": 2,
   "metadata": {},
   "outputs": [],
   "source": [
    "cabspotting = pd.read_pickle('data_cabspotting/cabspotting.pkl')"
   ]
  },
  {
   "cell_type": "code",
   "execution_count": 3,
   "metadata": {},
   "outputs": [],
   "source": [
    "cabspotting = cabspotting.reset_index()\n",
    "cabspotting['week'] = cabspotting['time'].dt.year * 52 + cabspotting['time'].dt.week\n",
    "cabspotting['week'] = cabspotting['week'] - cabspotting['week'].min()"
   ]
  },
  {
   "cell_type": "code",
   "execution_count": 4,
   "metadata": {},
   "outputs": [
    {
     "name": "stdout",
     "output_type": "stream",
     "text": [
      "0.0990569035259054\n",
      "['umhenwed' 'ockolral' 'icodmup' 'edglevi' 'uklsdryo' 'itacfl' 'ojpoota'\n",
      " 'evbacclu' 'efgoaku' 'etalrab' 'eagbaci' 'ojvighta' 'efmymo' 'idjokva'\n",
      " 'ogdygdyd' 'okneydy' 'urfhod' 'iodjiesh' 'uvigcho' 'agjitfa' 'ouvdank'\n",
      " 'eedigkr' 'indyep' 'oasthul' 'iapberci' 'iorjtwav' 'idvowwed' 'akyeerbi'\n",
      " 'enekbl' 'eolgug' 'edjiye' 'ithpett' 'ockihoba' 'alsheth' 'ektamy'\n",
      " 'equoaw' 'oafhynu' 'ayshekki' 'oxdoghic' 'okblahed' 'eersdo' 'iblool'\n",
      " 'atsfiv' 'akvutvo' 'onghoji' 'ajixdo' 'ejcrur' 'ujkiwe' 'iawxben'\n",
      " 'oocsodpl']\n"
     ]
    }
   ],
   "source": [
    "random_users = np.random.choice(cabspotting['user'].unique(), 50, replace=False)\n",
    "cabspotting_sampled = cabspotting[cabspotting['user'].isin(random_users)]\n",
    "print(len(cabspotting_sampled) / len(cabspotting))\n",
    "print(random_users)"
   ]
  },
  {
   "cell_type": "code",
   "execution_count": 5,
   "metadata": {},
   "outputs": [
    {
     "name": "stdout",
     "output_type": "stream",
     "text": [
      "Selected week 3\n",
      "0.031062067539486565\n"
     ]
    },
    {
     "data": {
      "image/png": "[encoded data removed]",
      "text/plain": [
       "<Figure size 432x288 with 1 Axes>"
      ]
     },
     "metadata": {
      "needs_background": "light"
     },
     "output_type": "display_data"
    }
   ],
   "source": [
    "hist = np.histogram(cabspotting['week'], bins=range(cabspotting['week'].max() + 2))\n",
    "c_selected_week = hist[1][hist[0].argmax()]\n",
    "print('Selected week {}'.format(c_selected_week))\n",
    "\n",
    "cabspotting_cut = cabspotting_sampled[cabspotting_sampled['week'] == c_selected_week]\n",
    "cabspotting_cut = cabspotting_cut.set_index(['user', 'time'])[['latitude', 'longitude']]\n",
    "print(len(cabspotting_cut) / len(cabspotting))\n",
    "\n",
    "cabspotting['week'].hist(bins=range(cabspotting['week'].max() + 2), align='left')\n",
    "plt.show()"
   ]
  },
  {
   "cell_type": "code",
   "execution_count": 6,
   "metadata": {},
   "outputs": [],
   "source": [
    "cabspotting_cut.to_pickle('data_cabspotting/cabspotting_cut.pkl')\n",
    "del cabspotting\n",
    "del cabspotting_sampled\n",
    "del cabspotting_cut"
   ]
  },
  {
   "cell_type": "markdown",
   "metadata": {},
   "source": [
    "## GeoLife"
   ]
  },
  {
   "cell_type": "code",
   "execution_count": 7,
   "metadata": {},
   "outputs": [],
   "source": [
    "geolife = pd.read_pickle('data_geolife/geolife.pkl')"
   ]
  },
  {
   "cell_type": "code",
   "execution_count": 8,
   "metadata": {},
   "outputs": [],
   "source": [
    "geolife = geolife.reset_index()\n",
    "geolife['week'] = geolife['time'].dt.year * 52 + geolife['time'].dt.week\n",
    "geolife['week'] = geolife['week'] - geolife['week'].min()"
   ]
  },
  {
   "cell_type": "code",
   "execution_count": 9,
   "metadata": {},
   "outputs": [
    {
     "name": "stdout",
     "output_type": "stream",
     "text": [
      "0.29200005724167943\n",
      "[114 143  91  58  18  84  59 142 123 159 115  61 145  47 175 102   3 107\n",
      "   2  64  35  25  27 153  62  46 181 156  11  32  28   5  95 131 117  81\n",
      "  77  13 148  50 169 111  21 141 173 118  96  38 177   6]\n"
     ]
    }
   ],
   "source": [
    "random_users = np.random.choice(geolife['user'].unique(), 50, replace=False)\n",
    "geolife_sampled = geolife[geolife['user'].isin(random_users)]\n",
    "print(len(geolife_sampled) / len(geolife))\n",
    "print(random_users)"
   ]
  },
  {
   "cell_type": "code",
   "execution_count": 10,
   "metadata": {},
   "outputs": [
    {
     "name": "stdout",
     "output_type": "stream",
     "text": [
      "Selected week 404\n",
      "0.0036871841909415204\n"
     ]
    },
    {
     "data": {
      "image/png": "[encoded data removed]",
      "text/plain": [
       "<Figure size 432x288 with 1 Axes>"
      ]
     },
     "metadata": {
      "needs_background": "light"
     },
     "output_type": "display_data"
    }
   ],
   "source": [
    "hist = np.histogram(geolife['week'], bins=range(geolife['week'].max() + 2))\n",
    "c_selected_week = hist[1][hist[0].argmax()]\n",
    "print('Selected week {}'.format(c_selected_week))\n",
    "\n",
    "geolife_cut = geolife_sampled[geolife_sampled['week'] == c_selected_week]\n",
    "geolife_cut = geolife_cut.set_index(['user', 'time'])[['latitude', 'longitude']]\n",
    "print(len(geolife_cut) / len(geolife))\n",
    "\n",
    "geolife['week'].hist(bins=range(geolife['week'].max() + 2), align='left')\n",
    "plt.show()"
   ]
  },
  {
   "cell_type": "code",
   "execution_count": 11,
   "metadata": {},
   "outputs": [],
   "source": [
    "geolife_cut.to_pickle('data_geolife/geolife_cut.pkl')\n",
    "del geolife\n",
    "del geolife_sampled\n",
    "del geolife_cut"
   ]
  },
  {
   "cell_type": "markdown",
   "metadata": {},
   "source": [
    "## MDC"
   ]
  },
  {
   "cell_type": "code",
   "execution_count": 12,
   "metadata": {},
   "outputs": [],
   "source": [
    "mdc = pd.read_pickle('data_mdc/mdc.pkl')"
   ]
  },
  {
   "cell_type": "code",
   "execution_count": 13,
   "metadata": {},
   "outputs": [],
   "source": [
    "mdc = mdc.reset_index()\n",
    "mdc['week'] = mdc['time'].dt.year * 52 + mdc['time'].dt.week\n",
    "mdc['week'] = mdc['week'] - mdc['week'].min()"
   ]
  },
  {
   "cell_type": "code",
   "execution_count": 14,
   "metadata": {},
   "outputs": [
    {
     "name": "stdout",
     "output_type": "stream",
     "text": [
      "0.27424334826807795\n",
      "[6090 5477 5950 5922 5977 6056 6033 5958 5990 6070 5995 6058 6221 6002\n",
      " 5944 5964 6015 5928 6199 5479 6063 6075 5925 5957 5979 6023 6192 5955\n",
      " 6004 5953 6039 6087 5989 6007 5578 6035 6078 6040 5969 5945 6182 6001\n",
      " 5980 6271 6175 6183 6045 5518 6082 6086]\n"
     ]
    }
   ],
   "source": [
    "random_users = np.random.choice(mdc['user'].unique(), 50, replace=False)\n",
    "mdc_sampled = mdc[mdc['user'].isin(random_users)]\n",
    "print(len(mdc_sampled) / len(mdc))\n",
    "print(random_users)"
   ]
  },
  {
   "cell_type": "code",
   "execution_count": 15,
   "metadata": {},
   "outputs": [
    {
     "name": "stdout",
     "output_type": "stream",
     "text": [
      "Selected week 31\n",
      "0.006705794401159532\n"
     ]
    },
    {
     "data": {
      "image/png": "[encoded data removed]",
      "text/plain": [
       "<Figure size 432x288 with 1 Axes>"
      ]
     },
     "metadata": {
      "needs_background": "light"
     },
     "output_type": "display_data"
    }
   ],
   "source": [
    "hist = np.histogram(mdc['week'], bins=range(mdc['week'].max() + 2))\n",
    "c_selected_week = hist[1][hist[0].argmax()]\n",
    "print('Selected week {}'.format(c_selected_week))\n",
    "\n",
    "mdc_cut = mdc_sampled[mdc_sampled['week'] == c_selected_week]\n",
    "mdc_cut = mdc_cut.set_index(['user', 'time'])[['latitude', 'longitude']]\n",
    "print(len(mdc_cut) / len(mdc))\n",
    "\n",
    "mdc['week'].hist(bins=range(mdc['week'].max() + 2), align='left')\n",
    "plt.show()"
   ]
  },
  {
   "cell_type": "code",
   "execution_count": 16,
   "metadata": {},
   "outputs": [],
   "source": [
    "mdc_cut.to_pickle('data_mdc/mdc_cut.pkl')\n",
    "del mdc\n",
    "del mdc_sampled\n",
    "del mdc_cut"
   ]
  },
  {
   "cell_type": "markdown",
   "metadata": {},
   "source": [
    "## T-Drive"
   ]
  },
  {
   "cell_type": "code",
   "execution_count": 17,
   "metadata": {},
   "outputs": [],
   "source": [
    "tdrive = pd.read_pickle('data_t-drive/t-drive.pkl')"
   ]
  },
  {
   "cell_type": "code",
   "execution_count": 18,
   "metadata": {},
   "outputs": [],
   "source": [
    "tdrive = tdrive.reset_index()\n",
    "tdrive['week'] = tdrive['time'].dt.year * 52 + tdrive['time'].dt.week\n",
    "tdrive['week'] = tdrive['week'] - tdrive['week'].min()"
   ]
  },
  {
   "cell_type": "code",
   "execution_count": 19,
   "metadata": {},
   "outputs": [
    {
     "name": "stdout",
     "output_type": "stream",
     "text": [
      "0.004054241344497623\n",
      "[  278  8003  5272  7234   923  6571  6167  3575 10210  6775  9418  9121\n",
      "   740  6283  2683  9806  6389  9426   600  4590  7302   508  7466  8998\n",
      "  6512  9499  2553  7961  2206  2420  2990  5614  3389  2435  2081  8065\n",
      "  9266  5959  6438  1093  4763  7868   400  8660  4024  4734  8368  8832\n",
      "  6486  7064]\n"
     ]
    }
   ],
   "source": [
    "random_users = np.random.choice(tdrive['user'].unique(), 50, replace=False)\n",
    "tdrive_sampled = tdrive[tdrive['user'].isin(random_users)]\n",
    "print(len(tdrive_sampled) / len(tdrive))\n",
    "print(random_users)"
   ]
  },
  {
   "cell_type": "code",
   "execution_count": 20,
   "metadata": {},
   "outputs": [
    {
     "name": "stdout",
     "output_type": "stream",
     "text": [
      "2008-02-02 13:30:44\n",
      "2008-02-08 17:39:19\n",
      "6 days 04:08:35\n"
     ]
    }
   ],
   "source": [
    "print(tdrive['time'].min())\n",
    "print(tdrive['time'].max())\n",
    "print(tdrive['time'].max() - tdrive['time'].min())"
   ]
  },
  {
   "cell_type": "code",
   "execution_count": 21,
   "metadata": {},
   "outputs": [],
   "source": [
    "tdrive_cut = tdrive_sampled"
   ]
  },
  {
   "cell_type": "code",
   "execution_count": 22,
   "metadata": {},
   "outputs": [],
   "source": [
    "tdrive_cut.to_pickle('data_t-drive/tdrive_cut.pkl')\n",
    "del tdrive\n",
    "del tdrive_sampled\n",
    "del tdrive_cut"
   ]
  }
 ],
 "metadata": {
  "kernelspec": {
   "display_name": "Python 3",
   "language": "python",
   "name": "python3"
  },
  "language_info": {
   "codemirror_mode": {
    "name": "ipython",
    "version": 3
   },
   "file_extension": ".py",
   "mimetype": "text/x-python",
   "name": "python",
   "nbconvert_exporter": "python",
   "pygments_lexer": "ipython3",
   "version": "3.6.7"
  }
 },
 "nbformat": 4,
 "nbformat_minor": 2
}
