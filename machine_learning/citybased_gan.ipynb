{
  "nbformat": 4,
  "nbformat_minor": 0,
  "metadata": {
    "colab": {
      "name": "citybased_rnn.ipynb",
      "version": "0.3.2",
      "provenance": [],
      "collapsed_sections": []
    },
    "kernelspec": {
      "display_name": "Python 3",
      "language": "python",
      "name": "python3"
    },
    "accelerator": "GPU"
  },
  "cells": [
    {
      "metadata": {
        "colab_type": "code",
        "id": "BFLtqc6hXszW",
        "outputId": "52991119-5087-4735-bd8d-4b04316db531",
        "colab": {
          "base_uri": "https://localhost:8080/",
          "height": 211
        }
      },
      "cell_type": "code",
      "source": [
        "# Setup of libraries, mounting the Google Drive etc.\n",
        "\n",
        "import os\n",
        "import sys\n",
        "from google.colab import drive\n",
        "drive.mount('/content/gdrive')\n",
        "os.chdir('/content/gdrive/My Drive/Colab Notebooks')\n",
        "\n",
        "import matplotlib.pyplot as plt\n",
        "import numpy as np\n",
        "import pandas as pd\n",
        "import pickle\n",
        "\n",
        "import tensorflow as tf\n",
        "\n",
        "import utils\n",
        "\n",
        "print('The current working directory is:', os.getcwd())"
      ],
      "execution_count": 1,
      "outputs": [
        {
          "output_type": "stream",
          "text": [
            "Go to this URL in a browser: https://accounts.google.com/o/oauth2/auth?client_id=947318989803-6bn6qk8qdgf4n4g3pfee6491hc0brc4i.apps.googleusercontent.com&redirect_uri=urn%3Aietf%3Awg%3Aoauth%3A2.0%3Aoob&scope=email%20https%3A%2F%2Fwww.googleapis.com%2Fauth%2Fdocs.test%20https%3A%2F%2Fwww.googleapis.com%2Fauth%2Fdrive%20https%3A%2F%2Fwww.googleapis.com%2Fauth%2Fdrive.photos.readonly%20https%3A%2F%2Fwww.googleapis.com%2Fauth%2Fpeopleapi.readonly&response_type=code\n",
            "\n",
            "Enter your authorization code:\n",
            "··········\n",
            "Mounted at /content/gdrive\n",
            "The current working directory is: /content/gdrive/My Drive/Colab Notebooks\n"
          ],
          "name": "stdout"
        }
      ]
    },
    {
      "metadata": {
        "colab_type": "text",
        "id": "lHDRiK7LYw2s"
      },
      "cell_type": "markdown",
      "source": [
        "## Read the dataset from `.pkl` file\n"
      ]
    },
    {
      "metadata": {
        "colab_type": "code",
        "id": "rxQz-vmJYEGC",
        "outputId": "71f44914-df25-4c62-fcbb-69ac22022ae9",
        "colab": {
          "base_uri": "https://localhost:8080/",
          "height": 235
        }
      },
      "cell_type": "code",
      "source": [
        "df = pd.read_pickle('datasets/cabspotting.pkl')\n",
        "df.head()"
      ],
      "execution_count": 2,
      "outputs": [
        {
          "output_type": "execute_result",
          "data": {
            "text/html": [
              "<div>\n",
              "<style scoped>\n",
              "    .dataframe tbody tr th:only-of-type {\n",
              "        vertical-align: middle;\n",
              "    }\n",
              "\n",
              "    .dataframe tbody tr th {\n",
              "        vertical-align: top;\n",
              "    }\n",
              "\n",
              "    .dataframe thead th {\n",
              "        text-align: right;\n",
              "    }\n",
              "</style>\n",
              "<table border=\"1\" class=\"dataframe\">\n",
              "  <thead>\n",
              "    <tr style=\"text-align: right;\">\n",
              "      <th></th>\n",
              "      <th></th>\n",
              "      <th>latitude</th>\n",
              "      <th>longitude</th>\n",
              "      <th>occupied</th>\n",
              "    </tr>\n",
              "    <tr>\n",
              "      <th>user</th>\n",
              "      <th>time</th>\n",
              "      <th></th>\n",
              "      <th></th>\n",
              "      <th></th>\n",
              "    </tr>\n",
              "  </thead>\n",
              "  <tbody>\n",
              "    <tr>\n",
              "      <th rowspan=\"5\" valign=\"top\">abboip</th>\n",
              "      <th>2008-05-17 14:12:10</th>\n",
              "      <td>37.75153</td>\n",
              "      <td>-122.39447</td>\n",
              "      <td>0</td>\n",
              "    </tr>\n",
              "    <tr>\n",
              "      <th>2008-05-17 14:13:34</th>\n",
              "      <td>37.75149</td>\n",
              "      <td>-122.39447</td>\n",
              "      <td>0</td>\n",
              "    </tr>\n",
              "    <tr>\n",
              "      <th>2008-05-17 14:14:34</th>\n",
              "      <td>37.75149</td>\n",
              "      <td>-122.39447</td>\n",
              "      <td>0</td>\n",
              "    </tr>\n",
              "    <tr>\n",
              "      <th>2008-05-17 14:15:35</th>\n",
              "      <td>37.75149</td>\n",
              "      <td>-122.39446</td>\n",
              "      <td>0</td>\n",
              "    </tr>\n",
              "    <tr>\n",
              "      <th>2008-05-17 14:41:43</th>\n",
              "      <td>37.75144</td>\n",
              "      <td>-122.39449</td>\n",
              "      <td>0</td>\n",
              "    </tr>\n",
              "  </tbody>\n",
              "</table>\n",
              "</div>"
            ],
            "text/plain": [
              "                            latitude  longitude  occupied\n",
              "user   time                                              \n",
              "abboip 2008-05-17 14:12:10  37.75153 -122.39447         0\n",
              "       2008-05-17 14:13:34  37.75149 -122.39447         0\n",
              "       2008-05-17 14:14:34  37.75149 -122.39447         0\n",
              "       2008-05-17 14:15:35  37.75149 -122.39446         0\n",
              "       2008-05-17 14:41:43  37.75144 -122.39449         0"
            ]
          },
          "metadata": {
            "tags": []
          },
          "execution_count": 2
        }
      ]
    },
    {
      "metadata": {
        "colab_type": "text",
        "id": "SRCEhqT6ZLYO"
      },
      "cell_type": "markdown",
      "source": [
        "## Convert the dataset to a mapping of users to the strings of their movements"
      ]
    },
    {
      "metadata": {
        "colab_type": "code",
        "id": "7NmsLO-RC0Lb",
        "outputId": "04eeb395-c10c-4cea-bac3-150b996b7208",
        "colab": {
          "base_uri": "https://localhost:8080/",
          "height": 136
        }
      },
      "cell_type": "code",
      "source": [
        "df = utils.records_to_user_geolcation(df)\n",
        "df.head()"
      ],
      "execution_count": 3,
      "outputs": [
        {
          "output_type": "execute_result",
          "data": {
            "text/plain": [
              "user\n",
              "abboip      [[15126.000000000002, -122.39447, 37.751529999...\n",
              "abcoij      [[47486.0, -122.41466000000001, 37.80346], [47...\n",
              "abdremlu    [[11949.0, -122.39093000000001, 37.75521], [12...\n",
              "abgibo      [[16.0, -122.4374, 37.7733], [61.0000000000000...\n",
              "abjoolaw    [[13856.0, -122.39747, 37.75159], [13916.0, -1...\n",
              "dtype: object"
            ]
          },
          "metadata": {
            "tags": []
          },
          "execution_count": 3
        }
      ]
    },
    {
      "metadata": {
        "colab_type": "text",
        "id": "yblG4Z8WG1Uk"
      },
      "cell_type": "markdown",
      "source": [
        "## Split the data into training and test/validation sets\n",
        "This has to be done by user in order for the training data to be truly unknown to both the generator and the discriminator."
      ]
    },
    {
      "metadata": {
        "colab_type": "code",
        "id": "xz7wjucOGylA",
        "outputId": "0278f01a-d647-4234-e18b-41985a42ee59",
        "colab": {
          "base_uri": "https://localhost:8080/",
          "height": 34
        }
      },
      "cell_type": "code",
      "source": [
        "len(df)"
      ],
      "execution_count": 4,
      "outputs": [
        {
          "output_type": "execute_result",
          "data": {
            "text/plain": [
              "536"
            ]
          },
          "metadata": {
            "tags": []
          },
          "execution_count": 4
        }
      ]
    },
    {
      "metadata": {
        "colab_type": "code",
        "id": "_oMYwxN1HOqZ",
        "outputId": "db568a36-25e3-49b4-982c-db31dfda9eb4",
        "colab": {
          "base_uri": "https://localhost:8080/",
          "height": 125
        }
      },
      "cell_type": "code",
      "source": [
        "import sklearn.model_selection\n",
        "\n",
        "df_train, df_test = sklearn.model_selection.train_test_split(df, train_size=0.8)\n",
        "\n",
        "print('Train:', len(df_train))\n",
        "print('Test:', len(df_test))"
      ],
      "execution_count": 5,
      "outputs": [
        {
          "output_type": "stream",
          "text": [
            "Train: 428\n",
            "Test: 108\n"
          ],
          "name": "stdout"
        },
        {
          "output_type": "stream",
          "text": [
            "/usr/local/lib/python3.6/dist-packages/sklearn/model_selection/_split.py:2179: FutureWarning: From version 0.21, test_size will always complement train_size unless both are specified.\n",
            "  FutureWarning)\n"
          ],
          "name": "stderr"
        }
      ]
    },
    {
      "metadata": {
        "colab_type": "text",
        "id": "G7jbyag-Ztfr"
      },
      "cell_type": "markdown",
      "source": [
        "## Prepare the training data for the generator\n",
        "The generator gets any one randomly selected point from the training data as the starting point for the trajectory it generates during training. This may later be replaced by a point on a 3-dimensional distribution fitted to the distribution of the real data."
      ]
    },
    {
      "metadata": {
        "colab_type": "code",
        "id": "rLm4S-MyDKdm",
        "outputId": "c583359e-4307-4b27-ef68-e97743edf2ec",
        "colab": {
          "base_uri": "https://localhost:8080/",
          "height": 170
        }
      },
      "cell_type": "code",
      "source": [
        "# Make the single sequence of the training data\n",
        "data_train = utils.user_geolocation_to_single_sequence(df_train)\n",
        "\n",
        "print(data_train.shape)\n",
        "print()\n",
        "print(data_train)"
      ],
      "execution_count": 7,
      "outputs": [
        {
          "output_type": "stream",
          "text": [
            "(9000109, 3)\n",
            "\n",
            "[[ 7.9000000e+01 -1.2243825e+02  3.7777420e+01]\n",
            " [ 1.4600000e+02 -1.2243874e+02  3.7779740e+01]\n",
            " [ 1.9900000e+02 -1.2244096e+02  3.7785140e+01]\n",
            " ...\n",
            " [ 2.0187740e+06 -1.2240682e+02  3.7785480e+01]\n",
            " [ 2.0188350e+06 -1.2240654e+02  3.7785650e+01]\n",
            " [ 2.0188950e+06 -1.2240344e+02  3.7783600e+01]]\n"
          ],
          "name": "stdout"
        }
      ]
    },
    {
      "metadata": {
        "id": "P3vZBBoMW2Ln",
        "colab_type": "text"
      },
      "cell_type": "markdown",
      "source": [
        "## Create the scaler on the training data\n",
        "The sequence for the generator is used to fit a `StandardScaler` to the training data.\n",
        "This scaler should later be saved alongside the trained model, as the scaler should only be fitted to the training data and the training data changes on every execution of this Notebook."
      ]
    },
    {
      "metadata": {
        "id": "InyVPOmMW1FO",
        "colab_type": "code",
        "colab": {
          "base_uri": "https://localhost:8080/",
          "height": 51
        },
        "outputId": "9e879dc0-a947-4509-f335-002b334a974d"
      },
      "cell_type": "code",
      "source": [
        "from sklearn import preprocessing\n",
        "\n",
        "scaler = preprocessing.StandardScaler()\n",
        "scaler.fit(data_train)\n",
        "\n",
        "print('Means: %f %f %f' % (scaler.mean_[0], scaler.mean_[1], scaler.mean_[2]))\n",
        "print('Standard deviations: %f %f %f' % (scaler.var_[0], scaler.var_[1], scaler.var_[2]))"
      ],
      "execution_count": 8,
      "outputs": [
        {
          "output_type": "stream",
          "text": [
            "Means: 1019312.130780 -122.412544 37.763994\n",
            "Standard deviations: 345493530496.693298 0.001275 0.002786\n"
          ],
          "name": "stdout"
        }
      ]
    },
    {
      "metadata": {
        "colab_type": "text",
        "id": "vFm92XsBiiGO"
      },
      "cell_type": "markdown",
      "source": [
        "## Build the generator"
      ]
    },
    {
      "metadata": {
        "colab_type": "code",
        "id": "KsxAe-NaBEid",
        "colab": {}
      },
      "cell_type": "code",
      "source": [
        "def build_generator():\n",
        "    model = tf.keras.Sequential([\n",
        "        tf.keras.layers.GRU(256, return_sequences=True, stateful=True, input_shape=(None, 3), batch_size=1),\n",
        "        tf.keras.layers.TimeDistributed(tf.layers.Dense(3))\n",
        "    ])\n",
        "    return model"
      ],
      "execution_count": 0,
      "outputs": []
    },
    {
      "metadata": {
        "colab_type": "code",
        "id": "GE11g2X-efxh",
        "colab": {
          "base_uri": "https://localhost:8080/",
          "height": 204
        },
        "outputId": "ee8d96e3-53c4-4a89-eeda-1e7503e869f9"
      },
      "cell_type": "code",
      "source": [
        "generator = build_generator()\n",
        "generator.summary()"
      ],
      "execution_count": 13,
      "outputs": [
        {
          "output_type": "stream",
          "text": [
            "_________________________________________________________________\n",
            "Layer (type)                 Output Shape              Param #   \n",
            "=================================================================\n",
            "gru_1 (GRU)                  (1, None, 256)            199680    \n",
            "_________________________________________________________________\n",
            "time_distributed_1 (TimeDist (1, None, 3)              771       \n",
            "=================================================================\n",
            "Total params: 200,451\n",
            "Trainable params: 200,451\n",
            "Non-trainable params: 0\n",
            "_________________________________________________________________\n"
          ],
          "name": "stdout"
        }
      ]
    },
    {
      "metadata": {
        "colab_type": "text",
        "id": "h5g6r0RdQKdA"
      },
      "cell_type": "markdown",
      "source": [
        "## Build the discriminator"
      ]
    },
    {
      "metadata": {
        "colab_type": "code",
        "id": "2kWVYDkGQKAu",
        "colab": {}
      },
      "cell_type": "code",
      "source": [
        "def build_discriminator():\n",
        "    model = tf.keras.Sequential([\n",
        "        tf.keras.layers.GRU(128, input_shape=(None, 3)),\n",
        "        tf.keras.layers.Dense(1, activation='sigmoid')\n",
        "    ])\n",
        "    return model"
      ],
      "execution_count": 0,
      "outputs": []
    },
    {
      "metadata": {
        "colab_type": "code",
        "id": "wJkur_2EQoxx",
        "colab": {
          "base_uri": "https://localhost:8080/",
          "height": 204
        },
        "outputId": "2e9f3122-8865-45a5-d826-b9fa05ce4445"
      },
      "cell_type": "code",
      "source": [
        "discriminator = build_discriminator()\n",
        "discriminator.summary()"
      ],
      "execution_count": 17,
      "outputs": [
        {
          "output_type": "stream",
          "text": [
            "_________________________________________________________________\n",
            "Layer (type)                 Output Shape              Param #   \n",
            "=================================================================\n",
            "gru_3 (GRU)                  (None, 128)               50688     \n",
            "_________________________________________________________________\n",
            "dense_2 (Dense)              (None, 1)                 129       \n",
            "=================================================================\n",
            "Total params: 50,817\n",
            "Trainable params: 50,817\n",
            "Non-trainable params: 0\n",
            "_________________________________________________________________\n"
          ],
          "name": "stdout"
        }
      ]
    },
    {
      "metadata": {
        "colab_type": "text",
        "id": "2wl0aHgEQ3CK"
      },
      "cell_type": "markdown",
      "source": [
        "## Put the adversarial model together"
      ]
    },
    {
      "metadata": {
        "colab_type": "code",
        "id": "ouh6hfmzRFwF",
        "colab": {}
      },
      "cell_type": "code",
      "source": [
        "discriminator.compile(optimizer='adam', loss='binary_crossentropy', metrics=['accuracy'])"
      ],
      "execution_count": 0,
      "outputs": []
    },
    {
      "metadata": {
        "colab_type": "code",
        "id": "XfkV94BKR3KO",
        "colab": {}
      },
      "cell_type": "code",
      "source": [
        "discriminator.trainable = False\n",
        "\n",
        "adversarial = tf.keras.Sequential([\n",
        "    generator,\n",
        "    discriminator\n",
        "])\n",
        "\n",
        "adversarial.compile(optimizer='adam', loss='binary_crossentropy')"
      ],
      "execution_count": 0,
      "outputs": []
    },
    {
      "metadata": {
        "id": "u5V5S9bUYGAE",
        "colab_type": "code",
        "colab": {
          "base_uri": "https://localhost:8080/",
          "height": 204
        },
        "outputId": "7540759e-d861-4721-d331-3ff15216c87a"
      },
      "cell_type": "code",
      "source": [
        "adversarial.summary()"
      ],
      "execution_count": 20,
      "outputs": [
        {
          "output_type": "stream",
          "text": [
            "_________________________________________________________________\n",
            "Layer (type)                 Output Shape              Param #   \n",
            "=================================================================\n",
            "sequential_1 (Sequential)    (1, None, 3)              200451    \n",
            "_________________________________________________________________\n",
            "sequential_2 (Sequential)    (None, 1)                 50817     \n",
            "=================================================================\n",
            "Total params: 251,268\n",
            "Trainable params: 200,451\n",
            "Non-trainable params: 50,817\n",
            "_________________________________________________________________\n"
          ],
          "name": "stdout"
        }
      ]
    },
    {
      "metadata": {
        "colab_type": "text",
        "id": "dkkKIrBR2qdl"
      },
      "cell_type": "markdown",
      "source": [
        "## Training"
      ]
    },
    {
      "metadata": {
        "colab_type": "text",
        "id": "IOokszv-K0KR"
      },
      "cell_type": "markdown",
      "source": [
        "## Save and plot the history\n",
        "The history holds information on loss and validiation loss during training."
      ]
    },
    {
      "metadata": {
        "colab_type": "text",
        "id": "J1l4J261LCCg"
      },
      "cell_type": "markdown",
      "source": [
        "## Load and prepare the trained model for generating data"
      ]
    },
    {
      "metadata": {
        "colab_type": "text",
        "id": "8CFJhAhyRSoR"
      },
      "cell_type": "markdown",
      "source": [
        "## Generate geolocation data of one entity using the trained model\n",
        "In the end the generated data is saved to disk in order to be reused from a different notebook."
      ]
    },
    {
      "metadata": {
        "colab_type": "code",
        "id": "aFWC2EknLpR_",
        "colab": {}
      },
      "cell_type": "code",
      "source": [
        "N_GENERATE = 1000\n",
        "\n",
        "start = [324.0, -122.390085, 37.789910]    # Google Offices in San Francisco: 37.789910, -122.390085\n",
        "generated = np.array([start]).astype(np.float32)\n",
        "\n",
        "model.reset_states()\n",
        "\n",
        "for i in range(1, N_GENERATE):\n",
        "    input = generated[-1:]\n",
        "    input = scaler.transform(input)\n",
        "    input = np.array([input])\n",
        "    \n",
        "    prediction = model.predict(input, batch_size=1)\n",
        "    \n",
        "    prediction = np.squeeze(prediction, axis=0)\n",
        "    prediction = scaler.inverse_transform(prediction)\n",
        "    \n",
        "    generated = np.concatenate([generated, prediction])"
      ],
      "execution_count": 0,
      "outputs": []
    },
    {
      "metadata": {
        "colab_type": "code",
        "id": "-lg06MD4Qg82",
        "colab": {}
      },
      "cell_type": "code",
      "source": [
        "generated.shape"
      ],
      "execution_count": 0,
      "outputs": []
    },
    {
      "metadata": {
        "colab_type": "code",
        "id": "-ElKGEsXQjAu",
        "colab": {}
      },
      "cell_type": "code",
      "source": [
        "generated"
      ],
      "execution_count": 0,
      "outputs": []
    },
    {
      "metadata": {
        "colab_type": "code",
        "id": "747Ob_KSReL5",
        "colab": {}
      },
      "cell_type": "code",
      "source": [
        "with open('generated/citybased_gan/test_00.pkl', 'wb') as file:\n",
        "    pickle.dump(generated, file)\n",
        "    print('Generated data saved')"
      ],
      "execution_count": 0,
      "outputs": []
    }
  ]
}