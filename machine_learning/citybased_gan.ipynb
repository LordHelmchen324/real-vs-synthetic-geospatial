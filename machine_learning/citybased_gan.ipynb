{
  "nbformat": 4,
  "nbformat_minor": 0,
  "metadata": {
    "colab": {
      "name": "citybased_gan.ipynb",
      "version": "0.3.2",
      "provenance": [],
      "collapsed_sections": []
    },
    "kernelspec": {
      "display_name": "Python 3",
      "language": "python",
      "name": "python3"
    },
    "accelerator": "GPU"
  },
  "cells": [
    {
      "metadata": {
        "colab_type": "code",
        "id": "BFLtqc6hXszW",
        "outputId": "5437567d-ab45-47f4-e7bc-44ed2d7ee401",
        "colab": {
          "base_uri": "https://localhost:8080/",
          "height": 51
        }
      },
      "cell_type": "code",
      "source": [
        "# Setup of libraries, mounting the Google Drive etc.\n",
        "\n",
        "import os\n",
        "import sys\n",
        "from google.colab import drive\n",
        "drive.mount('/content/gdrive')\n",
        "os.chdir('/content/gdrive/My Drive/Colab Notebooks')\n",
        "\n",
        "import matplotlib.pyplot as plt\n",
        "import numpy as np\n",
        "import pandas as pd\n",
        "import pickle\n",
        "\n",
        "import tensorflow as tf\n",
        "\n",
        "import utils\n",
        "import IPython\n",
        "\n",
        "print('The current working directory is:', os.getcwd())"
      ],
      "execution_count": 1,
      "outputs": [
        {
          "output_type": "stream",
          "text": [
            "Drive already mounted at /content/gdrive; to attempt to forcibly remount, call drive.mount(\"/content/gdrive\", force_remount=True).\n",
            "The current working directory is: /content/gdrive/My Drive/Colab Notebooks\n"
          ],
          "name": "stdout"
        }
      ]
    },
    {
      "metadata": {
        "colab_type": "text",
        "id": "lHDRiK7LYw2s"
      },
      "cell_type": "markdown",
      "source": [
        "## Read the dataset from `.pkl` file\n"
      ]
    },
    {
      "metadata": {
        "colab_type": "code",
        "id": "rxQz-vmJYEGC",
        "outputId": "d2214925-d491-42e7-8fdd-3964fd3418b7",
        "colab": {
          "base_uri": "https://localhost:8080/",
          "height": 235
        }
      },
      "cell_type": "code",
      "source": [
        "df = pd.read_pickle('datasets/cabspotting.pkl')\n",
        "df.head()"
      ],
      "execution_count": 2,
      "outputs": [
        {
          "output_type": "execute_result",
          "data": {
            "text/html": [
              "<div>\n",
              "<style scoped>\n",
              "    .dataframe tbody tr th:only-of-type {\n",
              "        vertical-align: middle;\n",
              "    }\n",
              "\n",
              "    .dataframe tbody tr th {\n",
              "        vertical-align: top;\n",
              "    }\n",
              "\n",
              "    .dataframe thead th {\n",
              "        text-align: right;\n",
              "    }\n",
              "</style>\n",
              "<table border=\"1\" class=\"dataframe\">\n",
              "  <thead>\n",
              "    <tr style=\"text-align: right;\">\n",
              "      <th></th>\n",
              "      <th></th>\n",
              "      <th>latitude</th>\n",
              "      <th>longitude</th>\n",
              "      <th>occupied</th>\n",
              "    </tr>\n",
              "    <tr>\n",
              "      <th>user</th>\n",
              "      <th>time</th>\n",
              "      <th></th>\n",
              "      <th></th>\n",
              "      <th></th>\n",
              "    </tr>\n",
              "  </thead>\n",
              "  <tbody>\n",
              "    <tr>\n",
              "      <th rowspan=\"5\" valign=\"top\">abboip</th>\n",
              "      <th>2008-05-17 14:12:10</th>\n",
              "      <td>37.75153</td>\n",
              "      <td>-122.39447</td>\n",
              "      <td>0</td>\n",
              "    </tr>\n",
              "    <tr>\n",
              "      <th>2008-05-17 14:13:34</th>\n",
              "      <td>37.75149</td>\n",
              "      <td>-122.39447</td>\n",
              "      <td>0</td>\n",
              "    </tr>\n",
              "    <tr>\n",
              "      <th>2008-05-17 14:14:34</th>\n",
              "      <td>37.75149</td>\n",
              "      <td>-122.39447</td>\n",
              "      <td>0</td>\n",
              "    </tr>\n",
              "    <tr>\n",
              "      <th>2008-05-17 14:15:35</th>\n",
              "      <td>37.75149</td>\n",
              "      <td>-122.39446</td>\n",
              "      <td>0</td>\n",
              "    </tr>\n",
              "    <tr>\n",
              "      <th>2008-05-17 14:41:43</th>\n",
              "      <td>37.75144</td>\n",
              "      <td>-122.39449</td>\n",
              "      <td>0</td>\n",
              "    </tr>\n",
              "  </tbody>\n",
              "</table>\n",
              "</div>"
            ],
            "text/plain": [
              "                            latitude  longitude  occupied\n",
              "user   time                                              \n",
              "abboip 2008-05-17 14:12:10  37.75153 -122.39447         0\n",
              "       2008-05-17 14:13:34  37.75149 -122.39447         0\n",
              "       2008-05-17 14:14:34  37.75149 -122.39447         0\n",
              "       2008-05-17 14:15:35  37.75149 -122.39446         0\n",
              "       2008-05-17 14:41:43  37.75144 -122.39449         0"
            ]
          },
          "metadata": {
            "tags": []
          },
          "execution_count": 2
        }
      ]
    },
    {
      "metadata": {
        "colab_type": "text",
        "id": "SRCEhqT6ZLYO"
      },
      "cell_type": "markdown",
      "source": [
        "## Convert the dataset to a mapping of users to the strings of their movements"
      ]
    },
    {
      "metadata": {
        "colab_type": "code",
        "id": "7NmsLO-RC0Lb",
        "outputId": "54f09a7c-9c0f-4d69-ac05-60ab1fbb48d7",
        "colab": {
          "base_uri": "https://localhost:8080/",
          "height": 136
        }
      },
      "cell_type": "code",
      "source": [
        "df = utils.records_to_user_geolcation(df)\n",
        "df.head()"
      ],
      "execution_count": 3,
      "outputs": [
        {
          "output_type": "execute_result",
          "data": {
            "text/plain": [
              "user\n",
              "abboip      [[15126.000000000002, -122.39447, 37.751529999...\n",
              "abcoij      [[47486.0, -122.41466000000001, 37.80346], [47...\n",
              "abdremlu    [[11949.0, -122.39093000000001, 37.75521], [12...\n",
              "abgibo      [[16.0, -122.4374, 37.7733], [61.0000000000000...\n",
              "abjoolaw    [[13856.0, -122.39747, 37.75159], [13916.0, -1...\n",
              "dtype: object"
            ]
          },
          "metadata": {
            "tags": []
          },
          "execution_count": 3
        }
      ]
    },
    {
      "metadata": {
        "colab_type": "text",
        "id": "yblG4Z8WG1Uk"
      },
      "cell_type": "markdown",
      "source": [
        "## Split the data into training and test/validation sets\n",
        "Keep the data of 10 users from the networks during traing in order to 'visually' validate that the network is working later on."
      ]
    },
    {
      "metadata": {
        "colab_type": "code",
        "id": "xz7wjucOGylA",
        "outputId": "05485050-c005-4849-c234-a15154273fdb",
        "colab": {
          "base_uri": "https://localhost:8080/",
          "height": 34
        }
      },
      "cell_type": "code",
      "source": [
        "len(df)"
      ],
      "execution_count": 4,
      "outputs": [
        {
          "output_type": "execute_result",
          "data": {
            "text/plain": [
              "536"
            ]
          },
          "metadata": {
            "tags": []
          },
          "execution_count": 4
        }
      ]
    },
    {
      "metadata": {
        "colab_type": "code",
        "id": "_oMYwxN1HOqZ",
        "outputId": "9edbfab0-38a6-4111-f209-61a1c51b6170",
        "colab": {
          "base_uri": "https://localhost:8080/",
          "height": 51
        }
      },
      "cell_type": "code",
      "source": [
        "df_train = df.iloc[:len(df) - 10]\n",
        "df_test = df.iloc[len(df) - 10:]\n",
        "\n",
        "print('Train:', len(df_train))\n",
        "print('Test:', len(df_test))"
      ],
      "execution_count": 5,
      "outputs": [
        {
          "output_type": "stream",
          "text": [
            "Train: 526\n",
            "Test: 10\n"
          ],
          "name": "stdout"
        }
      ]
    },
    {
      "metadata": {
        "id": "IrqvSWrgO0q4",
        "colab_type": "text"
      },
      "cell_type": "markdown",
      "source": [
        "## Make one single sequence to train on from the training data"
      ]
    },
    {
      "metadata": {
        "id": "MIG5Ka6hO6Cv",
        "colab_type": "code",
        "colab": {}
      },
      "cell_type": "code",
      "source": [
        "data_train = utils.user_geolocation_to_single_sequence(df_train)"
      ],
      "execution_count": 0,
      "outputs": []
    },
    {
      "metadata": {
        "id": "LLhHUkSaPPRy",
        "colab_type": "code",
        "colab": {
          "base_uri": "https://localhost:8080/",
          "height": 136
        },
        "outputId": "f0f63db5-2a92-43ac-b611-c6fdf80e0708"
      },
      "cell_type": "code",
      "source": [
        "data_train"
      ],
      "execution_count": 7,
      "outputs": [
        {
          "output_type": "execute_result",
          "data": {
            "text/plain": [
              "array([[ 1.5126000e+04, -1.2239447e+02,  3.7751530e+01],\n",
              "       [ 1.5210000e+04, -1.2239447e+02,  3.7751490e+01],\n",
              "       [ 1.5270000e+04, -1.2239447e+02,  3.7751490e+01],\n",
              "       ...,\n",
              "       [ 2.0688330e+06, -1.2241069e+02,  3.7792440e+01],\n",
              "       [ 2.0688930e+06, -1.2241165e+02,  3.7792150e+01],\n",
              "       [ 2.0689140e+06, -1.2241172e+02,  3.7792120e+01]])"
            ]
          },
          "metadata": {
            "tags": []
          },
          "execution_count": 7
        }
      ]
    },
    {
      "metadata": {
        "id": "MeUZM_UPPRrd",
        "colab_type": "code",
        "colab": {
          "base_uri": "https://localhost:8080/",
          "height": 34
        },
        "outputId": "525fc1e7-05cd-4c20-9ca2-32618ba7b7fd"
      },
      "cell_type": "code",
      "source": [
        "data_train.shape"
      ],
      "execution_count": 8,
      "outputs": [
        {
          "output_type": "execute_result",
          "data": {
            "text/plain": [
              "(11021539, 3)"
            ]
          },
          "metadata": {
            "tags": []
          },
          "execution_count": 8
        }
      ]
    },
    {
      "metadata": {
        "id": "P3vZBBoMW2Ln",
        "colab_type": "text"
      },
      "cell_type": "markdown",
      "source": [
        "## Create the scaler on the training data\n",
        "The sequence for the generator is used to fit a `StandardScaler` to the training data.\n",
        "This scaler should later be saved alongside the trained model, as the scaler should only be fitted to the training data and the training data changes on every execution of this Notebook."
      ]
    },
    {
      "metadata": {
        "id": "InyVPOmMW1FO",
        "colab_type": "code",
        "outputId": "f32a6fba-4f91-47a4-f7eb-4676928ea4df",
        "colab": {
          "base_uri": "https://localhost:8080/",
          "height": 51
        }
      },
      "cell_type": "code",
      "source": [
        "from sklearn import preprocessing\n",
        "\n",
        "scaler = preprocessing.StandardScaler()\n",
        "scaler.fit(data_train)\n",
        "\n",
        "print('Means: %f %f %f' % (scaler.mean_[0], scaler.mean_[1], scaler.mean_[2]))\n",
        "print('Standard deviations: %f %f %f' % (scaler.var_[0], scaler.var_[1], scaler.var_[2]))"
      ],
      "execution_count": 9,
      "outputs": [
        {
          "output_type": "stream",
          "text": [
            "Means: 1017898.964911 -122.412463 37.763528\n",
            "Standard deviations: 345921612396.343018 0.001279 0.002907\n"
          ],
          "name": "stdout"
        }
      ]
    },
    {
      "metadata": {
        "colab_type": "text",
        "id": "vFm92XsBiiGO"
      },
      "cell_type": "markdown",
      "source": [
        "## Build the generator"
      ]
    },
    {
      "metadata": {
        "id": "yQ_PH0TDE6VW",
        "colab_type": "code",
        "colab": {}
      },
      "cell_type": "code",
      "source": [
        "# Inputs\n",
        "sequence_input = tf.keras.layers.Input(shape=(None, 3), name='sequence_input')\n",
        "random_input = tf.keras.layers.Input(shape=(32,), name='random_input')\n",
        "\n",
        "# Recurrent part\n",
        "recurrent = tf.keras.layers.GRU(256)(sequence_input)\n",
        "\n",
        "# Add random variation\n",
        "x = tf.keras.layers.concatenate([recurrent, random_input])\n",
        "prediction = tf.keras.layers.Dense(3)(x)\n",
        "\n",
        "# Create the model\n",
        "generator = tf.keras.models.Model(inputs=[sequence_input, random_input], outputs=prediction)"
      ],
      "execution_count": 0,
      "outputs": []
    },
    {
      "metadata": {
        "id": "um1_MCVSFF2d",
        "colab_type": "code",
        "colab": {
          "base_uri": "https://localhost:8080/",
          "height": 323
        },
        "outputId": "4d5d897e-4293-400e-a379-d87d6a62cc33"
      },
      "cell_type": "code",
      "source": [
        "generator.summary()"
      ],
      "execution_count": 11,
      "outputs": [
        {
          "output_type": "stream",
          "text": [
            "__________________________________________________________________________________________________\n",
            "Layer (type)                    Output Shape         Param #     Connected to                     \n",
            "==================================================================================================\n",
            "sequence_input (InputLayer)     (None, None, 3)      0                                            \n",
            "__________________________________________________________________________________________________\n",
            "gru (GRU)                       (None, 256)          199680      sequence_input[0][0]             \n",
            "__________________________________________________________________________________________________\n",
            "random_input (InputLayer)       (None, 32)           0                                            \n",
            "__________________________________________________________________________________________________\n",
            "concatenate (Concatenate)       (None, 288)          0           gru[0][0]                        \n",
            "                                                                 random_input[0][0]               \n",
            "__________________________________________________________________________________________________\n",
            "dense (Dense)                   (None, 3)            867         concatenate[0][0]                \n",
            "==================================================================================================\n",
            "Total params: 200,547\n",
            "Trainable params: 200,547\n",
            "Non-trainable params: 0\n",
            "__________________________________________________________________________________________________\n"
          ],
          "name": "stdout"
        }
      ]
    },
    {
      "metadata": {
        "id": "WMsocYm5Jtrh",
        "colab_type": "code",
        "colab": {
          "base_uri": "https://localhost:8080/",
          "height": 34
        },
        "outputId": "bd240673-f141-47a5-a766-2cbc42486303"
      },
      "cell_type": "code",
      "source": [
        "generator.input_shape"
      ],
      "execution_count": 12,
      "outputs": [
        {
          "output_type": "execute_result",
          "data": {
            "text/plain": [
              "[(None, None, 3), (None, 32)]"
            ]
          },
          "metadata": {
            "tags": []
          },
          "execution_count": 12
        }
      ]
    },
    {
      "metadata": {
        "id": "s2ffO24ye_sE",
        "colab_type": "code",
        "colab": {
          "base_uri": "https://localhost:8080/",
          "height": 422
        },
        "outputId": "39486450-1016-4126-aafd-3e53d900a782"
      },
      "cell_type": "code",
      "source": [
        "tf.keras.utils.plot_model(generator, to_file='test_keras_plot_model.png', show_shapes=True)\n",
        "IPython.display.Image('test_keras_plot_model.png')"
      ],
      "execution_count": 13,
      "outputs": [
        {
          "output_type": "execute_result",
          "data": {
            "image/png": "[encoded data removed]",
            "text/plain": [
              "<IPython.core.display.Image object>"
            ]
          },
          "metadata": {
            "tags": []
          },
          "execution_count": 13
        }
      ]
    },
    {
      "metadata": {
        "colab_type": "text",
        "id": "h5g6r0RdQKdA"
      },
      "cell_type": "markdown",
      "source": [
        "## Build the discriminator"
      ]
    },
    {
      "metadata": {
        "id": "NxaNCgTIFKe5",
        "colab_type": "code",
        "colab": {}
      },
      "cell_type": "code",
      "source": [
        "discriminator = tf.keras.Sequential([\n",
        "    tf.keras.layers.GRU(128, input_shape=(None, 3)),\n",
        "    tf.keras.layers.Dense(1, activation='sigmoid')\n",
        "])"
      ],
      "execution_count": 0,
      "outputs": []
    },
    {
      "metadata": {
        "colab_type": "code",
        "id": "wJkur_2EQoxx",
        "outputId": "26de4f74-684b-407a-e620-3b4aca5a4723",
        "colab": {
          "base_uri": "https://localhost:8080/",
          "height": 204
        }
      },
      "cell_type": "code",
      "source": [
        "discriminator.summary()"
      ],
      "execution_count": 15,
      "outputs": [
        {
          "output_type": "stream",
          "text": [
            "_________________________________________________________________\n",
            "Layer (type)                 Output Shape              Param #   \n",
            "=================================================================\n",
            "gru_1 (GRU)                  (None, 128)               50688     \n",
            "_________________________________________________________________\n",
            "dense_1 (Dense)              (None, 1)                 129       \n",
            "=================================================================\n",
            "Total params: 50,817\n",
            "Trainable params: 50,817\n",
            "Non-trainable params: 0\n",
            "_________________________________________________________________\n"
          ],
          "name": "stdout"
        }
      ]
    },
    {
      "metadata": {
        "id": "qB6WLzM_Ji8v",
        "colab_type": "code",
        "colab": {
          "base_uri": "https://localhost:8080/",
          "height": 34
        },
        "outputId": "fa2b83a4-49b8-46f6-cb87-28f07bbdfc9d"
      },
      "cell_type": "code",
      "source": [
        "discriminator.input_shape"
      ],
      "execution_count": 16,
      "outputs": [
        {
          "output_type": "execute_result",
          "data": {
            "text/plain": [
              "(None, None, 3)"
            ]
          },
          "metadata": {
            "tags": []
          },
          "execution_count": 16
        }
      ]
    },
    {
      "metadata": {
        "id": "CeprcFe8e07m",
        "colab_type": "code",
        "colab": {
          "base_uri": "https://localhost:8080/",
          "height": 298
        },
        "outputId": "b7fcd973-40a7-4839-ec62-3ccfe6661c1f"
      },
      "cell_type": "code",
      "source": [
        "tf.keras.utils.plot_model(discriminator, to_file='test_keras_plot_model.png', show_shapes=True)\n",
        "IPython.display.Image('test_keras_plot_model.png')"
      ],
      "execution_count": 17,
      "outputs": [
        {
          "output_type": "execute_result",
          "data": {
            "image/png": "[encoded data removed]",
            "text/plain": [
              "<IPython.core.display.Image object>"
            ]
          },
          "metadata": {
            "tags": []
          },
          "execution_count": 17
        }
      ]
    },
    {
      "metadata": {
        "colab_type": "text",
        "id": "2wl0aHgEQ3CK"
      },
      "cell_type": "markdown",
      "source": [
        "## Put the adversarial model together"
      ]
    },
    {
      "metadata": {
        "colab_type": "code",
        "id": "ouh6hfmzRFwF",
        "colab": {}
      },
      "cell_type": "code",
      "source": [
        "discriminator.compile(optimizer='adam', loss='binary_crossentropy', metrics=['accuracy'])"
      ],
      "execution_count": 0,
      "outputs": []
    },
    {
      "metadata": {
        "colab_type": "code",
        "id": "XfkV94BKR3KO",
        "colab": {}
      },
      "cell_type": "code",
      "source": [
        "discriminator.trainable = False\n",
        "\n",
        "g_out = generator([sequence_input, random_input])\n",
        "g_out = tf.keras.layers.Reshape((1, 3))(g_out)\n",
        "d_in = tf.keras.layers.Concatenate(axis=1)([sequence_input, g_out])\n",
        "d_out = discriminator(d_in)\n",
        "\n",
        "adversarial = tf.keras.models.Model(inputs=[sequence_input, random_input], outputs=d_out)\n",
        "\n",
        "adversarial.compile(optimizer='adam', loss='binary_crossentropy')"
      ],
      "execution_count": 0,
      "outputs": []
    },
    {
      "metadata": {
        "id": "u5V5S9bUYGAE",
        "colab_type": "code",
        "outputId": "c136cbf8-8ab2-4cb9-f5b9-16b0cd6f8881",
        "colab": {
          "base_uri": "https://localhost:8080/",
          "height": 374
        }
      },
      "cell_type": "code",
      "source": [
        "adversarial.summary()"
      ],
      "execution_count": 20,
      "outputs": [
        {
          "output_type": "stream",
          "text": [
            "__________________________________________________________________________________________________\n",
            "Layer (type)                    Output Shape         Param #     Connected to                     \n",
            "==================================================================================================\n",
            "sequence_input (InputLayer)     (None, None, 3)      0                                            \n",
            "__________________________________________________________________________________________________\n",
            "random_input (InputLayer)       (None, 32)           0                                            \n",
            "__________________________________________________________________________________________________\n",
            "model (Model)                   (None, 3)            200547      sequence_input[0][0]             \n",
            "                                                                 random_input[0][0]               \n",
            "__________________________________________________________________________________________________\n",
            "reshape (Reshape)               (None, 1, 3)         0           model[1][0]                      \n",
            "__________________________________________________________________________________________________\n",
            "concatenate_1 (Concatenate)     (None, None, 3)      0           sequence_input[0][0]             \n",
            "                                                                 reshape[0][0]                    \n",
            "__________________________________________________________________________________________________\n",
            "sequential (Sequential)         (None, 1)            50817       concatenate_1[0][0]              \n",
            "==================================================================================================\n",
            "Total params: 251,364\n",
            "Trainable params: 200,547\n",
            "Non-trainable params: 50,817\n",
            "__________________________________________________________________________________________________\n"
          ],
          "name": "stdout"
        }
      ]
    },
    {
      "metadata": {
        "id": "9TyEzAOedDfJ",
        "colab_type": "code",
        "colab": {
          "base_uri": "https://localhost:8080/",
          "height": 34
        },
        "outputId": "86adf616-a5be-4f1c-aaf9-09ae93bee3bd"
      },
      "cell_type": "code",
      "source": [
        "adversarial.input_shape"
      ],
      "execution_count": 21,
      "outputs": [
        {
          "output_type": "execute_result",
          "data": {
            "text/plain": [
              "[(None, None, 3), (None, 32)]"
            ]
          },
          "metadata": {
            "tags": []
          },
          "execution_count": 21
        }
      ]
    },
    {
      "metadata": {
        "id": "kmsEk4GLdzZ1",
        "colab_type": "code",
        "colab": {
          "base_uri": "https://localhost:8080/",
          "height": 533
        },
        "outputId": "2b56eb29-bfb9-4945-cdb0-2333673b734a"
      },
      "cell_type": "code",
      "source": [
        "tf.keras.utils.plot_model(adversarial, to_file='test_keras_plot_model.png', show_shapes=True)\n",
        "IPython.display.Image('test_keras_plot_model.png')"
      ],
      "execution_count": 22,
      "outputs": [
        {
          "output_type": "execute_result",
          "data": {
            "image/png": "[encoded data removed]",
            "text/plain": [
              "<IPython.core.display.Image object>"
            ]
          },
          "metadata": {
            "tags": []
          },
          "execution_count": 22
        }
      ]
    },
    {
      "metadata": {
        "id": "0k0kU1UgNyba",
        "colab_type": "text"
      },
      "cell_type": "markdown",
      "source": [
        "## Set the data up for training\n",
        "The data should be split into a list of sequences of `SEQ_LENGTH` and then three copies shall be made and shuffled seperately: one copy as the input for generating fake data to train the discriminator, one as real data to train the discriminator and a third one as input to the adversarial model to train the generator.\n",
        "\n",
        "Suffling is supposed to happend during training at the beginning of each epoch, though."
      ]
    },
    {
      "metadata": {
        "id": "743m_TBYPMDB",
        "colab_type": "code",
        "colab": {}
      },
      "cell_type": "code",
      "source": [
        "SEQ_LENGTH = 100"
      ],
      "execution_count": 0,
      "outputs": []
    },
    {
      "metadata": {
        "id": "mr5rHo3rYVjB",
        "colab_type": "code",
        "colab": {
          "base_uri": "https://localhost:8080/",
          "height": 34
        },
        "outputId": "63d160e8-b4f8-48c5-ca96-ce7dc7743e22"
      },
      "cell_type": "code",
      "source": [
        "real_outputs = data_train[:(len(data_train) // (SEQ_LENGTH + 1)) * (SEQ_LENGTH + 1)]\n",
        "real_outputs = real_outputs.reshape([-1, SEQ_LENGTH + 1, 3])\n",
        "\n",
        "real_outputs.shape"
      ],
      "execution_count": 24,
      "outputs": [
        {
          "output_type": "execute_result",
          "data": {
            "text/plain": [
              "(109124, 101, 3)"
            ]
          },
          "metadata": {
            "tags": []
          },
          "execution_count": 24
        }
      ]
    },
    {
      "metadata": {
        "id": "BvX4yTy1X1fC",
        "colab_type": "code",
        "colab": {
          "base_uri": "https://localhost:8080/",
          "height": 34
        },
        "outputId": "bc1e1cdb-b7ff-452a-91b2-ab0862591069"
      },
      "cell_type": "code",
      "source": [
        "g_inputs = real_outputs[:, :100].copy()\n",
        "\n",
        "g_inputs.shape"
      ],
      "execution_count": 25,
      "outputs": [
        {
          "output_type": "execute_result",
          "data": {
            "text/plain": [
              "(109124, 100, 3)"
            ]
          },
          "metadata": {
            "tags": []
          },
          "execution_count": 25
        }
      ]
    },
    {
      "metadata": {
        "id": "qiJmxLvGv0uF",
        "colab_type": "code",
        "colab": {
          "base_uri": "https://localhost:8080/",
          "height": 34
        },
        "outputId": "f8315d14-ebe2-4f1b-b5cb-75961bc00bdc"
      },
      "cell_type": "code",
      "source": [
        "a_inputs = g_inputs.copy()\n",
        "\n",
        "a_inputs.shape"
      ],
      "execution_count": 26,
      "outputs": [
        {
          "output_type": "execute_result",
          "data": {
            "text/plain": [
              "(109124, 100, 3)"
            ]
          },
          "metadata": {
            "tags": []
          },
          "execution_count": 26
        }
      ]
    },
    {
      "metadata": {
        "id": "YeLzaSjjVL52",
        "colab_type": "code",
        "colab": {
          "base_uri": "https://localhost:8080/",
          "height": 68
        },
        "outputId": "85040960-672e-49df-e755-fd169f326f56"
      },
      "cell_type": "code",
      "source": [
        "BATCH_SIZE = 64\n",
        "n_batches = len(real_outputs) // BATCH_SIZE\n",
        "\n",
        "real_outputs = real_outputs[:n_batches * BATCH_SIZE]\n",
        "g_inputs = g_inputs[:n_batches * BATCH_SIZE]\n",
        "\n",
        "print('real_outputs:', real_outputs.shape)\n",
        "print('g_inputs:    ', g_inputs.shape)\n",
        "print('a_inputs:    ', a_inputs.shape)"
      ],
      "execution_count": 27,
      "outputs": [
        {
          "output_type": "stream",
          "text": [
            "real_outputs: (109120, 101, 3)\n",
            "g_inputs:     (109120, 100, 3)\n",
            "a_inputs:     (109124, 100, 3)\n"
          ],
          "name": "stdout"
        }
      ]
    },
    {
      "metadata": {
        "colab_type": "text",
        "id": "dkkKIrBR2qdl"
      },
      "cell_type": "markdown",
      "source": [
        "## Training"
      ]
    },
    {
      "metadata": {
        "id": "Zde4DIYcay0y",
        "colab_type": "code",
        "colab": {
          "base_uri": "https://localhost:8080/",
          "height": 606
        },
        "outputId": "3a6193d0-5e73-4eca-d016-a8dba3b39d7a"
      },
      "cell_type": "code",
      "source": [
        "EPOCHS = 4\n",
        "history = {'g_loss': [], 'd_loss': []}\n",
        "\n",
        "tf.logging.set_verbosity(tf.logging.ERROR)\n",
        "\n",
        "for epoch in range(EPOCHS):\n",
        "    np.random.shuffle(real_outputs)\n",
        "    np.random.shuffle(g_inputs)\n",
        "    np.random.shuffle(a_inputs)\n",
        "    \n",
        "    for batch in range(n_batches):\n",
        "        # Train the discriminator\n",
        "        g_in = g_inputs[batch * BATCH_SIZE:(batch + 1) * BATCH_SIZE][:32]\n",
        "        noise = np.random.rand(BATCH_SIZE // 2, 32)\n",
        "        fake_preds = generator.predict([g_in, noise])\n",
        "        fake_preds = fake_preds.reshape([BATCH_SIZE // 2, 1, 3])\n",
        "        fake_data = np.concatenate([g_in, fake_preds], axis=1)\n",
        "        fake_labels = np.zeros(BATCH_SIZE // 2)\n",
        "        \n",
        "        real_data = real_outputs[batch * BATCH_SIZE:(batch + 1) * BATCH_SIZE][:32]\n",
        "        real_labels = np.ones(BATCH_SIZE // 2)\n",
        "        \n",
        "        d_loss_fake = discriminator.train_on_batch(fake_data, fake_labels)\n",
        "        d_loss_real = discriminator.train_on_batch(real_data, real_labels)\n",
        "        d_loss = 0.5 * np.add(d_loss_fake, d_loss_real)\n",
        "        \n",
        "        # Train the generator\n",
        "        a_in = a_inputs[batch * BATCH_SIZE:(batch + 1) * BATCH_SIZE]\n",
        "        noise = np.random.rand(BATCH_SIZE, 32)\n",
        "        g_loss = adversarial.train_on_batch([a_in, noise], np.ones(BATCH_SIZE))\n",
        "        \n",
        "        # Logging, output etc.\n",
        "        history['g_loss'].append(g_loss)\n",
        "        history['d_loss'].append(d_loss)\n",
        "        if batch % 300 == 0 or batch % 1704 == 0:\n",
        "            print('Epoch {:02d} -> batch {:04d}/{:04d}: g_loss: {:.5f}, d_loss: {:.5f}'.format(epoch + 1, batch + 1, n_batches, g_loss.mean(), d_loss.mean()))"
      ],
      "execution_count": 32,
      "outputs": [
        {
          "output_type": "stream",
          "text": [
            "Epoch 01 -> batch 0001/1705: g_loss: 9.68383, d_loss: 0.50049\n"
          ],
          "name": "stdout"
        },
        {
          "output_type": "error",
          "ename": "KeyboardInterrupt",
          "evalue": "ignored",
          "traceback": [
            "\u001b[0;31m---------------------------------------------------------------------------\u001b[0m",
            "\u001b[0;31mKeyboardInterrupt\u001b[0m                         Traceback (most recent call last)",
            "\u001b[0;32m<ipython-input-32-5eccdd7d4bfa>\u001b[0m in \u001b[0;36m<module>\u001b[0;34m()\u001b[0m\n\u001b[1;32m     28\u001b[0m         \u001b[0ma_in\u001b[0m \u001b[0;34m=\u001b[0m \u001b[0ma_inputs\u001b[0m\u001b[0;34m[\u001b[0m\u001b[0mbatch\u001b[0m \u001b[0;34m*\u001b[0m \u001b[0mBATCH_SIZE\u001b[0m\u001b[0;34m:\u001b[0m\u001b[0;34m(\u001b[0m\u001b[0mbatch\u001b[0m \u001b[0;34m+\u001b[0m \u001b[0;36m1\u001b[0m\u001b[0;34m)\u001b[0m \u001b[0;34m*\u001b[0m \u001b[0mBATCH_SIZE\u001b[0m\u001b[0;34m]\u001b[0m\u001b[0;34m\u001b[0m\u001b[0;34m\u001b[0m\u001b[0m\n\u001b[1;32m     29\u001b[0m         \u001b[0mnoise\u001b[0m \u001b[0;34m=\u001b[0m \u001b[0mnp\u001b[0m\u001b[0;34m.\u001b[0m\u001b[0mrandom\u001b[0m\u001b[0;34m.\u001b[0m\u001b[0mrand\u001b[0m\u001b[0;34m(\u001b[0m\u001b[0mBATCH_SIZE\u001b[0m\u001b[0;34m,\u001b[0m \u001b[0;36m32\u001b[0m\u001b[0;34m)\u001b[0m\u001b[0;34m\u001b[0m\u001b[0;34m\u001b[0m\u001b[0m\n\u001b[0;32m---> 30\u001b[0;31m         \u001b[0mg_loss\u001b[0m \u001b[0;34m=\u001b[0m \u001b[0madversarial\u001b[0m\u001b[0;34m.\u001b[0m\u001b[0mtrain_on_batch\u001b[0m\u001b[0;34m(\u001b[0m\u001b[0;34m[\u001b[0m\u001b[0ma_in\u001b[0m\u001b[0;34m,\u001b[0m \u001b[0mnoise\u001b[0m\u001b[0;34m]\u001b[0m\u001b[0;34m,\u001b[0m \u001b[0mnp\u001b[0m\u001b[0;34m.\u001b[0m\u001b[0mones\u001b[0m\u001b[0;34m(\u001b[0m\u001b[0mBATCH_SIZE\u001b[0m\u001b[0;34m)\u001b[0m\u001b[0;34m)\u001b[0m\u001b[0;34m\u001b[0m\u001b[0;34m\u001b[0m\u001b[0m\n\u001b[0m\u001b[1;32m     31\u001b[0m \u001b[0;34m\u001b[0m\u001b[0m\n\u001b[1;32m     32\u001b[0m         \u001b[0;31m# Logging, output etc.\u001b[0m\u001b[0;34m\u001b[0m\u001b[0;34m\u001b[0m\u001b[0;34m\u001b[0m\u001b[0m\n",
            "\u001b[0;32m/usr/local/lib/python3.6/dist-packages/tensorflow/python/keras/engine/training.py\u001b[0m in \u001b[0;36mtrain_on_batch\u001b[0;34m(self, x, y, sample_weight, class_weight)\u001b[0m\n\u001b[1;32m   1938\u001b[0m \u001b[0;34m\u001b[0m\u001b[0m\n\u001b[1;32m   1939\u001b[0m       \u001b[0mself\u001b[0m\u001b[0;34m.\u001b[0m\u001b[0m_make_train_function\u001b[0m\u001b[0;34m(\u001b[0m\u001b[0;34m)\u001b[0m\u001b[0;34m\u001b[0m\u001b[0;34m\u001b[0m\u001b[0m\n\u001b[0;32m-> 1940\u001b[0;31m       \u001b[0moutputs\u001b[0m \u001b[0;34m=\u001b[0m \u001b[0mself\u001b[0m\u001b[0;34m.\u001b[0m\u001b[0mtrain_function\u001b[0m\u001b[0;34m(\u001b[0m\u001b[0mins\u001b[0m\u001b[0;34m)\u001b[0m\u001b[0;34m\u001b[0m\u001b[0;34m\u001b[0m\u001b[0m\n\u001b[0m\u001b[1;32m   1941\u001b[0m \u001b[0;34m\u001b[0m\u001b[0m\n\u001b[1;32m   1942\u001b[0m     \u001b[0;32mif\u001b[0m \u001b[0mlen\u001b[0m\u001b[0;34m(\u001b[0m\u001b[0moutputs\u001b[0m\u001b[0;34m)\u001b[0m \u001b[0;34m==\u001b[0m \u001b[0;36m1\u001b[0m\u001b[0;34m:\u001b[0m\u001b[0;34m\u001b[0m\u001b[0;34m\u001b[0m\u001b[0m\n",
            "\u001b[0;32m/usr/local/lib/python3.6/dist-packages/tensorflow/python/keras/backend.py\u001b[0m in \u001b[0;36m__call__\u001b[0;34m(self, inputs)\u001b[0m\n\u001b[1;32m   2984\u001b[0m \u001b[0;34m\u001b[0m\u001b[0m\n\u001b[1;32m   2985\u001b[0m     fetched = self._callable_fn(*array_vals,\n\u001b[0;32m-> 2986\u001b[0;31m                                 run_metadata=self.run_metadata)\n\u001b[0m\u001b[1;32m   2987\u001b[0m     \u001b[0mself\u001b[0m\u001b[0;34m.\u001b[0m\u001b[0m_call_fetch_callbacks\u001b[0m\u001b[0;34m(\u001b[0m\u001b[0mfetched\u001b[0m\u001b[0;34m[\u001b[0m\u001b[0;34m-\u001b[0m\u001b[0mlen\u001b[0m\u001b[0;34m(\u001b[0m\u001b[0mself\u001b[0m\u001b[0;34m.\u001b[0m\u001b[0m_fetches\u001b[0m\u001b[0;34m)\u001b[0m\u001b[0;34m:\u001b[0m\u001b[0;34m]\u001b[0m\u001b[0;34m)\u001b[0m\u001b[0;34m\u001b[0m\u001b[0;34m\u001b[0m\u001b[0m\n\u001b[1;32m   2988\u001b[0m     \u001b[0;32mreturn\u001b[0m \u001b[0mfetched\u001b[0m\u001b[0;34m[\u001b[0m\u001b[0;34m:\u001b[0m\u001b[0mlen\u001b[0m\u001b[0;34m(\u001b[0m\u001b[0mself\u001b[0m\u001b[0;34m.\u001b[0m\u001b[0moutputs\u001b[0m\u001b[0;34m)\u001b[0m\u001b[0;34m]\u001b[0m\u001b[0;34m\u001b[0m\u001b[0;34m\u001b[0m\u001b[0m\n",
            "\u001b[0;32m/usr/local/lib/python3.6/dist-packages/tensorflow/python/client/session.py\u001b[0m in \u001b[0;36m__call__\u001b[0;34m(self, *args, **kwargs)\u001b[0m\n\u001b[1;32m   1437\u001b[0m           ret = tf_session.TF_SessionRunCallable(\n\u001b[1;32m   1438\u001b[0m               \u001b[0mself\u001b[0m\u001b[0;34m.\u001b[0m\u001b[0m_session\u001b[0m\u001b[0;34m.\u001b[0m\u001b[0m_session\u001b[0m\u001b[0;34m,\u001b[0m \u001b[0mself\u001b[0m\u001b[0;34m.\u001b[0m\u001b[0m_handle\u001b[0m\u001b[0;34m,\u001b[0m \u001b[0margs\u001b[0m\u001b[0;34m,\u001b[0m \u001b[0mstatus\u001b[0m\u001b[0;34m,\u001b[0m\u001b[0;34m\u001b[0m\u001b[0;34m\u001b[0m\u001b[0m\n\u001b[0;32m-> 1439\u001b[0;31m               run_metadata_ptr)\n\u001b[0m\u001b[1;32m   1440\u001b[0m         \u001b[0;32mif\u001b[0m \u001b[0mrun_metadata\u001b[0m\u001b[0;34m:\u001b[0m\u001b[0;34m\u001b[0m\u001b[0;34m\u001b[0m\u001b[0m\n\u001b[1;32m   1441\u001b[0m           \u001b[0mproto_data\u001b[0m \u001b[0;34m=\u001b[0m \u001b[0mtf_session\u001b[0m\u001b[0;34m.\u001b[0m\u001b[0mTF_GetBuffer\u001b[0m\u001b[0;34m(\u001b[0m\u001b[0mrun_metadata_ptr\u001b[0m\u001b[0;34m)\u001b[0m\u001b[0;34m\u001b[0m\u001b[0;34m\u001b[0m\u001b[0m\n",
            "\u001b[0;31mKeyboardInterrupt\u001b[0m: "
          ]
        }
      ]
    },
    {
      "metadata": {
        "colab_type": "text",
        "id": "IOokszv-K0KR"
      },
      "cell_type": "markdown",
      "source": [
        "## Save and plot the history\n",
        "The history holds information on loss and validiation loss during training."
      ]
    },
    {
      "metadata": {
        "colab_type": "text",
        "id": "J1l4J261LCCg"
      },
      "cell_type": "markdown",
      "source": [
        "## Load and prepare the trained model for generating data"
      ]
    },
    {
      "metadata": {
        "colab_type": "text",
        "id": "8CFJhAhyRSoR"
      },
      "cell_type": "markdown",
      "source": [
        "## Generate geolocation data of one entity using the trained model\n",
        "In the end the generated data is saved to disk in order to be reused from a different notebook."
      ]
    },
    {
      "metadata": {
        "colab_type": "code",
        "id": "aFWC2EknLpR_",
        "colab": {}
      },
      "cell_type": "code",
      "source": [
        "N_GENERATE = 1000\n",
        "\n",
        "start = [324.0, -122.390085, 37.789910]    # Google Offices in San Francisco: 37.789910, -122.390085\n",
        "generated = np.array([start]).astype(np.float32)\n",
        "\n",
        "model.reset_states()\n",
        "\n",
        "for i in range(1, N_GENERATE):\n",
        "    input = generated[-1:]\n",
        "    input = scaler.transform(input)\n",
        "    input = np.array([input])\n",
        "    \n",
        "    prediction = model.predict(input, batch_size=1)\n",
        "    \n",
        "    prediction = np.squeeze(prediction, axis=0)\n",
        "    prediction = scaler.inverse_transform(prediction)\n",
        "    \n",
        "    generated = np.concatenate([generated, prediction])"
      ],
      "execution_count": 0,
      "outputs": []
    },
    {
      "metadata": {
        "colab_type": "code",
        "id": "-lg06MD4Qg82",
        "colab": {}
      },
      "cell_type": "code",
      "source": [
        "generated.shape"
      ],
      "execution_count": 0,
      "outputs": []
    },
    {
      "metadata": {
        "colab_type": "code",
        "id": "-ElKGEsXQjAu",
        "colab": {}
      },
      "cell_type": "code",
      "source": [
        "generated"
      ],
      "execution_count": 0,
      "outputs": []
    },
    {
      "metadata": {
        "colab_type": "code",
        "id": "747Ob_KSReL5",
        "colab": {}
      },
      "cell_type": "code",
      "source": [
        "with open('generated/citybased_gan/test_00.pkl', 'wb') as file:\n",
        "    pickle.dump(generated, file)\n",
        "    print('Generated data saved')"
      ],
      "execution_count": 0,
      "outputs": []
    }
  ]
}