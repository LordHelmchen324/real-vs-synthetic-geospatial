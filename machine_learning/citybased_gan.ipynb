{
  "nbformat": 4,
  "nbformat_minor": 0,
  "metadata": {
    "colab": {
      "name": "citybased_gan.ipynb",
      "version": "0.3.2",
      "provenance": [],
      "collapsed_sections": []
    },
    "kernelspec": {
      "display_name": "Python 3",
      "language": "python",
      "name": "python3"
    },
    "accelerator": "GPU"
  },
  "cells": [
    {
      "metadata": {
        "colab_type": "code",
        "id": "BFLtqc6hXszW",
        "outputId": "c60d091f-f045-428f-b908-31fc0f1e763b",
        "colab": {
          "base_uri": "https://localhost:8080/",
          "height": 51
        }
      },
      "cell_type": "code",
      "source": [
        "# Setup of libraries, mounting the Google Drive etc.\n",
        "\n",
        "import os\n",
        "import sys\n",
        "from google.colab import drive\n",
        "drive.mount('/content/gdrive')\n",
        "os.chdir('/content/gdrive/My Drive/Colab Notebooks')\n",
        "\n",
        "import matplotlib.pyplot as plt\n",
        "import numpy as np\n",
        "import pandas as pd\n",
        "import pickle\n",
        "\n",
        "import tensorflow as tf\n",
        "\n",
        "import utils\n",
        "import IPython\n",
        "\n",
        "print('The current working directory is:', os.getcwd())"
      ],
      "execution_count": 1,
      "outputs": [
        {
          "output_type": "stream",
          "text": [
            "Drive already mounted at /content/gdrive; to attempt to forcibly remount, call drive.mount(\"/content/gdrive\", force_remount=True).\n",
            "The current working directory is: /content/gdrive/My Drive/Colab Notebooks\n"
          ],
          "name": "stdout"
        }
      ]
    },
    {
      "metadata": {
        "colab_type": "text",
        "id": "lHDRiK7LYw2s"
      },
      "cell_type": "markdown",
      "source": [
        "## Read the dataset from `.pkl` file\n"
      ]
    },
    {
      "metadata": {
        "colab_type": "code",
        "id": "rxQz-vmJYEGC",
        "outputId": "8cf51bce-f8ac-450b-e2e7-f737c3ccb57a",
        "colab": {
          "base_uri": "https://localhost:8080/",
          "height": 235
        }
      },
      "cell_type": "code",
      "source": [
        "df = pd.read_pickle('datasets/cabspotting.pkl')\n",
        "df.head()"
      ],
      "execution_count": 2,
      "outputs": [
        {
          "output_type": "execute_result",
          "data": {
            "text/html": [
              "<div>\n",
              "<style scoped>\n",
              "    .dataframe tbody tr th:only-of-type {\n",
              "        vertical-align: middle;\n",
              "    }\n",
              "\n",
              "    .dataframe tbody tr th {\n",
              "        vertical-align: top;\n",
              "    }\n",
              "\n",
              "    .dataframe thead th {\n",
              "        text-align: right;\n",
              "    }\n",
              "</style>\n",
              "<table border=\"1\" class=\"dataframe\">\n",
              "  <thead>\n",
              "    <tr style=\"text-align: right;\">\n",
              "      <th></th>\n",
              "      <th></th>\n",
              "      <th>latitude</th>\n",
              "      <th>longitude</th>\n",
              "      <th>occupied</th>\n",
              "    </tr>\n",
              "    <tr>\n",
              "      <th>user</th>\n",
              "      <th>time</th>\n",
              "      <th></th>\n",
              "      <th></th>\n",
              "      <th></th>\n",
              "    </tr>\n",
              "  </thead>\n",
              "  <tbody>\n",
              "    <tr>\n",
              "      <th rowspan=\"5\" valign=\"top\">abboip</th>\n",
              "      <th>2008-05-17 14:12:10</th>\n",
              "      <td>37.75153</td>\n",
              "      <td>-122.39447</td>\n",
              "      <td>0</td>\n",
              "    </tr>\n",
              "    <tr>\n",
              "      <th>2008-05-17 14:13:34</th>\n",
              "      <td>37.75149</td>\n",
              "      <td>-122.39447</td>\n",
              "      <td>0</td>\n",
              "    </tr>\n",
              "    <tr>\n",
              "      <th>2008-05-17 14:14:34</th>\n",
              "      <td>37.75149</td>\n",
              "      <td>-122.39447</td>\n",
              "      <td>0</td>\n",
              "    </tr>\n",
              "    <tr>\n",
              "      <th>2008-05-17 14:15:35</th>\n",
              "      <td>37.75149</td>\n",
              "      <td>-122.39446</td>\n",
              "      <td>0</td>\n",
              "    </tr>\n",
              "    <tr>\n",
              "      <th>2008-05-17 14:41:43</th>\n",
              "      <td>37.75144</td>\n",
              "      <td>-122.39449</td>\n",
              "      <td>0</td>\n",
              "    </tr>\n",
              "  </tbody>\n",
              "</table>\n",
              "</div>"
            ],
            "text/plain": [
              "                            latitude  longitude  occupied\n",
              "user   time                                              \n",
              "abboip 2008-05-17 14:12:10  37.75153 -122.39447         0\n",
              "       2008-05-17 14:13:34  37.75149 -122.39447         0\n",
              "       2008-05-17 14:14:34  37.75149 -122.39447         0\n",
              "       2008-05-17 14:15:35  37.75149 -122.39446         0\n",
              "       2008-05-17 14:41:43  37.75144 -122.39449         0"
            ]
          },
          "metadata": {
            "tags": []
          },
          "execution_count": 2
        }
      ]
    },
    {
      "metadata": {
        "colab_type": "text",
        "id": "SRCEhqT6ZLYO"
      },
      "cell_type": "markdown",
      "source": [
        "## Convert the dataset to a mapping of users to the strings of their movements"
      ]
    },
    {
      "metadata": {
        "colab_type": "code",
        "id": "7NmsLO-RC0Lb",
        "outputId": "8a392a30-c6f0-4aa0-af46-ca80bcd1a670",
        "colab": {
          "base_uri": "https://localhost:8080/",
          "height": 136
        }
      },
      "cell_type": "code",
      "source": [
        "df = utils.records_to_user_geolcation(df)\n",
        "df.head()"
      ],
      "execution_count": 3,
      "outputs": [
        {
          "output_type": "execute_result",
          "data": {
            "text/plain": [
              "user\n",
              "abboip      [[15126.000000000002, -122.39447, 37.751529999...\n",
              "abcoij      [[47486.0, -122.41466000000001, 37.80346], [47...\n",
              "abdremlu    [[11949.0, -122.39093000000001, 37.75521], [12...\n",
              "abgibo      [[16.0, -122.4374, 37.7733], [61.0000000000000...\n",
              "abjoolaw    [[13856.0, -122.39747, 37.75159], [13916.0, -1...\n",
              "dtype: object"
            ]
          },
          "metadata": {
            "tags": []
          },
          "execution_count": 3
        }
      ]
    },
    {
      "metadata": {
        "colab_type": "text",
        "id": "yblG4Z8WG1Uk"
      },
      "cell_type": "markdown",
      "source": [
        "## Split the data into training and test/validation sets\n",
        "Keep the data of 10 users from the networks during traing in order to 'visually' validate that the network is working later on."
      ]
    },
    {
      "metadata": {
        "colab_type": "code",
        "id": "xz7wjucOGylA",
        "outputId": "aa8621ea-d061-49f3-ee4c-501df5d4c306",
        "colab": {
          "base_uri": "https://localhost:8080/",
          "height": 34
        }
      },
      "cell_type": "code",
      "source": [
        "len(df)"
      ],
      "execution_count": 4,
      "outputs": [
        {
          "output_type": "execute_result",
          "data": {
            "text/plain": [
              "536"
            ]
          },
          "metadata": {
            "tags": []
          },
          "execution_count": 4
        }
      ]
    },
    {
      "metadata": {
        "colab_type": "code",
        "id": "_oMYwxN1HOqZ",
        "outputId": "9e8a822b-68e3-4f06-b853-98ecf1b4c7b8",
        "colab": {
          "base_uri": "https://localhost:8080/",
          "height": 51
        }
      },
      "cell_type": "code",
      "source": [
        "df_train = df.iloc[:len(df) - 10]\n",
        "df_test = df.iloc[len(df) - 10:]\n",
        "\n",
        "print('Train:', len(df_train))\n",
        "print('Test:', len(df_test))"
      ],
      "execution_count": 5,
      "outputs": [
        {
          "output_type": "stream",
          "text": [
            "Train: 526\n",
            "Test: 10\n"
          ],
          "name": "stdout"
        }
      ]
    },
    {
      "metadata": {
        "id": "IrqvSWrgO0q4",
        "colab_type": "text"
      },
      "cell_type": "markdown",
      "source": [
        "## Make one single sequence to train on from the training data"
      ]
    },
    {
      "metadata": {
        "id": "MIG5Ka6hO6Cv",
        "colab_type": "code",
        "colab": {}
      },
      "cell_type": "code",
      "source": [
        "data_train = utils.user_geolocation_to_single_sequence(df_train)"
      ],
      "execution_count": 0,
      "outputs": []
    },
    {
      "metadata": {
        "id": "LLhHUkSaPPRy",
        "colab_type": "code",
        "colab": {
          "base_uri": "https://localhost:8080/",
          "height": 136
        },
        "outputId": "575d9c07-8f43-4358-9c01-7cab464da22c"
      },
      "cell_type": "code",
      "source": [
        "data_train"
      ],
      "execution_count": 7,
      "outputs": [
        {
          "output_type": "execute_result",
          "data": {
            "text/plain": [
              "array([[ 1.5126000e+04, -1.2239447e+02,  3.7751530e+01],\n",
              "       [ 1.5210000e+04, -1.2239447e+02,  3.7751490e+01],\n",
              "       [ 1.5270000e+04, -1.2239447e+02,  3.7751490e+01],\n",
              "       ...,\n",
              "       [ 2.0688330e+06, -1.2241069e+02,  3.7792440e+01],\n",
              "       [ 2.0688930e+06, -1.2241165e+02,  3.7792150e+01],\n",
              "       [ 2.0689140e+06, -1.2241172e+02,  3.7792120e+01]])"
            ]
          },
          "metadata": {
            "tags": []
          },
          "execution_count": 7
        }
      ]
    },
    {
      "metadata": {
        "id": "MeUZM_UPPRrd",
        "colab_type": "code",
        "colab": {
          "base_uri": "https://localhost:8080/",
          "height": 34
        },
        "outputId": "c059887d-41c4-4b6a-87aa-9aa95c46f023"
      },
      "cell_type": "code",
      "source": [
        "data_train.shape"
      ],
      "execution_count": 8,
      "outputs": [
        {
          "output_type": "execute_result",
          "data": {
            "text/plain": [
              "(11021539, 3)"
            ]
          },
          "metadata": {
            "tags": []
          },
          "execution_count": 8
        }
      ]
    },
    {
      "metadata": {
        "id": "P3vZBBoMW2Ln",
        "colab_type": "text"
      },
      "cell_type": "markdown",
      "source": [
        "## Create the scaler on the training data\n",
        "The sequence for the generator is used to fit a `StandardScaler` to the training data.\n",
        "This scaler should later be saved alongside the trained model, as the scaler should only be fitted to the training data and the training data changes on every execution of this Notebook."
      ]
    },
    {
      "metadata": {
        "id": "InyVPOmMW1FO",
        "colab_type": "code",
        "outputId": "dc90af6d-8a60-4bc9-fc2a-332bc37c3672",
        "colab": {
          "base_uri": "https://localhost:8080/",
          "height": 51
        }
      },
      "cell_type": "code",
      "source": [
        "from sklearn import preprocessing\n",
        "\n",
        "scaler = preprocessing.StandardScaler()\n",
        "scaler.fit(data_train)\n",
        "\n",
        "print('Means: %f %f %f' % (scaler.mean_[0], scaler.mean_[1], scaler.mean_[2]))\n",
        "print('Standard deviations: %f %f %f' % (scaler.var_[0], scaler.var_[1], scaler.var_[2]))"
      ],
      "execution_count": 9,
      "outputs": [
        {
          "output_type": "stream",
          "text": [
            "Means: 1017898.964911 -122.412463 37.763528\n",
            "Standard deviations: 345921612396.343018 0.001279 0.002907\n"
          ],
          "name": "stdout"
        }
      ]
    },
    {
      "metadata": {
        "id": "AZdMbgCJ6ZWX",
        "colab_type": "code",
        "colab": {}
      },
      "cell_type": "code",
      "source": [
        "data_train = scaler.transform(data_train)"
      ],
      "execution_count": 0,
      "outputs": []
    },
    {
      "metadata": {
        "id": "qwcrTH0J642L",
        "colab_type": "code",
        "colab": {
          "base_uri": "https://localhost:8080/",
          "height": 34
        },
        "outputId": "28422448-3838-4795-f9e6-d03df93699f9"
      },
      "cell_type": "code",
      "source": [
        "with open('scalers/citybased_gan/g_GRU-256_rand-32_Dense-3_adam_bce_default_d_gin_GRU-128_Dense-1_adam_bce_default_cabspotting_64_100.pkl', 'wb') as file:\n",
        "    pickle.dump(scaler, file)\n",
        "    print('Scaler saved')"
      ],
      "execution_count": 11,
      "outputs": [
        {
          "output_type": "stream",
          "text": [
            "Scaler saved\n"
          ],
          "name": "stdout"
        }
      ]
    },
    {
      "metadata": {
        "colab_type": "text",
        "id": "vFm92XsBiiGO"
      },
      "cell_type": "markdown",
      "source": [
        "## Build the generator"
      ]
    },
    {
      "metadata": {
        "id": "yQ_PH0TDE6VW",
        "colab_type": "code",
        "colab": {}
      },
      "cell_type": "code",
      "source": [
        "# Inputs\n",
        "sequence_input = tf.keras.layers.Input(shape=(None, 3), name='sequence_input')\n",
        "random_input = tf.keras.layers.Input(shape=(32,), name='random_input')\n",
        "\n",
        "# Recurrent part\n",
        "recurrent = tf.keras.layers.GRU(256)(sequence_input)\n",
        "\n",
        "# Add random variation\n",
        "x = tf.keras.layers.concatenate([recurrent, random_input])\n",
        "prediction = tf.keras.layers.Dense(3)(x)\n",
        "\n",
        "# Create the model\n",
        "generator = tf.keras.models.Model(inputs=[sequence_input, random_input], outputs=prediction)"
      ],
      "execution_count": 0,
      "outputs": []
    },
    {
      "metadata": {
        "id": "um1_MCVSFF2d",
        "colab_type": "code",
        "colab": {
          "base_uri": "https://localhost:8080/",
          "height": 323
        },
        "outputId": "762b8e9b-189a-461f-a745-4088d0e01844"
      },
      "cell_type": "code",
      "source": [
        "generator.summary()"
      ],
      "execution_count": 13,
      "outputs": [
        {
          "output_type": "stream",
          "text": [
            "__________________________________________________________________________________________________\n",
            "Layer (type)                    Output Shape         Param #     Connected to                     \n",
            "==================================================================================================\n",
            "sequence_input (InputLayer)     (None, None, 3)      0                                            \n",
            "__________________________________________________________________________________________________\n",
            "gru (GRU)                       (None, 256)          199680      sequence_input[0][0]             \n",
            "__________________________________________________________________________________________________\n",
            "random_input (InputLayer)       (None, 32)           0                                            \n",
            "__________________________________________________________________________________________________\n",
            "concatenate (Concatenate)       (None, 288)          0           gru[0][0]                        \n",
            "                                                                 random_input[0][0]               \n",
            "__________________________________________________________________________________________________\n",
            "dense (Dense)                   (None, 3)            867         concatenate[0][0]                \n",
            "==================================================================================================\n",
            "Total params: 200,547\n",
            "Trainable params: 200,547\n",
            "Non-trainable params: 0\n",
            "__________________________________________________________________________________________________\n"
          ],
          "name": "stdout"
        }
      ]
    },
    {
      "metadata": {
        "id": "WMsocYm5Jtrh",
        "colab_type": "code",
        "colab": {
          "base_uri": "https://localhost:8080/",
          "height": 34
        },
        "outputId": "d0222709-1cb3-4793-cf95-2e4985c3c258"
      },
      "cell_type": "code",
      "source": [
        "generator.input_shape"
      ],
      "execution_count": 14,
      "outputs": [
        {
          "output_type": "execute_result",
          "data": {
            "text/plain": [
              "[(None, None, 3), (None, 32)]"
            ]
          },
          "metadata": {
            "tags": []
          },
          "execution_count": 14
        }
      ]
    },
    {
      "metadata": {
        "id": "s2ffO24ye_sE",
        "colab_type": "code",
        "colab": {
          "base_uri": "https://localhost:8080/",
          "height": 422
        },
        "outputId": "87874264-1432-4a5d-e083-d0781e0b1c82"
      },
      "cell_type": "code",
      "source": [
        "tf.keras.utils.plot_model(generator, to_file='test_keras_plot_model.png', show_shapes=True)\n",
        "IPython.display.Image('test_keras_plot_model.png')"
      ],
      "execution_count": 15,
      "outputs": [
        {
          "output_type": "execute_result",
          "data": {
            "image/png": "[encoded data removed]",
            "text/plain": [
              "<IPython.core.display.Image object>"
            ]
          },
          "metadata": {
            "tags": []
          },
          "execution_count": 15
        }
      ]
    },
    {
      "metadata": {
        "colab_type": "text",
        "id": "h5g6r0RdQKdA"
      },
      "cell_type": "markdown",
      "source": [
        "## Build the discriminator"
      ]
    },
    {
      "metadata": {
        "id": "NxaNCgTIFKe5",
        "colab_type": "code",
        "colab": {}
      },
      "cell_type": "code",
      "source": [
        "discriminator = tf.keras.Sequential([\n",
        "    tf.keras.layers.GRU(128, input_shape=(None, 3)),\n",
        "    tf.keras.layers.Dense(1, activation='sigmoid')\n",
        "])"
      ],
      "execution_count": 0,
      "outputs": []
    },
    {
      "metadata": {
        "colab_type": "code",
        "id": "wJkur_2EQoxx",
        "outputId": "d9cd7def-9365-44ce-9b01-4c2b672f7a94",
        "colab": {
          "base_uri": "https://localhost:8080/",
          "height": 204
        }
      },
      "cell_type": "code",
      "source": [
        "discriminator.summary()"
      ],
      "execution_count": 17,
      "outputs": [
        {
          "output_type": "stream",
          "text": [
            "_________________________________________________________________\n",
            "Layer (type)                 Output Shape              Param #   \n",
            "=================================================================\n",
            "gru_1 (GRU)                  (None, 128)               50688     \n",
            "_________________________________________________________________\n",
            "dense_1 (Dense)              (None, 1)                 129       \n",
            "=================================================================\n",
            "Total params: 50,817\n",
            "Trainable params: 50,817\n",
            "Non-trainable params: 0\n",
            "_________________________________________________________________\n"
          ],
          "name": "stdout"
        }
      ]
    },
    {
      "metadata": {
        "id": "qB6WLzM_Ji8v",
        "colab_type": "code",
        "colab": {
          "base_uri": "https://localhost:8080/",
          "height": 34
        },
        "outputId": "9ae437c2-8b9b-40fb-fa0e-44b98943352e"
      },
      "cell_type": "code",
      "source": [
        "discriminator.input_shape"
      ],
      "execution_count": 18,
      "outputs": [
        {
          "output_type": "execute_result",
          "data": {
            "text/plain": [
              "(None, None, 3)"
            ]
          },
          "metadata": {
            "tags": []
          },
          "execution_count": 18
        }
      ]
    },
    {
      "metadata": {
        "id": "CeprcFe8e07m",
        "colab_type": "code",
        "colab": {
          "base_uri": "https://localhost:8080/",
          "height": 298
        },
        "outputId": "70688be2-8bc2-494a-f988-365ce7e199eb"
      },
      "cell_type": "code",
      "source": [
        "tf.keras.utils.plot_model(discriminator, to_file='test_keras_plot_model.png', show_shapes=True)\n",
        "IPython.display.Image('test_keras_plot_model.png')"
      ],
      "execution_count": 19,
      "outputs": [
        {
          "output_type": "execute_result",
          "data": {
            "image/png": "[encoded data removed]",
            "text/plain": [
              "<IPython.core.display.Image object>"
            ]
          },
          "metadata": {
            "tags": []
          },
          "execution_count": 19
        }
      ]
    },
    {
      "metadata": {
        "colab_type": "text",
        "id": "2wl0aHgEQ3CK"
      },
      "cell_type": "markdown",
      "source": [
        "## Put the adversarial model together"
      ]
    },
    {
      "metadata": {
        "colab_type": "code",
        "id": "ouh6hfmzRFwF",
        "colab": {}
      },
      "cell_type": "code",
      "source": [
        "discriminator.compile(optimizer='adam', loss='binary_crossentropy', metrics=['accuracy'])"
      ],
      "execution_count": 0,
      "outputs": []
    },
    {
      "metadata": {
        "colab_type": "code",
        "id": "XfkV94BKR3KO",
        "colab": {}
      },
      "cell_type": "code",
      "source": [
        "discriminator.trainable = False\n",
        "\n",
        "g_out = generator([sequence_input, random_input])\n",
        "g_out = tf.keras.layers.Reshape((1, 3))(g_out)\n",
        "d_in = tf.keras.layers.Concatenate(axis=1)([sequence_input, g_out])\n",
        "d_out = discriminator(d_in)\n",
        "\n",
        "adversarial = tf.keras.models.Model(inputs=[sequence_input, random_input], outputs=d_out)\n",
        "\n",
        "adversarial.compile(optimizer='adam', loss='binary_crossentropy')"
      ],
      "execution_count": 0,
      "outputs": []
    },
    {
      "metadata": {
        "id": "u5V5S9bUYGAE",
        "colab_type": "code",
        "outputId": "b317b964-ff86-40f2-db50-0a04f0571f4e",
        "colab": {
          "base_uri": "https://localhost:8080/",
          "height": 374
        }
      },
      "cell_type": "code",
      "source": [
        "adversarial.summary()"
      ],
      "execution_count": 22,
      "outputs": [
        {
          "output_type": "stream",
          "text": [
            "__________________________________________________________________________________________________\n",
            "Layer (type)                    Output Shape         Param #     Connected to                     \n",
            "==================================================================================================\n",
            "sequence_input (InputLayer)     (None, None, 3)      0                                            \n",
            "__________________________________________________________________________________________________\n",
            "random_input (InputLayer)       (None, 32)           0                                            \n",
            "__________________________________________________________________________________________________\n",
            "model (Model)                   (None, 3)            200547      sequence_input[0][0]             \n",
            "                                                                 random_input[0][0]               \n",
            "__________________________________________________________________________________________________\n",
            "reshape (Reshape)               (None, 1, 3)         0           model[1][0]                      \n",
            "__________________________________________________________________________________________________\n",
            "concatenate_1 (Concatenate)     (None, None, 3)      0           sequence_input[0][0]             \n",
            "                                                                 reshape[0][0]                    \n",
            "__________________________________________________________________________________________________\n",
            "sequential (Sequential)         (None, 1)            50817       concatenate_1[0][0]              \n",
            "==================================================================================================\n",
            "Total params: 251,364\n",
            "Trainable params: 200,547\n",
            "Non-trainable params: 50,817\n",
            "__________________________________________________________________________________________________\n"
          ],
          "name": "stdout"
        }
      ]
    },
    {
      "metadata": {
        "id": "9TyEzAOedDfJ",
        "colab_type": "code",
        "colab": {
          "base_uri": "https://localhost:8080/",
          "height": 34
        },
        "outputId": "6178add1-a8a2-413c-f1d0-8435f0a096e2"
      },
      "cell_type": "code",
      "source": [
        "adversarial.input_shape"
      ],
      "execution_count": 23,
      "outputs": [
        {
          "output_type": "execute_result",
          "data": {
            "text/plain": [
              "[(None, None, 3), (None, 32)]"
            ]
          },
          "metadata": {
            "tags": []
          },
          "execution_count": 23
        }
      ]
    },
    {
      "metadata": {
        "id": "kmsEk4GLdzZ1",
        "colab_type": "code",
        "colab": {
          "base_uri": "https://localhost:8080/",
          "height": 533
        },
        "outputId": "73b868e2-f162-4ef7-9fe5-1dae86910adb"
      },
      "cell_type": "code",
      "source": [
        "tf.keras.utils.plot_model(adversarial, to_file='test_keras_plot_model.png', show_shapes=True)\n",
        "IPython.display.Image('test_keras_plot_model.png')"
      ],
      "execution_count": 24,
      "outputs": [
        {
          "output_type": "execute_result",
          "data": {
            "image/png": "[encoded data removed]",
            "text/plain": [
              "<IPython.core.display.Image object>"
            ]
          },
          "metadata": {
            "tags": []
          },
          "execution_count": 24
        }
      ]
    },
    {
      "metadata": {
        "id": "0k0kU1UgNyba",
        "colab_type": "text"
      },
      "cell_type": "markdown",
      "source": [
        "## Set the data up for training\n",
        "The data should be split into a list of sequences of `SEQ_LENGTH` and then three copies shall be made and shuffled seperately: one copy as the input for generating fake data to train the discriminator, one as real data to train the discriminator and a third one as input to the adversarial model to train the generator.\n",
        "\n",
        "Suffling is supposed to happend during training at the beginning of each epoch, though."
      ]
    },
    {
      "metadata": {
        "id": "743m_TBYPMDB",
        "colab_type": "code",
        "colab": {}
      },
      "cell_type": "code",
      "source": [
        "SEQ_LENGTH = 100"
      ],
      "execution_count": 0,
      "outputs": []
    },
    {
      "metadata": {
        "id": "mr5rHo3rYVjB",
        "colab_type": "code",
        "colab": {
          "base_uri": "https://localhost:8080/",
          "height": 34
        },
        "outputId": "e93158b9-f27f-411c-bb59-cd4c44c0bbee"
      },
      "cell_type": "code",
      "source": [
        "real_outputs = data_train[:(len(data_train) // (SEQ_LENGTH + 1)) * (SEQ_LENGTH + 1)]\n",
        "real_outputs = real_outputs.reshape([-1, SEQ_LENGTH + 1, 3])\n",
        "\n",
        "real_outputs.shape"
      ],
      "execution_count": 26,
      "outputs": [
        {
          "output_type": "execute_result",
          "data": {
            "text/plain": [
              "(109124, 101, 3)"
            ]
          },
          "metadata": {
            "tags": []
          },
          "execution_count": 26
        }
      ]
    },
    {
      "metadata": {
        "id": "BvX4yTy1X1fC",
        "colab_type": "code",
        "colab": {
          "base_uri": "https://localhost:8080/",
          "height": 34
        },
        "outputId": "e5ef4d6d-7a0b-474b-a433-a3356f4906b1"
      },
      "cell_type": "code",
      "source": [
        "g_inputs = real_outputs[:, :100].copy()\n",
        "\n",
        "g_inputs.shape"
      ],
      "execution_count": 27,
      "outputs": [
        {
          "output_type": "execute_result",
          "data": {
            "text/plain": [
              "(109124, 100, 3)"
            ]
          },
          "metadata": {
            "tags": []
          },
          "execution_count": 27
        }
      ]
    },
    {
      "metadata": {
        "id": "qiJmxLvGv0uF",
        "colab_type": "code",
        "colab": {
          "base_uri": "https://localhost:8080/",
          "height": 34
        },
        "outputId": "89129e59-0ddf-494b-c438-0e99c6171ed3"
      },
      "cell_type": "code",
      "source": [
        "a_inputs = g_inputs.copy()\n",
        "\n",
        "a_inputs.shape"
      ],
      "execution_count": 28,
      "outputs": [
        {
          "output_type": "execute_result",
          "data": {
            "text/plain": [
              "(109124, 100, 3)"
            ]
          },
          "metadata": {
            "tags": []
          },
          "execution_count": 28
        }
      ]
    },
    {
      "metadata": {
        "id": "YeLzaSjjVL52",
        "colab_type": "code",
        "colab": {
          "base_uri": "https://localhost:8080/",
          "height": 68
        },
        "outputId": "39b7a88e-8107-4602-9c45-c712931f479b"
      },
      "cell_type": "code",
      "source": [
        "BATCH_SIZE = 64\n",
        "n_batches = len(real_outputs) // BATCH_SIZE\n",
        "\n",
        "real_outputs = real_outputs[:n_batches * BATCH_SIZE]\n",
        "g_inputs = g_inputs[:n_batches * BATCH_SIZE]\n",
        "\n",
        "print('real_outputs:', real_outputs.shape)\n",
        "print('g_inputs:    ', g_inputs.shape)\n",
        "print('a_inputs:    ', a_inputs.shape)"
      ],
      "execution_count": 29,
      "outputs": [
        {
          "output_type": "stream",
          "text": [
            "real_outputs: (109120, 101, 3)\n",
            "g_inputs:     (109120, 100, 3)\n",
            "a_inputs:     (109124, 100, 3)\n"
          ],
          "name": "stdout"
        }
      ]
    },
    {
      "metadata": {
        "colab_type": "text",
        "id": "dkkKIrBR2qdl"
      },
      "cell_type": "markdown",
      "source": [
        "## Training"
      ]
    },
    {
      "metadata": {
        "id": "Zde4DIYcay0y",
        "colab_type": "code",
        "colab": {
          "base_uri": "https://localhost:8080/",
          "height": 966
        },
        "outputId": "ce85ca70-4969-458f-bd4d-989aa0c3d547"
      },
      "cell_type": "code",
      "source": [
        "EPOCHS = 40\n",
        "\n",
        "history = {'g_loss': [], 'd_loss': []}\n",
        "\n",
        "tf.logging.set_verbosity(tf.logging.ERROR)\n",
        "\n",
        "for epoch in range(EPOCHS):\n",
        "    np.random.shuffle(real_outputs)\n",
        "    np.random.shuffle(g_inputs)\n",
        "    np.random.shuffle(a_inputs)\n",
        "    \n",
        "    for batch in range(n_batches):\n",
        "        # Train the discriminator\n",
        "        g_in = g_inputs[batch * BATCH_SIZE:(batch + 1) * BATCH_SIZE][:32]\n",
        "        noise = np.random.rand(BATCH_SIZE // 2, 32)\n",
        "        fake_preds = generator.predict([g_in, noise])\n",
        "        fake_preds = fake_preds.reshape([BATCH_SIZE // 2, 1, 3])\n",
        "        fake_data = np.concatenate([g_in, fake_preds], axis=1)\n",
        "        fake_labels = np.zeros(BATCH_SIZE // 2)\n",
        "        \n",
        "        real_data = real_outputs[batch * BATCH_SIZE:(batch + 1) * BATCH_SIZE][:32]\n",
        "        real_labels = np.ones(BATCH_SIZE // 2)\n",
        "        \n",
        "        d_loss_fake = discriminator.train_on_batch(fake_data, fake_labels)\n",
        "        d_loss_real = discriminator.train_on_batch(real_data, real_labels)\n",
        "        d_loss = 0.5 * np.add(d_loss_fake, d_loss_real)\n",
        "        \n",
        "        # Train the generator\n",
        "        a_in = a_inputs[batch * BATCH_SIZE:(batch + 1) * BATCH_SIZE]\n",
        "        noise = np.random.rand(BATCH_SIZE, 32)\n",
        "        g_loss = adversarial.train_on_batch([a_in, noise], np.ones(BATCH_SIZE))\n",
        "                \n",
        "        # Logging, output etc.\n",
        "        history['g_loss'].append(g_loss.mean())\n",
        "        history['d_loss'].append(d_loss.mean())\n",
        "        print(history)\n",
        "        if batch % 1 == 0:\n",
        "            print('\\rEpoch {:02d} -> step {:06d}/{:06d}: g_loss: {:.4f}, d_loss: {:.4f}'.format(epoch + 1,\n",
        "                                                                                                (batch + 1) * BATCH_SIZE,\n",
        "                                                                                                n_batches * BATCH_SIZE,\n",
        "                                                                                                g_loss.mean(), d_loss.mean()),\n",
        "                                                                                                end='')\n",
        "    # Save checkpoints\n",
        "    generator.save('checkpoints/citybased_gan/g_GRU-256_rand-32_Dense-3_adam_bce_default_d_gin_GRU-128_Dense-1_adam_bce_default_cabspotting_64_100_{:02d}_g.h5'.format(epoch + 1))\n",
        "    discriminator.save('checkpoints/citybased_gan/g_GRU-256_rand-32_Dense-3_adam_bce_default_d_gin_GRU-128_Dense-1_adam_bce_default_cabspotting_64_100_{:02d}_d.h5'.format(epoch + 1))\n",
        "    adversarial.save('checkpoints/citybased_gan/g_GRU-256_rand-32_Dense-3_adam_bce_default_d_gin_GRU-128_Dense-1_adam_bce_default_cabspotting_64_100_{:02d}_a.h5'.format(epoch + 1))\n",
        "    \n",
        "    # Save history\n",
        "    with open('histories/citybased_gan/g_GRU-256_rand-32_Dense-3_adam_bce_default_d_gin_GRU-128_Dense-1_adam_bce_default_cabspotting_64_100_{:02d}.pkl'.format(epoch + 1), 'wb') as file:\n",
        "        pickle.dump(history, file)\n",
        "    \n",
        "    # Print epoch summary\n",
        "    avrg_g_loss = np.array(history['g_loss'][epoch * len(g_inputs):(epoch + 1) * len(g_inputs)]).mean()\n",
        "    avrg_d_loss = np.array(history['d_loss'][epoch * len(g_inputs):(epoch + 1) * len(g_inputs)]).mean()\n",
        "    print('\\rEpoch {:02d}: g_loss: {:.4f}, d_loss: {:.4f}'.format(epoch + 1, avrg_g_loss, avrg_d_loss))"
      ],
      "execution_count": 31,
      "outputs": [
        {
          "output_type": "stream",
          "text": [
            "{'g_loss': [0.690987], 'd_loss': [0.61929053]}\n",
            "Epoch 01 -> step 000064/109120: g_loss: 0.6910, d_loss: 0.6193{'g_loss': [0.690987, 0.6910249], 'd_loss': [0.61929053, 0.5920933]}\n",
            "Epoch 01 -> step 000128/109120: g_loss: 0.6910, d_loss: 0.5921{'g_loss': [0.690987, 0.6910249, 0.69578815], 'd_loss': [0.61929053, 0.5920933, 0.5981661]}\n",
            "Epoch 01 -> step 000192/109120: g_loss: 0.6958, d_loss: 0.5982{'g_loss': [0.690987, 0.6910249, 0.69578815, 0.6925281], 'd_loss': [0.61929053, 0.5920933, 0.5981661, 0.58351445]}\n",
            "Epoch 01 -> step 000256/109120: g_loss: 0.6925, d_loss: 0.5835{'g_loss': [0.690987, 0.6910249, 0.69578815, 0.6925281, 0.6944734], 'd_loss': [0.61929053, 0.5920933, 0.5981661, 0.58351445, 0.625564]}\n",
            "Epoch 01 -> step 000320/109120: g_loss: 0.6945, d_loss: 0.6256{'g_loss': [0.690987, 0.6910249, 0.69578815, 0.6925281, 0.6944734, 0.6884286], 'd_loss': [0.61929053, 0.5920933, 0.5981661, 0.58351445, 0.625564, 0.57948375]}\n",
            "Epoch 01 -> step 000384/109120: g_loss: 0.6884, d_loss: 0.5795{'g_loss': [0.690987, 0.6910249, 0.69578815, 0.6925281, 0.6944734, 0.6884286, 0.6948256], 'd_loss': [0.61929053, 0.5920933, 0.5981661, 0.58351445, 0.625564, 0.57948375, 0.5601027]}\n",
            "Epoch 01 -> step 000448/109120: g_loss: 0.6948, d_loss: 0.5601{'g_loss': [0.690987, 0.6910249, 0.69578815, 0.6925281, 0.6944734, 0.6884286, 0.6948256, 0.69338286], 'd_loss': [0.61929053, 0.5920933, 0.5981661, 0.58351445, 0.625564, 0.57948375, 0.5601027, 0.59533167]}\n",
            "Epoch 01 -> step 000512/109120: g_loss: 0.6934, d_loss: 0.5953{'g_loss': [0.690987, 0.6910249, 0.69578815, 0.6925281, 0.6944734, 0.6884286, 0.6948256, 0.69338286, 0.6930078], 'd_loss': [0.61929053, 0.5920933, 0.5981661, 0.58351445, 0.625564, 0.57948375, 0.5601027, 0.59533167, 0.6210717]}\n",
            "Epoch 01 -> step 000576/109120: g_loss: 0.6930, d_loss: 0.6211{'g_loss': [0.690987, 0.6910249, 0.69578815, 0.6925281, 0.6944734, 0.6884286, 0.6948256, 0.69338286, 0.6930078, 0.69525874], 'd_loss': [0.61929053, 0.5920933, 0.5981661, 0.58351445, 0.625564, 0.57948375, 0.5601027, 0.59533167, 0.6210717, 0.5215704]}\n",
            "Epoch 01 -> step 000640/109120: g_loss: 0.6953, d_loss: 0.5216{'g_loss': [0.690987, 0.6910249, 0.69578815, 0.6925281, 0.6944734, 0.6884286, 0.6948256, 0.69338286, 0.6930078, 0.69525874, 0.694927], 'd_loss': [0.61929053, 0.5920933, 0.5981661, 0.58351445, 0.625564, 0.57948375, 0.5601027, 0.59533167, 0.6210717, 0.5215704, 0.5806972]}\n",
            "Epoch 01 -> step 000704/109120: g_loss: 0.6949, d_loss: 0.5807{'g_loss': [0.690987, 0.6910249, 0.69578815, 0.6925281, 0.6944734, 0.6884286, 0.6948256, 0.69338286, 0.6930078, 0.69525874, 0.694927, 0.69428617], 'd_loss': [0.61929053, 0.5920933, 0.5981661, 0.58351445, 0.625564, 0.57948375, 0.5601027, 0.59533167, 0.6210717, 0.5215704, 0.5806972, 0.598469]}\n",
            "Epoch 01 -> step 000768/109120: g_loss: 0.6943, d_loss: 0.5985{'g_loss': [0.690987, 0.6910249, 0.69578815, 0.6925281, 0.6944734, 0.6884286, 0.6948256, 0.69338286, 0.6930078, 0.69525874, 0.694927, 0.69428617, 0.69582844], 'd_loss': [0.61929053, 0.5920933, 0.5981661, 0.58351445, 0.625564, 0.57948375, 0.5601027, 0.59533167, 0.6210717, 0.5215704, 0.5806972, 0.598469, 0.56718457]}\n",
            "Epoch 01 -> step 000832/109120: g_loss: 0.6958, d_loss: 0.5672{'g_loss': [0.690987, 0.6910249, 0.69578815, 0.6925281, 0.6944734, 0.6884286, 0.6948256, 0.69338286, 0.6930078, 0.69525874, 0.694927, 0.69428617, 0.69582844, 0.6998507], 'd_loss': [0.61929053, 0.5920933, 0.5981661, 0.58351445, 0.625564, 0.57948375, 0.5601027, 0.59533167, 0.6210717, 0.5215704, 0.5806972, 0.598469, 0.56718457, 0.56755227]}\n",
            "Epoch 01 -> step 000896/109120: g_loss: 0.6999, d_loss: 0.5676{'g_loss': [0.690987, 0.6910249, 0.69578815, 0.6925281, 0.6944734, 0.6884286, 0.6948256, 0.69338286, 0.6930078, 0.69525874, 0.694927, 0.69428617, 0.69582844, 0.6998507, 0.69442284], 'd_loss': [0.61929053, 0.5920933, 0.5981661, 0.58351445, 0.625564, 0.57948375, 0.5601027, 0.59533167, 0.6210717, 0.5215704, 0.5806972, 0.598469, 0.56718457, 0.56755227, 0.6256914]}\n",
            "Epoch 01 -> step 000960/109120: g_loss: 0.6944, d_loss: 0.6257{'g_loss': [0.690987, 0.6910249, 0.69578815, 0.6925281, 0.6944734, 0.6884286, 0.6948256, 0.69338286, 0.6930078, 0.69525874, 0.694927, 0.69428617, 0.69582844, 0.6998507, 0.69442284, 0.69255143], 'd_loss': [0.61929053, 0.5920933, 0.5981661, 0.58351445, 0.625564, 0.57948375, 0.5601027, 0.59533167, 0.6210717, 0.5215704, 0.5806972, 0.598469, 0.56718457, 0.56755227, 0.6256914, 0.6188873]}\n",
            "Epoch 01 -> step 001024/109120: g_loss: 0.6926, d_loss: 0.6189{'g_loss': [0.690987, 0.6910249, 0.69578815, 0.6925281, 0.6944734, 0.6884286, 0.6948256, 0.69338286, 0.6930078, 0.69525874, 0.694927, 0.69428617, 0.69582844, 0.6998507, 0.69442284, 0.69255143, 0.68940705], 'd_loss': [0.61929053, 0.5920933, 0.5981661, 0.58351445, 0.625564, 0.57948375, 0.5601027, 0.59533167, 0.6210717, 0.5215704, 0.5806972, 0.598469, 0.56718457, 0.56755227, 0.6256914, 0.6188873, 0.5963354]}\n",
            "Epoch 01 -> step 001088/109120: g_loss: 0.6894, d_loss: 0.5963{'g_loss': [0.690987, 0.6910249, 0.69578815, 0.6925281, 0.6944734, 0.6884286, 0.6948256, 0.69338286, 0.6930078, 0.69525874, 0.694927, 0.69428617, 0.69582844, 0.6998507, 0.69442284, 0.69255143, 0.68940705, 0.7024778], 'd_loss': [0.61929053, 0.5920933, 0.5981661, 0.58351445, 0.625564, 0.57948375, 0.5601027, 0.59533167, 0.6210717, 0.5215704, 0.5806972, 0.598469, 0.56718457, 0.56755227, 0.6256914, 0.6188873, 0.5963354, 0.58236134]}\n",
            "Epoch 01 -> step 001152/109120: g_loss: 0.7025, d_loss: 0.5824{'g_loss': [0.690987, 0.6910249, 0.69578815, 0.6925281, 0.6944734, 0.6884286, 0.6948256, 0.69338286, 0.6930078, 0.69525874, 0.694927, 0.69428617, 0.69582844, 0.6998507, 0.69442284, 0.69255143, 0.68940705, 0.7024778, 0.692393], 'd_loss': [0.61929053, 0.5920933, 0.5981661, 0.58351445, 0.625564, 0.57948375, 0.5601027, 0.59533167, 0.6210717, 0.5215704, 0.5806972, 0.598469, 0.56718457, 0.56755227, 0.6256914, 0.6188873, 0.5963354, 0.58236134, 0.6061733]}\n",
            "Epoch 01 -> step 001216/109120: g_loss: 0.6924, d_loss: 0.6062{'g_loss': [0.690987, 0.6910249, 0.69578815, 0.6925281, 0.6944734, 0.6884286, 0.6948256, 0.69338286, 0.6930078, 0.69525874, 0.694927, 0.69428617, 0.69582844, 0.6998507, 0.69442284, 0.69255143, 0.68940705, 0.7024778, 0.692393, 0.69227445], 'd_loss': [0.61929053, 0.5920933, 0.5981661, 0.58351445, 0.625564, 0.57948375, 0.5601027, 0.59533167, 0.6210717, 0.5215704, 0.5806972, 0.598469, 0.56718457, 0.56755227, 0.6256914, 0.6188873, 0.5963354, 0.58236134, 0.6061733, 0.5901493]}\n",
            "Epoch 01 -> step 001280/109120: g_loss: 0.6923, d_loss: 0.5901"
          ],
          "name": "stdout"
        },
        {
          "output_type": "error",
          "ename": "KeyboardInterrupt",
          "evalue": "ignored",
          "traceback": [
            "\u001b[0;31m---------------------------------------------------------------------------\u001b[0m",
            "\u001b[0;31mKeyboardInterrupt\u001b[0m                         Traceback (most recent call last)",
            "\u001b[0;32m<ipython-input-31-d03a49b1b7a9>\u001b[0m in \u001b[0;36m<module>\u001b[0;34m()\u001b[0m\n\u001b[1;32m     23\u001b[0m \u001b[0;34m\u001b[0m\u001b[0m\n\u001b[1;32m     24\u001b[0m         \u001b[0md_loss_fake\u001b[0m \u001b[0;34m=\u001b[0m \u001b[0mdiscriminator\u001b[0m\u001b[0;34m.\u001b[0m\u001b[0mtrain_on_batch\u001b[0m\u001b[0;34m(\u001b[0m\u001b[0mfake_data\u001b[0m\u001b[0;34m,\u001b[0m \u001b[0mfake_labels\u001b[0m\u001b[0;34m)\u001b[0m\u001b[0;34m\u001b[0m\u001b[0;34m\u001b[0m\u001b[0m\n\u001b[0;32m---> 25\u001b[0;31m         \u001b[0md_loss_real\u001b[0m \u001b[0;34m=\u001b[0m \u001b[0mdiscriminator\u001b[0m\u001b[0;34m.\u001b[0m\u001b[0mtrain_on_batch\u001b[0m\u001b[0;34m(\u001b[0m\u001b[0mreal_data\u001b[0m\u001b[0;34m,\u001b[0m \u001b[0mreal_labels\u001b[0m\u001b[0;34m)\u001b[0m\u001b[0;34m\u001b[0m\u001b[0;34m\u001b[0m\u001b[0m\n\u001b[0m\u001b[1;32m     26\u001b[0m         \u001b[0md_loss\u001b[0m \u001b[0;34m=\u001b[0m \u001b[0;36m0.5\u001b[0m \u001b[0;34m*\u001b[0m \u001b[0mnp\u001b[0m\u001b[0;34m.\u001b[0m\u001b[0madd\u001b[0m\u001b[0;34m(\u001b[0m\u001b[0md_loss_fake\u001b[0m\u001b[0;34m,\u001b[0m \u001b[0md_loss_real\u001b[0m\u001b[0;34m)\u001b[0m\u001b[0;34m\u001b[0m\u001b[0;34m\u001b[0m\u001b[0m\n\u001b[1;32m     27\u001b[0m \u001b[0;34m\u001b[0m\u001b[0m\n",
            "\u001b[0;32m/usr/local/lib/python3.6/dist-packages/tensorflow/python/keras/engine/training.py\u001b[0m in \u001b[0;36mtrain_on_batch\u001b[0;34m(self, x, y, sample_weight, class_weight)\u001b[0m\n\u001b[1;32m   1938\u001b[0m \u001b[0;34m\u001b[0m\u001b[0m\n\u001b[1;32m   1939\u001b[0m       \u001b[0mself\u001b[0m\u001b[0;34m.\u001b[0m\u001b[0m_make_train_function\u001b[0m\u001b[0;34m(\u001b[0m\u001b[0;34m)\u001b[0m\u001b[0;34m\u001b[0m\u001b[0;34m\u001b[0m\u001b[0m\n\u001b[0;32m-> 1940\u001b[0;31m       \u001b[0moutputs\u001b[0m \u001b[0;34m=\u001b[0m \u001b[0mself\u001b[0m\u001b[0;34m.\u001b[0m\u001b[0mtrain_function\u001b[0m\u001b[0;34m(\u001b[0m\u001b[0mins\u001b[0m\u001b[0;34m)\u001b[0m\u001b[0;34m\u001b[0m\u001b[0;34m\u001b[0m\u001b[0m\n\u001b[0m\u001b[1;32m   1941\u001b[0m \u001b[0;34m\u001b[0m\u001b[0m\n\u001b[1;32m   1942\u001b[0m     \u001b[0;32mif\u001b[0m \u001b[0mlen\u001b[0m\u001b[0;34m(\u001b[0m\u001b[0moutputs\u001b[0m\u001b[0;34m)\u001b[0m \u001b[0;34m==\u001b[0m \u001b[0;36m1\u001b[0m\u001b[0;34m:\u001b[0m\u001b[0;34m\u001b[0m\u001b[0;34m\u001b[0m\u001b[0m\n",
            "\u001b[0;32m/usr/local/lib/python3.6/dist-packages/tensorflow/python/keras/backend.py\u001b[0m in \u001b[0;36m__call__\u001b[0;34m(self, inputs)\u001b[0m\n\u001b[1;32m   2984\u001b[0m \u001b[0;34m\u001b[0m\u001b[0m\n\u001b[1;32m   2985\u001b[0m     fetched = self._callable_fn(*array_vals,\n\u001b[0;32m-> 2986\u001b[0;31m                                 run_metadata=self.run_metadata)\n\u001b[0m\u001b[1;32m   2987\u001b[0m     \u001b[0mself\u001b[0m\u001b[0;34m.\u001b[0m\u001b[0m_call_fetch_callbacks\u001b[0m\u001b[0;34m(\u001b[0m\u001b[0mfetched\u001b[0m\u001b[0;34m[\u001b[0m\u001b[0;34m-\u001b[0m\u001b[0mlen\u001b[0m\u001b[0;34m(\u001b[0m\u001b[0mself\u001b[0m\u001b[0;34m.\u001b[0m\u001b[0m_fetches\u001b[0m\u001b[0;34m)\u001b[0m\u001b[0;34m:\u001b[0m\u001b[0;34m]\u001b[0m\u001b[0;34m)\u001b[0m\u001b[0;34m\u001b[0m\u001b[0;34m\u001b[0m\u001b[0m\n\u001b[1;32m   2988\u001b[0m     \u001b[0;32mreturn\u001b[0m \u001b[0mfetched\u001b[0m\u001b[0;34m[\u001b[0m\u001b[0;34m:\u001b[0m\u001b[0mlen\u001b[0m\u001b[0;34m(\u001b[0m\u001b[0mself\u001b[0m\u001b[0;34m.\u001b[0m\u001b[0moutputs\u001b[0m\u001b[0;34m)\u001b[0m\u001b[0;34m]\u001b[0m\u001b[0;34m\u001b[0m\u001b[0;34m\u001b[0m\u001b[0m\n",
            "\u001b[0;32m/usr/local/lib/python3.6/dist-packages/tensorflow/python/client/session.py\u001b[0m in \u001b[0;36m__call__\u001b[0;34m(self, *args, **kwargs)\u001b[0m\n\u001b[1;32m   1437\u001b[0m           ret = tf_session.TF_SessionRunCallable(\n\u001b[1;32m   1438\u001b[0m               \u001b[0mself\u001b[0m\u001b[0;34m.\u001b[0m\u001b[0m_session\u001b[0m\u001b[0;34m.\u001b[0m\u001b[0m_session\u001b[0m\u001b[0;34m,\u001b[0m \u001b[0mself\u001b[0m\u001b[0;34m.\u001b[0m\u001b[0m_handle\u001b[0m\u001b[0;34m,\u001b[0m \u001b[0margs\u001b[0m\u001b[0;34m,\u001b[0m \u001b[0mstatus\u001b[0m\u001b[0;34m,\u001b[0m\u001b[0;34m\u001b[0m\u001b[0;34m\u001b[0m\u001b[0m\n\u001b[0;32m-> 1439\u001b[0;31m               run_metadata_ptr)\n\u001b[0m\u001b[1;32m   1440\u001b[0m         \u001b[0;32mif\u001b[0m \u001b[0mrun_metadata\u001b[0m\u001b[0;34m:\u001b[0m\u001b[0;34m\u001b[0m\u001b[0;34m\u001b[0m\u001b[0m\n\u001b[1;32m   1441\u001b[0m           \u001b[0mproto_data\u001b[0m \u001b[0;34m=\u001b[0m \u001b[0mtf_session\u001b[0m\u001b[0;34m.\u001b[0m\u001b[0mTF_GetBuffer\u001b[0m\u001b[0;34m(\u001b[0m\u001b[0mrun_metadata_ptr\u001b[0m\u001b[0;34m)\u001b[0m\u001b[0;34m\u001b[0m\u001b[0;34m\u001b[0m\u001b[0m\n",
            "\u001b[0;31mKeyboardInterrupt\u001b[0m: "
          ]
        }
      ]
    },
    {
      "metadata": {
        "colab_type": "text",
        "id": "IOokszv-K0KR"
      },
      "cell_type": "markdown",
      "source": [
        "## Save and plot the history\n",
        "The history holds information on loss and validiation loss during training."
      ]
    },
    {
      "metadata": {
        "id": "v0295y1g_j-i",
        "colab_type": "code",
        "colab": {
          "base_uri": "https://localhost:8080/",
          "height": 34
        },
        "outputId": "6974aa7a-705c-43a7-e386-e81ec346f34f"
      },
      "cell_type": "code",
      "source": [
        "print(\"Hello\")"
      ],
      "execution_count": 30,
      "outputs": [
        {
          "output_type": "stream",
          "text": [
            "Hello\n"
          ],
          "name": "stdout"
        }
      ]
    },
    {
      "metadata": {
        "colab_type": "text",
        "id": "J1l4J261LCCg"
      },
      "cell_type": "markdown",
      "source": [
        "## Load and prepare the trained model for generating data"
      ]
    },
    {
      "metadata": {
        "colab_type": "text",
        "id": "8CFJhAhyRSoR"
      },
      "cell_type": "markdown",
      "source": [
        "## Generate geolocation data of one entity using the trained model\n",
        "In the end the generated data is saved to disk in order to be reused from a different notebook."
      ]
    },
    {
      "metadata": {
        "colab_type": "code",
        "id": "aFWC2EknLpR_",
        "colab": {}
      },
      "cell_type": "code",
      "source": [
        "N_GENERATE = 1000\n",
        "\n",
        "start = [324.0, -122.390085, 37.789910]    # Google Offices in San Francisco: 37.789910, -122.390085\n",
        "generated = np.array([start]).astype(np.float32)\n",
        "\n",
        "model.reset_states()\n",
        "\n",
        "for i in range(1, N_GENERATE):\n",
        "    input = generated[-1:]\n",
        "    input = scaler.transform(input)\n",
        "    input = np.array([input])\n",
        "    \n",
        "    prediction = model.predict(input, batch_size=1)\n",
        "    \n",
        "    prediction = np.squeeze(prediction, axis=0)\n",
        "    prediction = scaler.inverse_transform(prediction)\n",
        "    \n",
        "    generated = np.concatenate([generated, prediction])"
      ],
      "execution_count": 0,
      "outputs": []
    },
    {
      "metadata": {
        "colab_type": "code",
        "id": "-lg06MD4Qg82",
        "colab": {}
      },
      "cell_type": "code",
      "source": [
        "generated.shape"
      ],
      "execution_count": 0,
      "outputs": []
    },
    {
      "metadata": {
        "colab_type": "code",
        "id": "-ElKGEsXQjAu",
        "colab": {}
      },
      "cell_type": "code",
      "source": [
        "generated"
      ],
      "execution_count": 0,
      "outputs": []
    },
    {
      "metadata": {
        "colab_type": "code",
        "id": "747Ob_KSReL5",
        "colab": {}
      },
      "cell_type": "code",
      "source": [
        "with open('generated/citybased_gan/test_00.pkl', 'wb') as file:\n",
        "    pickle.dump(generated, file)\n",
        "    print('Generated data saved')"
      ],
      "execution_count": 0,
      "outputs": []
    }
  ]
}