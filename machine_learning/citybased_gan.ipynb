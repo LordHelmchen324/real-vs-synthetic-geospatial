{
  "nbformat": 4,
  "nbformat_minor": 0,
  "metadata": {
    "colab": {
      "name": "citybased_gan.ipynb",
      "version": "0.3.2",
      "provenance": [],
      "collapsed_sections": []
    },
    "kernelspec": {
      "display_name": "Python 3",
      "language": "python",
      "name": "python3"
    },
    "accelerator": "GPU"
  },
  "cells": [
    {
      "metadata": {
        "colab_type": "code",
        "id": "BFLtqc6hXszW",
        "outputId": "5dee2eb2-8e1e-467c-905a-ca2753d389fb",
        "colab": {
          "base_uri": "https://localhost:8080/",
          "height": 51
        }
      },
      "cell_type": "code",
      "source": [
        "# Setup of libraries, mounting the Google Drive etc.\n",
        "\n",
        "import os\n",
        "import sys\n",
        "from google.colab import drive\n",
        "drive.mount('/content/gdrive')\n",
        "os.chdir('/content/gdrive/My Drive/Colab Notebooks')\n",
        "\n",
        "import matplotlib.pyplot as plt\n",
        "import numpy as np\n",
        "import pandas as pd\n",
        "import pickle\n",
        "\n",
        "import tensorflow as tf\n",
        "\n",
        "import utils\n",
        "import IPython\n",
        "\n",
        "print('The current working directory is:', os.getcwd())"
      ],
      "execution_count": 1,
      "outputs": [
        {
          "output_type": "stream",
          "text": [
            "Drive already mounted at /content/gdrive; to attempt to forcibly remount, call drive.mount(\"/content/gdrive\", force_remount=True).\n",
            "The current working directory is: /content/gdrive/My Drive/Colab Notebooks\n"
          ],
          "name": "stdout"
        }
      ]
    },
    {
      "metadata": {
        "colab_type": "text",
        "id": "lHDRiK7LYw2s"
      },
      "cell_type": "markdown",
      "source": [
        "## Read the dataset from `.pkl` file\n"
      ]
    },
    {
      "metadata": {
        "colab_type": "code",
        "id": "rxQz-vmJYEGC",
        "outputId": "50fe3c33-1ceb-49b6-fe8e-9acccc0d1ee6",
        "colab": {
          "base_uri": "https://localhost:8080/",
          "height": 235
        }
      },
      "cell_type": "code",
      "source": [
        "df = pd.read_pickle('datasets/cabspotting.pkl')\n",
        "df.head()"
      ],
      "execution_count": 2,
      "outputs": [
        {
          "output_type": "execute_result",
          "data": {
            "text/html": [
              "<div>\n",
              "<style scoped>\n",
              "    .dataframe tbody tr th:only-of-type {\n",
              "        vertical-align: middle;\n",
              "    }\n",
              "\n",
              "    .dataframe tbody tr th {\n",
              "        vertical-align: top;\n",
              "    }\n",
              "\n",
              "    .dataframe thead th {\n",
              "        text-align: right;\n",
              "    }\n",
              "</style>\n",
              "<table border=\"1\" class=\"dataframe\">\n",
              "  <thead>\n",
              "    <tr style=\"text-align: right;\">\n",
              "      <th></th>\n",
              "      <th></th>\n",
              "      <th>latitude</th>\n",
              "      <th>longitude</th>\n",
              "      <th>occupied</th>\n",
              "    </tr>\n",
              "    <tr>\n",
              "      <th>user</th>\n",
              "      <th>time</th>\n",
              "      <th></th>\n",
              "      <th></th>\n",
              "      <th></th>\n",
              "    </tr>\n",
              "  </thead>\n",
              "  <tbody>\n",
              "    <tr>\n",
              "      <th rowspan=\"5\" valign=\"top\">abboip</th>\n",
              "      <th>2008-05-17 14:12:10</th>\n",
              "      <td>37.75153</td>\n",
              "      <td>-122.39447</td>\n",
              "      <td>0</td>\n",
              "    </tr>\n",
              "    <tr>\n",
              "      <th>2008-05-17 14:13:34</th>\n",
              "      <td>37.75149</td>\n",
              "      <td>-122.39447</td>\n",
              "      <td>0</td>\n",
              "    </tr>\n",
              "    <tr>\n",
              "      <th>2008-05-17 14:14:34</th>\n",
              "      <td>37.75149</td>\n",
              "      <td>-122.39447</td>\n",
              "      <td>0</td>\n",
              "    </tr>\n",
              "    <tr>\n",
              "      <th>2008-05-17 14:15:35</th>\n",
              "      <td>37.75149</td>\n",
              "      <td>-122.39446</td>\n",
              "      <td>0</td>\n",
              "    </tr>\n",
              "    <tr>\n",
              "      <th>2008-05-17 14:41:43</th>\n",
              "      <td>37.75144</td>\n",
              "      <td>-122.39449</td>\n",
              "      <td>0</td>\n",
              "    </tr>\n",
              "  </tbody>\n",
              "</table>\n",
              "</div>"
            ],
            "text/plain": [
              "                            latitude  longitude  occupied\n",
              "user   time                                              \n",
              "abboip 2008-05-17 14:12:10  37.75153 -122.39447         0\n",
              "       2008-05-17 14:13:34  37.75149 -122.39447         0\n",
              "       2008-05-17 14:14:34  37.75149 -122.39447         0\n",
              "       2008-05-17 14:15:35  37.75149 -122.39446         0\n",
              "       2008-05-17 14:41:43  37.75144 -122.39449         0"
            ]
          },
          "metadata": {
            "tags": []
          },
          "execution_count": 2
        }
      ]
    },
    {
      "metadata": {
        "colab_type": "text",
        "id": "SRCEhqT6ZLYO"
      },
      "cell_type": "markdown",
      "source": [
        "## Convert the dataset to a mapping of users to the strings of their movements"
      ]
    },
    {
      "metadata": {
        "colab_type": "code",
        "id": "7NmsLO-RC0Lb",
        "outputId": "813fea06-52ac-44d5-f3f2-a2faf0b25804",
        "colab": {
          "base_uri": "https://localhost:8080/",
          "height": 136
        }
      },
      "cell_type": "code",
      "source": [
        "df = utils.records_to_user_geolcation(df)\n",
        "df.head()"
      ],
      "execution_count": 3,
      "outputs": [
        {
          "output_type": "execute_result",
          "data": {
            "text/plain": [
              "user\n",
              "abboip      [[15126.000000000002, -122.39447, 37.751529999...\n",
              "abcoij      [[47486.0, -122.41466000000001, 37.80346], [47...\n",
              "abdremlu    [[11949.0, -122.39093000000001, 37.75521], [12...\n",
              "abgibo      [[16.0, -122.4374, 37.7733], [61.0000000000000...\n",
              "abjoolaw    [[13856.0, -122.39747, 37.75159], [13916.0, -1...\n",
              "dtype: object"
            ]
          },
          "metadata": {
            "tags": []
          },
          "execution_count": 3
        }
      ]
    },
    {
      "metadata": {
        "colab_type": "text",
        "id": "yblG4Z8WG1Uk"
      },
      "cell_type": "markdown",
      "source": [
        "## Split the data into training and test/validation sets\n",
        "Keep the data of 10 users from the networks during traing in order to 'visually' validate that the network is working later on."
      ]
    },
    {
      "metadata": {
        "colab_type": "code",
        "id": "xz7wjucOGylA",
        "outputId": "1fab0308-8b3a-44ff-cc6f-bc1d977e5310",
        "colab": {
          "base_uri": "https://localhost:8080/",
          "height": 34
        }
      },
      "cell_type": "code",
      "source": [
        "len(df)"
      ],
      "execution_count": 4,
      "outputs": [
        {
          "output_type": "execute_result",
          "data": {
            "text/plain": [
              "536"
            ]
          },
          "metadata": {
            "tags": []
          },
          "execution_count": 4
        }
      ]
    },
    {
      "metadata": {
        "colab_type": "code",
        "id": "_oMYwxN1HOqZ",
        "outputId": "3b54c303-4dbd-4c76-cb94-99418cae401c",
        "colab": {
          "base_uri": "https://localhost:8080/",
          "height": 51
        }
      },
      "cell_type": "code",
      "source": [
        "df_train = df.iloc[:len(df) - 10]\n",
        "df_test = df.iloc[len(df) - 10:]\n",
        "\n",
        "print('Train:', len(df_train))\n",
        "print('Test:', len(df_test))"
      ],
      "execution_count": 5,
      "outputs": [
        {
          "output_type": "stream",
          "text": [
            "Train: 526\n",
            "Test: 10\n"
          ],
          "name": "stdout"
        }
      ]
    },
    {
      "metadata": {
        "id": "IrqvSWrgO0q4",
        "colab_type": "text"
      },
      "cell_type": "markdown",
      "source": [
        "## Make one single sequence to train on from the training data"
      ]
    },
    {
      "metadata": {
        "id": "MIG5Ka6hO6Cv",
        "colab_type": "code",
        "colab": {}
      },
      "cell_type": "code",
      "source": [
        "data_train = utils.user_geolocation_to_single_sequence(df_train)"
      ],
      "execution_count": 0,
      "outputs": []
    },
    {
      "metadata": {
        "id": "LLhHUkSaPPRy",
        "colab_type": "code",
        "colab": {
          "base_uri": "https://localhost:8080/",
          "height": 136
        },
        "outputId": "b3a146c0-7950-40c2-f922-485c39d405e1"
      },
      "cell_type": "code",
      "source": [
        "data_train"
      ],
      "execution_count": 7,
      "outputs": [
        {
          "output_type": "execute_result",
          "data": {
            "text/plain": [
              "array([[ 1.5126000e+04, -1.2239447e+02,  3.7751530e+01],\n",
              "       [ 1.5210000e+04, -1.2239447e+02,  3.7751490e+01],\n",
              "       [ 1.5270000e+04, -1.2239447e+02,  3.7751490e+01],\n",
              "       ...,\n",
              "       [ 2.0688330e+06, -1.2241069e+02,  3.7792440e+01],\n",
              "       [ 2.0688930e+06, -1.2241165e+02,  3.7792150e+01],\n",
              "       [ 2.0689140e+06, -1.2241172e+02,  3.7792120e+01]])"
            ]
          },
          "metadata": {
            "tags": []
          },
          "execution_count": 7
        }
      ]
    },
    {
      "metadata": {
        "id": "MeUZM_UPPRrd",
        "colab_type": "code",
        "colab": {
          "base_uri": "https://localhost:8080/",
          "height": 34
        },
        "outputId": "8839491f-8ab6-4028-a02f-8100fafaeb67"
      },
      "cell_type": "code",
      "source": [
        "data_train.shape"
      ],
      "execution_count": 8,
      "outputs": [
        {
          "output_type": "execute_result",
          "data": {
            "text/plain": [
              "(11021539, 3)"
            ]
          },
          "metadata": {
            "tags": []
          },
          "execution_count": 8
        }
      ]
    },
    {
      "metadata": {
        "id": "P3vZBBoMW2Ln",
        "colab_type": "text"
      },
      "cell_type": "markdown",
      "source": [
        "## Create the scaler on the training data\n",
        "The sequence for the generator is used to fit a `StandardScaler` to the training data.\n",
        "This scaler should later be saved alongside the trained model, as the scaler should only be fitted to the training data and the training data changes on every execution of this Notebook."
      ]
    },
    {
      "metadata": {
        "id": "InyVPOmMW1FO",
        "colab_type": "code",
        "outputId": "86507110-fb8a-4b8b-9a45-e1289843054b",
        "colab": {
          "base_uri": "https://localhost:8080/",
          "height": 51
        }
      },
      "cell_type": "code",
      "source": [
        "from sklearn import preprocessing\n",
        "\n",
        "scaler = preprocessing.StandardScaler()\n",
        "scaler.fit(data_train)\n",
        "\n",
        "print('Means: %f %f %f' % (scaler.mean_[0], scaler.mean_[1], scaler.mean_[2]))\n",
        "print('Standard deviations: %f %f %f' % (scaler.var_[0], scaler.var_[1], scaler.var_[2]))"
      ],
      "execution_count": 9,
      "outputs": [
        {
          "output_type": "stream",
          "text": [
            "Means: 1017898.964911 -122.412463 37.763528\n",
            "Standard deviations: 345921612396.343018 0.001279 0.002907\n"
          ],
          "name": "stdout"
        }
      ]
    },
    {
      "metadata": {
        "colab_type": "text",
        "id": "vFm92XsBiiGO"
      },
      "cell_type": "markdown",
      "source": [
        "## Build the generator"
      ]
    },
    {
      "metadata": {
        "id": "yQ_PH0TDE6VW",
        "colab_type": "code",
        "colab": {}
      },
      "cell_type": "code",
      "source": [
        "# Inputs\n",
        "sequence_input = tf.keras.layers.Input(shape=(None, 3), name='sequence_input')\n",
        "random_input = tf.keras.layers.Input(shape=(32,), name='random_input')\n",
        "\n",
        "# Recurrent part\n",
        "recurrent = tf.keras.layers.GRU(256)(sequence_input)\n",
        "\n",
        "# Add random variation\n",
        "x = tf.keras.layers.concatenate([recurrent, random_input])\n",
        "prediction = tf.keras.layers.Dense(3)(x)\n",
        "\n",
        "# Create the model\n",
        "generator = tf.keras.models.Model(inputs=[sequence_input, random_input], outputs=prediction)"
      ],
      "execution_count": 0,
      "outputs": []
    },
    {
      "metadata": {
        "id": "um1_MCVSFF2d",
        "colab_type": "code",
        "colab": {
          "base_uri": "https://localhost:8080/",
          "height": 323
        },
        "outputId": "02d8d886-a9f4-4c54-c3ac-a90f47482e4f"
      },
      "cell_type": "code",
      "source": [
        "generator.summary()"
      ],
      "execution_count": 11,
      "outputs": [
        {
          "output_type": "stream",
          "text": [
            "__________________________________________________________________________________________________\n",
            "Layer (type)                    Output Shape         Param #     Connected to                     \n",
            "==================================================================================================\n",
            "sequence_input (InputLayer)     (None, None, 3)      0                                            \n",
            "__________________________________________________________________________________________________\n",
            "gru (GRU)                       (None, 256)          199680      sequence_input[0][0]             \n",
            "__________________________________________________________________________________________________\n",
            "random_input (InputLayer)       (None, 32)           0                                            \n",
            "__________________________________________________________________________________________________\n",
            "concatenate (Concatenate)       (None, 288)          0           gru[0][0]                        \n",
            "                                                                 random_input[0][0]               \n",
            "__________________________________________________________________________________________________\n",
            "dense (Dense)                   (None, 3)            867         concatenate[0][0]                \n",
            "==================================================================================================\n",
            "Total params: 200,547\n",
            "Trainable params: 200,547\n",
            "Non-trainable params: 0\n",
            "__________________________________________________________________________________________________\n"
          ],
          "name": "stdout"
        }
      ]
    },
    {
      "metadata": {
        "id": "WMsocYm5Jtrh",
        "colab_type": "code",
        "colab": {
          "base_uri": "https://localhost:8080/",
          "height": 34
        },
        "outputId": "952ede87-5208-497b-9e5f-8df23b6236c7"
      },
      "cell_type": "code",
      "source": [
        "generator.input_shape"
      ],
      "execution_count": 12,
      "outputs": [
        {
          "output_type": "execute_result",
          "data": {
            "text/plain": [
              "[(None, None, 3), (None, 32)]"
            ]
          },
          "metadata": {
            "tags": []
          },
          "execution_count": 12
        }
      ]
    },
    {
      "metadata": {
        "id": "s2ffO24ye_sE",
        "colab_type": "code",
        "colab": {
          "base_uri": "https://localhost:8080/",
          "height": 422
        },
        "outputId": "72c41712-a3cc-4ae1-ba07-1ed3047a91ad"
      },
      "cell_type": "code",
      "source": [
        "tf.keras.utils.plot_model(generator, to_file='test_keras_plot_model.png', show_shapes=True)\n",
        "IPython.display.Image('test_keras_plot_model.png')"
      ],
      "execution_count": 43,
      "outputs": [
        {
          "output_type": "execute_result",
          "data": {
            "image/png": "[encoded data removed]",
            "text/plain": [
              "<IPython.core.display.Image object>"
            ]
          },
          "metadata": {
            "tags": []
          },
          "execution_count": 43
        }
      ]
    },
    {
      "metadata": {
        "colab_type": "text",
        "id": "h5g6r0RdQKdA"
      },
      "cell_type": "markdown",
      "source": [
        "## Build the discriminator"
      ]
    },
    {
      "metadata": {
        "id": "NxaNCgTIFKe5",
        "colab_type": "code",
        "colab": {}
      },
      "cell_type": "code",
      "source": [
        "discriminator = tf.keras.Sequential([\n",
        "    tf.keras.layers.GRU(128, input_shape=(None, 3)),\n",
        "    tf.keras.layers.Dense(1, activation='sigmoid')\n",
        "])"
      ],
      "execution_count": 0,
      "outputs": []
    },
    {
      "metadata": {
        "colab_type": "code",
        "id": "wJkur_2EQoxx",
        "outputId": "297f2f9a-4b40-4848-afec-0c5aba9f0f6b",
        "colab": {
          "base_uri": "https://localhost:8080/",
          "height": 204
        }
      },
      "cell_type": "code",
      "source": [
        "discriminator.summary()"
      ],
      "execution_count": 14,
      "outputs": [
        {
          "output_type": "stream",
          "text": [
            "_________________________________________________________________\n",
            "Layer (type)                 Output Shape              Param #   \n",
            "=================================================================\n",
            "gru_1 (GRU)                  (None, 128)               50688     \n",
            "_________________________________________________________________\n",
            "dense_1 (Dense)              (None, 1)                 129       \n",
            "=================================================================\n",
            "Total params: 50,817\n",
            "Trainable params: 50,817\n",
            "Non-trainable params: 0\n",
            "_________________________________________________________________\n"
          ],
          "name": "stdout"
        }
      ]
    },
    {
      "metadata": {
        "id": "qB6WLzM_Ji8v",
        "colab_type": "code",
        "colab": {
          "base_uri": "https://localhost:8080/",
          "height": 34
        },
        "outputId": "f2899e19-c65f-47f4-972a-7db4bb377377"
      },
      "cell_type": "code",
      "source": [
        "discriminator.input_shape"
      ],
      "execution_count": 15,
      "outputs": [
        {
          "output_type": "execute_result",
          "data": {
            "text/plain": [
              "(None, None, 3)"
            ]
          },
          "metadata": {
            "tags": []
          },
          "execution_count": 15
        }
      ]
    },
    {
      "metadata": {
        "id": "CeprcFe8e07m",
        "colab_type": "code",
        "colab": {
          "base_uri": "https://localhost:8080/",
          "height": 298
        },
        "outputId": "809e378e-87f2-496f-d9e2-e928ee7e6cd5"
      },
      "cell_type": "code",
      "source": [
        "tf.keras.utils.plot_model(discriminator, to_file='test_keras_plot_model.png', show_shapes=True)\n",
        "IPython.display.Image('test_keras_plot_model.png')"
      ],
      "execution_count": 42,
      "outputs": [
        {
          "output_type": "execute_result",
          "data": {
            "image/png": "[encoded data removed]",
            "text/plain": [
              "<IPython.core.display.Image object>"
            ]
          },
          "metadata": {
            "tags": []
          },
          "execution_count": 42
        }
      ]
    },
    {
      "metadata": {
        "colab_type": "text",
        "id": "2wl0aHgEQ3CK"
      },
      "cell_type": "markdown",
      "source": [
        "## Put the adversarial model together"
      ]
    },
    {
      "metadata": {
        "colab_type": "code",
        "id": "ouh6hfmzRFwF",
        "colab": {}
      },
      "cell_type": "code",
      "source": [
        "discriminator.compile(optimizer='adam', loss='binary_crossentropy', metrics=['accuracy'])"
      ],
      "execution_count": 0,
      "outputs": []
    },
    {
      "metadata": {
        "colab_type": "code",
        "id": "XfkV94BKR3KO",
        "colab": {}
      },
      "cell_type": "code",
      "source": [
        "discriminator.trainable = False\n",
        "\n",
        "g_out = generator([sequence_input, random_input])\n",
        "g_out = tf.keras.layers.Reshape((1, 3))(g_out)\n",
        "d_in = tf.keras.layers.Concatenate(axis=1)([sequence_input, g_out])\n",
        "d_out = discriminator(d_in)\n",
        "\n",
        "adversarial = tf.keras.models.Model(inputs=[sequence_input, random_input], outputs=d_out)\n",
        "\n",
        "adversarial.compile(optimizer='adam', loss='binary_crossentropy')"
      ],
      "execution_count": 0,
      "outputs": []
    },
    {
      "metadata": {
        "id": "u5V5S9bUYGAE",
        "colab_type": "code",
        "outputId": "71816357-dcfb-489a-eb2e-dea7f1d300c7",
        "colab": {
          "base_uri": "https://localhost:8080/",
          "height": 374
        }
      },
      "cell_type": "code",
      "source": [
        "adversarial.summary()"
      ],
      "execution_count": 31,
      "outputs": [
        {
          "output_type": "stream",
          "text": [
            "__________________________________________________________________________________________________\n",
            "Layer (type)                    Output Shape         Param #     Connected to                     \n",
            "==================================================================================================\n",
            "sequence_input (InputLayer)     (None, None, 3)      0                                            \n",
            "__________________________________________________________________________________________________\n",
            "random_input (InputLayer)       (None, 32)           0                                            \n",
            "__________________________________________________________________________________________________\n",
            "model (Model)                   (None, 3)            200547      sequence_input[0][0]             \n",
            "                                                                 random_input[0][0]               \n",
            "__________________________________________________________________________________________________\n",
            "reshape_4 (Reshape)             (None, 1, 3)         0           model[13][0]                     \n",
            "__________________________________________________________________________________________________\n",
            "concatenate_10 (Concatenate)    (None, None, 3)      0           sequence_input[0][0]             \n",
            "                                                                 reshape_4[0][0]                  \n",
            "__________________________________________________________________________________________________\n",
            "sequential (Sequential)         (None, 1)            50817       concatenate_10[0][0]             \n",
            "==================================================================================================\n",
            "Total params: 251,364\n",
            "Trainable params: 200,547\n",
            "Non-trainable params: 50,817\n",
            "__________________________________________________________________________________________________\n"
          ],
          "name": "stdout"
        }
      ]
    },
    {
      "metadata": {
        "id": "9TyEzAOedDfJ",
        "colab_type": "code",
        "colab": {
          "base_uri": "https://localhost:8080/",
          "height": 34
        },
        "outputId": "4f381522-3aea-419c-c4c7-71648588bbae"
      },
      "cell_type": "code",
      "source": [
        "adversarial.input_shape"
      ],
      "execution_count": 32,
      "outputs": [
        {
          "output_type": "execute_result",
          "data": {
            "text/plain": [
              "[(None, None, 3), (None, 32)]"
            ]
          },
          "metadata": {
            "tags": []
          },
          "execution_count": 32
        }
      ]
    },
    {
      "metadata": {
        "id": "kmsEk4GLdzZ1",
        "colab_type": "code",
        "colab": {
          "base_uri": "https://localhost:8080/",
          "height": 533
        },
        "outputId": "aec6cace-642f-4413-847e-c761cb7b69f4"
      },
      "cell_type": "code",
      "source": [
        "tf.keras.utils.plot_model(adversarial, to_file='test_keras_plot_model.png', show_shapes=True)\n",
        "IPython.display.Image('test_keras_plot_model.png')"
      ],
      "execution_count": 40,
      "outputs": [
        {
          "output_type": "execute_result",
          "data": {
            "image/png": "[encoded data removed]",
            "text/plain": [
              "<IPython.core.display.Image object>"
            ]
          },
          "metadata": {
            "tags": []
          },
          "execution_count": 40
        }
      ]
    },
    {
      "metadata": {
        "colab_type": "text",
        "id": "dkkKIrBR2qdl"
      },
      "cell_type": "markdown",
      "source": [
        "## Training\n",
        "**REMEMBER:** The `BATCH_SIZE` of the Recurrent GAN has a very different meaning to that of the simple RNN. Instead of number of sequences, here it is more like number of users / user trajectories."
      ]
    },
    {
      "metadata": {
        "id": "Zde4DIYcay0y",
        "colab_type": "code",
        "colab": {}
      },
      "cell_type": "code",
      "source": [
        "EPOCHS = 30\n",
        "BATCH_SIZE = 20\n",
        "\n",
        "n_batches = len(df_train) // BATCH_SIZE + 1\n",
        "\n",
        "for epoch in range(EPOCHS):\n",
        "    for batch in range(n_batches):\n",
        "        \n",
        "        # --- PART 1: Train the discriminator ----------------------------------\n",
        "        \n",
        "        # Use the generator to generate a half a batch full of fake data\n",
        "        fake_data = []\n",
        "        for i in range(BATCH_SIZE // 2):\n",
        "            length = df_train.sample(1).squeeze().shape[0]\n",
        "            start = data_train[np.random.randint(data_train.shape[0])]\n",
        "            \n",
        "            generated = np.array([start])\n",
        "            \n",
        "            generator.reset_states()\n",
        "            \n",
        "            for i in range(1, length):\n",
        "                input = generated[-1:]\n",
        "                input = np.array([input])\n",
        "                \n",
        "                prediction = model.predict(input, batch_size=1)\n",
        "                \n",
        "                prediction = np.squeeze(prediction, axis=0)\n",
        "                generated = np.concatenate([generated, prediction])\n",
        "            \n",
        "            fake_data.append(generated)\n",
        "        \n",
        "        fake_labels = np.zeros((BATCH_SIZE // 2, 1))\n",
        "        \n",
        "        # Get half a batch of real data\n",
        "        real_data = df_train.iloc[batch * BATCH_SIZE:(batch + 1) * BATCH_SIZE].tolist()\n",
        "        real_labels = np.ones((BATCH_SIZE // 2, 1))\n",
        "        \n",
        "        # Train the discriminator on half a batch of real and half a batch of fake data\n",
        "        d_loss_fake = discriminator.train_on_batch(fake_data, fake_labels)\n",
        "        d_loss_real = discriminator.train_on_batch(real_data, real_labels)\n",
        "        d_loss = 0.5 * np.add(d_loss_fake, d_loss_real)\n",
        "        \n",
        "        # --- PART 2: Train the generator --------------------------------------\n",
        "        g_loss = adversarial_model.train_on_batch(noise, np.ones((batch_size, 1)))"
      ],
      "execution_count": 0,
      "outputs": []
    },
    {
      "metadata": {
        "colab_type": "text",
        "id": "IOokszv-K0KR"
      },
      "cell_type": "markdown",
      "source": [
        "## Save and plot the history\n",
        "The history holds information on loss and validiation loss during training."
      ]
    },
    {
      "metadata": {
        "colab_type": "text",
        "id": "J1l4J261LCCg"
      },
      "cell_type": "markdown",
      "source": [
        "## Load and prepare the trained model for generating data"
      ]
    },
    {
      "metadata": {
        "colab_type": "text",
        "id": "8CFJhAhyRSoR"
      },
      "cell_type": "markdown",
      "source": [
        "## Generate geolocation data of one entity using the trained model\n",
        "In the end the generated data is saved to disk in order to be reused from a different notebook."
      ]
    },
    {
      "metadata": {
        "colab_type": "code",
        "id": "aFWC2EknLpR_",
        "colab": {}
      },
      "cell_type": "code",
      "source": [
        "N_GENERATE = 1000\n",
        "\n",
        "start = [324.0, -122.390085, 37.789910]    # Google Offices in San Francisco: 37.789910, -122.390085\n",
        "generated = np.array([start]).astype(np.float32)\n",
        "\n",
        "model.reset_states()\n",
        "\n",
        "for i in range(1, N_GENERATE):\n",
        "    input = generated[-1:]\n",
        "    input = scaler.transform(input)\n",
        "    input = np.array([input])\n",
        "    \n",
        "    prediction = model.predict(input, batch_size=1)\n",
        "    \n",
        "    prediction = np.squeeze(prediction, axis=0)\n",
        "    prediction = scaler.inverse_transform(prediction)\n",
        "    \n",
        "    generated = np.concatenate([generated, prediction])"
      ],
      "execution_count": 0,
      "outputs": []
    },
    {
      "metadata": {
        "colab_type": "code",
        "id": "-lg06MD4Qg82",
        "colab": {}
      },
      "cell_type": "code",
      "source": [
        "generated.shape"
      ],
      "execution_count": 0,
      "outputs": []
    },
    {
      "metadata": {
        "colab_type": "code",
        "id": "-ElKGEsXQjAu",
        "colab": {}
      },
      "cell_type": "code",
      "source": [
        "generated"
      ],
      "execution_count": 0,
      "outputs": []
    },
    {
      "metadata": {
        "colab_type": "code",
        "id": "747Ob_KSReL5",
        "colab": {}
      },
      "cell_type": "code",
      "source": [
        "with open('generated/citybased_gan/test_00.pkl', 'wb') as file:\n",
        "    pickle.dump(generated, file)\n",
        "    print('Generated data saved')"
      ],
      "execution_count": 0,
      "outputs": []
    }
  ]
}