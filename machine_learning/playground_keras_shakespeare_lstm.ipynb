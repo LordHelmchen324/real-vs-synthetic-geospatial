{
  "nbformat": 4,
  "nbformat_minor": 0,
  "metadata": {
    "colab": {
      "name": "playground_keras_shakespeare_lstm.ipynb",
      "version": "0.3.2",
      "provenance": []
    },
    "kernelspec": {
      "name": "python3",
      "display_name": "Python 3"
    },
    "accelerator": "GPU"
  },
  "cells": [
    {
      "metadata": {
        "id": "rYPYBeAhDWkj",
        "colab_type": "code",
        "colab": {
          "base_uri": "https://localhost:8080/",
          "height": 191
        },
        "outputId": "16a861f4-e7e0-48cf-e6bd-3b035705c79f"
      },
      "cell_type": "code",
      "source": [
        "from google.colab import drive\n",
        "drive.mount('/content/gdrive')"
      ],
      "execution_count": 1,
      "outputs": [
        {
          "output_type": "stream",
          "text": [
            "Go to this URL in a browser: https://accounts.google.com/o/oauth2/auth?client_id=947318989803-6bn6qk8qdgf4n4g3pfee6491hc0brc4i.apps.googleusercontent.com&redirect_uri=urn%3Aietf%3Awg%3Aoauth%3A2.0%3Aoob&scope=email%20https%3A%2F%2Fwww.googleapis.com%2Fauth%2Fdocs.test%20https%3A%2F%2Fwww.googleapis.com%2Fauth%2Fdrive%20https%3A%2F%2Fwww.googleapis.com%2Fauth%2Fdrive.photos.readonly%20https%3A%2F%2Fwww.googleapis.com%2Fauth%2Fpeopleapi.readonly&response_type=code\n",
            "\n",
            "Enter your authorization code:\n",
            "··········\n",
            "Mounted at /content/gdrive\n"
          ],
          "name": "stdout"
        }
      ]
    },
    {
      "metadata": {
        "id": "9GhP8dQaO5WU",
        "colab_type": "code",
        "colab": {}
      },
      "cell_type": "code",
      "source": [
        "!cp gdrive/My\\ Drive/Colab\\ Notebooks/my_txtutils.py my_txtutils.py\n",
        "import my_txtutils as txt"
      ],
      "execution_count": 0,
      "outputs": []
    },
    {
      "metadata": {
        "id": "sXvf-FvV9XVZ",
        "colab_type": "code",
        "colab": {
          "base_uri": "https://localhost:8080/",
          "height": 51
        },
        "outputId": "32f3eb5c-fc73-48a0-e2af-85c903ba30e9"
      },
      "cell_type": "code",
      "source": [
        "import tensorflow as tf\n",
        "\n",
        "!pip install -q keras\n",
        "import keras\n",
        "\n",
        "import numpy as np\n",
        "import matplotlib.pyplot as plt\n",
        "\n",
        "print(tf.__version__)"
      ],
      "execution_count": 3,
      "outputs": [
        {
          "output_type": "stream",
          "text": [
            "1.12.0\n"
          ],
          "name": "stdout"
        },
        {
          "output_type": "stream",
          "text": [
            "Using TensorFlow backend.\n"
          ],
          "name": "stderr"
        }
      ]
    },
    {
      "metadata": {
        "id": "6o00m0SWRSvt",
        "colab_type": "code",
        "colab": {}
      },
      "cell_type": "code",
      "source": [
        "# Define some variables\n",
        "sequence_length = 30\n",
        "batch_size = 200\n",
        "alphabet_size = 98\n",
        "internal_size = 512\n",
        "#   -> Number of LSTM layers: 3\n",
        "learning=rate = 0.001   # fixed learning rate\n",
        "dropout_pkeep = 0.8   # some dropout"
      ],
      "execution_count": 0,
      "outputs": []
    },
    {
      "metadata": {
        "id": "NBbQKH7XQAkg",
        "colab_type": "code",
        "colab": {
          "base_uri": "https://localhost:8080/",
          "height": 748
        },
        "outputId": "23e64f24-93d6-443a-bef4-39ee77336e05"
      },
      "cell_type": "code",
      "source": [
        "# Load Shakespeare data\n",
        "shakedir = 'gdrive/My Drive/Colab Notebooks/shakespeare/*.txt'\n",
        "codetext, valitext, bookranges = txt.read_data_files(shakedir, validation=True)\n",
        "\n",
        "# Display some stats on the data\n",
        "epoch_size = len(codetext) // (batch_size * sequence_length)\n",
        "txt.print_data_stats(len(codetext), len(valitext), epoch_size)"
      ],
      "execution_count": 9,
      "outputs": [
        {
          "output_type": "stream",
          "text": [
            "Loading file gdrive/My Drive/Colab Notebooks/shakespeare/2kinghenryiv.txt\n",
            "Loading file gdrive/My Drive/Colab Notebooks/shakespeare/cymbeline.txt\n",
            "Loading file gdrive/My Drive/Colab Notebooks/shakespeare/tempest.txt\n",
            "Loading file gdrive/My Drive/Colab Notebooks/shakespeare/merrywivesofwindsor.txt\n",
            "Loading file gdrive/My Drive/Colab Notebooks/shakespeare/loveslabourslost.txt\n",
            "Loading file gdrive/My Drive/Colab Notebooks/shakespeare/various.txt\n",
            "Loading file gdrive/My Drive/Colab Notebooks/shakespeare/twogentlemenofverona.txt\n",
            "Loading file gdrive/My Drive/Colab Notebooks/shakespeare/coriolanus.txt\n",
            "Loading file gdrive/My Drive/Colab Notebooks/shakespeare/merchantofvenice.txt\n",
            "Loading file gdrive/My Drive/Colab Notebooks/shakespeare/rapeoflucrece.txt\n",
            "Loading file gdrive/My Drive/Colab Notebooks/shakespeare/allswellthatendswell.txt\n",
            "Loading file gdrive/My Drive/Colab Notebooks/shakespeare/juliuscaesar.txt\n",
            "Loading file gdrive/My Drive/Colab Notebooks/shakespeare/sonnets.txt\n",
            "Loading file gdrive/My Drive/Colab Notebooks/shakespeare/midsummersnightsdream.txt\n",
            "Loading file gdrive/My Drive/Colab Notebooks/shakespeare/venusandadonis.txt\n",
            "Loading file gdrive/My Drive/Colab Notebooks/shakespeare/twelfthnight.txt\n",
            "Loading file gdrive/My Drive/Colab Notebooks/shakespeare/tamingoftheshrew.txt\n",
            "Loading file gdrive/My Drive/Colab Notebooks/shakespeare/kingjohn.txt\n",
            "Loading file gdrive/My Drive/Colab Notebooks/shakespeare/1kinghenryiv.txt\n",
            "Loading file gdrive/My Drive/Colab Notebooks/shakespeare/othello.txt\n",
            "Loading file gdrive/My Drive/Colab Notebooks/shakespeare/periclesprinceoftyre.txt\n",
            "Loading file gdrive/My Drive/Colab Notebooks/shakespeare/kinglear.txt\n",
            "Loading file gdrive/My Drive/Colab Notebooks/shakespeare/troilusandcressida.txt\n",
            "Loading file gdrive/My Drive/Colab Notebooks/shakespeare/timonofathens.txt\n",
            "Loading file gdrive/My Drive/Colab Notebooks/shakespeare/muchadoaboutnothing.txt\n",
            "Loading file gdrive/My Drive/Colab Notebooks/shakespeare/measureforemeasure.txt\n",
            "Loading file gdrive/My Drive/Colab Notebooks/shakespeare/kingrichardiii.txt\n",
            "Loading file gdrive/My Drive/Colab Notebooks/shakespeare/2kinghenryvi.txt\n",
            "Loading file gdrive/My Drive/Colab Notebooks/shakespeare/kinghenryviii.txt\n",
            "Loading file gdrive/My Drive/Colab Notebooks/shakespeare/asyoulikeit.txt\n",
            "Loading file gdrive/My Drive/Colab Notebooks/shakespeare/3kinghenryvi.txt\n",
            "Loading file gdrive/My Drive/Colab Notebooks/shakespeare/romeoandjuliet.txt\n",
            "Loading file gdrive/My Drive/Colab Notebooks/shakespeare/1kinghenryvi.txt\n",
            "Loading file gdrive/My Drive/Colab Notebooks/shakespeare/kingrichardii.txt\n",
            "Loading file gdrive/My Drive/Colab Notebooks/shakespeare/kinghenryv.txt\n",
            "Loading file gdrive/My Drive/Colab Notebooks/shakespeare/macbeth.txt\n",
            "Loading file gdrive/My Drive/Colab Notebooks/shakespeare/hamlet.txt\n",
            "Loading file gdrive/My Drive/Colab Notebooks/shakespeare/antonyandcleopatra.txt\n",
            "Loading file gdrive/My Drive/Colab Notebooks/shakespeare/winterstale.txt\n",
            "Loading file gdrive/My Drive/Colab Notebooks/shakespeare/loverscomplaint.txt\n",
            "Loading file gdrive/My Drive/Colab Notebooks/shakespeare/comedyoferrors.txt\n",
            "Loading file gdrive/My Drive/Colab Notebooks/shakespeare/titusandronicus.txt\n",
            "Training text size is 4.92MB with 121.10KB set aside for validation. There will be 859 batches per epoch\n"
          ],
          "name": "stdout"
        }
      ]
    },
    {
      "metadata": {
        "id": "d85pZSy7vR9_",
        "colab_type": "code",
        "colab": {}
      },
      "cell_type": "code",
      "source": [
        "from keras.utils import to_categorical\n",
        "\n",
        "# One-hot encode the coded text\n",
        "codetext_prime = to_categorical(codetext, num_classes=alphabet_size)\n",
        "valitext_prime = to_categorical(valitext, num_classes=alphabet_size)"
      ],
      "execution_count": 0,
      "outputs": []
    },
    {
      "metadata": {
        "id": "XuMgHdMwiueQ",
        "colab_type": "code",
        "colab": {}
      },
      "cell_type": "code",
      "source": [
        "X = []\n",
        "y = []\n",
        "for i in range(0, len(codetext_prime) - 1):\n",
        "    sequence = codetext_prime[i:i + sequence_length + 1]\n",
        "    if len(sequence) >= sequence_length + 1:\n",
        "        X.append(sequence[0:sequence_length])\n",
        "        y.append(sequence[1:sequence_length + 1])"
      ],
      "execution_count": 0,
      "outputs": []
    },
    {
      "metadata": {
        "id": "_bldPhjGRme8",
        "colab_type": "code",
        "colab": {
          "base_uri": "https://localhost:8080/",
          "height": 204
        },
        "outputId": "be0444a0-74f5-409f-9e54-79e308e09188"
      },
      "cell_type": "code",
      "source": [
        "model = keras.Sequential([\n",
        "    keras.layers.GRU(internal_size, return_sequences=True, input_shape=(sequence_length, alphabet_size)),\n",
        "    keras.layers.TimeDistributed(keras.layers.Dense(alphabet_size, activation='softmax'))\n",
        "])\n",
        "model.compile(loss='categorical_crossentropy',\n",
        "              optimizer='adam',\n",
        "              metrics=['categorical_accuracy'])\n",
        "model.summary()"
      ],
      "execution_count": 29,
      "outputs": [
        {
          "output_type": "stream",
          "text": [
            "_________________________________________________________________\n",
            "Layer (type)                 Output Shape              Param #   \n",
            "=================================================================\n",
            "gru_1 (GRU)                  (None, 30, 512)           938496    \n",
            "_________________________________________________________________\n",
            "time_distributed_2 (TimeDist (None, 30, 98)            50274     \n",
            "=================================================================\n",
            "Total params: 988,770\n",
            "Trainable params: 988,770\n",
            "Non-trainable params: 0\n",
            "_________________________________________________________________\n"
          ],
          "name": "stdout"
        }
      ]
    },
    {
      "metadata": {
        "id": "tCVWFstQm469",
        "colab_type": "code",
        "colab": {}
      },
      "cell_type": "code",
      "source": [
        "# Callback for saving checkpoints\n",
        "filepath=\"shakespeare-{epoch:02d}-{loss:.4f}.hdf5\"\n",
        "checkpoint = keras.callbacks.ModelCheckpoint(filepath, monitor='loss', verbose=1, save_best_only=True, mode='min')"
      ],
      "execution_count": 0,
      "outputs": []
    },
    {
      "metadata": {
        "id": "c--9Gk0AJpYd",
        "colab_type": "code",
        "colab": {}
      },
      "cell_type": "code",
      "source": [
        "model.fit(X, y, epochs=40, batch_size=batch_size, callbacks=[checkpoint])"
      ],
      "execution_count": 0,
      "outputs": []
    }
  ]
}