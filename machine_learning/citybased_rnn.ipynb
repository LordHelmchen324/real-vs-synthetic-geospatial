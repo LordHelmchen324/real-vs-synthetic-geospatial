{
  "nbformat": 4,
  "nbformat_minor": 0,
  "metadata": {
    "colab": {
      "name": "citybased_rnn.ipynb",
      "version": "0.3.2",
      "provenance": [],
      "collapsed_sections": []
    },
    "kernelspec": {
      "name": "python3",
      "display_name": "Python 3"
    },
    "accelerator": "GPU"
  },
  "cells": [
    {
      "metadata": {
        "id": "BFLtqc6hXszW",
        "colab_type": "code",
        "outputId": "06428fb2-1bcb-4960-df20-b7aaa18072a8",
        "colab": {
          "base_uri": "https://localhost:8080/",
          "height": 231
        }
      },
      "cell_type": "code",
      "source": [
        "# Setup of libraries, mounting the Google Drive etc.\n",
        "\n",
        "import os\n",
        "import sys\n",
        "from google.colab import drive\n",
        "drive.mount('/content/gdrive')\n",
        "os.chdir('gdrive/My Drive/Colab Notebooks')\n",
        "\n",
        "import matplotlib.pyplot as plt\n",
        "import numpy as np\n",
        "import pandas as pd\n",
        "import pickle\n",
        "\n",
        "import tensorflow as tf"
      ],
      "execution_count": 1,
      "outputs": [
        {
          "output_type": "stream",
          "text": [
            "Go to this URL in a browser: https://accounts.google.com/o/oauth2/auth?client_id=947318989803-6bn6qk8qdgf4n4g3pfee6491hc0brc4i.apps.googleusercontent.com&redirect_uri=urn%3Aietf%3Awg%3Aoauth%3A2.0%3Aoob&scope=email%20https%3A%2F%2Fwww.googleapis.com%2Fauth%2Fdocs.test%20https%3A%2F%2Fwww.googleapis.com%2Fauth%2Fdrive%20https%3A%2F%2Fwww.googleapis.com%2Fauth%2Fdrive.photos.readonly%20https%3A%2F%2Fwww.googleapis.com%2Fauth%2Fpeopleapi.readonly&response_type=code\n",
            "\n",
            "Enter your authorization code:\n",
            "··········\n",
            "Mounted at /content/gdrive\n"
          ],
          "name": "stdout"
        }
      ]
    },
    {
      "metadata": {
        "id": "lHDRiK7LYw2s",
        "colab_type": "text"
      },
      "cell_type": "markdown",
      "source": [
        "## Read the dataset from `.pkl` file\n"
      ]
    },
    {
      "metadata": {
        "id": "rxQz-vmJYEGC",
        "colab_type": "code",
        "outputId": "c7c1f5c7-fc4e-476d-8984-7dd851f11f59",
        "colab": {
          "base_uri": "https://localhost:8080/",
          "height": 235
        }
      },
      "cell_type": "code",
      "source": [
        "df = pd.read_pickle('cabspotting.pkl')\n",
        "df.head()"
      ],
      "execution_count": 11,
      "outputs": [
        {
          "output_type": "execute_result",
          "data": {
            "text/html": [
              "<div>\n",
              "<style scoped>\n",
              "    .dataframe tbody tr th:only-of-type {\n",
              "        vertical-align: middle;\n",
              "    }\n",
              "\n",
              "    .dataframe tbody tr th {\n",
              "        vertical-align: top;\n",
              "    }\n",
              "\n",
              "    .dataframe thead th {\n",
              "        text-align: right;\n",
              "    }\n",
              "</style>\n",
              "<table border=\"1\" class=\"dataframe\">\n",
              "  <thead>\n",
              "    <tr style=\"text-align: right;\">\n",
              "      <th></th>\n",
              "      <th></th>\n",
              "      <th>latitude</th>\n",
              "      <th>longitude</th>\n",
              "      <th>occupied</th>\n",
              "    </tr>\n",
              "    <tr>\n",
              "      <th>user</th>\n",
              "      <th>time</th>\n",
              "      <th></th>\n",
              "      <th></th>\n",
              "      <th></th>\n",
              "    </tr>\n",
              "  </thead>\n",
              "  <tbody>\n",
              "    <tr>\n",
              "      <th rowspan=\"5\" valign=\"top\">abboip</th>\n",
              "      <th>2008-05-17 14:12:10</th>\n",
              "      <td>37.75153</td>\n",
              "      <td>-122.39447</td>\n",
              "      <td>0</td>\n",
              "    </tr>\n",
              "    <tr>\n",
              "      <th>2008-05-17 14:13:34</th>\n",
              "      <td>37.75149</td>\n",
              "      <td>-122.39447</td>\n",
              "      <td>0</td>\n",
              "    </tr>\n",
              "    <tr>\n",
              "      <th>2008-05-17 14:14:34</th>\n",
              "      <td>37.75149</td>\n",
              "      <td>-122.39447</td>\n",
              "      <td>0</td>\n",
              "    </tr>\n",
              "    <tr>\n",
              "      <th>2008-05-17 14:15:35</th>\n",
              "      <td>37.75149</td>\n",
              "      <td>-122.39446</td>\n",
              "      <td>0</td>\n",
              "    </tr>\n",
              "    <tr>\n",
              "      <th>2008-05-17 14:41:43</th>\n",
              "      <td>37.75144</td>\n",
              "      <td>-122.39449</td>\n",
              "      <td>0</td>\n",
              "    </tr>\n",
              "  </tbody>\n",
              "</table>\n",
              "</div>"
            ],
            "text/plain": [
              "                            latitude  longitude  occupied\n",
              "user   time                                              \n",
              "abboip 2008-05-17 14:12:10  37.75153 -122.39447         0\n",
              "       2008-05-17 14:13:34  37.75149 -122.39447         0\n",
              "       2008-05-17 14:14:34  37.75149 -122.39447         0\n",
              "       2008-05-17 14:15:35  37.75149 -122.39446         0\n",
              "       2008-05-17 14:41:43  37.75144 -122.39449         0"
            ]
          },
          "metadata": {
            "tags": []
          },
          "execution_count": 11
        }
      ]
    },
    {
      "metadata": {
        "id": "SRCEhqT6ZLYO",
        "colab_type": "text"
      },
      "cell_type": "markdown",
      "source": [
        "## Convert the dataset to a mapping of users to the strings of their movements"
      ]
    },
    {
      "metadata": {
        "id": "dhYusASNGJzh",
        "colab_type": "code",
        "outputId": "739357b1-0fd7-41ea-a80f-1041a83f55fd",
        "colab": {
          "base_uri": "https://localhost:8080/",
          "height": 136
        }
      },
      "cell_type": "code",
      "source": [
        "import datetime as dt\n",
        "\n",
        "df.reset_index(inplace=True)\n",
        "\n",
        "df['rebased_time'] = df['time'] - df['time'].min()\n",
        "df['rebased_time'] = df['rebased_time'].dt.total_seconds()\n",
        "\n",
        "df = df[['user', 'rebased_time', 'longitude', 'latitude']]\n",
        "\n",
        "def extract_sequence(df):\n",
        "    df.drop('user', axis=1, inplace=True)\n",
        "    df.sort_values(by='rebased_time', inplace=True)\n",
        "    return df.values\n",
        "\n",
        "df = df.groupby('user').apply(extract_sequence)\n",
        "\n",
        "df.head()"
      ],
      "execution_count": 12,
      "outputs": [
        {
          "output_type": "execute_result",
          "data": {
            "text/plain": [
              "user\n",
              "abboip      [[15126.000000000002, -122.39447, 37.751529999...\n",
              "abcoij      [[47486.0, -122.41466000000001, 37.80346], [47...\n",
              "abdremlu    [[11949.0, -122.39093000000001, 37.75521], [12...\n",
              "abgibo      [[16.0, -122.4374, 37.7733], [61.0000000000000...\n",
              "abjoolaw    [[13856.0, -122.39747, 37.75159], [13916.0, -1...\n",
              "dtype: object"
            ]
          },
          "metadata": {
            "tags": []
          },
          "execution_count": 12
        }
      ]
    },
    {
      "metadata": {
        "id": "G7jbyag-Ztfr",
        "colab_type": "text"
      },
      "cell_type": "markdown",
      "source": [
        "## Concatenate all user strings of data to one complete string of all"
      ]
    },
    {
      "metadata": {
        "id": "M8CBIqVHG8BQ",
        "colab_type": "code",
        "outputId": "cfb5d469-011d-4a13-d0bf-03c75040c7c9",
        "colab": {
          "base_uri": "https://localhost:8080/",
          "height": 170
        }
      },
      "cell_type": "code",
      "source": [
        "def to_single_sequence(series):\n",
        "    data = None\n",
        "    for _, item in series.iteritems():\n",
        "        if data is None:\n",
        "            data = item\n",
        "        else:\n",
        "            data = np.concatenate((data, item), axis=0)\n",
        "    \n",
        "    return data\n",
        "\n",
        "data = to_single_sequence(df)\n",
        "del df\n",
        "\n",
        "print(data.shape)\n",
        "print()\n",
        "print(data)"
      ],
      "execution_count": 13,
      "outputs": [
        {
          "output_type": "stream",
          "text": [
            "(11219955, 3)\n",
            "\n",
            "[[ 1.5126000e+04 -1.2239447e+02  3.7751530e+01]\n",
            " [ 1.5210000e+04 -1.2239447e+02  3.7751490e+01]\n",
            " [ 1.5270000e+04 -1.2239447e+02  3.7751490e+01]\n",
            " ...\n",
            " [ 2.0172080e+06 -1.2244239e+02  3.7756860e+01]\n",
            " [ 2.0172640e+06 -1.2244215e+02  3.7760470e+01]\n",
            " [ 2.0173250e+06 -1.2243687e+02  3.7760750e+01]]\n"
          ],
          "name": "stdout"
        }
      ]
    },
    {
      "metadata": {
        "id": "noA-JMxmZ9k0",
        "colab_type": "text"
      },
      "cell_type": "markdown",
      "source": [
        "## Standardisation\n",
        "All three features in the data are scaled to have a `mean = 0` and a `standard deviation = 1`.\n",
        "\n",
        "The Scaler is also saved to disk, so it can later be resued in a different Notebook."
      ]
    },
    {
      "metadata": {
        "id": "4eXEW0wkH2_W",
        "colab_type": "code",
        "outputId": "ad5804f4-7252-4000-eeb9-e7e384cd7f5b",
        "colab": {
          "base_uri": "https://localhost:8080/",
          "height": 187
        }
      },
      "cell_type": "code",
      "source": [
        "from sklearn import preprocessing\n",
        "\n",
        "scaler = preprocessing.StandardScaler()\n",
        "scaler.fit(data)\n",
        "\n",
        "data = scaler.transform(data)\n",
        "\n",
        "print('Means: %f %f %f' % (scaler.mean_[0], scaler.mean_[1], scaler.mean_[2]))\n",
        "print('Standard deviations: %f %f %f' % (scaler.var_[0], scaler.var_[1], scaler.var_[2]))\n",
        "print()\n",
        "print(data)"
      ],
      "execution_count": 14,
      "outputs": [
        {
          "output_type": "stream",
          "text": [
            "Means: 1017983.546543 -122.412432 37.763601\n",
            "Standard deviations: 346406383099.499146 0.001280 0.002901\n",
            "\n",
            "[[-1.70390864  0.50197561 -0.22410877]\n",
            " [-1.70376591  0.50197561 -0.22485143]\n",
            " [-1.70366397  0.50197561 -0.22485143]\n",
            " ...\n",
            " [ 1.69773582 -0.83724035 -0.12514886]\n",
            " [ 1.69783096 -0.83053309 -0.05812348]\n",
            " [ 1.69793461 -0.6829734  -0.05292484]]\n"
          ],
          "name": "stdout"
        }
      ]
    },
    {
      "metadata": {
        "id": "mu8Zqf_MQ4j3",
        "colab_type": "code",
        "colab": {
          "base_uri": "https://localhost:8080/",
          "height": 34
        },
        "outputId": "dce78a46-8bcd-4eda-d045-d7c47e6e6b8d"
      },
      "cell_type": "code",
      "source": [
        "with open('cabspotting_StandardScaler.pkl', 'wb') as file:\n",
        "    pickle.dump(scaler, file)\n",
        "    print('Scaler saved')"
      ],
      "execution_count": 19,
      "outputs": [
        {
          "output_type": "stream",
          "text": [
            "Scaler saved\n"
          ],
          "name": "stdout"
        }
      ]
    },
    {
      "metadata": {
        "id": "tgh9Jnhbvo7a",
        "colab_type": "text"
      },
      "cell_type": "markdown",
      "source": [
        "## Convert the data to 32-bit floats\n",
        "This is to correct an error I got earlier. Apparently the GRU layers can't handle 64-bit integers (doubles) as input."
      ]
    },
    {
      "metadata": {
        "id": "WY07YNcWv2RS",
        "colab_type": "code",
        "outputId": "4ae36a7e-42f7-41dc-c0b2-1b9006e92ae2",
        "colab": {
          "base_uri": "https://localhost:8080/",
          "height": 34
        }
      },
      "cell_type": "code",
      "source": [
        "print('Before: ', data.dtype)"
      ],
      "execution_count": 7,
      "outputs": [
        {
          "output_type": "stream",
          "text": [
            "Before:  float64\n"
          ],
          "name": "stdout"
        }
      ]
    },
    {
      "metadata": {
        "id": "l9yt0kQWwH-h",
        "colab_type": "code",
        "colab": {}
      },
      "cell_type": "code",
      "source": [
        "data = data.astype(np.float32)"
      ],
      "execution_count": 0,
      "outputs": []
    },
    {
      "metadata": {
        "id": "3_DHJn_9waE1",
        "colab_type": "code",
        "outputId": "18fe405f-1fb6-42a1-c06b-22b4722797f5",
        "colab": {
          "base_uri": "https://localhost:8080/",
          "height": 34
        }
      },
      "cell_type": "code",
      "source": [
        "print('After: ', data.dtype)"
      ],
      "execution_count": 9,
      "outputs": [
        {
          "output_type": "stream",
          "text": [
            "After:  float32\n"
          ],
          "name": "stdout"
        }
      ]
    },
    {
      "metadata": {
        "id": "o_C9xIyVLmsZ",
        "colab_type": "text"
      },
      "cell_type": "markdown",
      "source": [
        "## Reshape and -order the data for input into the model (including X and y split)\n"
      ]
    },
    {
      "metadata": {
        "id": "S1cCkuVe9kfY",
        "colab_type": "code",
        "colab": {
          "base_uri": "https://localhost:8080/",
          "height": 34
        },
        "outputId": "c16cb716-ac4f-4b7f-a0ca-c9325f28295c"
      },
      "cell_type": "code",
      "source": [
        "data.shape"
      ],
      "execution_count": 10,
      "outputs": [
        {
          "output_type": "execute_result",
          "data": {
            "text/plain": [
              "(11219955, 3)"
            ]
          },
          "metadata": {
            "tags": []
          },
          "execution_count": 10
        }
      ]
    },
    {
      "metadata": {
        "id": "E6MG0r8o9p1k",
        "colab_type": "code",
        "colab": {
          "base_uri": "https://localhost:8080/",
          "height": 51
        },
        "outputId": "456ce7a2-8983-4aba-d9f1-41fda6ccd705"
      },
      "cell_type": "code",
      "source": [
        "BATCH_SIZE = 64\n",
        "SEQ_LENGTH = 100\n",
        "\n",
        "n_batches = (data.shape[0] - 1) // (BATCH_SIZE * SEQ_LENGTH)\n",
        "rounded_length = n_batches * BATCH_SIZE * SEQ_LENGTH\n",
        "\n",
        "X = data[:rounded_length].reshape([BATCH_SIZE, n_batches * SEQ_LENGTH, 3])\n",
        "y = data[1:rounded_length + 1].reshape([BATCH_SIZE, n_batches * SEQ_LENGTH, 3])\n",
        "\n",
        "print('X:', X.shape)\n",
        "print('y:', y.shape)"
      ],
      "execution_count": 11,
      "outputs": [
        {
          "output_type": "stream",
          "text": [
            "X: (64, 175300, 3)\n",
            "y: (64, 175300, 3)\n"
          ],
          "name": "stdout"
        }
      ]
    },
    {
      "metadata": {
        "id": "eZGxC3Ij-DcF",
        "colab_type": "code",
        "colab": {
          "base_uri": "https://localhost:8080/",
          "height": 51
        },
        "outputId": "8303ecae-4258-4a3e-c970-7dc335955fc4"
      },
      "cell_type": "code",
      "source": [
        "def reshape_to_feed_order(data):\n",
        "    tmp = data[:, :SEQ_LENGTH]\n",
        "    for b in range(1, n_batches):\n",
        "        tmp = np.concatenate([tmp, data[:, b * SEQ_LENGTH:(b + 1) * SEQ_LENGTH]])\n",
        "    data = tmp\n",
        "    del tmp\n",
        "    \n",
        "    return data\n",
        "\n",
        "X = reshape_to_feed_order(X)\n",
        "y = reshape_to_feed_order(y)\n",
        "\n",
        "print('X:', X.shape)\n",
        "print('y:', y.shape)"
      ],
      "execution_count": 12,
      "outputs": [
        {
          "output_type": "stream",
          "text": [
            "X: (112192, 100, 3)\n",
            "y: (112192, 100, 3)\n"
          ],
          "name": "stdout"
        }
      ]
    },
    {
      "metadata": {
        "id": "Z8TZ9eBOAgHG",
        "colab_type": "text"
      },
      "cell_type": "markdown",
      "source": [
        "## Split into training and validations sets"
      ]
    },
    {
      "metadata": {
        "id": "1KRfAnl2AftS",
        "colab_type": "code",
        "colab": {
          "base_uri": "https://localhost:8080/",
          "height": 51
        },
        "outputId": "ad60e99e-30c0-4d57-d1e1-4fdff331e315"
      },
      "cell_type": "code",
      "source": [
        "n_train = int(n_batches * 0.8) * BATCH_SIZE\n",
        "X_train = X[:n_train]\n",
        "y_train = y[:n_train]\n",
        "X_val = X[n_train:]\n",
        "y_val = y[n_train:]\n",
        "\n",
        "print('Train:', X_train.shape, y_train.shape)\n",
        "print('Validation:', X_val.shape, y_val.shape)"
      ],
      "execution_count": 13,
      "outputs": [
        {
          "output_type": "stream",
          "text": [
            "Train: (89728, 100, 3) (89728, 100, 3)\n",
            "Validation: (22464, 100, 3) (22464, 100, 3)\n"
          ],
          "name": "stdout"
        }
      ]
    },
    {
      "metadata": {
        "id": "vFm92XsBiiGO",
        "colab_type": "text"
      },
      "cell_type": "markdown",
      "source": [
        "## Build the model"
      ]
    },
    {
      "metadata": {
        "id": "KsxAe-NaBEid",
        "colab_type": "code",
        "colab": {}
      },
      "cell_type": "code",
      "source": [
        "def build_model(batch_size):\n",
        "    model = tf.keras.Sequential([\n",
        "        tf.keras.layers.GRU(1024, return_sequences=True, stateful=True, input_shape=(None, 3), batch_size=batch_size),\n",
        "        tf.keras.layers.TimeDistributed(tf.layers.Dense(3))\n",
        "    ])\n",
        "    return model"
      ],
      "execution_count": 0,
      "outputs": []
    },
    {
      "metadata": {
        "id": "GE11g2X-efxh",
        "colab_type": "code",
        "outputId": "0aaedcf4-9284-4b16-a358-9233de495a56",
        "colab": {
          "base_uri": "https://localhost:8080/",
          "height": 204
        }
      },
      "cell_type": "code",
      "source": [
        "model = build_model(batch_size=BATCH_SIZE)\n",
        "model.summary()"
      ],
      "execution_count": 15,
      "outputs": [
        {
          "output_type": "stream",
          "text": [
            "_________________________________________________________________\n",
            "Layer (type)                 Output Shape              Param #   \n",
            "=================================================================\n",
            "gru (GRU)                    (64, None, 1024)          3158016   \n",
            "_________________________________________________________________\n",
            "time_distributed (TimeDistri (64, None, 3)             3075      \n",
            "=================================================================\n",
            "Total params: 3,161,091\n",
            "Trainable params: 3,161,091\n",
            "Non-trainable params: 0\n",
            "_________________________________________________________________\n"
          ],
          "name": "stdout"
        }
      ]
    },
    {
      "metadata": {
        "id": "JP5X850FjANF",
        "colab_type": "text"
      },
      "cell_type": "markdown",
      "source": [
        "## Test the model's output (before training)"
      ]
    },
    {
      "metadata": {
        "id": "WdqsUva28s6k",
        "colab_type": "code",
        "outputId": "d8121f7a-fc7b-4fcc-e0f7-e5f5827f7701",
        "colab": {
          "base_uri": "https://localhost:8080/",
          "height": 34
        }
      },
      "cell_type": "code",
      "source": [
        "model.input"
      ],
      "execution_count": 16,
      "outputs": [
        {
          "output_type": "execute_result",
          "data": {
            "text/plain": [
              "<tf.Tensor 'gru_input:0' shape=(64, ?, 3) dtype=float32>"
            ]
          },
          "metadata": {
            "tags": []
          },
          "execution_count": 16
        }
      ]
    },
    {
      "metadata": {
        "id": "3eL5DdkcahEl",
        "colab_type": "code",
        "outputId": "3cd740e8-b68f-4d5f-b1ca-d31301442218",
        "colab": {
          "base_uri": "https://localhost:8080/",
          "height": 51
        }
      },
      "cell_type": "code",
      "source": [
        "# Test the shape of the output\n",
        "test_batch = X[:BATCH_SIZE]\n",
        "print('Input batch:', test_batch.shape)\n",
        "test_predictions = model.predict(test_batch, batch_size=BATCH_SIZE)\n",
        "\n",
        "print('Output batch:', test_predictions.shape)\n",
        "\n",
        "model.reset_states()"
      ],
      "execution_count": 17,
      "outputs": [
        {
          "output_type": "stream",
          "text": [
            "Input batch: (64, 100, 3)\n",
            "Output batch: (64, 100, 3)\n"
          ],
          "name": "stdout"
        }
      ]
    },
    {
      "metadata": {
        "id": "smiVENujDAuL",
        "colab_type": "code",
        "colab": {}
      },
      "cell_type": "code",
      "source": [
        "test_batch = scaler.inverse_transform(test_batch)\n",
        "test_predictions = scaler.inverse_transform(test_predictions)"
      ],
      "execution_count": 0,
      "outputs": []
    },
    {
      "metadata": {
        "id": "PrqkzY-0CZ0b",
        "colab_type": "code",
        "colab": {
          "base_uri": "https://localhost:8080/",
          "height": 122
        },
        "outputId": "2b58e472-d214-44f2-e61a-a0276bb14073"
      },
      "cell_type": "code",
      "source": [
        "print('Input: \\n', test_batch[0, 0], test_batch[0, 1], test_batch[0, 2], '...')\n",
        "print()\n",
        "print('Next Predictions: \\n', test_predictions[0, 0], test_predictions[0, 1], test_predictions[0, 2], '...')"
      ],
      "execution_count": 19,
      "outputs": [
        {
          "output_type": "stream",
          "text": [
            "Input: \n",
            " [15125.984    -122.39447    37.75153] [15210.047    -122.39447    37.75149] [15270.047    -122.39447    37.75149] ...\n",
            "\n",
            "Next Predictions: \n",
            " [ 1.0314157e+06 -1.2241136e+02  3.7765293e+01] [ 1.03465994e+06 -1.22410744e+02  3.77662086e+01] [ 1.03436244e+06 -1.22410378e+02  3.77666855e+01] ...\n"
          ],
          "name": "stdout"
        }
      ]
    },
    {
      "metadata": {
        "id": "dkkKIrBR2qdl",
        "colab_type": "text"
      },
      "cell_type": "markdown",
      "source": [
        "## Training"
      ]
    },
    {
      "metadata": {
        "id": "H8Ai1h_t2p8h",
        "colab_type": "code",
        "colab": {}
      },
      "cell_type": "code",
      "source": [
        "model.compile(optimizer='adam', loss='mean_absolute_error')"
      ],
      "execution_count": 0,
      "outputs": []
    },
    {
      "metadata": {
        "id": "svDi3JIb2y4-",
        "colab_type": "code",
        "colab": {}
      },
      "cell_type": "code",
      "source": [
        "# Directory where the checkpoints will be saved\n",
        "checkpoint_dir = 'onegru_training_checkpoints'\n",
        "# Name of the checkpoint files\n",
        "checkpoint_prefix = os.path.join(checkpoint_dir, \"ckpt_new_{epoch}\")\n",
        "\n",
        "checkpoint_callback = tf.keras.callbacks.ModelCheckpoint(filepath=checkpoint_prefix)"
      ],
      "execution_count": 0,
      "outputs": []
    },
    {
      "metadata": {
        "id": "uAlrq5LY3niS",
        "colab_type": "code",
        "outputId": "531c58bd-af19-4c5a-c5b9-2fa28c96c51c",
        "colab": {
          "base_uri": "https://localhost:8080/",
          "height": 1054
        }
      },
      "cell_type": "code",
      "source": [
        "hist = model.fit(X_train, y_train, epochs=30, batch_size=BATCH_SIZE, shuffle=False, validation_data=(X_val, y_val), callbacks=[checkpoint_callback])"
      ],
      "execution_count": 22,
      "outputs": [
        {
          "output_type": "stream",
          "text": [
            "Train on 89728 samples, validate on 22464 samples\n",
            "Epoch 1/30\n",
            "89728/89728 [==============================] - 548s 6ms/step - loss: 0.0417 - val_loss: 0.0389\n",
            "Epoch 2/30\n",
            "89728/89728 [==============================] - 548s 6ms/step - loss: 0.0346 - val_loss: 0.0338\n",
            "Epoch 3/30\n",
            "89728/89728 [==============================] - 548s 6ms/step - loss: 0.0330 - val_loss: 0.0323\n",
            "Epoch 4/30\n",
            "89728/89728 [==============================] - 548s 6ms/step - loss: 0.0318 - val_loss: 0.0321\n",
            "Epoch 5/30\n",
            "89728/89728 [==============================] - 548s 6ms/step - loss: 0.0311 - val_loss: 0.0313\n",
            "Epoch 6/30\n",
            "89728/89728 [==============================] - 548s 6ms/step - loss: 0.0306 - val_loss: 0.0308\n",
            "Epoch 7/30\n",
            "89728/89728 [==============================] - 551s 6ms/step - loss: 0.0304 - val_loss: 0.0307\n",
            "Epoch 8/30\n",
            "89728/89728 [==============================] - 550s 6ms/step - loss: 0.0300 - val_loss: 0.0293\n",
            "Epoch 9/30\n",
            "89728/89728 [==============================] - 547s 6ms/step - loss: 0.0298 - val_loss: 0.0294\n",
            "Epoch 10/30\n",
            "89728/89728 [==============================] - 549s 6ms/step - loss: 0.0996 - val_loss: 0.1205\n",
            "Epoch 11/30\n",
            "89728/89728 [==============================] - 548s 6ms/step - loss: 0.0638 - val_loss: 0.1036\n",
            "Epoch 12/30\n",
            "89728/89728 [==============================] - 548s 6ms/step - loss: 0.0561 - val_loss: 0.0965\n",
            "Epoch 13/30\n",
            "89728/89728 [==============================] - 548s 6ms/step - loss: 0.0520 - val_loss: 0.0784\n",
            "Epoch 14/30\n",
            "89728/89728 [==============================] - 548s 6ms/step - loss: 0.0486 - val_loss: 0.0797\n",
            "Epoch 15/30\n",
            "89728/89728 [==============================] - 555s 6ms/step - loss: 0.0475 - val_loss: 0.0758\n",
            "Epoch 16/30\n",
            "89728/89728 [==============================] - 549s 6ms/step - loss: 0.0448 - val_loss: 0.0752\n",
            "Epoch 17/30\n",
            "89728/89728 [==============================] - 550s 6ms/step - loss: 0.0442 - val_loss: 0.0864\n",
            "Epoch 18/30\n",
            "89728/89728 [==============================] - 549s 6ms/step - loss: 0.0427 - val_loss: 0.0804\n",
            "Epoch 19/30\n",
            "89728/89728 [==============================] - 549s 6ms/step - loss: 0.0415 - val_loss: 0.1040\n",
            "Epoch 20/30\n",
            "89728/89728 [==============================] - 550s 6ms/step - loss: 0.0411 - val_loss: 0.1080\n",
            "Epoch 21/30\n",
            "89728/89728 [==============================] - 550s 6ms/step - loss: 0.0406 - val_loss: 0.0832\n",
            "Epoch 22/30\n",
            "89728/89728 [==============================] - 550s 6ms/step - loss: 0.0393 - val_loss: 0.0644\n",
            "Epoch 23/30\n",
            "89728/89728 [==============================] - 550s 6ms/step - loss: 0.0386 - val_loss: 0.0631\n",
            "Epoch 24/30\n",
            "89728/89728 [==============================] - 549s 6ms/step - loss: 0.0377 - val_loss: 0.0468\n",
            "Epoch 25/30\n",
            "89728/89728 [==============================] - 550s 6ms/step - loss: 0.0374 - val_loss: 0.0460\n",
            "Epoch 26/30\n",
            "89728/89728 [==============================] - 550s 6ms/step - loss: 0.0369 - val_loss: 0.0486\n",
            "Epoch 27/30\n",
            "89728/89728 [==============================] - 550s 6ms/step - loss: 0.0376 - val_loss: 0.0465\n",
            "Epoch 28/30\n",
            "89728/89728 [==============================] - 549s 6ms/step - loss: 0.0376 - val_loss: 0.0487\n",
            "Epoch 29/30\n",
            "89728/89728 [==============================] - 549s 6ms/step - loss: 0.0371 - val_loss: 0.0453\n",
            "Epoch 30/30\n",
            "89728/89728 [==============================] - 549s 6ms/step - loss: 0.0371 - val_loss: 0.0423\n"
          ],
          "name": "stdout"
        }
      ]
    },
    {
      "metadata": {
        "id": "IOokszv-K0KR",
        "colab_type": "text"
      },
      "cell_type": "markdown",
      "source": [
        "## Save and plot the history\n",
        "The history holds information on loss and validiation loss during training."
      ]
    },
    {
      "metadata": {
        "id": "dCYcOLaQ1nKn",
        "colab_type": "code",
        "outputId": "0e436737-b4bd-4750-e47e-abaec2e4ae7b",
        "colab": {
          "base_uri": "https://localhost:8080/",
          "height": 34
        }
      },
      "cell_type": "code",
      "source": [
        "with open('onegru_history.pkl', 'wb') as file:\n",
        "    pickle.dump(hist.history, file)\n",
        "    print('History saved')"
      ],
      "execution_count": 23,
      "outputs": [
        {
          "output_type": "stream",
          "text": [
            "History saved\n"
          ],
          "name": "stdout"
        }
      ]
    },
    {
      "metadata": {
        "id": "KXenSIlp2jAz",
        "colab_type": "code",
        "outputId": "e210556d-f0ad-44c7-96be-7eff44c45991",
        "colab": {
          "base_uri": "https://localhost:8080/",
          "height": 347
        }
      },
      "cell_type": "code",
      "source": [
        "plt.plot(hist.history['loss'], label='Loss')\n",
        "plt.plot(hist.history['val_loss'], label='Validation Loss')\n",
        "plt.legend()\n",
        "plt.show()"
      ],
      "execution_count": 24,
      "outputs": [
        {
          "output_type": "display_data",
          "data": {
            "image/png": "[encoded data removed]",
            "text/plain": [
              "<matplotlib.figure.Figure at 0x7f1a9eae0400>"
            ]
          },
          "metadata": {
            "tags": []
          }
        }
      ]
    },
    {
      "metadata": {
        "id": "J1l4J261LCCg",
        "colab_type": "text"
      },
      "cell_type": "markdown",
      "source": [
        "## Load and prepare the trained model for generating data"
      ]
    },
    {
      "metadata": {
        "id": "vHiQ4vD0LGKc",
        "colab_type": "code",
        "colab": {}
      },
      "cell_type": "code",
      "source": [
        "loaded_model = tf.keras.models.load_model('onegru_training_checkpoints/ckpt_new_9')"
      ],
      "execution_count": 0,
      "outputs": []
    },
    {
      "metadata": {
        "id": "ndpZGT44LgPd",
        "colab_type": "code",
        "colab": {}
      },
      "cell_type": "code",
      "source": [
        "model = build_model(batch_size=1)\n",
        "\n",
        "weights = loaded_model.get_weights()\n",
        "model.set_weights(weights)"
      ],
      "execution_count": 0,
      "outputs": []
    },
    {
      "metadata": {
        "id": "6mUJUd4jLm_A",
        "colab_type": "code",
        "colab": {
          "base_uri": "https://localhost:8080/",
          "height": 204
        },
        "outputId": "99fff876-7372-47a7-9198-c707f5c15bb6"
      },
      "cell_type": "code",
      "source": [
        "model.summary()"
      ],
      "execution_count": 8,
      "outputs": [
        {
          "output_type": "stream",
          "text": [
            "_________________________________________________________________\n",
            "Layer (type)                 Output Shape              Param #   \n",
            "=================================================================\n",
            "gru (GRU)                    (1, None, 1024)           3158016   \n",
            "_________________________________________________________________\n",
            "time_distributed (TimeDistri (1, None, 3)              3075      \n",
            "=================================================================\n",
            "Total params: 3,161,091\n",
            "Trainable params: 3,161,091\n",
            "Non-trainable params: 0\n",
            "_________________________________________________________________\n"
          ],
          "name": "stdout"
        }
      ]
    },
    {
      "metadata": {
        "id": "8CFJhAhyRSoR",
        "colab_type": "text"
      },
      "cell_type": "markdown",
      "source": [
        "## Generate geolocation data of one entity using the trained model\n",
        "In the end the generated data is saved to disk in order to be reused from a different notebook."
      ]
    },
    {
      "metadata": {
        "id": "aFWC2EknLpR_",
        "colab_type": "code",
        "colab": {}
      },
      "cell_type": "code",
      "source": [
        "N_GENERATE = 1000\n",
        "\n",
        "start = [324.0, -122.390085, 37.789910]    # Google Offices in San Francisco: 37.789910, -122.390085\n",
        "generated = np.array([start]).astype(np.float32)\n",
        "\n",
        "model.reset_states()\n",
        "\n",
        "for i in range(1, N_GENERATE):\n",
        "    input = generated[-1:]\n",
        "    input = scaler.transform(input)\n",
        "    input = np.array([input])\n",
        "    \n",
        "    prediction = model.predict(input, batch_size=1)\n",
        "    \n",
        "    prediction = np.squeeze(prediction, axis=0)\n",
        "    prediction = scaler.inverse_transform(prediction)\n",
        "    \n",
        "    generated = np.concatenate([generated, prediction])"
      ],
      "execution_count": 0,
      "outputs": []
    },
    {
      "metadata": {
        "id": "-lg06MD4Qg82",
        "colab_type": "code",
        "colab": {
          "base_uri": "https://localhost:8080/",
          "height": 34
        },
        "outputId": "384e10a3-534a-4f06-a5ca-07772a528d50"
      },
      "cell_type": "code",
      "source": [
        "generated.shape"
      ],
      "execution_count": 16,
      "outputs": [
        {
          "output_type": "execute_result",
          "data": {
            "text/plain": [
              "(1000, 3)"
            ]
          },
          "metadata": {
            "tags": []
          },
          "execution_count": 16
        }
      ]
    },
    {
      "metadata": {
        "id": "-ElKGEsXQjAu",
        "colab_type": "code",
        "colab": {
          "base_uri": "https://localhost:8080/",
          "height": 136
        },
        "outputId": "daed7c53-41d0-4930-9e0b-4585bd91dcca"
      },
      "cell_type": "code",
      "source": [
        "generated"
      ],
      "execution_count": 17,
      "outputs": [
        {
          "output_type": "execute_result",
          "data": {
            "text/plain": [
              "array([[ 3.24000000e+02, -1.22390083e+02,  3.77899094e+01],\n",
              "       [-6.75176938e+05, -1.22380653e+02,  3.78001709e+01],\n",
              "       [-1.64905325e+06, -1.22381714e+02,  3.78396263e+01],\n",
              "       ...,\n",
              "       [ 1.32630400e+06, -1.22476555e+02,  3.73052673e+01],\n",
              "       [ 1.32630400e+06, -1.22476555e+02,  3.73052673e+01],\n",
              "       [ 1.32630412e+06, -1.22476555e+02,  3.73052673e+01]], dtype=float32)"
            ]
          },
          "metadata": {
            "tags": []
          },
          "execution_count": 17
        }
      ]
    },
    {
      "metadata": {
        "id": "747Ob_KSReL5",
        "colab_type": "code",
        "colab": {
          "base_uri": "https://localhost:8080/",
          "height": 34
        },
        "outputId": "d613ef1f-241e-4ac6-f90c-7285108711bf"
      },
      "cell_type": "code",
      "source": [
        "with open('onegru_generated_test.pkl', 'wb') as file:\n",
        "    pickle.dump(generated, file)\n",
        "    print('Generated data saved')"
      ],
      "execution_count": 18,
      "outputs": [
        {
          "output_type": "stream",
          "text": [
            "Generated data saved\n"
          ],
          "name": "stdout"
        }
      ]
    }
  ]
}