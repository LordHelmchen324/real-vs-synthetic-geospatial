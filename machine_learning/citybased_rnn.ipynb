{
  "nbformat": 4,
  "nbformat_minor": 0,
  "metadata": {
    "colab": {
      "name": "citybased_rnn.ipynb",
      "version": "0.3.2",
      "provenance": [],
      "collapsed_sections": []
    },
    "kernelspec": {
      "name": "python3",
      "display_name": "Python 3"
    },
    "accelerator": "GPU"
  },
  "cells": [
    {
      "metadata": {
        "id": "BFLtqc6hXszW",
        "colab_type": "code",
        "outputId": "99cbf2de-2846-4d6e-de59-0ed7da6ab555",
        "colab": {
          "base_uri": "https://localhost:8080/",
          "height": 51
        }
      },
      "cell_type": "code",
      "source": [
        "# Setup of libraries, mounting the Google Drive etc.\n",
        "\n",
        "import os\n",
        "import sys\n",
        "from google.colab import drive\n",
        "drive.mount('/content/gdrive')\n",
        "os.chdir('/content/gdrive/My Drive/Colab Notebooks')\n",
        "\n",
        "import matplotlib.pyplot as plt\n",
        "import numpy as np\n",
        "import pandas as pd\n",
        "import pickle\n",
        "\n",
        "import tensorflow as tf\n",
        "\n",
        "import utils\n",
        "\n",
        "print('The current working directory is:', os.getcwd())"
      ],
      "execution_count": 1,
      "outputs": [
        {
          "output_type": "stream",
          "text": [
            "Drive already mounted at /content/gdrive; to attempt to forcibly remount, call drive.mount(\"/content/gdrive\", force_remount=True).\n",
            "The current working directory is: /content/gdrive/My Drive/Colab Notebooks\n"
          ],
          "name": "stdout"
        }
      ]
    },
    {
      "metadata": {
        "id": "lHDRiK7LYw2s",
        "colab_type": "text"
      },
      "cell_type": "markdown",
      "source": [
        "## Read the dataset from `.pkl` file\n"
      ]
    },
    {
      "metadata": {
        "id": "rxQz-vmJYEGC",
        "colab_type": "code",
        "outputId": "7f60fcb7-a976-4cdd-9aac-31d20a536e27",
        "colab": {
          "base_uri": "https://localhost:8080/",
          "height": 235
        }
      },
      "cell_type": "code",
      "source": [
        "df = pd.read_pickle('datasets/cabspotting.pkl')\n",
        "df.head()"
      ],
      "execution_count": 2,
      "outputs": [
        {
          "output_type": "execute_result",
          "data": {
            "text/html": [
              "<div>\n",
              "<style scoped>\n",
              "    .dataframe tbody tr th:only-of-type {\n",
              "        vertical-align: middle;\n",
              "    }\n",
              "\n",
              "    .dataframe tbody tr th {\n",
              "        vertical-align: top;\n",
              "    }\n",
              "\n",
              "    .dataframe thead th {\n",
              "        text-align: right;\n",
              "    }\n",
              "</style>\n",
              "<table border=\"1\" class=\"dataframe\">\n",
              "  <thead>\n",
              "    <tr style=\"text-align: right;\">\n",
              "      <th></th>\n",
              "      <th></th>\n",
              "      <th>latitude</th>\n",
              "      <th>longitude</th>\n",
              "      <th>occupied</th>\n",
              "    </tr>\n",
              "    <tr>\n",
              "      <th>user</th>\n",
              "      <th>time</th>\n",
              "      <th></th>\n",
              "      <th></th>\n",
              "      <th></th>\n",
              "    </tr>\n",
              "  </thead>\n",
              "  <tbody>\n",
              "    <tr>\n",
              "      <th rowspan=\"5\" valign=\"top\">abboip</th>\n",
              "      <th>2008-05-17 14:12:10</th>\n",
              "      <td>37.75153</td>\n",
              "      <td>-122.39447</td>\n",
              "      <td>0</td>\n",
              "    </tr>\n",
              "    <tr>\n",
              "      <th>2008-05-17 14:13:34</th>\n",
              "      <td>37.75149</td>\n",
              "      <td>-122.39447</td>\n",
              "      <td>0</td>\n",
              "    </tr>\n",
              "    <tr>\n",
              "      <th>2008-05-17 14:14:34</th>\n",
              "      <td>37.75149</td>\n",
              "      <td>-122.39447</td>\n",
              "      <td>0</td>\n",
              "    </tr>\n",
              "    <tr>\n",
              "      <th>2008-05-17 14:15:35</th>\n",
              "      <td>37.75149</td>\n",
              "      <td>-122.39446</td>\n",
              "      <td>0</td>\n",
              "    </tr>\n",
              "    <tr>\n",
              "      <th>2008-05-17 14:41:43</th>\n",
              "      <td>37.75144</td>\n",
              "      <td>-122.39449</td>\n",
              "      <td>0</td>\n",
              "    </tr>\n",
              "  </tbody>\n",
              "</table>\n",
              "</div>"
            ],
            "text/plain": [
              "                            latitude  longitude  occupied\n",
              "user   time                                              \n",
              "abboip 2008-05-17 14:12:10  37.75153 -122.39447         0\n",
              "       2008-05-17 14:13:34  37.75149 -122.39447         0\n",
              "       2008-05-17 14:14:34  37.75149 -122.39447         0\n",
              "       2008-05-17 14:15:35  37.75149 -122.39446         0\n",
              "       2008-05-17 14:41:43  37.75144 -122.39449         0"
            ]
          },
          "metadata": {
            "tags": []
          },
          "execution_count": 2
        }
      ]
    },
    {
      "metadata": {
        "id": "SRCEhqT6ZLYO",
        "colab_type": "text"
      },
      "cell_type": "markdown",
      "source": [
        "## Convert the dataset to a mapping of users to the strings of their movements"
      ]
    },
    {
      "metadata": {
        "id": "7NmsLO-RC0Lb",
        "colab_type": "code",
        "colab": {
          "base_uri": "https://localhost:8080/",
          "height": 136
        },
        "outputId": "dc2555e5-3740-4c79-90ce-46d54e803392"
      },
      "cell_type": "code",
      "source": [
        "df = utils.records_to_user_geolcation(df)\n",
        "df.head()"
      ],
      "execution_count": 3,
      "outputs": [
        {
          "output_type": "execute_result",
          "data": {
            "text/plain": [
              "user\n",
              "abboip      [[15126.000000000002, -122.39447, 37.751529999...\n",
              "abcoij      [[47486.0, -122.41466000000001, 37.80346], [47...\n",
              "abdremlu    [[11949.0, -122.39093000000001, 37.75521], [12...\n",
              "abgibo      [[16.0, -122.4374, 37.7733], [61.0000000000000...\n",
              "abjoolaw    [[13856.0, -122.39747, 37.75159], [13916.0, -1...\n",
              "dtype: object"
            ]
          },
          "metadata": {
            "tags": []
          },
          "execution_count": 3
        }
      ]
    },
    {
      "metadata": {
        "id": "G7jbyag-Ztfr",
        "colab_type": "text"
      },
      "cell_type": "markdown",
      "source": [
        "## Concatenate all user strings of data to one complete string of all"
      ]
    },
    {
      "metadata": {
        "id": "rLm4S-MyDKdm",
        "colab_type": "code",
        "colab": {
          "base_uri": "https://localhost:8080/",
          "height": 170
        },
        "outputId": "20eeae3f-a2c8-4be4-f9c1-313019e2f9f2"
      },
      "cell_type": "code",
      "source": [
        "data = utils.user_geolocation_to_single_sequence(df)\n",
        "\n",
        "print(data.shape)\n",
        "print()\n",
        "print(data)"
      ],
      "execution_count": 4,
      "outputs": [
        {
          "output_type": "stream",
          "text": [
            "(11219955, 3)\n",
            "\n",
            "[[ 1.5126000e+04 -1.2239447e+02  3.7751530e+01]\n",
            " [ 1.5210000e+04 -1.2239447e+02  3.7751490e+01]\n",
            " [ 1.5270000e+04 -1.2239447e+02  3.7751490e+01]\n",
            " ...\n",
            " [ 2.0172080e+06 -1.2244239e+02  3.7756860e+01]\n",
            " [ 2.0172640e+06 -1.2244215e+02  3.7760470e+01]\n",
            " [ 2.0173250e+06 -1.2243687e+02  3.7760750e+01]]\n"
          ],
          "name": "stdout"
        }
      ]
    },
    {
      "metadata": {
        "id": "noA-JMxmZ9k0",
        "colab_type": "text"
      },
      "cell_type": "markdown",
      "source": [
        "## Standardisation\n",
        "All three features in the data are scaled to have a `mean = 0` and a `standard deviation = 1`.\n",
        "\n",
        "The Scaler is also saved to disk, so it can later be resued in a different Notebook."
      ]
    },
    {
      "metadata": {
        "id": "4eXEW0wkH2_W",
        "colab_type": "code",
        "outputId": "97d803d6-fc8b-47fe-e0ec-337cd30dc27c",
        "colab": {
          "base_uri": "https://localhost:8080/",
          "height": 187
        }
      },
      "cell_type": "code",
      "source": [
        "from sklearn import preprocessing\n",
        "\n",
        "scaler = preprocessing.StandardScaler()\n",
        "scaler.fit(data)\n",
        "\n",
        "data = scaler.transform(data)\n",
        "\n",
        "print('Means: %f %f %f' % (scaler.mean_[0], scaler.mean_[1], scaler.mean_[2]))\n",
        "print('Standard deviations: %f %f %f' % (scaler.var_[0], scaler.var_[1], scaler.var_[2]))\n",
        "print()\n",
        "print(data)"
      ],
      "execution_count": 5,
      "outputs": [
        {
          "output_type": "stream",
          "text": [
            "Means: 1017983.546543 -122.412432 37.763601\n",
            "Standard deviations: 346406383099.499146 0.001280 0.002901\n",
            "\n",
            "[[-1.70390864  0.50197561 -0.22410877]\n",
            " [-1.70376591  0.50197561 -0.22485143]\n",
            " [-1.70366397  0.50197561 -0.22485143]\n",
            " ...\n",
            " [ 1.69773582 -0.83724035 -0.12514886]\n",
            " [ 1.69783096 -0.83053309 -0.05812348]\n",
            " [ 1.69793461 -0.6829734  -0.05292484]]\n"
          ],
          "name": "stdout"
        }
      ]
    },
    {
      "metadata": {
        "id": "mu8Zqf_MQ4j3",
        "colab_type": "code",
        "outputId": "3ce672eb-166d-48f6-d80e-006ca7b5f826",
        "colab": {
          "base_uri": "https://localhost:8080/",
          "height": 34
        }
      },
      "cell_type": "code",
      "source": [
        "with open('datasets/cabspotting_StandardScaler.pkl', 'wb') as file:\n",
        "    pickle.dump(scaler, file)\n",
        "    print('Scaler saved')"
      ],
      "execution_count": 0,
      "outputs": [
        {
          "output_type": "stream",
          "text": [
            "Scaler saved\n"
          ],
          "name": "stdout"
        }
      ]
    },
    {
      "metadata": {
        "id": "tgh9Jnhbvo7a",
        "colab_type": "text"
      },
      "cell_type": "markdown",
      "source": [
        "## Convert the data to 32-bit floats\n",
        "This is to correct an error I got earlier. Apparently the GRU layers can't handle 64-bit integers (doubles) as input."
      ]
    },
    {
      "metadata": {
        "id": "WY07YNcWv2RS",
        "colab_type": "code",
        "outputId": "4c0632ef-8454-4ab1-f6cf-9d3845b1c673",
        "colab": {
          "base_uri": "https://localhost:8080/",
          "height": 34
        }
      },
      "cell_type": "code",
      "source": [
        "print('Before: ', data.dtype)"
      ],
      "execution_count": 6,
      "outputs": [
        {
          "output_type": "stream",
          "text": [
            "Before:  float64\n"
          ],
          "name": "stdout"
        }
      ]
    },
    {
      "metadata": {
        "id": "l9yt0kQWwH-h",
        "colab_type": "code",
        "colab": {}
      },
      "cell_type": "code",
      "source": [
        "data = data.astype(np.float32)"
      ],
      "execution_count": 0,
      "outputs": []
    },
    {
      "metadata": {
        "id": "3_DHJn_9waE1",
        "colab_type": "code",
        "outputId": "8014e4b0-0c0b-48c9-8f0c-0470a7a4d989",
        "colab": {
          "base_uri": "https://localhost:8080/",
          "height": 34
        }
      },
      "cell_type": "code",
      "source": [
        "print('After: ', data.dtype)"
      ],
      "execution_count": 8,
      "outputs": [
        {
          "output_type": "stream",
          "text": [
            "After:  float32\n"
          ],
          "name": "stdout"
        }
      ]
    },
    {
      "metadata": {
        "id": "o_C9xIyVLmsZ",
        "colab_type": "text"
      },
      "cell_type": "markdown",
      "source": [
        "## Reshape and -order the data for input into the model (including X and y split)\n"
      ]
    },
    {
      "metadata": {
        "id": "S1cCkuVe9kfY",
        "colab_type": "code",
        "outputId": "760ec471-91ec-42de-800e-0f70ccc54ff0",
        "colab": {
          "base_uri": "https://localhost:8080/",
          "height": 34
        }
      },
      "cell_type": "code",
      "source": [
        "data.shape"
      ],
      "execution_count": 0,
      "outputs": [
        {
          "output_type": "execute_result",
          "data": {
            "text/plain": [
              "(11219955, 3)"
            ]
          },
          "metadata": {
            "tags": []
          },
          "execution_count": 10
        }
      ]
    },
    {
      "metadata": {
        "id": "80Fa7dg5D9cG",
        "colab_type": "code",
        "colab": {
          "base_uri": "https://localhost:8080/",
          "height": 51
        },
        "outputId": "e351b7cf-166e-4dcf-968d-ab9eeab2bda4"
      },
      "cell_type": "code",
      "source": [
        "BATCH_SIZE = 64\n",
        "SEQ_LENGTH = 100\n",
        "\n",
        "n_batches, X, y = utils.reshape_single_sequence_to_rnn_Xy(data, BATCH_SIZE, SEQ_LENGTH)\n",
        "\n",
        "print('X:', X.shape)\n",
        "print('y:', y.shape)"
      ],
      "execution_count": 10,
      "outputs": [
        {
          "output_type": "stream",
          "text": [
            "X: (112192, 100, 3)\n",
            "y: (112192, 100, 3)\n"
          ],
          "name": "stdout"
        }
      ]
    },
    {
      "metadata": {
        "id": "Z8TZ9eBOAgHG",
        "colab_type": "text"
      },
      "cell_type": "markdown",
      "source": [
        "## Split into training and validations sets"
      ]
    },
    {
      "metadata": {
        "id": "1KRfAnl2AftS",
        "colab_type": "code",
        "outputId": "8cc2aa84-6af8-4166-f457-25e184c434af",
        "colab": {
          "base_uri": "https://localhost:8080/",
          "height": 51
        }
      },
      "cell_type": "code",
      "source": [
        "n_train = int(n_batches * 0.8) * BATCH_SIZE\n",
        "X_train = X[:n_train]\n",
        "y_train = y[:n_train]\n",
        "X_val = X[n_train:]\n",
        "y_val = y[n_train:]\n",
        "\n",
        "print('Train:', X_train.shape, y_train.shape)\n",
        "print('Validation:', X_val.shape, y_val.shape)"
      ],
      "execution_count": 11,
      "outputs": [
        {
          "output_type": "stream",
          "text": [
            "Train: (89728, 100, 3) (89728, 100, 3)\n",
            "Validation: (22464, 100, 3) (22464, 100, 3)\n"
          ],
          "name": "stdout"
        }
      ]
    },
    {
      "metadata": {
        "id": "vFm92XsBiiGO",
        "colab_type": "text"
      },
      "cell_type": "markdown",
      "source": [
        "## Build the model"
      ]
    },
    {
      "metadata": {
        "id": "KsxAe-NaBEid",
        "colab_type": "code",
        "colab": {}
      },
      "cell_type": "code",
      "source": [
        "def build_model(batch_size):\n",
        "    model = tf.keras.Sequential([\n",
        "        tf.keras.layers.GRU(1024, return_sequences=True, stateful=True, input_shape=(None, 3), batch_size=batch_size),\n",
        "        tf.keras.layers.TimeDistributed(tf.layers.Dense(3))\n",
        "    ])\n",
        "    return model"
      ],
      "execution_count": 0,
      "outputs": []
    },
    {
      "metadata": {
        "id": "GE11g2X-efxh",
        "colab_type": "code",
        "outputId": "fa42dadd-52e4-4860-853a-d180044a183c",
        "colab": {
          "base_uri": "https://localhost:8080/",
          "height": 204
        }
      },
      "cell_type": "code",
      "source": [
        "model = build_model(batch_size=BATCH_SIZE)\n",
        "model.summary()"
      ],
      "execution_count": 13,
      "outputs": [
        {
          "output_type": "stream",
          "text": [
            "_________________________________________________________________\n",
            "Layer (type)                 Output Shape              Param #   \n",
            "=================================================================\n",
            "gru (GRU)                    (64, None, 1024)          3158016   \n",
            "_________________________________________________________________\n",
            "time_distributed (TimeDistri (64, None, 3)             3075      \n",
            "=================================================================\n",
            "Total params: 3,161,091\n",
            "Trainable params: 3,161,091\n",
            "Non-trainable params: 0\n",
            "_________________________________________________________________\n"
          ],
          "name": "stdout"
        }
      ]
    },
    {
      "metadata": {
        "id": "JP5X850FjANF",
        "colab_type": "text"
      },
      "cell_type": "markdown",
      "source": [
        "## Test the model's output (before training)"
      ]
    },
    {
      "metadata": {
        "id": "WdqsUva28s6k",
        "colab_type": "code",
        "outputId": "b2b694e6-d999-44c5-84f9-e74e313330c9",
        "colab": {
          "base_uri": "https://localhost:8080/",
          "height": 34
        }
      },
      "cell_type": "code",
      "source": [
        "model.input"
      ],
      "execution_count": 14,
      "outputs": [
        {
          "output_type": "execute_result",
          "data": {
            "text/plain": [
              "<tf.Tensor 'gru_input:0' shape=(64, ?, 3) dtype=float32>"
            ]
          },
          "metadata": {
            "tags": []
          },
          "execution_count": 14
        }
      ]
    },
    {
      "metadata": {
        "id": "3eL5DdkcahEl",
        "colab_type": "code",
        "outputId": "0a18d5f5-4d04-4bff-fbd4-a2f58106a395",
        "colab": {
          "base_uri": "https://localhost:8080/",
          "height": 51
        }
      },
      "cell_type": "code",
      "source": [
        "# Test the shape of the output\n",
        "test_batch = X[:BATCH_SIZE]\n",
        "print('Input batch:', test_batch.shape)\n",
        "test_predictions = model.predict(test_batch, batch_size=BATCH_SIZE)\n",
        "\n",
        "print('Output batch:', test_predictions.shape)\n",
        "\n",
        "model.reset_states()"
      ],
      "execution_count": 15,
      "outputs": [
        {
          "output_type": "stream",
          "text": [
            "Input batch: (64, 100, 3)\n",
            "Output batch: (64, 100, 3)\n"
          ],
          "name": "stdout"
        }
      ]
    },
    {
      "metadata": {
        "id": "smiVENujDAuL",
        "colab_type": "code",
        "colab": {}
      },
      "cell_type": "code",
      "source": [
        "test_batch = scaler.inverse_transform(test_batch)\n",
        "test_predictions = scaler.inverse_transform(test_predictions)"
      ],
      "execution_count": 0,
      "outputs": []
    },
    {
      "metadata": {
        "id": "PrqkzY-0CZ0b",
        "colab_type": "code",
        "outputId": "64158d43-146b-4ba0-8abf-52da461127e6",
        "colab": {
          "base_uri": "https://localhost:8080/",
          "height": 102
        }
      },
      "cell_type": "code",
      "source": [
        "print('Input: \\n', test_batch[0, 0], test_batch[0, 1], test_batch[0, 2], '...')\n",
        "print()\n",
        "print('Next Predictions: \\n', test_predictions[0, 0], test_predictions[0, 1], test_predictions[0, 2], '...')"
      ],
      "execution_count": 17,
      "outputs": [
        {
          "output_type": "stream",
          "text": [
            "Input: \n",
            " [15125.984    -122.39447    37.75153] [15210.047    -122.39447    37.75149] [15270.047    -122.39447    37.75149] ...\n",
            "\n",
            "Next Predictions: \n",
            " [ 1.0238951e+06 -1.2241466e+02  3.7762688e+01] [ 1.02833044e+06 -1.22415855e+02  3.77620277e+01] [ 1.03166556e+06 -1.22416519e+02  3.77615776e+01] ...\n"
          ],
          "name": "stdout"
        }
      ]
    },
    {
      "metadata": {
        "id": "dkkKIrBR2qdl",
        "colab_type": "text"
      },
      "cell_type": "markdown",
      "source": [
        "## Training"
      ]
    },
    {
      "metadata": {
        "id": "H8Ai1h_t2p8h",
        "colab_type": "code",
        "colab": {}
      },
      "cell_type": "code",
      "source": [
        "model.compile(optimizer='adam', loss='mean_absolute_error')"
      ],
      "execution_count": 0,
      "outputs": []
    },
    {
      "metadata": {
        "id": "svDi3JIb2y4-",
        "colab_type": "code",
        "colab": {}
      },
      "cell_type": "code",
      "source": [
        "# Folder for the architecture\n",
        "# Name: List of the layers connected to the parameters by '-',\n",
        "#       dataset that the network was trained on,\n",
        "#       batch size,\n",
        "#       sequence length,\n",
        "#       optimiser,\n",
        "#       loss function,\n",
        "#       learning rate,\n",
        "#       epoch the checkpoint is from\n",
        "checkpoint_path = 'checkpoints/citybased_rnn/GRU-1024_TD-Dense-3_cabspotting_64_100_adam_mae_default_{epoch:02d}.h5'\n",
        "\n",
        "checkpoint_callback = tf.keras.callbacks.ModelCheckpoint(filepath=checkpoint_path)"
      ],
      "execution_count": 0,
      "outputs": []
    },
    {
      "metadata": {
        "id": "uAlrq5LY3niS",
        "colab_type": "code",
        "outputId": "89b1d90b-614e-44fe-8259-4b7e0e28d140",
        "colab": {
          "base_uri": "https://localhost:8080/",
          "height": 1054
        }
      },
      "cell_type": "code",
      "source": [
        "hist = model.fit(X_train, y_train, epochs=30, batch_size=BATCH_SIZE, shuffle=False, validation_data=(X_val, y_val), callbacks=[checkpoint_callback])"
      ],
      "execution_count": 0,
      "outputs": [
        {
          "output_type": "stream",
          "text": [
            "Train on 89728 samples, validate on 22464 samples\n",
            "Epoch 1/30\n",
            "89728/89728 [==============================] - 547s 6ms/step - loss: 0.0415 - val_loss: 0.0471\n",
            "Epoch 2/30\n",
            "89728/89728 [==============================] - 547s 6ms/step - loss: 0.0343 - val_loss: 0.0339\n",
            "Epoch 3/30\n",
            "89728/89728 [==============================] - 546s 6ms/step - loss: 0.0329 - val_loss: 0.0323\n",
            "Epoch 4/30\n",
            "89728/89728 [==============================] - 546s 6ms/step - loss: 0.0318 - val_loss: 0.0302\n",
            "Epoch 5/30\n",
            "89728/89728 [==============================] - 546s 6ms/step - loss: 0.0312 - val_loss: 0.0307\n",
            "Epoch 6/30\n",
            "89728/89728 [==============================] - 546s 6ms/step - loss: 0.0461 - val_loss: 0.1204\n",
            "Epoch 7/30\n",
            "89728/89728 [==============================] - 547s 6ms/step - loss: 0.0599 - val_loss: 0.0649\n",
            "Epoch 8/30\n",
            "89728/89728 [==============================] - 547s 6ms/step - loss: 0.0413 - val_loss: 0.0449\n",
            "Epoch 9/30\n",
            "89728/89728 [==============================] - 547s 6ms/step - loss: 0.0399 - val_loss: 0.0482\n",
            "Epoch 10/30\n",
            "89728/89728 [==============================] - 547s 6ms/step - loss: 0.0378 - val_loss: 0.0456\n",
            "Epoch 11/30\n",
            "89728/89728 [==============================] - 547s 6ms/step - loss: 0.0378 - val_loss: 0.0386\n",
            "Epoch 12/30\n",
            "89728/89728 [==============================] - 547s 6ms/step - loss: 0.0373 - val_loss: 0.0475\n",
            "Epoch 13/30\n",
            "89728/89728 [==============================] - 547s 6ms/step - loss: 0.0368 - val_loss: 0.0440\n",
            "Epoch 14/30\n",
            "89728/89728 [==============================] - 547s 6ms/step - loss: 0.0371 - val_loss: 0.0540\n",
            "Epoch 15/30\n",
            "89728/89728 [==============================] - 547s 6ms/step - loss: 0.0363 - val_loss: 0.0449\n",
            "Epoch 16/30\n",
            "89728/89728 [==============================] - 547s 6ms/step - loss: 0.0369 - val_loss: 0.0623\n",
            "Epoch 17/30\n",
            "89728/89728 [==============================] - 547s 6ms/step - loss: 0.0364 - val_loss: 0.0516\n",
            "Epoch 18/30\n",
            "89728/89728 [==============================] - 547s 6ms/step - loss: 0.0366 - val_loss: 0.0415\n",
            "Epoch 19/30\n",
            "89728/89728 [==============================] - 547s 6ms/step - loss: 0.0364 - val_loss: 0.0502\n",
            "Epoch 20/30\n",
            "89728/89728 [==============================] - 546s 6ms/step - loss: 0.0360 - val_loss: 0.0382\n",
            "Epoch 21/30\n",
            "89728/89728 [==============================] - 547s 6ms/step - loss: 0.0374 - val_loss: 0.0818\n",
            "Epoch 22/30\n",
            "89728/89728 [==============================] - 547s 6ms/step - loss: 0.0434 - val_loss: 0.0637\n",
            "Epoch 23/30\n",
            "89728/89728 [==============================] - 556s 6ms/step - loss: 0.0487 - val_loss: 0.0691\n",
            "Epoch 24/30\n",
            "89728/89728 [==============================] - 548s 6ms/step - loss: 0.0459 - val_loss: 0.0549\n",
            "Epoch 25/30\n",
            "89728/89728 [==============================] - 548s 6ms/step - loss: 0.0500 - val_loss: 0.0613\n",
            "Epoch 26/30\n",
            "89728/89728 [==============================] - 548s 6ms/step - loss: 0.0483 - val_loss: 0.0688\n",
            "Epoch 27/30\n",
            "89728/89728 [==============================] - 548s 6ms/step - loss: 0.0471 - val_loss: 0.0558\n",
            "Epoch 28/30\n",
            "89728/89728 [==============================] - 548s 6ms/step - loss: 0.0457 - val_loss: 0.0504\n",
            "Epoch 29/30\n",
            "89728/89728 [==============================] - 547s 6ms/step - loss: 0.0456 - val_loss: 0.0527\n",
            "Epoch 30/30\n",
            "89728/89728 [==============================] - 559s 6ms/step - loss: 0.0449 - val_loss: 0.0682\n"
          ],
          "name": "stdout"
        }
      ]
    },
    {
      "metadata": {
        "id": "IOokszv-K0KR",
        "colab_type": "text"
      },
      "cell_type": "markdown",
      "source": [
        "## Save and plot the history\n",
        "The history holds information on loss and validiation loss during training."
      ]
    },
    {
      "metadata": {
        "id": "dCYcOLaQ1nKn",
        "colab_type": "code",
        "outputId": "e51c6da6-3909-4bce-b725-fc3368f84c08",
        "colab": {
          "base_uri": "https://localhost:8080/",
          "height": 34
        }
      },
      "cell_type": "code",
      "source": [
        "with open('histories/citybased_rnn/GRU-1024_TD-Dense-3_cabspotting_64_100_adam_mae_default_30.pkl', 'wb') as file:\n",
        "    pickle.dump(hist.history, file)\n",
        "    print('History saved')"
      ],
      "execution_count": 0,
      "outputs": [
        {
          "output_type": "stream",
          "text": [
            "History saved\n"
          ],
          "name": "stdout"
        }
      ]
    },
    {
      "metadata": {
        "id": "KXenSIlp2jAz",
        "colab_type": "code",
        "outputId": "c342bfb1-27bc-44c3-ac21-377df6c4094f",
        "colab": {
          "base_uri": "https://localhost:8080/",
          "height": 347
        }
      },
      "cell_type": "code",
      "source": [
        "plt.plot(hist.history['loss'], label='Loss')\n",
        "plt.plot(hist.history['val_loss'], label='Validation Loss')\n",
        "plt.legend()\n",
        "plt.show()"
      ],
      "execution_count": 0,
      "outputs": [
        {
          "output_type": "display_data",
          "data": {
            "image/png": "[encoded data removed]",
            "text/plain": [
              "<matplotlib.figure.Figure at 0x7f5a6c31a438>"
            ]
          },
          "metadata": {
            "tags": []
          }
        }
      ]
    },
    {
      "metadata": {
        "id": "J1l4J261LCCg",
        "colab_type": "text"
      },
      "cell_type": "markdown",
      "source": [
        "## Load and prepare the trained model for generating data"
      ]
    },
    {
      "metadata": {
        "id": "vHiQ4vD0LGKc",
        "colab_type": "code",
        "colab": {}
      },
      "cell_type": "code",
      "source": [
        "loaded_model = tf.keras.models.load_model('checkpoints/citybased_rnn/GRU-1024_TD-Dense-3_cabspotting_64_100_adam_mae_default_05.h5')"
      ],
      "execution_count": 0,
      "outputs": []
    },
    {
      "metadata": {
        "id": "ndpZGT44LgPd",
        "colab_type": "code",
        "colab": {}
      },
      "cell_type": "code",
      "source": [
        "model = build_model(batch_size=1)\n",
        "\n",
        "weights = loaded_model.get_weights()\n",
        "model.set_weights(weights)"
      ],
      "execution_count": 0,
      "outputs": []
    },
    {
      "metadata": {
        "id": "6mUJUd4jLm_A",
        "colab_type": "code",
        "outputId": "f68f4572-b7a9-4e71-bc44-f89dcd8e8861",
        "colab": {
          "base_uri": "https://localhost:8080/",
          "height": 204
        }
      },
      "cell_type": "code",
      "source": [
        "model.summary()"
      ],
      "execution_count": 0,
      "outputs": [
        {
          "output_type": "stream",
          "text": [
            "_________________________________________________________________\n",
            "Layer (type)                 Output Shape              Param #   \n",
            "=================================================================\n",
            "gru_1 (GRU)                  (1, None, 1024)           3158016   \n",
            "_________________________________________________________________\n",
            "time_distributed_1 (TimeDist (1, None, 3)              3075      \n",
            "=================================================================\n",
            "Total params: 3,161,091\n",
            "Trainable params: 3,161,091\n",
            "Non-trainable params: 0\n",
            "_________________________________________________________________\n"
          ],
          "name": "stdout"
        }
      ]
    },
    {
      "metadata": {
        "id": "8CFJhAhyRSoR",
        "colab_type": "text"
      },
      "cell_type": "markdown",
      "source": [
        "## Generate geolocation data of one entity using the trained model\n",
        "In the end the generated data is saved to disk in order to be reused from a different notebook."
      ]
    },
    {
      "metadata": {
        "id": "aFWC2EknLpR_",
        "colab_type": "code",
        "colab": {}
      },
      "cell_type": "code",
      "source": [
        "N_GENERATE = 1000\n",
        "\n",
        "start = [324.0, -122.390085, 37.789910]    # Google Offices in San Francisco: 37.789910, -122.390085\n",
        "generated = np.array([start]).astype(np.float32)\n",
        "\n",
        "model.reset_states()\n",
        "\n",
        "for i in range(1, N_GENERATE):\n",
        "    input = generated[-1:]\n",
        "    input = scaler.transform(input)\n",
        "    input = np.array([input])\n",
        "    \n",
        "    prediction = model.predict(input, batch_size=1)\n",
        "    \n",
        "    prediction = np.squeeze(prediction, axis=0)\n",
        "    prediction = scaler.inverse_transform(prediction)\n",
        "    \n",
        "    generated = np.concatenate([generated, prediction])"
      ],
      "execution_count": 0,
      "outputs": []
    },
    {
      "metadata": {
        "id": "-lg06MD4Qg82",
        "colab_type": "code",
        "outputId": "22a83e06-4732-4cc4-d654-c31a1cd2db7e",
        "colab": {
          "base_uri": "https://localhost:8080/",
          "height": 34
        }
      },
      "cell_type": "code",
      "source": [
        "generated.shape"
      ],
      "execution_count": 0,
      "outputs": [
        {
          "output_type": "execute_result",
          "data": {
            "text/plain": [
              "(1000, 3)"
            ]
          },
          "metadata": {
            "tags": []
          },
          "execution_count": 34
        }
      ]
    },
    {
      "metadata": {
        "id": "-ElKGEsXQjAu",
        "colab_type": "code",
        "outputId": "d71f6a73-3167-47e9-aeb1-c98c6f27596e",
        "colab": {
          "base_uri": "https://localhost:8080/",
          "height": 136
        }
      },
      "cell_type": "code",
      "source": [
        "generated"
      ],
      "execution_count": 0,
      "outputs": [
        {
          "output_type": "execute_result",
          "data": {
            "text/plain": [
              "array([[ 3.24000000e+02, -1.22390083e+02,  3.77899094e+01],\n",
              "       [-3.02492656e+04, -1.22387428e+02,  3.77959785e+01],\n",
              "       [-5.41318281e+04, -1.22385445e+02,  3.78016281e+01],\n",
              "       ...,\n",
              "       [-1.29628850e+06, -1.22439728e+02,  3.76924286e+01],\n",
              "       [-1.29628400e+06, -1.22439728e+02,  3.76924057e+01],\n",
              "       [-1.29627975e+06, -1.22439728e+02,  3.76923828e+01]], dtype=float32)"
            ]
          },
          "metadata": {
            "tags": []
          },
          "execution_count": 35
        }
      ]
    },
    {
      "metadata": {
        "id": "747Ob_KSReL5",
        "colab_type": "code",
        "outputId": "fc87f8a1-f6c1-4b40-e0e8-4b237ff40576",
        "colab": {
          "base_uri": "https://localhost:8080/",
          "height": 34
        }
      },
      "cell_type": "code",
      "source": [
        "with open('generated/citybased_rnn/test_00.pkl', 'wb') as file:\n",
        "    pickle.dump(generated, file)\n",
        "    print('Generated data saved')"
      ],
      "execution_count": 0,
      "outputs": [
        {
          "output_type": "stream",
          "text": [
            "Generated data saved\n"
          ],
          "name": "stdout"
        }
      ]
    }
  ]
}