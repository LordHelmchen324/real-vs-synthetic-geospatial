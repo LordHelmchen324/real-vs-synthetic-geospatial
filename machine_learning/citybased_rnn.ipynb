{
  "nbformat": 4,
  "nbformat_minor": 0,
  "metadata": {
    "colab": {
      "name": "citybased_rnn.ipynb",
      "version": "0.3.2",
      "provenance": [],
      "collapsed_sections": []
    },
    "kernelspec": {
      "name": "python3",
      "display_name": "Python 3"
    },
    "accelerator": "GPU"
  },
  "cells": [
    {
      "metadata": {
        "id": "BFLtqc6hXszW",
        "colab_type": "code",
        "outputId": "a496df45-91b1-4bc7-85f7-aa4738a4bccd",
        "colab": {
          "base_uri": "https://localhost:8080/",
          "height": 71
        }
      },
      "cell_type": "code",
      "source": [
        "# Setup of libraries, mounting the Google Drive etc.\n",
        "\n",
        "import os\n",
        "import sys\n",
        "from google.colab import drive\n",
        "drive.mount('/content/gdrive')\n",
        "os.chdir('/content/gdrive/My Drive/Colab Notebooks')\n",
        "\n",
        "import matplotlib.pyplot as plt\n",
        "import numpy as np\n",
        "import pandas as pd\n",
        "import pickle\n",
        "\n",
        "import tensorflow as tf\n",
        "\n",
        "import utils\n",
        "import IPython\n",
        "\n",
        "print('The current working directory is:', os.getcwd())"
      ],
      "execution_count": 1,
      "outputs": [
        {
          "output_type": "stream",
          "text": [
            "Drive already mounted at /content/gdrive; to attempt to forcibly remount, call drive.mount(\"/content/gdrive\", force_remount=True).\n",
            "The current working directory is: /content/gdrive/My Drive/Colab Notebooks\n"
          ],
          "name": "stdout"
        }
      ]
    },
    {
      "metadata": {
        "id": "F4RQ7cebj9j0",
        "colab_type": "text"
      },
      "cell_type": "markdown",
      "source": [
        "## Define the parameters\n",
        "... meaning paramters like which dataset to train on, batch size and so on and so forth"
      ]
    },
    {
      "metadata": {
        "id": "RAvJyjynkIyO",
        "colab_type": "code",
        "colab": {}
      },
      "cell_type": "code",
      "source": [
        "DATASET_NAME = 't-drive'\n",
        "\n",
        "setup_string = 'GRU-1024_TD-Dense-3_{dataset}_64_100_adam_mae_default'.format(dataset=DATASET_NAME)"
      ],
      "execution_count": 0,
      "outputs": []
    },
    {
      "metadata": {
        "id": "UW9yTd7v8GHA",
        "colab_type": "code",
        "colab": {
          "base_uri": "https://localhost:8080/",
          "height": 34
        },
        "outputId": "2db838e3-a464-452a-c407-effa425ed055"
      },
      "cell_type": "code",
      "source": [
        "setup_string"
      ],
      "execution_count": 3,
      "outputs": [
        {
          "output_type": "execute_result",
          "data": {
            "text/plain": [
              "'GRU-1024_TD-Dense-3_t-drive_64_100_adam_mae_default'"
            ]
          },
          "metadata": {
            "tags": []
          },
          "execution_count": 3
        }
      ]
    },
    {
      "metadata": {
        "id": "lHDRiK7LYw2s",
        "colab_type": "text"
      },
      "cell_type": "markdown",
      "source": [
        "## Read the dataset from `.pkl` file\n"
      ]
    },
    {
      "metadata": {
        "id": "rxQz-vmJYEGC",
        "colab_type": "code",
        "outputId": "b1616575-5a4e-4a4c-81e4-9dfb92be444e",
        "colab": {
          "base_uri": "https://localhost:8080/",
          "height": 235
        }
      },
      "cell_type": "code",
      "source": [
        "df = pd.read_pickle('datasets/{name}.pkl'.format(name=DATASET_NAME))\n",
        "df.head()"
      ],
      "execution_count": 4,
      "outputs": [
        {
          "output_type": "execute_result",
          "data": {
            "text/html": [
              "<div>\n",
              "<style scoped>\n",
              "    .dataframe tbody tr th:only-of-type {\n",
              "        vertical-align: middle;\n",
              "    }\n",
              "\n",
              "    .dataframe tbody tr th {\n",
              "        vertical-align: top;\n",
              "    }\n",
              "\n",
              "    .dataframe thead th {\n",
              "        text-align: right;\n",
              "    }\n",
              "</style>\n",
              "<table border=\"1\" class=\"dataframe\">\n",
              "  <thead>\n",
              "    <tr style=\"text-align: right;\">\n",
              "      <th></th>\n",
              "      <th></th>\n",
              "      <th>longitude</th>\n",
              "      <th>latitude</th>\n",
              "    </tr>\n",
              "    <tr>\n",
              "      <th>user</th>\n",
              "      <th>time</th>\n",
              "      <th></th>\n",
              "      <th></th>\n",
              "    </tr>\n",
              "  </thead>\n",
              "  <tbody>\n",
              "    <tr>\n",
              "      <th rowspan=\"5\" valign=\"top\">3644</th>\n",
              "      <th>2008-02-02 13:40:59</th>\n",
              "      <td>116.37497</td>\n",
              "      <td>39.85789</td>\n",
              "    </tr>\n",
              "    <tr>\n",
              "      <th>2008-02-02 13:42:11</th>\n",
              "      <td>116.37542</td>\n",
              "      <td>39.85764</td>\n",
              "    </tr>\n",
              "    <tr>\n",
              "      <th>2008-02-02 13:42:49</th>\n",
              "      <td>116.37727</td>\n",
              "      <td>39.85775</td>\n",
              "    </tr>\n",
              "    <tr>\n",
              "      <th>2008-02-02 13:42:59</th>\n",
              "      <td>116.37746</td>\n",
              "      <td>39.85787</td>\n",
              "    </tr>\n",
              "    <tr>\n",
              "      <th>2008-02-02 13:44:00</th>\n",
              "      <td>116.37749</td>\n",
              "      <td>39.85817</td>\n",
              "    </tr>\n",
              "  </tbody>\n",
              "</table>\n",
              "</div>"
            ],
            "text/plain": [
              "                          longitude  latitude\n",
              "user time                                    \n",
              "3644 2008-02-02 13:40:59  116.37497  39.85789\n",
              "     2008-02-02 13:42:11  116.37542  39.85764\n",
              "     2008-02-02 13:42:49  116.37727  39.85775\n",
              "     2008-02-02 13:42:59  116.37746  39.85787\n",
              "     2008-02-02 13:44:00  116.37749  39.85817"
            ]
          },
          "metadata": {
            "tags": []
          },
          "execution_count": 4
        }
      ]
    },
    {
      "metadata": {
        "id": "SRCEhqT6ZLYO",
        "colab_type": "text"
      },
      "cell_type": "markdown",
      "source": [
        "## Convert the dataset to a mapping of users to the strings of their movements"
      ]
    },
    {
      "metadata": {
        "id": "7NmsLO-RC0Lb",
        "colab_type": "code",
        "outputId": "1308aea4-c422-4bce-8d7b-2157535e8c66",
        "colab": {
          "base_uri": "https://localhost:8080/",
          "height": 136
        }
      },
      "cell_type": "code",
      "source": [
        "df = utils.records_to_user_geolcation(df)\n",
        "df.head()"
      ],
      "execution_count": 5,
      "outputs": [
        {
          "output_type": "execute_result",
          "data": {
            "text/plain": [
              "user\n",
              "1    [[7524.000000000001, 116.51172, 39.92123], [81...\n",
              "2    [[188.0, 116.36421999999999, 39.88780999999999...\n",
              "3    [[504.00000000000006, 116.35743000000001, 39.8...\n",
              "4    [[6260.0, 116.47001999999999, 39.9066599999999...\n",
              "5    [[740.0, 116.62933999999998, 39.82725999999999...\n",
              "dtype: object"
            ]
          },
          "metadata": {
            "tags": []
          },
          "execution_count": 5
        }
      ]
    },
    {
      "metadata": {
        "id": "G7jbyag-Ztfr",
        "colab_type": "text"
      },
      "cell_type": "markdown",
      "source": [
        "## Concatenate all user strings of data to one complete string of all"
      ]
    },
    {
      "metadata": {
        "id": "rLm4S-MyDKdm",
        "colab_type": "code",
        "outputId": "7a23d6ae-cf89-44a8-82ce-687239e72f1f",
        "colab": {
          "base_uri": "https://localhost:8080/",
          "height": 170
        }
      },
      "cell_type": "code",
      "source": [
        "data = utils.user_geolocation_to_single_sequence(df)\n",
        "\n",
        "print(data.shape)\n",
        "print()\n",
        "print(data)"
      ],
      "execution_count": 6,
      "outputs": [
        {
          "output_type": "stream",
          "text": [
            "(17662984, 3)\n",
            "\n",
            "[[7.5240000e+03 1.1651172e+02 3.9921230e+01]\n",
            " [8.1240000e+03 1.1651135e+02 3.9938830e+01]\n",
            " [8.1240000e+03 1.1651135e+02 3.9938830e+01]\n",
            " ...\n",
            " [5.3256700e+05 1.1672877e+02 4.0011430e+01]\n",
            " [5.3256700e+05 1.1672877e+02 4.0011430e+01]\n",
            " [5.3256700e+05 1.1672877e+02 4.0011430e+01]]\n"
          ],
          "name": "stdout"
        }
      ]
    },
    {
      "metadata": {
        "id": "tgh9Jnhbvo7a",
        "colab_type": "text"
      },
      "cell_type": "markdown",
      "source": [
        "## Convert the data to 32-bit floats\n",
        "This is to correct an error I got earlier. Apparently the GRU layers can't handle 64-bit integers (doubles) as input."
      ]
    },
    {
      "metadata": {
        "id": "WY07YNcWv2RS",
        "colab_type": "code",
        "outputId": "fdd70215-2698-4096-cacb-bcd5e64ce342",
        "colab": {
          "base_uri": "https://localhost:8080/",
          "height": 34
        }
      },
      "cell_type": "code",
      "source": [
        "print('Before: ', data.dtype)"
      ],
      "execution_count": 7,
      "outputs": [
        {
          "output_type": "stream",
          "text": [
            "Before:  float64\n"
          ],
          "name": "stdout"
        }
      ]
    },
    {
      "metadata": {
        "id": "l9yt0kQWwH-h",
        "colab_type": "code",
        "colab": {}
      },
      "cell_type": "code",
      "source": [
        "data = data.astype(np.float32)"
      ],
      "execution_count": 0,
      "outputs": []
    },
    {
      "metadata": {
        "id": "3_DHJn_9waE1",
        "colab_type": "code",
        "outputId": "754e31b1-80c8-40ae-d34f-d20fb9ba53b1",
        "colab": {
          "base_uri": "https://localhost:8080/",
          "height": 34
        }
      },
      "cell_type": "code",
      "source": [
        "print('After: ', data.dtype)"
      ],
      "execution_count": 9,
      "outputs": [
        {
          "output_type": "stream",
          "text": [
            "After:  float32\n"
          ],
          "name": "stdout"
        }
      ]
    },
    {
      "metadata": {
        "id": "o_C9xIyVLmsZ",
        "colab_type": "text"
      },
      "cell_type": "markdown",
      "source": [
        "## Reshape and -order the data for input into the model (including X and y split)\n"
      ]
    },
    {
      "metadata": {
        "id": "S1cCkuVe9kfY",
        "colab_type": "code",
        "outputId": "c4f56895-4a75-450b-93ea-870f2928b3dd",
        "colab": {
          "base_uri": "https://localhost:8080/",
          "height": 34
        }
      },
      "cell_type": "code",
      "source": [
        "data.shape"
      ],
      "execution_count": 10,
      "outputs": [
        {
          "output_type": "execute_result",
          "data": {
            "text/plain": [
              "(17662984, 3)"
            ]
          },
          "metadata": {
            "tags": []
          },
          "execution_count": 10
        }
      ]
    },
    {
      "metadata": {
        "id": "80Fa7dg5D9cG",
        "colab_type": "code",
        "outputId": "ac392849-8b35-46dc-ce5c-24acdced4441",
        "colab": {
          "base_uri": "https://localhost:8080/",
          "height": 51
        }
      },
      "cell_type": "code",
      "source": [
        "BATCH_SIZE = 64\n",
        "SEQ_LENGTH = 100\n",
        "\n",
        "n_batches, X, y = utils.reshape_single_sequence_to_rnn_Xy(data, BATCH_SIZE, SEQ_LENGTH)\n",
        "\n",
        "print('X:', X.shape)\n",
        "print('y:', y.shape)"
      ],
      "execution_count": 11,
      "outputs": [
        {
          "output_type": "stream",
          "text": [
            "X: (176576, 100, 3)\n",
            "y: (176576, 100, 3)\n"
          ],
          "name": "stdout"
        }
      ]
    },
    {
      "metadata": {
        "id": "Z8TZ9eBOAgHG",
        "colab_type": "text"
      },
      "cell_type": "markdown",
      "source": [
        "## Split into training and validations sets"
      ]
    },
    {
      "metadata": {
        "id": "1KRfAnl2AftS",
        "colab_type": "code",
        "outputId": "83cbe8d3-a8c1-42af-8c5d-76bb8188e254",
        "colab": {
          "base_uri": "https://localhost:8080/",
          "height": 51
        }
      },
      "cell_type": "code",
      "source": [
        "n_train = int(n_batches * 0.8) * BATCH_SIZE\n",
        "X_train = X[:n_train]\n",
        "y_train = y[:n_train]\n",
        "X_val = X[n_train:]\n",
        "y_val = y[n_train:]\n",
        "\n",
        "print('Train:', X_train.shape, y_train.shape)\n",
        "print('Validation:', X_val.shape, y_val.shape)"
      ],
      "execution_count": 12,
      "outputs": [
        {
          "output_type": "stream",
          "text": [
            "Train: (141248, 100, 3) (141248, 100, 3)\n",
            "Validation: (35328, 100, 3) (35328, 100, 3)\n"
          ],
          "name": "stdout"
        }
      ]
    },
    {
      "metadata": {
        "id": "noA-JMxmZ9k0",
        "colab_type": "text"
      },
      "cell_type": "markdown",
      "source": [
        "## Standardisation\n",
        "All three features in the data are scaled to have a `mean = 0` and a `standard deviation = 1`.\n",
        "\n",
        "The Scaler is also saved to disk, so it can later be resued in a different Notebook.\n",
        "\n",
        "The Scaler is fitted only to the training data, not the validation / test data."
      ]
    },
    {
      "metadata": {
        "id": "4eXEW0wkH2_W",
        "colab_type": "code",
        "outputId": "b2371351-f59a-4d16-8801-ac4225b71eb3",
        "colab": {
          "base_uri": "https://localhost:8080/",
          "height": 51
        }
      },
      "cell_type": "code",
      "source": [
        "from sklearn import preprocessing\n",
        "\n",
        "scaler = preprocessing.StandardScaler()\n",
        "scaler.fit(np.array([X_train[:, :, 0].reshape(-1), X_train[:, :, 1].reshape(-1), X_train[:, :, 2].reshape(-1)]).transpose())\n",
        "\n",
        "print('Means: %f %f %f' % (scaler.mean_[0], scaler.mean_[1], scaler.mean_[2]))\n",
        "print('Standard deviations: %f %f %f' % (scaler.var_[0], scaler.var_[1], scaler.var_[2]))"
      ],
      "execution_count": 13,
      "outputs": [
        {
          "output_type": "stream",
          "text": [
            "Means: 253879.118296 116.242066 39.872533\n",
            "Standard deviations: 23655030784.000000 22.446608 2.768856\n"
          ],
          "name": "stdout"
        }
      ]
    },
    {
      "metadata": {
        "id": "KW0jCkI2f1WZ",
        "colab_type": "code",
        "outputId": "2dc5cdac-0f7d-41d3-dfe9-1c05447fbf82",
        "colab": {
          "base_uri": "https://localhost:8080/",
          "height": 34
        }
      },
      "cell_type": "code",
      "source": [
        "with open('scalers/citybased_rnn/' + setup_string + '.pkl', 'wb') as file:\n",
        "    pickle.dump(scaler, file)\n",
        "    print('Scaler saved')"
      ],
      "execution_count": 14,
      "outputs": [
        {
          "output_type": "stream",
          "text": [
            "Scaler saved\n"
          ],
          "name": "stdout"
        }
      ]
    },
    {
      "metadata": {
        "id": "ihZOxir8FmUE",
        "colab_type": "code",
        "colab": {}
      },
      "cell_type": "code",
      "source": [
        "for i in range(len(X_train)):\n",
        "    X_train[i] = scaler.transform(X_train[i])\n",
        "    y_train[i] = scaler.transform(y_train[i])\n",
        "\n",
        "for i in range(len(X_val)):\n",
        "    X_val[i] = scaler.transform(X_val[i])\n",
        "    y_val[i] = scaler.transform(y_val[i])"
      ],
      "execution_count": 0,
      "outputs": []
    },
    {
      "metadata": {
        "id": "-I6prUGqKnHz",
        "colab_type": "code",
        "outputId": "8320dbc8-20db-4821-b103-8951a982939c",
        "colab": {
          "base_uri": "https://localhost:8080/",
          "height": 255
        }
      },
      "cell_type": "code",
      "source": [
        "print(X_train.shape)\n",
        "print()\n",
        "print(X_train[:1, :6])\n",
        "print(X_val[:1, :6])"
      ],
      "execution_count": 16,
      "outputs": [
        {
          "output_type": "stream",
          "text": [
            "(141248, 100, 3)\n",
            "\n",
            "[[[-1.6017689   0.05691533  0.02926552]\n",
            "  [-1.5978677   0.05683804  0.03984312]\n",
            "  [-1.5978677   0.05683804  0.03984312]\n",
            "  [-1.5939666   0.0578767   0.02272042]\n",
            "  [-1.5900655   0.04850297  0.02400651]\n",
            "  [-1.5861644   0.04856738  0.03151904]]]\n",
            "[[[-9.86776531e-01  1.34412665e-02 -1.28956584e-04]\n",
            "  [-9.86457944e-01  1.33768534e-02  1.71192305e-03]\n",
            "  [-9.84812975e-01  1.40982810e-02  1.38255078e-02]\n",
            "  [-9.84494388e-01  1.43559342e-02  1.38507253e-02]\n",
            "  [-9.82849419e-01  1.50226103e-02  1.38392625e-02]\n",
            "  [-9.82530832e-01  1.51288919e-02  1.37360999e-02]]]\n"
          ],
          "name": "stdout"
        }
      ]
    },
    {
      "metadata": {
        "id": "vFm92XsBiiGO",
        "colab_type": "text"
      },
      "cell_type": "markdown",
      "source": [
        "## Build the model"
      ]
    },
    {
      "metadata": {
        "id": "KsxAe-NaBEid",
        "colab_type": "code",
        "colab": {}
      },
      "cell_type": "code",
      "source": [
        "def build_model(batch_size):\n",
        "    model = tf.keras.Sequential([\n",
        "        tf.keras.layers.GRU(1024, return_sequences=True, stateful=True, input_shape=(None, 3), batch_size=batch_size),\n",
        "        tf.keras.layers.TimeDistributed(tf.keras.layers.Dense(3))\n",
        "    ])\n",
        "    return model"
      ],
      "execution_count": 0,
      "outputs": []
    },
    {
      "metadata": {
        "id": "GE11g2X-efxh",
        "colab_type": "code",
        "outputId": "8ceeeb47-ef3d-4093-9a24-26a91923452f",
        "colab": {
          "base_uri": "https://localhost:8080/",
          "height": 204
        }
      },
      "cell_type": "code",
      "source": [
        "model = build_model(batch_size=BATCH_SIZE)\n",
        "model.summary()"
      ],
      "execution_count": 18,
      "outputs": [
        {
          "output_type": "stream",
          "text": [
            "_________________________________________________________________\n",
            "Layer (type)                 Output Shape              Param #   \n",
            "=================================================================\n",
            "gru (GRU)                    (64, None, 1024)          3158016   \n",
            "_________________________________________________________________\n",
            "time_distributed (TimeDistri (64, None, 3)             3075      \n",
            "=================================================================\n",
            "Total params: 3,161,091\n",
            "Trainable params: 3,161,091\n",
            "Non-trainable params: 0\n",
            "_________________________________________________________________\n"
          ],
          "name": "stdout"
        }
      ]
    },
    {
      "metadata": {
        "id": "jN6yAvqtWbgO",
        "colab_type": "code",
        "outputId": "71ebb645-7e55-4614-ebaf-c140dc284fda",
        "colab": {
          "base_uri": "https://localhost:8080/",
          "height": 318
        }
      },
      "cell_type": "code",
      "source": [
        "tf.keras.utils.plot_model(model, to_file='test_keras_plot_model.png', show_shapes=True)\n",
        "IPython.display.Image('test_keras_plot_model.png')"
      ],
      "execution_count": 19,
      "outputs": [
        {
          "output_type": "execute_result",
          "data": {
            "image/png": "[encoded data removed]",
            "text/plain": [
              "<IPython.core.display.Image object>"
            ]
          },
          "metadata": {
            "tags": []
          },
          "execution_count": 19
        }
      ]
    },
    {
      "metadata": {
        "id": "JP5X850FjANF",
        "colab_type": "text"
      },
      "cell_type": "markdown",
      "source": [
        "## Test the model's output (before training)"
      ]
    },
    {
      "metadata": {
        "id": "WdqsUva28s6k",
        "colab_type": "code",
        "outputId": "a4100260-23a6-4238-b820-e12dce98a942",
        "colab": {
          "base_uri": "https://localhost:8080/",
          "height": 34
        }
      },
      "cell_type": "code",
      "source": [
        "model.input"
      ],
      "execution_count": 20,
      "outputs": [
        {
          "output_type": "execute_result",
          "data": {
            "text/plain": [
              "<tf.Tensor 'gru_input:0' shape=(64, ?, 3) dtype=float32>"
            ]
          },
          "metadata": {
            "tags": []
          },
          "execution_count": 20
        }
      ]
    },
    {
      "metadata": {
        "id": "3eL5DdkcahEl",
        "colab_type": "code",
        "outputId": "7662f948-c27b-47b9-c4be-3ad7fd019673",
        "colab": {
          "base_uri": "https://localhost:8080/",
          "height": 51
        }
      },
      "cell_type": "code",
      "source": [
        "# Test the shape of the output\n",
        "test_batch = X[:BATCH_SIZE]\n",
        "print('Input batch:', test_batch.shape)\n",
        "test_predictions = model.predict(test_batch, batch_size=BATCH_SIZE)\n",
        "\n",
        "print('Output batch:', test_predictions.shape)\n",
        "\n",
        "model.reset_states()"
      ],
      "execution_count": 21,
      "outputs": [
        {
          "output_type": "stream",
          "text": [
            "Input batch: (64, 100, 3)\n",
            "Output batch: (64, 100, 3)\n"
          ],
          "name": "stdout"
        }
      ]
    },
    {
      "metadata": {
        "id": "smiVENujDAuL",
        "colab_type": "code",
        "colab": {}
      },
      "cell_type": "code",
      "source": [
        "test_batch = scaler.inverse_transform(test_batch)\n",
        "test_predictions = scaler.inverse_transform(test_predictions)"
      ],
      "execution_count": 0,
      "outputs": []
    },
    {
      "metadata": {
        "id": "PrqkzY-0CZ0b",
        "colab_type": "code",
        "outputId": "6c71955d-b40b-4a25-deef-7b40a5acaa74",
        "colab": {
          "base_uri": "https://localhost:8080/",
          "height": 122
        }
      },
      "cell_type": "code",
      "source": [
        "print('Input: \\n', test_batch[0, 0], test_batch[0, 1], test_batch[0, 2], '...')\n",
        "print()\n",
        "print('Next Predictions: \\n', test_predictions[0, 0], test_predictions[0, 1], test_predictions[0, 2], '...')"
      ],
      "execution_count": 23,
      "outputs": [
        {
          "output_type": "stream",
          "text": [
            "Input: \n",
            " [7523.993    116.51172   39.92123] [8123.993    116.51135   39.93883] [8123.993    116.51135   39.93883] ...\n",
            "\n",
            "Next Predictions: \n",
            " [2.5430423e+05 1.1616428e+02 3.9862446e+01] [2.55293359e+05 1.16115746e+02 3.98573952e+01] [2.5624388e+05 1.1609157e+02 3.9852470e+01] ...\n"
          ],
          "name": "stdout"
        }
      ]
    },
    {
      "metadata": {
        "id": "dkkKIrBR2qdl",
        "colab_type": "text"
      },
      "cell_type": "markdown",
      "source": [
        "## Training"
      ]
    },
    {
      "metadata": {
        "id": "H8Ai1h_t2p8h",
        "colab_type": "code",
        "colab": {}
      },
      "cell_type": "code",
      "source": [
        "model.compile(optimizer='adam', loss='mean_absolute_error')"
      ],
      "execution_count": 0,
      "outputs": []
    },
    {
      "metadata": {
        "id": "svDi3JIb2y4-",
        "colab_type": "code",
        "colab": {}
      },
      "cell_type": "code",
      "source": [
        "# Folder for the architecture\n",
        "# Name: List of the layers connected to the parameters by '-',\n",
        "#       dataset that the network was trained on,\n",
        "#       batch size,\n",
        "#       sequence length,\n",
        "#       optimiser,\n",
        "#       loss function,\n",
        "#       learning rate,\n",
        "#       epoch the checkpoint is from\n",
        "checkpoint_path = 'checkpoints/citybased_rnn/' + setup_string + '_{epoch:02d}.h5'\n",
        "\n",
        "checkpoint_callback = tf.keras.callbacks.ModelCheckpoint(filepath=checkpoint_path)"
      ],
      "execution_count": 0,
      "outputs": []
    },
    {
      "metadata": {
        "id": "uAlrq5LY3niS",
        "colab_type": "code",
        "outputId": "3c82ec23-79de-4d31-d558-dd9052684678",
        "colab": {
          "base_uri": "https://localhost:8080/",
          "height": 1000
        }
      },
      "cell_type": "code",
      "source": [
        "hist = model.fit(X_train, y_train, epochs=30, batch_size=BATCH_SIZE, shuffle=False, validation_data=(X_val, y_val), callbacks=[checkpoint_callback])"
      ],
      "execution_count": 26,
      "outputs": [
        {
          "output_type": "stream",
          "text": [
            "Train on 141248 samples, validate on 35328 samples\n",
            "Epoch 1/30\n",
            "141248/141248 [==============================] - 858s 6ms/step - loss: 0.0152 - val_loss: 0.0153\n",
            "Epoch 2/30\n",
            "141248/141248 [==============================] - 858s 6ms/step - loss: 0.0107 - val_loss: 0.0144\n",
            "Epoch 3/30\n",
            "141248/141248 [==============================] - 858s 6ms/step - loss: 0.0099 - val_loss: 0.0141\n",
            "Epoch 4/30\n",
            "141248/141248 [==============================] - 858s 6ms/step - loss: 0.0099 - val_loss: 0.0130\n",
            "Epoch 5/30\n",
            "141248/141248 [==============================] - 862s 6ms/step - loss: 0.0095 - val_loss: 0.0135\n",
            "Epoch 6/30\n",
            "141248/141248 [==============================] - 861s 6ms/step - loss: 0.0096 - val_loss: 0.0132\n",
            "Epoch 7/30\n",
            "141248/141248 [==============================] - 859s 6ms/step - loss: 0.0094 - val_loss: 0.0135\n",
            "Epoch 8/30\n",
            "141248/141248 [==============================] - 860s 6ms/step - loss: 0.0094 - val_loss: 0.0125\n",
            "Epoch 9/30\n",
            "141248/141248 [==============================] - 860s 6ms/step - loss: 0.0635 - val_loss: 0.0857\n",
            "Epoch 10/30\n",
            "141248/141248 [==============================] - 861s 6ms/step - loss: 0.0337 - val_loss: 0.0838\n",
            "Epoch 11/30\n",
            "141248/141248 [==============================] - 860s 6ms/step - loss: 0.0301 - val_loss: 0.0798\n",
            "Epoch 12/30\n",
            "141248/141248 [==============================] - 860s 6ms/step - loss: 0.0307 - val_loss: 0.0787\n",
            "Epoch 13/30\n",
            "141248/141248 [==============================] - 860s 6ms/step - loss: 0.0330 - val_loss: 0.1130\n",
            "Epoch 14/30\n",
            "141248/141248 [==============================] - 861s 6ms/step - loss: 0.0372 - val_loss: 0.0787\n",
            "Epoch 15/30\n",
            "141248/141248 [==============================] - 860s 6ms/step - loss: 0.0369 - val_loss: 0.0673\n",
            "Epoch 16/30\n",
            "141248/141248 [==============================] - 859s 6ms/step - loss: 0.0391 - val_loss: 0.0503\n",
            "Epoch 17/30\n",
            "141248/141248 [==============================] - 863s 6ms/step - loss: 0.0394 - val_loss: 0.0596\n",
            "Epoch 18/30\n",
            "141248/141248 [==============================] - 861s 6ms/step - loss: 0.0384 - val_loss: 0.0484\n",
            "Epoch 19/30\n",
            "141248/141248 [==============================] - 860s 6ms/step - loss: 0.0394 - val_loss: 0.0649\n",
            "Epoch 20/30\n",
            "141248/141248 [==============================] - 860s 6ms/step - loss: 0.0411 - val_loss: 0.0423\n",
            "Epoch 21/30\n",
            "141248/141248 [==============================] - 860s 6ms/step - loss: 0.0389 - val_loss: 0.0445\n",
            "Epoch 22/30\n",
            "141248/141248 [==============================] - 860s 6ms/step - loss: 0.0388 - val_loss: 0.0427\n",
            "Epoch 23/30\n",
            "141248/141248 [==============================] - 860s 6ms/step - loss: 0.0426 - val_loss: 0.0688\n",
            "Epoch 24/30\n",
            "141248/141248 [==============================] - 871s 6ms/step - loss: 0.0430 - val_loss: 0.0410\n",
            "Epoch 25/30\n",
            "141248/141248 [==============================] - 869s 6ms/step - loss: 0.0409 - val_loss: 0.0424\n",
            "Epoch 26/30\n",
            "141248/141248 [==============================] - 860s 6ms/step - loss: 0.0394 - val_loss: 0.0456\n",
            "Epoch 27/30\n",
            "141248/141248 [==============================] - 861s 6ms/step - loss: 0.0402 - val_loss: 0.0393\n",
            "Epoch 28/30\n",
            " 94656/141248 [===================>..........] - ETA: 4:24 - loss: 0.0407Buffered data was truncated after reaching the output size limit."
          ],
          "name": "stdout"
        }
      ]
    },
    {
      "metadata": {
        "id": "IOokszv-K0KR",
        "colab_type": "text"
      },
      "cell_type": "markdown",
      "source": [
        "## Save and plot the history\n",
        "The history holds information on loss and validiation loss during training."
      ]
    },
    {
      "metadata": {
        "id": "dCYcOLaQ1nKn",
        "colab_type": "code",
        "outputId": "70a37a26-00d7-4391-c13e-874612da1cc9",
        "colab": {
          "base_uri": "https://localhost:8080/",
          "height": 34
        }
      },
      "cell_type": "code",
      "source": [
        "with open('histories/citybased_rnn/' + setup_string + '_30.pkl', 'wb') as file:\n",
        "    pickle.dump(hist.history, file)\n",
        "    print('History saved')"
      ],
      "execution_count": 27,
      "outputs": [
        {
          "output_type": "stream",
          "text": [
            "History saved\n"
          ],
          "name": "stdout"
        }
      ]
    },
    {
      "metadata": {
        "id": "KXenSIlp2jAz",
        "colab_type": "code",
        "outputId": "fcaf93b5-ae70-4649-a293-07a0f9268ae5",
        "colab": {
          "base_uri": "https://localhost:8080/",
          "height": 347
        }
      },
      "cell_type": "code",
      "source": [
        "plt.plot(hist.history['loss'], label='Loss')\n",
        "plt.plot(hist.history['val_loss'], label='Validation Loss')\n",
        "plt.legend()\n",
        "plt.show()"
      ],
      "execution_count": 28,
      "outputs": [
        {
          "output_type": "display_data",
          "data": {
            "image/png": "[encoded data removed]",
            "text/plain": [
              "<Figure size 576x396 with 1 Axes>"
            ]
          },
          "metadata": {
            "tags": []
          }
        }
      ]
    },
    {
      "metadata": {
        "id": "J1l4J261LCCg",
        "colab_type": "text"
      },
      "cell_type": "markdown",
      "source": [
        "## Load and prepare the trained model for generating data"
      ]
    },
    {
      "metadata": {
        "id": "vHiQ4vD0LGKc",
        "colab_type": "code",
        "colab": {}
      },
      "cell_type": "code",
      "source": [
        "loaded_model = tf.keras.models.load_model('checkpoints/citybased_rnn/GRU-1024_TD-Dense-3_cabspotting_64_100_adam_mae_default_05.h5')"
      ],
      "execution_count": 0,
      "outputs": []
    },
    {
      "metadata": {
        "id": "ndpZGT44LgPd",
        "colab_type": "code",
        "colab": {}
      },
      "cell_type": "code",
      "source": [
        "model = build_model(batch_size=1)\n",
        "\n",
        "weights = loaded_model.get_weights()\n",
        "model.set_weights(weights)"
      ],
      "execution_count": 0,
      "outputs": []
    },
    {
      "metadata": {
        "id": "6mUJUd4jLm_A",
        "colab_type": "code",
        "outputId": "f68f4572-b7a9-4e71-bc44-f89dcd8e8861",
        "colab": {
          "base_uri": "https://localhost:8080/",
          "height": 204
        }
      },
      "cell_type": "code",
      "source": [
        "model.summary()"
      ],
      "execution_count": 0,
      "outputs": [
        {
          "output_type": "stream",
          "text": [
            "_________________________________________________________________\n",
            "Layer (type)                 Output Shape              Param #   \n",
            "=================================================================\n",
            "gru_1 (GRU)                  (1, None, 1024)           3158016   \n",
            "_________________________________________________________________\n",
            "time_distributed_1 (TimeDist (1, None, 3)              3075      \n",
            "=================================================================\n",
            "Total params: 3,161,091\n",
            "Trainable params: 3,161,091\n",
            "Non-trainable params: 0\n",
            "_________________________________________________________________\n"
          ],
          "name": "stdout"
        }
      ]
    },
    {
      "metadata": {
        "id": "8CFJhAhyRSoR",
        "colab_type": "text"
      },
      "cell_type": "markdown",
      "source": [
        "## Generate geolocation data of one entity using the trained model\n",
        "In the end the generated data is saved to disk in order to be reused from a different notebook."
      ]
    },
    {
      "metadata": {
        "id": "aFWC2EknLpR_",
        "colab_type": "code",
        "colab": {}
      },
      "cell_type": "code",
      "source": [
        "N_GENERATE = 1000\n",
        "\n",
        "start = [324.0, -122.390085, 37.789910]    # Google Offices in San Francisco: 37.789910, -122.390085\n",
        "generated = np.array([start]).astype(np.float32)\n",
        "\n",
        "model.reset_states()\n",
        "\n",
        "for i in range(1, N_GENERATE):\n",
        "    input = generated[-1:]\n",
        "    input = scaler.transform(input)\n",
        "    input = np.array([input])\n",
        "    \n",
        "    prediction = model.predict(input, batch_size=1)\n",
        "    \n",
        "    prediction = np.squeeze(prediction, axis=0)\n",
        "    prediction = scaler.inverse_transform(prediction)\n",
        "    \n",
        "    generated = np.concatenate([generated, prediction])"
      ],
      "execution_count": 0,
      "outputs": []
    },
    {
      "metadata": {
        "id": "-lg06MD4Qg82",
        "colab_type": "code",
        "outputId": "22a83e06-4732-4cc4-d654-c31a1cd2db7e",
        "colab": {
          "base_uri": "https://localhost:8080/",
          "height": 34
        }
      },
      "cell_type": "code",
      "source": [
        "generated.shape"
      ],
      "execution_count": 0,
      "outputs": [
        {
          "output_type": "execute_result",
          "data": {
            "text/plain": [
              "(1000, 3)"
            ]
          },
          "metadata": {
            "tags": []
          },
          "execution_count": 34
        }
      ]
    },
    {
      "metadata": {
        "id": "-ElKGEsXQjAu",
        "colab_type": "code",
        "outputId": "d71f6a73-3167-47e9-aeb1-c98c6f27596e",
        "colab": {
          "base_uri": "https://localhost:8080/",
          "height": 136
        }
      },
      "cell_type": "code",
      "source": [
        "generated"
      ],
      "execution_count": 0,
      "outputs": [
        {
          "output_type": "execute_result",
          "data": {
            "text/plain": [
              "array([[ 3.24000000e+02, -1.22390083e+02,  3.77899094e+01],\n",
              "       [-3.02492656e+04, -1.22387428e+02,  3.77959785e+01],\n",
              "       [-5.41318281e+04, -1.22385445e+02,  3.78016281e+01],\n",
              "       ...,\n",
              "       [-1.29628850e+06, -1.22439728e+02,  3.76924286e+01],\n",
              "       [-1.29628400e+06, -1.22439728e+02,  3.76924057e+01],\n",
              "       [-1.29627975e+06, -1.22439728e+02,  3.76923828e+01]], dtype=float32)"
            ]
          },
          "metadata": {
            "tags": []
          },
          "execution_count": 35
        }
      ]
    },
    {
      "metadata": {
        "id": "747Ob_KSReL5",
        "colab_type": "code",
        "outputId": "fc87f8a1-f6c1-4b40-e0e8-4b237ff40576",
        "colab": {
          "base_uri": "https://localhost:8080/",
          "height": 34
        }
      },
      "cell_type": "code",
      "source": [
        "with open('generated/citybased_rnn/test_00.pkl', 'wb') as file:\n",
        "    pickle.dump(generated, file)\n",
        "    print('Generated data saved')"
      ],
      "execution_count": 0,
      "outputs": [
        {
          "output_type": "stream",
          "text": [
            "Generated data saved\n"
          ],
          "name": "stdout"
        }
      ]
    }
  ]
}