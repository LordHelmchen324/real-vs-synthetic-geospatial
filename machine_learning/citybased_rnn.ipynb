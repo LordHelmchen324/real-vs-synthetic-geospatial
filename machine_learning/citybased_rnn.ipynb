{
  "nbformat": 4,
  "nbformat_minor": 0,
  "metadata": {
    "colab": {
      "name": "citybased_rnn.ipynb",
      "version": "0.3.2",
      "provenance": [],
      "collapsed_sections": []
    },
    "kernelspec": {
      "name": "python3",
      "display_name": "Python 3"
    },
    "accelerator": "GPU"
  },
  "cells": [
    {
      "metadata": {
        "id": "BFLtqc6hXszW",
        "colab_type": "code",
        "outputId": "aa58496e-37c2-4a99-aa46-86e4fda7d4cf",
        "colab": {
          "base_uri": "https://localhost:8080/",
          "height": 34
        }
      },
      "cell_type": "code",
      "source": [
        "# Setup of libraries, mounting the Google Drive etc.\n",
        "\n",
        "import os\n",
        "import sys\n",
        "from google.colab import drive\n",
        "drive.mount('/content/gdrive')\n",
        "os.chdir('gdrive/My Drive/Colab Notebooks')\n",
        "\n",
        "import matplotlib.pyplot as plt\n",
        "import numpy as np\n",
        "import pandas as pd\n",
        "\n",
        "import tensorflow as tf\n",
        "tf.enable_eager_execution()"
      ],
      "execution_count": 1,
      "outputs": [
        {
          "output_type": "stream",
          "text": [
            "Drive already mounted at /content/gdrive; to attempt to forcibly remount, call drive.mount(\"/content/gdrive\", force_remount=True).\n"
          ],
          "name": "stdout"
        }
      ]
    },
    {
      "metadata": {
        "id": "lHDRiK7LYw2s",
        "colab_type": "text"
      },
      "cell_type": "markdown",
      "source": [
        "## Read the dataset from `.pkl` file\n"
      ]
    },
    {
      "metadata": {
        "id": "rxQz-vmJYEGC",
        "colab_type": "code",
        "outputId": "36fe4ba5-6d83-4406-cbae-bdf0a64296b6",
        "colab": {
          "base_uri": "https://localhost:8080/",
          "height": 235
        }
      },
      "cell_type": "code",
      "source": [
        "df = pd.read_pickle('cabspotting.pkl')\n",
        "df.head()"
      ],
      "execution_count": 2,
      "outputs": [
        {
          "output_type": "execute_result",
          "data": {
            "text/html": [
              "<div>\n",
              "<style scoped>\n",
              "    .dataframe tbody tr th:only-of-type {\n",
              "        vertical-align: middle;\n",
              "    }\n",
              "\n",
              "    .dataframe tbody tr th {\n",
              "        vertical-align: top;\n",
              "    }\n",
              "\n",
              "    .dataframe thead th {\n",
              "        text-align: right;\n",
              "    }\n",
              "</style>\n",
              "<table border=\"1\" class=\"dataframe\">\n",
              "  <thead>\n",
              "    <tr style=\"text-align: right;\">\n",
              "      <th></th>\n",
              "      <th></th>\n",
              "      <th>latitude</th>\n",
              "      <th>longitude</th>\n",
              "      <th>occupied</th>\n",
              "    </tr>\n",
              "    <tr>\n",
              "      <th>user</th>\n",
              "      <th>time</th>\n",
              "      <th></th>\n",
              "      <th></th>\n",
              "      <th></th>\n",
              "    </tr>\n",
              "  </thead>\n",
              "  <tbody>\n",
              "    <tr>\n",
              "      <th rowspan=\"5\" valign=\"top\">abboip</th>\n",
              "      <th>2008-05-17 14:12:10</th>\n",
              "      <td>37.75153</td>\n",
              "      <td>-122.39447</td>\n",
              "      <td>0</td>\n",
              "    </tr>\n",
              "    <tr>\n",
              "      <th>2008-05-17 14:13:34</th>\n",
              "      <td>37.75149</td>\n",
              "      <td>-122.39447</td>\n",
              "      <td>0</td>\n",
              "    </tr>\n",
              "    <tr>\n",
              "      <th>2008-05-17 14:14:34</th>\n",
              "      <td>37.75149</td>\n",
              "      <td>-122.39447</td>\n",
              "      <td>0</td>\n",
              "    </tr>\n",
              "    <tr>\n",
              "      <th>2008-05-17 14:15:35</th>\n",
              "      <td>37.75149</td>\n",
              "      <td>-122.39446</td>\n",
              "      <td>0</td>\n",
              "    </tr>\n",
              "    <tr>\n",
              "      <th>2008-05-17 14:41:43</th>\n",
              "      <td>37.75144</td>\n",
              "      <td>-122.39449</td>\n",
              "      <td>0</td>\n",
              "    </tr>\n",
              "  </tbody>\n",
              "</table>\n",
              "</div>"
            ],
            "text/plain": [
              "                            latitude  longitude  occupied\n",
              "user   time                                              \n",
              "abboip 2008-05-17 14:12:10  37.75153 -122.39447         0\n",
              "       2008-05-17 14:13:34  37.75149 -122.39447         0\n",
              "       2008-05-17 14:14:34  37.75149 -122.39447         0\n",
              "       2008-05-17 14:15:35  37.75149 -122.39446         0\n",
              "       2008-05-17 14:41:43  37.75144 -122.39449         0"
            ]
          },
          "metadata": {
            "tags": []
          },
          "execution_count": 2
        }
      ]
    },
    {
      "metadata": {
        "id": "SRCEhqT6ZLYO",
        "colab_type": "text"
      },
      "cell_type": "markdown",
      "source": [
        "## Convert the dataset to a mapping of users to the strings of their movements"
      ]
    },
    {
      "metadata": {
        "id": "dhYusASNGJzh",
        "colab_type": "code",
        "outputId": "5f464ee3-f1dc-412b-accb-f4ec23caae76",
        "colab": {
          "base_uri": "https://localhost:8080/",
          "height": 136
        }
      },
      "cell_type": "code",
      "source": [
        "import datetime as dt\n",
        "\n",
        "df.reset_index(inplace=True)\n",
        "\n",
        "df['rebased_time'] = df['time'] - df['time'].min()\n",
        "df['rebased_time'] = df['rebased_time'].dt.total_seconds()\n",
        "\n",
        "df = df[['user', 'rebased_time', 'longitude', 'latitude']]\n",
        "\n",
        "def extract_sequence(df):\n",
        "    df.drop('user', axis=1, inplace=True)\n",
        "    df.sort_values(by='rebased_time', inplace=True)\n",
        "    return df.values\n",
        "\n",
        "df = df.groupby('user').apply(extract_sequence)\n",
        "\n",
        "df.head()"
      ],
      "execution_count": 3,
      "outputs": [
        {
          "output_type": "execute_result",
          "data": {
            "text/plain": [
              "user\n",
              "abboip      [[15126.000000000002, -122.39447, 37.751529999...\n",
              "abcoij      [[47486.0, -122.41466000000001, 37.80346], [47...\n",
              "abdremlu    [[11949.0, -122.39093000000001, 37.75521], [12...\n",
              "abgibo      [[16.0, -122.4374, 37.7733], [61.0000000000000...\n",
              "abjoolaw    [[13856.0, -122.39747, 37.75159], [13916.0, -1...\n",
              "dtype: object"
            ]
          },
          "metadata": {
            "tags": []
          },
          "execution_count": 3
        }
      ]
    },
    {
      "metadata": {
        "id": "G7jbyag-Ztfr",
        "colab_type": "text"
      },
      "cell_type": "markdown",
      "source": [
        "## Concatenate all user strings of data to one complete string of all"
      ]
    },
    {
      "metadata": {
        "id": "M8CBIqVHG8BQ",
        "colab_type": "code",
        "outputId": "4b6fcac2-e910-466f-f327-7fcc5fca1df5",
        "colab": {
          "base_uri": "https://localhost:8080/",
          "height": 170
        }
      },
      "cell_type": "code",
      "source": [
        "def to_single_sequence(series):\n",
        "    data = None\n",
        "    for _, item in series.iteritems():\n",
        "        if data is None:\n",
        "            data = item\n",
        "        else:\n",
        "            data = np.concatenate((data, item), axis=0)\n",
        "    \n",
        "    return data\n",
        "\n",
        "data = to_single_sequence(df)\n",
        "del df\n",
        "\n",
        "print(data.shape)\n",
        "print()\n",
        "print(data)"
      ],
      "execution_count": 4,
      "outputs": [
        {
          "output_type": "stream",
          "text": [
            "(11219955, 3)\n",
            "\n",
            "[[ 1.5126000e+04 -1.2239447e+02  3.7751530e+01]\n",
            " [ 1.5210000e+04 -1.2239447e+02  3.7751490e+01]\n",
            " [ 1.5270000e+04 -1.2239447e+02  3.7751490e+01]\n",
            " ...\n",
            " [ 2.0172080e+06 -1.2244239e+02  3.7756860e+01]\n",
            " [ 2.0172640e+06 -1.2244215e+02  3.7760470e+01]\n",
            " [ 2.0173250e+06 -1.2243687e+02  3.7760750e+01]]\n"
          ],
          "name": "stdout"
        }
      ]
    },
    {
      "metadata": {
        "id": "noA-JMxmZ9k0",
        "colab_type": "text"
      },
      "cell_type": "markdown",
      "source": [
        "## Standardisation\n",
        "All three features in the data are scaled to have a `mean = 0` and a `standard deviation = 1`."
      ]
    },
    {
      "metadata": {
        "id": "4eXEW0wkH2_W",
        "colab_type": "code",
        "outputId": "5844b48e-ebfd-4caf-b62a-b95bbe757677",
        "colab": {
          "base_uri": "https://localhost:8080/",
          "height": 187
        }
      },
      "cell_type": "code",
      "source": [
        "from sklearn import preprocessing\n",
        "\n",
        "scaler = preprocessing.StandardScaler()\n",
        "scaler.fit(data)\n",
        "\n",
        "data = scaler.transform(data)\n",
        "\n",
        "print('Means: %f %f %f' % (scaler.mean_[0], scaler.mean_[1], scaler.mean_[2]))\n",
        "print('Standard deviations: %f %f %f' % (scaler.var_[0], scaler.var_[1], scaler.var_[2]))\n",
        "print()\n",
        "print(data)"
      ],
      "execution_count": 5,
      "outputs": [
        {
          "output_type": "stream",
          "text": [
            "Means: 1017983.546543 -122.412432 37.763601\n",
            "Standard deviations: 346406383099.499146 0.001280 0.002901\n",
            "\n",
            "[[-1.70390864  0.50197561 -0.22410877]\n",
            " [-1.70376591  0.50197561 -0.22485143]\n",
            " [-1.70366397  0.50197561 -0.22485143]\n",
            " ...\n",
            " [ 1.69773582 -0.83724035 -0.12514886]\n",
            " [ 1.69783096 -0.83053309 -0.05812348]\n",
            " [ 1.69793461 -0.6829734  -0.05292484]]\n"
          ],
          "name": "stdout"
        }
      ]
    },
    {
      "metadata": {
        "id": "tgh9Jnhbvo7a",
        "colab_type": "text"
      },
      "cell_type": "markdown",
      "source": [
        "## Convert the data to 32-bit integers\n",
        "This is to correct an error I got earlier. Apparently the GRU layers can't handle 64-bit integers (doubles) as input."
      ]
    },
    {
      "metadata": {
        "id": "WY07YNcWv2RS",
        "colab_type": "code",
        "colab": {
          "base_uri": "https://localhost:8080/",
          "height": 34
        },
        "outputId": "ec1005ca-3006-422e-a28b-a7d0dcb9ac60"
      },
      "cell_type": "code",
      "source": [
        "print('Before: ', data.dtype)"
      ],
      "execution_count": 6,
      "outputs": [
        {
          "output_type": "stream",
          "text": [
            "Before:  float64\n"
          ],
          "name": "stdout"
        }
      ]
    },
    {
      "metadata": {
        "id": "l9yt0kQWwH-h",
        "colab_type": "code",
        "colab": {}
      },
      "cell_type": "code",
      "source": [
        "data = data.astype(np.float32)"
      ],
      "execution_count": 0,
      "outputs": []
    },
    {
      "metadata": {
        "id": "3_DHJn_9waE1",
        "colab_type": "code",
        "colab": {
          "base_uri": "https://localhost:8080/",
          "height": 34
        },
        "outputId": "564098d5-65b7-4244-8478-f14eb336fe5d"
      },
      "cell_type": "code",
      "source": [
        "print('After: ', data.dtype)"
      ],
      "execution_count": 8,
      "outputs": [
        {
          "output_type": "stream",
          "text": [
            "After:  float32\n"
          ],
          "name": "stdout"
        }
      ]
    },
    {
      "metadata": {
        "id": "o_C9xIyVLmsZ",
        "colab_type": "text"
      },
      "cell_type": "markdown",
      "source": [
        "## Split the data into sequences"
      ]
    },
    {
      "metadata": {
        "id": "5_mfD-kQLtJ1",
        "colab_type": "code",
        "colab": {
          "base_uri": "https://localhost:8080/",
          "height": 34
        },
        "outputId": "8a9c871d-3043-4f24-c80e-d7ca073c2447"
      },
      "cell_type": "code",
      "source": [
        "SEQ_LENGTH = 100\n",
        "n_sequences = len(data) // (SEQ_LENGTH + 1)\n",
        "n_records = n_sequences * (SEQ_LENGTH + 1)\n",
        "\n",
        "print('Number of sequences: ', n_sequences)"
      ],
      "execution_count": 9,
      "outputs": [
        {
          "output_type": "stream",
          "text": [
            "Number of sequences:  111088\n"
          ],
          "name": "stdout"
        }
      ]
    },
    {
      "metadata": {
        "id": "fqJlvwcWNa-J",
        "colab_type": "code",
        "colab": {
          "base_uri": "https://localhost:8080/",
          "height": 68
        },
        "outputId": "65476077-ce15-413e-d00f-154efc7adfd5"
      },
      "cell_type": "code",
      "source": [
        "print('Dropping the remainder:')\n",
        "print(' -> Shape before: ', data.shape)\n",
        "\n",
        "data = data[:n_records]\n",
        "\n",
        "print(' -> Shape after:  ', data.shape)"
      ],
      "execution_count": 10,
      "outputs": [
        {
          "output_type": "stream",
          "text": [
            "Dropping the remainder:\n",
            " -> Shape before:  (11219955, 3)\n",
            " -> Shape after:   (11219888, 3)\n"
          ],
          "name": "stdout"
        }
      ]
    },
    {
      "metadata": {
        "id": "kLshVJMcON4E",
        "colab_type": "code",
        "colab": {
          "base_uri": "https://localhost:8080/",
          "height": 119
        },
        "outputId": "2745afdb-88fd-45ac-c8cb-ed8d4d3fa131"
      },
      "cell_type": "code",
      "source": [
        "data = data.reshape((n_sequences, SEQ_LENGTH + 1, 3))\n",
        "\n",
        "print('Shape: ', data.shape)\n",
        "print('')\n",
        "print('Sequence 0: ', data[0, 0], data[0, 1], data[0, 2], '...')\n",
        "print('Sequence 1: ', data[1, 0], data[1, 1], data[1, 2], '...')\n",
        "print('Sequence 2: ', data[2, 0], data[2, 1], data[2, 2], '...')\n",
        "print('...')"
      ],
      "execution_count": 11,
      "outputs": [
        {
          "output_type": "stream",
          "text": [
            "Shape:  (111088, 101, 3)\n",
            "\n",
            "Sequence 0:  [-1.7039087   0.5019756  -0.22410877] [-1.7037659   0.5019756  -0.22485143] [-1.703664    0.5019756  -0.22485143] ...\n",
            "Sequence 1:  [-1.6920493  0.661273  -1.6295995] [-1.6919813  0.6120864 -1.3839635] [-1.691898   0.5290841 -1.1390702] ...\n",
            "Sequence 2:  [-1.6829762  -0.03460507 -0.27702355] [-1.6828743  -0.0415918  -0.23710538] [-1.6827741  -0.05277057 -0.20127188] ...\n",
            "...\n"
          ],
          "name": "stdout"
        }
      ]
    },
    {
      "metadata": {
        "id": "dcurHX-rdlAy",
        "colab_type": "text"
      },
      "cell_type": "markdown",
      "source": [
        "## Make sure the number of sequences in a multiple of the batch size"
      ]
    },
    {
      "metadata": {
        "id": "uqhvcpbtdsg8",
        "colab_type": "code",
        "colab": {
          "base_uri": "https://localhost:8080/",
          "height": 51
        },
        "outputId": "fb7fda89-dd73-475a-9b0d-0db733f68af6"
      },
      "cell_type": "code",
      "source": [
        "BATCH_SIZE = 64\n",
        "n_batches = data.shape[0] // BATCH_SIZE\n",
        "n_sequences = n_batches * BATCH_SIZE\n",
        "\n",
        "print('Number of batches: ', n_batches)\n",
        "print('Number of sequences: ', n_sequences)"
      ],
      "execution_count": 12,
      "outputs": [
        {
          "output_type": "stream",
          "text": [
            "Number of batches:  1735\n",
            "Number of sequences:  111040\n"
          ],
          "name": "stdout"
        }
      ]
    },
    {
      "metadata": {
        "id": "D9gOH3a_eTtz",
        "colab_type": "code",
        "colab": {
          "base_uri": "https://localhost:8080/",
          "height": 68
        },
        "outputId": "d584a733-4bee-4e20-bc34-b0ce9952f7e2"
      },
      "cell_type": "code",
      "source": [
        "print('Dropping the remainder:')\n",
        "print(' -> Shape before: ', data.shape)\n",
        "\n",
        "data = data[:n_sequences]\n",
        "\n",
        "print(' -> Shape after:  ', data.shape)"
      ],
      "execution_count": 13,
      "outputs": [
        {
          "output_type": "stream",
          "text": [
            "Dropping the remainder:\n",
            " -> Shape before:  (111088, 101, 3)\n",
            " -> Shape after:   (111040, 101, 3)\n"
          ],
          "name": "stdout"
        }
      ]
    },
    {
      "metadata": {
        "id": "tJK618v0d23y",
        "colab_type": "text"
      },
      "cell_type": "markdown",
      "source": [
        "## Make input and output sequences\n",
        "... by dropping the first or the last record respectively."
      ]
    },
    {
      "metadata": {
        "id": "nkPggz96U8nm",
        "colab_type": "code",
        "colab": {
          "base_uri": "https://localhost:8080/",
          "height": 119
        },
        "outputId": "933eb736-924d-4ad2-cc2a-4a8d0d96a30c"
      },
      "cell_type": "code",
      "source": [
        "X = data[:, :-1]\n",
        "y = data[:, 1:]\n",
        "\n",
        "print('Shapes:')\n",
        "print(' -> X: ', X.shape)\n",
        "print(' -> y: ', y.shape)\n",
        "print('')\n",
        "print('Input:  ', X[0, 0], X[0, 1], X[0, 2], '...')\n",
        "print('Output: ', y[0, 0], y[0, 1], y[0, 2], '...')"
      ],
      "execution_count": 14,
      "outputs": [
        {
          "output_type": "stream",
          "text": [
            "Shapes:\n",
            " -> X:  (111040, 100, 3)\n",
            " -> y:  (111040, 100, 3)\n",
            "\n",
            "Input:   [-1.7039087   0.5019756  -0.22410877] [-1.7037659   0.5019756  -0.22485143] [-1.703664    0.5019756  -0.22485143] ...\n",
            "Output:  [-1.7037659   0.5019756  -0.22485143] [-1.703664    0.5019756  -0.22485143] [-1.7035604   0.5022551  -0.22485143] ...\n"
          ],
          "name": "stdout"
        }
      ]
    },
    {
      "metadata": {
        "id": "Gl3WTuKNckiI",
        "colab_type": "text"
      },
      "cell_type": "markdown",
      "source": [
        "## Split the data into a set for training and one for testing\n",
        "The split makes sure that both the training set and the test set are a multiple of the batch size long."
      ]
    },
    {
      "metadata": {
        "id": "yJt_A5A9IJT8",
        "colab_type": "code",
        "outputId": "dc6801bd-c192-41b9-fd18-bb240ac3f3ff",
        "colab": {
          "base_uri": "https://localhost:8080/",
          "height": 51
        }
      },
      "cell_type": "code",
      "source": [
        "TRAIN_TEST_SPLIT = 0.8\n",
        "\n",
        "n_train_batches = TRAIN_TEST_SPLIT * (X.shape[0] / BATCH_SIZE)\n",
        "n_train = n_train_batches * BATCH_SIZE\n",
        "\n",
        "n_train = int(n_train)\n",
        "\n",
        "X_train, y_train = X[:n_train], y[:n_train]\n",
        "X_test, y_test = X[n_train:], y[n_train:]\n",
        "\n",
        "print('Train: ', X_train.shape, y_train.shape)\n",
        "print('Test:  ', X_test.shape, y_test.shape)"
      ],
      "execution_count": 17,
      "outputs": [
        {
          "output_type": "stream",
          "text": [
            "Train:  (88832, 100, 3) (88832, 100, 3)\n",
            "Test:   (22208, 100, 3) (22208, 100, 3)\n"
          ],
          "name": "stdout"
        }
      ]
    },
    {
      "metadata": {
        "id": "vFm92XsBiiGO",
        "colab_type": "text"
      },
      "cell_type": "markdown",
      "source": [
        "## Definition of how to build the model\n",
        "The first cell selects the type of GRU layer to use depending on wether the algorithm is run on a CPU or GPU."
      ]
    },
    {
      "metadata": {
        "id": "AYP7sev5a-tq",
        "colab_type": "code",
        "outputId": "870a8faa-b049-4489-c5df-7265e137fdef",
        "colab": {
          "base_uri": "https://localhost:8080/",
          "height": 34
        }
      },
      "cell_type": "code",
      "source": [
        "if tf.test.is_gpu_available():\n",
        "    my_gru = tf.keras.layers.CuDNNGRU\n",
        "    print('Selected GRU layer for GPU')\n",
        "else:\n",
        "    import functools\n",
        "    my_gru = functools.partial(\n",
        "        tf.keras.layers.GRU, recurrent_activation='sigmoid')\n",
        "    print('Selected GRU layer for CPU')"
      ],
      "execution_count": 18,
      "outputs": [
        {
          "output_type": "stream",
          "text": [
            "Selected GRU layer for GPU\n"
          ],
          "name": "stdout"
        }
      ]
    },
    {
      "metadata": {
        "id": "ywCXItWdbO1L",
        "colab_type": "code",
        "colab": {}
      },
      "cell_type": "code",
      "source": [
        "def build_model(internal_units, batch_size):\n",
        "    model = tf.keras.Sequential([\n",
        "        my_gru(internal_units, return_sequences=True, recurrent_initializer='glorot_uniform', stateful=True, batch_input_shape=[batch_size, None, 3]),\n",
        "        tf.keras.layers.Dense(3)\n",
        "    ])\n",
        "    return model"
      ],
      "execution_count": 0,
      "outputs": []
    },
    {
      "metadata": {
        "id": "16DqcUiUi2uN",
        "colab_type": "text"
      },
      "cell_type": "markdown",
      "source": [
        "## Build the model"
      ]
    },
    {
      "metadata": {
        "id": "GE11g2X-efxh",
        "colab_type": "code",
        "outputId": "5b8ae941-39cc-401f-e4e6-a6b5c7389de6",
        "colab": {
          "base_uri": "https://localhost:8080/",
          "height": 204
        }
      },
      "cell_type": "code",
      "source": [
        "INTERNAL_UNITS = 1024\n",
        "\n",
        "model = build_model(internal_units=INTERNAL_UNITS, batch_size=BATCH_SIZE)\n",
        "model.summary()"
      ],
      "execution_count": 20,
      "outputs": [
        {
          "output_type": "stream",
          "text": [
            "_________________________________________________________________\n",
            "Layer (type)                 Output Shape              Param #   \n",
            "=================================================================\n",
            "cu_dnngru (CuDNNGRU)         (64, None, 1024)          3161088   \n",
            "_________________________________________________________________\n",
            "dense (Dense)                (64, None, 3)             3075      \n",
            "=================================================================\n",
            "Total params: 3,164,163\n",
            "Trainable params: 3,164,163\n",
            "Non-trainable params: 0\n",
            "_________________________________________________________________\n"
          ],
          "name": "stdout"
        }
      ]
    },
    {
      "metadata": {
        "id": "JP5X850FjANF",
        "colab_type": "text"
      },
      "cell_type": "markdown",
      "source": [
        "## Test the model's output (before training)"
      ]
    },
    {
      "metadata": {
        "id": "WdqsUva28s6k",
        "colab_type": "code",
        "colab": {
          "base_uri": "https://localhost:8080/",
          "height": 34
        },
        "outputId": "75d5c252-bc95-4cc3-f3df-5d7892183e92"
      },
      "cell_type": "code",
      "source": [
        "model.input"
      ],
      "execution_count": 21,
      "outputs": [
        {
          "output_type": "execute_result",
          "data": {
            "text/plain": [
              "<DeferredTensor 'cu_dnngru_input' shape=(64, ?, 3) dtype=float32>"
            ]
          },
          "metadata": {
            "tags": []
          },
          "execution_count": 21
        }
      ]
    },
    {
      "metadata": {
        "id": "3eL5DdkcahEl",
        "colab_type": "code",
        "colab": {
          "base_uri": "https://localhost:8080/",
          "height": 34
        },
        "outputId": "dce78b44-60bd-475e-a63a-ce809bfe3206"
      },
      "cell_type": "code",
      "source": [
        "X_example = X_train[:64]\n",
        "X_example.shape"
      ],
      "execution_count": 22,
      "outputs": [
        {
          "output_type": "execute_result",
          "data": {
            "text/plain": [
              "(64, 100, 3)"
            ]
          },
          "metadata": {
            "tags": []
          },
          "execution_count": 22
        }
      ]
    },
    {
      "metadata": {
        "id": "AhBGjtBnYabf",
        "colab_type": "code",
        "colab": {
          "base_uri": "https://localhost:8080/",
          "height": 125
        },
        "outputId": "68334e5a-a5c2-4465-84ce-5deda95f5b3d"
      },
      "cell_type": "code",
      "source": [
        "X_example = X_train[:64]\n",
        "y_example = model.predict(X_example, batch_size=64)\n",
        "\n",
        "example_in = scaler.inverse_transform(X_example)\n",
        "example_out = scaler.inverse_transform(y_example)\n",
        "\n",
        "print('Shapes: ', X_example.shape, y_example.shape)\n",
        "print('')\n",
        "print('Predicted input:  ', example_in[0, 0], example_in[0, 1], example_in[0, 2], '...')\n",
        "print('Predicted output: ', example_out[0, 0], example_out[0, 1], example_out[0, 2], '...')"
      ],
      "execution_count": 23,
      "outputs": [
        {
          "output_type": "stream",
          "text": [
            "Shapes:  (64, 100, 3) (64, 100, 3)\n",
            "\n",
            "Predicted input:   [15125.984    -122.39447    37.75153] [15210.047    -122.39447    37.75149] [15270.047    -122.39447    37.75149] ...\n",
            "Predicted output:  [ 1.0378001e+06 -1.2241131e+02  3.7762272e+01] [ 1.04117475e+06 -1.22410927e+02  3.77615204e+01] [ 1.03933094e+06 -1.22410858e+02  3.77611656e+01] ...\n"
          ],
          "name": "stdout"
        }
      ]
    },
    {
      "metadata": {
        "id": "n1gfHCGwykZp",
        "colab_type": "code",
        "colab": {
          "base_uri": "https://localhost:8080/",
          "height": 34
        },
        "outputId": "03a48f9f-cb73-4cc7-ab4c-d458c6537d57"
      },
      "cell_type": "code",
      "source": [
        "print('Loss: ', tf.keras.losses.mean_absolute_error(X_example, y_example).numpy().mean())"
      ],
      "execution_count": 24,
      "outputs": [
        {
          "output_type": "stream",
          "text": [
            "Loss:  0.7148991\n"
          ],
          "name": "stdout"
        }
      ]
    },
    {
      "metadata": {
        "id": "dkkKIrBR2qdl",
        "colab_type": "text"
      },
      "cell_type": "markdown",
      "source": [
        "## Training"
      ]
    },
    {
      "metadata": {
        "id": "H8Ai1h_t2p8h",
        "colab_type": "code",
        "colab": {}
      },
      "cell_type": "code",
      "source": [
        "model.compile(optimizer=tf.train.AdamOptimizer(),\n",
        "              loss=tf.keras.losses.mean_absolute_error)"
      ],
      "execution_count": 0,
      "outputs": []
    },
    {
      "metadata": {
        "id": "svDi3JIb2y4-",
        "colab_type": "code",
        "colab": {}
      },
      "cell_type": "code",
      "source": [
        "# Directory where the checkpoints will be saved\n",
        "checkpoint_dir = './onegru_training_checkpoints'\n",
        "# Name of the checkpoint files\n",
        "checkpoint_prefix = os.path.join(checkpoint_dir, \"ckpt_{epoch}_{loss}\")\n",
        "\n",
        "checkpoint_callback = tf.keras.callbacks.ModelCheckpoint(filepath=checkpoint_prefix,\n",
        "                                                         save_weights_only=True)"
      ],
      "execution_count": 0,
      "outputs": []
    },
    {
      "metadata": {
        "id": "uAlrq5LY3niS",
        "colab_type": "code",
        "colab": {
          "base_uri": "https://localhost:8080/",
          "height": 1037
        },
        "outputId": "5e9981ec-f615-4d5e-e75a-b17c13d5eeed"
      },
      "cell_type": "code",
      "source": [
        "EPOCHS = 30\n",
        "\n",
        "history = model.fit(X_train, y_train,\n",
        "                    epochs=EPOCHS, batch_size=64, shuffle=True,\n",
        "                    validation_data=(X_test, y_test),\n",
        "                    callbacks=[checkpoint_callback])"
      ],
      "execution_count": 27,
      "outputs": [
        {
          "output_type": "stream",
          "text": [
            "Epoch 1/30\n",
            "1388/1388 [==============================] - 189s 136ms/step - loss: 0.0525 - val_loss: 0.0480\n",
            "Epoch 2/30\n",
            "1388/1388 [==============================] - 190s 137ms/step - loss: 0.0409 - val_loss: 0.0462\n",
            "Epoch 3/30\n",
            "1388/1388 [==============================] - 189s 136ms/step - loss: 0.0378 - val_loss: 0.0447\n",
            "Epoch 4/30\n",
            "1388/1388 [==============================] - 190s 137ms/step - loss: 0.0365 - val_loss: 0.0429\n",
            "Epoch 5/30\n",
            "1388/1388 [==============================] - 191s 137ms/step - loss: 0.0345 - val_loss: 0.0409\n",
            "Epoch 6/30\n",
            "1388/1388 [==============================] - 191s 137ms/step - loss: 0.0339 - val_loss: 0.0410\n",
            "Epoch 7/30\n",
            "1388/1388 [==============================] - 191s 138ms/step - loss: 0.0331 - val_loss: 0.0408\n",
            "Epoch 8/30\n",
            "1388/1388 [==============================] - 190s 137ms/step - loss: 0.0319 - val_loss: 0.0406\n",
            "Epoch 9/30\n",
            "1388/1388 [==============================] - 190s 137ms/step - loss: 0.0319 - val_loss: 0.0410\n",
            "Epoch 10/30\n",
            "1388/1388 [==============================] - 189s 136ms/step - loss: 0.0313 - val_loss: 0.0404\n",
            "Epoch 11/30\n",
            "1388/1388 [==============================] - 190s 137ms/step - loss: 0.0312 - val_loss: 0.0389\n",
            "Epoch 12/30\n",
            "1388/1388 [==============================] - 190s 137ms/step - loss: 0.0308 - val_loss: 0.0397\n",
            "Epoch 13/30\n",
            "1388/1388 [==============================] - 191s 137ms/step - loss: 0.0306 - val_loss: 0.0399\n",
            "Epoch 14/30\n",
            "1388/1388 [==============================] - 192s 138ms/step - loss: 0.0304 - val_loss: 0.0379\n",
            "Epoch 15/30\n",
            "1388/1388 [==============================] - 192s 138ms/step - loss: 0.0300 - val_loss: 0.0392\n",
            "Epoch 16/30\n",
            "1388/1388 [==============================] - 192s 138ms/step - loss: 0.0298 - val_loss: 0.0397\n",
            "Epoch 17/30\n",
            "1388/1388 [==============================] - 192s 138ms/step - loss: 0.0298 - val_loss: 0.0374\n",
            "Epoch 18/30\n",
            "1388/1388 [==============================] - 192s 138ms/step - loss: 0.0297 - val_loss: 0.0384\n",
            "Epoch 19/30\n",
            "1388/1388 [==============================] - 192s 138ms/step - loss: 0.0299 - val_loss: 0.0377\n",
            "Epoch 20/30\n",
            "1388/1388 [==============================] - 192s 138ms/step - loss: 0.0298 - val_loss: 0.0370\n",
            "Epoch 21/30\n",
            "1388/1388 [==============================] - 192s 138ms/step - loss: 0.0291 - val_loss: 0.0372\n",
            "Epoch 22/30\n",
            "1388/1388 [==============================] - 192s 138ms/step - loss: 0.0302 - val_loss: 0.0410\n",
            "Epoch 23/30\n",
            "1388/1388 [==============================] - 192s 138ms/step - loss: 0.0886 - val_loss: 0.0841\n",
            "Epoch 24/30\n",
            "1388/1388 [==============================] - 191s 137ms/step - loss: 0.0697 - val_loss: 0.0820\n",
            "Epoch 25/30\n",
            "1388/1388 [==============================] - 191s 138ms/step - loss: 0.0666 - val_loss: 0.0756\n",
            "Epoch 26/30\n",
            "1388/1388 [==============================] - 191s 138ms/step - loss: 0.0648 - val_loss: 0.0815\n",
            "Epoch 27/30\n",
            "1388/1388 [==============================] - 191s 138ms/step - loss: 0.0641 - val_loss: 0.0750\n",
            "Epoch 28/30\n",
            "1388/1388 [==============================] - 192s 138ms/step - loss: 0.0615 - val_loss: 0.0841\n",
            "Epoch 29/30\n",
            "1388/1388 [==============================] - 191s 137ms/step - loss: 0.0613 - val_loss: 0.0745\n",
            "Epoch 30/30\n",
            "1388/1388 [==============================] - 192s 138ms/step - loss: 0.0618 - val_loss: 0.0671\n"
          ],
          "name": "stdout"
        }
      ]
    },
    {
      "metadata": {
        "id": "dCYcOLaQ1nKn",
        "colab_type": "code",
        "colab": {
          "base_uri": "https://localhost:8080/",
          "height": 34
        },
        "outputId": "50540a16-7243-4142-a271-e2b152101c20"
      },
      "cell_type": "code",
      "source": [
        "import pickle\n",
        "\n",
        "with open('onegru_history.pkl', 'wb') as file:\n",
        "        pickle.dump(history.history, file)\n",
        "        print('History saved')"
      ],
      "execution_count": 36,
      "outputs": [
        {
          "output_type": "stream",
          "text": [
            "History saved\n"
          ],
          "name": "stdout"
        }
      ]
    },
    {
      "metadata": {
        "id": "KXenSIlp2jAz",
        "colab_type": "code",
        "colab": {
          "base_uri": "https://localhost:8080/",
          "height": 347
        },
        "outputId": "cb7cdae2-fdda-479b-bffa-d62d9bef2f3a"
      },
      "cell_type": "code",
      "source": [
        "plt.plot(history.history['loss'])\n",
        "plt.plot(history.history['val_loss'])\n",
        "plt.show()"
      ],
      "execution_count": 35,
      "outputs": [
        {
          "output_type": "display_data",
          "data": {
            "image/png": "[encoded data removed]",
            "text/plain": [
              "<matplotlib.figure.Figure at 0x7f94a4a24898>"
            ]
          },
          "metadata": {
            "tags": []
          }
        }
      ]
    }
  ]
}