{
  "nbformat": 4,
  "nbformat_minor": 0,
  "metadata": {
    "colab": {
      "name": "citybased_rnn.ipynb",
      "version": "0.3.2",
      "provenance": [],
      "collapsed_sections": []
    },
    "kernelspec": {
      "name": "python3",
      "display_name": "Python 3"
    },
    "accelerator": "GPU"
  },
  "cells": [
    {
      "metadata": {
        "id": "BFLtqc6hXszW",
        "colab_type": "code",
        "outputId": "c21e3875-d4c4-4f3c-8132-6cfd5a47d2fc",
        "colab": {
          "base_uri": "https://localhost:8080/",
          "height": 51
        }
      },
      "cell_type": "code",
      "source": [
        "# Setup of libraries, mounting the Google Drive etc.\n",
        "\n",
        "import os\n",
        "import sys\n",
        "from google.colab import drive\n",
        "drive.mount('/content/gdrive')\n",
        "os.chdir('/content/gdrive/My Drive/Colab Notebooks')\n",
        "\n",
        "import matplotlib.pyplot as plt\n",
        "import numpy as np\n",
        "import pandas as pd\n",
        "import pickle\n",
        "\n",
        "import tensorflow as tf\n",
        "\n",
        "import utils\n",
        "import IPython\n",
        "\n",
        "print('The current working directory is:', os.getcwd())"
      ],
      "execution_count": 1,
      "outputs": [
        {
          "output_type": "stream",
          "text": [
            "Drive already mounted at /content/gdrive; to attempt to forcibly remount, call drive.mount(\"/content/gdrive\", force_remount=True).\n",
            "The current working directory is: /content/gdrive/My Drive/Colab Notebooks\n"
          ],
          "name": "stdout"
        }
      ]
    },
    {
      "metadata": {
        "id": "lHDRiK7LYw2s",
        "colab_type": "text"
      },
      "cell_type": "markdown",
      "source": [
        "## Read the dataset from `.pkl` file\n"
      ]
    },
    {
      "metadata": {
        "id": "rxQz-vmJYEGC",
        "colab_type": "code",
        "outputId": "928cadaf-56b9-45b3-ff0f-8641e0aa3918",
        "colab": {
          "base_uri": "https://localhost:8080/",
          "height": 235
        }
      },
      "cell_type": "code",
      "source": [
        "df = pd.read_pickle('datasets/cabspotting.pkl')\n",
        "df.head()"
      ],
      "execution_count": 2,
      "outputs": [
        {
          "output_type": "execute_result",
          "data": {
            "text/html": [
              "<div>\n",
              "<style scoped>\n",
              "    .dataframe tbody tr th:only-of-type {\n",
              "        vertical-align: middle;\n",
              "    }\n",
              "\n",
              "    .dataframe tbody tr th {\n",
              "        vertical-align: top;\n",
              "    }\n",
              "\n",
              "    .dataframe thead th {\n",
              "        text-align: right;\n",
              "    }\n",
              "</style>\n",
              "<table border=\"1\" class=\"dataframe\">\n",
              "  <thead>\n",
              "    <tr style=\"text-align: right;\">\n",
              "      <th></th>\n",
              "      <th></th>\n",
              "      <th>latitude</th>\n",
              "      <th>longitude</th>\n",
              "      <th>occupied</th>\n",
              "    </tr>\n",
              "    <tr>\n",
              "      <th>user</th>\n",
              "      <th>time</th>\n",
              "      <th></th>\n",
              "      <th></th>\n",
              "      <th></th>\n",
              "    </tr>\n",
              "  </thead>\n",
              "  <tbody>\n",
              "    <tr>\n",
              "      <th rowspan=\"5\" valign=\"top\">abboip</th>\n",
              "      <th>2008-05-17 14:12:10</th>\n",
              "      <td>37.75153</td>\n",
              "      <td>-122.39447</td>\n",
              "      <td>0</td>\n",
              "    </tr>\n",
              "    <tr>\n",
              "      <th>2008-05-17 14:13:34</th>\n",
              "      <td>37.75149</td>\n",
              "      <td>-122.39447</td>\n",
              "      <td>0</td>\n",
              "    </tr>\n",
              "    <tr>\n",
              "      <th>2008-05-17 14:14:34</th>\n",
              "      <td>37.75149</td>\n",
              "      <td>-122.39447</td>\n",
              "      <td>0</td>\n",
              "    </tr>\n",
              "    <tr>\n",
              "      <th>2008-05-17 14:15:35</th>\n",
              "      <td>37.75149</td>\n",
              "      <td>-122.39446</td>\n",
              "      <td>0</td>\n",
              "    </tr>\n",
              "    <tr>\n",
              "      <th>2008-05-17 14:41:43</th>\n",
              "      <td>37.75144</td>\n",
              "      <td>-122.39449</td>\n",
              "      <td>0</td>\n",
              "    </tr>\n",
              "  </tbody>\n",
              "</table>\n",
              "</div>"
            ],
            "text/plain": [
              "                            latitude  longitude  occupied\n",
              "user   time                                              \n",
              "abboip 2008-05-17 14:12:10  37.75153 -122.39447         0\n",
              "       2008-05-17 14:13:34  37.75149 -122.39447         0\n",
              "       2008-05-17 14:14:34  37.75149 -122.39447         0\n",
              "       2008-05-17 14:15:35  37.75149 -122.39446         0\n",
              "       2008-05-17 14:41:43  37.75144 -122.39449         0"
            ]
          },
          "metadata": {
            "tags": []
          },
          "execution_count": 2
        }
      ]
    },
    {
      "metadata": {
        "id": "SRCEhqT6ZLYO",
        "colab_type": "text"
      },
      "cell_type": "markdown",
      "source": [
        "## Convert the dataset to a mapping of users to the strings of their movements"
      ]
    },
    {
      "metadata": {
        "id": "7NmsLO-RC0Lb",
        "colab_type": "code",
        "outputId": "ae510a6b-0181-4b13-8f13-1578c0d92f64",
        "colab": {
          "base_uri": "https://localhost:8080/",
          "height": 136
        }
      },
      "cell_type": "code",
      "source": [
        "df = utils.records_to_user_geolcation(df)\n",
        "df.head()"
      ],
      "execution_count": 3,
      "outputs": [
        {
          "output_type": "execute_result",
          "data": {
            "text/plain": [
              "user\n",
              "abboip      [[15126.000000000002, -122.39447, 37.751529999...\n",
              "abcoij      [[47486.0, -122.41466000000001, 37.80346], [47...\n",
              "abdremlu    [[11949.0, -122.39093000000001, 37.75521], [12...\n",
              "abgibo      [[16.0, -122.4374, 37.7733], [61.0000000000000...\n",
              "abjoolaw    [[13856.0, -122.39747, 37.75159], [13916.0, -1...\n",
              "dtype: object"
            ]
          },
          "metadata": {
            "tags": []
          },
          "execution_count": 3
        }
      ]
    },
    {
      "metadata": {
        "id": "G7jbyag-Ztfr",
        "colab_type": "text"
      },
      "cell_type": "markdown",
      "source": [
        "## Concatenate all user strings of data to one complete string of all"
      ]
    },
    {
      "metadata": {
        "id": "rLm4S-MyDKdm",
        "colab_type": "code",
        "outputId": "e12d54ba-ec4e-42bf-a34e-81dcf9af98c1",
        "colab": {
          "base_uri": "https://localhost:8080/",
          "height": 170
        }
      },
      "cell_type": "code",
      "source": [
        "data = utils.user_geolocation_to_single_sequence(df)\n",
        "\n",
        "print(data.shape)\n",
        "print()\n",
        "print(data)"
      ],
      "execution_count": 4,
      "outputs": [
        {
          "output_type": "stream",
          "text": [
            "(11219955, 3)\n",
            "\n",
            "[[ 1.5126000e+04 -1.2239447e+02  3.7751530e+01]\n",
            " [ 1.5210000e+04 -1.2239447e+02  3.7751490e+01]\n",
            " [ 1.5270000e+04 -1.2239447e+02  3.7751490e+01]\n",
            " ...\n",
            " [ 2.0172080e+06 -1.2244239e+02  3.7756860e+01]\n",
            " [ 2.0172640e+06 -1.2244215e+02  3.7760470e+01]\n",
            " [ 2.0173250e+06 -1.2243687e+02  3.7760750e+01]]\n"
          ],
          "name": "stdout"
        }
      ]
    },
    {
      "metadata": {
        "id": "tgh9Jnhbvo7a",
        "colab_type": "text"
      },
      "cell_type": "markdown",
      "source": [
        "## Convert the data to 32-bit floats\n",
        "This is to correct an error I got earlier. Apparently the GRU layers can't handle 64-bit integers (doubles) as input."
      ]
    },
    {
      "metadata": {
        "id": "WY07YNcWv2RS",
        "colab_type": "code",
        "outputId": "91b8da06-3f16-46ce-e2c0-99d70af187bb",
        "colab": {
          "base_uri": "https://localhost:8080/",
          "height": 34
        }
      },
      "cell_type": "code",
      "source": [
        "print('Before: ', data.dtype)"
      ],
      "execution_count": 5,
      "outputs": [
        {
          "output_type": "stream",
          "text": [
            "Before:  float64\n"
          ],
          "name": "stdout"
        }
      ]
    },
    {
      "metadata": {
        "id": "l9yt0kQWwH-h",
        "colab_type": "code",
        "colab": {}
      },
      "cell_type": "code",
      "source": [
        "data = data.astype(np.float32)"
      ],
      "execution_count": 0,
      "outputs": []
    },
    {
      "metadata": {
        "id": "3_DHJn_9waE1",
        "colab_type": "code",
        "outputId": "6bbe6d1e-5858-4d7e-ea30-51e08f678a68",
        "colab": {
          "base_uri": "https://localhost:8080/",
          "height": 34
        }
      },
      "cell_type": "code",
      "source": [
        "print('After: ', data.dtype)"
      ],
      "execution_count": 7,
      "outputs": [
        {
          "output_type": "stream",
          "text": [
            "After:  float32\n"
          ],
          "name": "stdout"
        }
      ]
    },
    {
      "metadata": {
        "id": "o_C9xIyVLmsZ",
        "colab_type": "text"
      },
      "cell_type": "markdown",
      "source": [
        "## Reshape and -order the data for input into the model (including X and y split)\n"
      ]
    },
    {
      "metadata": {
        "id": "S1cCkuVe9kfY",
        "colab_type": "code",
        "outputId": "a80adef2-a5d9-4757-e834-a686f360fbb9",
        "colab": {
          "base_uri": "https://localhost:8080/",
          "height": 34
        }
      },
      "cell_type": "code",
      "source": [
        "data.shape"
      ],
      "execution_count": 8,
      "outputs": [
        {
          "output_type": "execute_result",
          "data": {
            "text/plain": [
              "(11219955, 3)"
            ]
          },
          "metadata": {
            "tags": []
          },
          "execution_count": 8
        }
      ]
    },
    {
      "metadata": {
        "id": "80Fa7dg5D9cG",
        "colab_type": "code",
        "outputId": "ca4eb476-6a87-4771-a9cd-1f3d7cef83ce",
        "colab": {
          "base_uri": "https://localhost:8080/",
          "height": 51
        }
      },
      "cell_type": "code",
      "source": [
        "BATCH_SIZE = 64\n",
        "SEQ_LENGTH = 100\n",
        "\n",
        "n_batches, X, y = utils.reshape_single_sequence_to_rnn_Xy(data, BATCH_SIZE, SEQ_LENGTH)\n",
        "\n",
        "print('X:', X.shape)\n",
        "print('y:', y.shape)"
      ],
      "execution_count": 9,
      "outputs": [
        {
          "output_type": "stream",
          "text": [
            "X: (112192, 100, 3)\n",
            "y: (112192, 100, 3)\n"
          ],
          "name": "stdout"
        }
      ]
    },
    {
      "metadata": {
        "id": "Z8TZ9eBOAgHG",
        "colab_type": "text"
      },
      "cell_type": "markdown",
      "source": [
        "## Split into training and validations sets"
      ]
    },
    {
      "metadata": {
        "id": "1KRfAnl2AftS",
        "colab_type": "code",
        "outputId": "751f0c58-a6b1-4494-924e-2d7c8d094b4c",
        "colab": {
          "base_uri": "https://localhost:8080/",
          "height": 51
        }
      },
      "cell_type": "code",
      "source": [
        "n_train = int(n_batches * 0.8) * BATCH_SIZE\n",
        "X_train = X[:n_train]\n",
        "y_train = y[:n_train]\n",
        "X_val = X[n_train:]\n",
        "y_val = y[n_train:]\n",
        "\n",
        "print('Train:', X_train.shape, y_train.shape)\n",
        "print('Validation:', X_val.shape, y_val.shape)"
      ],
      "execution_count": 10,
      "outputs": [
        {
          "output_type": "stream",
          "text": [
            "Train: (89728, 100, 3) (89728, 100, 3)\n",
            "Validation: (22464, 100, 3) (22464, 100, 3)\n"
          ],
          "name": "stdout"
        }
      ]
    },
    {
      "metadata": {
        "id": "noA-JMxmZ9k0",
        "colab_type": "text"
      },
      "cell_type": "markdown",
      "source": [
        "## Standardisation\n",
        "All three features in the data are scaled to have a `mean = 0` and a `standard deviation = 1`.\n",
        "\n",
        "The Scaler is also saved to disk, so it can later be resued in a different Notebook.\n",
        "\n",
        "The Scaler is fitted only to the training data, not the validation / test data."
      ]
    },
    {
      "metadata": {
        "id": "4eXEW0wkH2_W",
        "colab_type": "code",
        "outputId": "848e96b1-eb10-4bb8-fead-d4d93eeb2f4f",
        "colab": {
          "base_uri": "https://localhost:8080/",
          "height": 51
        }
      },
      "cell_type": "code",
      "source": [
        "from sklearn import preprocessing\n",
        "\n",
        "scaler = preprocessing.StandardScaler()\n",
        "scaler.fit(np.array([X_train[:, :, 0].reshape(-1), X_train[:, :, 1].reshape(-1), X_train[:, :, 2].reshape(-1)]).transpose())\n",
        "\n",
        "print('Means: %f %f %f' % (scaler.mean_[0], scaler.mean_[1], scaler.mean_[2]))\n",
        "print('Standard deviations: %f %f %f' % (scaler.var_[0], scaler.var_[1], scaler.var_[2]))"
      ],
      "execution_count": 11,
      "outputs": [
        {
          "output_type": "stream",
          "text": [
            "Means: 1018058.287475 -122.412297 37.763381\n",
            "Standard deviations: 348340879360.000000 0.001298 0.002889\n"
          ],
          "name": "stdout"
        }
      ]
    },
    {
      "metadata": {
        "id": "KW0jCkI2f1WZ",
        "colab_type": "code",
        "colab": {
          "base_uri": "https://localhost:8080/",
          "height": 34
        },
        "outputId": "436e2421-3cd1-4bd9-8172-0fa4aab1a99c"
      },
      "cell_type": "code",
      "source": [
        "with open('scalers/citybased_rnn/GRU-1024_TD-Dense-3_cabspotting_64_100_adam_mae_default.pkl', 'wb') as file:\n",
        "    pickle.dump(scaler, file)\n",
        "    print('Scaler saved')"
      ],
      "execution_count": 12,
      "outputs": [
        {
          "output_type": "stream",
          "text": [
            "Scaler saved\n"
          ],
          "name": "stdout"
        }
      ]
    },
    {
      "metadata": {
        "id": "ihZOxir8FmUE",
        "colab_type": "code",
        "colab": {}
      },
      "cell_type": "code",
      "source": [
        "for i in range(len(X_train)):\n",
        "    X_train[i] = scaler.transform(X_train[i])\n",
        "    y_train[i] = scaler.transform(y_train[i])\n",
        "\n",
        "for i in range(len(X_val)):\n",
        "    X_val[i] = scaler.transform(X_val[i])\n",
        "    y_val[i] = scaler.transform(y_val[i])"
      ],
      "execution_count": 0,
      "outputs": []
    },
    {
      "metadata": {
        "id": "-I6prUGqKnHz",
        "colab_type": "code",
        "colab": {
          "base_uri": "https://localhost:8080/",
          "height": 255
        },
        "outputId": "b871b9b8-67d5-48ab-80f5-db6edf5f0a51"
      },
      "cell_type": "code",
      "source": [
        "print(X_train.shape)\n",
        "print()\n",
        "print(X_train[:1, :6])\n",
        "print(X_val[:1, :6])"
      ],
      "execution_count": 14,
      "outputs": [
        {
          "output_type": "stream",
          "text": [
            "(89728, 100, 3)\n",
            "\n",
            "[[[-1.6992974   0.49488014 -0.22048947]\n",
            "  [-1.6991551   0.49488014 -0.2211992 ]\n",
            "  [-1.6990534   0.49488014 -0.2211992 ]\n",
            "  [-1.69895     0.49509194 -0.2211992 ]\n",
            "  [-1.6962934   0.49424475 -0.22219281]\n",
            "  [-1.6961731   0.49318576 -0.22084434]]]\n",
            "[[[-0.63714445  2.7541401   1.1455052 ]\n",
            "  [-0.6370411   2.7359254   1.1438019 ]\n",
            "  [-0.63693607  2.4103904   1.0920634 ]\n",
            "  [-0.6366718   1.1872511   0.7922075 ]\n",
            "  [-0.6365955   0.88247234  0.6001577 ]\n",
            "  [-0.6365176   0.55714905  0.4087467 ]]]\n"
          ],
          "name": "stdout"
        }
      ]
    },
    {
      "metadata": {
        "id": "vFm92XsBiiGO",
        "colab_type": "text"
      },
      "cell_type": "markdown",
      "source": [
        "## Build the model"
      ]
    },
    {
      "metadata": {
        "id": "KsxAe-NaBEid",
        "colab_type": "code",
        "colab": {}
      },
      "cell_type": "code",
      "source": [
        "def build_model(batch_size):\n",
        "    model = tf.keras.Sequential([\n",
        "        tf.keras.layers.GRU(1024, return_sequences=True, stateful=True, input_shape=(None, 3), batch_size=batch_size),\n",
        "        tf.keras.layers.TimeDistributed(tf.keras.layers.Dense(3))\n",
        "    ])\n",
        "    return model"
      ],
      "execution_count": 0,
      "outputs": []
    },
    {
      "metadata": {
        "id": "GE11g2X-efxh",
        "colab_type": "code",
        "outputId": "3b3cbb54-3f74-40be-d61b-2c056341a8ce",
        "colab": {
          "base_uri": "https://localhost:8080/",
          "height": 204
        }
      },
      "cell_type": "code",
      "source": [
        "model = build_model(batch_size=BATCH_SIZE)\n",
        "model.summary()"
      ],
      "execution_count": 16,
      "outputs": [
        {
          "output_type": "stream",
          "text": [
            "_________________________________________________________________\n",
            "Layer (type)                 Output Shape              Param #   \n",
            "=================================================================\n",
            "gru (GRU)                    (64, None, 1024)          3158016   \n",
            "_________________________________________________________________\n",
            "time_distributed (TimeDistri (64, None, 3)             3075      \n",
            "=================================================================\n",
            "Total params: 3,161,091\n",
            "Trainable params: 3,161,091\n",
            "Non-trainable params: 0\n",
            "_________________________________________________________________\n"
          ],
          "name": "stdout"
        }
      ]
    },
    {
      "metadata": {
        "id": "jN6yAvqtWbgO",
        "colab_type": "code",
        "colab": {
          "base_uri": "https://localhost:8080/",
          "height": 298
        },
        "outputId": "d571cda6-c8e9-4e24-8380-af6ed2fd5f7d"
      },
      "cell_type": "code",
      "source": [
        "tf.keras.utils.plot_model(model, to_file='test_keras_plot_model.png', show_shapes=True)\n",
        "IPython.display.Image('test_keras_plot_model.png')"
      ],
      "execution_count": 17,
      "outputs": [
        {
          "output_type": "execute_result",
          "data": {
            "image/png": "[encoded data removed]",
            "text/plain": [
              "<IPython.core.display.Image object>"
            ]
          },
          "metadata": {
            "tags": []
          },
          "execution_count": 17
        }
      ]
    },
    {
      "metadata": {
        "id": "JP5X850FjANF",
        "colab_type": "text"
      },
      "cell_type": "markdown",
      "source": [
        "## Test the model's output (before training)"
      ]
    },
    {
      "metadata": {
        "id": "WdqsUva28s6k",
        "colab_type": "code",
        "outputId": "31dc29c7-d44a-422c-b3e3-56e577d578f7",
        "colab": {
          "base_uri": "https://localhost:8080/",
          "height": 34
        }
      },
      "cell_type": "code",
      "source": [
        "model.input"
      ],
      "execution_count": 18,
      "outputs": [
        {
          "output_type": "execute_result",
          "data": {
            "text/plain": [
              "<tf.Tensor 'gru_input:0' shape=(64, ?, 3) dtype=float32>"
            ]
          },
          "metadata": {
            "tags": []
          },
          "execution_count": 18
        }
      ]
    },
    {
      "metadata": {
        "id": "3eL5DdkcahEl",
        "colab_type": "code",
        "outputId": "283eecb9-7b81-4d9b-d232-4a9c481dc799",
        "colab": {
          "base_uri": "https://localhost:8080/",
          "height": 51
        }
      },
      "cell_type": "code",
      "source": [
        "# Test the shape of the output\n",
        "test_batch = X[:BATCH_SIZE]\n",
        "print('Input batch:', test_batch.shape)\n",
        "test_predictions = model.predict(test_batch, batch_size=BATCH_SIZE)\n",
        "\n",
        "print('Output batch:', test_predictions.shape)\n",
        "\n",
        "model.reset_states()"
      ],
      "execution_count": 19,
      "outputs": [
        {
          "output_type": "stream",
          "text": [
            "Input batch: (64, 100, 3)\n",
            "Output batch: (64, 100, 3)\n"
          ],
          "name": "stdout"
        }
      ]
    },
    {
      "metadata": {
        "id": "smiVENujDAuL",
        "colab_type": "code",
        "colab": {}
      },
      "cell_type": "code",
      "source": [
        "test_batch = scaler.inverse_transform(test_batch)\n",
        "test_predictions = scaler.inverse_transform(test_predictions)"
      ],
      "execution_count": 0,
      "outputs": []
    },
    {
      "metadata": {
        "id": "PrqkzY-0CZ0b",
        "colab_type": "code",
        "outputId": "e94d07ab-5fd1-448f-8ce0-0e10e5c26bde",
        "colab": {
          "base_uri": "https://localhost:8080/",
          "height": 102
        }
      },
      "cell_type": "code",
      "source": [
        "print('Input: \\n', test_batch[0, 0], test_batch[0, 1], test_batch[0, 2], '...')\n",
        "print()\n",
        "print('Next Predictions: \\n', test_predictions[0, 0], test_predictions[0, 1], test_predictions[0, 2], '...')"
      ],
      "execution_count": 21,
      "outputs": [
        {
          "output_type": "stream",
          "text": [
            "Input: \n",
            " [15125.975    -122.39447    37.75153] [15209.975    -122.39447    37.75149] [15269.975    -122.39447    37.75149] ...\n",
            "\n",
            "Next Predictions: \n",
            " [ 1.0336093e+06 -1.2241324e+02  3.7763203e+01] [ 1.04268150e+06 -1.22413506e+02  3.77633095e+01] [ 1.0478972e+06 -1.2241353e+02  3.7763447e+01] ...\n"
          ],
          "name": "stdout"
        }
      ]
    },
    {
      "metadata": {
        "id": "dkkKIrBR2qdl",
        "colab_type": "text"
      },
      "cell_type": "markdown",
      "source": [
        "## Training"
      ]
    },
    {
      "metadata": {
        "id": "H8Ai1h_t2p8h",
        "colab_type": "code",
        "colab": {}
      },
      "cell_type": "code",
      "source": [
        "model.compile(optimizer='adam', loss='mean_absolute_error')"
      ],
      "execution_count": 0,
      "outputs": []
    },
    {
      "metadata": {
        "id": "svDi3JIb2y4-",
        "colab_type": "code",
        "colab": {}
      },
      "cell_type": "code",
      "source": [
        "# Folder for the architecture\n",
        "# Name: List of the layers connected to the parameters by '-',\n",
        "#       dataset that the network was trained on,\n",
        "#       batch size,\n",
        "#       sequence length,\n",
        "#       optimiser,\n",
        "#       loss function,\n",
        "#       learning rate,\n",
        "#       epoch the checkpoint is from\n",
        "checkpoint_path = 'checkpoints/citybased_rnn/GRU-1024_TD-Dense-3_cabspotting_64_100_adam_mae_default_{epoch:02d}.h5'\n",
        "\n",
        "checkpoint_callback = tf.keras.callbacks.ModelCheckpoint(filepath=checkpoint_path)"
      ],
      "execution_count": 0,
      "outputs": []
    },
    {
      "metadata": {
        "id": "uAlrq5LY3niS",
        "colab_type": "code",
        "outputId": "5bf03606-a45c-44f9-c163-2e9ed971da93",
        "colab": {
          "base_uri": "https://localhost:8080/",
          "height": 68
        }
      },
      "cell_type": "code",
      "source": [
        "hist = model.fit(X_train, y_train, epochs=30, batch_size=BATCH_SIZE, shuffle=False, validation_data=(X_val, y_val), callbacks=[checkpoint_callback])"
      ],
      "execution_count": 0,
      "outputs": [
        {
          "output_type": "stream",
          "text": [
            "Train on 89728 samples, validate on 22464 samples\n",
            "Epoch 1/30\n",
            "11584/89728 [==>...........................] - ETA: 7:24 - loss: 0.0673"
          ],
          "name": "stdout"
        }
      ]
    },
    {
      "metadata": {
        "id": "IOokszv-K0KR",
        "colab_type": "text"
      },
      "cell_type": "markdown",
      "source": [
        "## Save and plot the history\n",
        "The history holds information on loss and validiation loss during training."
      ]
    },
    {
      "metadata": {
        "id": "dCYcOLaQ1nKn",
        "colab_type": "code",
        "colab": {}
      },
      "cell_type": "code",
      "source": [
        "with open('histories/citybased_rnn/GRU-1024_TD-Dense-3_cabspotting_64_100_adam_mae_default_30.pkl', 'wb') as file:\n",
        "    pickle.dump(hist.history, file)\n",
        "    print('History saved')"
      ],
      "execution_count": 0,
      "outputs": []
    },
    {
      "metadata": {
        "id": "KXenSIlp2jAz",
        "colab_type": "code",
        "colab": {}
      },
      "cell_type": "code",
      "source": [
        "plt.plot(hist.history['loss'], label='Loss')\n",
        "plt.plot(hist.history['val_loss'], label='Validation Loss')\n",
        "plt.legend()\n",
        "plt.show()"
      ],
      "execution_count": 0,
      "outputs": []
    },
    {
      "metadata": {
        "id": "J1l4J261LCCg",
        "colab_type": "text"
      },
      "cell_type": "markdown",
      "source": [
        "## Load and prepare the trained model for generating data"
      ]
    },
    {
      "metadata": {
        "id": "vHiQ4vD0LGKc",
        "colab_type": "code",
        "colab": {}
      },
      "cell_type": "code",
      "source": [
        "loaded_model = tf.keras.models.load_model('checkpoints/citybased_rnn/GRU-1024_TD-Dense-3_cabspotting_64_100_adam_mae_default_05.h5')"
      ],
      "execution_count": 0,
      "outputs": []
    },
    {
      "metadata": {
        "id": "ndpZGT44LgPd",
        "colab_type": "code",
        "colab": {}
      },
      "cell_type": "code",
      "source": [
        "model = build_model(batch_size=1)\n",
        "\n",
        "weights = loaded_model.get_weights()\n",
        "model.set_weights(weights)"
      ],
      "execution_count": 0,
      "outputs": []
    },
    {
      "metadata": {
        "id": "6mUJUd4jLm_A",
        "colab_type": "code",
        "outputId": "f68f4572-b7a9-4e71-bc44-f89dcd8e8861",
        "colab": {
          "base_uri": "https://localhost:8080/",
          "height": 204
        }
      },
      "cell_type": "code",
      "source": [
        "model.summary()"
      ],
      "execution_count": 0,
      "outputs": [
        {
          "output_type": "stream",
          "text": [
            "_________________________________________________________________\n",
            "Layer (type)                 Output Shape              Param #   \n",
            "=================================================================\n",
            "gru_1 (GRU)                  (1, None, 1024)           3158016   \n",
            "_________________________________________________________________\n",
            "time_distributed_1 (TimeDist (1, None, 3)              3075      \n",
            "=================================================================\n",
            "Total params: 3,161,091\n",
            "Trainable params: 3,161,091\n",
            "Non-trainable params: 0\n",
            "_________________________________________________________________\n"
          ],
          "name": "stdout"
        }
      ]
    },
    {
      "metadata": {
        "id": "8CFJhAhyRSoR",
        "colab_type": "text"
      },
      "cell_type": "markdown",
      "source": [
        "## Generate geolocation data of one entity using the trained model\n",
        "In the end the generated data is saved to disk in order to be reused from a different notebook."
      ]
    },
    {
      "metadata": {
        "id": "aFWC2EknLpR_",
        "colab_type": "code",
        "colab": {}
      },
      "cell_type": "code",
      "source": [
        "N_GENERATE = 1000\n",
        "\n",
        "start = [324.0, -122.390085, 37.789910]    # Google Offices in San Francisco: 37.789910, -122.390085\n",
        "generated = np.array([start]).astype(np.float32)\n",
        "\n",
        "model.reset_states()\n",
        "\n",
        "for i in range(1, N_GENERATE):\n",
        "    input = generated[-1:]\n",
        "    input = scaler.transform(input)\n",
        "    input = np.array([input])\n",
        "    \n",
        "    prediction = model.predict(input, batch_size=1)\n",
        "    \n",
        "    prediction = np.squeeze(prediction, axis=0)\n",
        "    prediction = scaler.inverse_transform(prediction)\n",
        "    \n",
        "    generated = np.concatenate([generated, prediction])"
      ],
      "execution_count": 0,
      "outputs": []
    },
    {
      "metadata": {
        "id": "-lg06MD4Qg82",
        "colab_type": "code",
        "outputId": "22a83e06-4732-4cc4-d654-c31a1cd2db7e",
        "colab": {
          "base_uri": "https://localhost:8080/",
          "height": 34
        }
      },
      "cell_type": "code",
      "source": [
        "generated.shape"
      ],
      "execution_count": 0,
      "outputs": [
        {
          "output_type": "execute_result",
          "data": {
            "text/plain": [
              "(1000, 3)"
            ]
          },
          "metadata": {
            "tags": []
          },
          "execution_count": 34
        }
      ]
    },
    {
      "metadata": {
        "id": "-ElKGEsXQjAu",
        "colab_type": "code",
        "outputId": "d71f6a73-3167-47e9-aeb1-c98c6f27596e",
        "colab": {
          "base_uri": "https://localhost:8080/",
          "height": 136
        }
      },
      "cell_type": "code",
      "source": [
        "generated"
      ],
      "execution_count": 0,
      "outputs": [
        {
          "output_type": "execute_result",
          "data": {
            "text/plain": [
              "array([[ 3.24000000e+02, -1.22390083e+02,  3.77899094e+01],\n",
              "       [-3.02492656e+04, -1.22387428e+02,  3.77959785e+01],\n",
              "       [-5.41318281e+04, -1.22385445e+02,  3.78016281e+01],\n",
              "       ...,\n",
              "       [-1.29628850e+06, -1.22439728e+02,  3.76924286e+01],\n",
              "       [-1.29628400e+06, -1.22439728e+02,  3.76924057e+01],\n",
              "       [-1.29627975e+06, -1.22439728e+02,  3.76923828e+01]], dtype=float32)"
            ]
          },
          "metadata": {
            "tags": []
          },
          "execution_count": 35
        }
      ]
    },
    {
      "metadata": {
        "id": "747Ob_KSReL5",
        "colab_type": "code",
        "outputId": "fc87f8a1-f6c1-4b40-e0e8-4b237ff40576",
        "colab": {
          "base_uri": "https://localhost:8080/",
          "height": 34
        }
      },
      "cell_type": "code",
      "source": [
        "with open('generated/citybased_rnn/test_00.pkl', 'wb') as file:\n",
        "    pickle.dump(generated, file)\n",
        "    print('Generated data saved')"
      ],
      "execution_count": 0,
      "outputs": [
        {
          "output_type": "stream",
          "text": [
            "Generated data saved\n"
          ],
          "name": "stdout"
        }
      ]
    }
  ]
}