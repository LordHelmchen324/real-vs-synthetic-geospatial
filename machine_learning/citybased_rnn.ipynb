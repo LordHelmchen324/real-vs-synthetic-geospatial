{
  "nbformat": 4,
  "nbformat_minor": 0,
  "metadata": {
    "colab": {
      "name": "citybased_rnn.ipynb",
      "version": "0.3.2",
      "provenance": [],
      "collapsed_sections": []
    },
    "kernelspec": {
      "name": "python3",
      "display_name": "Python 3"
    },
    "accelerator": "GPU"
  },
  "cells": [
    {
      "metadata": {
        "id": "BFLtqc6hXszW",
        "colab_type": "code",
        "outputId": "69657cf4-6559-4ab7-8f66-e52225c30ecf",
        "colab": {
          "base_uri": "https://localhost:8080/",
          "height": 51
        }
      },
      "cell_type": "code",
      "source": [
        "# Setup of libraries, mounting the Google Drive etc.\n",
        "\n",
        "import os\n",
        "import sys\n",
        "from google.colab import drive\n",
        "drive.mount('/content/gdrive')\n",
        "os.chdir('/content/gdrive/My Drive/Colab Notebooks')\n",
        "\n",
        "import matplotlib.pyplot as plt\n",
        "import numpy as np\n",
        "import pandas as pd\n",
        "import pickle\n",
        "\n",
        "import tensorflow as tf\n",
        "\n",
        "import utils\n",
        "import IPython\n",
        "\n",
        "print('The current working directory is:', os.getcwd())"
      ],
      "execution_count": 1,
      "outputs": [
        {
          "output_type": "stream",
          "text": [
            "Drive already mounted at /content/gdrive; to attempt to forcibly remount, call drive.mount(\"/content/gdrive\", force_remount=True).\n",
            "The current working directory is: /content/gdrive/My Drive/Colab Notebooks\n"
          ],
          "name": "stdout"
        }
      ]
    },
    {
      "metadata": {
        "id": "F4RQ7cebj9j0",
        "colab_type": "text"
      },
      "cell_type": "markdown",
      "source": [
        "## Define the parameters\n",
        "... meaning paramters like which dataset to train on, batch size and so on and so forth"
      ]
    },
    {
      "metadata": {
        "id": "RAvJyjynkIyO",
        "colab_type": "code",
        "colab": {}
      },
      "cell_type": "code",
      "source": [
        "DATASET_NAME = 'mdc'\n",
        "\n",
        "setup_string = 'GRU-1024_TD-Dense-3_{dataset}_64_100_adam_mae_default'.format(dataset=DATASET_NAME)"
      ],
      "execution_count": 0,
      "outputs": []
    },
    {
      "metadata": {
        "id": "lHDRiK7LYw2s",
        "colab_type": "text"
      },
      "cell_type": "markdown",
      "source": [
        "## Read the dataset from `.pkl` file\n"
      ]
    },
    {
      "metadata": {
        "id": "rxQz-vmJYEGC",
        "colab_type": "code",
        "outputId": "3f7bafaa-51aa-47c4-94d6-0e7e89707d1a",
        "colab": {
          "base_uri": "https://localhost:8080/",
          "height": 235
        }
      },
      "cell_type": "code",
      "source": [
        "df = pd.read_pickle('datasets/{name}.pkl'.format(name=DATASET_NAME))\n",
        "df.head()"
      ],
      "execution_count": 3,
      "outputs": [
        {
          "output_type": "execute_result",
          "data": {
            "text/html": [
              "<div>\n",
              "<style scoped>\n",
              "    .dataframe tbody tr th:only-of-type {\n",
              "        vertical-align: middle;\n",
              "    }\n",
              "\n",
              "    .dataframe tbody tr th {\n",
              "        vertical-align: top;\n",
              "    }\n",
              "\n",
              "    .dataframe thead th {\n",
              "        text-align: right;\n",
              "    }\n",
              "</style>\n",
              "<table border=\"1\" class=\"dataframe\">\n",
              "  <thead>\n",
              "    <tr style=\"text-align: right;\">\n",
              "      <th></th>\n",
              "      <th></th>\n",
              "      <th>latitude</th>\n",
              "      <th>longitude</th>\n",
              "      <th>time_zone</th>\n",
              "      <th>type</th>\n",
              "    </tr>\n",
              "    <tr>\n",
              "      <th>user</th>\n",
              "      <th>time</th>\n",
              "      <th></th>\n",
              "      <th></th>\n",
              "      <th></th>\n",
              "      <th></th>\n",
              "    </tr>\n",
              "  </thead>\n",
              "  <tbody>\n",
              "    <tr>\n",
              "      <th rowspan=\"5\" valign=\"top\">5448</th>\n",
              "      <th>2009-10-31 15:55:40</th>\n",
              "      <td>6.632476</td>\n",
              "      <td>46.520321</td>\n",
              "      <td>-7200</td>\n",
              "      <td>gps</td>\n",
              "    </tr>\n",
              "    <tr>\n",
              "      <th>2009-10-31 16:34:37</th>\n",
              "      <td>6.592562</td>\n",
              "      <td>46.523943</td>\n",
              "      <td>-7200</td>\n",
              "      <td>gps</td>\n",
              "    </tr>\n",
              "    <tr>\n",
              "      <th>2009-10-31 16:34:46</th>\n",
              "      <td>6.594179</td>\n",
              "      <td>46.524187</td>\n",
              "      <td>-7200</td>\n",
              "      <td>gps</td>\n",
              "    </tr>\n",
              "    <tr>\n",
              "      <th>2009-10-31 16:34:46</th>\n",
              "      <td>6.594179</td>\n",
              "      <td>46.524187</td>\n",
              "      <td>-7200</td>\n",
              "      <td>gps</td>\n",
              "    </tr>\n",
              "    <tr>\n",
              "      <th>2009-10-31 16:34:57</th>\n",
              "      <td>6.596068</td>\n",
              "      <td>46.523909</td>\n",
              "      <td>-7200</td>\n",
              "      <td>gps</td>\n",
              "    </tr>\n",
              "  </tbody>\n",
              "</table>\n",
              "</div>"
            ],
            "text/plain": [
              "                          latitude  longitude  time_zone type\n",
              "user time                                                    \n",
              "5448 2009-10-31 15:55:40  6.632476  46.520321      -7200  gps\n",
              "     2009-10-31 16:34:37  6.592562  46.523943      -7200  gps\n",
              "     2009-10-31 16:34:46  6.594179  46.524187      -7200  gps\n",
              "     2009-10-31 16:34:46  6.594179  46.524187      -7200  gps\n",
              "     2009-10-31 16:34:57  6.596068  46.523909      -7200  gps"
            ]
          },
          "metadata": {
            "tags": []
          },
          "execution_count": 3
        }
      ]
    },
    {
      "metadata": {
        "id": "SRCEhqT6ZLYO",
        "colab_type": "text"
      },
      "cell_type": "markdown",
      "source": [
        "## Convert the dataset to a mapping of users to the strings of their movements"
      ]
    },
    {
      "metadata": {
        "id": "7NmsLO-RC0Lb",
        "colab_type": "code",
        "outputId": "76aa06bc-64af-42fb-8d17-203f835926de",
        "colab": {
          "base_uri": "https://localhost:8080/",
          "height": 136
        }
      },
      "cell_type": "code",
      "source": [
        "df = utils.records_to_user_geolcation(df)\n",
        "df.head()"
      ],
      "execution_count": 4,
      "outputs": [
        {
          "output_type": "execute_result",
          "data": {
            "text/plain": [
              "user\n",
              "5448    [[5221507.0, 46.520321080100004, 6.63247568099...\n",
              "5449    [[6511.0, 46.516730358000004, 6.49393829669000...\n",
              "5450    [[1159812.0, 46.51, 6.56], [1160142.0, 46.51, ...\n",
              "5451    [[0.0, 46.521, 6.621], [0.0, 46.521, 6.621], [...\n",
              "5462    [[1142534.0, 46.52, 6.564], [1142544.0, 46.52,...\n",
              "dtype: object"
            ]
          },
          "metadata": {
            "tags": []
          },
          "execution_count": 4
        }
      ]
    },
    {
      "metadata": {
        "id": "G7jbyag-Ztfr",
        "colab_type": "text"
      },
      "cell_type": "markdown",
      "source": [
        "## Concatenate all user strings of data to one complete string of all"
      ]
    },
    {
      "metadata": {
        "id": "rLm4S-MyDKdm",
        "colab_type": "code",
        "outputId": "ecf75429-55bb-474b-dd8c-ee7ae05093fd",
        "colab": {
          "base_uri": "https://localhost:8080/",
          "height": 170
        }
      },
      "cell_type": "code",
      "source": [
        "data = utils.user_geolocation_to_single_sequence(df)\n",
        "\n",
        "print(data.shape)\n",
        "print()\n",
        "print(data)"
      ],
      "execution_count": 5,
      "outputs": [
        {
          "output_type": "stream",
          "text": [
            "(13678618, 3)\n",
            "\n",
            "[[5.22150700e+06 4.65203211e+01 6.63247568e+00]\n",
            " [5.22384400e+06 4.65239433e+01 6.59256200e+00]\n",
            " [5.22385300e+06 4.65241869e+01 6.59417870e+00]\n",
            " ...\n",
            " [3.36339640e+07 4.66735664e+01 6.59025320e+00]\n",
            " [3.36339740e+07 4.66735871e+01 6.59024306e+00]\n",
            " [3.36339840e+07 4.66736894e+01 6.59020584e+00]]\n"
          ],
          "name": "stdout"
        }
      ]
    },
    {
      "metadata": {
        "id": "tgh9Jnhbvo7a",
        "colab_type": "text"
      },
      "cell_type": "markdown",
      "source": [
        "## Convert the data to 32-bit floats\n",
        "This is to correct an error I got earlier. Apparently the GRU layers can't handle 64-bit integers (doubles) as input."
      ]
    },
    {
      "metadata": {
        "id": "WY07YNcWv2RS",
        "colab_type": "code",
        "outputId": "93afca9f-b4db-48a7-ad45-27f5813ab5f8",
        "colab": {
          "base_uri": "https://localhost:8080/",
          "height": 34
        }
      },
      "cell_type": "code",
      "source": [
        "print('Before: ', data.dtype)"
      ],
      "execution_count": 6,
      "outputs": [
        {
          "output_type": "stream",
          "text": [
            "Before:  float64\n"
          ],
          "name": "stdout"
        }
      ]
    },
    {
      "metadata": {
        "id": "l9yt0kQWwH-h",
        "colab_type": "code",
        "colab": {}
      },
      "cell_type": "code",
      "source": [
        "data = data.astype(np.float32)"
      ],
      "execution_count": 0,
      "outputs": []
    },
    {
      "metadata": {
        "id": "3_DHJn_9waE1",
        "colab_type": "code",
        "outputId": "47d64573-31e2-4d59-f449-a3457d7188d6",
        "colab": {
          "base_uri": "https://localhost:8080/",
          "height": 34
        }
      },
      "cell_type": "code",
      "source": [
        "print('After: ', data.dtype)"
      ],
      "execution_count": 8,
      "outputs": [
        {
          "output_type": "stream",
          "text": [
            "After:  float32\n"
          ],
          "name": "stdout"
        }
      ]
    },
    {
      "metadata": {
        "id": "o_C9xIyVLmsZ",
        "colab_type": "text"
      },
      "cell_type": "markdown",
      "source": [
        "## Reshape and -order the data for input into the model (including X and y split)\n"
      ]
    },
    {
      "metadata": {
        "id": "S1cCkuVe9kfY",
        "colab_type": "code",
        "outputId": "c5e62266-1df9-491d-eaa1-1ff9489af134",
        "colab": {
          "base_uri": "https://localhost:8080/",
          "height": 34
        }
      },
      "cell_type": "code",
      "source": [
        "data.shape"
      ],
      "execution_count": 9,
      "outputs": [
        {
          "output_type": "execute_result",
          "data": {
            "text/plain": [
              "(13678618, 3)"
            ]
          },
          "metadata": {
            "tags": []
          },
          "execution_count": 9
        }
      ]
    },
    {
      "metadata": {
        "id": "80Fa7dg5D9cG",
        "colab_type": "code",
        "outputId": "47f940e4-4d4f-4f39-a668-5d855b58d23c",
        "colab": {
          "base_uri": "https://localhost:8080/",
          "height": 51
        }
      },
      "cell_type": "code",
      "source": [
        "BATCH_SIZE = 64\n",
        "SEQ_LENGTH = 100\n",
        "\n",
        "n_batches, X, y = utils.reshape_single_sequence_to_rnn_Xy(data, BATCH_SIZE, SEQ_LENGTH)\n",
        "\n",
        "print('X:', X.shape)\n",
        "print('y:', y.shape)"
      ],
      "execution_count": 10,
      "outputs": [
        {
          "output_type": "stream",
          "text": [
            "X: (136768, 100, 3)\n",
            "y: (136768, 100, 3)\n"
          ],
          "name": "stdout"
        }
      ]
    },
    {
      "metadata": {
        "id": "Z8TZ9eBOAgHG",
        "colab_type": "text"
      },
      "cell_type": "markdown",
      "source": [
        "## Split into training and validations sets"
      ]
    },
    {
      "metadata": {
        "id": "1KRfAnl2AftS",
        "colab_type": "code",
        "outputId": "bb192aea-be09-4fca-bfba-fdc511f4787a",
        "colab": {
          "base_uri": "https://localhost:8080/",
          "height": 51
        }
      },
      "cell_type": "code",
      "source": [
        "n_train = int(n_batches * 0.8) * BATCH_SIZE\n",
        "X_train = X[:n_train]\n",
        "y_train = y[:n_train]\n",
        "X_val = X[n_train:]\n",
        "y_val = y[n_train:]\n",
        "\n",
        "print('Train:', X_train.shape, y_train.shape)\n",
        "print('Validation:', X_val.shape, y_val.shape)"
      ],
      "execution_count": 11,
      "outputs": [
        {
          "output_type": "stream",
          "text": [
            "Train: (109376, 100, 3) (109376, 100, 3)\n",
            "Validation: (27392, 100, 3) (27392, 100, 3)\n"
          ],
          "name": "stdout"
        }
      ]
    },
    {
      "metadata": {
        "id": "noA-JMxmZ9k0",
        "colab_type": "text"
      },
      "cell_type": "markdown",
      "source": [
        "## Standardisation\n",
        "All three features in the data are scaled to have a `mean = 0` and a `standard deviation = 1`.\n",
        "\n",
        "The Scaler is also saved to disk, so it can later be resued in a different Notebook.\n",
        "\n",
        "The Scaler is fitted only to the training data, not the validation / test data."
      ]
    },
    {
      "metadata": {
        "id": "4eXEW0wkH2_W",
        "colab_type": "code",
        "outputId": "916eac8c-5ef5-4f6a-85d4-96d7d6c54881",
        "colab": {
          "base_uri": "https://localhost:8080/",
          "height": 51
        }
      },
      "cell_type": "code",
      "source": [
        "from sklearn import preprocessing\n",
        "\n",
        "scaler = preprocessing.StandardScaler()\n",
        "scaler.fit(np.array([X_train[:, :, 0].reshape(-1), X_train[:, :, 1].reshape(-1), X_train[:, :, 2].reshape(-1)]).transpose())\n",
        "\n",
        "print('Means: %f %f %f' % (scaler.mean_[0], scaler.mean_[1], scaler.mean_[2]))\n",
        "print('Standard deviations: %f %f %f' % (scaler.var_[0], scaler.var_[1], scaler.var_[2]))"
      ],
      "execution_count": 12,
      "outputs": [
        {
          "output_type": "stream",
          "text": [
            "Means: 23706651.346612 46.436004 6.887024\n",
            "Standard deviations: 142654134288384.000000 0.059310 0.203860\n"
          ],
          "name": "stdout"
        }
      ]
    },
    {
      "metadata": {
        "id": "KW0jCkI2f1WZ",
        "colab_type": "code",
        "outputId": "8ccc27b7-d0b1-46cf-ddd7-24a4299f2e81",
        "colab": {
          "base_uri": "https://localhost:8080/",
          "height": 34
        }
      },
      "cell_type": "code",
      "source": [
        "with open('scalers/citybased_rnn/' + setup_string + '.pkl', 'wb') as file:\n",
        "    pickle.dump(scaler, file)\n",
        "    print('Scaler saved')"
      ],
      "execution_count": 13,
      "outputs": [
        {
          "output_type": "stream",
          "text": [
            "Scaler saved\n"
          ],
          "name": "stdout"
        }
      ]
    },
    {
      "metadata": {
        "id": "ihZOxir8FmUE",
        "colab_type": "code",
        "colab": {}
      },
      "cell_type": "code",
      "source": [
        "for i in range(len(X_train)):\n",
        "    X_train[i] = scaler.transform(X_train[i])\n",
        "    y_train[i] = scaler.transform(y_train[i])\n",
        "\n",
        "for i in range(len(X_val)):\n",
        "    X_val[i] = scaler.transform(X_val[i])\n",
        "    y_val[i] = scaler.transform(y_val[i])"
      ],
      "execution_count": 0,
      "outputs": []
    },
    {
      "metadata": {
        "id": "-I6prUGqKnHz",
        "colab_type": "code",
        "outputId": "232aa71f-7fe4-4f43-b6db-880680dc6fbb",
        "colab": {
          "base_uri": "https://localhost:8080/",
          "height": 255
        }
      },
      "cell_type": "code",
      "source": [
        "print(X_train.shape)\n",
        "print()\n",
        "print(X_train[:1, :6])\n",
        "print(X_val[:1, :6])"
      ],
      "execution_count": 15,
      "outputs": [
        {
          "output_type": "stream",
          "text": [
            "(109376, 100, 3)\n",
            "\n",
            "[[[-1.5476781   0.34622005 -0.5637724 ]\n",
            "  [-1.5474826   0.36110058 -0.65217304]\n",
            "  [-1.5474818   0.3620874  -0.6485929 ]\n",
            "  [-1.5474818   0.3620874  -0.6485929 ]\n",
            "  [-1.547481    0.3609596  -0.6444076 ]\n",
            "  [-1.547481    0.3609596  -0.6444076 ]]]\n",
            "[[[-1.6141281   0.34490427 -0.7132176 ]\n",
            "  [-1.61322     0.34490427 -0.711003  ]\n",
            "  [-1.6132191   0.34490427 -0.711003  ]\n",
            "  [-1.6132183   0.34490427 -0.7132176 ]\n",
            "  [-1.6132175   0.34490427 -0.711003  ]\n",
            "  [-1.6130643   0.35066852 -0.70833   ]]]\n"
          ],
          "name": "stdout"
        }
      ]
    },
    {
      "metadata": {
        "id": "vFm92XsBiiGO",
        "colab_type": "text"
      },
      "cell_type": "markdown",
      "source": [
        "## Build the model"
      ]
    },
    {
      "metadata": {
        "id": "KsxAe-NaBEid",
        "colab_type": "code",
        "colab": {}
      },
      "cell_type": "code",
      "source": [
        "def build_model(batch_size):\n",
        "    model = tf.keras.Sequential([\n",
        "        tf.keras.layers.GRU(1024, return_sequences=True, stateful=True, input_shape=(None, 3), batch_size=batch_size),\n",
        "        tf.keras.layers.TimeDistributed(tf.keras.layers.Dense(3))\n",
        "    ])\n",
        "    return model"
      ],
      "execution_count": 0,
      "outputs": []
    },
    {
      "metadata": {
        "id": "GE11g2X-efxh",
        "colab_type": "code",
        "outputId": "298affd1-e78f-4194-d5bd-3326f5b3f042",
        "colab": {
          "base_uri": "https://localhost:8080/",
          "height": 204
        }
      },
      "cell_type": "code",
      "source": [
        "model = build_model(batch_size=BATCH_SIZE)\n",
        "model.summary()"
      ],
      "execution_count": 17,
      "outputs": [
        {
          "output_type": "stream",
          "text": [
            "_________________________________________________________________\n",
            "Layer (type)                 Output Shape              Param #   \n",
            "=================================================================\n",
            "gru (GRU)                    (64, None, 1024)          3158016   \n",
            "_________________________________________________________________\n",
            "time_distributed (TimeDistri (64, None, 3)             3075      \n",
            "=================================================================\n",
            "Total params: 3,161,091\n",
            "Trainable params: 3,161,091\n",
            "Non-trainable params: 0\n",
            "_________________________________________________________________\n"
          ],
          "name": "stdout"
        }
      ]
    },
    {
      "metadata": {
        "id": "jN6yAvqtWbgO",
        "colab_type": "code",
        "outputId": "caaa6fdc-024d-422a-86de-2eb0ecf7c27b",
        "colab": {
          "base_uri": "https://localhost:8080/",
          "height": 298
        }
      },
      "cell_type": "code",
      "source": [
        "tf.keras.utils.plot_model(model, to_file='test_keras_plot_model.png', show_shapes=True)\n",
        "IPython.display.Image('test_keras_plot_model.png')"
      ],
      "execution_count": 18,
      "outputs": [
        {
          "output_type": "execute_result",
          "data": {
            "image/png": "[encoded data removed]",
            "text/plain": [
              "<IPython.core.display.Image object>"
            ]
          },
          "metadata": {
            "tags": []
          },
          "execution_count": 18
        }
      ]
    },
    {
      "metadata": {
        "id": "JP5X850FjANF",
        "colab_type": "text"
      },
      "cell_type": "markdown",
      "source": [
        "## Test the model's output (before training)"
      ]
    },
    {
      "metadata": {
        "id": "WdqsUva28s6k",
        "colab_type": "code",
        "outputId": "26ce0761-73ef-49ba-ffb6-e1c43770f469",
        "colab": {
          "base_uri": "https://localhost:8080/",
          "height": 34
        }
      },
      "cell_type": "code",
      "source": [
        "model.input"
      ],
      "execution_count": 19,
      "outputs": [
        {
          "output_type": "execute_result",
          "data": {
            "text/plain": [
              "<tf.Tensor 'gru_input:0' shape=(64, ?, 3) dtype=float32>"
            ]
          },
          "metadata": {
            "tags": []
          },
          "execution_count": 19
        }
      ]
    },
    {
      "metadata": {
        "id": "3eL5DdkcahEl",
        "colab_type": "code",
        "outputId": "fc556348-1657-4691-b387-91849ee09ec1",
        "colab": {
          "base_uri": "https://localhost:8080/",
          "height": 51
        }
      },
      "cell_type": "code",
      "source": [
        "# Test the shape of the output\n",
        "test_batch = X[:BATCH_SIZE]\n",
        "print('Input batch:', test_batch.shape)\n",
        "test_predictions = model.predict(test_batch, batch_size=BATCH_SIZE)\n",
        "\n",
        "print('Output batch:', test_predictions.shape)\n",
        "\n",
        "model.reset_states()"
      ],
      "execution_count": 20,
      "outputs": [
        {
          "output_type": "stream",
          "text": [
            "Input batch: (64, 100, 3)\n",
            "Output batch: (64, 100, 3)\n"
          ],
          "name": "stdout"
        }
      ]
    },
    {
      "metadata": {
        "id": "smiVENujDAuL",
        "colab_type": "code",
        "colab": {}
      },
      "cell_type": "code",
      "source": [
        "test_batch = scaler.inverse_transform(test_batch)\n",
        "test_predictions = scaler.inverse_transform(test_predictions)"
      ],
      "execution_count": 0,
      "outputs": []
    },
    {
      "metadata": {
        "id": "PrqkzY-0CZ0b",
        "colab_type": "code",
        "outputId": "36643027-7cb0-444c-9d24-66e35afff02a",
        "colab": {
          "base_uri": "https://localhost:8080/",
          "height": 102
        }
      },
      "cell_type": "code",
      "source": [
        "print('Input: \\n', test_batch[0, 0], test_batch[0, 1], test_batch[0, 2], '...')\n",
        "print()\n",
        "print('Next Predictions: \\n', test_predictions[0, 0], test_predictions[0, 1], test_predictions[0, 2], '...')"
      ],
      "execution_count": 22,
      "outputs": [
        {
          "output_type": "stream",
          "text": [
            "Input: \n",
            " [5.2215075e+06 4.6520321e+01 6.6324759e+00] [5.2238435e+06 4.6523945e+01 6.5925622e+00] [5.2238535e+06 4.6524185e+01 6.5941787e+00] ...\n",
            "\n",
            "Next Predictions: \n",
            " [2.3591860e+07 4.6433022e+01 6.8742285e+00] [2.3600062e+07 4.6431149e+01 6.8703837e+00] [2.3612056e+07 4.6430153e+01 6.8691864e+00] ...\n"
          ],
          "name": "stdout"
        }
      ]
    },
    {
      "metadata": {
        "id": "dkkKIrBR2qdl",
        "colab_type": "text"
      },
      "cell_type": "markdown",
      "source": [
        "## Training"
      ]
    },
    {
      "metadata": {
        "id": "H8Ai1h_t2p8h",
        "colab_type": "code",
        "colab": {}
      },
      "cell_type": "code",
      "source": [
        "model.compile(optimizer='adam', loss='mean_absolute_error')"
      ],
      "execution_count": 0,
      "outputs": []
    },
    {
      "metadata": {
        "id": "svDi3JIb2y4-",
        "colab_type": "code",
        "colab": {}
      },
      "cell_type": "code",
      "source": [
        "# Folder for the architecture\n",
        "# Name: List of the layers connected to the parameters by '-',\n",
        "#       dataset that the network was trained on,\n",
        "#       batch size,\n",
        "#       sequence length,\n",
        "#       optimiser,\n",
        "#       loss function,\n",
        "#       learning rate,\n",
        "#       epoch the checkpoint is from\n",
        "checkpoint_path = 'checkpoints/citybased_rnn/' + setup_string + '_{epoch:02d}.h5'\n",
        "\n",
        "checkpoint_callback = tf.keras.callbacks.ModelCheckpoint(filepath=checkpoint_path)"
      ],
      "execution_count": 0,
      "outputs": []
    },
    {
      "metadata": {
        "id": "uAlrq5LY3niS",
        "colab_type": "code",
        "outputId": "ae8e0304-2372-4d6b-db5b-5a6850c3b69e",
        "colab": {
          "base_uri": "https://localhost:8080/",
          "height": 68
        }
      },
      "cell_type": "code",
      "source": [
        "hist = model.fit(X_train, y_train, epochs=30, batch_size=BATCH_SIZE, shuffle=False, validation_data=(X_val, y_val), callbacks=[checkpoint_callback])"
      ],
      "execution_count": 0,
      "outputs": [
        {
          "output_type": "stream",
          "text": [
            "Train on 109376 samples, validate on 27392 samples\n",
            "Epoch 1/30\n",
            " 43520/109376 [==========>...................] - ETA: 6:08 - loss: 0.0182"
          ],
          "name": "stdout"
        }
      ]
    },
    {
      "metadata": {
        "id": "IOokszv-K0KR",
        "colab_type": "text"
      },
      "cell_type": "markdown",
      "source": [
        "## Save and plot the history\n",
        "The history holds information on loss and validiation loss during training."
      ]
    },
    {
      "metadata": {
        "id": "dCYcOLaQ1nKn",
        "colab_type": "code",
        "colab": {}
      },
      "cell_type": "code",
      "source": [
        "with open('histories/citybased_rnn/' + setup_string + '_30.pkl', 'wb') as file:\n",
        "    pickle.dump(hist.history, file)\n",
        "    print('History saved')"
      ],
      "execution_count": 0,
      "outputs": []
    },
    {
      "metadata": {
        "id": "KXenSIlp2jAz",
        "colab_type": "code",
        "colab": {}
      },
      "cell_type": "code",
      "source": [
        "plt.plot(hist.history['loss'], label='Loss')\n",
        "plt.plot(hist.history['val_loss'], label='Validation Loss')\n",
        "plt.legend()\n",
        "plt.show()"
      ],
      "execution_count": 0,
      "outputs": []
    },
    {
      "metadata": {
        "id": "J1l4J261LCCg",
        "colab_type": "text"
      },
      "cell_type": "markdown",
      "source": [
        "## Load and prepare the trained model for generating data"
      ]
    },
    {
      "metadata": {
        "id": "vHiQ4vD0LGKc",
        "colab_type": "code",
        "colab": {}
      },
      "cell_type": "code",
      "source": [
        "loaded_model = tf.keras.models.load_model('checkpoints/citybased_rnn/GRU-1024_TD-Dense-3_cabspotting_64_100_adam_mae_default_05.h5')"
      ],
      "execution_count": 0,
      "outputs": []
    },
    {
      "metadata": {
        "id": "ndpZGT44LgPd",
        "colab_type": "code",
        "colab": {}
      },
      "cell_type": "code",
      "source": [
        "model = build_model(batch_size=1)\n",
        "\n",
        "weights = loaded_model.get_weights()\n",
        "model.set_weights(weights)"
      ],
      "execution_count": 0,
      "outputs": []
    },
    {
      "metadata": {
        "id": "6mUJUd4jLm_A",
        "colab_type": "code",
        "outputId": "f68f4572-b7a9-4e71-bc44-f89dcd8e8861",
        "colab": {
          "base_uri": "https://localhost:8080/",
          "height": 204
        }
      },
      "cell_type": "code",
      "source": [
        "model.summary()"
      ],
      "execution_count": 0,
      "outputs": [
        {
          "output_type": "stream",
          "text": [
            "_________________________________________________________________\n",
            "Layer (type)                 Output Shape              Param #   \n",
            "=================================================================\n",
            "gru_1 (GRU)                  (1, None, 1024)           3158016   \n",
            "_________________________________________________________________\n",
            "time_distributed_1 (TimeDist (1, None, 3)              3075      \n",
            "=================================================================\n",
            "Total params: 3,161,091\n",
            "Trainable params: 3,161,091\n",
            "Non-trainable params: 0\n",
            "_________________________________________________________________\n"
          ],
          "name": "stdout"
        }
      ]
    },
    {
      "metadata": {
        "id": "8CFJhAhyRSoR",
        "colab_type": "text"
      },
      "cell_type": "markdown",
      "source": [
        "## Generate geolocation data of one entity using the trained model\n",
        "In the end the generated data is saved to disk in order to be reused from a different notebook."
      ]
    },
    {
      "metadata": {
        "id": "aFWC2EknLpR_",
        "colab_type": "code",
        "colab": {}
      },
      "cell_type": "code",
      "source": [
        "N_GENERATE = 1000\n",
        "\n",
        "start = [324.0, -122.390085, 37.789910]    # Google Offices in San Francisco: 37.789910, -122.390085\n",
        "generated = np.array([start]).astype(np.float32)\n",
        "\n",
        "model.reset_states()\n",
        "\n",
        "for i in range(1, N_GENERATE):\n",
        "    input = generated[-1:]\n",
        "    input = scaler.transform(input)\n",
        "    input = np.array([input])\n",
        "    \n",
        "    prediction = model.predict(input, batch_size=1)\n",
        "    \n",
        "    prediction = np.squeeze(prediction, axis=0)\n",
        "    prediction = scaler.inverse_transform(prediction)\n",
        "    \n",
        "    generated = np.concatenate([generated, prediction])"
      ],
      "execution_count": 0,
      "outputs": []
    },
    {
      "metadata": {
        "id": "-lg06MD4Qg82",
        "colab_type": "code",
        "outputId": "22a83e06-4732-4cc4-d654-c31a1cd2db7e",
        "colab": {
          "base_uri": "https://localhost:8080/",
          "height": 34
        }
      },
      "cell_type": "code",
      "source": [
        "generated.shape"
      ],
      "execution_count": 0,
      "outputs": [
        {
          "output_type": "execute_result",
          "data": {
            "text/plain": [
              "(1000, 3)"
            ]
          },
          "metadata": {
            "tags": []
          },
          "execution_count": 34
        }
      ]
    },
    {
      "metadata": {
        "id": "-ElKGEsXQjAu",
        "colab_type": "code",
        "outputId": "d71f6a73-3167-47e9-aeb1-c98c6f27596e",
        "colab": {
          "base_uri": "https://localhost:8080/",
          "height": 136
        }
      },
      "cell_type": "code",
      "source": [
        "generated"
      ],
      "execution_count": 0,
      "outputs": [
        {
          "output_type": "execute_result",
          "data": {
            "text/plain": [
              "array([[ 3.24000000e+02, -1.22390083e+02,  3.77899094e+01],\n",
              "       [-3.02492656e+04, -1.22387428e+02,  3.77959785e+01],\n",
              "       [-5.41318281e+04, -1.22385445e+02,  3.78016281e+01],\n",
              "       ...,\n",
              "       [-1.29628850e+06, -1.22439728e+02,  3.76924286e+01],\n",
              "       [-1.29628400e+06, -1.22439728e+02,  3.76924057e+01],\n",
              "       [-1.29627975e+06, -1.22439728e+02,  3.76923828e+01]], dtype=float32)"
            ]
          },
          "metadata": {
            "tags": []
          },
          "execution_count": 35
        }
      ]
    },
    {
      "metadata": {
        "id": "747Ob_KSReL5",
        "colab_type": "code",
        "outputId": "fc87f8a1-f6c1-4b40-e0e8-4b237ff40576",
        "colab": {
          "base_uri": "https://localhost:8080/",
          "height": 34
        }
      },
      "cell_type": "code",
      "source": [
        "with open('generated/citybased_rnn/test_00.pkl', 'wb') as file:\n",
        "    pickle.dump(generated, file)\n",
        "    print('Generated data saved')"
      ],
      "execution_count": 0,
      "outputs": [
        {
          "output_type": "stream",
          "text": [
            "Generated data saved\n"
          ],
          "name": "stdout"
        }
      ]
    }
  ]
}