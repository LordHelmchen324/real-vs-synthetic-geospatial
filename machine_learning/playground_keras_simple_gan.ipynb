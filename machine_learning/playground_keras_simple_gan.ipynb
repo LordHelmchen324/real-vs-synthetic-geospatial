{
  "nbformat": 4,
  "nbformat_minor": 0,
  "metadata": {
    "colab": {
      "name": "tensorflow_playground_simple_gan.ipynb",
      "version": "0.3.2",
      "provenance": []
    },
    "kernelspec": {
      "name": "python3",
      "display_name": "Python 3"
    },
    "accelerator": "GPU"
  },
  "cells": [
    {
      "metadata": {
        "id": "_AZSyZl8fsB8",
        "colab_type": "code",
        "outputId": "cd4abe4b-1254-4807-fdb1-f81ddb2706e6",
        "colab": {
          "base_uri": "https://localhost:8080/",
          "height": 51
        }
      },
      "cell_type": "code",
      "source": [
        "import tensorflow as tf\n",
        "\n",
        "!pip install -q keras\n",
        "import keras\n",
        "\n",
        "import numpy as np\n",
        "import matplotlib.pyplot as plt\n",
        "\n",
        "print(tf.__version__)"
      ],
      "execution_count": 1,
      "outputs": [
        {
          "output_type": "stream",
          "text": [
            "1.12.0\n"
          ],
          "name": "stdout"
        },
        {
          "output_type": "stream",
          "text": [
            "Using TensorFlow backend.\n"
          ],
          "name": "stderr"
        }
      ]
    },
    {
      "metadata": {
        "id": "FKdqXpdCfsCK",
        "colab_type": "code",
        "outputId": "bc5b2a14-92f6-4f8e-91eb-3e43498456e1",
        "colab": {
          "base_uri": "https://localhost:8080/",
          "height": 34
        }
      },
      "cell_type": "code",
      "source": [
        "mnist = keras.datasets.mnist\n",
        "(train_images, _), (_, _) = mnist.load_data()\n",
        "\n",
        "print(train_images.shape)"
      ],
      "execution_count": 2,
      "outputs": [
        {
          "output_type": "stream",
          "text": [
            "(60000, 28, 28)\n"
          ],
          "name": "stdout"
        }
      ]
    },
    {
      "metadata": {
        "id": "YCpjZeHmfsCR",
        "colab_type": "code",
        "colab": {}
      },
      "cell_type": "code",
      "source": [
        "train_images = train_images / 255"
      ],
      "execution_count": 0,
      "outputs": []
    },
    {
      "metadata": {
        "id": "nx9R9wx4fsCU",
        "colab_type": "code",
        "outputId": "a3b641f0-2b86-40cd-8809-ca96dc916ab1",
        "colab": {
          "base_uri": "https://localhost:8080/",
          "height": 351
        }
      },
      "cell_type": "code",
      "source": [
        "plt.figure()\n",
        "plt.imshow(train_images[0])\n",
        "plt.colorbar()\n",
        "plt.gca().grid(False)"
      ],
      "execution_count": 4,
      "outputs": [
        {
          "output_type": "display_data",
          "data": {
            "image/png": "[encoded data removed]",
            "text/plain": [
              "<matplotlib.figure.Figure at 0x7efea43fd128>"
            ]
          },
          "metadata": {
            "tags": []
          }
        }
      ]
    },
    {
      "metadata": {
        "id": "QVkdeBYIfsCY",
        "colab_type": "code",
        "colab": {}
      },
      "cell_type": "code",
      "source": [
        "generator = keras.Sequential([\n",
        "    keras.layers.Dense(256, input_shape=(100,), activation=tf.nn.relu),\n",
        "    keras.layers.BatchNormalization(momentum=0.8),\n",
        "    keras.layers.Dense(512, activation=tf.nn.relu),\n",
        "    keras.layers.BatchNormalization(momentum=0.8),\n",
        "    keras.layers.Dense(1024, activation=tf.nn.relu),\n",
        "    keras.layers.BatchNormalization(momentum=0.8),\n",
        "    keras.layers.Dense(28 * 28, activation='tanh'),\n",
        "    keras.layers.Reshape((28, 28))\n",
        "])"
      ],
      "execution_count": 0,
      "outputs": []
    },
    {
      "metadata": {
        "id": "v_yCcY7dfsCb",
        "colab_type": "code",
        "colab": {}
      },
      "cell_type": "code",
      "source": [
        "discriminator = keras.Sequential([\n",
        "    keras.layers.Flatten(input_shape=(28, 28)),\n",
        "    keras.layers.Dense(28 * 28, input_shape=(28, 28), activation=tf.nn.relu),\n",
        "    keras.layers.Dense(int((28 * 28) / 2), activation=tf.nn.relu),\n",
        "    keras.layers.Dense(1, activation='sigmoid')\n",
        "])"
      ],
      "execution_count": 0,
      "outputs": []
    },
    {
      "metadata": {
        "id": "DTORSzQkB5Ay",
        "colab_type": "code",
        "colab": {}
      },
      "cell_type": "code",
      "source": [
        "discriminator.compile(optimizer=keras.optimizers.Adam(lr=0.0002, beta_1=0.5, decay=8e-8),\n",
        "                      loss='binary_crossentropy',\n",
        "                      metrics=['accuracy'])"
      ],
      "execution_count": 0,
      "outputs": []
    },
    {
      "metadata": {
        "id": "hmgSLlrSfsCe",
        "colab_type": "code",
        "colab": {}
      },
      "cell_type": "code",
      "source": [
        "discriminator.trainable = False\n",
        "\n",
        "adversarial_model = keras.Sequential([\n",
        "    generator,\n",
        "    discriminator\n",
        "])\n",
        "\n",
        "adversarial_model.compile(optimizer=keras.optimizers.Adam(lr=0.0002, beta_1=0.5, decay=8e-8),\n",
        "                          loss='binary_crossentropy')"
      ],
      "execution_count": 0,
      "outputs": []
    },
    {
      "metadata": {
        "id": "7apIUeh1fsCg",
        "colab_type": "code",
        "outputId": "ae30218b-08ed-451b-e6ae-20d586038512",
        "colab": {
          "base_uri": "https://localhost:8080/",
          "height": 1686
        }
      },
      "cell_type": "code",
      "source": [
        "epochs = 5\n",
        "batch_size = 32\n",
        "\n",
        "batches = train_images.shape[0] // batch_size\n",
        "\n",
        "for epoch in range(epochs):\n",
        "    for batch in range(batches):\n",
        "        \n",
        "        # Train the discriminator\n",
        "        \n",
        "        noise = np.random.normal(0, 1, (batch_size // 2, 100))\n",
        "        fake_images = generator.predict(noise)\n",
        "        fake_labels = np.zeros((batch_size // 2, 1))\n",
        "        \n",
        "        sample_indicies = np.random.randint(0, train_images.shape[0], batch_size // 2)\n",
        "        real_images = train_images[sample_indicies]\n",
        "        real_labels = np.ones((batch_size // 2, 1))\n",
        "        \n",
        "        d_loss_fake = discriminator.train_on_batch(fake_images, fake_labels)\n",
        "        d_loss_real = discriminator.train_on_batch(real_images, real_labels)\n",
        "        d_loss = 0.5 * np.add(d_loss_fake, d_loss_real)\n",
        "        \n",
        "        # Train the generator\n",
        "        \n",
        "        noise = np.random.normal(0, 1, (batch_size, 100))\n",
        "        g_loss = adversarial_model.train_on_batch(noise, np.ones((batch_size, 1)))\n",
        "        \n",
        "        # Logging output\n",
        "        \n",
        "        if batch % 100 == 0:\n",
        "            print('Epoch %d Batch %d/%d [D loss: %f, acc.: %.2f%%] [G loss: %f]' % (epoch, batch, batches, d_loss[0], 100 * d_loss[1], g_loss))"
      ],
      "execution_count": 9,
      "outputs": [
        {
          "output_type": "stream",
          "text": [
            "/usr/local/lib/python3.6/dist-packages/keras/engine/training.py:490: UserWarning: Discrepancy between trainable weights and collected trainable weights, did you set `model.trainable` without calling `model.compile` after ?\n",
            "  'Discrepancy between trainable weights and collected trainable'\n"
          ],
          "name": "stderr"
        },
        {
          "output_type": "stream",
          "text": [
            "Epoch 0 Batch 0/1875 [D loss: 0.800170, acc.: 9.38%] [G loss: 0.850104]\n",
            "Epoch 0 Batch 100/1875 [D loss: 0.341694, acc.: 81.25%] [G loss: 7.072332]\n",
            "Epoch 0 Batch 200/1875 [D loss: 0.172616, acc.: 93.75%] [G loss: 6.233756]\n",
            "Epoch 0 Batch 300/1875 [D loss: 0.186847, acc.: 93.75%] [G loss: 6.534292]\n",
            "Epoch 0 Batch 400/1875 [D loss: 0.162488, acc.: 96.88%] [G loss: 7.703053]\n",
            "Epoch 0 Batch 500/1875 [D loss: 0.249739, acc.: 90.62%] [G loss: 7.210414]\n",
            "Epoch 0 Batch 600/1875 [D loss: 0.325300, acc.: 87.50%] [G loss: 4.829718]\n",
            "Epoch 0 Batch 700/1875 [D loss: 0.389762, acc.: 84.38%] [G loss: 4.232708]\n",
            "Epoch 0 Batch 800/1875 [D loss: 0.659858, acc.: 50.00%] [G loss: 2.865910]\n",
            "Epoch 0 Batch 900/1875 [D loss: 0.901178, acc.: 53.12%] [G loss: 2.102533]\n",
            "Epoch 0 Batch 1000/1875 [D loss: 0.387611, acc.: 84.38%] [G loss: 2.872549]\n",
            "Epoch 0 Batch 1100/1875 [D loss: 0.239095, acc.: 87.50%] [G loss: 4.746068]\n",
            "Epoch 0 Batch 1200/1875 [D loss: 0.049578, acc.: 100.00%] [G loss: 8.086539]\n",
            "Epoch 0 Batch 1300/1875 [D loss: 0.188741, acc.: 93.75%] [G loss: 4.562897]\n",
            "Epoch 0 Batch 1400/1875 [D loss: 0.512590, acc.: 78.12%] [G loss: 4.195891]\n",
            "Epoch 0 Batch 1500/1875 [D loss: 0.161177, acc.: 93.75%] [G loss: 10.640442]\n",
            "Epoch 0 Batch 1600/1875 [D loss: 0.210118, acc.: 93.75%] [G loss: 4.214024]\n",
            "Epoch 0 Batch 1700/1875 [D loss: 0.291727, acc.: 90.62%] [G loss: 2.970662]\n",
            "Epoch 0 Batch 1800/1875 [D loss: 0.134670, acc.: 93.75%] [G loss: 5.093487]\n",
            "Epoch 1 Batch 0/1875 [D loss: 0.358833, acc.: 87.50%] [G loss: 2.343961]\n",
            "Epoch 1 Batch 100/1875 [D loss: 0.592662, acc.: 62.50%] [G loss: 3.639351]\n",
            "Epoch 1 Batch 200/1875 [D loss: 0.229746, acc.: 90.62%] [G loss: 2.106666]\n",
            "Epoch 1 Batch 300/1875 [D loss: 0.384363, acc.: 84.38%] [G loss: 3.540552]\n",
            "Epoch 1 Batch 400/1875 [D loss: 0.358082, acc.: 87.50%] [G loss: 3.693078]\n",
            "Epoch 1 Batch 500/1875 [D loss: 0.244301, acc.: 87.50%] [G loss: 4.570817]\n",
            "Epoch 1 Batch 600/1875 [D loss: 0.444967, acc.: 84.38%] [G loss: 2.581190]\n",
            "Epoch 1 Batch 700/1875 [D loss: 0.148054, acc.: 96.88%] [G loss: 3.102895]\n",
            "Epoch 1 Batch 800/1875 [D loss: 0.269102, acc.: 90.62%] [G loss: 3.466242]\n",
            "Epoch 1 Batch 900/1875 [D loss: 0.237651, acc.: 90.62%] [G loss: 4.627012]\n",
            "Epoch 1 Batch 1000/1875 [D loss: 0.417956, acc.: 81.25%] [G loss: 3.737189]\n",
            "Epoch 1 Batch 1100/1875 [D loss: 0.009951, acc.: 100.00%] [G loss: 5.148471]\n",
            "Epoch 1 Batch 1200/1875 [D loss: 0.134670, acc.: 96.88%] [G loss: 4.146136]\n",
            "Epoch 1 Batch 1300/1875 [D loss: 0.063236, acc.: 100.00%] [G loss: 5.348280]\n",
            "Epoch 1 Batch 1400/1875 [D loss: 0.189011, acc.: 90.62%] [G loss: 3.426692]\n",
            "Epoch 1 Batch 1500/1875 [D loss: 0.152688, acc.: 93.75%] [G loss: 2.060392]\n",
            "Epoch 1 Batch 1600/1875 [D loss: 0.084596, acc.: 96.88%] [G loss: 6.000790]\n",
            "Epoch 1 Batch 1700/1875 [D loss: 0.087889, acc.: 96.88%] [G loss: 1.673817]\n",
            "Epoch 1 Batch 1800/1875 [D loss: 0.153007, acc.: 96.88%] [G loss: 1.437828]\n",
            "Epoch 2 Batch 0/1875 [D loss: 0.286246, acc.: 93.75%] [G loss: 1.216833]\n",
            "Epoch 2 Batch 100/1875 [D loss: 0.036202, acc.: 100.00%] [G loss: 0.002076]\n",
            "Epoch 2 Batch 200/1875 [D loss: 0.118349, acc.: 96.88%] [G loss: 3.095050]\n",
            "Epoch 2 Batch 300/1875 [D loss: 0.072234, acc.: 96.88%] [G loss: 0.857082]\n",
            "Epoch 2 Batch 400/1875 [D loss: 0.022767, acc.: 100.00%] [G loss: 0.624967]\n",
            "Epoch 2 Batch 500/1875 [D loss: 0.118266, acc.: 96.88%] [G loss: 2.680830]\n",
            "Epoch 2 Batch 600/1875 [D loss: 0.008860, acc.: 100.00%] [G loss: 0.296195]\n",
            "Epoch 2 Batch 700/1875 [D loss: 0.015633, acc.: 100.00%] [G loss: 0.543336]\n",
            "Epoch 2 Batch 800/1875 [D loss: 0.057401, acc.: 96.88%] [G loss: 2.927466]\n",
            "Epoch 2 Batch 900/1875 [D loss: 0.016478, acc.: 100.00%] [G loss: 0.562694]\n",
            "Epoch 2 Batch 1000/1875 [D loss: 0.012345, acc.: 100.00%] [G loss: 2.655778]\n",
            "Epoch 2 Batch 1100/1875 [D loss: 0.094822, acc.: 93.75%] [G loss: 0.211840]\n",
            "Epoch 2 Batch 1200/1875 [D loss: 0.231587, acc.: 90.62%] [G loss: 0.035100]\n",
            "Epoch 2 Batch 1300/1875 [D loss: 0.000526, acc.: 100.00%] [G loss: 0.170064]\n",
            "Epoch 2 Batch 1400/1875 [D loss: 0.040906, acc.: 96.88%] [G loss: 0.216373]\n",
            "Epoch 2 Batch 1500/1875 [D loss: 0.018360, acc.: 100.00%] [G loss: 0.360016]\n",
            "Epoch 2 Batch 1600/1875 [D loss: 0.169152, acc.: 93.75%] [G loss: 0.642919]\n",
            "Epoch 2 Batch 1700/1875 [D loss: 0.011607, acc.: 100.00%] [G loss: 0.002991]\n",
            "Epoch 2 Batch 1800/1875 [D loss: 0.005935, acc.: 100.00%] [G loss: 0.361157]\n",
            "Epoch 3 Batch 0/1875 [D loss: 0.089191, acc.: 96.88%] [G loss: 0.723704]\n",
            "Epoch 3 Batch 100/1875 [D loss: 0.004149, acc.: 100.00%] [G loss: 0.686677]\n",
            "Epoch 3 Batch 200/1875 [D loss: 0.001110, acc.: 100.00%] [G loss: 0.001894]\n",
            "Epoch 3 Batch 300/1875 [D loss: 0.339472, acc.: 87.50%] [G loss: 7.095138]\n",
            "Epoch 3 Batch 400/1875 [D loss: 0.083982, acc.: 100.00%] [G loss: 1.107313]\n",
            "Epoch 3 Batch 500/1875 [D loss: 0.051961, acc.: 96.88%] [G loss: 0.083998]\n",
            "Epoch 3 Batch 600/1875 [D loss: 0.000925, acc.: 100.00%] [G loss: 0.003570]\n",
            "Epoch 3 Batch 700/1875 [D loss: 0.006280, acc.: 100.00%] [G loss: 3.120016]\n",
            "Epoch 3 Batch 800/1875 [D loss: 0.004308, acc.: 100.00%] [G loss: 0.245880]\n",
            "Epoch 3 Batch 900/1875 [D loss: 0.020547, acc.: 100.00%] [G loss: 0.076640]\n",
            "Epoch 3 Batch 1000/1875 [D loss: 0.011453, acc.: 100.00%] [G loss: 0.030345]\n",
            "Epoch 3 Batch 1100/1875 [D loss: 0.020845, acc.: 100.00%] [G loss: 0.589485]\n",
            "Epoch 3 Batch 1200/1875 [D loss: 0.078282, acc.: 96.88%] [G loss: 0.504040]\n",
            "Epoch 3 Batch 1300/1875 [D loss: 0.068933, acc.: 96.88%] [G loss: 6.284882]\n",
            "Epoch 3 Batch 1400/1875 [D loss: 0.019243, acc.: 100.00%] [G loss: 1.242791]\n",
            "Epoch 3 Batch 1500/1875 [D loss: 0.032908, acc.: 100.00%] [G loss: 4.163682]\n",
            "Epoch 3 Batch 1600/1875 [D loss: 0.003175, acc.: 100.00%] [G loss: 0.151448]\n",
            "Epoch 3 Batch 1700/1875 [D loss: 0.203056, acc.: 96.88%] [G loss: 3.969780]\n",
            "Epoch 3 Batch 1800/1875 [D loss: 0.080382, acc.: 96.88%] [G loss: 0.954667]\n",
            "Epoch 4 Batch 0/1875 [D loss: 0.068084, acc.: 96.88%] [G loss: 2.026545]\n",
            "Epoch 4 Batch 100/1875 [D loss: 0.018717, acc.: 100.00%] [G loss: 0.216809]\n",
            "Epoch 4 Batch 200/1875 [D loss: 0.176036, acc.: 87.50%] [G loss: 1.143825]\n",
            "Epoch 4 Batch 300/1875 [D loss: 0.189937, acc.: 90.62%] [G loss: 3.005832]\n",
            "Epoch 4 Batch 400/1875 [D loss: 0.321215, acc.: 90.62%] [G loss: 5.659863]\n",
            "Epoch 4 Batch 500/1875 [D loss: 0.084995, acc.: 100.00%] [G loss: 2.339765]\n",
            "Epoch 4 Batch 600/1875 [D loss: 0.028939, acc.: 100.00%] [G loss: 5.180043]\n",
            "Epoch 4 Batch 700/1875 [D loss: 0.079722, acc.: 93.75%] [G loss: 0.867568]\n",
            "Epoch 4 Batch 800/1875 [D loss: 0.062330, acc.: 96.88%] [G loss: 4.813435]\n",
            "Epoch 4 Batch 900/1875 [D loss: 0.104775, acc.: 93.75%] [G loss: 5.110363]\n",
            "Epoch 4 Batch 1000/1875 [D loss: 0.094749, acc.: 96.88%] [G loss: 4.986462]\n",
            "Epoch 4 Batch 1100/1875 [D loss: 0.096789, acc.: 96.88%] [G loss: 3.777710]\n",
            "Epoch 4 Batch 1200/1875 [D loss: 0.132700, acc.: 96.88%] [G loss: 5.854366]\n",
            "Epoch 4 Batch 1300/1875 [D loss: 0.029361, acc.: 100.00%] [G loss: 0.355161]\n",
            "Epoch 4 Batch 1400/1875 [D loss: 0.000972, acc.: 100.00%] [G loss: 0.119811]\n",
            "Epoch 4 Batch 1500/1875 [D loss: 0.237193, acc.: 87.50%] [G loss: 5.710624]\n",
            "Epoch 4 Batch 1600/1875 [D loss: 0.250883, acc.: 93.75%] [G loss: 3.505354]\n",
            "Epoch 4 Batch 1700/1875 [D loss: 0.031697, acc.: 100.00%] [G loss: 1.096219]\n",
            "Epoch 4 Batch 1800/1875 [D loss: 0.202611, acc.: 93.75%] [G loss: 5.021778]\n"
          ],
          "name": "stdout"
        }
      ]
    },
    {
      "metadata": {
        "id": "XUWlH2yhHkV-",
        "colab_type": "code",
        "colab": {
          "base_uri": "https://localhost:8080/",
          "height": 347
        },
        "outputId": "5d711817-6426-40a3-e8bc-c2194237d0e9"
      },
      "cell_type": "code",
      "source": [
        "noise = np.random.normal(0, 1, (1, 100))\n",
        "fake_image = generator.predict(noise)[0]\n",
        "\n",
        "plt.figure()\n",
        "plt.imshow(fake_image)\n",
        "plt.colorbar()\n",
        "plt.gca().grid(False)"
      ],
      "execution_count": 16,
      "outputs": [
        {
          "output_type": "display_data",
          "data": {
            "image/png": "[encoded data removed]",
            "text/plain": [
              "<matplotlib.figure.Figure at 0x7efe99b4a6d8>"
            ]
          },
          "metadata": {
            "tags": []
          }
        }
      ]
    }
  ]
}