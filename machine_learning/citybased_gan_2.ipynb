{
 "cells": [
  {
   "cell_type": "code",
   "execution_count": 1,
   "metadata": {
    "colab": {
     "base_uri": "https://localhost:8080/",
     "height": 231
    },
    "colab_type": "code",
    "id": "BFLtqc6hXszW",
    "outputId": "9f9f8640-c207-4720-9377-3e26bb45e6c9"
   },
   "outputs": [
    {
     "name": "stdout",
     "output_type": "stream",
     "text": [
      "The current working directory is: /Users/jankaiser/Documents/TUHH/Research Project/Auswertung/machine_learning\n"
     ]
    }
   ],
   "source": [
    "# Setup of libraries, mounting the Google Drive etc.\n",
    "\n",
    "local = True\n",
    "\n",
    "import os\n",
    "\n",
    "if local == False:\n",
    "    import sys\n",
    "    from google.colab import drive\n",
    "    drive.mount('/content/gdrive')\n",
    "    os.chdir('/content/gdrive/My Drive/Colab Notebooks')\n",
    "else:\n",
    "    os.environ['KMP_DUPLICATE_LIB_OK'] = 'True'\n",
    "\n",
    "import matplotlib.pyplot as plt\n",
    "import numpy as np\n",
    "import pandas as pd\n",
    "import pickle\n",
    "\n",
    "import tensorflow as tf\n",
    "\n",
    "import utils\n",
    "import IPython\n",
    "\n",
    "print('The current working directory is:', os.getcwd())"
   ]
  },
  {
   "cell_type": "markdown",
   "metadata": {},
   "source": [
    "## Define the parameters\n",
    "... meaning paramters like which dataset to train on, batch size and so on and so forth"
   ]
  },
  {
   "cell_type": "code",
   "execution_count": 4,
   "metadata": {},
   "outputs": [],
   "source": [
    "DATASET_NAME = 'cabspotting'\n",
    "\n",
    "setup_string = 'g_GRU-256_rand-32_Dense-3_adam_bce_default_d_gin_GRU-128_Dense-1_adam_bce_default_{dataset}_64_100'\n",
    "setup_string = setup_string.format(dataset=DATASET_NAME)"
   ]
  },
  {
   "cell_type": "code",
   "execution_count": 5,
   "metadata": {},
   "outputs": [
    {
     "data": {
      "text/plain": [
       "'g_GRU-256_rand-32_Dense-3_adam_bce_default_d_gin_GRU-128_Dense-1_adam_bce_default_cabspotting_64_100'"
      ]
     },
     "execution_count": 5,
     "metadata": {},
     "output_type": "execute_result"
    }
   ],
   "source": [
    "setup_string"
   ]
  },
  {
   "cell_type": "markdown",
   "metadata": {
    "colab_type": "text",
    "id": "lHDRiK7LYw2s"
   },
   "source": [
    "## Read the dataset from `.pkl` file\n"
   ]
  },
  {
   "cell_type": "code",
   "execution_count": 6,
   "metadata": {
    "colab": {
     "base_uri": "https://localhost:8080/",
     "height": 235
    },
    "colab_type": "code",
    "id": "rxQz-vmJYEGC",
    "outputId": "69131d77-56b5-4b92-8727-30bb3061e4eb"
   },
   "outputs": [
    {
     "data": {
      "text/html": [
       "<div>\n",
       "<style scoped>\n",
       "    .dataframe tbody tr th:only-of-type {\n",
       "        vertical-align: middle;\n",
       "    }\n",
       "\n",
       "    .dataframe tbody tr th {\n",
       "        vertical-align: top;\n",
       "    }\n",
       "\n",
       "    .dataframe thead th {\n",
       "        text-align: right;\n",
       "    }\n",
       "</style>\n",
       "<table border=\"1\" class=\"dataframe\">\n",
       "  <thead>\n",
       "    <tr style=\"text-align: right;\">\n",
       "      <th></th>\n",
       "      <th></th>\n",
       "      <th>latitude</th>\n",
       "      <th>longitude</th>\n",
       "      <th>occupied</th>\n",
       "    </tr>\n",
       "    <tr>\n",
       "      <th>user</th>\n",
       "      <th>time</th>\n",
       "      <th></th>\n",
       "      <th></th>\n",
       "      <th></th>\n",
       "    </tr>\n",
       "  </thead>\n",
       "  <tbody>\n",
       "    <tr>\n",
       "      <th rowspan=\"5\" valign=\"top\">abboip</th>\n",
       "      <th>2008-05-17 14:12:10</th>\n",
       "      <td>37.75153</td>\n",
       "      <td>-122.39447</td>\n",
       "      <td>0</td>\n",
       "    </tr>\n",
       "    <tr>\n",
       "      <th>2008-05-17 14:13:34</th>\n",
       "      <td>37.75149</td>\n",
       "      <td>-122.39447</td>\n",
       "      <td>0</td>\n",
       "    </tr>\n",
       "    <tr>\n",
       "      <th>2008-05-17 14:14:34</th>\n",
       "      <td>37.75149</td>\n",
       "      <td>-122.39447</td>\n",
       "      <td>0</td>\n",
       "    </tr>\n",
       "    <tr>\n",
       "      <th>2008-05-17 14:15:35</th>\n",
       "      <td>37.75149</td>\n",
       "      <td>-122.39446</td>\n",
       "      <td>0</td>\n",
       "    </tr>\n",
       "    <tr>\n",
       "      <th>2008-05-17 14:41:43</th>\n",
       "      <td>37.75144</td>\n",
       "      <td>-122.39449</td>\n",
       "      <td>0</td>\n",
       "    </tr>\n",
       "  </tbody>\n",
       "</table>\n",
       "</div>"
      ],
      "text/plain": [
       "                            latitude  longitude  occupied\n",
       "user   time                                              \n",
       "abboip 2008-05-17 14:12:10  37.75153 -122.39447         0\n",
       "       2008-05-17 14:13:34  37.75149 -122.39447         0\n",
       "       2008-05-17 14:14:34  37.75149 -122.39447         0\n",
       "       2008-05-17 14:15:35  37.75149 -122.39446         0\n",
       "       2008-05-17 14:41:43  37.75144 -122.39449         0"
      ]
     },
     "execution_count": 6,
     "metadata": {},
     "output_type": "execute_result"
    }
   ],
   "source": [
    "df = pd.read_pickle('datasets/{name}.pkl'.format(name=DATASET_NAME))\n",
    "df.head()"
   ]
  },
  {
   "cell_type": "markdown",
   "metadata": {
    "colab_type": "text",
    "id": "SRCEhqT6ZLYO"
   },
   "source": [
    "## Convert the dataset to a mapping of users to the strings of their movements"
   ]
  },
  {
   "cell_type": "code",
   "execution_count": 7,
   "metadata": {
    "colab": {
     "base_uri": "https://localhost:8080/",
     "height": 136
    },
    "colab_type": "code",
    "id": "7NmsLO-RC0Lb",
    "outputId": "172164f9-c5d5-43dc-8c3d-c63b59aa5420"
   },
   "outputs": [
    {
     "data": {
      "text/plain": [
       "user\n",
       "abboip      [[0.0, -122.39447, 37.751529999999995], [84.0,...\n",
       "abcoij      [[0.0, -122.41466000000001, 37.80346], [60.000...\n",
       "abdremlu    [[0.0, -122.39093000000001, 37.75521], [60.000...\n",
       "abgibo      [[0.0, -122.4374, 37.7733], [45.0, -122.43834,...\n",
       "abjoolaw    [[0.0, -122.39747, 37.75159], [60.000000000000...\n",
       "dtype: object"
      ]
     },
     "execution_count": 7,
     "metadata": {},
     "output_type": "execute_result"
    }
   ],
   "source": [
    "df = utils.records_to_user_geolcation_2(df)\n",
    "df.head()"
   ]
  },
  {
   "cell_type": "markdown",
   "metadata": {
    "colab_type": "text",
    "id": "yblG4Z8WG1Uk"
   },
   "source": [
    "## Split the data into training and test/validation sets\n",
    "Keep the data of 10 users from the networks during traing in order to 'visually' validate that the network is working later on."
   ]
  },
  {
   "cell_type": "code",
   "execution_count": 8,
   "metadata": {
    "colab": {
     "base_uri": "https://localhost:8080/",
     "height": 34
    },
    "colab_type": "code",
    "id": "xz7wjucOGylA",
    "outputId": "5e7fb112-8f9d-446a-f249-29e82a576bec"
   },
   "outputs": [
    {
     "data": {
      "text/plain": [
       "536"
      ]
     },
     "execution_count": 8,
     "metadata": {},
     "output_type": "execute_result"
    }
   ],
   "source": [
    "len(df)"
   ]
  },
  {
   "cell_type": "code",
   "execution_count": 9,
   "metadata": {
    "colab": {
     "base_uri": "https://localhost:8080/",
     "height": 51
    },
    "colab_type": "code",
    "id": "_oMYwxN1HOqZ",
    "outputId": "60433c6a-a7ca-4ae3-81f9-041fa9b74513"
   },
   "outputs": [
    {
     "name": "stdout",
     "output_type": "stream",
     "text": [
      "Train: 526\n",
      "Test: 10\n"
     ]
    }
   ],
   "source": [
    "df_train = df.iloc[:len(df) - 10]\n",
    "df_test = df.iloc[len(df) - 10:]\n",
    "\n",
    "print('Train:', len(df_train))\n",
    "print('Test:', len(df_test))"
   ]
  },
  {
   "cell_type": "markdown",
   "metadata": {
    "colab_type": "text",
    "id": "IrqvSWrgO0q4"
   },
   "source": [
    "## Make one single sequence to train on from the training data"
   ]
  },
  {
   "cell_type": "code",
   "execution_count": 10,
   "metadata": {
    "colab": {},
    "colab_type": "code",
    "id": "MIG5Ka6hO6Cv"
   },
   "outputs": [],
   "source": [
    "data_train = utils.user_geolocation_to_single_sequence(df_train)"
   ]
  },
  {
   "cell_type": "code",
   "execution_count": 11,
   "metadata": {
    "colab": {
     "base_uri": "https://localhost:8080/",
     "height": 136
    },
    "colab_type": "code",
    "id": "LLhHUkSaPPRy",
    "outputId": "7922ac08-701c-4909-f424-67ad45bd43e7"
   },
   "outputs": [
    {
     "data": {
      "text/plain": [
       "array([[   0.     , -122.39447,   37.75153],\n",
       "       [  84.     , -122.39447,   37.75149],\n",
       "       [  60.     , -122.39447,   37.75149],\n",
       "       ...,\n",
       "       [  39.     , -122.41069,   37.79244],\n",
       "       [  60.     , -122.41165,   37.79215],\n",
       "       [  21.     , -122.41172,   37.79212]])"
      ]
     },
     "execution_count": 11,
     "metadata": {},
     "output_type": "execute_result"
    }
   ],
   "source": [
    "data_train"
   ]
  },
  {
   "cell_type": "code",
   "execution_count": 12,
   "metadata": {
    "colab": {
     "base_uri": "https://localhost:8080/",
     "height": 34
    },
    "colab_type": "code",
    "id": "MeUZM_UPPRrd",
    "outputId": "a142e954-41fd-4dac-e690-8e9000964f51"
   },
   "outputs": [
    {
     "data": {
      "text/plain": [
       "(11021539, 3)"
      ]
     },
     "execution_count": 12,
     "metadata": {},
     "output_type": "execute_result"
    }
   ],
   "source": [
    "data_train.shape"
   ]
  },
  {
   "cell_type": "markdown",
   "metadata": {
    "colab_type": "text",
    "id": "P3vZBBoMW2Ln"
   },
   "source": [
    "## Create the scaler on the training data\n",
    "The sequence for the generator is used to fit a `StandardScaler` to the training data.\n",
    "This scaler should later be saved alongside the trained model, as the scaler should only be fitted to the training data and the training data changes on every execution of this Notebook."
   ]
  },
  {
   "cell_type": "code",
   "execution_count": 13,
   "metadata": {
    "colab": {
     "base_uri": "https://localhost:8080/",
     "height": 51
    },
    "colab_type": "code",
    "id": "InyVPOmMW1FO",
    "outputId": "6466c514-741f-44f2-fe82-9d4e37a8a398"
   },
   "outputs": [
    {
     "name": "stdout",
     "output_type": "stream",
     "text": [
      "Means: 91.083038 -122.412463 37.763528\n",
      "Standard deviations: 2396696.521397 0.001279 0.002907\n"
     ]
    }
   ],
   "source": [
    "from sklearn import preprocessing\n",
    "\n",
    "scaler = preprocessing.StandardScaler()\n",
    "scaler.fit(data_train)\n",
    "\n",
    "print('Means: %f %f %f' % (scaler.mean_[0], scaler.mean_[1], scaler.mean_[2]))\n",
    "print('Standard deviations: %f %f %f' % (scaler.var_[0], scaler.var_[1], scaler.var_[2]))"
   ]
  },
  {
   "cell_type": "code",
   "execution_count": 14,
   "metadata": {
    "colab": {},
    "colab_type": "code",
    "id": "AZdMbgCJ6ZWX"
   },
   "outputs": [],
   "source": [
    "data_train = scaler.transform(data_train)"
   ]
  },
  {
   "cell_type": "code",
   "execution_count": 15,
   "metadata": {
    "colab": {
     "base_uri": "https://localhost:8080/",
     "height": 34
    },
    "colab_type": "code",
    "id": "qwcrTH0J642L",
    "outputId": "6b03324a-dd2f-4816-eb87-3061a0339424"
   },
   "outputs": [
    {
     "ename": "FileNotFoundError",
     "evalue": "[Errno 2] No such file or directory: 'scalers/citybased_gan_2/g_GRU-256_rand-32_Dense-3_adam_bce_default_d_gin_GRU-128_Dense-1_adam_bce_default_cabspotting_64_100.pkl'",
     "output_type": "error",
     "traceback": [
      "\u001b[0;31m---------------------------------------------------------------------------\u001b[0m",
      "\u001b[0;31mFileNotFoundError\u001b[0m                         Traceback (most recent call last)",
      "\u001b[0;32m<ipython-input-15-6bda626d6e14>\u001b[0m in \u001b[0;36m<module>\u001b[0;34m\u001b[0m\n\u001b[0;32m----> 1\u001b[0;31m \u001b[0;32mwith\u001b[0m \u001b[0mopen\u001b[0m\u001b[0;34m(\u001b[0m\u001b[0;34m'scalers/citybased_gan_2/'\u001b[0m \u001b[0;34m+\u001b[0m \u001b[0msetup_string\u001b[0m \u001b[0;34m+\u001b[0m \u001b[0;34m'.pkl'\u001b[0m\u001b[0;34m,\u001b[0m \u001b[0;34m'wb'\u001b[0m\u001b[0;34m)\u001b[0m \u001b[0;32mas\u001b[0m \u001b[0mfile\u001b[0m\u001b[0;34m:\u001b[0m\u001b[0;34m\u001b[0m\u001b[0;34m\u001b[0m\u001b[0m\n\u001b[0m\u001b[1;32m      2\u001b[0m     \u001b[0mpickle\u001b[0m\u001b[0;34m.\u001b[0m\u001b[0mdump\u001b[0m\u001b[0;34m(\u001b[0m\u001b[0mscaler\u001b[0m\u001b[0;34m,\u001b[0m \u001b[0mfile\u001b[0m\u001b[0;34m)\u001b[0m\u001b[0;34m\u001b[0m\u001b[0;34m\u001b[0m\u001b[0m\n\u001b[1;32m      3\u001b[0m     \u001b[0mprint\u001b[0m\u001b[0;34m(\u001b[0m\u001b[0;34m'Scaler saved'\u001b[0m\u001b[0;34m)\u001b[0m\u001b[0;34m\u001b[0m\u001b[0;34m\u001b[0m\u001b[0m\n",
      "\u001b[0;31mFileNotFoundError\u001b[0m: [Errno 2] No such file or directory: 'scalers/citybased_gan_2/g_GRU-256_rand-32_Dense-3_adam_bce_default_d_gin_GRU-128_Dense-1_adam_bce_default_cabspotting_64_100.pkl'"
     ]
    }
   ],
   "source": [
    "with open('scalers/citybased_gan_2/' + setup_string + '.pkl', 'wb') as file:\n",
    "    pickle.dump(scaler, file)\n",
    "    print('Scaler saved')"
   ]
  },
  {
   "cell_type": "markdown",
   "metadata": {
    "colab_type": "text",
    "id": "vFm92XsBiiGO"
   },
   "source": [
    "## Build the generator"
   ]
  },
  {
   "cell_type": "code",
   "execution_count": 16,
   "metadata": {
    "colab": {},
    "colab_type": "code",
    "id": "yQ_PH0TDE6VW"
   },
   "outputs": [],
   "source": [
    "# Inputs\n",
    "sequence_input = tf.keras.layers.Input(shape=(None, 3), name='sequence_input')\n",
    "random_input = tf.keras.layers.Input(shape=(32,), name='random_input')\n",
    "\n",
    "# Recurrent part\n",
    "recurrent = tf.keras.layers.GRU(256)(sequence_input)\n",
    "\n",
    "# Add random variation\n",
    "x = tf.keras.layers.concatenate([recurrent, random_input])\n",
    "prediction = tf.keras.layers.Dense(3)(x)\n",
    "\n",
    "# Create the model\n",
    "generator = tf.keras.models.Model(inputs=[sequence_input, random_input], outputs=prediction)"
   ]
  },
  {
   "cell_type": "code",
   "execution_count": 17,
   "metadata": {
    "colab": {
     "base_uri": "https://localhost:8080/",
     "height": 343
    },
    "colab_type": "code",
    "id": "um1_MCVSFF2d",
    "outputId": "92a0c314-209c-4bb5-c72c-7a95ed161c4d"
   },
   "outputs": [
    {
     "name": "stdout",
     "output_type": "stream",
     "text": [
      "__________________________________________________________________________________________________\n",
      "Layer (type)                    Output Shape         Param #     Connected to                     \n",
      "==================================================================================================\n",
      "sequence_input (InputLayer)     (None, None, 3)      0                                            \n",
      "__________________________________________________________________________________________________\n",
      "gru (GRU)                       (None, 256)          199680      sequence_input[0][0]             \n",
      "__________________________________________________________________________________________________\n",
      "random_input (InputLayer)       (None, 32)           0                                            \n",
      "__________________________________________________________________________________________________\n",
      "concatenate (Concatenate)       (None, 288)          0           gru[0][0]                        \n",
      "                                                                 random_input[0][0]               \n",
      "__________________________________________________________________________________________________\n",
      "dense (Dense)                   (None, 3)            867         concatenate[0][0]                \n",
      "==================================================================================================\n",
      "Total params: 200,547\n",
      "Trainable params: 200,547\n",
      "Non-trainable params: 0\n",
      "__________________________________________________________________________________________________\n"
     ]
    }
   ],
   "source": [
    "generator.summary()"
   ]
  },
  {
   "cell_type": "code",
   "execution_count": 18,
   "metadata": {
    "colab": {
     "base_uri": "https://localhost:8080/",
     "height": 34
    },
    "colab_type": "code",
    "id": "WMsocYm5Jtrh",
    "outputId": "f971b875-8b46-4877-a31c-52b118d2df69"
   },
   "outputs": [
    {
     "data": {
      "text/plain": [
       "[(None, None, 3), (None, 32)]"
      ]
     },
     "execution_count": 18,
     "metadata": {},
     "output_type": "execute_result"
    }
   ],
   "source": [
    "generator.input_shape"
   ]
  },
  {
   "cell_type": "code",
   "execution_count": 17,
   "metadata": {
    "colab": {
     "base_uri": "https://localhost:8080/",
     "height": 442
    },
    "colab_type": "code",
    "id": "s2ffO24ye_sE",
    "outputId": "33e3dcbc-2041-4405-cc8e-7856c6ce4697"
   },
   "outputs": [
    {
     "data": {
      "image/png": "[encoded data removed]",
      "text/plain": [
       "<IPython.core.display.Image object>"
      ]
     },
     "execution_count": 17,
     "metadata": {},
     "output_type": "execute_result"
    }
   ],
   "source": [
    "tf.keras.utils.plot_model(generator, to_file='test_keras_plot_model.png', show_shapes=True)\n",
    "IPython.display.Image('test_keras_plot_model.png')"
   ]
  },
  {
   "cell_type": "markdown",
   "metadata": {
    "colab_type": "text",
    "id": "h5g6r0RdQKdA"
   },
   "source": [
    "## Build the discriminator"
   ]
  },
  {
   "cell_type": "code",
   "execution_count": 19,
   "metadata": {
    "colab": {},
    "colab_type": "code",
    "id": "NxaNCgTIFKe5"
   },
   "outputs": [],
   "source": [
    "discriminator = tf.keras.Sequential([\n",
    "    tf.keras.layers.GRU(128, input_shape=(None, 3)),\n",
    "    tf.keras.layers.Dense(1, activation='sigmoid')\n",
    "])"
   ]
  },
  {
   "cell_type": "code",
   "execution_count": 20,
   "metadata": {
    "colab": {
     "base_uri": "https://localhost:8080/",
     "height": 204
    },
    "colab_type": "code",
    "id": "wJkur_2EQoxx",
    "outputId": "3fbc0796-aa8b-4715-9825-27c50a451029"
   },
   "outputs": [
    {
     "name": "stdout",
     "output_type": "stream",
     "text": [
      "_________________________________________________________________\n",
      "Layer (type)                 Output Shape              Param #   \n",
      "=================================================================\n",
      "gru_1 (GRU)                  (None, 128)               50688     \n",
      "_________________________________________________________________\n",
      "dense_1 (Dense)              (None, 1)                 129       \n",
      "=================================================================\n",
      "Total params: 50,817\n",
      "Trainable params: 50,817\n",
      "Non-trainable params: 0\n",
      "_________________________________________________________________\n"
     ]
    }
   ],
   "source": [
    "discriminator.summary()"
   ]
  },
  {
   "cell_type": "code",
   "execution_count": 21,
   "metadata": {
    "colab": {
     "base_uri": "https://localhost:8080/",
     "height": 34
    },
    "colab_type": "code",
    "id": "qB6WLzM_Ji8v",
    "outputId": "1c437351-44ce-483d-dd35-3fa38eebc4f0"
   },
   "outputs": [
    {
     "data": {
      "text/plain": [
       "(None, None, 3)"
      ]
     },
     "execution_count": 21,
     "metadata": {},
     "output_type": "execute_result"
    }
   ],
   "source": [
    "discriminator.input_shape"
   ]
  },
  {
   "cell_type": "code",
   "execution_count": 21,
   "metadata": {
    "colab": {
     "base_uri": "https://localhost:8080/",
     "height": 298
    },
    "colab_type": "code",
    "id": "CeprcFe8e07m",
    "outputId": "98ec6518-3c46-488b-c7cb-66725275c365"
   },
   "outputs": [
    {
     "data": {
      "image/png": "[encoded data removed]",
      "text/plain": [
       "<IPython.core.display.Image object>"
      ]
     },
     "execution_count": 21,
     "metadata": {},
     "output_type": "execute_result"
    }
   ],
   "source": [
    "tf.keras.utils.plot_model(discriminator, to_file='test_keras_plot_model.png', show_shapes=True)\n",
    "IPython.display.Image('test_keras_plot_model.png')"
   ]
  },
  {
   "cell_type": "markdown",
   "metadata": {
    "colab_type": "text",
    "id": "2wl0aHgEQ3CK"
   },
   "source": [
    "## Put the adversarial model together"
   ]
  },
  {
   "cell_type": "code",
   "execution_count": 22,
   "metadata": {
    "colab": {},
    "colab_type": "code",
    "id": "ouh6hfmzRFwF"
   },
   "outputs": [],
   "source": [
    "discriminator.compile(optimizer='adam', loss='binary_crossentropy')"
   ]
  },
  {
   "cell_type": "code",
   "execution_count": 23,
   "metadata": {
    "colab": {},
    "colab_type": "code",
    "id": "XfkV94BKR3KO"
   },
   "outputs": [],
   "source": [
    "discriminator.trainable = False\n",
    "\n",
    "g_out = generator([sequence_input, random_input])\n",
    "g_out = tf.keras.layers.Reshape((1, 3))(g_out)\n",
    "d_in = tf.keras.layers.Concatenate(axis=1)([sequence_input, g_out])\n",
    "d_out = discriminator(d_in)\n",
    "\n",
    "adversarial = tf.keras.models.Model(inputs=[sequence_input, random_input], outputs=d_out)\n",
    "\n",
    "adversarial.compile(optimizer='adam', loss='binary_crossentropy')"
   ]
  },
  {
   "cell_type": "code",
   "execution_count": 24,
   "metadata": {
    "colab": {
     "base_uri": "https://localhost:8080/",
     "height": 394
    },
    "colab_type": "code",
    "id": "u5V5S9bUYGAE",
    "outputId": "b5909c4f-407c-4dad-8384-47584730726f"
   },
   "outputs": [
    {
     "name": "stdout",
     "output_type": "stream",
     "text": [
      "__________________________________________________________________________________________________\n",
      "Layer (type)                    Output Shape         Param #     Connected to                     \n",
      "==================================================================================================\n",
      "sequence_input (InputLayer)     (None, None, 3)      0                                            \n",
      "__________________________________________________________________________________________________\n",
      "random_input (InputLayer)       (None, 32)           0                                            \n",
      "__________________________________________________________________________________________________\n",
      "model (Model)                   (None, 3)            200547      sequence_input[0][0]             \n",
      "                                                                 random_input[0][0]               \n",
      "__________________________________________________________________________________________________\n",
      "reshape (Reshape)               (None, 1, 3)         0           model[1][0]                      \n",
      "__________________________________________________________________________________________________\n",
      "concatenate_1 (Concatenate)     (None, None, 3)      0           sequence_input[0][0]             \n",
      "                                                                 reshape[0][0]                    \n",
      "__________________________________________________________________________________________________\n",
      "sequential (Sequential)         (None, 1)            50817       concatenate_1[0][0]              \n",
      "==================================================================================================\n",
      "Total params: 251,364\n",
      "Trainable params: 200,547\n",
      "Non-trainable params: 50,817\n",
      "__________________________________________________________________________________________________\n"
     ]
    }
   ],
   "source": [
    "adversarial.summary()"
   ]
  },
  {
   "cell_type": "code",
   "execution_count": 25,
   "metadata": {
    "colab": {
     "base_uri": "https://localhost:8080/",
     "height": 34
    },
    "colab_type": "code",
    "id": "9TyEzAOedDfJ",
    "outputId": "c7a34294-4066-44a4-9519-0624b57b6c4a"
   },
   "outputs": [
    {
     "data": {
      "text/plain": [
       "[(None, None, 3), (None, 32)]"
      ]
     },
     "execution_count": 25,
     "metadata": {},
     "output_type": "execute_result"
    }
   ],
   "source": [
    "adversarial.input_shape"
   ]
  },
  {
   "cell_type": "code",
   "execution_count": 26,
   "metadata": {
    "colab": {
     "base_uri": "https://localhost:8080/",
     "height": 553
    },
    "colab_type": "code",
    "id": "kmsEk4GLdzZ1",
    "outputId": "97181ef9-b20e-4d31-e359-c0547ddb5563"
   },
   "outputs": [
    {
     "data": {
      "image/png": "[encoded data removed]",
      "text/plain": [
       "<IPython.core.display.Image object>"
      ]
     },
     "execution_count": 26,
     "metadata": {},
     "output_type": "execute_result"
    }
   ],
   "source": [
    "tf.keras.utils.plot_model(adversarial, to_file='test_keras_plot_model.png', show_shapes=True)\n",
    "IPython.display.Image('test_keras_plot_model.png')"
   ]
  },
  {
   "cell_type": "markdown",
   "metadata": {
    "colab_type": "text",
    "id": "0k0kU1UgNyba"
   },
   "source": [
    "## Set the data up for training\n",
    "The data should be split into a list of sequences of `SEQ_LENGTH` and then three copies shall be made and shuffled seperately: one copy as the input for generating fake data to train the discriminator, one as real data to train the discriminator and a third one as input to the adversarial model to train the generator.\n",
    "\n",
    "Suffling is supposed to happend during training at the beginning of each epoch, though."
   ]
  },
  {
   "cell_type": "code",
   "execution_count": 26,
   "metadata": {
    "colab": {},
    "colab_type": "code",
    "id": "743m_TBYPMDB"
   },
   "outputs": [],
   "source": [
    "SEQ_LENGTH = 100"
   ]
  },
  {
   "cell_type": "code",
   "execution_count": 27,
   "metadata": {
    "colab": {
     "base_uri": "https://localhost:8080/",
     "height": 34
    },
    "colab_type": "code",
    "id": "mr5rHo3rYVjB",
    "outputId": "a136d844-81c5-4e23-ab1a-1d25e83ed549"
   },
   "outputs": [
    {
     "data": {
      "text/plain": [
       "(109124, 101, 3)"
      ]
     },
     "execution_count": 27,
     "metadata": {},
     "output_type": "execute_result"
    }
   ],
   "source": [
    "real_outputs = data_train[:(len(data_train) // (SEQ_LENGTH + 1)) * (SEQ_LENGTH + 1)]\n",
    "real_outputs = real_outputs.reshape([-1, SEQ_LENGTH + 1, 3])\n",
    "\n",
    "real_outputs.shape"
   ]
  },
  {
   "cell_type": "code",
   "execution_count": 28,
   "metadata": {
    "colab": {
     "base_uri": "https://localhost:8080/",
     "height": 34
    },
    "colab_type": "code",
    "id": "BvX4yTy1X1fC",
    "outputId": "5d50cd97-65f2-4c1e-9570-ddb072a0d733"
   },
   "outputs": [
    {
     "data": {
      "text/plain": [
       "(109124, 100, 3)"
      ]
     },
     "execution_count": 28,
     "metadata": {},
     "output_type": "execute_result"
    }
   ],
   "source": [
    "g_inputs = real_outputs[:, :100].copy()\n",
    "\n",
    "g_inputs.shape"
   ]
  },
  {
   "cell_type": "code",
   "execution_count": 29,
   "metadata": {
    "colab": {
     "base_uri": "https://localhost:8080/",
     "height": 34
    },
    "colab_type": "code",
    "id": "qiJmxLvGv0uF",
    "outputId": "72eb3dbe-3323-44f4-b81c-e34ce7729bf8"
   },
   "outputs": [
    {
     "data": {
      "text/plain": [
       "(109124, 100, 3)"
      ]
     },
     "execution_count": 29,
     "metadata": {},
     "output_type": "execute_result"
    }
   ],
   "source": [
    "a_inputs = g_inputs.copy()\n",
    "\n",
    "a_inputs.shape"
   ]
  },
  {
   "cell_type": "code",
   "execution_count": 30,
   "metadata": {
    "colab": {
     "base_uri": "https://localhost:8080/",
     "height": 68
    },
    "colab_type": "code",
    "id": "YeLzaSjjVL52",
    "outputId": "30dea894-d383-4797-a6dc-6c44396d6d57"
   },
   "outputs": [
    {
     "name": "stdout",
     "output_type": "stream",
     "text": [
      "real_outputs: (109120, 101, 3)\n",
      "g_inputs:     (109120, 100, 3)\n",
      "a_inputs:     (109124, 100, 3)\n"
     ]
    }
   ],
   "source": [
    "BATCH_SIZE = 64\n",
    "n_batches = len(real_outputs) // BATCH_SIZE\n",
    "\n",
    "real_outputs = real_outputs[:n_batches * BATCH_SIZE]\n",
    "g_inputs = g_inputs[:n_batches * BATCH_SIZE]\n",
    "\n",
    "print('real_outputs:', real_outputs.shape)\n",
    "print('g_inputs:    ', g_inputs.shape)\n",
    "print('a_inputs:    ', a_inputs.shape)"
   ]
  },
  {
   "cell_type": "markdown",
   "metadata": {
    "colab_type": "text",
    "id": "dkkKIrBR2qdl"
   },
   "source": [
    "## Training"
   ]
  },
  {
   "cell_type": "code",
   "execution_count": null,
   "metadata": {
    "colab": {
     "base_uri": "https://localhost:8080/",
     "height": 527
    },
    "colab_type": "code",
    "id": "Zde4DIYcay0y",
    "outputId": "a9b8c1ed-e74b-48fd-e7fb-9f044f873758"
   },
   "outputs": [
    {
     "name": "stdout",
     "output_type": "stream",
     "text": [
      "Epoch 01 -> step 000640/109120: g_loss: 0.7316, d_loss: 0.6831"
     ]
    }
   ],
   "source": [
    "EPOCHS = 30\n",
    "\n",
    "history = {'g_loss': [], 'd_loss': []}\n",
    "\n",
    "tf.logging.set_verbosity(tf.logging.ERROR)\n",
    "\n",
    "for epoch in range(EPOCHS):\n",
    "    np.random.shuffle(real_outputs)\n",
    "    np.random.shuffle(g_inputs)\n",
    "    np.random.shuffle(a_inputs)\n",
    "    \n",
    "    g_losses = np.zeros(n_batches)\n",
    "    d_losses = np.zeros(n_batches)\n",
    "    \n",
    "    for batch in range(n_batches):\n",
    "        # Train the discriminator\n",
    "        g_in = g_inputs[batch * BATCH_SIZE:(batch + 1) * BATCH_SIZE][:32]\n",
    "        noise = np.random.rand(BATCH_SIZE // 2, 32)\n",
    "        fake_preds = generator.predict([g_in, noise])\n",
    "        fake_preds = fake_preds.reshape([BATCH_SIZE // 2, 1, 3])\n",
    "        fake_data = np.concatenate([g_in, fake_preds], axis=1)\n",
    "        fake_labels = np.zeros(BATCH_SIZE // 2)\n",
    "        \n",
    "        real_data = real_outputs[batch * BATCH_SIZE:(batch + 1) * BATCH_SIZE][:32]\n",
    "        real_labels = np.ones(BATCH_SIZE // 2)\n",
    "        \n",
    "        d_loss_fake = discriminator.train_on_batch(fake_data, fake_labels)\n",
    "        d_loss_real = discriminator.train_on_batch(real_data, real_labels)\n",
    "        d_loss = 0.5 * np.add(d_loss_fake, d_loss_real)\n",
    "        \n",
    "        # Train the generator\n",
    "        a_in = a_inputs[batch * BATCH_SIZE:(batch + 1) * BATCH_SIZE]\n",
    "        noise = np.random.rand(BATCH_SIZE, 32)\n",
    "        g_loss = adversarial.train_on_batch([a_in, noise], np.ones(BATCH_SIZE))\n",
    "                \n",
    "        # Logging, output etc.\n",
    "        g_losses[batch] = g_loss\n",
    "        d_losses[batch] = d_loss\n",
    "        if batch % 1 == 0:\n",
    "            print('\\rEpoch {:02d} -> step {:06d}/{:06d}: g_loss: {:.4f}, d_loss: {:.4f}'.format(epoch + 1,\n",
    "                                                                                                (batch + 1) * BATCH_SIZE,\n",
    "                                                                                                n_batches * BATCH_SIZE,\n",
    "                                                                                                g_loss, d_loss),\n",
    "                                                                                                end='')\n",
    "    # Save checkpoints\n",
    "    generator.save('checkpoints/citybased_gan_2/' + setup_string + '_{:02d}_g.h5'.format(epoch + 1))\n",
    "    discriminator.save('checkpoints/citybased_gan_2/' + setup_string + '_{:02d}_d.h5'.format(epoch + 1))\n",
    "    adversarial.save('checkpoints/citybased_gan_2/' + setup_string + '_{:02d}_a.h5'.format(epoch + 1))\n",
    "    \n",
    "    # Save history\n",
    "    history['g_loss'].append(g_losses.mean())\n",
    "    history['d_loss'].append(d_losses.mean())\n",
    "    with open('histories/citybased_gan_2/' + setup_string + '_{:02d}.pkl'.format(epoch + 1), 'wb') as file:\n",
    "        pickle.dump(history, file)\n",
    "    \n",
    "    # Print epoch summary\n",
    "    print('\\rEpoch {:02d}: g_loss: {:.4f}, d_loss: {:.4f}'.format(epoch + 1, history['g_loss'][-1], history['d_loss'][-1]))"
   ]
  },
  {
   "cell_type": "markdown",
   "metadata": {
    "colab_type": "text",
    "id": "IOokszv-K0KR"
   },
   "source": [
    "## Save and plot the history\n",
    "The history holds information on loss and validiation loss during training."
   ]
  },
  {
   "cell_type": "code",
   "execution_count": 33,
   "metadata": {
    "colab": {
     "base_uri": "https://localhost:8080/",
     "height": 34
    },
    "colab_type": "code",
    "id": "v0295y1g_j-i",
    "outputId": "6974aa7a-705c-43a7-e386-e81ec346f34f"
   },
   "outputs": [
    {
     "name": "stdout",
     "output_type": "stream",
     "text": [
      "Hello\n"
     ]
    }
   ],
   "source": [
    "print(\"Hello\")"
   ]
  },
  {
   "cell_type": "markdown",
   "metadata": {
    "colab_type": "text",
    "id": "J1l4J261LCCg"
   },
   "source": [
    "## Load and prepare the trained model for generating data"
   ]
  },
  {
   "cell_type": "markdown",
   "metadata": {
    "colab_type": "text",
    "id": "8CFJhAhyRSoR"
   },
   "source": [
    "## Generate geolocation data of one entity using the trained model\n",
    "In the end the generated data is saved to disk in order to be reused from a different notebook."
   ]
  },
  {
   "cell_type": "code",
   "execution_count": null,
   "metadata": {
    "colab": {},
    "colab_type": "code",
    "id": "aFWC2EknLpR_"
   },
   "outputs": [],
   "source": [
    "N_GENERATE = 1000\n",
    "\n",
    "start = [324.0, -122.390085, 37.789910]    # Google Offices in San Francisco: 37.789910, -122.390085\n",
    "generated = np.array([start]).astype(np.float32)\n",
    "\n",
    "model.reset_states()\n",
    "\n",
    "for i in range(1, N_GENERATE):\n",
    "    input = generated[-1:]\n",
    "    input = scaler.transform(input)\n",
    "    input = np.array([input])\n",
    "    \n",
    "    prediction = model.predict(input, batch_size=1)\n",
    "    \n",
    "    prediction = np.squeeze(prediction, axis=0)\n",
    "    prediction = scaler.inverse_transform(prediction)\n",
    "    \n",
    "    generated = np.concatenate([generated, prediction])"
   ]
  },
  {
   "cell_type": "code",
   "execution_count": null,
   "metadata": {
    "colab": {},
    "colab_type": "code",
    "id": "-lg06MD4Qg82"
   },
   "outputs": [],
   "source": [
    "generated.shape"
   ]
  },
  {
   "cell_type": "code",
   "execution_count": null,
   "metadata": {
    "colab": {},
    "colab_type": "code",
    "id": "-ElKGEsXQjAu"
   },
   "outputs": [],
   "source": [
    "generated"
   ]
  },
  {
   "cell_type": "code",
   "execution_count": null,
   "metadata": {
    "colab": {},
    "colab_type": "code",
    "id": "747Ob_KSReL5"
   },
   "outputs": [],
   "source": [
    "with open('generated/citybased_gan/test_00.pkl', 'wb') as file:\n",
    "    pickle.dump(generated, file)\n",
    "    print('Generated data saved')"
   ]
  }
 ],
 "metadata": {
  "accelerator": "GPU",
  "colab": {
   "collapsed_sections": [],
   "name": "citybased_gan.ipynb",
   "provenance": [],
   "version": "0.3.2"
  },
  "kernelspec": {
   "display_name": "Python 3",
   "language": "python",
   "name": "python3"
  },
  "language_info": {
   "codemirror_mode": {
    "name": "ipython",
    "version": 3
   },
   "file_extension": ".py",
   "mimetype": "text/x-python",
   "name": "python",
   "nbconvert_exporter": "python",
   "pygments_lexer": "ipython3",
   "version": "3.6.7"
  }
 },
 "nbformat": 4,
 "nbformat_minor": 1
}
