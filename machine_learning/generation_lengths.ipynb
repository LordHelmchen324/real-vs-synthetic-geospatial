{
 "cells": [
  {
   "cell_type": "code",
   "execution_count": 1,
   "metadata": {},
   "outputs": [],
   "source": [
    "import matplotlib.pyplot as plt\n",
    "import numpy as np\n",
    "import pandas as pd\n",
    "import seaborn as sns\n",
    "from sklearn.neighbors import KernelDensity"
   ]
  },
  {
   "cell_type": "code",
   "execution_count": 2,
   "metadata": {},
   "outputs": [],
   "source": [
    "# Load the data\n",
    "df = pd.read_pickle('../data_cabspotting/cabspotting.pkl')"
   ]
  },
  {
   "cell_type": "code",
   "execution_count": 4,
   "metadata": {},
   "outputs": [],
   "source": [
    "lengths_real = df.reset_index().groupby('user').size()"
   ]
  },
  {
   "cell_type": "code",
   "execution_count": 6,
   "metadata": {},
   "outputs": [
    {
     "data": {
      "text/plain": [
       "user\n",
       "abboip      23495\n",
       "abcoij       5454\n",
       "abdremlu    21962\n",
       "abgibo      25095\n",
       "abjoolaw     8704\n",
       "dtype: int64"
      ]
     },
     "execution_count": 6,
     "metadata": {},
     "output_type": "execute_result"
    }
   ],
   "source": [
    "lengths_real.head()"
   ]
  },
  {
   "cell_type": "code",
   "execution_count": 17,
   "metadata": {},
   "outputs": [],
   "source": [
    "lengths_real = lengths_real.values.reshape(-1, 1)"
   ]
  },
  {
   "cell_type": "code",
   "execution_count": 20,
   "metadata": {},
   "outputs": [
    {
     "data": {
      "text/plain": [
       "array([[23495],\n",
       "       [ 5454],\n",
       "       [21962],\n",
       "       [25095],\n",
       "       [ 8704]])"
      ]
     },
     "execution_count": 20,
     "metadata": {},
     "output_type": "execute_result"
    }
   ],
   "source": [
    "lengths_real[:5]"
   ]
  },
  {
   "cell_type": "code",
   "execution_count": 27,
   "metadata": {},
   "outputs": [
    {
     "data": {
      "image/png": "[encoded data removed]",
      "text/plain": [
       "<Figure size 432x288 with 1 Axes>"
      ]
     },
     "metadata": {
      "needs_background": "light"
     },
     "output_type": "display_data"
    }
   ],
   "source": [
    "plt.hist(lengths_real)\n",
    "plt.show()"
   ]
  },
  {
   "cell_type": "code",
   "execution_count": 52,
   "metadata": {},
   "outputs": [
    {
     "data": {
      "text/plain": [
       "KernelDensity(algorithm='auto', atol=0, bandwidth=0.003, breadth_first=True,\n",
       "       kernel='gaussian', leaf_size=40, metric='euclidean',\n",
       "       metric_params=None, rtol=0)"
      ]
     },
     "execution_count": 52,
     "metadata": {},
     "output_type": "execute_result"
    }
   ],
   "source": [
    "kde = KernelDensity(bandwidth=0.003)\n",
    "kde.fit(lengths_real)"
   ]
  },
  {
   "cell_type": "code",
   "execution_count": 65,
   "metadata": {},
   "outputs": [],
   "source": [
    "lengths_gentd = kde.sample(500)"
   ]
  },
  {
   "cell_type": "code",
   "execution_count": 86,
   "metadata": {},
   "outputs": [
    {
     "data": {
      "text/plain": [
       "array([-1.93388890e+08, -1.68357874e+07, -7.73700301e+09, -9.91463285e+05,\n",
       "       -1.05965247e+06, -6.24703042e+08, -2.29952707e+09, -4.71683675e+08,\n",
       "       -4.75810093e+07, -8.30909589e+07, -2.72857514e+08, -7.81675242e+07,\n",
       "       -6.08747295e+07, -1.22402842e+06, -7.62358416e+06, -2.12712853e+08,\n",
       "       -1.19951415e+05, -2.80538758e+08, -9.18150784e+07, -4.12380272e+07,\n",
       "       -1.45426652e+08, -3.63276658e+07, -8.79843127e+05, -1.44408817e+05,\n",
       "       -8.05458440e+04, -1.38617257e+07, -1.18182378e+06, -8.02723542e+06,\n",
       "       -6.14465306e+09, -1.73207831e+08, -2.10292380e+10, -1.48631163e+11,\n",
       "       -6.72147394e+10, -3.51395462e+08, -4.91805870e+10, -2.13702314e+11,\n",
       "       -4.93916577e+11, -8.89823375e+11, -1.40142271e+12, -2.02871458e+12,\n",
       "       -2.77169898e+12, -3.15027198e+12, -2.35434667e+12, -1.67411389e+12,\n",
       "       -1.10957366e+12, -6.60725954e+11, -3.27570787e+11, -1.10108156e+11,\n",
       "       -8.33806028e+09, -2.22605000e+10])"
      ]
     },
     "execution_count": 86,
     "metadata": {},
     "output_type": "execute_result"
    }
   ],
   "source": [
    "kde.score_samples(g)"
   ]
  },
  {
   "cell_type": "code",
   "execution_count": 83,
   "metadata": {},
   "outputs": [
    {
     "name": "stdout",
     "output_type": "stream",
     "text": [
      "[0. 0. 0. 0. 0. 0. 0. 0. 0. 0. 0. 0. 0. 0. 0. 0. 0. 0. 0. 0. 0. 0. 0. 0.\n",
      " 0. 0. 0. 0. 0. 0. 0. 0. 0. 0. 0. 0. 0. 0. 0. 0. 0. 0. 0. 0. 0. 0. 0. 0.\n",
      " 0. 0.]\n"
     ]
    },
    {
     "data": {
      "image/png": "[encoded data removed]",
      "text/plain": [
       "<Figure size 432x288 with 1 Axes>"
      ]
     },
     "metadata": {
      "needs_background": "light"
     },
     "output_type": "display_data"
    }
   ],
   "source": [
    "plt.hist(lengths_real, density=True)\n",
    "plt.hist(lengths_gentd, density=True, color='orange')\n",
    "\n",
    "g = np.linspace(0, 50000, 50).reshape(-1, 1)\n",
    "print(np.exp(kde.score_samples(g)))\n",
    "plt.plot(g, np.exp(kde.score_samples(g)), 'r--')\n",
    "\n",
    "plt.show()"
   ]
  }
 ],
 "metadata": {
  "kernelspec": {
   "display_name": "Python 3",
   "language": "python",
   "name": "python3"
  },
  "language_info": {
   "codemirror_mode": {
    "name": "ipython",
    "version": 3
   },
   "file_extension": ".py",
   "mimetype": "text/x-python",
   "name": "python",
   "nbconvert_exporter": "python",
   "pygments_lexer": "ipython3",
   "version": "3.6.7"
  }
 },
 "nbformat": 4,
 "nbformat_minor": 2
}
