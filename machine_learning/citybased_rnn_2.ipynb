{
 "cells": [
  {
   "cell_type": "code",
   "execution_count": 1,
   "metadata": {
    "colab": {
     "base_uri": "https://localhost:8080/",
     "height": 51
    },
    "colab_type": "code",
    "id": "BFLtqc6hXszW",
    "outputId": "404a0d49-f0e5-46b1-f235-21fc54841d0b"
   },
   "outputs": [
    {
     "name": "stdout",
     "output_type": "stream",
     "text": [
      "The current working directory is: /Users/stefankaiser/Desktop/Research Project/machine_learning\n"
     ]
    }
   ],
   "source": [
    "# Setup of libraries, mounting the Google Drive etc.\n",
    "\n",
    "local = True\n",
    "\n",
    "import os\n",
    "\n",
    "if local == False:\n",
    "    import sys\n",
    "    from google.colab import drive\n",
    "    drive.mount('/content/gdrive')\n",
    "    os.chdir('/content/gdrive/My Drive/Colab Notebooks')\n",
    "else:\n",
    "    os.environ['KMP_DUPLICATE_LIB_OK'] = 'True'\n",
    "\n",
    "import matplotlib.pyplot as plt\n",
    "import numpy as np\n",
    "import pandas as pd\n",
    "import pickle\n",
    "\n",
    "import tensorflow as tf\n",
    "\n",
    "import utils\n",
    "import IPython\n",
    "\n",
    "print('The current working directory is:', os.getcwd())"
   ]
  },
  {
   "cell_type": "markdown",
   "metadata": {
    "colab_type": "text",
    "id": "F4RQ7cebj9j0"
   },
   "source": [
    "## Define the parameters\n",
    "... meaning paramters like which dataset to train on, batch size and so on and so forth"
   ]
  },
  {
   "cell_type": "code",
   "execution_count": 2,
   "metadata": {
    "colab": {},
    "colab_type": "code",
    "id": "RAvJyjynkIyO"
   },
   "outputs": [],
   "source": [
    "DATASET_NAME = 'cabspotting'\n",
    "GRU_SIZE = 32\n",
    "\n",
    "setup_string = 'GRU-{gru_size}_TD-Dense-3_{dataset}_64_100_adam_mae_default'.format(dataset=DATASET_NAME,\n",
    "                                                                                    gru_size=GRU_SIZE)"
   ]
  },
  {
   "cell_type": "code",
   "execution_count": 3,
   "metadata": {
    "colab": {
     "base_uri": "https://localhost:8080/",
     "height": 34
    },
    "colab_type": "code",
    "id": "UW9yTd7v8GHA",
    "outputId": "0fb492fe-d3d9-4f11-bb89-c6ee573c4898"
   },
   "outputs": [
    {
     "data": {
      "text/plain": [
       "'GRU-32_TD-Dense-3_cabspotting_64_100_adam_mae_default'"
      ]
     },
     "execution_count": 3,
     "metadata": {},
     "output_type": "execute_result"
    }
   ],
   "source": [
    "setup_string"
   ]
  },
  {
   "cell_type": "markdown",
   "metadata": {
    "colab_type": "text",
    "id": "lHDRiK7LYw2s"
   },
   "source": [
    "## Read the dataset from `.pkl` file\n"
   ]
  },
  {
   "cell_type": "code",
   "execution_count": 4,
   "metadata": {
    "colab": {
     "base_uri": "https://localhost:8080/",
     "height": 235
    },
    "colab_type": "code",
    "id": "rxQz-vmJYEGC",
    "outputId": "7a9364c1-9875-48fa-90e7-aea3a1d63475"
   },
   "outputs": [
    {
     "data": {
      "text/html": [
       "<div>\n",
       "<style scoped>\n",
       "    .dataframe tbody tr th:only-of-type {\n",
       "        vertical-align: middle;\n",
       "    }\n",
       "\n",
       "    .dataframe tbody tr th {\n",
       "        vertical-align: top;\n",
       "    }\n",
       "\n",
       "    .dataframe thead th {\n",
       "        text-align: right;\n",
       "    }\n",
       "</style>\n",
       "<table border=\"1\" class=\"dataframe\">\n",
       "  <thead>\n",
       "    <tr style=\"text-align: right;\">\n",
       "      <th></th>\n",
       "      <th></th>\n",
       "      <th>latitude</th>\n",
       "      <th>longitude</th>\n",
       "      <th>occupied</th>\n",
       "    </tr>\n",
       "    <tr>\n",
       "      <th>user</th>\n",
       "      <th>time</th>\n",
       "      <th></th>\n",
       "      <th></th>\n",
       "      <th></th>\n",
       "    </tr>\n",
       "  </thead>\n",
       "  <tbody>\n",
       "    <tr>\n",
       "      <th rowspan=\"5\" valign=\"top\">abboip</th>\n",
       "      <th>2008-05-17 14:12:10</th>\n",
       "      <td>37.75153</td>\n",
       "      <td>-122.39447</td>\n",
       "      <td>0</td>\n",
       "    </tr>\n",
       "    <tr>\n",
       "      <th>2008-05-17 14:13:34</th>\n",
       "      <td>37.75149</td>\n",
       "      <td>-122.39447</td>\n",
       "      <td>0</td>\n",
       "    </tr>\n",
       "    <tr>\n",
       "      <th>2008-05-17 14:14:34</th>\n",
       "      <td>37.75149</td>\n",
       "      <td>-122.39447</td>\n",
       "      <td>0</td>\n",
       "    </tr>\n",
       "    <tr>\n",
       "      <th>2008-05-17 14:15:35</th>\n",
       "      <td>37.75149</td>\n",
       "      <td>-122.39446</td>\n",
       "      <td>0</td>\n",
       "    </tr>\n",
       "    <tr>\n",
       "      <th>2008-05-17 14:41:43</th>\n",
       "      <td>37.75144</td>\n",
       "      <td>-122.39449</td>\n",
       "      <td>0</td>\n",
       "    </tr>\n",
       "  </tbody>\n",
       "</table>\n",
       "</div>"
      ],
      "text/plain": [
       "                            latitude  longitude  occupied\n",
       "user   time                                              \n",
       "abboip 2008-05-17 14:12:10  37.75153 -122.39447         0\n",
       "       2008-05-17 14:13:34  37.75149 -122.39447         0\n",
       "       2008-05-17 14:14:34  37.75149 -122.39447         0\n",
       "       2008-05-17 14:15:35  37.75149 -122.39446         0\n",
       "       2008-05-17 14:41:43  37.75144 -122.39449         0"
      ]
     },
     "execution_count": 4,
     "metadata": {},
     "output_type": "execute_result"
    }
   ],
   "source": [
    "df = pd.read_pickle('datasets/{name}.pkl'.format(name=DATASET_NAME))\n",
    "df.head()"
   ]
  },
  {
   "cell_type": "markdown",
   "metadata": {
    "colab_type": "text",
    "id": "SRCEhqT6ZLYO"
   },
   "source": [
    "## Convert the dataset to a mapping of users to the strings of their movements"
   ]
  },
  {
   "cell_type": "code",
   "execution_count": 5,
   "metadata": {
    "colab": {
     "base_uri": "https://localhost:8080/",
     "height": 136
    },
    "colab_type": "code",
    "id": "7NmsLO-RC0Lb",
    "outputId": "07031d2e-4fb1-4af5-ca89-1fe707a5ced7"
   },
   "outputs": [
    {
     "data": {
      "text/plain": [
       "user\n",
       "abboip      [[0.0, -122.39447, 37.751529999999995], [84.0,...\n",
       "abcoij      [[0.0, -122.41466000000001, 37.80346], [60.000...\n",
       "abdremlu    [[0.0, -122.39093000000001, 37.75521], [60.000...\n",
       "abgibo      [[0.0, -122.4374, 37.7733], [45.0, -122.43834,...\n",
       "abjoolaw    [[0.0, -122.39747, 37.75159], [60.000000000000...\n",
       "dtype: object"
      ]
     },
     "execution_count": 5,
     "metadata": {},
     "output_type": "execute_result"
    }
   ],
   "source": [
    "df = utils.records_to_user_geolcation_2(df)\n",
    "df.head()"
   ]
  },
  {
   "cell_type": "markdown",
   "metadata": {
    "colab_type": "text",
    "id": "G7jbyag-Ztfr"
   },
   "source": [
    "## Concatenate all user strings of data to one complete string of all"
   ]
  },
  {
   "cell_type": "code",
   "execution_count": 6,
   "metadata": {
    "colab": {
     "base_uri": "https://localhost:8080/",
     "height": 170
    },
    "colab_type": "code",
    "id": "rLm4S-MyDKdm",
    "outputId": "38860619-d927-40f5-8237-e8692d9c5c75"
   },
   "outputs": [
    {
     "name": "stdout",
     "output_type": "stream",
     "text": [
      "(11219955, 3)\n",
      "\n",
      "[[   0.      -122.39447   37.75153]\n",
      " [  84.      -122.39447   37.75149]\n",
      " [  60.      -122.39447   37.75149]\n",
      " ...\n",
      " [  64.      -122.44239   37.75686]\n",
      " [  56.      -122.44215   37.76047]\n",
      " [  61.      -122.43687   37.76075]]\n"
     ]
    }
   ],
   "source": [
    "data = utils.user_geolocation_to_single_sequence(df)\n",
    "\n",
    "print(data.shape)\n",
    "print()\n",
    "print(data)"
   ]
  },
  {
   "cell_type": "markdown",
   "metadata": {
    "colab_type": "text",
    "id": "tgh9Jnhbvo7a"
   },
   "source": [
    "## Convert the data to 32-bit floats\n",
    "This is to correct an error I got earlier. Apparently the GRU layers can't handle 64-bit integers (doubles) as input."
   ]
  },
  {
   "cell_type": "code",
   "execution_count": 7,
   "metadata": {
    "colab": {
     "base_uri": "https://localhost:8080/",
     "height": 34
    },
    "colab_type": "code",
    "id": "WY07YNcWv2RS",
    "outputId": "df287f17-2b5c-4861-8090-9972aa71b8c5"
   },
   "outputs": [
    {
     "name": "stdout",
     "output_type": "stream",
     "text": [
      "Before:  float64\n"
     ]
    }
   ],
   "source": [
    "print('Before: ', data.dtype)"
   ]
  },
  {
   "cell_type": "code",
   "execution_count": 8,
   "metadata": {
    "colab": {},
    "colab_type": "code",
    "id": "l9yt0kQWwH-h"
   },
   "outputs": [],
   "source": [
    "data = data.astype(np.float32)"
   ]
  },
  {
   "cell_type": "code",
   "execution_count": 9,
   "metadata": {
    "colab": {
     "base_uri": "https://localhost:8080/",
     "height": 34
    },
    "colab_type": "code",
    "id": "3_DHJn_9waE1",
    "outputId": "cacbd2dc-127e-4a43-ee89-8cd9ec2ad1ed"
   },
   "outputs": [
    {
     "name": "stdout",
     "output_type": "stream",
     "text": [
      "After:  float32\n"
     ]
    }
   ],
   "source": [
    "print('After: ', data.dtype)"
   ]
  },
  {
   "cell_type": "markdown",
   "metadata": {
    "colab_type": "text",
    "id": "o_C9xIyVLmsZ"
   },
   "source": [
    "## Reshape and -order the data for input into the model (including X and y split)\n"
   ]
  },
  {
   "cell_type": "code",
   "execution_count": 10,
   "metadata": {
    "colab": {
     "base_uri": "https://localhost:8080/",
     "height": 34
    },
    "colab_type": "code",
    "id": "S1cCkuVe9kfY",
    "outputId": "7ec3ef6f-be61-4c0e-e2fb-910bad0e1bf8"
   },
   "outputs": [
    {
     "data": {
      "text/plain": [
       "(11219955, 3)"
      ]
     },
     "execution_count": 10,
     "metadata": {},
     "output_type": "execute_result"
    }
   ],
   "source": [
    "data.shape"
   ]
  },
  {
   "cell_type": "code",
   "execution_count": 11,
   "metadata": {
    "colab": {
     "base_uri": "https://localhost:8080/",
     "height": 51
    },
    "colab_type": "code",
    "id": "80Fa7dg5D9cG",
    "outputId": "10cffda7-6ad3-4a68-f092-2921ccc01aed"
   },
   "outputs": [
    {
     "name": "stdout",
     "output_type": "stream",
     "text": [
      "X: (112192, 100, 3)\n",
      "y: (112192, 100, 3)\n"
     ]
    }
   ],
   "source": [
    "BATCH_SIZE = 64\n",
    "SEQ_LENGTH = 100\n",
    "\n",
    "n_batches, X, y = utils.reshape_single_sequence_to_rnn_Xy(data, BATCH_SIZE, SEQ_LENGTH)\n",
    "\n",
    "print('X:', X.shape)\n",
    "print('y:', y.shape)"
   ]
  },
  {
   "cell_type": "markdown",
   "metadata": {
    "colab_type": "text",
    "id": "Z8TZ9eBOAgHG"
   },
   "source": [
    "## Split into training and validations sets"
   ]
  },
  {
   "cell_type": "code",
   "execution_count": 12,
   "metadata": {
    "colab": {
     "base_uri": "https://localhost:8080/",
     "height": 51
    },
    "colab_type": "code",
    "id": "1KRfAnl2AftS",
    "outputId": "497e51fd-e552-4133-a59a-d35aa35d5304"
   },
   "outputs": [
    {
     "name": "stdout",
     "output_type": "stream",
     "text": [
      "Train: (89728, 100, 3) (89728, 100, 3)\n",
      "Validation: (22464, 100, 3) (22464, 100, 3)\n"
     ]
    }
   ],
   "source": [
    "n_train = int(n_batches * 0.8) * BATCH_SIZE\n",
    "X_train = X[:n_train]\n",
    "y_train = y[:n_train]\n",
    "X_val = X[n_train:]\n",
    "y_val = y[n_train:]\n",
    "\n",
    "print('Train:', X_train.shape, y_train.shape)\n",
    "print('Validation:', X_val.shape, y_val.shape)"
   ]
  },
  {
   "cell_type": "markdown",
   "metadata": {
    "colab_type": "text",
    "id": "noA-JMxmZ9k0"
   },
   "source": [
    "## Standardisation\n",
    "All three features in the data are scaled to have a `mean = 0` and a `standard deviation = 1`.\n",
    "\n",
    "The Scaler is also saved to disk, so it can later be resued in a different Notebook.\n",
    "\n",
    "The Scaler is fitted only to the training data, not the validation / test data."
   ]
  },
  {
   "cell_type": "code",
   "execution_count": 13,
   "metadata": {
    "colab": {
     "base_uri": "https://localhost:8080/",
     "height": 51
    },
    "colab_type": "code",
    "id": "4eXEW0wkH2_W",
    "outputId": "a2c8a10c-92c0-465f-a36a-66bbc2051f1e"
   },
   "outputs": [
    {
     "name": "stdout",
     "output_type": "stream",
     "text": [
      "Means: 91.854850 -122.412297 37.763381\n",
      "Standard deviations: 2743421.750000 0.001298 0.002889\n"
     ]
    }
   ],
   "source": [
    "from sklearn import preprocessing\n",
    "\n",
    "scaler = preprocessing.StandardScaler()\n",
    "scaler.fit(np.array([X_train[:, :, 0].reshape(-1), X_train[:, :, 1].reshape(-1), X_train[:, :, 2].reshape(-1)]).transpose())\n",
    "\n",
    "print('Means: %f %f %f' % (scaler.mean_[0], scaler.mean_[1], scaler.mean_[2]))\n",
    "print('Standard deviations: %f %f %f' % (scaler.var_[0], scaler.var_[1], scaler.var_[2]))"
   ]
  },
  {
   "cell_type": "code",
   "execution_count": 14,
   "metadata": {
    "colab": {
     "base_uri": "https://localhost:8080/",
     "height": 34
    },
    "colab_type": "code",
    "id": "KW0jCkI2f1WZ",
    "outputId": "75dcb966-0438-4b8b-b247-13c3addbb68b"
   },
   "outputs": [
    {
     "name": "stdout",
     "output_type": "stream",
     "text": [
      "Scaler saved\n"
     ]
    }
   ],
   "source": [
    "with open('scalers/citybased_rnn_2/' + setup_string + '.pkl', 'wb') as file:\n",
    "    pickle.dump(scaler, file)\n",
    "    print('Scaler saved')"
   ]
  },
  {
   "cell_type": "code",
   "execution_count": 15,
   "metadata": {
    "colab": {},
    "colab_type": "code",
    "id": "ihZOxir8FmUE"
   },
   "outputs": [],
   "source": [
    "for i in range(len(X_train)):\n",
    "    X_train[i] = scaler.transform(X_train[i])\n",
    "    y_train[i] = scaler.transform(y_train[i])\n",
    "\n",
    "for i in range(len(X_val)):\n",
    "    X_val[i] = scaler.transform(X_val[i])\n",
    "    y_val[i] = scaler.transform(y_val[i])"
   ]
  },
  {
   "cell_type": "code",
   "execution_count": 16,
   "metadata": {
    "colab": {
     "base_uri": "https://localhost:8080/",
     "height": 255
    },
    "colab_type": "code",
    "id": "-I6prUGqKnHz",
    "outputId": "27e4eb89-bc25-48ac-b7c7-879bbf5f7073"
   },
   "outputs": [
    {
     "name": "stdout",
     "output_type": "stream",
     "text": [
      "(89728, 100, 3)\n",
      "\n",
      "[[[-0.05545693  0.49488014 -0.22048947]\n",
      "  [-0.00474233  0.49488014 -0.2211992 ]\n",
      "  [-0.01923221  0.49488014 -0.2211992 ]\n",
      "  [-0.01862847  0.49509194 -0.2211992 ]\n",
      "  [ 0.89121556  0.49424475 -0.22219281]\n",
      "  [-0.01259102  0.49318576 -0.22084434]]]\n",
      "[[[-0.02104345  2.7541401   1.1455052 ]\n",
      "  [-0.01862847  2.7359254   1.1438019 ]\n",
      "  [-0.01802472  2.4103904   1.0920634 ]\n",
      "  [ 0.03872733  1.1872511   0.7922075 ]\n",
      "  [-0.02828839  0.88247234  0.6001577 ]\n",
      "  [-0.02768465  0.55714905  0.4087467 ]]]\n"
     ]
    }
   ],
   "source": [
    "print(X_train.shape)\n",
    "print()\n",
    "print(X_train[:1, :6])\n",
    "print(X_val[:1, :6])"
   ]
  },
  {
   "cell_type": "markdown",
   "metadata": {
    "colab_type": "text",
    "id": "vFm92XsBiiGO"
   },
   "source": [
    "## Build the model"
   ]
  },
  {
   "cell_type": "code",
   "execution_count": 17,
   "metadata": {
    "colab": {},
    "colab_type": "code",
    "id": "KsxAe-NaBEid"
   },
   "outputs": [],
   "source": [
    "def build_model(batch_size):\n",
    "    model = tf.keras.Sequential([\n",
    "        tf.keras.layers.GRU(GRU_SIZE, return_sequences=True, stateful=True, input_shape=(None, 3), batch_size=batch_size),\n",
    "        tf.keras.layers.TimeDistributed(tf.keras.layers.Dense(3))\n",
    "    ])\n",
    "    return model"
   ]
  },
  {
   "cell_type": "code",
   "execution_count": 18,
   "metadata": {
    "colab": {
     "base_uri": "https://localhost:8080/",
     "height": 204
    },
    "colab_type": "code",
    "id": "GE11g2X-efxh",
    "outputId": "ab036503-709f-49d5-975f-65dc36904efe"
   },
   "outputs": [
    {
     "name": "stdout",
     "output_type": "stream",
     "text": [
      "_________________________________________________________________\n",
      "Layer (type)                 Output Shape              Param #   \n",
      "=================================================================\n",
      "gru (GRU)                    (64, None, 32)            3456      \n",
      "_________________________________________________________________\n",
      "time_distributed (TimeDistri (64, None, 3)             99        \n",
      "=================================================================\n",
      "Total params: 3,555\n",
      "Trainable params: 3,555\n",
      "Non-trainable params: 0\n",
      "_________________________________________________________________\n"
     ]
    }
   ],
   "source": [
    "model = build_model(batch_size=BATCH_SIZE)\n",
    "model.summary()"
   ]
  },
  {
   "cell_type": "code",
   "execution_count": 19,
   "metadata": {
    "colab": {
     "base_uri": "https://localhost:8080/",
     "height": 298
    },
    "colab_type": "code",
    "id": "jN6yAvqtWbgO",
    "outputId": "6846ad7a-043b-4927-ec6f-ec78c036853a"
   },
   "outputs": [
    {
     "data": {
      "image/png": "[encoded data removed]",
      "text/plain": [
       "<IPython.core.display.Image object>"
      ]
     },
     "execution_count": 19,
     "metadata": {},
     "output_type": "execute_result"
    }
   ],
   "source": [
    "tf.keras.utils.plot_model(model, to_file='test_keras_plot_model.png', show_shapes=True)\n",
    "IPython.display.Image('test_keras_plot_model.png')"
   ]
  },
  {
   "cell_type": "markdown",
   "metadata": {
    "colab_type": "text",
    "id": "JP5X850FjANF"
   },
   "source": [
    "## Test the model's output (before training)"
   ]
  },
  {
   "cell_type": "code",
   "execution_count": 20,
   "metadata": {
    "colab": {
     "base_uri": "https://localhost:8080/",
     "height": 34
    },
    "colab_type": "code",
    "id": "WdqsUva28s6k",
    "outputId": "d381ea87-992f-4572-efa9-ae82b2e37df8"
   },
   "outputs": [
    {
     "data": {
      "text/plain": [
       "<tf.Tensor 'gru_input:0' shape=(64, ?, 3) dtype=float32>"
      ]
     },
     "execution_count": 20,
     "metadata": {},
     "output_type": "execute_result"
    }
   ],
   "source": [
    "model.input"
   ]
  },
  {
   "cell_type": "code",
   "execution_count": 21,
   "metadata": {
    "colab": {
     "base_uri": "https://localhost:8080/",
     "height": 51
    },
    "colab_type": "code",
    "id": "3eL5DdkcahEl",
    "outputId": "1c04c616-2325-4726-e003-372dc854c3b4"
   },
   "outputs": [
    {
     "name": "stdout",
     "output_type": "stream",
     "text": [
      "Input batch: (64, 100, 3)\n",
      "Output batch: (64, 100, 3)\n"
     ]
    }
   ],
   "source": [
    "# Test the shape of the output\n",
    "test_batch = X[:BATCH_SIZE]\n",
    "print('Input batch:', test_batch.shape)\n",
    "test_predictions = model.predict(test_batch, batch_size=BATCH_SIZE)\n",
    "\n",
    "print('Output batch:', test_predictions.shape)\n",
    "\n",
    "model.reset_states()"
   ]
  },
  {
   "cell_type": "code",
   "execution_count": 22,
   "metadata": {
    "colab": {},
    "colab_type": "code",
    "id": "smiVENujDAuL"
   },
   "outputs": [],
   "source": [
    "test_batch = scaler.inverse_transform(test_batch)\n",
    "test_predictions = scaler.inverse_transform(test_predictions)"
   ]
  },
  {
   "cell_type": "code",
   "execution_count": 23,
   "metadata": {
    "colab": {
     "base_uri": "https://localhost:8080/",
     "height": 102
    },
    "colab_type": "code",
    "id": "PrqkzY-0CZ0b",
    "outputId": "2c1fc056-0244-4303-ecd1-599ddaebc46e"
   },
   "outputs": [
    {
     "name": "stdout",
     "output_type": "stream",
     "text": [
      "Input: \n",
      " [-5.5506291e-07 -1.2239447e+02  3.7751530e+01] [  84.      -122.39447   37.75149] [  60.      -122.39447   37.75149] ...\n",
      "\n",
      "Next Predictions: \n",
      " [ -20.999245 -122.410995   37.759346] [ -72.28188  -122.41023    37.757477] [ -93.64999  -122.4099     37.756718] ...\n"
     ]
    }
   ],
   "source": [
    "print('Input: \\n', test_batch[0, 0], test_batch[0, 1], test_batch[0, 2], '...')\n",
    "print()\n",
    "print('Next Predictions: \\n', test_predictions[0, 0], test_predictions[0, 1], test_predictions[0, 2], '...')"
   ]
  },
  {
   "cell_type": "markdown",
   "metadata": {
    "colab_type": "text",
    "id": "dkkKIrBR2qdl"
   },
   "source": [
    "## Training"
   ]
  },
  {
   "cell_type": "code",
   "execution_count": 24,
   "metadata": {
    "colab": {},
    "colab_type": "code",
    "id": "H8Ai1h_t2p8h"
   },
   "outputs": [],
   "source": [
    "model.compile(optimizer='adam', loss='mean_absolute_error')"
   ]
  },
  {
   "cell_type": "code",
   "execution_count": 25,
   "metadata": {
    "colab": {},
    "colab_type": "code",
    "id": "svDi3JIb2y4-"
   },
   "outputs": [],
   "source": [
    "# Folder for the architecture\n",
    "# Name: List of the layers connected to the parameters by '-',\n",
    "#       dataset that the network was trained on,\n",
    "#       batch size,\n",
    "#       sequence length,\n",
    "#       optimiser,\n",
    "#       loss function,\n",
    "#       learning rate,\n",
    "#       epoch the checkpoint is from\n",
    "checkpoint_path = 'checkpoints/citybased_rnn_2/' + setup_string + '_{epoch:02d}.h5'\n",
    "\n",
    "checkpoint_callback = tf.keras.callbacks.ModelCheckpoint(filepath=checkpoint_path)"
   ]
  },
  {
   "cell_type": "code",
   "execution_count": 26,
   "metadata": {
    "colab": {
     "base_uri": "https://localhost:8080/",
     "height": 714
    },
    "colab_type": "code",
    "id": "uAlrq5LY3niS",
    "outputId": "2796833f-4457-45f1-b0ab-83823fdcec20"
   },
   "outputs": [
    {
     "name": "stdout",
     "output_type": "stream",
     "text": [
      "Train on 89728 samples, validate on 22464 samples\n",
      "Epoch 1/30\n",
      "89728/89728 [==============================] - 301s 3ms/step - loss: 0.0605 - val_loss: 0.0415\n",
      "Epoch 2/30\n",
      "89728/89728 [==============================] - 296s 3ms/step - loss: 0.0419 - val_loss: 0.0406\n",
      "Epoch 3/30\n",
      "89728/89728 [==============================] - 293s 3ms/step - loss: 0.0413 - val_loss: 0.0402\n",
      "Epoch 4/30\n",
      "89728/89728 [==============================] - 293s 3ms/step - loss: 0.0409 - val_loss: 0.0397\n",
      "Epoch 5/30\n",
      "89728/89728 [==============================] - 295s 3ms/step - loss: 0.0406 - val_loss: 0.0399\n",
      "Epoch 6/30\n",
      "89728/89728 [==============================] - 293s 3ms/step - loss: 0.0403 - val_loss: 0.0392\n",
      "Epoch 7/30\n",
      "89728/89728 [==============================] - 293s 3ms/step - loss: 0.0401 - val_loss: 0.0389\n",
      "Epoch 8/30\n",
      "89728/89728 [==============================] - 293s 3ms/step - loss: 0.0399 - val_loss: 0.0386\n",
      "Epoch 9/30\n",
      "89728/89728 [==============================] - 293s 3ms/step - loss: 0.0397 - val_loss: 0.0386\n",
      "Epoch 10/30\n",
      "89728/89728 [==============================] - 294s 3ms/step - loss: 0.0396 - val_loss: 0.0384\n",
      "Epoch 11/30\n",
      "89728/89728 [==============================] - 295s 3ms/step - loss: 0.0395 - val_loss: 0.0383\n",
      "Epoch 12/30\n",
      "89728/89728 [==============================] - 294s 3ms/step - loss: 0.0394 - val_loss: 0.0382\n",
      "Epoch 13/30\n",
      "89728/89728 [==============================] - 299s 3ms/step - loss: 0.0393 - val_loss: 0.0381\n",
      "Epoch 14/30\n",
      "89728/89728 [==============================] - 295s 3ms/step - loss: 0.0392 - val_loss: 0.0380\n",
      "Epoch 15/30\n",
      "89728/89728 [==============================] - 295s 3ms/step - loss: 0.0391 - val_loss: 0.0380\n",
      "Epoch 16/30\n",
      "89728/89728 [==============================] - 296s 3ms/step - loss: 0.0390 - val_loss: 0.0379\n",
      "Epoch 17/30\n",
      "89728/89728 [==============================] - 296s 3ms/step - loss: 0.0390 - val_loss: 0.0379\n",
      "Epoch 18/30\n",
      "89728/89728 [==============================] - 295s 3ms/step - loss: 0.0389 - val_loss: 0.0378\n",
      "Epoch 19/30\n",
      "89728/89728 [==============================] - 296s 3ms/step - loss: 0.0388 - val_loss: 0.0376\n",
      "Epoch 20/30\n",
      "89728/89728 [==============================] - 296s 3ms/step - loss: 0.0387 - val_loss: 0.0375\n",
      "Epoch 21/30\n",
      "89728/89728 [==============================] - 295s 3ms/step - loss: 0.0386 - val_loss: 0.0374\n",
      "Epoch 22/30\n",
      "89728/89728 [==============================] - 294s 3ms/step - loss: 0.0386 - val_loss: 0.0374\n",
      "Epoch 23/30\n",
      "89728/89728 [==============================] - 294s 3ms/step - loss: 0.0385 - val_loss: 0.0374\n",
      "Epoch 24/30\n",
      "89728/89728 [==============================] - 294s 3ms/step - loss: 0.0385 - val_loss: 0.0374\n",
      "Epoch 25/30\n",
      "89728/89728 [==============================] - 295s 3ms/step - loss: 0.0384 - val_loss: 0.0375\n",
      "Epoch 26/30\n",
      "89728/89728 [==============================] - 295s 3ms/step - loss: 0.0383 - val_loss: 0.0372\n",
      "Epoch 27/30\n",
      "89728/89728 [==============================] - 294s 3ms/step - loss: 0.0383 - val_loss: 0.0371\n",
      "Epoch 28/30\n",
      "89728/89728 [==============================] - 294s 3ms/step - loss: 0.0382 - val_loss: 0.0373\n",
      "Epoch 29/30\n",
      "89728/89728 [==============================] - 295s 3ms/step - loss: 0.0381 - val_loss: 0.0371\n",
      "Epoch 30/30\n",
      "89728/89728 [==============================] - 295s 3ms/step - loss: 0.0381 - val_loss: 0.0371\n"
     ]
    }
   ],
   "source": [
    "hist = model.fit(X_train, y_train, epochs=30, batch_size=BATCH_SIZE, shuffle=False, validation_data=(X_val, y_val), callbacks=[checkpoint_callback])"
   ]
  },
  {
   "cell_type": "markdown",
   "metadata": {
    "colab_type": "text",
    "id": "IOokszv-K0KR"
   },
   "source": [
    "## Save and plot the history\n",
    "The history holds information on loss and validiation loss during training."
   ]
  },
  {
   "cell_type": "code",
   "execution_count": 27,
   "metadata": {
    "colab": {
     "base_uri": "https://localhost:8080/",
     "height": 34
    },
    "colab_type": "code",
    "id": "dCYcOLaQ1nKn",
    "outputId": "393c6777-bbed-4438-bb07-71d836dbe34f"
   },
   "outputs": [
    {
     "name": "stdout",
     "output_type": "stream",
     "text": [
      "History saved\n"
     ]
    }
   ],
   "source": [
    "with open('histories/citybased_rnn_2/' + setup_string + '_30.pkl', 'wb') as file:\n",
    "    pickle.dump(hist.history, file)\n",
    "    print('History saved')"
   ]
  },
  {
   "cell_type": "code",
   "execution_count": 28,
   "metadata": {
    "colab": {
     "base_uri": "https://localhost:8080/",
     "height": 347
    },
    "colab_type": "code",
    "id": "KXenSIlp2jAz",
    "outputId": "c6b38040-faef-4031-dd59-3f9dd91719ac"
   },
   "outputs": [
    {
     "data": {
      "image/png": "[encoded data removed]",
      "text/plain": [
       "<Figure size 432x288 with 1 Axes>"
      ]
     },
     "metadata": {
      "needs_background": "light"
     },
     "output_type": "display_data"
    }
   ],
   "source": [
    "plt.plot(hist.history['loss'], label='Loss')\n",
    "plt.plot(hist.history['val_loss'], label='Validation Loss')\n",
    "plt.legend()\n",
    "plt.show()"
   ]
  },
  {
   "cell_type": "markdown",
   "metadata": {
    "colab_type": "text",
    "id": "J1l4J261LCCg"
   },
   "source": [
    "## Load and prepare the trained model for generating data"
   ]
  },
  {
   "cell_type": "code",
   "execution_count": 0,
   "metadata": {
    "colab": {},
    "colab_type": "code",
    "id": "vHiQ4vD0LGKc"
   },
   "outputs": [],
   "source": [
    "loaded_model = tf.keras.models.load_model('checkpoints/citybased_rnn_2/GRU-1024_TD-Dense-3_cabspotting_64_100_adam_mae_default_05.h5')"
   ]
  },
  {
   "cell_type": "code",
   "execution_count": 0,
   "metadata": {
    "colab": {},
    "colab_type": "code",
    "id": "ndpZGT44LgPd"
   },
   "outputs": [],
   "source": [
    "model = build_model(batch_size=1)\n",
    "\n",
    "weights = loaded_model.get_weights()\n",
    "model.set_weights(weights)"
   ]
  },
  {
   "cell_type": "code",
   "execution_count": 0,
   "metadata": {
    "colab": {
     "base_uri": "https://localhost:8080/",
     "height": 204
    },
    "colab_type": "code",
    "id": "6mUJUd4jLm_A",
    "outputId": "f68f4572-b7a9-4e71-bc44-f89dcd8e8861"
   },
   "outputs": [
    {
     "name": "stdout",
     "output_type": "stream",
     "text": [
      "_________________________________________________________________\n",
      "Layer (type)                 Output Shape              Param #   \n",
      "=================================================================\n",
      "gru_1 (GRU)                  (1, None, 1024)           3158016   \n",
      "_________________________________________________________________\n",
      "time_distributed_1 (TimeDist (1, None, 3)              3075      \n",
      "=================================================================\n",
      "Total params: 3,161,091\n",
      "Trainable params: 3,161,091\n",
      "Non-trainable params: 0\n",
      "_________________________________________________________________\n"
     ]
    }
   ],
   "source": [
    "model.summary()"
   ]
  },
  {
   "cell_type": "markdown",
   "metadata": {
    "colab_type": "text",
    "id": "8CFJhAhyRSoR"
   },
   "source": [
    "## Generate geolocation data of one entity using the trained model\n",
    "In the end the generated data is saved to disk in order to be reused from a different notebook."
   ]
  },
  {
   "cell_type": "code",
   "execution_count": 0,
   "metadata": {
    "colab": {},
    "colab_type": "code",
    "id": "aFWC2EknLpR_"
   },
   "outputs": [],
   "source": [
    "N_GENERATE = 1000\n",
    "\n",
    "start = [324.0, -122.390085, 37.789910]    # Google Offices in San Francisco: 37.789910, -122.390085\n",
    "generated = np.array([start]).astype(np.float32)\n",
    "\n",
    "model.reset_states()\n",
    "\n",
    "for i in range(1, N_GENERATE):\n",
    "    input = generated[-1:]\n",
    "    input = scaler.transform(input)\n",
    "    input = np.array([input])\n",
    "    \n",
    "    prediction = model.predict(input, batch_size=1)\n",
    "    \n",
    "    prediction = np.squeeze(prediction, axis=0)\n",
    "    prediction = scaler.inverse_transform(prediction)\n",
    "    \n",
    "    generated = np.concatenate([generated, prediction])"
   ]
  },
  {
   "cell_type": "code",
   "execution_count": 0,
   "metadata": {
    "colab": {
     "base_uri": "https://localhost:8080/",
     "height": 34
    },
    "colab_type": "code",
    "id": "-lg06MD4Qg82",
    "outputId": "22a83e06-4732-4cc4-d654-c31a1cd2db7e"
   },
   "outputs": [
    {
     "data": {
      "text/plain": [
       "(1000, 3)"
      ]
     },
     "execution_count": 34,
     "metadata": {
      "tags": []
     },
     "output_type": "execute_result"
    }
   ],
   "source": [
    "generated.shape"
   ]
  },
  {
   "cell_type": "code",
   "execution_count": 0,
   "metadata": {
    "colab": {
     "base_uri": "https://localhost:8080/",
     "height": 136
    },
    "colab_type": "code",
    "id": "-ElKGEsXQjAu",
    "outputId": "d71f6a73-3167-47e9-aeb1-c98c6f27596e"
   },
   "outputs": [
    {
     "data": {
      "text/plain": [
       "array([[ 3.24000000e+02, -1.22390083e+02,  3.77899094e+01],\n",
       "       [-3.02492656e+04, -1.22387428e+02,  3.77959785e+01],\n",
       "       [-5.41318281e+04, -1.22385445e+02,  3.78016281e+01],\n",
       "       ...,\n",
       "       [-1.29628850e+06, -1.22439728e+02,  3.76924286e+01],\n",
       "       [-1.29628400e+06, -1.22439728e+02,  3.76924057e+01],\n",
       "       [-1.29627975e+06, -1.22439728e+02,  3.76923828e+01]], dtype=float32)"
      ]
     },
     "execution_count": 35,
     "metadata": {
      "tags": []
     },
     "output_type": "execute_result"
    }
   ],
   "source": [
    "generated"
   ]
  },
  {
   "cell_type": "code",
   "execution_count": 0,
   "metadata": {
    "colab": {
     "base_uri": "https://localhost:8080/",
     "height": 34
    },
    "colab_type": "code",
    "id": "747Ob_KSReL5",
    "outputId": "fc87f8a1-f6c1-4b40-e0e8-4b237ff40576"
   },
   "outputs": [
    {
     "name": "stdout",
     "output_type": "stream",
     "text": [
      "Generated data saved\n"
     ]
    }
   ],
   "source": [
    "with open('generated/citybased_rnn_2/test_00.pkl', 'wb') as file:\n",
    "    pickle.dump(generated, file)\n",
    "    print('Generated data saved')"
   ]
  }
 ],
 "metadata": {
  "accelerator": "GPU",
  "colab": {
   "collapsed_sections": [],
   "name": "citybased_rnn.ipynb",
   "provenance": [],
   "version": "0.3.2"
  },
  "kernelspec": {
   "display_name": "Python 3",
   "language": "python",
   "name": "python3"
  },
  "language_info": {
   "codemirror_mode": {
    "name": "ipython",
    "version": 3
   },
   "file_extension": ".py",
   "mimetype": "text/x-python",
   "name": "python",
   "nbconvert_exporter": "python",
   "pygments_lexer": "ipython3",
   "version": "3.6.8"
  }
 },
 "nbformat": 4,
 "nbformat_minor": 1
}
