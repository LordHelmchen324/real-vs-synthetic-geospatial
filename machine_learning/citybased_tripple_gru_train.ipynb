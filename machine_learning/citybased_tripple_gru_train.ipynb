{
  "nbformat": 4,
  "nbformat_minor": 0,
  "metadata": {
    "colab": {
      "name": "citybased_keras_tripple_gru.ipynb",
      "version": "0.3.2",
      "provenance": [],
      "collapsed_sections": []
    },
    "kernelspec": {
      "name": "python3",
      "display_name": "Python 3"
    },
    "accelerator": "GPU"
  },
  "cells": [
    {
      "metadata": {
        "id": "sXvf-FvV9XVZ",
        "colab_type": "code",
        "outputId": "16facd90-57d7-44f1-b63d-374e3678bca7",
        "colab": {
          "base_uri": "https://localhost:8080/",
          "height": 51
        }
      },
      "cell_type": "code",
      "source": [
        "import tensorflow as tf\n",
        "\n",
        "!pip install -q keras\n",
        "import keras\n",
        "\n",
        "import numpy as np\n",
        "import pandas as pd\n",
        "import matplotlib.pyplot as plt\n",
        "\n",
        "print(tf.__version__)"
      ],
      "execution_count": 0,
      "outputs": [
        {
          "output_type": "stream",
          "text": [
            "1.12.0\n"
          ],
          "name": "stdout"
        },
        {
          "output_type": "stream",
          "text": [
            "Using TensorFlow backend.\n"
          ],
          "name": "stderr"
        }
      ]
    },
    {
      "metadata": {
        "id": "XkMBPT-1wOSu",
        "colab_type": "code",
        "outputId": "7537f68b-94db-41fb-e92c-4db81c3ebd51",
        "colab": {
          "base_uri": "https://localhost:8080/",
          "height": 360
        }
      },
      "cell_type": "code",
      "source": [
        "from google.colab import drive\n",
        "drive.mount('/content/gdrive')\n",
        "DRIVE_PATH = 'gdrive/My Drive/Colab Notebooks/'\n",
        "\n",
        "cabspotting = pd.read_pickle(DRIVE_PATH + 'cabspotting.pkl')\n",
        "cabspotting.head()"
      ],
      "execution_count": 0,
      "outputs": [
        {
          "output_type": "stream",
          "text": [
            "Go to this URL in a browser: https://accounts.google.com/o/oauth2/auth?client_id=947318989803-6bn6qk8qdgf4n4g3pfee6491hc0brc4i.apps.googleusercontent.com&redirect_uri=urn%3Aietf%3Awg%3Aoauth%3A2.0%3Aoob&scope=email%20https%3A%2F%2Fwww.googleapis.com%2Fauth%2Fdocs.test%20https%3A%2F%2Fwww.googleapis.com%2Fauth%2Fdrive%20https%3A%2F%2Fwww.googleapis.com%2Fauth%2Fdrive.photos.readonly%20https%3A%2F%2Fwww.googleapis.com%2Fauth%2Fpeopleapi.readonly&response_type=code\n",
            "\n",
            "Enter your authorization code:\n",
            "··········\n",
            "Mounted at /content/gdrive\n"
          ],
          "name": "stdout"
        },
        {
          "output_type": "execute_result",
          "data": {
            "text/html": [
              "<div>\n",
              "<style scoped>\n",
              "    .dataframe tbody tr th:only-of-type {\n",
              "        vertical-align: middle;\n",
              "    }\n",
              "\n",
              "    .dataframe tbody tr th {\n",
              "        vertical-align: top;\n",
              "    }\n",
              "\n",
              "    .dataframe thead th {\n",
              "        text-align: right;\n",
              "    }\n",
              "</style>\n",
              "<table border=\"1\" class=\"dataframe\">\n",
              "  <thead>\n",
              "    <tr style=\"text-align: right;\">\n",
              "      <th></th>\n",
              "      <th></th>\n",
              "      <th>latitude</th>\n",
              "      <th>longitude</th>\n",
              "      <th>occupied</th>\n",
              "    </tr>\n",
              "    <tr>\n",
              "      <th>taxi</th>\n",
              "      <th>time</th>\n",
              "      <th></th>\n",
              "      <th></th>\n",
              "      <th></th>\n",
              "    </tr>\n",
              "  </thead>\n",
              "  <tbody>\n",
              "    <tr>\n",
              "      <th rowspan=\"5\" valign=\"top\">abboip</th>\n",
              "      <th>2008-05-17 14:12:10</th>\n",
              "      <td>37.75153</td>\n",
              "      <td>-122.39447</td>\n",
              "      <td>0</td>\n",
              "    </tr>\n",
              "    <tr>\n",
              "      <th>2008-05-17 14:13:34</th>\n",
              "      <td>37.75149</td>\n",
              "      <td>-122.39447</td>\n",
              "      <td>0</td>\n",
              "    </tr>\n",
              "    <tr>\n",
              "      <th>2008-05-17 14:14:34</th>\n",
              "      <td>37.75149</td>\n",
              "      <td>-122.39447</td>\n",
              "      <td>0</td>\n",
              "    </tr>\n",
              "    <tr>\n",
              "      <th>2008-05-17 14:15:35</th>\n",
              "      <td>37.75149</td>\n",
              "      <td>-122.39446</td>\n",
              "      <td>0</td>\n",
              "    </tr>\n",
              "    <tr>\n",
              "      <th>2008-05-17 14:41:43</th>\n",
              "      <td>37.75144</td>\n",
              "      <td>-122.39449</td>\n",
              "      <td>0</td>\n",
              "    </tr>\n",
              "  </tbody>\n",
              "</table>\n",
              "</div>"
            ],
            "text/plain": [
              "                            latitude  longitude  occupied\n",
              "taxi   time                                              \n",
              "abboip 2008-05-17 14:12:10  37.75153 -122.39447         0\n",
              "       2008-05-17 14:13:34  37.75149 -122.39447         0\n",
              "       2008-05-17 14:14:34  37.75149 -122.39447         0\n",
              "       2008-05-17 14:15:35  37.75149 -122.39446         0\n",
              "       2008-05-17 14:41:43  37.75144 -122.39449         0"
            ]
          },
          "metadata": {
            "tags": []
          },
          "execution_count": 2
        }
      ]
    },
    {
      "metadata": {
        "id": "liI2bi48tb0k",
        "colab_type": "code",
        "outputId": "687a827e-41d2-4b1b-8f82-699cfc3105d8",
        "colab": {
          "base_uri": "https://localhost:8080/",
          "height": 204
        }
      },
      "cell_type": "code",
      "source": [
        "cabspotting.reset_index(inplace=True)\n",
        "cabspotting.head()"
      ],
      "execution_count": 0,
      "outputs": [
        {
          "output_type": "execute_result",
          "data": {
            "text/html": [
              "<div>\n",
              "<style scoped>\n",
              "    .dataframe tbody tr th:only-of-type {\n",
              "        vertical-align: middle;\n",
              "    }\n",
              "\n",
              "    .dataframe tbody tr th {\n",
              "        vertical-align: top;\n",
              "    }\n",
              "\n",
              "    .dataframe thead th {\n",
              "        text-align: right;\n",
              "    }\n",
              "</style>\n",
              "<table border=\"1\" class=\"dataframe\">\n",
              "  <thead>\n",
              "    <tr style=\"text-align: right;\">\n",
              "      <th></th>\n",
              "      <th>taxi</th>\n",
              "      <th>time</th>\n",
              "      <th>latitude</th>\n",
              "      <th>longitude</th>\n",
              "      <th>occupied</th>\n",
              "    </tr>\n",
              "  </thead>\n",
              "  <tbody>\n",
              "    <tr>\n",
              "      <th>0</th>\n",
              "      <td>abboip</td>\n",
              "      <td>2008-05-17 14:12:10</td>\n",
              "      <td>37.75153</td>\n",
              "      <td>-122.39447</td>\n",
              "      <td>0</td>\n",
              "    </tr>\n",
              "    <tr>\n",
              "      <th>1</th>\n",
              "      <td>abboip</td>\n",
              "      <td>2008-05-17 14:13:34</td>\n",
              "      <td>37.75149</td>\n",
              "      <td>-122.39447</td>\n",
              "      <td>0</td>\n",
              "    </tr>\n",
              "    <tr>\n",
              "      <th>2</th>\n",
              "      <td>abboip</td>\n",
              "      <td>2008-05-17 14:14:34</td>\n",
              "      <td>37.75149</td>\n",
              "      <td>-122.39447</td>\n",
              "      <td>0</td>\n",
              "    </tr>\n",
              "    <tr>\n",
              "      <th>3</th>\n",
              "      <td>abboip</td>\n",
              "      <td>2008-05-17 14:15:35</td>\n",
              "      <td>37.75149</td>\n",
              "      <td>-122.39446</td>\n",
              "      <td>0</td>\n",
              "    </tr>\n",
              "    <tr>\n",
              "      <th>4</th>\n",
              "      <td>abboip</td>\n",
              "      <td>2008-05-17 14:41:43</td>\n",
              "      <td>37.75144</td>\n",
              "      <td>-122.39449</td>\n",
              "      <td>0</td>\n",
              "    </tr>\n",
              "  </tbody>\n",
              "</table>\n",
              "</div>"
            ],
            "text/plain": [
              "     taxi                time  latitude  longitude  occupied\n",
              "0  abboip 2008-05-17 14:12:10  37.75153 -122.39447         0\n",
              "1  abboip 2008-05-17 14:13:34  37.75149 -122.39447         0\n",
              "2  abboip 2008-05-17 14:14:34  37.75149 -122.39447         0\n",
              "3  abboip 2008-05-17 14:15:35  37.75149 -122.39446         0\n",
              "4  abboip 2008-05-17 14:41:43  37.75144 -122.39449         0"
            ]
          },
          "metadata": {
            "tags": []
          },
          "execution_count": 3
        }
      ]
    },
    {
      "metadata": {
        "id": "ZSls8_x-xBEQ",
        "colab_type": "code",
        "outputId": "22782ef0-dcbb-41f2-d65d-2755fb723667",
        "colab": {
          "base_uri": "https://localhost:8080/",
          "height": 170
        }
      },
      "cell_type": "code",
      "source": [
        "# Some statistics on the lengths of the mov data per taxi\n",
        "cabspotting.groupby('taxi').size().describe()"
      ],
      "execution_count": 0,
      "outputs": [
        {
          "output_type": "execute_result",
          "data": {
            "text/plain": [
              "count      536.000000\n",
              "mean     20932.751866\n",
              "std       6204.004840\n",
              "min         59.000000\n",
              "25%      18721.250000\n",
              "50%      22813.500000\n",
              "75%      25037.750000\n",
              "max      49367.000000\n",
              "dtype: float64"
            ]
          },
          "metadata": {
            "tags": []
          },
          "execution_count": 4
        }
      ]
    },
    {
      "metadata": {
        "id": "ZaeRfdt2glHO",
        "colab_type": "code",
        "outputId": "a66ba2ca-9f4f-4a8a-8629-f15e47bb6562",
        "colab": {
          "base_uri": "https://localhost:8080/",
          "height": 204
        }
      },
      "cell_type": "code",
      "source": [
        "import datetime as dt\n",
        "\n",
        "cabspotting['rebased_time'] = cabspotting['time'] - cabspotting['time'].min()\n",
        "cabspotting['rebased_time'] = cabspotting['rebased_time'].dt.total_seconds()\n",
        "cabspotting.head()"
      ],
      "execution_count": 0,
      "outputs": [
        {
          "output_type": "execute_result",
          "data": {
            "text/html": [
              "<div>\n",
              "<style scoped>\n",
              "    .dataframe tbody tr th:only-of-type {\n",
              "        vertical-align: middle;\n",
              "    }\n",
              "\n",
              "    .dataframe tbody tr th {\n",
              "        vertical-align: top;\n",
              "    }\n",
              "\n",
              "    .dataframe thead th {\n",
              "        text-align: right;\n",
              "    }\n",
              "</style>\n",
              "<table border=\"1\" class=\"dataframe\">\n",
              "  <thead>\n",
              "    <tr style=\"text-align: right;\">\n",
              "      <th></th>\n",
              "      <th>taxi</th>\n",
              "      <th>time</th>\n",
              "      <th>latitude</th>\n",
              "      <th>longitude</th>\n",
              "      <th>occupied</th>\n",
              "      <th>rebased_time</th>\n",
              "    </tr>\n",
              "  </thead>\n",
              "  <tbody>\n",
              "    <tr>\n",
              "      <th>0</th>\n",
              "      <td>abboip</td>\n",
              "      <td>2008-05-17 14:12:10</td>\n",
              "      <td>37.75153</td>\n",
              "      <td>-122.39447</td>\n",
              "      <td>0</td>\n",
              "      <td>15126.0</td>\n",
              "    </tr>\n",
              "    <tr>\n",
              "      <th>1</th>\n",
              "      <td>abboip</td>\n",
              "      <td>2008-05-17 14:13:34</td>\n",
              "      <td>37.75149</td>\n",
              "      <td>-122.39447</td>\n",
              "      <td>0</td>\n",
              "      <td>15210.0</td>\n",
              "    </tr>\n",
              "    <tr>\n",
              "      <th>2</th>\n",
              "      <td>abboip</td>\n",
              "      <td>2008-05-17 14:14:34</td>\n",
              "      <td>37.75149</td>\n",
              "      <td>-122.39447</td>\n",
              "      <td>0</td>\n",
              "      <td>15270.0</td>\n",
              "    </tr>\n",
              "    <tr>\n",
              "      <th>3</th>\n",
              "      <td>abboip</td>\n",
              "      <td>2008-05-17 14:15:35</td>\n",
              "      <td>37.75149</td>\n",
              "      <td>-122.39446</td>\n",
              "      <td>0</td>\n",
              "      <td>15331.0</td>\n",
              "    </tr>\n",
              "    <tr>\n",
              "      <th>4</th>\n",
              "      <td>abboip</td>\n",
              "      <td>2008-05-17 14:41:43</td>\n",
              "      <td>37.75144</td>\n",
              "      <td>-122.39449</td>\n",
              "      <td>0</td>\n",
              "      <td>16899.0</td>\n",
              "    </tr>\n",
              "  </tbody>\n",
              "</table>\n",
              "</div>"
            ],
            "text/plain": [
              "     taxi                time  latitude  longitude  occupied  rebased_time\n",
              "0  abboip 2008-05-17 14:12:10  37.75153 -122.39447         0       15126.0\n",
              "1  abboip 2008-05-17 14:13:34  37.75149 -122.39447         0       15210.0\n",
              "2  abboip 2008-05-17 14:14:34  37.75149 -122.39447         0       15270.0\n",
              "3  abboip 2008-05-17 14:15:35  37.75149 -122.39446         0       15331.0\n",
              "4  abboip 2008-05-17 14:41:43  37.75144 -122.39449         0       16899.0"
            ]
          },
          "metadata": {
            "tags": []
          },
          "execution_count": 5
        }
      ]
    },
    {
      "metadata": {
        "id": "QBFxICSbjdU8",
        "colab_type": "code",
        "outputId": "3e836579-b257-4256-d90b-021fb30d9e7a",
        "colab": {
          "base_uri": "https://localhost:8080/",
          "height": 204
        }
      },
      "cell_type": "code",
      "source": [
        "cabspotting.drop(['time', 'occupied'], axis=1, inplace=True)\n",
        "cabspotting.head()"
      ],
      "execution_count": 0,
      "outputs": [
        {
          "output_type": "execute_result",
          "data": {
            "text/html": [
              "<div>\n",
              "<style scoped>\n",
              "    .dataframe tbody tr th:only-of-type {\n",
              "        vertical-align: middle;\n",
              "    }\n",
              "\n",
              "    .dataframe tbody tr th {\n",
              "        vertical-align: top;\n",
              "    }\n",
              "\n",
              "    .dataframe thead th {\n",
              "        text-align: right;\n",
              "    }\n",
              "</style>\n",
              "<table border=\"1\" class=\"dataframe\">\n",
              "  <thead>\n",
              "    <tr style=\"text-align: right;\">\n",
              "      <th></th>\n",
              "      <th>taxi</th>\n",
              "      <th>latitude</th>\n",
              "      <th>longitude</th>\n",
              "      <th>rebased_time</th>\n",
              "    </tr>\n",
              "  </thead>\n",
              "  <tbody>\n",
              "    <tr>\n",
              "      <th>0</th>\n",
              "      <td>abboip</td>\n",
              "      <td>37.75153</td>\n",
              "      <td>-122.39447</td>\n",
              "      <td>15126.0</td>\n",
              "    </tr>\n",
              "    <tr>\n",
              "      <th>1</th>\n",
              "      <td>abboip</td>\n",
              "      <td>37.75149</td>\n",
              "      <td>-122.39447</td>\n",
              "      <td>15210.0</td>\n",
              "    </tr>\n",
              "    <tr>\n",
              "      <th>2</th>\n",
              "      <td>abboip</td>\n",
              "      <td>37.75149</td>\n",
              "      <td>-122.39447</td>\n",
              "      <td>15270.0</td>\n",
              "    </tr>\n",
              "    <tr>\n",
              "      <th>3</th>\n",
              "      <td>abboip</td>\n",
              "      <td>37.75149</td>\n",
              "      <td>-122.39446</td>\n",
              "      <td>15331.0</td>\n",
              "    </tr>\n",
              "    <tr>\n",
              "      <th>4</th>\n",
              "      <td>abboip</td>\n",
              "      <td>37.75144</td>\n",
              "      <td>-122.39449</td>\n",
              "      <td>16899.0</td>\n",
              "    </tr>\n",
              "  </tbody>\n",
              "</table>\n",
              "</div>"
            ],
            "text/plain": [
              "     taxi  latitude  longitude  rebased_time\n",
              "0  abboip  37.75153 -122.39447       15126.0\n",
              "1  abboip  37.75149 -122.39447       15210.0\n",
              "2  abboip  37.75149 -122.39447       15270.0\n",
              "3  abboip  37.75149 -122.39446       15331.0\n",
              "4  abboip  37.75144 -122.39449       16899.0"
            ]
          },
          "metadata": {
            "tags": []
          },
          "execution_count": 6
        }
      ]
    },
    {
      "metadata": {
        "id": "211TP0kmFb5v",
        "colab_type": "code",
        "outputId": "a5cfcfb8-464a-44e9-cac3-5259b87f90f0",
        "colab": {
          "base_uri": "https://localhost:8080/",
          "height": 136
        }
      },
      "cell_type": "code",
      "source": [
        "def extract_sequence(df):\n",
        "    df.drop('taxi', axis=1, inplace=True)\n",
        "    df.sort_values(by='rebased_time', inplace=True)\n",
        "    return df.values\n",
        "\n",
        "cabspotting = cabspotting.groupby('taxi').apply(extract_sequence)\n",
        "cabspotting.head()"
      ],
      "execution_count": 0,
      "outputs": [
        {
          "output_type": "execute_result",
          "data": {
            "text/plain": [
              "taxi\n",
              "abboip      [[37.751529999999995, -122.39447, 15126.000000...\n",
              "abcoij      [[37.80346, -122.41466000000001, 47486.0], [37...\n",
              "abdremlu    [[37.75521, -122.39093000000001, 11949.0], [37...\n",
              "abgibo      [[37.7733, -122.4374, 16.0], [37.77791, -122.4...\n",
              "abjoolaw    [[37.75159, -122.39747, 13856.0], [37.74949, -...\n",
              "dtype: object"
            ]
          },
          "metadata": {
            "tags": []
          },
          "execution_count": 7
        }
      ]
    },
    {
      "metadata": {
        "id": "v4nhhnmOMEAl",
        "colab_type": "code",
        "outputId": "3dad91e9-4d0a-426a-fdfe-486239666d5b",
        "colab": {
          "base_uri": "https://localhost:8080/",
          "height": 136
        }
      },
      "cell_type": "code",
      "source": [
        "cabspotting['abboip']"
      ],
      "execution_count": 0,
      "outputs": [
        {
          "output_type": "execute_result",
          "data": {
            "text/plain": [
              "array([[ 3.7751530e+01, -1.2239447e+02,  1.5126000e+04],\n",
              "       [ 3.7751490e+01, -1.2239447e+02,  1.5210000e+04],\n",
              "       [ 3.7751490e+01, -1.2239447e+02,  1.5270000e+04],\n",
              "       ...,\n",
              "       [ 3.7751990e+01, -1.2239460e+02,  2.0661360e+06],\n",
              "       [ 3.7751360e+01, -1.2239527e+02,  2.0662550e+06],\n",
              "       [ 3.7751340e+01, -1.2239488e+02,  2.0662830e+06]])"
            ]
          },
          "metadata": {
            "tags": []
          },
          "execution_count": 8
        }
      ]
    },
    {
      "metadata": {
        "id": "jdnL_smiWkx9",
        "colab_type": "code",
        "outputId": "a6cc984c-4903-4559-a12a-a07cf5aee047",
        "colab": {
          "base_uri": "https://localhost:8080/",
          "height": 34
        }
      },
      "cell_type": "code",
      "source": [
        "cabspotting.shape"
      ],
      "execution_count": 0,
      "outputs": [
        {
          "output_type": "execute_result",
          "data": {
            "text/plain": [
              "(536,)"
            ]
          },
          "metadata": {
            "tags": []
          },
          "execution_count": 9
        }
      ]
    },
    {
      "metadata": {
        "id": "UYatkz1dKxRx",
        "colab_type": "code",
        "outputId": "e530d499-997c-4e4c-9612-5b28d3d225f7",
        "colab": {
          "base_uri": "https://localhost:8080/",
          "height": 34
        }
      },
      "cell_type": "code",
      "source": [
        "def to_single_sequence(series):\n",
        "    data = None\n",
        "    for _, item in series.iteritems():\n",
        "        if data is None:\n",
        "            data = item\n",
        "        else:\n",
        "            data = np.concatenate((data, item), axis=0)\n",
        "    \n",
        "    return data\n",
        "\n",
        "data = to_single_sequence(cabspotting)\n",
        "\n",
        "data.shape"
      ],
      "execution_count": 0,
      "outputs": [
        {
          "output_type": "execute_result",
          "data": {
            "text/plain": [
              "(11219955, 3)"
            ]
          },
          "metadata": {
            "tags": []
          },
          "execution_count": 10
        }
      ]
    },
    {
      "metadata": {
        "id": "XFKPOKrVnO2T",
        "colab_type": "code",
        "outputId": "d32ff445-bb88-4f1c-c439-4cf7d74e8433",
        "colab": {
          "base_uri": "https://localhost:8080/",
          "height": 759
        }
      },
      "cell_type": "code",
      "source": [
        "fig, ((a0, a1, a2), (a0c, a1c, a2c)) = plt.subplots(2, 3, figsize=(16, 10))\n",
        "\n",
        "a0.hist(data[:,0], bins=50, color='red')\n",
        "a0.set_title('Latitudes')\n",
        "\n",
        "a1.hist(data[:,1], bins=50, color='red')\n",
        "a1.set_title('Longitudes')\n",
        "\n",
        "a2.hist(data[:,2], bins=50, color='red')\n",
        "a2.set_title('Rebased Timestamps')\n",
        "\n",
        "a0c.hist(data[:,0], bins=50, range=(37.5, 37.9), color='green')\n",
        "a0c.set_title('Latitudes (corrected range)')\n",
        "\n",
        "a1c.hist(data[:,1], bins=50, range=(-122.53, -122.2), color='green')\n",
        "a1c.set_title('Longitudes (corrected range)')\n",
        "\n",
        "a2c.hist(data[:,2], bins=30, color='green')\n",
        "a2c.set_title('Rebased Timestamps (corrected range)')\n",
        "\n",
        "fig.tight_layout()\n",
        "fig.show()"
      ],
      "execution_count": 0,
      "outputs": [
        {
          "output_type": "stream",
          "text": [
            "/usr/local/lib/python3.6/dist-packages/matplotlib/figure.py:418: UserWarning: matplotlib is currently using a non-GUI backend, so cannot show the figure\n",
            "  \"matplotlib is currently using a non-GUI backend, \"\n"
          ],
          "name": "stderr"
        },
        {
          "output_type": "display_data",
          "data": {
            "image/png": "[encoded data removed]",
            "text/plain": [
              "<matplotlib.figure.Figure at 0x7fc85d5f6e10>"
            ]
          },
          "metadata": {
            "tags": []
          }
        }
      ]
    },
    {
      "metadata": {
        "id": "NbfRjY5hgMrK",
        "colab_type": "code",
        "outputId": "668b3dad-614d-4f16-8c1d-e6c6e691bb46",
        "colab": {
          "base_uri": "https://localhost:8080/",
          "height": 51
        }
      },
      "cell_type": "code",
      "source": [
        "from sklearn import preprocessing\n",
        "\n",
        "scaler = preprocessing.StandardScaler()\n",
        "scaler.fit(data)\n",
        "\n",
        "print('Means: %f %f %f' % (scaler.mean_[0], scaler.mean_[1], scaler.mean_[2]))\n",
        "print('Standard deviations: %f %f %f' % (scaler.var_[0], scaler.var_[1], scaler.var_[2]))"
      ],
      "execution_count": 0,
      "outputs": [
        {
          "output_type": "stream",
          "text": [
            "Means: 37.763601 -122.412432 1017983.546543\n",
            "Standard deviations: 0.002901 0.001280 346406383099.499146\n"
          ],
          "name": "stdout"
        }
      ]
    },
    {
      "metadata": {
        "id": "mmhuV1JLpeav",
        "colab_type": "code",
        "outputId": "5cbaec5d-6645-44b1-ff5b-2229939265a8",
        "colab": {
          "base_uri": "https://localhost:8080/",
          "height": 306
        }
      },
      "cell_type": "code",
      "source": [
        "print('Before:')\n",
        "print(data)   # Before\n",
        "print()\n",
        "data = scaler.transform(data)\n",
        "print('After:')\n",
        "print(data)   # After"
      ],
      "execution_count": 0,
      "outputs": [
        {
          "output_type": "stream",
          "text": [
            "Before:\n",
            "[[ 3.7751530e+01 -1.2239447e+02  1.5126000e+04]\n",
            " [ 3.7751490e+01 -1.2239447e+02  1.5210000e+04]\n",
            " [ 3.7751490e+01 -1.2239447e+02  1.5270000e+04]\n",
            " ...\n",
            " [ 3.7756860e+01 -1.2244239e+02  2.0172080e+06]\n",
            " [ 3.7760470e+01 -1.2244215e+02  2.0172640e+06]\n",
            " [ 3.7760750e+01 -1.2243687e+02  2.0173250e+06]]\n",
            "\n",
            "After:\n",
            "[[-0.22410877  0.50197561 -1.70390864]\n",
            " [-0.22485143  0.50197561 -1.70376591]\n",
            " [-0.22485143  0.50197561 -1.70366397]\n",
            " ...\n",
            " [-0.12514886 -0.83724035  1.69773582]\n",
            " [-0.05812348 -0.83053309  1.69783096]\n",
            " [-0.05292484 -0.6829734   1.69793461]]\n"
          ],
          "name": "stdout"
        }
      ]
    },
    {
      "metadata": {
        "id": "L5T10ItxlEFT",
        "colab_type": "code",
        "outputId": "96ea7fe1-a1b8-45f6-981a-e5da478bdbc4",
        "colab": {
          "base_uri": "https://localhost:8080/",
          "height": 34
        }
      },
      "cell_type": "code",
      "source": [
        "TRAIN_TEST_SPLIT = 0.8\n",
        "VALIDATION_PROPORTION = 0.2\n",
        "\n",
        "n_train = int(np.floor(TRAIN_TEST_SPLIT * data.shape[0]))\n",
        "n_validation = int(np.floor(VALIDATION_PROPORTION * data.shape[0]))\n",
        "\n",
        "training_data = data[0:n_train]\n",
        "validation_data = data[0:n_validation]\n",
        "test_data = data[n_train:]\n",
        "\n",
        "training_data.shape, validation_data.shape, test_data.shape"
      ],
      "execution_count": 0,
      "outputs": [
        {
          "output_type": "execute_result",
          "data": {
            "text/plain": [
              "((8975964, 3), (2243991, 3), (2243991, 3))"
            ]
          },
          "metadata": {
            "tags": []
          },
          "execution_count": 14
        }
      ]
    },
    {
      "metadata": {
        "id": "Vzmn3oNEmcV3",
        "colab_type": "code",
        "colab": {}
      },
      "cell_type": "code",
      "source": [
        "class DataGenerator(keras.utils.Sequence):\n",
        "    'Generates data for Keras'\n",
        "    def __init__(self, data, sequence_length=20, batch_size=32):\n",
        "        'Initialization'\n",
        "        data_length = data.shape[0]\n",
        "        n_batches = (data_length - 1) // (batch_size * sequence_length)\n",
        "        rounded_data_length = n_batches * batch_size * sequence_length\n",
        "        \n",
        "        X_data = np.reshape(data[0:rounded_data_length], [batch_size, n_batches * sequence_length, 3])\n",
        "        y_data = np.reshape(data[1:rounded_data_length + 1], [batch_size, n_batches * sequence_length, 3])\n",
        "        \n",
        "        self.n_batches = n_batches\n",
        "        self.sequence_length = sequence_length\n",
        "        self.X_data = X_data\n",
        "        self.y_data = y_data\n",
        "        \n",
        "    \n",
        "    def __len__(self):\n",
        "        'Denotes the number of batches per epoch'\n",
        "        return self.n_batches\n",
        "    \n",
        "    def __getitem__(self, index):\n",
        "        'Generate one batch of data'        \n",
        "        X = self.X_data[:, index * self.sequence_length:(index + 1) * self.sequence_length]\n",
        "        y = self.y_data[:, index * self.sequence_length:(index + 1) * self.sequence_length]\n",
        "        \n",
        "        return X, y\n",
        "    \n",
        "    def on_epoch_end(self):\n",
        "        'Updates indexes after each epoch'\n",
        "        self.X_data = np.roll(self.X_data, -1, axis=0)\n",
        "        self.y_data = np.roll(self.y_data, -1, axis=0)\n",
        "\n",
        "training_generator = DataGenerator(training_data)\n",
        "validation_generator = DataGenerator(validation_data)"
      ],
      "execution_count": 0,
      "outputs": []
    },
    {
      "metadata": {
        "id": "_bldPhjGRme8",
        "colab_type": "code",
        "outputId": "bfda0dcd-4469-4195-89a0-dce925804560",
        "colab": {
          "base_uri": "https://localhost:8080/",
          "height": 272
        }
      },
      "cell_type": "code",
      "source": [
        "model = keras.Sequential([\n",
        "    keras.layers.GRU(512, return_sequences=True, input_shape=(20, 3)),\n",
        "    keras.layers.GRU(512, return_sequences=True),\n",
        "    keras.layers.GRU(512, return_sequences=True),\n",
        "    keras.layers.TimeDistributed(keras.layers.Dense(3, activation='relu'))\n",
        "])\n",
        "model.compile(loss='mean_squared_error',\n",
        "              optimizer='adam')\n",
        "model.summary()"
      ],
      "execution_count": 0,
      "outputs": [
        {
          "output_type": "stream",
          "text": [
            "_________________________________________________________________\n",
            "Layer (type)                 Output Shape              Param #   \n",
            "=================================================================\n",
            "gru_1 (GRU)                  (None, 20, 512)           792576    \n",
            "_________________________________________________________________\n",
            "gru_2 (GRU)                  (None, 20, 512)           1574400   \n",
            "_________________________________________________________________\n",
            "gru_3 (GRU)                  (None, 20, 512)           1574400   \n",
            "_________________________________________________________________\n",
            "time_distributed_1 (TimeDist (None, 20, 3)             1539      \n",
            "=================================================================\n",
            "Total params: 3,942,915\n",
            "Trainable params: 3,942,915\n",
            "Non-trainable params: 0\n",
            "_________________________________________________________________\n"
          ],
          "name": "stdout"
        }
      ]
    },
    {
      "metadata": {
        "id": "tCVWFstQm469",
        "colab_type": "code",
        "colab": {}
      },
      "cell_type": "code",
      "source": [
        "# Callback for saving checkpoints\n",
        "filepath = DRIVE_PATH + 'checkpoints/three-gru-mse-{epoch:02d}-{loss:.4f}.hdf5'\n",
        "checkpoint = keras.callbacks.ModelCheckpoint(filepath, monitor='loss', verbose=1)"
      ],
      "execution_count": 0,
      "outputs": []
    },
    {
      "metadata": {
        "id": "c--9Gk0AJpYd",
        "colab_type": "code",
        "outputId": "b60b6b48-0222-4798-9dbe-aaa6a6f21ae6",
        "colab": {
          "base_uri": "https://localhost:8080/",
          "height": 374
        }
      },
      "cell_type": "code",
      "source": [
        "model.fit_generator(generator=training_generator,\n",
        "                    validation_data=validation_generator,\n",
        "                    epochs=20,\n",
        "                    callbacks=[checkpoint],\n",
        "                    use_multiprocessing=True,\n",
        "                    workers=6)"
      ],
      "execution_count": 0,
      "outputs": [
        {
          "output_type": "stream",
          "text": [
            "Epoch 1/20\n",
            "14023/14024 [============================>.] - ETA: 0s - loss: 0.5606Epoch 1/20\n",
            "14024/14024 [==============================] - 2307s 164ms/step - loss: 0.5606 - val_loss: 0.5917\n",
            "Epoch 1/20\n",
            "\n",
            "Epoch 00001: saving model to gdrive/My Drive/Colab Notebooks/checkpoints/three-gru-mse-01-0.5606.hdf5\n",
            "Epoch 2/20\n",
            "14024/14024 [==============================] - 2346s 167ms/step - loss: 0.5590 - val_loss: 0.5904\n",
            "\n",
            "Epoch 00002: saving model to gdrive/My Drive/Colab Notebooks/checkpoints/three-gru-mse-02-0.5590.hdf5\n",
            "Epoch 3/20\n",
            "14024/14024 [==============================] - 2386s 170ms/step - loss: 0.5586 - val_loss: 0.5903\n",
            "Epoch 3/20\n",
            "Epoch 00003: saving model to gdrive/My Drive/Colab Notebooks/checkpoints/three-gru-mse-03-0.5586.hdf5\n",
            "Epoch 4/20\n",
            "14023/14024 [============================>.] - ETA: 0s - loss: 0.5585Epoch 4/20\n",
            "14024/14024 [==============================] - 2367s 169ms/step - loss: 0.5585 - val_loss: 0.5905\n",
            "\n",
            "Epoch 00004: saving model to gdrive/My Drive/Colab Notebooks/checkpoints/three-gru-mse-04-0.5585.hdf5\n",
            "Epoch 5/20\n",
            " 5306/14024 [==========>...................] - ETA: 22:51 - loss: 0.5648Buffered data was truncated after reaching the output size limit."
          ],
          "name": "stdout"
        }
      ]
    }
  ]
}