{
 "cells": [
  {
   "cell_type": "code",
   "execution_count": 1,
   "metadata": {},
   "outputs": [],
   "source": [
    "import matplotlib.pyplot as plt\n",
    "import numpy as np\n",
    "import os\n",
    "import osmnx as ox\n",
    "import pandas as pd\n",
    "import pickle\n",
    "import tensorflow as tf"
   ]
  },
  {
   "cell_type": "code",
   "execution_count": 2,
   "metadata": {},
   "outputs": [
    {
     "data": {
      "text/plain": [
       "'1.12.0'"
      ]
     },
     "execution_count": 2,
     "metadata": {},
     "output_type": "execute_result"
    }
   ],
   "source": [
    "tf.__version__"
   ]
  },
  {
   "cell_type": "code",
   "execution_count": 3,
   "metadata": {},
   "outputs": [],
   "source": [
    "os.environ['KMP_DUPLICATE_LIB_OK'] = 'True'"
   ]
  },
  {
   "cell_type": "markdown",
   "metadata": {},
   "source": [
    "## Load the model\n",
    "Load the training supposed best training checkpoint. Then put the weight into a newly generated model that can handel a single batch."
   ]
  },
  {
   "cell_type": "code",
   "execution_count": 4,
   "metadata": {},
   "outputs": [],
   "source": [
    "DATASET_NAME = 'cabspotting'\n",
    "GRU_SIZE = 32\n",
    "setup_string = 'GRU-{gru_size}_TD-Dense-3_{dataset}_64_100_adam_mae_default'.format(dataset=DATASET_NAME,\n",
    "                                                                                    gru_size=GRU_SIZE)"
   ]
  },
  {
   "cell_type": "code",
   "execution_count": 5,
   "metadata": {},
   "outputs": [
    {
     "data": {
      "text/plain": [
       "'GRU-32_TD-Dense-3_cabspotting_64_100_adam_mae_default'"
      ]
     },
     "execution_count": 5,
     "metadata": {},
     "output_type": "execute_result"
    }
   ],
   "source": [
    "setup_string"
   ]
  },
  {
   "cell_type": "code",
   "execution_count": 6,
   "metadata": {},
   "outputs": [],
   "source": [
    "history = pickle.load(open('histories/citybased_rnn_2/' + setup_string + '_30.pkl', 'rb'))"
   ]
  },
  {
   "cell_type": "code",
   "execution_count": 7,
   "metadata": {},
   "outputs": [
    {
     "data": {
      "image/png": "[encoded data removed]",
      "text/plain": [
       "<Figure size 720x360 with 1 Axes>"
      ]
     },
     "metadata": {
      "needs_background": "light"
     },
     "output_type": "display_data"
    }
   ],
   "source": [
    "plt.figure(figsize=(10, 5))\n",
    "plt.plot(np.arange(1, 31, 1), history['loss'], label='Loss')\n",
    "plt.plot(np.arange(1, 31, 1), history['val_loss'], label='Validation Loss')\n",
    "plt.xticks(np.arange(1, 31, 1))\n",
    "plt.grid()\n",
    "plt.legend()\n",
    "plt.show()"
   ]
  },
  {
   "cell_type": "code",
   "execution_count": 8,
   "metadata": {},
   "outputs": [],
   "source": [
    "SELECTED_EPOCH = 30"
   ]
  },
  {
   "cell_type": "code",
   "execution_count": 9,
   "metadata": {},
   "outputs": [],
   "source": [
    "# Load the model\n",
    "model_path = 'checkpoints/citybased_rnn_2/' + setup_string + '_{:02}.h5'.format(SELECTED_EPOCH)\n",
    "loaded_model = tf.keras.models.load_model(model_path)"
   ]
  },
  {
   "cell_type": "code",
   "execution_count": 10,
   "metadata": {},
   "outputs": [],
   "source": [
    "def build_model(batch_size):\n",
    "    model = tf.keras.Sequential([\n",
    "        tf.keras.layers.GRU(GRU_SIZE, return_sequences=True, stateful=True, input_shape=(None, 3), batch_size=batch_size),\n",
    "        tf.keras.layers.TimeDistributed(tf.keras.layers.Dense(3))\n",
    "    ])\n",
    "    return model"
   ]
  },
  {
   "cell_type": "code",
   "execution_count": 11,
   "metadata": {},
   "outputs": [],
   "source": [
    "model = build_model(batch_size=1)\n",
    "model.set_weights(loaded_model.get_weights())"
   ]
  },
  {
   "cell_type": "markdown",
   "metadata": {},
   "source": [
    "## Actual generation"
   ]
  },
  {
   "cell_type": "code",
   "execution_count": 12,
   "metadata": {},
   "outputs": [],
   "source": [
    "N_USERS = 8"
   ]
  },
  {
   "cell_type": "markdown",
   "metadata": {},
   "source": [
    "Generate user start positions"
   ]
  },
  {
   "cell_type": "code",
   "execution_count": 13,
   "metadata": {},
   "outputs": [],
   "source": [
    "poskde = pickle.load(open('../data_{dataset}/poskde_{dataset}_000003.pkl'.format(dataset=DATASET_NAME), 'rb'))"
   ]
  },
  {
   "cell_type": "code",
   "execution_count": 14,
   "metadata": {},
   "outputs": [],
   "source": [
    "startpositions = poskde.sample(N_USERS)"
   ]
  },
  {
   "cell_type": "code",
   "execution_count": 15,
   "metadata": {},
   "outputs": [
    {
     "data": {
      "text/plain": [
       "array([[-122.4402716 ,   37.79553342],\n",
       "       [-122.45547416,   37.78139801],\n",
       "       [-122.40553411,   37.63932228]])"
      ]
     },
     "execution_count": 15,
     "metadata": {},
     "output_type": "execute_result"
    }
   ],
   "source": [
    "startpositions[:3]"
   ]
  },
  {
   "cell_type": "markdown",
   "metadata": {},
   "source": [
    "Generate start and end times"
   ]
  },
  {
   "cell_type": "code",
   "execution_count": 16,
   "metadata": {},
   "outputs": [
    {
     "name": "stdout",
     "output_type": "stream",
     "text": [
      "Real begin: 2008-06-02 00:00:00\n",
      "Real end: 2008-06-08 23:59:59\n"
     ]
    }
   ],
   "source": [
    "real_dataset = pd.read_pickle('../data_{dataset}/{dataset}_cut.pkl'.format(dataset=DATASET_NAME))\n",
    "print('Real begin: {}'.format(real_dataset.index.levels[1].min()))\n",
    "print('Real end: {}'.format(real_dataset.index.levels[1].max()))\n",
    "del real_dataset"
   ]
  },
  {
   "cell_type": "code",
   "execution_count": 17,
   "metadata": {},
   "outputs": [
    {
     "name": "stdout",
     "output_type": "stream",
     "text": [
      "6 days 23:59:59\n"
     ]
    }
   ],
   "source": [
    "BEGIN = pd.Timestamp('2008-06-02 00:00:00')\n",
    "END = pd.Timestamp('2008-06-08 23:59:59')\n",
    "total_duration = END - BEGIN\n",
    "print(total_duration)"
   ]
  },
  {
   "cell_type": "code",
   "execution_count": 18,
   "metadata": {},
   "outputs": [],
   "source": [
    "sekde = pickle.load(open('../data_{dataset}/sekde_{dataset}_cut_003.pkl'.format(dataset=DATASET_NAME), 'rb'))"
   ]
  },
  {
   "cell_type": "code",
   "execution_count": 19,
   "metadata": {},
   "outputs": [],
   "source": [
    "starttimes = np.full(N_USERS, -1.0)\n",
    "out_of_range = (starttimes < 0) | (starttimes >= 1.0)\n",
    "\n",
    "while np.any(out_of_range):\n",
    "    new_samples = np.squeeze(sekde['kde_start'].sample(len(starttimes[out_of_range])))\n",
    "    starttimes[out_of_range] = new_samples\n",
    "    out_of_range = (starttimes < 0) | (starttimes >= 1.0)"
   ]
  },
  {
   "cell_type": "code",
   "execution_count": 20,
   "metadata": {},
   "outputs": [
    {
     "data": {
      "text/plain": [
       "array([0.01320467, 0.00923611, 0.01800024])"
      ]
     },
     "execution_count": 20,
     "metadata": {},
     "output_type": "execute_result"
    }
   ],
   "source": [
    "starttimes[:3]"
   ]
  },
  {
   "cell_type": "code",
   "execution_count": 21,
   "metadata": {},
   "outputs": [],
   "source": [
    "durations = np.zeros(N_USERS)\n",
    "out_of_range = (durations <= 0) | (starttimes + durations > 1.0)\n",
    "\n",
    "while np.any(out_of_range):\n",
    "    new_samples = np.squeeze(sekde['kde_duration'].sample(len(durations[out_of_range])))\n",
    "    durations[out_of_range] = new_samples\n",
    "    out_of_range = (durations <= 0) | (starttimes + durations > 1.0)"
   ]
  },
  {
   "cell_type": "code",
   "execution_count": 22,
   "metadata": {},
   "outputs": [
    {
     "data": {
      "text/plain": [
       "array([0.95743161, 0.97906721, 0.87295144])"
      ]
     },
     "execution_count": 22,
     "metadata": {},
     "output_type": "execute_result"
    }
   ],
   "source": [
    "durations[:3]"
   ]
  },
  {
   "cell_type": "code",
   "execution_count": 23,
   "metadata": {},
   "outputs": [
    {
     "data": {
      "text/plain": [
       "array([ 7986.17268054,  5585.99172483, 10886.52439046])"
      ]
     },
     "execution_count": 23,
     "metadata": {},
     "output_type": "execute_result"
    }
   ],
   "source": [
    "starttimes = starttimes * total_duration.total_seconds()\n",
    "starttimes[:3]"
   ]
  },
  {
   "cell_type": "code",
   "execution_count": 24,
   "metadata": {},
   "outputs": [
    {
     "data": {
      "text/plain": [
       "array([579053.68175595, 592138.86945814, 527960.15574739])"
      ]
     },
     "execution_count": 24,
     "metadata": {},
     "output_type": "execute_result"
    }
   ],
   "source": [
    "durations = durations * total_duration.total_seconds()\n",
    "durations[:3]"
   ]
  },
  {
   "cell_type": "code",
   "execution_count": 25,
   "metadata": {},
   "outputs": [],
   "source": [
    "starts = np.concatenate([starttimes.reshape(-1, 1), startpositions], axis=1)"
   ]
  },
  {
   "cell_type": "code",
   "execution_count": 26,
   "metadata": {},
   "outputs": [
    {
     "data": {
      "text/plain": [
       "array([[ 7986.17268054,  -122.4402716 ,    37.79553342],\n",
       "       [ 5585.99172483,  -122.45547416,    37.78139801],\n",
       "       [10886.52439046,  -122.40553411,    37.63932228]])"
      ]
     },
     "execution_count": 26,
     "metadata": {},
     "output_type": "execute_result"
    }
   ],
   "source": [
    "starts[:3]"
   ]
  },
  {
   "cell_type": "code",
   "execution_count": 27,
   "metadata": {},
   "outputs": [
    {
     "name": "stderr",
     "output_type": "stream",
     "text": [
      "/Users/jankaiser/anaconda3/lib/python3.6/site-packages/sklearn/base.py:251: UserWarning: Trying to unpickle estimator StandardScaler from version 0.20.2 when using version 0.20.1. This might lead to breaking code or invalid results. Use at your own risk.\n",
      "  UserWarning)\n"
     ]
    }
   ],
   "source": [
    "scaler = pickle.load(open('scalers/citybased_rnn_2/' + setup_string + '.pkl', 'rb'))"
   ]
  },
  {
   "cell_type": "markdown",
   "metadata": {},
   "source": [
    "Actual generation loops"
   ]
  },
  {
   "cell_type": "code",
   "execution_count": 28,
   "metadata": {},
   "outputs": [
    {
     "data": {
      "text/plain": [
       "-0.05485318227960303"
      ]
     },
     "execution_count": 28,
     "metadata": {},
     "output_type": "execute_result"
    }
   ],
   "source": [
    "one_second = scaler.transform(np.array([[1.0, 0.0, 0.0]]))[0, 0]\n",
    "one_second"
   ]
  },
  {
   "cell_type": "code",
   "execution_count": 29,
   "metadata": {},
   "outputs": [],
   "source": [
    "def generate_user(generator, scaler, start, duration):\n",
    "    generator.reset_states()\n",
    "    \n",
    "    sc = np.array([start])\n",
    "    s = sc.copy()\n",
    "    s[0, 0] = 0.0\n",
    "    s = scaler.transform(s)   \n",
    "    \n",
    "    starttime = start[0]\n",
    "    endtime = starttime + duration\n",
    "    \n",
    "    while sc[-1, 0] <= endtime:\n",
    "        x = s[-1]\n",
    "        \n",
    "        y = model.predict(x.reshape(1, 1, 3), batch_size=1).squeeze()\n",
    "        y[0] = max(one_second, y[0])\n",
    "        \n",
    "        s = np.concatenate([s, y.reshape((1, 3))])\n",
    "        \n",
    "        yc = scaler.inverse_transform(y.reshape(1, 3)).squeeze()\n",
    "        yc[0] = sc[-1, 0] + yc[0]\n",
    "        sc = np.concatenate([sc, yc.reshape((1, 3))])\n",
    "    \n",
    "    return sc[:-1]"
   ]
  },
  {
   "cell_type": "code",
   "execution_count": 30,
   "metadata": {},
   "outputs": [
    {
     "name": "stdout",
     "output_type": "stream",
     "text": [
      "0\n",
      "1\n",
      "2\n",
      "3\n",
      "4\n",
      "5\n",
      "6\n",
      "7\n"
     ]
    }
   ],
   "source": [
    "data = []\n",
    "for u in range(N_USERS):\n",
    "    print(u)\n",
    "    s = generate_user(model, scaler, starts[u], durations[u])\n",
    "    data.append(s)"
   ]
  },
  {
   "cell_type": "markdown",
   "metadata": {},
   "source": [
    "## Inspect generated data"
   ]
  },
  {
   "cell_type": "code",
   "execution_count": 31,
   "metadata": {},
   "outputs": [],
   "source": [
    "i = 4"
   ]
  },
  {
   "cell_type": "code",
   "execution_count": 32,
   "metadata": {},
   "outputs": [
    {
     "data": {
      "text/plain": [
       "array([[ 5.69538087e+03, -1.22389722e+02,  3.77863681e+01],\n",
       "       [ 5.77450146e+03, -1.22372971e+02,  3.77869759e+01],\n",
       "       [ 5.84485791e+03, -1.22363388e+02,  3.77871513e+01],\n",
       "       ...,\n",
       "       [ 6.01485688e+05, -1.22410858e+02,  3.78093719e+01],\n",
       "       [ 6.01546500e+05, -1.22410858e+02,  3.78093719e+01],\n",
       "       [ 6.01607312e+05, -1.22410858e+02,  3.78093719e+01]])"
      ]
     },
     "execution_count": 32,
     "metadata": {},
     "output_type": "execute_result"
    }
   ],
   "source": [
    "data[i]"
   ]
  },
  {
   "cell_type": "code",
   "execution_count": 36,
   "metadata": {},
   "outputs": [
    {
     "data": {
      "image/png": "[encoded data removed]",
      "text/plain": [
       "<Figure size 1080x288 with 3 Axes>"
      ]
     },
     "metadata": {
      "needs_background": "light"
     },
     "output_type": "display_data"
    }
   ],
   "source": [
    "plt.figure(figsize=(15, 4))\n",
    "plt.subplot(131)\n",
    "plt.plot(data[i][:, 0])\n",
    "plt.title('time')\n",
    "plt.subplot(132)\n",
    "plt.plot(data[i][:, 1])\n",
    "plt.title('longitude')\n",
    "plt.subplot(133)\n",
    "plt.plot(data[i][:, 2])\n",
    "plt.title('latitude')\n",
    "plt.show()"
   ]
  },
  {
   "cell_type": "code",
   "execution_count": 37,
   "metadata": {},
   "outputs": [
    {
     "data": {
      "image/png": "[encoded data removed]",
      "text/plain": [
       "<Figure size 1080x288 with 3 Axes>"
      ]
     },
     "metadata": {
      "needs_background": "light"
     },
     "output_type": "display_data"
    }
   ],
   "source": [
    "plt.figure(figsize=(15, 4))\n",
    "plt.subplot(131)\n",
    "plt.plot(np.diff(data[i][:, 0]), c='red')\n",
    "plt.title('time delta')\n",
    "plt.subplot(132)\n",
    "plt.plot(np.diff(data[i][:, 1]), c='red')\n",
    "plt.title('longitude delta')\n",
    "plt.subplot(133)\n",
    "plt.plot(np.diff(data[i][:, 2]), c='red')\n",
    "plt.title('latitude delta')\n",
    "plt.show()"
   ]
  },
  {
   "cell_type": "code",
   "execution_count": 41,
   "metadata": {},
   "outputs": [
    {
     "data": {
      "image/png": "[encoded data removed]",
      "text/plain": [
       "<Figure size 936x720 with 2 Axes>"
      ]
     },
     "metadata": {
      "needs_background": "light"
     },
     "output_type": "display_data"
    }
   ],
   "source": [
    "plt.figure(figsize=(13, 10))\n",
    "plt.scatter(data[i][:, 1], data[i][:, 2], c=data[i][:, 0])\n",
    "plt.colorbar()\n",
    "plt.show()"
   ]
  },
  {
   "cell_type": "markdown",
   "metadata": {},
   "source": [
    "## Convert data to standard format"
   ]
  },
  {
   "cell_type": "code",
   "execution_count": 73,
   "metadata": {},
   "outputs": [
    {
     "data": {
      "text/html": [
       "<div>\n",
       "<style scoped>\n",
       "    .dataframe tbody tr th:only-of-type {\n",
       "        vertical-align: middle;\n",
       "    }\n",
       "\n",
       "    .dataframe tbody tr th {\n",
       "        vertical-align: top;\n",
       "    }\n",
       "\n",
       "    .dataframe thead th {\n",
       "        text-align: right;\n",
       "    }\n",
       "</style>\n",
       "<table border=\"1\" class=\"dataframe\">\n",
       "  <thead>\n",
       "    <tr style=\"text-align: right;\">\n",
       "      <th></th>\n",
       "      <th></th>\n",
       "      <th>longitude</th>\n",
       "      <th>latitude</th>\n",
       "    </tr>\n",
       "    <tr>\n",
       "      <th>user</th>\n",
       "      <th>time</th>\n",
       "      <th></th>\n",
       "      <th></th>\n",
       "    </tr>\n",
       "  </thead>\n",
       "  <tbody>\n",
       "    <tr>\n",
       "      <th rowspan=\"5\" valign=\"top\">0</th>\n",
       "      <th>2008-06-02 02:13:06.172680544</th>\n",
       "      <td>-122.440272</td>\n",
       "      <td>37.795533</td>\n",
       "    </tr>\n",
       "    <tr>\n",
       "      <th>2008-06-02 02:14:29.331054688</th>\n",
       "      <td>-122.450600</td>\n",
       "      <td>37.805393</td>\n",
       "    </tr>\n",
       "    <tr>\n",
       "      <th>2008-06-02 02:15:39.968750000</th>\n",
       "      <td>-122.458244</td>\n",
       "      <td>37.807407</td>\n",
       "    </tr>\n",
       "    <tr>\n",
       "      <th>2008-06-02 02:16:46.057617188</th>\n",
       "      <td>-122.463585</td>\n",
       "      <td>37.809772</td>\n",
       "    </tr>\n",
       "    <tr>\n",
       "      <th>2008-06-02 02:17:48.258789062</th>\n",
       "      <td>-122.467300</td>\n",
       "      <td>37.811417</td>\n",
       "    </tr>\n",
       "  </tbody>\n",
       "</table>\n",
       "</div>"
      ],
      "text/plain": [
       "                                     longitude   latitude\n",
       "user time                                                \n",
       "0    2008-06-02 02:13:06.172680544 -122.440272  37.795533\n",
       "     2008-06-02 02:14:29.331054688 -122.450600  37.805393\n",
       "     2008-06-02 02:15:39.968750000 -122.458244  37.807407\n",
       "     2008-06-02 02:16:46.057617188 -122.463585  37.809772\n",
       "     2008-06-02 02:17:48.258789062 -122.467300  37.811417"
      ]
     },
     "execution_count": 73,
     "metadata": {},
     "output_type": "execute_result"
    }
   ],
   "source": [
    "dfs = []\n",
    "for u in range(len(data)):\n",
    "    userdf = pd.DataFrame(data[u], columns=['time', 'longitude', 'latitude'])\n",
    "    userdf['user'] = u\n",
    "    userdf['time'] = BEGIN + pd.to_timedelta(userdf['time'], unit='s')\n",
    "    dfs.append(userdf)\n",
    "\n",
    "df = pd.concat(dfs, ignore_index=True)\n",
    "df = df.set_index(['user', 'time'])\n",
    "\n",
    "df.head()"
   ]
  },
  {
   "cell_type": "code",
   "execution_count": 78,
   "metadata": {},
   "outputs": [],
   "source": [
    "df.to_pickle('generated/citybased_rnn_2/' + setup_string + '_cut.pkl')"
   ]
  }
 ],
 "metadata": {
  "kernelspec": {
   "display_name": "Python 3",
   "language": "python",
   "name": "python3"
  },
  "language_info": {
   "codemirror_mode": {
    "name": "ipython",
    "version": 3
   },
   "file_extension": ".py",
   "mimetype": "text/x-python",
   "name": "python",
   "nbconvert_exporter": "python",
   "pygments_lexer": "ipython3",
   "version": "3.6.7"
  }
 },
 "nbformat": 4,
 "nbformat_minor": 2
}
