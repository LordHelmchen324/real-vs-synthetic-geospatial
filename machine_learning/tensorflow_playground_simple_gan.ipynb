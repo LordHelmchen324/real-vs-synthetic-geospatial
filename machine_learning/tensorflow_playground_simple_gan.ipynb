{
  "nbformat": 4,
  "nbformat_minor": 0,
  "metadata": {
    "colab": {
      "name": "tensorflow_playground_simple_gan.ipynb",
      "version": "0.3.2",
      "provenance": []
    },
    "kernelspec": {
      "name": "python3",
      "display_name": "Python 3"
    },
    "accelerator": "GPU"
  },
  "cells": [
    {
      "metadata": {
        "id": "_AZSyZl8fsB8",
        "colab_type": "code",
        "colab": {
          "base_uri": "https://localhost:8080/",
          "height": 34
        },
        "outputId": "2379ccc3-37cb-4591-dec6-6b623300e709"
      },
      "cell_type": "code",
      "source": [
        "import tensorflow as tf\n",
        "from tensorflow import keras\n",
        "\n",
        "import numpy as np\n",
        "import matplotlib.pyplot as plt\n",
        "\n",
        "print(tf.__version__)"
      ],
      "execution_count": 1,
      "outputs": [
        {
          "output_type": "stream",
          "text": [
            "1.12.0\n"
          ],
          "name": "stdout"
        }
      ]
    },
    {
      "metadata": {
        "id": "FKdqXpdCfsCK",
        "colab_type": "code",
        "colab": {
          "base_uri": "https://localhost:8080/",
          "height": 68
        },
        "outputId": "56479917-645d-4655-f8d4-8e70d0b9ea86"
      },
      "cell_type": "code",
      "source": [
        "mnist = keras.datasets.mnist\n",
        "(train_images, _), (_, _) = mnist.load_data()\n",
        "\n",
        "print(train_images.shape)"
      ],
      "execution_count": 2,
      "outputs": [
        {
          "output_type": "stream",
          "text": [
            "Downloading data from https://storage.googleapis.com/tensorflow/tf-keras-datasets/mnist.npz\n",
            "11493376/11490434 [==============================] - 0s 0us/step\n",
            "(60000, 28, 28)\n"
          ],
          "name": "stdout"
        }
      ]
    },
    {
      "metadata": {
        "id": "YCpjZeHmfsCR",
        "colab_type": "code",
        "colab": {}
      },
      "cell_type": "code",
      "source": [
        "train_images = train_images / 255"
      ],
      "execution_count": 0,
      "outputs": []
    },
    {
      "metadata": {
        "id": "nx9R9wx4fsCU",
        "colab_type": "code",
        "colab": {
          "base_uri": "https://localhost:8080/",
          "height": 351
        },
        "outputId": "eea0b156-8d37-46b9-c525-444eed3bde26"
      },
      "cell_type": "code",
      "source": [
        "plt.figure()\n",
        "plt.imshow(train_images[0])\n",
        "plt.colorbar()\n",
        "plt.gca().grid(False)"
      ],
      "execution_count": 4,
      "outputs": [
        {
          "output_type": "display_data",
          "data": {
            "image/png": "[encoded data removed]",
            "text/plain": [
              "<matplotlib.figure.Figure at 0x7f188b78e438>"
            ]
          },
          "metadata": {
            "tags": []
          }
        }
      ]
    },
    {
      "metadata": {
        "id": "QVkdeBYIfsCY",
        "colab_type": "code",
        "colab": {}
      },
      "cell_type": "code",
      "source": [
        "generator = keras.Sequential([\n",
        "    keras.layers.Dense(256, input_shape=(100,), activation=tf.nn.relu),\n",
        "    keras.layers.BatchNormalization(momentum=0.8),\n",
        "    keras.layers.Dense(512, activation=tf.nn.relu),\n",
        "    keras.layers.BatchNormalization(momentum=0.8),\n",
        "    keras.layers.Dense(1024, activation=tf.nn.relu),\n",
        "    keras.layers.BatchNormalization(momentum=0.8),\n",
        "    keras.layers.Dense(28 * 28, activation='tanh'),\n",
        "    keras.layers.Reshape((28, 28))\n",
        "])\n",
        "\n",
        "generator.compile(optimizer=keras.optimizers.Adam(lr=0.0002, beta_1=0.5, decay=8e-8),\n",
        "                  loss='binary_crossentropy')"
      ],
      "execution_count": 0,
      "outputs": []
    },
    {
      "metadata": {
        "id": "v_yCcY7dfsCb",
        "colab_type": "code",
        "colab": {}
      },
      "cell_type": "code",
      "source": [
        "discriminator = keras.Sequential([\n",
        "    keras.layers.Flatten(input_shape=(28, 28)),\n",
        "    keras.layers.Dense(28 * 28, input_shape=(28, 28), activation=tf.nn.relu),\n",
        "    keras.layers.Dense((28 * 28) / 2, activation=tf.nn.relu),\n",
        "    keras.layers.Dense(1, activation='sigmoid')\n",
        "])\n",
        "\n",
        "discriminator.compile(optimizer=keras.optimizers.Adam(lr=0.0002, beta_1=0.5, decay=8e-8),\n",
        "                  loss='binary_crossentropy',\n",
        "                  metrics=['accuracy'])"
      ],
      "execution_count": 0,
      "outputs": []
    },
    {
      "metadata": {
        "id": "hmgSLlrSfsCe",
        "colab_type": "code",
        "colab": {}
      },
      "cell_type": "code",
      "source": [
        "discriminator.trainable = False\n",
        "\n",
        "adversarial_model = keras.Sequential([\n",
        "    generator,\n",
        "    discriminator\n",
        "])\n",
        "\n",
        "adversarial_model.compile(optimizer=keras.optimizers.Adam(lr=0.0002, beta_1=0.5, decay=8e-8),\n",
        "                          loss='binary_crossentropy')"
      ],
      "execution_count": 0,
      "outputs": []
    },
    {
      "metadata": {
        "id": "7apIUeh1fsCg",
        "colab_type": "code",
        "colab": {}
      },
      "cell_type": "code",
      "source": [
        "epochs = 5\n",
        "batch_size = 32\n",
        "\n",
        "batches = train_images.shape[0] // batch_size\n",
        "\n",
        "for epoch in range(epochs):\n",
        "    for batch in range(batches):\n",
        "        \n",
        "        # Train the discriminator\n",
        "        \n",
        "        noise = np.random.normal(0, 1, (batch_size // 2, 100))\n",
        "        fake_images = generator.predict(noise)\n",
        "        fake_labels = np.zeros((batch_size // 2, 1))\n",
        "        \n",
        "        sample_indicies = np.random.randint(0, train_images.shape[0], batch_size // 2)\n",
        "        real_images = train_images[sample_indicies]\n",
        "        real_labels = np.ones((batch_size // 2, 1))\n",
        "        \n",
        "        d_loss_fake = discriminator.train_on_batch(fake_images, fake_labels)\n",
        "        d_loss_real = discriminator.train_on_batch(real_images, real_labels)\n",
        "        d_loss = 0.5 * np.add(d_loss_fake, d_loss_real)\n",
        "        \n",
        "        # Train the generator\n",
        "        \n",
        "        noise = np.random.normal(0, 1, (batch_size, 100))\n",
        "        g_loss = adversarial_model.train_on_batch(noise, np.ones((batch_size, 1)))\n",
        "        \n",
        "        # Logging output\n",
        "        \n",
        "        print('Epoch %d Batch %d/%d [D loss: %f, acc.: %.2f%%] [G loss: %f]' % (epoch, batch, batches, d_loss[0], 100 * d_loss[1], g_loss))"
      ],
      "execution_count": 0,
      "outputs": []
    }
  ]
}