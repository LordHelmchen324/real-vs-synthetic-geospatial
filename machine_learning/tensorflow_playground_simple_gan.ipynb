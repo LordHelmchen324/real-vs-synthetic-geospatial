{
  "nbformat": 4,
  "nbformat_minor": 0,
  "metadata": {
    "colab": {
      "name": "tensorflow_playground_simple_gan.ipynb",
      "version": "0.3.2",
      "provenance": []
    },
    "kernelspec": {
      "name": "python3",
      "display_name": "Python 3"
    },
    "accelerator": "GPU"
  },
  "cells": [
    {
      "metadata": {
        "id": "_AZSyZl8fsB8",
        "colab_type": "code",
        "outputId": "756c43c4-0799-45b5-a673-d240284fa429",
        "colab": {
          "base_uri": "https://localhost:8080/",
          "height": 51
        }
      },
      "cell_type": "code",
      "source": [
        "import tensorflow as tf\n",
        "\n",
        "!pip install -q keras\n",
        "import keras\n",
        "\n",
        "import numpy as np\n",
        "import matplotlib.pyplot as plt\n",
        "\n",
        "print(tf.__version__)"
      ],
      "execution_count": 1,
      "outputs": [
        {
          "output_type": "stream",
          "text": [
            "1.12.0\n"
          ],
          "name": "stdout"
        },
        {
          "output_type": "stream",
          "text": [
            "Using TensorFlow backend.\n"
          ],
          "name": "stderr"
        }
      ]
    },
    {
      "metadata": {
        "id": "FKdqXpdCfsCK",
        "colab_type": "code",
        "outputId": "49757899-e0cf-437c-a7c2-2b879cee3f21",
        "colab": {
          "base_uri": "https://localhost:8080/",
          "height": 68
        }
      },
      "cell_type": "code",
      "source": [
        "mnist = keras.datasets.mnist\n",
        "(train_images, _), (_, _) = mnist.load_data()\n",
        "\n",
        "print(train_images.shape)"
      ],
      "execution_count": 2,
      "outputs": [
        {
          "output_type": "stream",
          "text": [
            "Downloading data from https://s3.amazonaws.com/img-datasets/mnist.npz\n",
            "11493376/11490434 [==============================] - 0s 0us/step\n",
            "(60000, 28, 28)\n"
          ],
          "name": "stdout"
        }
      ]
    },
    {
      "metadata": {
        "id": "YCpjZeHmfsCR",
        "colab_type": "code",
        "colab": {}
      },
      "cell_type": "code",
      "source": [
        "train_images = train_images / 255"
      ],
      "execution_count": 0,
      "outputs": []
    },
    {
      "metadata": {
        "id": "nx9R9wx4fsCU",
        "colab_type": "code",
        "outputId": "e8210f14-e0c3-48ba-aa84-c5c6737753b0",
        "colab": {
          "base_uri": "https://localhost:8080/",
          "height": 351
        }
      },
      "cell_type": "code",
      "source": [
        "plt.figure()\n",
        "plt.imshow(train_images[0])\n",
        "plt.colorbar()\n",
        "plt.gca().grid(False)"
      ],
      "execution_count": 4,
      "outputs": [
        {
          "output_type": "display_data",
          "data": {
            "image/png": "[encoded data removed]",
            "text/plain": [
              "<matplotlib.figure.Figure at 0x7f09c5146860>"
            ]
          },
          "metadata": {
            "tags": []
          }
        }
      ]
    },
    {
      "metadata": {
        "id": "QVkdeBYIfsCY",
        "colab_type": "code",
        "colab": {}
      },
      "cell_type": "code",
      "source": [
        "generator = keras.Sequential([\n",
        "    keras.layers.Dense(256, input_shape=(100,), activation='relu'),\n",
        "    keras.layers.BatchNormalization(momentum=0.8),\n",
        "    keras.layers.Dense(512, activation='relu'),\n",
        "    keras.layers.BatchNormalization(momentum=0.8),\n",
        "    keras.layers.Dense(1024, activation='relu'),\n",
        "    keras.layers.BatchNormalization(momentum=0.8),\n",
        "    keras.layers.Dense(28 * 28, activation='tanh'),\n",
        "    keras.layers.Reshape((28, 28))\n",
        "])"
      ],
      "execution_count": 0,
      "outputs": []
    },
    {
      "metadata": {
        "id": "v_yCcY7dfsCb",
        "colab_type": "code",
        "colab": {}
      },
      "cell_type": "code",
      "source": [
        "discriminator = keras.Sequential([\n",
        "    keras.layers.Flatten(input_shape=(28, 28)),\n",
        "    keras.layers.Dense(28 * 28, input_shape=(28, 28), activation='relu'),\n",
        "    keras.layers.Dense(int((28 * 28) / 2), activation='relu'),\n",
        "    keras.layers.Dense(1, activation='sigmoid')\n",
        "])"
      ],
      "execution_count": 0,
      "outputs": []
    },
    {
      "metadata": {
        "id": "DTORSzQkB5Ay",
        "colab_type": "code",
        "colab": {}
      },
      "cell_type": "code",
      "source": [
        "discriminator.compile(optimizer=keras.optimizers.Adam(lr=0.0002, beta_1=0.5, decay=8e-8),\n",
        "                      loss='binary_crossentropy',\n",
        "                      metrics=['accuracy'])"
      ],
      "execution_count": 0,
      "outputs": []
    },
    {
      "metadata": {
        "id": "hmgSLlrSfsCe",
        "colab_type": "code",
        "colab": {}
      },
      "cell_type": "code",
      "source": [
        "discriminator.trainable = False\n",
        "\n",
        "adversarial_model = keras.Sequential([\n",
        "    generator,\n",
        "    discriminator\n",
        "])\n",
        "\n",
        "adversarial_model.compile(optimizer=keras.optimizers.Adam(lr=0.0002, beta_1=0.5, decay=8e-8),\n",
        "                          loss='binary_crossentropy')"
      ],
      "execution_count": 0,
      "outputs": []
    },
    {
      "metadata": {
        "id": "7apIUeh1fsCg",
        "colab_type": "code",
        "outputId": "266565bd-02a6-4194-9a36-70bc3e085c88",
        "colab": {
          "base_uri": "https://localhost:8080/",
          "height": 1686
        }
      },
      "cell_type": "code",
      "source": [
        "epochs = 5\n",
        "batch_size = 32\n",
        "\n",
        "batches = train_images.shape[0] // batch_size\n",
        "\n",
        "for epoch in range(epochs):\n",
        "    for batch in range(batches):\n",
        "        \n",
        "        # Train the discriminator\n",
        "        \n",
        "        noise = np.random.normal(0, 1, (batch_size // 2, 100))\n",
        "        fake_images = generator.predict(noise)\n",
        "        fake_labels = np.zeros((batch_size // 2, 1))\n",
        "        \n",
        "        sample_indicies = np.random.randint(0, train_images.shape[0], batch_size // 2)\n",
        "        real_images = train_images[sample_indicies]\n",
        "        real_labels = np.ones((batch_size // 2, 1))\n",
        "        \n",
        "        d_loss_fake = discriminator.train_on_batch(fake_images, fake_labels)\n",
        "        d_loss_real = discriminator.train_on_batch(real_images, real_labels)\n",
        "        d_loss = 0.5 * np.add(d_loss_fake, d_loss_real)\n",
        "        \n",
        "        # Train the generator\n",
        "        \n",
        "        noise = np.random.normal(0, 1, (batch_size, 100))\n",
        "        g_loss = adversarial_model.train_on_batch(noise, np.ones((batch_size, 1)))\n",
        "        \n",
        "        # Logging output\n",
        "        \n",
        "        if batch % 100 == 0:\n",
        "            print('Epoch %d Batch %d/%d [D loss: %f, acc.: %.2f%%] [G loss: %f]' % (epoch, batch, batches, d_loss[0], 100 * d_loss[1], g_loss))"
      ],
      "execution_count": 9,
      "outputs": [
        {
          "output_type": "stream",
          "text": [
            "/usr/local/lib/python3.6/dist-packages/keras/engine/training.py:490: UserWarning: Discrepancy between trainable weights and collected trainable weights, did you set `model.trainable` without calling `model.compile` after ?\n",
            "  'Discrepancy between trainable weights and collected trainable'\n"
          ],
          "name": "stderr"
        },
        {
          "output_type": "stream",
          "text": [
            "Epoch 0 Batch 0/1875 [D loss: 0.774904, acc.: 50.00%] [G loss: 1.006907]\n",
            "Epoch 0 Batch 100/1875 [D loss: 0.338535, acc.: 81.25%] [G loss: 7.763990]\n",
            "Epoch 0 Batch 200/1875 [D loss: 0.252610, acc.: 90.62%] [G loss: 5.819500]\n",
            "Epoch 0 Batch 300/1875 [D loss: 0.124432, acc.: 96.88%] [G loss: 5.904957]\n",
            "Epoch 0 Batch 400/1875 [D loss: 0.210094, acc.: 93.75%] [G loss: 7.229586]\n",
            "Epoch 0 Batch 500/1875 [D loss: 0.153003, acc.: 93.75%] [G loss: 6.557358]\n",
            "Epoch 0 Batch 600/1875 [D loss: 0.303363, acc.: 90.62%] [G loss: 4.549548]\n",
            "Epoch 0 Batch 700/1875 [D loss: 0.419602, acc.: 81.25%] [G loss: 2.423078]\n",
            "Epoch 0 Batch 800/1875 [D loss: 0.485089, acc.: 65.62%] [G loss: 2.541378]\n",
            "Epoch 0 Batch 900/1875 [D loss: 0.387779, acc.: 87.50%] [G loss: 1.791478]\n",
            "Epoch 0 Batch 1000/1875 [D loss: 0.431925, acc.: 87.50%] [G loss: 1.624491]\n",
            "Epoch 0 Batch 1100/1875 [D loss: 0.561818, acc.: 71.88%] [G loss: 1.260841]\n",
            "Epoch 0 Batch 1200/1875 [D loss: 0.320267, acc.: 93.75%] [G loss: 2.214815]\n",
            "Epoch 0 Batch 1300/1875 [D loss: 0.443224, acc.: 81.25%] [G loss: 1.857599]\n",
            "Epoch 0 Batch 1400/1875 [D loss: 0.556913, acc.: 71.88%] [G loss: 2.363777]\n",
            "Epoch 0 Batch 1500/1875 [D loss: 0.083321, acc.: 96.88%] [G loss: 6.718992]\n",
            "Epoch 0 Batch 1600/1875 [D loss: 0.164657, acc.: 93.75%] [G loss: 4.349534]\n",
            "Epoch 0 Batch 1700/1875 [D loss: 0.416127, acc.: 78.12%] [G loss: 2.449492]\n",
            "Epoch 0 Batch 1800/1875 [D loss: 0.660891, acc.: 59.38%] [G loss: 2.111089]\n",
            "Epoch 1 Batch 0/1875 [D loss: 0.610785, acc.: 65.62%] [G loss: 3.171980]\n",
            "Epoch 1 Batch 100/1875 [D loss: 0.528611, acc.: 75.00%] [G loss: 1.947410]\n",
            "Epoch 1 Batch 200/1875 [D loss: 0.469573, acc.: 78.12%] [G loss: 2.066311]\n",
            "Epoch 1 Batch 300/1875 [D loss: 0.149463, acc.: 100.00%] [G loss: 3.387271]\n",
            "Epoch 1 Batch 400/1875 [D loss: 0.133545, acc.: 96.88%] [G loss: 3.704100]\n",
            "Epoch 1 Batch 500/1875 [D loss: 0.165969, acc.: 96.88%] [G loss: 3.311951]\n",
            "Epoch 1 Batch 600/1875 [D loss: 0.305296, acc.: 90.62%] [G loss: 2.567713]\n",
            "Epoch 1 Batch 700/1875 [D loss: 0.308918, acc.: 90.62%] [G loss: 3.620939]\n",
            "Epoch 1 Batch 800/1875 [D loss: 0.328466, acc.: 84.38%] [G loss: 2.882939]\n",
            "Epoch 1 Batch 900/1875 [D loss: 0.209906, acc.: 93.75%] [G loss: 6.619726]\n",
            "Epoch 1 Batch 1000/1875 [D loss: 0.138014, acc.: 96.88%] [G loss: 2.621924]\n",
            "Epoch 1 Batch 1100/1875 [D loss: 0.242467, acc.: 84.38%] [G loss: 4.227989]\n",
            "Epoch 1 Batch 1200/1875 [D loss: 0.065716, acc.: 96.88%] [G loss: 5.757777]\n",
            "Epoch 1 Batch 1300/1875 [D loss: 0.243236, acc.: 93.75%] [G loss: 3.258756]\n",
            "Epoch 1 Batch 1400/1875 [D loss: 0.257756, acc.: 90.62%] [G loss: 4.016487]\n",
            "Epoch 1 Batch 1500/1875 [D loss: 0.141570, acc.: 93.75%] [G loss: 3.827814]\n",
            "Epoch 1 Batch 1600/1875 [D loss: 0.162195, acc.: 96.88%] [G loss: 3.885927]\n",
            "Epoch 1 Batch 1700/1875 [D loss: 0.147240, acc.: 90.62%] [G loss: 3.798099]\n",
            "Epoch 1 Batch 1800/1875 [D loss: 0.160139, acc.: 96.88%] [G loss: 3.473101]\n",
            "Epoch 2 Batch 0/1875 [D loss: 0.253481, acc.: 87.50%] [G loss: 4.088250]\n",
            "Epoch 2 Batch 100/1875 [D loss: 0.128188, acc.: 90.62%] [G loss: 2.772329]\n",
            "Epoch 2 Batch 200/1875 [D loss: 0.035747, acc.: 100.00%] [G loss: 4.350713]\n",
            "Epoch 2 Batch 300/1875 [D loss: 0.246956, acc.: 90.62%] [G loss: 4.174962]\n",
            "Epoch 2 Batch 400/1875 [D loss: 0.040527, acc.: 100.00%] [G loss: 5.304477]\n",
            "Epoch 2 Batch 500/1875 [D loss: 0.039248, acc.: 100.00%] [G loss: 0.542307]\n",
            "Epoch 2 Batch 600/1875 [D loss: 0.062646, acc.: 96.88%] [G loss: 0.042821]\n",
            "Epoch 2 Batch 700/1875 [D loss: 0.016686, acc.: 100.00%] [G loss: 1.311244]\n",
            "Epoch 2 Batch 800/1875 [D loss: 0.018031, acc.: 100.00%] [G loss: 1.393720]\n",
            "Epoch 2 Batch 900/1875 [D loss: 0.059824, acc.: 96.88%] [G loss: 0.686060]\n",
            "Epoch 2 Batch 1000/1875 [D loss: 0.029055, acc.: 100.00%] [G loss: 0.680090]\n",
            "Epoch 2 Batch 1100/1875 [D loss: 0.014737, acc.: 100.00%] [G loss: 0.001849]\n",
            "Epoch 2 Batch 1200/1875 [D loss: 0.021709, acc.: 100.00%] [G loss: 0.588205]\n",
            "Epoch 2 Batch 1300/1875 [D loss: 0.027625, acc.: 96.88%] [G loss: 0.773343]\n",
            "Epoch 2 Batch 1400/1875 [D loss: 0.155455, acc.: 96.88%] [G loss: 0.505522]\n",
            "Epoch 2 Batch 1500/1875 [D loss: 0.003393, acc.: 100.00%] [G loss: 0.013661]\n",
            "Epoch 2 Batch 1600/1875 [D loss: 0.003973, acc.: 100.00%] [G loss: 0.617191]\n",
            "Epoch 2 Batch 1700/1875 [D loss: 0.012394, acc.: 100.00%] [G loss: 0.508439]\n",
            "Epoch 2 Batch 1800/1875 [D loss: 0.090371, acc.: 96.88%] [G loss: 0.546235]\n",
            "Epoch 3 Batch 0/1875 [D loss: 0.039563, acc.: 96.88%] [G loss: 0.635474]\n",
            "Epoch 3 Batch 100/1875 [D loss: 0.070792, acc.: 96.88%] [G loss: 0.684077]\n",
            "Epoch 3 Batch 200/1875 [D loss: 0.029484, acc.: 100.00%] [G loss: 0.035118]\n",
            "Epoch 3 Batch 300/1875 [D loss: 0.046482, acc.: 100.00%] [G loss: 0.007636]\n",
            "Epoch 3 Batch 400/1875 [D loss: 0.048793, acc.: 96.88%] [G loss: 3.835730]\n",
            "Epoch 3 Batch 500/1875 [D loss: 0.271528, acc.: 84.38%] [G loss: 0.628938]\n",
            "Epoch 3 Batch 600/1875 [D loss: 0.021156, acc.: 100.00%] [G loss: 0.019181]\n",
            "Epoch 3 Batch 700/1875 [D loss: 0.002827, acc.: 100.00%] [G loss: 0.505534]\n",
            "Epoch 3 Batch 800/1875 [D loss: 0.056141, acc.: 96.88%] [G loss: 1.807557]\n",
            "Epoch 3 Batch 900/1875 [D loss: 0.008138, acc.: 100.00%] [G loss: 0.005337]\n",
            "Epoch 3 Batch 1000/1875 [D loss: 0.002909, acc.: 100.00%] [G loss: 0.094707]\n",
            "Epoch 3 Batch 1100/1875 [D loss: 0.017516, acc.: 100.00%] [G loss: 0.319050]\n",
            "Epoch 3 Batch 1200/1875 [D loss: 0.008163, acc.: 100.00%] [G loss: 0.688447]\n",
            "Epoch 3 Batch 1300/1875 [D loss: 0.023923, acc.: 100.00%] [G loss: 2.337541]\n",
            "Epoch 3 Batch 1400/1875 [D loss: 0.127246, acc.: 93.75%] [G loss: 1.783190]\n",
            "Epoch 3 Batch 1500/1875 [D loss: 0.311204, acc.: 90.62%] [G loss: 0.531359]\n",
            "Epoch 3 Batch 1600/1875 [D loss: 0.009066, acc.: 100.00%] [G loss: 0.116954]\n",
            "Epoch 3 Batch 1700/1875 [D loss: 0.117956, acc.: 93.75%] [G loss: 6.593168]\n",
            "Epoch 3 Batch 1800/1875 [D loss: 0.025410, acc.: 100.00%] [G loss: 1.668452]\n",
            "Epoch 4 Batch 0/1875 [D loss: 0.148194, acc.: 93.75%] [G loss: 0.862349]\n",
            "Epoch 4 Batch 100/1875 [D loss: 0.113239, acc.: 96.88%] [G loss: 0.617457]\n",
            "Epoch 4 Batch 200/1875 [D loss: 0.098728, acc.: 96.88%] [G loss: 0.605892]\n",
            "Epoch 4 Batch 300/1875 [D loss: 0.005980, acc.: 100.00%] [G loss: 0.977257]\n",
            "Epoch 4 Batch 400/1875 [D loss: 0.062649, acc.: 100.00%] [G loss: 2.105347]\n",
            "Epoch 4 Batch 500/1875 [D loss: 0.113121, acc.: 96.88%] [G loss: 0.804545]\n",
            "Epoch 4 Batch 600/1875 [D loss: 0.036832, acc.: 100.00%] [G loss: 0.078637]\n",
            "Epoch 4 Batch 700/1875 [D loss: 0.104821, acc.: 93.75%] [G loss: 2.072615]\n",
            "Epoch 4 Batch 800/1875 [D loss: 0.102811, acc.: 96.88%] [G loss: 0.675919]\n",
            "Epoch 4 Batch 900/1875 [D loss: 0.109037, acc.: 96.88%] [G loss: 1.429362]\n",
            "Epoch 4 Batch 1000/1875 [D loss: 0.010034, acc.: 100.00%] [G loss: 1.170434]\n",
            "Epoch 4 Batch 1100/1875 [D loss: 0.022922, acc.: 100.00%] [G loss: 0.842853]\n",
            "Epoch 4 Batch 1200/1875 [D loss: 0.312370, acc.: 90.62%] [G loss: 5.593585]\n",
            "Epoch 4 Batch 1300/1875 [D loss: 0.038198, acc.: 100.00%] [G loss: 0.146779]\n",
            "Epoch 4 Batch 1400/1875 [D loss: 0.053504, acc.: 96.88%] [G loss: 3.493253]\n",
            "Epoch 4 Batch 1500/1875 [D loss: 0.234854, acc.: 81.25%] [G loss: 4.113971]\n",
            "Epoch 4 Batch 1600/1875 [D loss: 0.041153, acc.: 100.00%] [G loss: 0.514866]\n",
            "Epoch 4 Batch 1700/1875 [D loss: 0.056122, acc.: 96.88%] [G loss: 5.082363]\n",
            "Epoch 4 Batch 1800/1875 [D loss: 0.127626, acc.: 96.88%] [G loss: 0.813799]\n"
          ],
          "name": "stdout"
        }
      ]
    },
    {
      "metadata": {
        "id": "XUWlH2yhHkV-",
        "colab_type": "code",
        "colab": {
          "base_uri": "https://localhost:8080/",
          "height": 347
        },
        "outputId": "02a2aab8-a01e-4326-a88e-52f8d0d0b5e2"
      },
      "cell_type": "code",
      "source": [
        "noise = np.random.normal(0, 1, (1, 100))\n",
        "fake_image = generator.predict(noise)[0]\n",
        "\n",
        "plt.figure()\n",
        "plt.imshow(fake_image)\n",
        "plt.colorbar()\n",
        "plt.gca().grid(False)"
      ],
      "execution_count": 16,
      "outputs": [
        {
          "output_type": "display_data",
          "data": {
            "image/png": "[encoded data removed]",
            "text/plain": [
              "<matplotlib.figure.Figure at 0x7f09c156f240>"
            ]
          },
          "metadata": {
            "tags": []
          }
        }
      ]
    }
  ]
}