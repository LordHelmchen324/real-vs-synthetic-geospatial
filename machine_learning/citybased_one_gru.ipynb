{
 "cells": [
  {
   "cell_type": "code",
   "execution_count": 1,
   "metadata": {
    "colab": {
     "base_uri": "https://localhost:8080/",
     "height": 51
    },
    "colab_type": "code",
    "id": "sXvf-FvV9XVZ",
    "outputId": "5e33bbb5-a2c3-4b65-8d32-3e2e0b06128c"
   },
   "outputs": [
    {
     "name": "stderr",
     "output_type": "stream",
     "text": [
      "Using TensorFlow backend.\n"
     ]
    },
    {
     "name": "stdout",
     "output_type": "stream",
     "text": [
      "1.12.0\n"
     ]
    }
   ],
   "source": [
    "import tensorflow as tf\n",
    "\n",
    "import keras\n",
    "\n",
    "import numpy as np\n",
    "import pandas as pd\n",
    "import matplotlib.pyplot as plt\n",
    "\n",
    "print(tf.__version__)"
   ]
  },
  {
   "cell_type": "code",
   "execution_count": 2,
   "metadata": {
    "colab": {
     "base_uri": "https://localhost:8080/",
     "height": 252
    },
    "colab_type": "code",
    "id": "XkMBPT-1wOSu",
    "outputId": "cf576f03-6207-4071-f698-32e1028465bb"
   },
   "outputs": [
    {
     "data": {
      "text/html": [
       "<div>\n",
       "<style scoped>\n",
       "    .dataframe tbody tr th:only-of-type {\n",
       "        vertical-align: middle;\n",
       "    }\n",
       "\n",
       "    .dataframe tbody tr th {\n",
       "        vertical-align: top;\n",
       "    }\n",
       "\n",
       "    .dataframe thead th {\n",
       "        text-align: right;\n",
       "    }\n",
       "</style>\n",
       "<table border=\"1\" class=\"dataframe\">\n",
       "  <thead>\n",
       "    <tr style=\"text-align: right;\">\n",
       "      <th></th>\n",
       "      <th></th>\n",
       "      <th>latitude</th>\n",
       "      <th>longitude</th>\n",
       "      <th>occupied</th>\n",
       "    </tr>\n",
       "    <tr>\n",
       "      <th>taxi</th>\n",
       "      <th>time</th>\n",
       "      <th></th>\n",
       "      <th></th>\n",
       "      <th></th>\n",
       "    </tr>\n",
       "  </thead>\n",
       "  <tbody>\n",
       "    <tr>\n",
       "      <th rowspan=\"5\" valign=\"top\">abboip</th>\n",
       "      <th>2008-05-17 14:12:10</th>\n",
       "      <td>37.75153</td>\n",
       "      <td>-122.39447</td>\n",
       "      <td>0</td>\n",
       "    </tr>\n",
       "    <tr>\n",
       "      <th>2008-05-17 14:13:34</th>\n",
       "      <td>37.75149</td>\n",
       "      <td>-122.39447</td>\n",
       "      <td>0</td>\n",
       "    </tr>\n",
       "    <tr>\n",
       "      <th>2008-05-17 14:14:34</th>\n",
       "      <td>37.75149</td>\n",
       "      <td>-122.39447</td>\n",
       "      <td>0</td>\n",
       "    </tr>\n",
       "    <tr>\n",
       "      <th>2008-05-17 14:15:35</th>\n",
       "      <td>37.75149</td>\n",
       "      <td>-122.39446</td>\n",
       "      <td>0</td>\n",
       "    </tr>\n",
       "    <tr>\n",
       "      <th>2008-05-17 14:41:43</th>\n",
       "      <td>37.75144</td>\n",
       "      <td>-122.39449</td>\n",
       "      <td>0</td>\n",
       "    </tr>\n",
       "  </tbody>\n",
       "</table>\n",
       "</div>"
      ],
      "text/plain": [
       "                            latitude  longitude  occupied\n",
       "taxi   time                                              \n",
       "abboip 2008-05-17 14:12:10  37.75153 -122.39447         0\n",
       "       2008-05-17 14:13:34  37.75149 -122.39447         0\n",
       "       2008-05-17 14:14:34  37.75149 -122.39447         0\n",
       "       2008-05-17 14:15:35  37.75149 -122.39446         0\n",
       "       2008-05-17 14:41:43  37.75144 -122.39449         0"
      ]
     },
     "execution_count": 2,
     "metadata": {},
     "output_type": "execute_result"
    }
   ],
   "source": [
    "cabspotting = pd.read_pickle('../cabspotting/' + 'cabspotting.pkl')\n",
    "cabspotting.head()"
   ]
  },
  {
   "cell_type": "code",
   "execution_count": 3,
   "metadata": {
    "colab": {
     "base_uri": "https://localhost:8080/",
     "height": 204
    },
    "colab_type": "code",
    "id": "liI2bi48tb0k",
    "outputId": "c04c0bac-5eba-4993-a634-2c8e5404e055"
   },
   "outputs": [
    {
     "data": {
      "text/html": [
       "<div>\n",
       "<style scoped>\n",
       "    .dataframe tbody tr th:only-of-type {\n",
       "        vertical-align: middle;\n",
       "    }\n",
       "\n",
       "    .dataframe tbody tr th {\n",
       "        vertical-align: top;\n",
       "    }\n",
       "\n",
       "    .dataframe thead th {\n",
       "        text-align: right;\n",
       "    }\n",
       "</style>\n",
       "<table border=\"1\" class=\"dataframe\">\n",
       "  <thead>\n",
       "    <tr style=\"text-align: right;\">\n",
       "      <th></th>\n",
       "      <th>taxi</th>\n",
       "      <th>time</th>\n",
       "      <th>latitude</th>\n",
       "      <th>longitude</th>\n",
       "      <th>occupied</th>\n",
       "    </tr>\n",
       "  </thead>\n",
       "  <tbody>\n",
       "    <tr>\n",
       "      <th>0</th>\n",
       "      <td>abboip</td>\n",
       "      <td>2008-05-17 14:12:10</td>\n",
       "      <td>37.75153</td>\n",
       "      <td>-122.39447</td>\n",
       "      <td>0</td>\n",
       "    </tr>\n",
       "    <tr>\n",
       "      <th>1</th>\n",
       "      <td>abboip</td>\n",
       "      <td>2008-05-17 14:13:34</td>\n",
       "      <td>37.75149</td>\n",
       "      <td>-122.39447</td>\n",
       "      <td>0</td>\n",
       "    </tr>\n",
       "    <tr>\n",
       "      <th>2</th>\n",
       "      <td>abboip</td>\n",
       "      <td>2008-05-17 14:14:34</td>\n",
       "      <td>37.75149</td>\n",
       "      <td>-122.39447</td>\n",
       "      <td>0</td>\n",
       "    </tr>\n",
       "    <tr>\n",
       "      <th>3</th>\n",
       "      <td>abboip</td>\n",
       "      <td>2008-05-17 14:15:35</td>\n",
       "      <td>37.75149</td>\n",
       "      <td>-122.39446</td>\n",
       "      <td>0</td>\n",
       "    </tr>\n",
       "    <tr>\n",
       "      <th>4</th>\n",
       "      <td>abboip</td>\n",
       "      <td>2008-05-17 14:41:43</td>\n",
       "      <td>37.75144</td>\n",
       "      <td>-122.39449</td>\n",
       "      <td>0</td>\n",
       "    </tr>\n",
       "  </tbody>\n",
       "</table>\n",
       "</div>"
      ],
      "text/plain": [
       "     taxi                time  latitude  longitude  occupied\n",
       "0  abboip 2008-05-17 14:12:10  37.75153 -122.39447         0\n",
       "1  abboip 2008-05-17 14:13:34  37.75149 -122.39447         0\n",
       "2  abboip 2008-05-17 14:14:34  37.75149 -122.39447         0\n",
       "3  abboip 2008-05-17 14:15:35  37.75149 -122.39446         0\n",
       "4  abboip 2008-05-17 14:41:43  37.75144 -122.39449         0"
      ]
     },
     "execution_count": 3,
     "metadata": {},
     "output_type": "execute_result"
    }
   ],
   "source": [
    "cabspotting.reset_index(inplace=True)\n",
    "cabspotting.head()"
   ]
  },
  {
   "cell_type": "code",
   "execution_count": 4,
   "metadata": {
    "colab": {
     "base_uri": "https://localhost:8080/",
     "height": 170
    },
    "colab_type": "code",
    "id": "ZSls8_x-xBEQ",
    "outputId": "9aa265a3-4a47-43bf-9bc1-e6a3c1219070"
   },
   "outputs": [
    {
     "data": {
      "text/plain": [
       "count      536.000000\n",
       "mean     20932.751866\n",
       "std       6204.004840\n",
       "min         59.000000\n",
       "25%      18721.250000\n",
       "50%      22813.500000\n",
       "75%      25037.750000\n",
       "max      49367.000000\n",
       "dtype: float64"
      ]
     },
     "execution_count": 4,
     "metadata": {},
     "output_type": "execute_result"
    }
   ],
   "source": [
    "# Some statistics on the lengths of the mov data per taxi\n",
    "cabspotting.groupby('taxi').size().describe()"
   ]
  },
  {
   "cell_type": "code",
   "execution_count": 5,
   "metadata": {
    "colab": {
     "base_uri": "https://localhost:8080/",
     "height": 204
    },
    "colab_type": "code",
    "id": "ZaeRfdt2glHO",
    "outputId": "84d6188d-6c12-40fe-a0d2-58283221f1cd"
   },
   "outputs": [
    {
     "data": {
      "text/html": [
       "<div>\n",
       "<style scoped>\n",
       "    .dataframe tbody tr th:only-of-type {\n",
       "        vertical-align: middle;\n",
       "    }\n",
       "\n",
       "    .dataframe tbody tr th {\n",
       "        vertical-align: top;\n",
       "    }\n",
       "\n",
       "    .dataframe thead th {\n",
       "        text-align: right;\n",
       "    }\n",
       "</style>\n",
       "<table border=\"1\" class=\"dataframe\">\n",
       "  <thead>\n",
       "    <tr style=\"text-align: right;\">\n",
       "      <th></th>\n",
       "      <th>taxi</th>\n",
       "      <th>time</th>\n",
       "      <th>latitude</th>\n",
       "      <th>longitude</th>\n",
       "      <th>occupied</th>\n",
       "      <th>rebased_time</th>\n",
       "    </tr>\n",
       "  </thead>\n",
       "  <tbody>\n",
       "    <tr>\n",
       "      <th>0</th>\n",
       "      <td>abboip</td>\n",
       "      <td>2008-05-17 14:12:10</td>\n",
       "      <td>37.75153</td>\n",
       "      <td>-122.39447</td>\n",
       "      <td>0</td>\n",
       "      <td>15126.0</td>\n",
       "    </tr>\n",
       "    <tr>\n",
       "      <th>1</th>\n",
       "      <td>abboip</td>\n",
       "      <td>2008-05-17 14:13:34</td>\n",
       "      <td>37.75149</td>\n",
       "      <td>-122.39447</td>\n",
       "      <td>0</td>\n",
       "      <td>15210.0</td>\n",
       "    </tr>\n",
       "    <tr>\n",
       "      <th>2</th>\n",
       "      <td>abboip</td>\n",
       "      <td>2008-05-17 14:14:34</td>\n",
       "      <td>37.75149</td>\n",
       "      <td>-122.39447</td>\n",
       "      <td>0</td>\n",
       "      <td>15270.0</td>\n",
       "    </tr>\n",
       "    <tr>\n",
       "      <th>3</th>\n",
       "      <td>abboip</td>\n",
       "      <td>2008-05-17 14:15:35</td>\n",
       "      <td>37.75149</td>\n",
       "      <td>-122.39446</td>\n",
       "      <td>0</td>\n",
       "      <td>15331.0</td>\n",
       "    </tr>\n",
       "    <tr>\n",
       "      <th>4</th>\n",
       "      <td>abboip</td>\n",
       "      <td>2008-05-17 14:41:43</td>\n",
       "      <td>37.75144</td>\n",
       "      <td>-122.39449</td>\n",
       "      <td>0</td>\n",
       "      <td>16899.0</td>\n",
       "    </tr>\n",
       "  </tbody>\n",
       "</table>\n",
       "</div>"
      ],
      "text/plain": [
       "     taxi                time  latitude  longitude  occupied  rebased_time\n",
       "0  abboip 2008-05-17 14:12:10  37.75153 -122.39447         0       15126.0\n",
       "1  abboip 2008-05-17 14:13:34  37.75149 -122.39447         0       15210.0\n",
       "2  abboip 2008-05-17 14:14:34  37.75149 -122.39447         0       15270.0\n",
       "3  abboip 2008-05-17 14:15:35  37.75149 -122.39446         0       15331.0\n",
       "4  abboip 2008-05-17 14:41:43  37.75144 -122.39449         0       16899.0"
      ]
     },
     "execution_count": 5,
     "metadata": {},
     "output_type": "execute_result"
    }
   ],
   "source": [
    "import datetime as dt\n",
    "\n",
    "cabspotting['rebased_time'] = cabspotting['time'] - cabspotting['time'].min()\n",
    "cabspotting['rebased_time'] = cabspotting['rebased_time'].dt.total_seconds()\n",
    "cabspotting.head()"
   ]
  },
  {
   "cell_type": "code",
   "execution_count": 6,
   "metadata": {
    "colab": {
     "base_uri": "https://localhost:8080/",
     "height": 204
    },
    "colab_type": "code",
    "id": "QBFxICSbjdU8",
    "outputId": "318172a1-3143-4fc0-c896-8d1c309a1199"
   },
   "outputs": [
    {
     "data": {
      "text/html": [
       "<div>\n",
       "<style scoped>\n",
       "    .dataframe tbody tr th:only-of-type {\n",
       "        vertical-align: middle;\n",
       "    }\n",
       "\n",
       "    .dataframe tbody tr th {\n",
       "        vertical-align: top;\n",
       "    }\n",
       "\n",
       "    .dataframe thead th {\n",
       "        text-align: right;\n",
       "    }\n",
       "</style>\n",
       "<table border=\"1\" class=\"dataframe\">\n",
       "  <thead>\n",
       "    <tr style=\"text-align: right;\">\n",
       "      <th></th>\n",
       "      <th>taxi</th>\n",
       "      <th>latitude</th>\n",
       "      <th>longitude</th>\n",
       "      <th>rebased_time</th>\n",
       "    </tr>\n",
       "  </thead>\n",
       "  <tbody>\n",
       "    <tr>\n",
       "      <th>0</th>\n",
       "      <td>abboip</td>\n",
       "      <td>37.75153</td>\n",
       "      <td>-122.39447</td>\n",
       "      <td>15126.0</td>\n",
       "    </tr>\n",
       "    <tr>\n",
       "      <th>1</th>\n",
       "      <td>abboip</td>\n",
       "      <td>37.75149</td>\n",
       "      <td>-122.39447</td>\n",
       "      <td>15210.0</td>\n",
       "    </tr>\n",
       "    <tr>\n",
       "      <th>2</th>\n",
       "      <td>abboip</td>\n",
       "      <td>37.75149</td>\n",
       "      <td>-122.39447</td>\n",
       "      <td>15270.0</td>\n",
       "    </tr>\n",
       "    <tr>\n",
       "      <th>3</th>\n",
       "      <td>abboip</td>\n",
       "      <td>37.75149</td>\n",
       "      <td>-122.39446</td>\n",
       "      <td>15331.0</td>\n",
       "    </tr>\n",
       "    <tr>\n",
       "      <th>4</th>\n",
       "      <td>abboip</td>\n",
       "      <td>37.75144</td>\n",
       "      <td>-122.39449</td>\n",
       "      <td>16899.0</td>\n",
       "    </tr>\n",
       "  </tbody>\n",
       "</table>\n",
       "</div>"
      ],
      "text/plain": [
       "     taxi  latitude  longitude  rebased_time\n",
       "0  abboip  37.75153 -122.39447       15126.0\n",
       "1  abboip  37.75149 -122.39447       15210.0\n",
       "2  abboip  37.75149 -122.39447       15270.0\n",
       "3  abboip  37.75149 -122.39446       15331.0\n",
       "4  abboip  37.75144 -122.39449       16899.0"
      ]
     },
     "execution_count": 6,
     "metadata": {},
     "output_type": "execute_result"
    }
   ],
   "source": [
    "cabspotting.drop(['time', 'occupied'], axis=1, inplace=True)\n",
    "cabspotting.head()"
   ]
  },
  {
   "cell_type": "code",
   "execution_count": 7,
   "metadata": {
    "colab": {
     "base_uri": "https://localhost:8080/",
     "height": 136
    },
    "colab_type": "code",
    "id": "211TP0kmFb5v",
    "outputId": "6b25e4a6-58f5-4527-9004-2b03c49b67fa"
   },
   "outputs": [
    {
     "data": {
      "text/plain": [
       "taxi\n",
       "abboip      [[37.751529999999995, -122.39447, 15126.000000...\n",
       "abcoij      [[37.80346, -122.41466000000001, 47486.0], [37...\n",
       "abdremlu    [[37.75521, -122.39093000000001, 11949.0], [37...\n",
       "abgibo      [[37.7733, -122.4374, 16.0], [37.77791, -122.4...\n",
       "abjoolaw    [[37.75159, -122.39747, 13856.0], [37.74949, -...\n",
       "dtype: object"
      ]
     },
     "execution_count": 7,
     "metadata": {},
     "output_type": "execute_result"
    }
   ],
   "source": [
    "def extract_sequence(df):\n",
    "    df.drop('taxi', axis=1, inplace=True)\n",
    "    df.sort_values(by='rebased_time', inplace=True)\n",
    "    return df.values\n",
    "\n",
    "cabspotting = cabspotting.groupby('taxi').apply(extract_sequence)\n",
    "cabspotting.head()"
   ]
  },
  {
   "cell_type": "code",
   "execution_count": 8,
   "metadata": {
    "colab": {
     "base_uri": "https://localhost:8080/",
     "height": 136
    },
    "colab_type": "code",
    "id": "v4nhhnmOMEAl",
    "outputId": "4d8f6c27-eece-4beb-be7f-a7f056327058"
   },
   "outputs": [
    {
     "data": {
      "text/plain": [
       "array([[ 3.7751530e+01, -1.2239447e+02,  1.5126000e+04],\n",
       "       [ 3.7751490e+01, -1.2239447e+02,  1.5210000e+04],\n",
       "       [ 3.7751490e+01, -1.2239447e+02,  1.5270000e+04],\n",
       "       ...,\n",
       "       [ 3.7751990e+01, -1.2239460e+02,  2.0661360e+06],\n",
       "       [ 3.7751360e+01, -1.2239527e+02,  2.0662550e+06],\n",
       "       [ 3.7751340e+01, -1.2239488e+02,  2.0662830e+06]])"
      ]
     },
     "execution_count": 8,
     "metadata": {},
     "output_type": "execute_result"
    }
   ],
   "source": [
    "cabspotting['abboip']"
   ]
  },
  {
   "cell_type": "code",
   "execution_count": 9,
   "metadata": {
    "colab": {
     "base_uri": "https://localhost:8080/",
     "height": 34
    },
    "colab_type": "code",
    "id": "jdnL_smiWkx9",
    "outputId": "3bb13b9b-b6a0-40d6-8803-3670fcb168a9"
   },
   "outputs": [
    {
     "data": {
      "text/plain": [
       "(536,)"
      ]
     },
     "execution_count": 9,
     "metadata": {},
     "output_type": "execute_result"
    }
   ],
   "source": [
    "cabspotting.shape"
   ]
  },
  {
   "cell_type": "code",
   "execution_count": 10,
   "metadata": {
    "colab": {
     "base_uri": "https://localhost:8080/",
     "height": 34
    },
    "colab_type": "code",
    "id": "UYatkz1dKxRx",
    "outputId": "14f6537e-a401-48c3-cdcc-57dbf6b8e1a3"
   },
   "outputs": [
    {
     "data": {
      "text/plain": [
       "(11219955, 3)"
      ]
     },
     "execution_count": 10,
     "metadata": {},
     "output_type": "execute_result"
    }
   ],
   "source": [
    "def to_single_sequence(series):\n",
    "    data = None\n",
    "    for _, item in series.iteritems():\n",
    "        if data is None:\n",
    "            data = item\n",
    "        else:\n",
    "            data = np.concatenate((data, item), axis=0)\n",
    "    \n",
    "    return data\n",
    "\n",
    "data = to_single_sequence(cabspotting)\n",
    "\n",
    "data.shape"
   ]
  },
  {
   "cell_type": "code",
   "execution_count": 11,
   "metadata": {
    "colab": {
     "base_uri": "https://localhost:8080/",
     "height": 759
    },
    "colab_type": "code",
    "id": "XFKPOKrVnO2T",
    "outputId": "2db7e37f-62fe-4a0f-9018-3f66ed0c853c"
   },
   "outputs": [
    {
     "name": "stderr",
     "output_type": "stream",
     "text": [
      "/Users/jankaiser/anaconda3/lib/python3.6/site-packages/matplotlib/figure.py:445: UserWarning: Matplotlib is currently using module://ipykernel.pylab.backend_inline, which is a non-GUI backend, so cannot show the figure.\n",
      "  % get_backend())\n"
     ]
    },
    {
     "data": {
      "image/png": "[encoded data removed]",
      "text/plain": [
       "<Figure size 1152x720 with 6 Axes>"
      ]
     },
     "metadata": {
      "needs_background": "light"
     },
     "output_type": "display_data"
    }
   ],
   "source": [
    "fig, ((a0, a1, a2), (a0c, a1c, a2c)) = plt.subplots(2, 3, figsize=(16, 10))\n",
    "\n",
    "a0.hist(data[:,0], bins=50, color='red')\n",
    "a0.set_title('Latitudes')\n",
    "\n",
    "a1.hist(data[:,1], bins=50, color='red')\n",
    "a1.set_title('Longitudes')\n",
    "\n",
    "a2.hist(data[:,2], bins=50, color='red')\n",
    "a2.set_title('Rebased Timestamps')\n",
    "\n",
    "a0c.hist(data[:,0], bins=50, range=(37.5, 37.9), color='green')\n",
    "a0c.set_title('Latitudes (corrected range)')\n",
    "\n",
    "a1c.hist(data[:,1], bins=50, range=(-122.53, -122.2), color='green')\n",
    "a1c.set_title('Longitudes (corrected range)')\n",
    "\n",
    "a2c.hist(data[:,2], bins=30, color='green')\n",
    "a2c.set_title('Rebased Timestamps (corrected range)')\n",
    "\n",
    "fig.tight_layout()\n",
    "fig.show()"
   ]
  },
  {
   "cell_type": "code",
   "execution_count": 12,
   "metadata": {
    "colab": {
     "base_uri": "https://localhost:8080/",
     "height": 51
    },
    "colab_type": "code",
    "id": "NbfRjY5hgMrK",
    "outputId": "d2cdcb0e-663e-4fa1-94e9-6c9bdaa0d5d5"
   },
   "outputs": [
    {
     "name": "stdout",
     "output_type": "stream",
     "text": [
      "Means: 37.763601 -122.412432 1017983.546543\n",
      "Standard deviations: 0.002901 0.001280 346406383099.499146\n"
     ]
    }
   ],
   "source": [
    "from sklearn import preprocessing\n",
    "\n",
    "scaler = preprocessing.StandardScaler()\n",
    "scaler.fit(data)\n",
    "\n",
    "print('Means: %f %f %f' % (scaler.mean_[0], scaler.mean_[1], scaler.mean_[2]))\n",
    "print('Standard deviations: %f %f %f' % (scaler.var_[0], scaler.var_[1], scaler.var_[2]))"
   ]
  },
  {
   "cell_type": "code",
   "execution_count": 13,
   "metadata": {
    "colab": {
     "base_uri": "https://localhost:8080/",
     "height": 306
    },
    "colab_type": "code",
    "id": "mmhuV1JLpeav",
    "outputId": "0c3aed0b-cb88-4772-a339-d8e4f33d3c6c"
   },
   "outputs": [
    {
     "name": "stdout",
     "output_type": "stream",
     "text": [
      "Before:\n",
      "[[ 3.7751530e+01 -1.2239447e+02  1.5126000e+04]\n",
      " [ 3.7751490e+01 -1.2239447e+02  1.5210000e+04]\n",
      " [ 3.7751490e+01 -1.2239447e+02  1.5270000e+04]\n",
      " ...\n",
      " [ 3.7756860e+01 -1.2244239e+02  2.0172080e+06]\n",
      " [ 3.7760470e+01 -1.2244215e+02  2.0172640e+06]\n",
      " [ 3.7760750e+01 -1.2243687e+02  2.0173250e+06]]\n",
      "\n",
      "After:\n",
      "[[-0.22410877  0.50197561 -1.70390864]\n",
      " [-0.22485143  0.50197561 -1.70376591]\n",
      " [-0.22485143  0.50197561 -1.70366397]\n",
      " ...\n",
      " [-0.12514886 -0.83724035  1.69773582]\n",
      " [-0.05812348 -0.83053309  1.69783096]\n",
      " [-0.05292484 -0.6829734   1.69793461]]\n"
     ]
    }
   ],
   "source": [
    "print('Before:')\n",
    "print(data)   # Before\n",
    "print()\n",
    "data = scaler.transform(data)\n",
    "print('After:')\n",
    "print(data)   # After"
   ]
  },
  {
   "cell_type": "code",
   "execution_count": 14,
   "metadata": {
    "colab": {
     "base_uri": "https://localhost:8080/",
     "height": 34
    },
    "colab_type": "code",
    "id": "L5T10ItxlEFT",
    "outputId": "a6f46b19-41fc-485e-b125-62e1dd027e43"
   },
   "outputs": [
    {
     "data": {
      "text/plain": [
       "((8975964, 3), (2243991, 3), (2243991, 3))"
      ]
     },
     "execution_count": 14,
     "metadata": {},
     "output_type": "execute_result"
    }
   ],
   "source": [
    "TRAIN_TEST_SPLIT = 0.8\n",
    "VALIDATION_PROPORTION = 0.2\n",
    "\n",
    "n_train = int(np.floor(TRAIN_TEST_SPLIT * data.shape[0]))\n",
    "n_validation = int(np.floor(VALIDATION_PROPORTION * data.shape[0]))\n",
    "\n",
    "training_data = data[0:n_train]\n",
    "validation_data = data[0:n_validation]\n",
    "test_data = data[n_train:]\n",
    "\n",
    "training_data.shape, validation_data.shape, test_data.shape"
   ]
  },
  {
   "cell_type": "code",
   "execution_count": 15,
   "metadata": {
    "colab": {},
    "colab_type": "code",
    "id": "Vzmn3oNEmcV3"
   },
   "outputs": [],
   "source": [
    "class DataGenerator(keras.utils.Sequence):\n",
    "    'Generates data for Keras'\n",
    "    def __init__(self, data, sequence_length=20, batch_size=32):\n",
    "        'Initialization'\n",
    "        data_length = data.shape[0]\n",
    "        n_batches = (data_length - 1) // (batch_size * sequence_length)\n",
    "        rounded_data_length = n_batches * batch_size * sequence_length\n",
    "        \n",
    "        X_data = np.reshape(data[0:rounded_data_length], [batch_size, n_batches * sequence_length, 3])\n",
    "        y_data = np.reshape(data[1:rounded_data_length + 1], [batch_size, n_batches * sequence_length, 3])\n",
    "        \n",
    "        self.n_batches = n_batches\n",
    "        self.sequence_length = sequence_length\n",
    "        self.X_data = X_data\n",
    "        self.y_data = y_data\n",
    "        \n",
    "    \n",
    "    def __len__(self):\n",
    "        'Denotes the number of batches per epoch'\n",
    "        return self.n_batches\n",
    "    \n",
    "    def __getitem__(self, index):\n",
    "        'Generate one batch of data'        \n",
    "        X = self.X_data[:, index * self.sequence_length:(index + 1) * self.sequence_length]\n",
    "        y = self.y_data[:, index * self.sequence_length:(index + 1) * self.sequence_length]\n",
    "        \n",
    "        return X, y\n",
    "    \n",
    "    def on_epoch_end(self):\n",
    "        'Updates indexes after each epoch'\n",
    "        self.X_data = np.roll(self.X_data, -1, axis=0)\n",
    "        self.y_data = np.roll(self.y_data, -1, axis=0)\n",
    "\n",
    "training_generator = DataGenerator(training_data)\n",
    "validation_generator = DataGenerator(validation_data)"
   ]
  },
  {
   "cell_type": "code",
   "execution_count": 16,
   "metadata": {
    "colab": {
     "base_uri": "https://localhost:8080/",
     "height": 204
    },
    "colab_type": "code",
    "id": "_bldPhjGRme8",
    "outputId": "35a1c0e0-e4b2-4051-c99d-11adde53055d"
   },
   "outputs": [
    {
     "name": "stdout",
     "output_type": "stream",
     "text": [
      "_________________________________________________________________\n",
      "Layer (type)                 Output Shape              Param #   \n",
      "=================================================================\n",
      "gru_1 (GRU)                  (None, 20, 512)           792576    \n",
      "_________________________________________________________________\n",
      "time_distributed_1 (TimeDist (None, 20, 3)             1539      \n",
      "=================================================================\n",
      "Total params: 794,115\n",
      "Trainable params: 794,115\n",
      "Non-trainable params: 0\n",
      "_________________________________________________________________\n"
     ]
    }
   ],
   "source": [
    "model = keras.Sequential([\n",
    "    keras.layers.GRU(512, return_sequences=True, input_shape=(20, 3)),\n",
    "    keras.layers.TimeDistributed(keras.layers.Dense(3, activation='relu'))\n",
    "])\n",
    "model.compile(loss='mean_squared_error',\n",
    "              optimizer='adam')\n",
    "model.summary()"
   ]
  },
  {
   "cell_type": "code",
   "execution_count": 17,
   "metadata": {
    "colab": {},
    "colab_type": "code",
    "id": "tCVWFstQm469"
   },
   "outputs": [],
   "source": [
    "# Callback for saving checkpoints\n",
    "filepath = 'checkpoints/' + 'checkpoints/one-gru-mse-{epoch:02d}-{loss:.4f}.hdf5'\n",
    "checkpoint = keras.callbacks.ModelCheckpoint(filepath, monitor='loss', verbose=1)"
   ]
  },
  {
   "cell_type": "code",
   "execution_count": null,
   "metadata": {
    "colab": {
     "base_uri": "https://localhost:8080/",
     "height": 357
    },
    "colab_type": "code",
    "id": "c--9Gk0AJpYd",
    "outputId": "6996d497-65c0-43f7-f2a0-27dc67074414"
   },
   "outputs": [
    {
     "name": "stdout",
     "output_type": "stream",
     "text": [
      "Epoch 1/20\n"
     ]
    }
   ],
   "source": [
    "model.fit_generator(generator=training_generator,\n",
    "                    validation_data=validation_generator,\n",
    "                    epochs=20,\n",
    "                    callbacks=[checkpoint],\n",
    "                    use_multiprocessing=True,\n",
    "                    workers=6)"
   ]
  }
 ],
 "metadata": {
  "accelerator": "GPU",
  "colab": {
   "collapsed_sections": [],
   "name": "citybased_keras_simple_gru.ipynb",
   "provenance": [],
   "version": "0.3.2"
  },
  "kernelspec": {
   "display_name": "Python 3",
   "language": "python",
   "name": "python3"
  },
  "language_info": {
   "codemirror_mode": {
    "name": "ipython",
    "version": 3
   },
   "file_extension": ".py",
   "mimetype": "text/x-python",
   "name": "python",
   "nbconvert_exporter": "python",
   "pygments_lexer": "ipython3",
   "version": "3.6.6"
  }
 },
 "nbformat": 4,
 "nbformat_minor": 1
}
