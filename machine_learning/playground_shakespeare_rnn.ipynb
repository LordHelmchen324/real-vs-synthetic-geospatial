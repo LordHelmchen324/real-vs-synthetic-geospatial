{
  "nbformat": 4,
  "nbformat_minor": 0,
  "metadata": {
    "colab": {
      "name": "playground_shakespeare_rnn.ipynb",
      "version": "0.3.2",
      "provenance": []
    },
    "kernelspec": {
      "name": "python3",
      "display_name": "Python 3"
    },
    "accelerator": "GPU"
  },
  "cells": [
    {
      "metadata": {
        "id": "rYPYBeAhDWkj",
        "colab_type": "code",
        "outputId": "bf802003-52dd-4419-cf82-ec4fadf54cae",
        "colab": {
          "base_uri": "https://localhost:8080/",
          "height": 191
        }
      },
      "cell_type": "code",
      "source": [
        "# Setup of libraries, mounting the Google Drive etc.\n",
        "\n",
        "import os\n",
        "import sys\n",
        "from google.colab import drive\n",
        "drive.mount('/content/gdrive')\n",
        "os.chdir('gdrive/My Drive/Colab Notebooks')\n",
        "\n",
        "import numpy as np\n",
        "import tensorflow as tf"
      ],
      "execution_count": 1,
      "outputs": [
        {
          "output_type": "stream",
          "text": [
            "Go to this URL in a browser: https://accounts.google.com/o/oauth2/auth?client_id=947318989803-6bn6qk8qdgf4n4g3pfee6491hc0brc4i.apps.googleusercontent.com&redirect_uri=urn%3Aietf%3Awg%3Aoauth%3A2.0%3Aoob&scope=email%20https%3A%2F%2Fwww.googleapis.com%2Fauth%2Fdocs.test%20https%3A%2F%2Fwww.googleapis.com%2Fauth%2Fdrive%20https%3A%2F%2Fwww.googleapis.com%2Fauth%2Fdrive.photos.readonly%20https%3A%2F%2Fwww.googleapis.com%2Fauth%2Fpeopleapi.readonly&response_type=code\n",
            "\n",
            "Enter your authorization code:\n",
            "··········\n",
            "Mounted at /content/gdrive\n"
          ],
          "name": "stdout"
        }
      ]
    },
    {
      "metadata": {
        "id": "c--9Gk0AJpYd",
        "colab_type": "code",
        "colab": {
          "base_uri": "https://localhost:8080/",
          "height": 51
        },
        "outputId": "dbf9b1c8-a580-456a-9f1e-9371e5c37bd3"
      },
      "cell_type": "code",
      "source": [
        "path = tf.keras.utils.get_file('shakespeare.txt', 'https://storage.googleapis.com/download.tensorflow.org/data/shakespeare.txt')"
      ],
      "execution_count": 2,
      "outputs": [
        {
          "output_type": "stream",
          "text": [
            "Downloading data from https://storage.googleapis.com/download.tensorflow.org/data/shakespeare.txt\n",
            "1122304/1115394 [==============================] - 0s 0us/step\n"
          ],
          "name": "stdout"
        }
      ]
    },
    {
      "metadata": {
        "id": "nlhLkUtNom9l",
        "colab_type": "code",
        "outputId": "f3d65af2-bd1c-46de-83a2-198879a3c64a",
        "colab": {
          "base_uri": "https://localhost:8080/",
          "height": 34
        }
      },
      "cell_type": "code",
      "source": [
        "text = open(path).read()\n",
        "\n",
        "# The length of text is the number of characters in it\n",
        "print('Length of the text: {} characters'.format(len(text)))"
      ],
      "execution_count": 3,
      "outputs": [
        {
          "output_type": "stream",
          "text": [
            "Length of the text: 1115394 characters\n"
          ],
          "name": "stdout"
        }
      ]
    },
    {
      "metadata": {
        "id": "fjOId_ttpETM",
        "colab_type": "code",
        "outputId": "91c5929e-94e4-4339-a87a-14a2c36cf505",
        "colab": {
          "base_uri": "https://localhost:8080/",
          "height": 272
        }
      },
      "cell_type": "code",
      "source": [
        "# Take a look at the first 250 characters in text\n",
        "print(text[:250])"
      ],
      "execution_count": 4,
      "outputs": [
        {
          "output_type": "stream",
          "text": [
            "First Citizen:\n",
            "Before we proceed any further, hear me speak.\n",
            "\n",
            "All:\n",
            "Speak, speak.\n",
            "\n",
            "First Citizen:\n",
            "You are all resolved rather to die than to famish?\n",
            "\n",
            "All:\n",
            "Resolved. resolved.\n",
            "\n",
            "First Citizen:\n",
            "First, you know Caius Marcius is chief enemy to the people.\n",
            "\n"
          ],
          "name": "stdout"
        }
      ]
    },
    {
      "metadata": {
        "id": "Bz_h1J0qpfdi",
        "colab_type": "code",
        "outputId": "6308473c-3271-46f7-b315-d69731ea26d0",
        "colab": {
          "base_uri": "https://localhost:8080/",
          "height": 34
        }
      },
      "cell_type": "code",
      "source": [
        "# The unique characters in the file\n",
        "vocab = sorted(set(text))\n",
        "# Length of the vocabulary of chars\n",
        "vocab_size = len(vocab)\n",
        "\n",
        "print('{} unique characters'.format(vocab_size))"
      ],
      "execution_count": 5,
      "outputs": [
        {
          "output_type": "stream",
          "text": [
            "65 unique characters\n"
          ],
          "name": "stdout"
        }
      ]
    },
    {
      "metadata": {
        "id": "JFgFQIdcpsam",
        "colab_type": "code",
        "colab": {}
      },
      "cell_type": "code",
      "source": [
        "# Creating a mapping from unique characters to indices\n",
        "char2idx = {c: i for i, c in enumerate(vocab)}\n",
        "idx2char = np.array(vocab)"
      ],
      "execution_count": 0,
      "outputs": []
    },
    {
      "metadata": {
        "id": "-3d6Yq-iqHk9",
        "colab_type": "code",
        "outputId": "7a5fb0e4-ce05-4c20-f6b1-be1340e4e412",
        "colab": {
          "base_uri": "https://localhost:8080/",
          "height": 408
        }
      },
      "cell_type": "code",
      "source": [
        "print('{')\n",
        "for char, _ in zip(char2idx, range(20)):\n",
        "    print('  {:4s}: {:3d},'.format(repr(char), char2idx[char]))\n",
        "print('  ...\\n}')"
      ],
      "execution_count": 7,
      "outputs": [
        {
          "output_type": "stream",
          "text": [
            "{\n",
            "  '\\n':   0,\n",
            "  ' ' :   1,\n",
            "  '!' :   2,\n",
            "  '$' :   3,\n",
            "  '&' :   4,\n",
            "  \"'\" :   5,\n",
            "  ',' :   6,\n",
            "  '-' :   7,\n",
            "  '.' :   8,\n",
            "  '3' :   9,\n",
            "  ':' :  10,\n",
            "  ';' :  11,\n",
            "  '?' :  12,\n",
            "  'A' :  13,\n",
            "  'B' :  14,\n",
            "  'C' :  15,\n",
            "  'D' :  16,\n",
            "  'E' :  17,\n",
            "  'F' :  18,\n",
            "  'G' :  19,\n",
            "  ...\n",
            "}\n"
          ],
          "name": "stdout"
        }
      ]
    },
    {
      "metadata": {
        "id": "CJRRf6FYrJHv",
        "colab_type": "code",
        "outputId": "04bbcebc-8f56-4e30-a7c5-c2e7ffc22944",
        "colab": {
          "base_uri": "https://localhost:8080/",
          "height": 34
        }
      },
      "cell_type": "code",
      "source": [
        "# Show how the first 13 characters from the text mapped to integers\n",
        "print('{} ---- characters mapped to int ---- > {}'.format(repr(text[:13]), [char2idx[c] for c in text[:13]]))"
      ],
      "execution_count": 8,
      "outputs": [
        {
          "output_type": "stream",
          "text": [
            "'First Citizen' ---- characters mapped to int ---- > [18, 47, 56, 57, 58, 1, 15, 47, 58, 47, 64, 43, 52]\n"
          ],
          "name": "stdout"
        }
      ]
    },
    {
      "metadata": {
        "id": "zlLFdIDtsC_V",
        "colab_type": "code",
        "colab": {}
      },
      "cell_type": "code",
      "source": [
        "text = np.array(list(text))"
      ],
      "execution_count": 0,
      "outputs": []
    },
    {
      "metadata": {
        "id": "Lokne4RlsOCD",
        "colab_type": "code",
        "outputId": "358ef9e9-4545-435e-f479-a9d884a2d426",
        "colab": {
          "base_uri": "https://localhost:8080/",
          "height": 34
        }
      },
      "cell_type": "code",
      "source": [
        "print(text.shape)"
      ],
      "execution_count": 10,
      "outputs": [
        {
          "output_type": "stream",
          "text": [
            "(1115394,)\n"
          ],
          "name": "stdout"
        }
      ]
    },
    {
      "metadata": {
        "id": "k0sgZRsjsSAq",
        "colab_type": "code",
        "outputId": "a2b169d2-c218-4004-92c3-5f39841c6a58",
        "colab": {
          "base_uri": "https://localhost:8080/",
          "height": 34
        }
      },
      "cell_type": "code",
      "source": [
        "print(text)"
      ],
      "execution_count": 11,
      "outputs": [
        {
          "output_type": "stream",
          "text": [
            "['F' 'i' 'r' ... 'g' '.' '\\n']\n"
          ],
          "name": "stdout"
        }
      ]
    },
    {
      "metadata": {
        "id": "VIU6jYmkz0mS",
        "colab_type": "code",
        "colab": {}
      },
      "cell_type": "code",
      "source": [
        "BATCH_SIZE = 64\n",
        "SEQ_LENGTH = 100\n",
        "\n",
        "n_batches = (text.shape[0] - 1) // (BATCH_SIZE * SEQ_LENGTH)\n",
        "rounded_length = n_batches * BATCH_SIZE * SEQ_LENGTH\n",
        "\n",
        "X = text[:rounded_length].reshape([BATCH_SIZE, n_batches * SEQ_LENGTH])\n",
        "y = text[1:rounded_length + 1].reshape([BATCH_SIZE, n_batches * SEQ_LENGTH])"
      ],
      "execution_count": 0,
      "outputs": []
    },
    {
      "metadata": {
        "id": "gRBBJqUXtAgq",
        "colab_type": "code",
        "outputId": "c4c89a74-c830-4513-9054-736a7cd9956c",
        "colab": {
          "base_uri": "https://localhost:8080/",
          "height": 34
        }
      },
      "cell_type": "code",
      "source": [
        "print(X.shape)"
      ],
      "execution_count": 13,
      "outputs": [
        {
          "output_type": "stream",
          "text": [
            "(64, 17400)\n"
          ],
          "name": "stdout"
        }
      ]
    },
    {
      "metadata": {
        "id": "wKk7anb-tC7H",
        "colab_type": "code",
        "outputId": "40a2c1d8-b704-4637-a80d-1dcc520402b8",
        "colab": {
          "base_uri": "https://localhost:8080/",
          "height": 136
        }
      },
      "cell_type": "code",
      "source": [
        "print(X)"
      ],
      "execution_count": 14,
      "outputs": [
        {
          "output_type": "stream",
          "text": [
            "[['F' 'i' 'r' ... 's' 'a' 'w']\n",
            " [' ' 'h' 'i' ... 'a' 'r' 'n']\n",
            " [' ' 'h' 'o' ... 'd' ',' ' ']\n",
            " ...\n",
            " ['v' 'i' 'l' ... 'h' 'y' ' ']\n",
            " ['s' 'o' 'v' ... 'o' 'u' ' ']\n",
            " ['r' 'e' 'p' ... 't' '\\n' 'n']]\n"
          ],
          "name": "stdout"
        }
      ]
    },
    {
      "metadata": {
        "id": "l_cqHXDYuZjB",
        "colab_type": "code",
        "outputId": "cc67972c-7b46-4d6c-d567-be9f0dd0f19c",
        "colab": {
          "base_uri": "https://localhost:8080/",
          "height": 34
        }
      },
      "cell_type": "code",
      "source": [
        "print(X[0, :15], '...')"
      ],
      "execution_count": 15,
      "outputs": [
        {
          "output_type": "stream",
          "text": [
            "['F' 'i' 'r' 's' 't' ' ' 'C' 'i' 't' 'i' 'z' 'e' 'n' ':' '\\n'] ...\n"
          ],
          "name": "stdout"
        }
      ]
    },
    {
      "metadata": {
        "id": "FeniwRJfue-G",
        "colab_type": "code",
        "outputId": "55a5a9dd-d203-42c2-cf3a-d3572100723e",
        "colab": {
          "base_uri": "https://localhost:8080/",
          "height": 34
        }
      },
      "cell_type": "code",
      "source": [
        "print(X[1, :15], '...')"
      ],
      "execution_count": 16,
      "outputs": [
        {
          "output_type": "stream",
          "text": [
            "[' ' 'h' 'i' 'm' ' ' 'r' 'u' 'n' ' ' 'a' 'f' 't' 'e' 'r' ' '] ...\n"
          ],
          "name": "stdout"
        }
      ]
    },
    {
      "metadata": {
        "id": "yyOBS2myzITq",
        "colab_type": "code",
        "outputId": "b66811df-a776-429a-a650-34edd3e1bae0",
        "colab": {
          "base_uri": "https://localhost:8080/",
          "height": 85
        }
      },
      "cell_type": "code",
      "source": [
        "print(X[:, 0])"
      ],
      "execution_count": 17,
      "outputs": [
        {
          "output_type": "stream",
          "text": [
            "['F' ' ' ' ' 'd' 'n' ' ' 'i' 'i' 't' 'n' 'h' 'r' 'b' 'c' 'e' 't' ' ' 'k'\n",
            " 'y' 'h' ' ' ' ' ' ' ' ' 'T' 'r' 'a' 'e' ';' ' ' ':' 'd' 'g' ' ' 'r' 'i'\n",
            " 'd' 'Y' 'C' 's' ' ' 'o' ' ' 'm' 'd' 't' ' ' 'e' 'r' 'h' 'o' ' ' 't' 'n'\n",
            " 'h' 'A' ' ' '\\n' ' ' 'w' 'h' 'v' 's' 'r']\n"
          ],
          "name": "stdout"
        }
      ]
    },
    {
      "metadata": {
        "id": "jy-wSDKZ4ZtC",
        "colab_type": "code",
        "outputId": "b901f92b-24a3-421b-be9c-8d6c0d29148b",
        "colab": {
          "base_uri": "https://localhost:8080/",
          "height": 34
        }
      },
      "cell_type": "code",
      "source": [
        "X[:, 0].shape"
      ],
      "execution_count": 18,
      "outputs": [
        {
          "output_type": "execute_result",
          "data": {
            "text/plain": [
              "(64,)"
            ]
          },
          "metadata": {
            "tags": []
          },
          "execution_count": 18
        }
      ]
    },
    {
      "metadata": {
        "id": "vDjUFwno4ony",
        "colab_type": "code",
        "outputId": "445b8593-0c9d-4582-9d62-14c6c9bc519f",
        "colab": {
          "base_uri": "https://localhost:8080/",
          "height": 136
        }
      },
      "cell_type": "code",
      "source": [
        "print(X[:, :SEQ_LENGTH])"
      ],
      "execution_count": 19,
      "outputs": [
        {
          "output_type": "stream",
          "text": [
            "[['F' 'i' 'r' ... 'Y' 'o' 'u']\n",
            " [' ' 'h' 'i' ... ' ' 'a' 'n']\n",
            " [' ' 'h' 'o' ... '?' '\\n' '\\n']\n",
            " ...\n",
            " ['v' 'i' 'l' ... 'w' 'i' 't']\n",
            " ['s' 'o' 'v' ... 't' 'h' ' ']\n",
            " ['r' 'e' 'p' ... 't' 'h' 'y']]\n"
          ],
          "name": "stdout"
        }
      ]
    },
    {
      "metadata": {
        "id": "04p21zvS4s6o",
        "colab_type": "code",
        "outputId": "1cbdb258-61b0-48ac-c276-30c32930311b",
        "colab": {
          "base_uri": "https://localhost:8080/",
          "height": 34
        }
      },
      "cell_type": "code",
      "source": [
        "print(X[:, :SEQ_LENGTH].shape)"
      ],
      "execution_count": 20,
      "outputs": [
        {
          "output_type": "stream",
          "text": [
            "(64, 100)\n"
          ],
          "name": "stdout"
        }
      ]
    },
    {
      "metadata": {
        "id": "8McsTndX4ywX",
        "colab_type": "code",
        "outputId": "35886fd9-f335-4f8d-f39d-d4d4fad9585c",
        "colab": {
          "base_uri": "https://localhost:8080/",
          "height": 136
        }
      },
      "cell_type": "code",
      "source": [
        "print(X[:, SEQ_LENGTH:2 * SEQ_LENGTH])"
      ],
      "execution_count": 21,
      "outputs": [
        {
          "output_type": "stream",
          "text": [
            "[[' ' 'a' 'r' ... 'y' 'o' 'u']\n",
            " ['d' ' ' 'o' ... 'w' 'a' 's']\n",
            " ['A' 'U' 'F' ... 'r' 'd' ' ']\n",
            " ...\n",
            " ['n' 'e' 's' ... ' ' 'a' 'n']\n",
            " ['b' 'y' ' ' ... 'e' 'c' 'u']\n",
            " [' ' 'a' 'n' ... 't' ' ' 'm']]\n"
          ],
          "name": "stdout"
        }
      ]
    },
    {
      "metadata": {
        "id": "U8CKyo6349qH",
        "colab_type": "code",
        "outputId": "eda516f6-8e7b-4b8a-e8f6-ddf5580f5682",
        "colab": {
          "base_uri": "https://localhost:8080/",
          "height": 34
        }
      },
      "cell_type": "code",
      "source": [
        "print(X[:, SEQ_LENGTH:2 * SEQ_LENGTH].shape)"
      ],
      "execution_count": 22,
      "outputs": [
        {
          "output_type": "stream",
          "text": [
            "(64, 100)\n"
          ],
          "name": "stdout"
        }
      ]
    },
    {
      "metadata": {
        "id": "2ikYlysKt3j0",
        "colab_type": "code",
        "colab": {}
      },
      "cell_type": "code",
      "source": [
        "def reshape_to_feed_order(data):\n",
        "    tmp = data[:, :SEQ_LENGTH]\n",
        "    for b in range(1, n_batches):\n",
        "        tmp = np.concatenate([tmp, data[:, b * SEQ_LENGTH:(b + 1) * SEQ_LENGTH]])\n",
        "    data = tmp\n",
        "    del tmp\n",
        "    \n",
        "    return data\n",
        "\n",
        "X = reshape_to_feed_order(X)\n",
        "y = reshape_to_feed_order(y)"
      ],
      "execution_count": 0,
      "outputs": []
    },
    {
      "metadata": {
        "id": "HtgWlEn7t9Y9",
        "colab_type": "code",
        "outputId": "1846d21e-d385-46b8-da85-830a17326689",
        "colab": {
          "base_uri": "https://localhost:8080/",
          "height": 34
        }
      },
      "cell_type": "code",
      "source": [
        "print(X.shape)"
      ],
      "execution_count": 24,
      "outputs": [
        {
          "output_type": "stream",
          "text": [
            "(11136, 100)\n"
          ],
          "name": "stdout"
        }
      ]
    },
    {
      "metadata": {
        "id": "BpYBHAAouDuq",
        "colab_type": "code",
        "outputId": "5cef187e-1ae7-407b-fb7e-b6a7f62abf27",
        "colab": {
          "base_uri": "https://localhost:8080/",
          "height": 136
        }
      },
      "cell_type": "code",
      "source": [
        "print(X)"
      ],
      "execution_count": 25,
      "outputs": [
        {
          "output_type": "stream",
          "text": [
            "[['F' 'i' 'r' ... 'Y' 'o' 'u']\n",
            " [' ' 'h' 'i' ... ' ' 'a' 'n']\n",
            " [' ' 'h' 'o' ... '?' '\\n' '\\n']\n",
            " ...\n",
            " [' ' 'd' 'e' ... 'h' 'y' ' ']\n",
            " ['u' 'e' '-' ... 'o' 'u' ' ']\n",
            " ['t' '.' '\\n' ... 't' '\\n' 'n']]\n"
          ],
          "name": "stdout"
        }
      ]
    },
    {
      "metadata": {
        "id": "9cJy8DOGulXd",
        "colab_type": "code",
        "outputId": "a73f87ac-040c-4986-eba6-25cc1549ff5c",
        "colab": {
          "base_uri": "https://localhost:8080/",
          "height": 221
        }
      },
      "cell_type": "code",
      "source": [
        "# If correctly shaped, these should NOT be in correct succession\n",
        "print(X[0])\n",
        "print(X[1])"
      ],
      "execution_count": 26,
      "outputs": [
        {
          "output_type": "stream",
          "text": [
            "['F' 'i' 'r' 's' 't' ' ' 'C' 'i' 't' 'i' 'z' 'e' 'n' ':' '\\n' 'B' 'e' 'f'\n",
            " 'o' 'r' 'e' ' ' 'w' 'e' ' ' 'p' 'r' 'o' 'c' 'e' 'e' 'd' ' ' 'a' 'n' 'y'\n",
            " ' ' 'f' 'u' 'r' 't' 'h' 'e' 'r' ',' ' ' 'h' 'e' 'a' 'r' ' ' 'm' 'e' ' '\n",
            " 's' 'p' 'e' 'a' 'k' '.' '\\n' '\\n' 'A' 'l' 'l' ':' '\\n' 'S' 'p' 'e' 'a'\n",
            " 'k' ',' ' ' 's' 'p' 'e' 'a' 'k' '.' '\\n' '\\n' 'F' 'i' 'r' 's' 't' ' ' 'C'\n",
            " 'i' 't' 'i' 'z' 'e' 'n' ':' '\\n' 'Y' 'o' 'u']\n",
            "[' ' 'h' 'i' 'm' ' ' 'r' 'u' 'n' ' ' 'a' 'f' 't' 'e' 'r' ' ' 'a' ' ' 'g'\n",
            " 'i' 'l' 'd' 'e' 'd' '\\n' 'b' 'u' 't' 't' 'e' 'r' 'f' 'l' 'y' ':' ' ' 'a'\n",
            " 'n' 'd' ' ' 'w' 'h' 'e' 'n' ' ' 'h' 'e' ' ' 'c' 'a' 'u' 'g' 'h' 't' ' '\n",
            " 'i' 't' ',' ' ' 'h' 'e' ' ' 'l' 'e' 't' ' ' 'i' 't' ' ' 'g' 'o' '\\n' 'a'\n",
            " 'g' 'a' 'i' 'n' ';' ' ' 'a' 'n' 'd' ' ' 'a' 'f' 't' 'e' 'r' ' ' 'i' 't'\n",
            " ' ' 'a' 'g' 'a' 'i' 'n' ';' ' ' 'a' 'n']\n"
          ],
          "name": "stdout"
        }
      ]
    },
    {
      "metadata": {
        "id": "VTpseiQJurU_",
        "colab_type": "code",
        "outputId": "bfe119f8-2fdd-4abf-898d-785733a58707",
        "colab": {
          "base_uri": "https://localhost:8080/",
          "height": 221
        }
      },
      "cell_type": "code",
      "source": [
        "# If correctly shaped, these should be in correct succesion\n",
        "print(X[0])\n",
        "print(X[BATCH_SIZE])"
      ],
      "execution_count": 27,
      "outputs": [
        {
          "output_type": "stream",
          "text": [
            "['F' 'i' 'r' 's' 't' ' ' 'C' 'i' 't' 'i' 'z' 'e' 'n' ':' '\\n' 'B' 'e' 'f'\n",
            " 'o' 'r' 'e' ' ' 'w' 'e' ' ' 'p' 'r' 'o' 'c' 'e' 'e' 'd' ' ' 'a' 'n' 'y'\n",
            " ' ' 'f' 'u' 'r' 't' 'h' 'e' 'r' ',' ' ' 'h' 'e' 'a' 'r' ' ' 'm' 'e' ' '\n",
            " 's' 'p' 'e' 'a' 'k' '.' '\\n' '\\n' 'A' 'l' 'l' ':' '\\n' 'S' 'p' 'e' 'a'\n",
            " 'k' ',' ' ' 's' 'p' 'e' 'a' 'k' '.' '\\n' '\\n' 'F' 'i' 'r' 's' 't' ' ' 'C'\n",
            " 'i' 't' 'i' 'z' 'e' 'n' ':' '\\n' 'Y' 'o' 'u']\n",
            "[' ' 'a' 'r' 'e' ' ' 'a' 'l' 'l' ' ' 'r' 'e' 's' 'o' 'l' 'v' 'e' 'd' ' '\n",
            " 'r' 'a' 't' 'h' 'e' 'r' ' ' 't' 'o' ' ' 'd' 'i' 'e' ' ' 't' 'h' 'a' 'n'\n",
            " ' ' 't' 'o' ' ' 'f' 'a' 'm' 'i' 's' 'h' '?' '\\n' '\\n' 'A' 'l' 'l' ':'\n",
            " '\\n' 'R' 'e' 's' 'o' 'l' 'v' 'e' 'd' '.' ' ' 'r' 'e' 's' 'o' 'l' 'v' 'e'\n",
            " 'd' '.' '\\n' '\\n' 'F' 'i' 'r' 's' 't' ' ' 'C' 'i' 't' 'i' 'z' 'e' 'n' ':'\n",
            " '\\n' 'F' 'i' 'r' 's' 't' ',' ' ' 'y' 'o' 'u']\n"
          ],
          "name": "stdout"
        }
      ]
    },
    {
      "metadata": {
        "id": "cyWWiYgd_0Xh",
        "colab_type": "code",
        "outputId": "16e81980-8b66-488d-d771-26d9e97ca475",
        "colab": {
          "base_uri": "https://localhost:8080/",
          "height": 34
        }
      },
      "cell_type": "code",
      "source": [
        "print(X.shape, y.shape)"
      ],
      "execution_count": 28,
      "outputs": [
        {
          "output_type": "stream",
          "text": [
            "(11136, 100) (11136, 100)\n"
          ],
          "name": "stdout"
        }
      ]
    },
    {
      "metadata": {
        "id": "14KBBTxY_5zV",
        "colab_type": "code",
        "outputId": "cf2eee6c-f887-46c2-f867-62e2c9f0e24b",
        "colab": {
          "base_uri": "https://localhost:8080/",
          "height": 51
        }
      },
      "cell_type": "code",
      "source": [
        "print(X[0, :15])\n",
        "print(y[0, :15])"
      ],
      "execution_count": 29,
      "outputs": [
        {
          "output_type": "stream",
          "text": [
            "['F' 'i' 'r' 's' 't' ' ' 'C' 'i' 't' 'i' 'z' 'e' 'n' ':' '\\n']\n",
            "['i' 'r' 's' 't' ' ' 'C' 'i' 't' 'i' 'z' 'e' 'n' ':' '\\n' 'B']\n"
          ],
          "name": "stdout"
        }
      ]
    },
    {
      "metadata": {
        "id": "ry4r9EtVAAx4",
        "colab_type": "code",
        "outputId": "783f6c20-ab85-4f86-d166-57f024b682a6",
        "colab": {
          "base_uri": "https://localhost:8080/",
          "height": 51
        }
      },
      "cell_type": "code",
      "source": [
        "print(X[25, :15])\n",
        "print(y[25, :15])"
      ],
      "execution_count": 30,
      "outputs": [
        {
          "output_type": "stream",
          "text": [
            "['r' ',' ' ' 'd' 'i' 'd' ' ' 'h' 'e' ' ' 'n' 'o' 't' '?' '\\n']\n",
            "[',' ' ' 'd' 'i' 'd' ' ' 'h' 'e' ' ' 'n' 'o' 't' '?' '\\n' '\\n']\n"
          ],
          "name": "stdout"
        }
      ]
    },
    {
      "metadata": {
        "id": "EwPjKyPIAoew",
        "colab_type": "code",
        "colab": {}
      },
      "cell_type": "code",
      "source": [
        "def translate(text):\n",
        "    one_hot =[]\n",
        "    for seq in text:\n",
        "        idx_seq = []\n",
        "        for c in seq:\n",
        "            idx_seq.append(char2idx[c])\n",
        "        t_seq = tf.keras.utils.to_categorical(idx_seq, num_classes=vocab_size)\n",
        "        one_hot.append(t_seq)\n",
        "    \n",
        "    return np.array(one_hot)\n",
        "\n",
        "X = translate(X)\n",
        "y = translate(y)"
      ],
      "execution_count": 0,
      "outputs": []
    },
    {
      "metadata": {
        "id": "VAqq3JQJC35y",
        "colab_type": "code",
        "outputId": "12c0d327-5329-4d25-e1d7-6c5b0b10f906",
        "colab": {
          "base_uri": "https://localhost:8080/",
          "height": 51
        }
      },
      "cell_type": "code",
      "source": [
        "print(X.shape)\n",
        "print(y.shape)"
      ],
      "execution_count": 32,
      "outputs": [
        {
          "output_type": "stream",
          "text": [
            "(11136, 100, 65)\n",
            "(11136, 100, 65)\n"
          ],
          "name": "stdout"
        }
      ]
    },
    {
      "metadata": {
        "id": "_Dl2mp1DDCmG",
        "colab_type": "code",
        "outputId": "cbaf9774-b0ce-4dca-ffe4-81aac551d02b",
        "colab": {
          "base_uri": "https://localhost:8080/",
          "height": 1683
        }
      },
      "cell_type": "code",
      "source": [
        "print(X)\n",
        "print(y)"
      ],
      "execution_count": 33,
      "outputs": [
        {
          "output_type": "stream",
          "text": [
            "[[[0. 0. 0. ... 0. 0. 0.]\n",
            "  [0. 0. 0. ... 0. 0. 0.]\n",
            "  [0. 0. 0. ... 0. 0. 0.]\n",
            "  ...\n",
            "  [0. 0. 0. ... 0. 0. 0.]\n",
            "  [0. 0. 0. ... 0. 0. 0.]\n",
            "  [0. 0. 0. ... 0. 0. 0.]]\n",
            "\n",
            " [[0. 1. 0. ... 0. 0. 0.]\n",
            "  [0. 0. 0. ... 0. 0. 0.]\n",
            "  [0. 0. 0. ... 0. 0. 0.]\n",
            "  ...\n",
            "  [0. 1. 0. ... 0. 0. 0.]\n",
            "  [0. 0. 0. ... 0. 0. 0.]\n",
            "  [0. 0. 0. ... 0. 0. 0.]]\n",
            "\n",
            " [[0. 1. 0. ... 0. 0. 0.]\n",
            "  [0. 0. 0. ... 0. 0. 0.]\n",
            "  [0. 0. 0. ... 0. 0. 0.]\n",
            "  ...\n",
            "  [0. 0. 0. ... 0. 0. 0.]\n",
            "  [1. 0. 0. ... 0. 0. 0.]\n",
            "  [1. 0. 0. ... 0. 0. 0.]]\n",
            "\n",
            " ...\n",
            "\n",
            " [[0. 1. 0. ... 0. 0. 0.]\n",
            "  [0. 0. 0. ... 0. 0. 0.]\n",
            "  [0. 0. 0. ... 0. 0. 0.]\n",
            "  ...\n",
            "  [0. 0. 0. ... 0. 0. 0.]\n",
            "  [0. 0. 0. ... 0. 1. 0.]\n",
            "  [0. 1. 0. ... 0. 0. 0.]]\n",
            "\n",
            " [[0. 0. 0. ... 0. 0. 0.]\n",
            "  [0. 0. 0. ... 0. 0. 0.]\n",
            "  [0. 0. 0. ... 0. 0. 0.]\n",
            "  ...\n",
            "  [0. 0. 0. ... 0. 0. 0.]\n",
            "  [0. 0. 0. ... 0. 0. 0.]\n",
            "  [0. 1. 0. ... 0. 0. 0.]]\n",
            "\n",
            " [[0. 0. 0. ... 0. 0. 0.]\n",
            "  [0. 0. 0. ... 0. 0. 0.]\n",
            "  [1. 0. 0. ... 0. 0. 0.]\n",
            "  ...\n",
            "  [0. 0. 0. ... 0. 0. 0.]\n",
            "  [1. 0. 0. ... 0. 0. 0.]\n",
            "  [0. 0. 0. ... 0. 0. 0.]]]\n",
            "[[[0. 0. 0. ... 0. 0. 0.]\n",
            "  [0. 0. 0. ... 0. 0. 0.]\n",
            "  [0. 0. 0. ... 0. 0. 0.]\n",
            "  ...\n",
            "  [0. 0. 0. ... 0. 0. 0.]\n",
            "  [0. 0. 0. ... 0. 0. 0.]\n",
            "  [0. 1. 0. ... 0. 0. 0.]]\n",
            "\n",
            " [[0. 0. 0. ... 0. 0. 0.]\n",
            "  [0. 0. 0. ... 0. 0. 0.]\n",
            "  [0. 0. 0. ... 0. 0. 0.]\n",
            "  ...\n",
            "  [0. 0. 0. ... 0. 0. 0.]\n",
            "  [0. 0. 0. ... 0. 0. 0.]\n",
            "  [0. 0. 0. ... 0. 0. 0.]]\n",
            "\n",
            " [[0. 0. 0. ... 0. 0. 0.]\n",
            "  [0. 0. 0. ... 0. 0. 0.]\n",
            "  [0. 0. 0. ... 0. 0. 0.]\n",
            "  ...\n",
            "  [1. 0. 0. ... 0. 0. 0.]\n",
            "  [1. 0. 0. ... 0. 0. 0.]\n",
            "  [0. 0. 0. ... 0. 0. 0.]]\n",
            "\n",
            " ...\n",
            "\n",
            " [[0. 0. 0. ... 0. 0. 0.]\n",
            "  [0. 0. 0. ... 0. 0. 0.]\n",
            "  [0. 0. 0. ... 0. 0. 0.]\n",
            "  ...\n",
            "  [0. 0. 0. ... 0. 1. 0.]\n",
            "  [0. 1. 0. ... 0. 0. 0.]\n",
            "  [0. 0. 0. ... 0. 0. 0.]]\n",
            "\n",
            " [[0. 0. 0. ... 0. 0. 0.]\n",
            "  [0. 0. 0. ... 0. 0. 0.]\n",
            "  [0. 0. 0. ... 0. 0. 0.]\n",
            "  ...\n",
            "  [0. 0. 0. ... 0. 0. 0.]\n",
            "  [0. 1. 0. ... 0. 0. 0.]\n",
            "  [0. 0. 0. ... 0. 0. 0.]]\n",
            "\n",
            " [[0. 0. 0. ... 0. 0. 0.]\n",
            "  [1. 0. 0. ... 0. 0. 0.]\n",
            "  [1. 0. 0. ... 0. 0. 0.]\n",
            "  ...\n",
            "  [1. 0. 0. ... 0. 0. 0.]\n",
            "  [0. 0. 0. ... 0. 0. 0.]\n",
            "  [0. 0. 0. ... 0. 0. 0.]]]\n"
          ],
          "name": "stdout"
        }
      ]
    },
    {
      "metadata": {
        "id": "2o1v5Ef_MKlP",
        "colab_type": "code",
        "colab": {}
      },
      "cell_type": "code",
      "source": [
        "def build_model(vocab_size, batch_size):\n",
        "    model = tf.keras.Sequential([\n",
        "        tf.keras.layers.GRU(1024, return_sequences=True, stateful=True, input_shape=(None, vocab_size), batch_size=batch_size),\n",
        "        tf.keras.layers.TimeDistributed(tf.keras.layers.Dense(vocab_size, activation='softmax'))\n",
        "    ])\n",
        "    return model"
      ],
      "execution_count": 0,
      "outputs": []
    },
    {
      "metadata": {
        "id": "4ziLNtpcjs7w",
        "colab_type": "code",
        "colab": {}
      },
      "cell_type": "code",
      "source": [
        "model = build_model(vocab_size=vocab_size, batch_size=BATCH_SIZE)"
      ],
      "execution_count": 0,
      "outputs": []
    },
    {
      "metadata": {
        "id": "i_39lxgP4Kks",
        "colab_type": "code",
        "outputId": "4b9bf1bd-e744-4e35-d9a6-4ed57efcef59",
        "colab": {
          "base_uri": "https://localhost:8080/",
          "height": 204
        }
      },
      "cell_type": "code",
      "source": [
        "model.summary()"
      ],
      "execution_count": 36,
      "outputs": [
        {
          "output_type": "stream",
          "text": [
            "_________________________________________________________________\n",
            "Layer (type)                 Output Shape              Param #   \n",
            "=================================================================\n",
            "gru (GRU)                    (64, None, 1024)          3348480   \n",
            "_________________________________________________________________\n",
            "time_distributed (TimeDistri (64, None, 65)            66625     \n",
            "=================================================================\n",
            "Total params: 3,415,105\n",
            "Trainable params: 3,415,105\n",
            "Non-trainable params: 0\n",
            "_________________________________________________________________\n"
          ],
          "name": "stdout"
        }
      ]
    },
    {
      "metadata": {
        "id": "0_MwtriEQvi5",
        "colab_type": "code",
        "outputId": "23f444f9-ff05-4448-d081-c5741897754b",
        "colab": {
          "base_uri": "https://localhost:8080/",
          "height": 34
        }
      },
      "cell_type": "code",
      "source": [
        "model.input"
      ],
      "execution_count": 37,
      "outputs": [
        {
          "output_type": "execute_result",
          "data": {
            "text/plain": [
              "<tf.Tensor 'gru_input:0' shape=(64, ?, 65) dtype=float32>"
            ]
          },
          "metadata": {
            "tags": []
          },
          "execution_count": 37
        }
      ]
    },
    {
      "metadata": {
        "id": "VCW56R7bMi_S",
        "colab_type": "code",
        "outputId": "448871fc-3e27-4e93-f9d3-f2bc1af094d9",
        "colab": {
          "base_uri": "https://localhost:8080/",
          "height": 51
        }
      },
      "cell_type": "code",
      "source": [
        "# Test the shape of the output\n",
        "test_batch = X[:BATCH_SIZE]\n",
        "print('Input batch:', test_batch.shape)\n",
        "test_predictions = model.predict(test_batch, batch_size=BATCH_SIZE)\n",
        "\n",
        "print('Output batch:', test_predictions.shape)\n",
        "\n",
        "model.reset_states()"
      ],
      "execution_count": 38,
      "outputs": [
        {
          "output_type": "stream",
          "text": [
            "Input batch: (64, 100, 65)\n",
            "Output batch: (64, 100, 65)\n"
          ],
          "name": "stdout"
        }
      ]
    },
    {
      "metadata": {
        "id": "0HZcMaRbuDq1",
        "colab_type": "code",
        "outputId": "69bf680b-4033-4e9c-9a31-dfec4b9fea6f",
        "colab": {
          "base_uri": "https://localhost:8080/",
          "height": 119
        }
      },
      "cell_type": "code",
      "source": [
        "sampled_indicies = np.argmax(test_predictions[0], axis=1)\n",
        "sampled_indicies"
      ],
      "execution_count": 39,
      "outputs": [
        {
          "output_type": "execute_result",
          "data": {
            "text/plain": [
              "array([22, 22,  5,  5, 11, 28,  1,  9, 47, 47, 43,  6,  7, 25, 33, 12, 52,\n",
              "        4,  4, 38, 61, 61,  1, 61, 54, 48, 15, 38, 38,  6,  6, 32,  8,  2,\n",
              "       33,  7, 52,  1, 10, 61, 47, 13, 13, 61, 54, 54, 13, 61, 33, 15, 61,\n",
              "       15, 54, 54, 61, 16,  6, 18, 35, 33, 33, 33, 59, 20, 39, 39, 59, 48,\n",
              "       48, 29, 33, 35, 54, 54,  2, 16, 29, 18, 35, 33, 33, 33, 37, 37,  5,\n",
              "        5, 11, 28,  1,  9, 47, 47, 43,  6,  7, 25, 33, 18, 38, 38])"
            ]
          },
          "metadata": {
            "tags": []
          },
          "execution_count": 39
        }
      ]
    },
    {
      "metadata": {
        "id": "XRMYX1-R71I3",
        "colab_type": "code",
        "colab": {}
      },
      "cell_type": "code",
      "source": [
        "sampled_test_batch = np.argmax(test_batch[0], axis=1)"
      ],
      "execution_count": 0,
      "outputs": []
    },
    {
      "metadata": {
        "id": "RnynT4K_y18I",
        "colab_type": "code",
        "outputId": "7e03c6f2-af51-4b11-f78c-3a72a38ac713",
        "colab": {
          "base_uri": "https://localhost:8080/",
          "height": 102
        }
      },
      "cell_type": "code",
      "source": [
        "print('Input: \\n', repr(''.join([idx2char[i] for i in sampled_test_batch])))\n",
        "print()\n",
        "print('Next Char Predictions: \\n', repr(''.join([idx2char[i] for i in sampled_indicies])))"
      ],
      "execution_count": 41,
      "outputs": [
        {
          "output_type": "stream",
          "text": [
            "Input: \n",
            " 'First Citizen:\\nBefore we proceed any further, hear me speak.\\n\\nAll:\\nSpeak, speak.\\n\\nFirst Citizen:\\nYou'\n",
            "\n",
            "Next Char Predictions: \n",
            " \"JJ'';P 3iie,-MU?n&&Zww wpjCZZ,,T.!U-n :wiAAwppAwUCwCppwD,FWUUUuHaaujjQUWpp!DQFWUUUYY'';P 3iie,-MUFZZ\"\n"
          ],
          "name": "stdout"
        }
      ]
    },
    {
      "metadata": {
        "id": "VFm9p3mE7E08",
        "colab_type": "code",
        "colab": {}
      },
      "cell_type": "code",
      "source": [
        "model.compile(optimizer='adam', loss='categorical_crossentropy')"
      ],
      "execution_count": 0,
      "outputs": []
    },
    {
      "metadata": {
        "id": "85mMnbmA7NIN",
        "colab_type": "code",
        "colab": {}
      },
      "cell_type": "code",
      "source": [
        "# Directory where the checkpoints will be saved\n",
        "checkpoint_dir = 'training_checkpoints'\n",
        "# Name of the checkpoint files\n",
        "checkpoint_prefix = os.path.join(checkpoint_dir, \"new_ckpt_{epoch}\")\n",
        "\n",
        "checkpoint_callback = tf.keras.callbacks.ModelCheckpoint(filepath=checkpoint_prefix)"
      ],
      "execution_count": 0,
      "outputs": []
    },
    {
      "metadata": {
        "id": "qEvj6jUP7b-v",
        "colab_type": "code",
        "outputId": "8db5de42-7983-4c83-957f-784db2efc42c",
        "colab": {
          "base_uri": "https://localhost:8080/",
          "height": 697
        }
      },
      "cell_type": "code",
      "source": [
        "history = model.fit(X, y, epochs=20, batch_size=BATCH_SIZE, shuffle=False, callbacks=[checkpoint_callback])"
      ],
      "execution_count": 44,
      "outputs": [
        {
          "output_type": "stream",
          "text": [
            "Epoch 1/20\n",
            "11136/11136 [==============================] - 68s 6ms/step - loss: 2.9065\n",
            "Epoch 2/20\n",
            "11136/11136 [==============================] - 67s 6ms/step - loss: 2.1350\n",
            "Epoch 3/20\n",
            "11136/11136 [==============================] - 67s 6ms/step - loss: 1.9218\n",
            "Epoch 4/20\n",
            "11136/11136 [==============================] - 67s 6ms/step - loss: 1.7660\n",
            "Epoch 5/20\n",
            "11136/11136 [==============================] - 67s 6ms/step - loss: 1.6501\n",
            "Epoch 6/20\n",
            "11136/11136 [==============================] - 67s 6ms/step - loss: 1.5596\n",
            "Epoch 7/20\n",
            "11136/11136 [==============================] - 67s 6ms/step - loss: 1.4866\n",
            "Epoch 8/20\n",
            "11136/11136 [==============================] - 67s 6ms/step - loss: 1.4279\n",
            "Epoch 9/20\n",
            "11136/11136 [==============================] - 67s 6ms/step - loss: 1.3784\n",
            "Epoch 10/20\n",
            "11136/11136 [==============================] - 67s 6ms/step - loss: 1.3341\n",
            "Epoch 11/20\n",
            "11136/11136 [==============================] - 67s 6ms/step - loss: 1.2928\n",
            "Epoch 12/20\n",
            "11136/11136 [==============================] - 67s 6ms/step - loss: 1.2553\n",
            "Epoch 13/20\n",
            "11136/11136 [==============================] - 67s 6ms/step - loss: 1.2208\n",
            "Epoch 14/20\n",
            "11136/11136 [==============================] - 67s 6ms/step - loss: 1.1887\n",
            "Epoch 15/20\n",
            "11136/11136 [==============================] - 68s 6ms/step - loss: 1.1559\n",
            "Epoch 16/20\n",
            "11136/11136 [==============================] - 67s 6ms/step - loss: 1.1245\n",
            "Epoch 17/20\n",
            "11136/11136 [==============================] - 67s 6ms/step - loss: 1.0951\n",
            "Epoch 18/20\n",
            "11136/11136 [==============================] - 67s 6ms/step - loss: 1.0646\n",
            "Epoch 19/20\n",
            "11136/11136 [==============================] - 67s 6ms/step - loss: 1.0347\n",
            "Epoch 20/20\n",
            "11136/11136 [==============================] - 67s 6ms/step - loss: 1.0066\n"
          ],
          "name": "stdout"
        }
      ]
    },
    {
      "metadata": {
        "id": "t1d2VJ9EExcm",
        "colab_type": "code",
        "colab": {}
      },
      "cell_type": "code",
      "source": [
        "loaded_model = tf.keras.models.load_model('training_checkpoints/new_ckpt_20')"
      ],
      "execution_count": 0,
      "outputs": []
    },
    {
      "metadata": {
        "id": "sbhuTcmUFlrZ",
        "colab_type": "code",
        "colab": {}
      },
      "cell_type": "code",
      "source": [
        "model = build_model(vocab_size, batch_size=1)\n",
        "\n",
        "weights = loaded_model.get_weights()\n",
        "model.set_weights(weights)"
      ],
      "execution_count": 0,
      "outputs": []
    },
    {
      "metadata": {
        "id": "WHxaVdjrH84W",
        "colab_type": "code",
        "outputId": "7f6d9a4b-436f-4ac7-aed2-294481dffb15",
        "colab": {
          "base_uri": "https://localhost:8080/",
          "height": 204
        }
      },
      "cell_type": "code",
      "source": [
        "model.summary()"
      ],
      "execution_count": 47,
      "outputs": [
        {
          "output_type": "stream",
          "text": [
            "_________________________________________________________________\n",
            "Layer (type)                 Output Shape              Param #   \n",
            "=================================================================\n",
            "gru_1 (GRU)                  (1, None, 1024)           3348480   \n",
            "_________________________________________________________________\n",
            "time_distributed_1 (TimeDist (1, None, 65)             66625     \n",
            "=================================================================\n",
            "Total params: 3,415,105\n",
            "Trainable params: 3,415,105\n",
            "Non-trainable params: 0\n",
            "_________________________________________________________________\n"
          ],
          "name": "stdout"
        }
      ]
    },
    {
      "metadata": {
        "id": "vrQ44Ycq-UIt",
        "colab_type": "code",
        "outputId": "139e9b83-ad19-4f48-d43a-faf639a24435",
        "colab": {
          "base_uri": "https://localhost:8080/",
          "height": 680
        }
      },
      "cell_type": "code",
      "source": [
        "# Generate text using the trained model\n",
        "\n",
        "n_generate = 1000\n",
        "start = 'R'\n",
        "generated_text = [start]\n",
        "\n",
        "model.reset_states()\n",
        "\n",
        "for i in range(n_generate):\n",
        "    input = generated_text[-1]\n",
        "    input = char2idx[input]\n",
        "    input = tf.keras.utils.to_categorical(input, num_classes=vocab_size)\n",
        "    input = np.array([[input]])\n",
        "    \n",
        "    prediction = model.predict(input, batch_size=1)\n",
        "    \n",
        "    prediction = np.squeeze(prediction)\n",
        "    prediction = np.argmax(prediction)\n",
        "    prediction = idx2char[prediction]\n",
        "    \n",
        "    generated_text.append(prediction)\n",
        "\n",
        "print(''.join(generated_text))"
      ],
      "execution_count": 48,
      "outputs": [
        {
          "output_type": "stream",
          "text": [
            "RI Hath the best of such as you,\n",
            "When I am proved since from hence to me.\n",
            "\n",
            "LADY GREY:\n",
            "The daughter and his sovereign's will,\n",
            "Hath come to have the king's bide a shower brother\n",
            "And say she shall not be a man with speed.\n",
            "\n",
            "KING RICHARD III:\n",
            "All this shall shame to me to the sun beast.\n",
            "\n",
            "BAPTISTA:\n",
            "Why, then have I not have beholding to your honour,\n",
            "Where on you then, to say the time to come to me,\n",
            "And therefore harm thou art the chief to the earth\n",
            "Where he shall not be such an easy to me such as heaven\n",
            "To see your honour with the state and sure\n",
            "Of such a world to speak a word.\n",
            "\n",
            "BIONDELLO:\n",
            "Why, she shall be so for my too.\n",
            "\n",
            "PRINCE:\n",
            "Sir, the duke shall be there before the duke.\n",
            "\n",
            "DUKE OF AUMERLE:\n",
            "Your honour should be ansisted with the state\n",
            "To the senators of a fall of season.\n",
            "\n",
            "KING EDWARD IV:\n",
            "Why, then he says he is beloved man, then,\n",
            "Or if our enemy should have heard\n",
            "The shadow of your honours in the heart.\n",
            "\n",
            "DUCHESS OF YORK:\n",
            "Who makes me brother? England's means?\n",
            "\n",
            "GLOUCESTER:\n",
            "Why, then a woma\n"
          ],
          "name": "stdout"
        }
      ]
    }
  ]
}