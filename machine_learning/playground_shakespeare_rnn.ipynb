{
  "nbformat": 4,
  "nbformat_minor": 0,
  "metadata": {
    "colab": {
      "name": "playground_shakespeare_rnn.ipynb",
      "version": "0.3.2",
      "provenance": []
    },
    "kernelspec": {
      "name": "python3",
      "display_name": "Python 3"
    },
    "accelerator": "GPU"
  },
  "cells": [
    {
      "metadata": {
        "id": "rYPYBeAhDWkj",
        "colab_type": "code",
        "outputId": "6bf1482d-9a6f-4986-9dc6-bb18aa810248",
        "colab": {
          "base_uri": "https://localhost:8080/",
          "height": 34
        }
      },
      "cell_type": "code",
      "source": [
        "# Setup of libraries, mounting the Google Drive etc.\n",
        "\n",
        "import os\n",
        "import sys\n",
        "from google.colab import drive\n",
        "drive.mount('/content/gdrive')\n",
        "os.chdir('gdrive/My Drive/Colab Notebooks')\n",
        "\n",
        "import numpy as np\n",
        "import tensorflow as tf"
      ],
      "execution_count": 1,
      "outputs": [
        {
          "output_type": "stream",
          "text": [
            "Drive already mounted at /content/gdrive; to attempt to forcibly remount, call drive.mount(\"/content/gdrive\", force_remount=True).\n"
          ],
          "name": "stdout"
        }
      ]
    },
    {
      "metadata": {
        "id": "c--9Gk0AJpYd",
        "colab_type": "code",
        "colab": {}
      },
      "cell_type": "code",
      "source": [
        "path = tf.keras.utils.get_file('shakespeare.txt', 'https://storage.googleapis.com/download.tensorflow.org/data/shakespeare.txt')"
      ],
      "execution_count": 0,
      "outputs": []
    },
    {
      "metadata": {
        "id": "nlhLkUtNom9l",
        "colab_type": "code",
        "outputId": "f066da1c-f694-49df-f5dc-8caa394535ae",
        "colab": {
          "base_uri": "https://localhost:8080/",
          "height": 34
        }
      },
      "cell_type": "code",
      "source": [
        "text = open(path).read()\n",
        "\n",
        "# The length of text is the number of characters in it\n",
        "print('Length of the text: {} characters'.format(len(text)))"
      ],
      "execution_count": 3,
      "outputs": [
        {
          "output_type": "stream",
          "text": [
            "Length of the text: 1115394 characters\n"
          ],
          "name": "stdout"
        }
      ]
    },
    {
      "metadata": {
        "id": "fjOId_ttpETM",
        "colab_type": "code",
        "outputId": "7ef7cc4e-1da2-4d44-ba9e-9022d6fcbccc",
        "colab": {
          "base_uri": "https://localhost:8080/",
          "height": 272
        }
      },
      "cell_type": "code",
      "source": [
        "# Take a look at the first 250 characters in text\n",
        "print(text[:250])"
      ],
      "execution_count": 4,
      "outputs": [
        {
          "output_type": "stream",
          "text": [
            "First Citizen:\n",
            "Before we proceed any further, hear me speak.\n",
            "\n",
            "All:\n",
            "Speak, speak.\n",
            "\n",
            "First Citizen:\n",
            "You are all resolved rather to die than to famish?\n",
            "\n",
            "All:\n",
            "Resolved. resolved.\n",
            "\n",
            "First Citizen:\n",
            "First, you know Caius Marcius is chief enemy to the people.\n",
            "\n"
          ],
          "name": "stdout"
        }
      ]
    },
    {
      "metadata": {
        "id": "Bz_h1J0qpfdi",
        "colab_type": "code",
        "outputId": "4483ea13-b320-476b-88f3-3ed7e26aee28",
        "colab": {
          "base_uri": "https://localhost:8080/",
          "height": 34
        }
      },
      "cell_type": "code",
      "source": [
        "# The unique characters in the file\n",
        "vocab = sorted(set(text))\n",
        "# Length of the vocabulary of chars\n",
        "vocab_size = len(vocab)\n",
        "\n",
        "print('{} unique characters'.format(vocab_size))"
      ],
      "execution_count": 5,
      "outputs": [
        {
          "output_type": "stream",
          "text": [
            "65 unique characters\n"
          ],
          "name": "stdout"
        }
      ]
    },
    {
      "metadata": {
        "id": "JFgFQIdcpsam",
        "colab_type": "code",
        "colab": {}
      },
      "cell_type": "code",
      "source": [
        "# Creating a mapping from unique characters to indices\n",
        "char2idx = {c: i for i, c in enumerate(vocab)}\n",
        "idx2char = np.array(vocab)"
      ],
      "execution_count": 0,
      "outputs": []
    },
    {
      "metadata": {
        "id": "-3d6Yq-iqHk9",
        "colab_type": "code",
        "outputId": "da6b894b-e8a9-4561-c4a4-0d99eac11aef",
        "colab": {
          "base_uri": "https://localhost:8080/",
          "height": 408
        }
      },
      "cell_type": "code",
      "source": [
        "print('{')\n",
        "for char, _ in zip(char2idx, range(20)):\n",
        "    print('  {:4s}: {:3d},'.format(repr(char), char2idx[char]))\n",
        "print('  ...\\n}')"
      ],
      "execution_count": 7,
      "outputs": [
        {
          "output_type": "stream",
          "text": [
            "{\n",
            "  '\\n':   0,\n",
            "  ' ' :   1,\n",
            "  '!' :   2,\n",
            "  '$' :   3,\n",
            "  '&' :   4,\n",
            "  \"'\" :   5,\n",
            "  ',' :   6,\n",
            "  '-' :   7,\n",
            "  '.' :   8,\n",
            "  '3' :   9,\n",
            "  ':' :  10,\n",
            "  ';' :  11,\n",
            "  '?' :  12,\n",
            "  'A' :  13,\n",
            "  'B' :  14,\n",
            "  'C' :  15,\n",
            "  'D' :  16,\n",
            "  'E' :  17,\n",
            "  'F' :  18,\n",
            "  'G' :  19,\n",
            "  ...\n",
            "}\n"
          ],
          "name": "stdout"
        }
      ]
    },
    {
      "metadata": {
        "id": "CJRRf6FYrJHv",
        "colab_type": "code",
        "outputId": "e20a918b-fa33-4d83-948c-c9ae4e8a7fe5",
        "colab": {
          "base_uri": "https://localhost:8080/",
          "height": 34
        }
      },
      "cell_type": "code",
      "source": [
        "# Show how the first 13 characters from the text mapped to integers\n",
        "print('{} ---- characters mapped to int ---- > {}'.format(repr(text[:13]), [char2idx[c] for c in text[:13]]))"
      ],
      "execution_count": 8,
      "outputs": [
        {
          "output_type": "stream",
          "text": [
            "'First Citizen' ---- characters mapped to int ---- > [18, 47, 56, 57, 58, 1, 15, 47, 58, 47, 64, 43, 52]\n"
          ],
          "name": "stdout"
        }
      ]
    },
    {
      "metadata": {
        "id": "zlLFdIDtsC_V",
        "colab_type": "code",
        "colab": {}
      },
      "cell_type": "code",
      "source": [
        "text = np.array(list(text))"
      ],
      "execution_count": 0,
      "outputs": []
    },
    {
      "metadata": {
        "id": "Lokne4RlsOCD",
        "colab_type": "code",
        "outputId": "a15c1372-2616-4655-cb56-b9a623252366",
        "colab": {
          "base_uri": "https://localhost:8080/",
          "height": 34
        }
      },
      "cell_type": "code",
      "source": [
        "print(text.shape)"
      ],
      "execution_count": 10,
      "outputs": [
        {
          "output_type": "stream",
          "text": [
            "(1115394,)\n"
          ],
          "name": "stdout"
        }
      ]
    },
    {
      "metadata": {
        "id": "k0sgZRsjsSAq",
        "colab_type": "code",
        "outputId": "fce33aa7-79c7-47b5-b562-af90f3e61f44",
        "colab": {
          "base_uri": "https://localhost:8080/",
          "height": 34
        }
      },
      "cell_type": "code",
      "source": [
        "print(text)"
      ],
      "execution_count": 11,
      "outputs": [
        {
          "output_type": "stream",
          "text": [
            "['F' 'i' 'r' ... 'g' '.' '\\n']\n"
          ],
          "name": "stdout"
        }
      ]
    },
    {
      "metadata": {
        "id": "VIU6jYmkz0mS",
        "colab_type": "code",
        "colab": {}
      },
      "cell_type": "code",
      "source": [
        "BATCH_SIZE = 64\n",
        "SEQ_LENGTH = 100\n",
        "\n",
        "n_batches = (text.shape[0] - 1) // (BATCH_SIZE * SEQ_LENGTH)\n",
        "rounded_length = n_batches * BATCH_SIZE * SEQ_LENGTH\n",
        "\n",
        "X = text[:rounded_length].reshape([BATCH_SIZE, n_batches * SEQ_LENGTH])\n",
        "y = text[1:rounded_length + 1].reshape([BATCH_SIZE, n_batches * SEQ_LENGTH])"
      ],
      "execution_count": 0,
      "outputs": []
    },
    {
      "metadata": {
        "id": "gRBBJqUXtAgq",
        "colab_type": "code",
        "outputId": "3444f6e3-c10f-4e40-8808-8861597e3853",
        "colab": {
          "base_uri": "https://localhost:8080/",
          "height": 34
        }
      },
      "cell_type": "code",
      "source": [
        "print(X.shape)"
      ],
      "execution_count": 13,
      "outputs": [
        {
          "output_type": "stream",
          "text": [
            "(64, 17400)\n"
          ],
          "name": "stdout"
        }
      ]
    },
    {
      "metadata": {
        "id": "wKk7anb-tC7H",
        "colab_type": "code",
        "outputId": "17deafdf-0257-4f67-8b48-b6192aa51271",
        "colab": {
          "base_uri": "https://localhost:8080/",
          "height": 136
        }
      },
      "cell_type": "code",
      "source": [
        "print(X)"
      ],
      "execution_count": 14,
      "outputs": [
        {
          "output_type": "stream",
          "text": [
            "[['F' 'i' 'r' ... 's' 'a' 'w']\n",
            " [' ' 'h' 'i' ... 'a' 'r' 'n']\n",
            " [' ' 'h' 'o' ... 'd' ',' ' ']\n",
            " ...\n",
            " ['v' 'i' 'l' ... 'h' 'y' ' ']\n",
            " ['s' 'o' 'v' ... 'o' 'u' ' ']\n",
            " ['r' 'e' 'p' ... 't' '\\n' 'n']]\n"
          ],
          "name": "stdout"
        }
      ]
    },
    {
      "metadata": {
        "id": "l_cqHXDYuZjB",
        "colab_type": "code",
        "outputId": "32c6cca8-c7d9-4864-9b24-c86f3e320a44",
        "colab": {
          "base_uri": "https://localhost:8080/",
          "height": 34
        }
      },
      "cell_type": "code",
      "source": [
        "print(X[0, :15], '...')"
      ],
      "execution_count": 15,
      "outputs": [
        {
          "output_type": "stream",
          "text": [
            "['F' 'i' 'r' 's' 't' ' ' 'C' 'i' 't' 'i' 'z' 'e' 'n' ':' '\\n'] ...\n"
          ],
          "name": "stdout"
        }
      ]
    },
    {
      "metadata": {
        "id": "FeniwRJfue-G",
        "colab_type": "code",
        "outputId": "514eb197-8dbd-4b4a-98a1-67bbf1b3d2b7",
        "colab": {
          "base_uri": "https://localhost:8080/",
          "height": 34
        }
      },
      "cell_type": "code",
      "source": [
        "print(X[1, :15], '...')"
      ],
      "execution_count": 16,
      "outputs": [
        {
          "output_type": "stream",
          "text": [
            "[' ' 'h' 'i' 'm' ' ' 'r' 'u' 'n' ' ' 'a' 'f' 't' 'e' 'r' ' '] ...\n"
          ],
          "name": "stdout"
        }
      ]
    },
    {
      "metadata": {
        "id": "yyOBS2myzITq",
        "colab_type": "code",
        "outputId": "69df8bf7-657d-459e-a552-95cde7627af0",
        "colab": {
          "base_uri": "https://localhost:8080/",
          "height": 85
        }
      },
      "cell_type": "code",
      "source": [
        "print(X[:, 0])"
      ],
      "execution_count": 17,
      "outputs": [
        {
          "output_type": "stream",
          "text": [
            "['F' ' ' ' ' 'd' 'n' ' ' 'i' 'i' 't' 'n' 'h' 'r' 'b' 'c' 'e' 't' ' ' 'k'\n",
            " 'y' 'h' ' ' ' ' ' ' ' ' 'T' 'r' 'a' 'e' ';' ' ' ':' 'd' 'g' ' ' 'r' 'i'\n",
            " 'd' 'Y' 'C' 's' ' ' 'o' ' ' 'm' 'd' 't' ' ' 'e' 'r' 'h' 'o' ' ' 't' 'n'\n",
            " 'h' 'A' ' ' '\\n' ' ' 'w' 'h' 'v' 's' 'r']\n"
          ],
          "name": "stdout"
        }
      ]
    },
    {
      "metadata": {
        "id": "jy-wSDKZ4ZtC",
        "colab_type": "code",
        "outputId": "2ab20529-3f59-41af-fc29-92edc3946173",
        "colab": {
          "base_uri": "https://localhost:8080/",
          "height": 34
        }
      },
      "cell_type": "code",
      "source": [
        "X[:, 0].shape"
      ],
      "execution_count": 18,
      "outputs": [
        {
          "output_type": "execute_result",
          "data": {
            "text/plain": [
              "(64,)"
            ]
          },
          "metadata": {
            "tags": []
          },
          "execution_count": 18
        }
      ]
    },
    {
      "metadata": {
        "id": "vDjUFwno4ony",
        "colab_type": "code",
        "outputId": "b5cb7a2b-fa49-418a-ce0c-485ab6c50cf2",
        "colab": {
          "base_uri": "https://localhost:8080/",
          "height": 136
        }
      },
      "cell_type": "code",
      "source": [
        "print(X[:, :SEQ_LENGTH])"
      ],
      "execution_count": 19,
      "outputs": [
        {
          "output_type": "stream",
          "text": [
            "[['F' 'i' 'r' ... 'Y' 'o' 'u']\n",
            " [' ' 'h' 'i' ... ' ' 'a' 'n']\n",
            " [' ' 'h' 'o' ... '?' '\\n' '\\n']\n",
            " ...\n",
            " ['v' 'i' 'l' ... 'w' 'i' 't']\n",
            " ['s' 'o' 'v' ... 't' 'h' ' ']\n",
            " ['r' 'e' 'p' ... 't' 'h' 'y']]\n"
          ],
          "name": "stdout"
        }
      ]
    },
    {
      "metadata": {
        "id": "04p21zvS4s6o",
        "colab_type": "code",
        "outputId": "4fc0d75d-dec5-4afb-e27c-bedd5726f03b",
        "colab": {
          "base_uri": "https://localhost:8080/",
          "height": 34
        }
      },
      "cell_type": "code",
      "source": [
        "print(X[:, :SEQ_LENGTH].shape)"
      ],
      "execution_count": 20,
      "outputs": [
        {
          "output_type": "stream",
          "text": [
            "(64, 100)\n"
          ],
          "name": "stdout"
        }
      ]
    },
    {
      "metadata": {
        "id": "8McsTndX4ywX",
        "colab_type": "code",
        "outputId": "1a1062ef-a892-47ef-84f3-cd1b862d6bbb",
        "colab": {
          "base_uri": "https://localhost:8080/",
          "height": 136
        }
      },
      "cell_type": "code",
      "source": [
        "print(X[:, SEQ_LENGTH:2 * SEQ_LENGTH])"
      ],
      "execution_count": 21,
      "outputs": [
        {
          "output_type": "stream",
          "text": [
            "[[' ' 'a' 'r' ... 'y' 'o' 'u']\n",
            " ['d' ' ' 'o' ... 'w' 'a' 's']\n",
            " ['A' 'U' 'F' ... 'r' 'd' ' ']\n",
            " ...\n",
            " ['n' 'e' 's' ... ' ' 'a' 'n']\n",
            " ['b' 'y' ' ' ... 'e' 'c' 'u']\n",
            " [' ' 'a' 'n' ... 't' ' ' 'm']]\n"
          ],
          "name": "stdout"
        }
      ]
    },
    {
      "metadata": {
        "id": "U8CKyo6349qH",
        "colab_type": "code",
        "outputId": "4b966c1f-ca7c-471f-e856-53f47a23bd91",
        "colab": {
          "base_uri": "https://localhost:8080/",
          "height": 34
        }
      },
      "cell_type": "code",
      "source": [
        "print(X[:, SEQ_LENGTH:2 * SEQ_LENGTH].shape)"
      ],
      "execution_count": 22,
      "outputs": [
        {
          "output_type": "stream",
          "text": [
            "(64, 100)\n"
          ],
          "name": "stdout"
        }
      ]
    },
    {
      "metadata": {
        "id": "2ikYlysKt3j0",
        "colab_type": "code",
        "colab": {}
      },
      "cell_type": "code",
      "source": [
        "def reshape_to_feed_order(data):\n",
        "    tmp = data[:, :SEQ_LENGTH]\n",
        "    for b in range(1, n_batches):\n",
        "        tmp = np.concatenate([tmp, data[:, b * SEQ_LENGTH:(b + 1) * SEQ_LENGTH]])\n",
        "    data = tmp\n",
        "    del tmp\n",
        "    \n",
        "    return data\n",
        "\n",
        "X = reshape_to_feed_order(X)\n",
        "y = reshape_to_feed_order(y)"
      ],
      "execution_count": 0,
      "outputs": []
    },
    {
      "metadata": {
        "id": "HtgWlEn7t9Y9",
        "colab_type": "code",
        "outputId": "0b099c1d-e1f8-4813-992b-34196fc2497c",
        "colab": {
          "base_uri": "https://localhost:8080/",
          "height": 34
        }
      },
      "cell_type": "code",
      "source": [
        "print(X.shape)"
      ],
      "execution_count": 24,
      "outputs": [
        {
          "output_type": "stream",
          "text": [
            "(11136, 100)\n"
          ],
          "name": "stdout"
        }
      ]
    },
    {
      "metadata": {
        "id": "BpYBHAAouDuq",
        "colab_type": "code",
        "outputId": "49dc4517-ce58-4c50-ccf7-2574581b01fc",
        "colab": {
          "base_uri": "https://localhost:8080/",
          "height": 136
        }
      },
      "cell_type": "code",
      "source": [
        "print(X)"
      ],
      "execution_count": 25,
      "outputs": [
        {
          "output_type": "stream",
          "text": [
            "[['F' 'i' 'r' ... 'Y' 'o' 'u']\n",
            " [' ' 'h' 'i' ... ' ' 'a' 'n']\n",
            " [' ' 'h' 'o' ... '?' '\\n' '\\n']\n",
            " ...\n",
            " [' ' 'd' 'e' ... 'h' 'y' ' ']\n",
            " ['u' 'e' '-' ... 'o' 'u' ' ']\n",
            " ['t' '.' '\\n' ... 't' '\\n' 'n']]\n"
          ],
          "name": "stdout"
        }
      ]
    },
    {
      "metadata": {
        "id": "9cJy8DOGulXd",
        "colab_type": "code",
        "outputId": "d5ac9adc-2b25-40ad-974a-950bdae1f837",
        "colab": {
          "base_uri": "https://localhost:8080/",
          "height": 221
        }
      },
      "cell_type": "code",
      "source": [
        "# If correctly shaped, these should NOT be in correct succession\n",
        "print(X[0])\n",
        "print(X[1])"
      ],
      "execution_count": 26,
      "outputs": [
        {
          "output_type": "stream",
          "text": [
            "['F' 'i' 'r' 's' 't' ' ' 'C' 'i' 't' 'i' 'z' 'e' 'n' ':' '\\n' 'B' 'e' 'f'\n",
            " 'o' 'r' 'e' ' ' 'w' 'e' ' ' 'p' 'r' 'o' 'c' 'e' 'e' 'd' ' ' 'a' 'n' 'y'\n",
            " ' ' 'f' 'u' 'r' 't' 'h' 'e' 'r' ',' ' ' 'h' 'e' 'a' 'r' ' ' 'm' 'e' ' '\n",
            " 's' 'p' 'e' 'a' 'k' '.' '\\n' '\\n' 'A' 'l' 'l' ':' '\\n' 'S' 'p' 'e' 'a'\n",
            " 'k' ',' ' ' 's' 'p' 'e' 'a' 'k' '.' '\\n' '\\n' 'F' 'i' 'r' 's' 't' ' ' 'C'\n",
            " 'i' 't' 'i' 'z' 'e' 'n' ':' '\\n' 'Y' 'o' 'u']\n",
            "[' ' 'h' 'i' 'm' ' ' 'r' 'u' 'n' ' ' 'a' 'f' 't' 'e' 'r' ' ' 'a' ' ' 'g'\n",
            " 'i' 'l' 'd' 'e' 'd' '\\n' 'b' 'u' 't' 't' 'e' 'r' 'f' 'l' 'y' ':' ' ' 'a'\n",
            " 'n' 'd' ' ' 'w' 'h' 'e' 'n' ' ' 'h' 'e' ' ' 'c' 'a' 'u' 'g' 'h' 't' ' '\n",
            " 'i' 't' ',' ' ' 'h' 'e' ' ' 'l' 'e' 't' ' ' 'i' 't' ' ' 'g' 'o' '\\n' 'a'\n",
            " 'g' 'a' 'i' 'n' ';' ' ' 'a' 'n' 'd' ' ' 'a' 'f' 't' 'e' 'r' ' ' 'i' 't'\n",
            " ' ' 'a' 'g' 'a' 'i' 'n' ';' ' ' 'a' 'n']\n"
          ],
          "name": "stdout"
        }
      ]
    },
    {
      "metadata": {
        "id": "VTpseiQJurU_",
        "colab_type": "code",
        "outputId": "a4facad9-45ac-4082-edf9-1cfa339971fb",
        "colab": {
          "base_uri": "https://localhost:8080/",
          "height": 221
        }
      },
      "cell_type": "code",
      "source": [
        "# If correctly shaped, these should be in correct succesion\n",
        "print(X[0])\n",
        "print(X[BATCH_SIZE])"
      ],
      "execution_count": 27,
      "outputs": [
        {
          "output_type": "stream",
          "text": [
            "['F' 'i' 'r' 's' 't' ' ' 'C' 'i' 't' 'i' 'z' 'e' 'n' ':' '\\n' 'B' 'e' 'f'\n",
            " 'o' 'r' 'e' ' ' 'w' 'e' ' ' 'p' 'r' 'o' 'c' 'e' 'e' 'd' ' ' 'a' 'n' 'y'\n",
            " ' ' 'f' 'u' 'r' 't' 'h' 'e' 'r' ',' ' ' 'h' 'e' 'a' 'r' ' ' 'm' 'e' ' '\n",
            " 's' 'p' 'e' 'a' 'k' '.' '\\n' '\\n' 'A' 'l' 'l' ':' '\\n' 'S' 'p' 'e' 'a'\n",
            " 'k' ',' ' ' 's' 'p' 'e' 'a' 'k' '.' '\\n' '\\n' 'F' 'i' 'r' 's' 't' ' ' 'C'\n",
            " 'i' 't' 'i' 'z' 'e' 'n' ':' '\\n' 'Y' 'o' 'u']\n",
            "[' ' 'a' 'r' 'e' ' ' 'a' 'l' 'l' ' ' 'r' 'e' 's' 'o' 'l' 'v' 'e' 'd' ' '\n",
            " 'r' 'a' 't' 'h' 'e' 'r' ' ' 't' 'o' ' ' 'd' 'i' 'e' ' ' 't' 'h' 'a' 'n'\n",
            " ' ' 't' 'o' ' ' 'f' 'a' 'm' 'i' 's' 'h' '?' '\\n' '\\n' 'A' 'l' 'l' ':'\n",
            " '\\n' 'R' 'e' 's' 'o' 'l' 'v' 'e' 'd' '.' ' ' 'r' 'e' 's' 'o' 'l' 'v' 'e'\n",
            " 'd' '.' '\\n' '\\n' 'F' 'i' 'r' 's' 't' ' ' 'C' 'i' 't' 'i' 'z' 'e' 'n' ':'\n",
            " '\\n' 'F' 'i' 'r' 's' 't' ',' ' ' 'y' 'o' 'u']\n"
          ],
          "name": "stdout"
        }
      ]
    },
    {
      "metadata": {
        "id": "cyWWiYgd_0Xh",
        "colab_type": "code",
        "outputId": "37234168-38a1-4b5b-bb39-4dd9a198e537",
        "colab": {
          "base_uri": "https://localhost:8080/",
          "height": 34
        }
      },
      "cell_type": "code",
      "source": [
        "print(X.shape, y.shape)"
      ],
      "execution_count": 28,
      "outputs": [
        {
          "output_type": "stream",
          "text": [
            "(11136, 100) (11136, 100)\n"
          ],
          "name": "stdout"
        }
      ]
    },
    {
      "metadata": {
        "id": "14KBBTxY_5zV",
        "colab_type": "code",
        "outputId": "f54c0041-610b-42f0-a8d4-36f0d734971a",
        "colab": {
          "base_uri": "https://localhost:8080/",
          "height": 51
        }
      },
      "cell_type": "code",
      "source": [
        "print(X[0, :15])\n",
        "print(y[0, :15])"
      ],
      "execution_count": 29,
      "outputs": [
        {
          "output_type": "stream",
          "text": [
            "['F' 'i' 'r' 's' 't' ' ' 'C' 'i' 't' 'i' 'z' 'e' 'n' ':' '\\n']\n",
            "['i' 'r' 's' 't' ' ' 'C' 'i' 't' 'i' 'z' 'e' 'n' ':' '\\n' 'B']\n"
          ],
          "name": "stdout"
        }
      ]
    },
    {
      "metadata": {
        "id": "ry4r9EtVAAx4",
        "colab_type": "code",
        "outputId": "3a9d1d16-83bf-43c1-e1d5-5842b77a3547",
        "colab": {
          "base_uri": "https://localhost:8080/",
          "height": 51
        }
      },
      "cell_type": "code",
      "source": [
        "print(X[25, :15])\n",
        "print(y[25, :15])"
      ],
      "execution_count": 30,
      "outputs": [
        {
          "output_type": "stream",
          "text": [
            "['r' ',' ' ' 'd' 'i' 'd' ' ' 'h' 'e' ' ' 'n' 'o' 't' '?' '\\n']\n",
            "[',' ' ' 'd' 'i' 'd' ' ' 'h' 'e' ' ' 'n' 'o' 't' '?' '\\n' '\\n']\n"
          ],
          "name": "stdout"
        }
      ]
    },
    {
      "metadata": {
        "id": "EwPjKyPIAoew",
        "colab_type": "code",
        "colab": {}
      },
      "cell_type": "code",
      "source": [
        "def translate(text):\n",
        "    one_hot =[]\n",
        "    for seq in text:\n",
        "        idx_seq = []\n",
        "        for c in seq:\n",
        "            idx_seq.append(char2idx[c])\n",
        "        t_seq = tf.keras.utils.to_categorical(idx_seq, num_classes=vocab_size)\n",
        "        one_hot.append(t_seq)\n",
        "    \n",
        "    return np.array(one_hot)\n",
        "\n",
        "X = translate(X)\n",
        "y = translate(y)"
      ],
      "execution_count": 0,
      "outputs": []
    },
    {
      "metadata": {
        "id": "VAqq3JQJC35y",
        "colab_type": "code",
        "outputId": "9b66bf4f-78f3-4703-e00f-0dd95b567560",
        "colab": {
          "base_uri": "https://localhost:8080/",
          "height": 51
        }
      },
      "cell_type": "code",
      "source": [
        "print(X.shape)\n",
        "print(y.shape)"
      ],
      "execution_count": 32,
      "outputs": [
        {
          "output_type": "stream",
          "text": [
            "(11136, 100, 65)\n",
            "(11136, 100, 65)\n"
          ],
          "name": "stdout"
        }
      ]
    },
    {
      "metadata": {
        "id": "_Dl2mp1DDCmG",
        "colab_type": "code",
        "outputId": "752bfaf5-ddae-4fc6-dabf-bd08676b9ac7",
        "colab": {
          "base_uri": "https://localhost:8080/",
          "height": 1683
        }
      },
      "cell_type": "code",
      "source": [
        "print(X)\n",
        "print(y)"
      ],
      "execution_count": 33,
      "outputs": [
        {
          "output_type": "stream",
          "text": [
            "[[[0. 0. 0. ... 0. 0. 0.]\n",
            "  [0. 0. 0. ... 0. 0. 0.]\n",
            "  [0. 0. 0. ... 0. 0. 0.]\n",
            "  ...\n",
            "  [0. 0. 0. ... 0. 0. 0.]\n",
            "  [0. 0. 0. ... 0. 0. 0.]\n",
            "  [0. 0. 0. ... 0. 0. 0.]]\n",
            "\n",
            " [[0. 1. 0. ... 0. 0. 0.]\n",
            "  [0. 0. 0. ... 0. 0. 0.]\n",
            "  [0. 0. 0. ... 0. 0. 0.]\n",
            "  ...\n",
            "  [0. 1. 0. ... 0. 0. 0.]\n",
            "  [0. 0. 0. ... 0. 0. 0.]\n",
            "  [0. 0. 0. ... 0. 0. 0.]]\n",
            "\n",
            " [[0. 1. 0. ... 0. 0. 0.]\n",
            "  [0. 0. 0. ... 0. 0. 0.]\n",
            "  [0. 0. 0. ... 0. 0. 0.]\n",
            "  ...\n",
            "  [0. 0. 0. ... 0. 0. 0.]\n",
            "  [1. 0. 0. ... 0. 0. 0.]\n",
            "  [1. 0. 0. ... 0. 0. 0.]]\n",
            "\n",
            " ...\n",
            "\n",
            " [[0. 1. 0. ... 0. 0. 0.]\n",
            "  [0. 0. 0. ... 0. 0. 0.]\n",
            "  [0. 0. 0. ... 0. 0. 0.]\n",
            "  ...\n",
            "  [0. 0. 0. ... 0. 0. 0.]\n",
            "  [0. 0. 0. ... 0. 1. 0.]\n",
            "  [0. 1. 0. ... 0. 0. 0.]]\n",
            "\n",
            " [[0. 0. 0. ... 0. 0. 0.]\n",
            "  [0. 0. 0. ... 0. 0. 0.]\n",
            "  [0. 0. 0. ... 0. 0. 0.]\n",
            "  ...\n",
            "  [0. 0. 0. ... 0. 0. 0.]\n",
            "  [0. 0. 0. ... 0. 0. 0.]\n",
            "  [0. 1. 0. ... 0. 0. 0.]]\n",
            "\n",
            " [[0. 0. 0. ... 0. 0. 0.]\n",
            "  [0. 0. 0. ... 0. 0. 0.]\n",
            "  [1. 0. 0. ... 0. 0. 0.]\n",
            "  ...\n",
            "  [0. 0. 0. ... 0. 0. 0.]\n",
            "  [1. 0. 0. ... 0. 0. 0.]\n",
            "  [0. 0. 0. ... 0. 0. 0.]]]\n",
            "[[[0. 0. 0. ... 0. 0. 0.]\n",
            "  [0. 0. 0. ... 0. 0. 0.]\n",
            "  [0. 0. 0. ... 0. 0. 0.]\n",
            "  ...\n",
            "  [0. 0. 0. ... 0. 0. 0.]\n",
            "  [0. 0. 0. ... 0. 0. 0.]\n",
            "  [0. 1. 0. ... 0. 0. 0.]]\n",
            "\n",
            " [[0. 0. 0. ... 0. 0. 0.]\n",
            "  [0. 0. 0. ... 0. 0. 0.]\n",
            "  [0. 0. 0. ... 0. 0. 0.]\n",
            "  ...\n",
            "  [0. 0. 0. ... 0. 0. 0.]\n",
            "  [0. 0. 0. ... 0. 0. 0.]\n",
            "  [0. 0. 0. ... 0. 0. 0.]]\n",
            "\n",
            " [[0. 0. 0. ... 0. 0. 0.]\n",
            "  [0. 0. 0. ... 0. 0. 0.]\n",
            "  [0. 0. 0. ... 0. 0. 0.]\n",
            "  ...\n",
            "  [1. 0. 0. ... 0. 0. 0.]\n",
            "  [1. 0. 0. ... 0. 0. 0.]\n",
            "  [0. 0. 0. ... 0. 0. 0.]]\n",
            "\n",
            " ...\n",
            "\n",
            " [[0. 0. 0. ... 0. 0. 0.]\n",
            "  [0. 0. 0. ... 0. 0. 0.]\n",
            "  [0. 0. 0. ... 0. 0. 0.]\n",
            "  ...\n",
            "  [0. 0. 0. ... 0. 1. 0.]\n",
            "  [0. 1. 0. ... 0. 0. 0.]\n",
            "  [0. 0. 0. ... 0. 0. 0.]]\n",
            "\n",
            " [[0. 0. 0. ... 0. 0. 0.]\n",
            "  [0. 0. 0. ... 0. 0. 0.]\n",
            "  [0. 0. 0. ... 0. 0. 0.]\n",
            "  ...\n",
            "  [0. 0. 0. ... 0. 0. 0.]\n",
            "  [0. 1. 0. ... 0. 0. 0.]\n",
            "  [0. 0. 0. ... 0. 0. 0.]]\n",
            "\n",
            " [[0. 0. 0. ... 0. 0. 0.]\n",
            "  [1. 0. 0. ... 0. 0. 0.]\n",
            "  [1. 0. 0. ... 0. 0. 0.]\n",
            "  ...\n",
            "  [1. 0. 0. ... 0. 0. 0.]\n",
            "  [0. 0. 0. ... 0. 0. 0.]\n",
            "  [0. 0. 0. ... 0. 0. 0.]]]\n"
          ],
          "name": "stdout"
        }
      ]
    },
    {
      "metadata": {
        "id": "08W0ZDXBylHJ",
        "colab_type": "code",
        "colab": {
          "base_uri": "https://localhost:8080/",
          "height": 51
        },
        "outputId": "3f0b1360-15d2-4452-f51b-e26158b2e6b4"
      },
      "cell_type": "code",
      "source": [
        "n_train = int(n_batches * 0.8) * BATCH_SIZE\n",
        "X_train = X[:n_train]\n",
        "y_train = y[:n_train]\n",
        "X_val = X[n_train:]\n",
        "y_val = y[n_train:]\n",
        "\n",
        "print('Train:', X_train.shape, y_train.shape)\n",
        "print('Validation:', X_val.shape, y_val.shape)"
      ],
      "execution_count": 34,
      "outputs": [
        {
          "output_type": "stream",
          "text": [
            "Train: (8896, 100, 65) (8896, 100, 65)\n",
            "Validation: (2240, 100, 65) (2240, 100, 65)\n"
          ],
          "name": "stdout"
        }
      ]
    },
    {
      "metadata": {
        "id": "2o1v5Ef_MKlP",
        "colab_type": "code",
        "colab": {}
      },
      "cell_type": "code",
      "source": [
        "def build_model(vocab_size, batch_size):\n",
        "    model = tf.keras.Sequential([\n",
        "        tf.keras.layers.GRU(1024, return_sequences=True, stateful=True, input_shape=(None, vocab_size), batch_size=batch_size),\n",
        "        tf.keras.layers.TimeDistributed(tf.keras.layers.Dense(vocab_size, activation='softmax'))\n",
        "    ])\n",
        "    return model"
      ],
      "execution_count": 0,
      "outputs": []
    },
    {
      "metadata": {
        "id": "4ziLNtpcjs7w",
        "colab_type": "code",
        "colab": {}
      },
      "cell_type": "code",
      "source": [
        "model = build_model(vocab_size=vocab_size, batch_size=BATCH_SIZE)"
      ],
      "execution_count": 0,
      "outputs": []
    },
    {
      "metadata": {
        "id": "i_39lxgP4Kks",
        "colab_type": "code",
        "outputId": "c63d6e64-9b5d-4601-dea9-82213e096e90",
        "colab": {
          "base_uri": "https://localhost:8080/",
          "height": 204
        }
      },
      "cell_type": "code",
      "source": [
        "model.summary()"
      ],
      "execution_count": 37,
      "outputs": [
        {
          "output_type": "stream",
          "text": [
            "_________________________________________________________________\n",
            "Layer (type)                 Output Shape              Param #   \n",
            "=================================================================\n",
            "gru (GRU)                    (64, None, 1024)          3348480   \n",
            "_________________________________________________________________\n",
            "time_distributed (TimeDistri (64, None, 65)            66625     \n",
            "=================================================================\n",
            "Total params: 3,415,105\n",
            "Trainable params: 3,415,105\n",
            "Non-trainable params: 0\n",
            "_________________________________________________________________\n"
          ],
          "name": "stdout"
        }
      ]
    },
    {
      "metadata": {
        "id": "0_MwtriEQvi5",
        "colab_type": "code",
        "outputId": "c8c84618-5693-4866-9f23-957f19ac99f8",
        "colab": {
          "base_uri": "https://localhost:8080/",
          "height": 34
        }
      },
      "cell_type": "code",
      "source": [
        "model.input"
      ],
      "execution_count": 38,
      "outputs": [
        {
          "output_type": "execute_result",
          "data": {
            "text/plain": [
              "<tf.Tensor 'gru_input:0' shape=(64, ?, 65) dtype=float32>"
            ]
          },
          "metadata": {
            "tags": []
          },
          "execution_count": 38
        }
      ]
    },
    {
      "metadata": {
        "id": "VCW56R7bMi_S",
        "colab_type": "code",
        "outputId": "2feac98b-72bf-4fdb-e909-c47d3d26aca6",
        "colab": {
          "base_uri": "https://localhost:8080/",
          "height": 51
        }
      },
      "cell_type": "code",
      "source": [
        "# Test the shape of the output\n",
        "test_batch = X[:BATCH_SIZE]\n",
        "print('Input batch:', test_batch.shape)\n",
        "test_predictions = model.predict(test_batch, batch_size=BATCH_SIZE)\n",
        "\n",
        "print('Output batch:', test_predictions.shape)\n",
        "\n",
        "model.reset_states()"
      ],
      "execution_count": 39,
      "outputs": [
        {
          "output_type": "stream",
          "text": [
            "Input batch: (64, 100, 65)\n",
            "Output batch: (64, 100, 65)\n"
          ],
          "name": "stdout"
        }
      ]
    },
    {
      "metadata": {
        "id": "0HZcMaRbuDq1",
        "colab_type": "code",
        "outputId": "ae0e00c3-c00f-4373-9132-d284328523dd",
        "colab": {
          "base_uri": "https://localhost:8080/",
          "height": 119
        }
      },
      "cell_type": "code",
      "source": [
        "sampled_indicies = np.argmax(test_predictions[0], axis=1)\n",
        "sampled_indicies"
      ],
      "execution_count": 40,
      "outputs": [
        {
          "output_type": "execute_result",
          "data": {
            "text/plain": [
              "array([37, 37, 16, 54,  8, 33, 33, 54, 33,  5,  5, 18,  6, 17, 55, 30, 18,\n",
              "        4, 23, 23, 18, 33, 48, 48, 33, 33, 54, 26, 26, 18, 18, 18, 33, 27,\n",
              "       62, 46, 33, 46, 20, 20,  0,  1,  6, 54, 16,  7,  1,  6, 34, 16,  0,\n",
              "       33, 33, 33, 33, 33, 33, 29, 16,  4, 63, 63, 30, 36, 19, 34, 63,  6,\n",
              "       13, 18, 29, 16, 16, 33, 33, 33, 33, 27, 16,  4, 63, 63, 37, 37, 16,\n",
              "       54,  8, 33, 33, 54, 33,  5,  5, 18,  6, 17, 55, 58, 30, 64])"
            ]
          },
          "metadata": {
            "tags": []
          },
          "execution_count": 40
        }
      ]
    },
    {
      "metadata": {
        "id": "XRMYX1-R71I3",
        "colab_type": "code",
        "colab": {}
      },
      "cell_type": "code",
      "source": [
        "sampled_test_batch = np.argmax(test_batch[0], axis=1)"
      ],
      "execution_count": 0,
      "outputs": []
    },
    {
      "metadata": {
        "id": "RnynT4K_y18I",
        "colab_type": "code",
        "outputId": "4cd28fbd-ca09-49d4-887d-6c72c9608eb5",
        "colab": {
          "base_uri": "https://localhost:8080/",
          "height": 102
        }
      },
      "cell_type": "code",
      "source": [
        "print('Input: \\n', repr(''.join([idx2char[i] for i in sampled_test_batch])))\n",
        "print()\n",
        "print('Next Char Predictions: \\n', repr(''.join([idx2char[i] for i in sampled_indicies])))"
      ],
      "execution_count": 42,
      "outputs": [
        {
          "output_type": "stream",
          "text": [
            "Input: \n",
            " 'First Citizen:\\nBefore we proceed any further, hear me speak.\\n\\nAll:\\nSpeak, speak.\\n\\nFirst Citizen:\\nYou'\n",
            "\n",
            "Next Char Predictions: \n",
            " \"YYDp.UUpU''F,EqRF&KKFUjjUUpNNFFFUOxhUhHH\\n ,pD- ,VD\\nUUUUUUQD&yyRXGVy,AFQDDUUUUOD&yyYYDp.UUpU''F,EqtRz\"\n"
          ],
          "name": "stdout"
        }
      ]
    },
    {
      "metadata": {
        "id": "VFm9p3mE7E08",
        "colab_type": "code",
        "colab": {}
      },
      "cell_type": "code",
      "source": [
        "model.compile(optimizer='adam', loss='categorical_crossentropy')"
      ],
      "execution_count": 0,
      "outputs": []
    },
    {
      "metadata": {
        "id": "85mMnbmA7NIN",
        "colab_type": "code",
        "colab": {}
      },
      "cell_type": "code",
      "source": [
        "# Directory where the checkpoints will be saved\n",
        "checkpoint_dir = 'training_checkpoints'\n",
        "# Name of the checkpoint files\n",
        "checkpoint_prefix = os.path.join(checkpoint_dir, \"new_ckpt_{epoch}\")\n",
        "\n",
        "checkpoint_callback = tf.keras.callbacks.ModelCheckpoint(filepath=checkpoint_prefix)"
      ],
      "execution_count": 0,
      "outputs": []
    },
    {
      "metadata": {
        "id": "qEvj6jUP7b-v",
        "colab_type": "code",
        "outputId": "65c09a9e-1799-414e-95d0-e120aa37103f",
        "colab": {
          "base_uri": "https://localhost:8080/",
          "height": 714
        }
      },
      "cell_type": "code",
      "source": [
        "history = model.fit(X_train, y_train, epochs=20, batch_size=BATCH_SIZE, shuffle=False, validation_data=(X_val, y_val), callbacks=[checkpoint_callback])"
      ],
      "execution_count": 46,
      "outputs": [
        {
          "output_type": "stream",
          "text": [
            "Train on 8896 samples, validate on 2240 samples\n",
            "Epoch 1/20\n",
            "8896/8896 [==============================] - 58s 7ms/step - loss: 2.5052 - val_loss: 2.2379\n",
            "Epoch 2/20\n",
            "8896/8896 [==============================] - 58s 6ms/step - loss: 2.1311 - val_loss: 2.0367\n",
            "Epoch 3/20\n",
            "8896/8896 [==============================] - 58s 6ms/step - loss: 1.9537 - val_loss: 1.8936\n",
            "Epoch 4/20\n",
            "8896/8896 [==============================] - 57s 6ms/step - loss: 1.8162 - val_loss: 1.7734\n",
            "Epoch 5/20\n",
            "8896/8896 [==============================] - 57s 6ms/step - loss: 1.7056 - val_loss: 1.6790\n",
            "Epoch 6/20\n",
            "8896/8896 [==============================] - 58s 6ms/step - loss: 1.6170 - val_loss: 1.6068\n",
            "Epoch 7/20\n",
            "8896/8896 [==============================] - 58s 6ms/step - loss: 1.5435 - val_loss: 1.5532\n",
            "Epoch 8/20\n",
            "8896/8896 [==============================] - 57s 6ms/step - loss: 1.4816 - val_loss: 1.5105\n",
            "Epoch 9/20\n",
            "8896/8896 [==============================] - 57s 6ms/step - loss: 1.4305 - val_loss: 1.4807\n",
            "Epoch 10/20\n",
            "8896/8896 [==============================] - 58s 6ms/step - loss: 1.3853 - val_loss: 1.4629\n",
            "Epoch 11/20\n",
            "8896/8896 [==============================] - 58s 6ms/step - loss: 1.3433 - val_loss: 1.4451\n",
            "Epoch 12/20\n",
            "8896/8896 [==============================] - 58s 6ms/step - loss: 1.3050 - val_loss: 1.4403\n",
            "Epoch 13/20\n",
            "8896/8896 [==============================] - 57s 6ms/step - loss: 1.2699 - val_loss: 1.4460\n",
            "Epoch 14/20\n",
            "8896/8896 [==============================] - 58s 6ms/step - loss: 1.2352 - val_loss: 1.4615\n",
            "Epoch 15/20\n",
            "8896/8896 [==============================] - 57s 6ms/step - loss: 1.2011 - val_loss: 1.4921\n",
            "Epoch 16/20\n",
            "8896/8896 [==============================] - 58s 6ms/step - loss: 1.1707 - val_loss: 1.5119\n",
            "Epoch 17/20\n",
            "8896/8896 [==============================] - 58s 6ms/step - loss: 1.1406 - val_loss: 1.5176\n",
            "Epoch 18/20\n",
            "8896/8896 [==============================] - 57s 6ms/step - loss: 1.1107 - val_loss: 1.5433\n",
            "Epoch 19/20\n",
            "8896/8896 [==============================] - 57s 6ms/step - loss: 1.0777 - val_loss: 1.5586\n",
            "Epoch 20/20\n",
            "8896/8896 [==============================] - 57s 6ms/step - loss: 1.0472 - val_loss: 1.5971\n"
          ],
          "name": "stdout"
        }
      ]
    },
    {
      "metadata": {
        "id": "9n-xt5Kl64EJ",
        "colab_type": "code",
        "colab": {
          "base_uri": "https://localhost:8080/",
          "height": 347
        },
        "outputId": "c2bd0f7f-8702-48cd-f1c7-aa8f1c0107dc"
      },
      "cell_type": "code",
      "source": [
        "import matplotlib.pyplot as plt\n",
        "\n",
        "plt.plot(history.history['loss'], label='Loss')\n",
        "plt.plot(history.history['val_loss'], label='Validation Loss')\n",
        "plt.legend()\n",
        "plt.show()"
      ],
      "execution_count": 61,
      "outputs": [
        {
          "output_type": "display_data",
          "data": {
            "image/png": "[encoded data removed]",
            "text/plain": [
              "<matplotlib.figure.Figure at 0x7fbb67c7f518>"
            ]
          },
          "metadata": {
            "tags": []
          }
        }
      ]
    },
    {
      "metadata": {
        "id": "t1d2VJ9EExcm",
        "colab_type": "code",
        "colab": {}
      },
      "cell_type": "code",
      "source": [
        "loaded_model = tf.keras.models.load_model('training_checkpoints/new_ckpt_20')"
      ],
      "execution_count": 0,
      "outputs": []
    },
    {
      "metadata": {
        "id": "sbhuTcmUFlrZ",
        "colab_type": "code",
        "colab": {}
      },
      "cell_type": "code",
      "source": [
        "model = build_model(vocab_size, batch_size=1)\n",
        "\n",
        "weights = loaded_model.get_weights()\n",
        "model.set_weights(weights)"
      ],
      "execution_count": 0,
      "outputs": []
    },
    {
      "metadata": {
        "id": "WHxaVdjrH84W",
        "colab_type": "code",
        "outputId": "e7d74c40-86ca-4268-9573-67c3b5586b0a",
        "colab": {
          "base_uri": "https://localhost:8080/",
          "height": 204
        }
      },
      "cell_type": "code",
      "source": [
        "model.summary()"
      ],
      "execution_count": 49,
      "outputs": [
        {
          "output_type": "stream",
          "text": [
            "_________________________________________________________________\n",
            "Layer (type)                 Output Shape              Param #   \n",
            "=================================================================\n",
            "gru_1 (GRU)                  (1, None, 1024)           3348480   \n",
            "_________________________________________________________________\n",
            "time_distributed_1 (TimeDist (1, None, 65)             66625     \n",
            "=================================================================\n",
            "Total params: 3,415,105\n",
            "Trainable params: 3,415,105\n",
            "Non-trainable params: 0\n",
            "_________________________________________________________________\n"
          ],
          "name": "stdout"
        }
      ]
    },
    {
      "metadata": {
        "id": "vrQ44Ycq-UIt",
        "colab_type": "code",
        "outputId": "6651d6f6-f6dc-4074-87ee-b61f5a1bde2f",
        "colab": {
          "base_uri": "https://localhost:8080/",
          "height": 595
        }
      },
      "cell_type": "code",
      "source": [
        "# Generate text using the trained model\n",
        "\n",
        "n_generate = 1000\n",
        "start = 'R'\n",
        "generated_text = [start]\n",
        "\n",
        "model.reset_states()\n",
        "\n",
        "for i in range(n_generate):\n",
        "    input = generated_text[-1]\n",
        "    input = char2idx[input]\n",
        "    input = tf.keras.utils.to_categorical(input, num_classes=vocab_size)\n",
        "    input = np.array([[input]])\n",
        "    \n",
        "    prediction = model.predict(input, batch_size=1)\n",
        "    \n",
        "    prediction = np.squeeze(prediction)\n",
        "    prediction = np.argmax(prediction)\n",
        "    prediction = idx2char[prediction]\n",
        "    \n",
        "    generated_text.append(prediction)\n",
        "\n",
        "print(''.join(generated_text))"
      ],
      "execution_count": 50,
      "outputs": [
        {
          "output_type": "stream",
          "text": [
            "RI Clarence, to stay the sea\n",
            "Where of the trick that we have slain:\n",
            "And therefore let the life of the world.\n",
            "\n",
            "Will he comes, they shall be secord on\n",
            "the prison, call the from the light.\n",
            "\n",
            "KING EDWARD IV:\n",
            "Now, brother of his love did so yourself\n",
            "That we are surernts to the ground, the sea\n",
            "Whereoo me not, not the more of the world:\n",
            "I would have left them to his son of heaven,\n",
            "I will not be the sen the sea\n",
            "What 'tis the man of my the business,\n",
            "And set the frowns of me and my and see,\n",
            "And let the self ame not to be conceated\n",
            "In this beard all the beard of heaven,\n",
            "Who is the sen the sea or war, I trust\n",
            "Mest in the mind that have mine\n",
            "To most and unnatural town,\n",
            "And see hom I am nothing of the faire.\n",
            "\n",
            "HENRY BOLINGBROKE:\n",
            "Harry of Hereford, and the sea\n",
            "Where of his shame, all ships of means,\n",
            "Thy braved shall be of any of the world:\n",
            "I would speak with the selfsame name,\n",
            "In this shall smile at him.\n",
            "\n",
            "First Keeper:\n",
            "Ay, and the sen the duke we are to die.\n",
            "\n",
            "ESCALUS:\n",
            "Well, sir, the king where old man t\n"
          ],
          "name": "stdout"
        }
      ]
    }
  ]
}