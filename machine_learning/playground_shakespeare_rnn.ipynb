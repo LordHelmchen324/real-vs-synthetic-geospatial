{
  "nbformat": 4,
  "nbformat_minor": 0,
  "metadata": {
    "colab": {
      "name": "playground_shakespeare_rnn.ipynb",
      "version": "0.3.2",
      "provenance": []
    },
    "kernelspec": {
      "name": "python3",
      "display_name": "Python 3"
    },
    "accelerator": "GPU"
  },
  "cells": [
    {
      "metadata": {
        "id": "rYPYBeAhDWkj",
        "colab_type": "code",
        "outputId": "212f225f-0ef6-4235-8bb2-f19331925051",
        "colab": {
          "base_uri": "https://localhost:8080/",
          "height": 34
        }
      },
      "cell_type": "code",
      "source": [
        "# Setup of libraries, mounting the Google Drive etc.\n",
        "\n",
        "import os\n",
        "import sys\n",
        "from google.colab import drive\n",
        "drive.mount('/content/gdrive')\n",
        "os.chdir('gdrive/My Drive/Colab Notebooks')\n",
        "\n",
        "import numpy as np\n",
        "import tensorflow as tf"
      ],
      "execution_count": 1,
      "outputs": [
        {
          "output_type": "stream",
          "text": [
            "Drive already mounted at /content/gdrive; to attempt to forcibly remount, call drive.mount(\"/content/gdrive\", force_remount=True).\n"
          ],
          "name": "stdout"
        }
      ]
    },
    {
      "metadata": {
        "id": "c--9Gk0AJpYd",
        "colab_type": "code",
        "colab": {}
      },
      "cell_type": "code",
      "source": [
        "path = tf.keras.utils.get_file('shakespeare.txt', 'https://storage.googleapis.com/download.tensorflow.org/data/shakespeare.txt')"
      ],
      "execution_count": 0,
      "outputs": []
    },
    {
      "metadata": {
        "id": "nlhLkUtNom9l",
        "colab_type": "code",
        "outputId": "dd33c49f-ae46-4bab-b94c-d36bdd3fc84f",
        "colab": {
          "base_uri": "https://localhost:8080/",
          "height": 34
        }
      },
      "cell_type": "code",
      "source": [
        "text = open(path).read()\n",
        "\n",
        "# The length of text is the number of characters in it\n",
        "print('Length of the text: {} characters'.format(len(text)))"
      ],
      "execution_count": 3,
      "outputs": [
        {
          "output_type": "stream",
          "text": [
            "Length of the text: 1115394 characters\n"
          ],
          "name": "stdout"
        }
      ]
    },
    {
      "metadata": {
        "id": "fjOId_ttpETM",
        "colab_type": "code",
        "outputId": "76a28a1d-2332-4817-8a3f-28f1a32e63c2",
        "colab": {
          "base_uri": "https://localhost:8080/",
          "height": 272
        }
      },
      "cell_type": "code",
      "source": [
        "# Take a look at the first 250 characters in text\n",
        "print(text[:250])"
      ],
      "execution_count": 4,
      "outputs": [
        {
          "output_type": "stream",
          "text": [
            "First Citizen:\n",
            "Before we proceed any further, hear me speak.\n",
            "\n",
            "All:\n",
            "Speak, speak.\n",
            "\n",
            "First Citizen:\n",
            "You are all resolved rather to die than to famish?\n",
            "\n",
            "All:\n",
            "Resolved. resolved.\n",
            "\n",
            "First Citizen:\n",
            "First, you know Caius Marcius is chief enemy to the people.\n",
            "\n"
          ],
          "name": "stdout"
        }
      ]
    },
    {
      "metadata": {
        "id": "Bz_h1J0qpfdi",
        "colab_type": "code",
        "outputId": "3f7a62a3-c1c6-4956-9f40-d95f42176c1a",
        "colab": {
          "base_uri": "https://localhost:8080/",
          "height": 34
        }
      },
      "cell_type": "code",
      "source": [
        "# The unique characters in the file\n",
        "vocab = sorted(set(text))\n",
        "# Length of the vocabulary of chars\n",
        "vocab_size = len(vocab)\n",
        "\n",
        "print('{} unique characters'.format(vocab_size))"
      ],
      "execution_count": 5,
      "outputs": [
        {
          "output_type": "stream",
          "text": [
            "65 unique characters\n"
          ],
          "name": "stdout"
        }
      ]
    },
    {
      "metadata": {
        "id": "JFgFQIdcpsam",
        "colab_type": "code",
        "colab": {}
      },
      "cell_type": "code",
      "source": [
        "# Creating a mapping from unique characters to indices\n",
        "char2idx = {c: i for i, c in enumerate(vocab)}\n",
        "idx2char = np.array(vocab)"
      ],
      "execution_count": 0,
      "outputs": []
    },
    {
      "metadata": {
        "id": "-3d6Yq-iqHk9",
        "colab_type": "code",
        "outputId": "b4206bd8-1b21-473b-8fbd-dbc77b3fa276",
        "colab": {
          "base_uri": "https://localhost:8080/",
          "height": 408
        }
      },
      "cell_type": "code",
      "source": [
        "print('{')\n",
        "for char, _ in zip(char2idx, range(20)):\n",
        "    print('  {:4s}: {:3d},'.format(repr(char), char2idx[char]))\n",
        "print('  ...\\n}')"
      ],
      "execution_count": 7,
      "outputs": [
        {
          "output_type": "stream",
          "text": [
            "{\n",
            "  '\\n':   0,\n",
            "  ' ' :   1,\n",
            "  '!' :   2,\n",
            "  '$' :   3,\n",
            "  '&' :   4,\n",
            "  \"'\" :   5,\n",
            "  ',' :   6,\n",
            "  '-' :   7,\n",
            "  '.' :   8,\n",
            "  '3' :   9,\n",
            "  ':' :  10,\n",
            "  ';' :  11,\n",
            "  '?' :  12,\n",
            "  'A' :  13,\n",
            "  'B' :  14,\n",
            "  'C' :  15,\n",
            "  'D' :  16,\n",
            "  'E' :  17,\n",
            "  'F' :  18,\n",
            "  'G' :  19,\n",
            "  ...\n",
            "}\n"
          ],
          "name": "stdout"
        }
      ]
    },
    {
      "metadata": {
        "id": "CJRRf6FYrJHv",
        "colab_type": "code",
        "outputId": "df0512de-ed18-445d-f13d-bf565d4cf630",
        "colab": {
          "base_uri": "https://localhost:8080/",
          "height": 34
        }
      },
      "cell_type": "code",
      "source": [
        "# Show how the first 13 characters from the text mapped to integers\n",
        "print('{} ---- characters mapped to int ---- > {}'.format(repr(text[:13]), [char2idx[c] for c in text[:13]]))"
      ],
      "execution_count": 8,
      "outputs": [
        {
          "output_type": "stream",
          "text": [
            "'First Citizen' ---- characters mapped to int ---- > [18, 47, 56, 57, 58, 1, 15, 47, 58, 47, 64, 43, 52]\n"
          ],
          "name": "stdout"
        }
      ]
    },
    {
      "metadata": {
        "id": "zlLFdIDtsC_V",
        "colab_type": "code",
        "colab": {}
      },
      "cell_type": "code",
      "source": [
        "text = np.array(list(text))"
      ],
      "execution_count": 0,
      "outputs": []
    },
    {
      "metadata": {
        "id": "Lokne4RlsOCD",
        "colab_type": "code",
        "colab": {
          "base_uri": "https://localhost:8080/",
          "height": 34
        },
        "outputId": "b46bde55-9187-49a6-c998-2a6cafce0255"
      },
      "cell_type": "code",
      "source": [
        "print(text.shape)"
      ],
      "execution_count": 10,
      "outputs": [
        {
          "output_type": "stream",
          "text": [
            "(1115394,)\n"
          ],
          "name": "stdout"
        }
      ]
    },
    {
      "metadata": {
        "id": "k0sgZRsjsSAq",
        "colab_type": "code",
        "colab": {
          "base_uri": "https://localhost:8080/",
          "height": 34
        },
        "outputId": "3ec887e8-1026-494b-903e-22f0fd246509"
      },
      "cell_type": "code",
      "source": [
        "print(text)"
      ],
      "execution_count": 11,
      "outputs": [
        {
          "output_type": "stream",
          "text": [
            "['F' 'i' 'r' ... 'g' '.' '\\n']\n"
          ],
          "name": "stdout"
        }
      ]
    },
    {
      "metadata": {
        "id": "VIU6jYmkz0mS",
        "colab_type": "code",
        "colab": {}
      },
      "cell_type": "code",
      "source": [
        "BATCH_SIZE = 64\n",
        "SEQ_LENGTH = 100\n",
        "\n",
        "n_batches = (text.shape[0] - 1) // (BATCH_SIZE * SEQ_LENGTH)\n",
        "rounded_length = n_batches * BATCH_SIZE * SEQ_LENGTH\n",
        "\n",
        "X = text[:rounded_length].reshape([BATCH_SIZE, n_batches * SEQ_LENGTH])\n",
        "y = text[1:rounded_length + 1].reshape([BATCH_SIZE, n_batches * SEQ_LENGTH])"
      ],
      "execution_count": 0,
      "outputs": []
    },
    {
      "metadata": {
        "id": "gRBBJqUXtAgq",
        "colab_type": "code",
        "colab": {
          "base_uri": "https://localhost:8080/",
          "height": 34
        },
        "outputId": "6109c9e4-7ef5-482c-d892-a5f5eedd17df"
      },
      "cell_type": "code",
      "source": [
        "print(X.shape)"
      ],
      "execution_count": 13,
      "outputs": [
        {
          "output_type": "stream",
          "text": [
            "(64, 17400)\n"
          ],
          "name": "stdout"
        }
      ]
    },
    {
      "metadata": {
        "id": "wKk7anb-tC7H",
        "colab_type": "code",
        "colab": {
          "base_uri": "https://localhost:8080/",
          "height": 136
        },
        "outputId": "d1a119a5-47d7-4ede-83ef-3903dd33b630"
      },
      "cell_type": "code",
      "source": [
        "print(X)"
      ],
      "execution_count": 14,
      "outputs": [
        {
          "output_type": "stream",
          "text": [
            "[['F' 'i' 'r' ... 's' 'a' 'w']\n",
            " [' ' 'h' 'i' ... 'a' 'r' 'n']\n",
            " [' ' 'h' 'o' ... 'd' ',' ' ']\n",
            " ...\n",
            " ['v' 'i' 'l' ... 'h' 'y' ' ']\n",
            " ['s' 'o' 'v' ... 'o' 'u' ' ']\n",
            " ['r' 'e' 'p' ... 't' '\\n' 'n']]\n"
          ],
          "name": "stdout"
        }
      ]
    },
    {
      "metadata": {
        "id": "l_cqHXDYuZjB",
        "colab_type": "code",
        "colab": {
          "base_uri": "https://localhost:8080/",
          "height": 34
        },
        "outputId": "15b48b28-5ec1-4e3f-e659-46fc2e4b8bd3"
      },
      "cell_type": "code",
      "source": [
        "print(X[0, :15], '...')"
      ],
      "execution_count": 15,
      "outputs": [
        {
          "output_type": "stream",
          "text": [
            "['F' 'i' 'r' 's' 't' ' ' 'C' 'i' 't' 'i' 'z' 'e' 'n' ':' '\\n'] ...\n"
          ],
          "name": "stdout"
        }
      ]
    },
    {
      "metadata": {
        "id": "FeniwRJfue-G",
        "colab_type": "code",
        "colab": {
          "base_uri": "https://localhost:8080/",
          "height": 34
        },
        "outputId": "0a536873-5ef1-4af7-e3fd-c22d14bf6f1d"
      },
      "cell_type": "code",
      "source": [
        "print(X[1, :15], '...')"
      ],
      "execution_count": 16,
      "outputs": [
        {
          "output_type": "stream",
          "text": [
            "[' ' 'h' 'i' 'm' ' ' 'r' 'u' 'n' ' ' 'a' 'f' 't' 'e' 'r' ' '] ...\n"
          ],
          "name": "stdout"
        }
      ]
    },
    {
      "metadata": {
        "id": "yyOBS2myzITq",
        "colab_type": "code",
        "colab": {
          "base_uri": "https://localhost:8080/",
          "height": 85
        },
        "outputId": "d6eb7c4b-41b7-4e96-e84a-9a9b25d1813c"
      },
      "cell_type": "code",
      "source": [
        "print(X[:, 0])"
      ],
      "execution_count": 17,
      "outputs": [
        {
          "output_type": "stream",
          "text": [
            "['F' ' ' ' ' 'd' 'n' ' ' 'i' 'i' 't' 'n' 'h' 'r' 'b' 'c' 'e' 't' ' ' 'k'\n",
            " 'y' 'h' ' ' ' ' ' ' ' ' 'T' 'r' 'a' 'e' ';' ' ' ':' 'd' 'g' ' ' 'r' 'i'\n",
            " 'd' 'Y' 'C' 's' ' ' 'o' ' ' 'm' 'd' 't' ' ' 'e' 'r' 'h' 'o' ' ' 't' 'n'\n",
            " 'h' 'A' ' ' '\\n' ' ' 'w' 'h' 'v' 's' 'r']\n"
          ],
          "name": "stdout"
        }
      ]
    },
    {
      "metadata": {
        "id": "jy-wSDKZ4ZtC",
        "colab_type": "code",
        "colab": {
          "base_uri": "https://localhost:8080/",
          "height": 34
        },
        "outputId": "e699bfc5-d04b-4405-a331-ebf02b2db1be"
      },
      "cell_type": "code",
      "source": [
        "X[:, 0].shape"
      ],
      "execution_count": 18,
      "outputs": [
        {
          "output_type": "execute_result",
          "data": {
            "text/plain": [
              "(64,)"
            ]
          },
          "metadata": {
            "tags": []
          },
          "execution_count": 18
        }
      ]
    },
    {
      "metadata": {
        "id": "vDjUFwno4ony",
        "colab_type": "code",
        "colab": {
          "base_uri": "https://localhost:8080/",
          "height": 136
        },
        "outputId": "85457855-5592-41a1-d09f-f1e7e3423598"
      },
      "cell_type": "code",
      "source": [
        "print(X[:, :SEQ_LENGTH])"
      ],
      "execution_count": 19,
      "outputs": [
        {
          "output_type": "stream",
          "text": [
            "[['F' 'i' 'r' ... 'Y' 'o' 'u']\n",
            " [' ' 'h' 'i' ... ' ' 'a' 'n']\n",
            " [' ' 'h' 'o' ... '?' '\\n' '\\n']\n",
            " ...\n",
            " ['v' 'i' 'l' ... 'w' 'i' 't']\n",
            " ['s' 'o' 'v' ... 't' 'h' ' ']\n",
            " ['r' 'e' 'p' ... 't' 'h' 'y']]\n"
          ],
          "name": "stdout"
        }
      ]
    },
    {
      "metadata": {
        "id": "04p21zvS4s6o",
        "colab_type": "code",
        "colab": {
          "base_uri": "https://localhost:8080/",
          "height": 34
        },
        "outputId": "77a19f4a-d8ec-463b-8fad-156b02e9c10b"
      },
      "cell_type": "code",
      "source": [
        "print(X[:, :SEQ_LENGTH].shape)"
      ],
      "execution_count": 20,
      "outputs": [
        {
          "output_type": "stream",
          "text": [
            "(64, 100)\n"
          ],
          "name": "stdout"
        }
      ]
    },
    {
      "metadata": {
        "id": "8McsTndX4ywX",
        "colab_type": "code",
        "colab": {
          "base_uri": "https://localhost:8080/",
          "height": 136
        },
        "outputId": "8473ad75-dcee-4dbf-ba6c-4d6bc9632212"
      },
      "cell_type": "code",
      "source": [
        "print(X[:, SEQ_LENGTH:2 * SEQ_LENGTH])"
      ],
      "execution_count": 21,
      "outputs": [
        {
          "output_type": "stream",
          "text": [
            "[[' ' 'a' 'r' ... 'y' 'o' 'u']\n",
            " ['d' ' ' 'o' ... 'w' 'a' 's']\n",
            " ['A' 'U' 'F' ... 'r' 'd' ' ']\n",
            " ...\n",
            " ['n' 'e' 's' ... ' ' 'a' 'n']\n",
            " ['b' 'y' ' ' ... 'e' 'c' 'u']\n",
            " [' ' 'a' 'n' ... 't' ' ' 'm']]\n"
          ],
          "name": "stdout"
        }
      ]
    },
    {
      "metadata": {
        "id": "U8CKyo6349qH",
        "colab_type": "code",
        "colab": {
          "base_uri": "https://localhost:8080/",
          "height": 34
        },
        "outputId": "ceb10a68-3e72-4ecf-a17d-8e246cc01955"
      },
      "cell_type": "code",
      "source": [
        "print(X[:, SEQ_LENGTH:2 * SEQ_LENGTH].shape)"
      ],
      "execution_count": 22,
      "outputs": [
        {
          "output_type": "stream",
          "text": [
            "(64, 100)\n"
          ],
          "name": "stdout"
        }
      ]
    },
    {
      "metadata": {
        "id": "2ikYlysKt3j0",
        "colab_type": "code",
        "colab": {}
      },
      "cell_type": "code",
      "source": [
        "def reshape_to_feed_order(data):\n",
        "    tmp = data[:, :SEQ_LENGTH]\n",
        "    for b in range(1, n_batches):\n",
        "        tmp = np.concatenate([tmp, data[:, b * SEQ_LENGTH:(b + 1) * SEQ_LENGTH]])\n",
        "    data = tmp\n",
        "    del tmp\n",
        "    \n",
        "    return data\n",
        "\n",
        "X = reshape_to_feed_order(X)\n",
        "y = reshape_to_feed_order(y)"
      ],
      "execution_count": 0,
      "outputs": []
    },
    {
      "metadata": {
        "id": "HtgWlEn7t9Y9",
        "colab_type": "code",
        "colab": {
          "base_uri": "https://localhost:8080/",
          "height": 34
        },
        "outputId": "47141b29-92fe-48ac-8cf8-34eddc7d9fce"
      },
      "cell_type": "code",
      "source": [
        "print(X.shape)"
      ],
      "execution_count": 24,
      "outputs": [
        {
          "output_type": "stream",
          "text": [
            "(11136, 100)\n"
          ],
          "name": "stdout"
        }
      ]
    },
    {
      "metadata": {
        "id": "BpYBHAAouDuq",
        "colab_type": "code",
        "colab": {
          "base_uri": "https://localhost:8080/",
          "height": 136
        },
        "outputId": "16abd4ba-5d1f-47a6-9efc-52f2618c47b1"
      },
      "cell_type": "code",
      "source": [
        "print(X)"
      ],
      "execution_count": 25,
      "outputs": [
        {
          "output_type": "stream",
          "text": [
            "[['F' 'i' 'r' ... 'Y' 'o' 'u']\n",
            " [' ' 'h' 'i' ... ' ' 'a' 'n']\n",
            " [' ' 'h' 'o' ... '?' '\\n' '\\n']\n",
            " ...\n",
            " [' ' 'd' 'e' ... 'h' 'y' ' ']\n",
            " ['u' 'e' '-' ... 'o' 'u' ' ']\n",
            " ['t' '.' '\\n' ... 't' '\\n' 'n']]\n"
          ],
          "name": "stdout"
        }
      ]
    },
    {
      "metadata": {
        "id": "9cJy8DOGulXd",
        "colab_type": "code",
        "colab": {
          "base_uri": "https://localhost:8080/",
          "height": 221
        },
        "outputId": "b40f86ac-404e-4815-f98c-fd53e3f45d37"
      },
      "cell_type": "code",
      "source": [
        "# If correctly shaped, these should NOT be in correct succession\n",
        "print(X[0])\n",
        "print(X[1])"
      ],
      "execution_count": 26,
      "outputs": [
        {
          "output_type": "stream",
          "text": [
            "['F' 'i' 'r' 's' 't' ' ' 'C' 'i' 't' 'i' 'z' 'e' 'n' ':' '\\n' 'B' 'e' 'f'\n",
            " 'o' 'r' 'e' ' ' 'w' 'e' ' ' 'p' 'r' 'o' 'c' 'e' 'e' 'd' ' ' 'a' 'n' 'y'\n",
            " ' ' 'f' 'u' 'r' 't' 'h' 'e' 'r' ',' ' ' 'h' 'e' 'a' 'r' ' ' 'm' 'e' ' '\n",
            " 's' 'p' 'e' 'a' 'k' '.' '\\n' '\\n' 'A' 'l' 'l' ':' '\\n' 'S' 'p' 'e' 'a'\n",
            " 'k' ',' ' ' 's' 'p' 'e' 'a' 'k' '.' '\\n' '\\n' 'F' 'i' 'r' 's' 't' ' ' 'C'\n",
            " 'i' 't' 'i' 'z' 'e' 'n' ':' '\\n' 'Y' 'o' 'u']\n",
            "[' ' 'h' 'i' 'm' ' ' 'r' 'u' 'n' ' ' 'a' 'f' 't' 'e' 'r' ' ' 'a' ' ' 'g'\n",
            " 'i' 'l' 'd' 'e' 'd' '\\n' 'b' 'u' 't' 't' 'e' 'r' 'f' 'l' 'y' ':' ' ' 'a'\n",
            " 'n' 'd' ' ' 'w' 'h' 'e' 'n' ' ' 'h' 'e' ' ' 'c' 'a' 'u' 'g' 'h' 't' ' '\n",
            " 'i' 't' ',' ' ' 'h' 'e' ' ' 'l' 'e' 't' ' ' 'i' 't' ' ' 'g' 'o' '\\n' 'a'\n",
            " 'g' 'a' 'i' 'n' ';' ' ' 'a' 'n' 'd' ' ' 'a' 'f' 't' 'e' 'r' ' ' 'i' 't'\n",
            " ' ' 'a' 'g' 'a' 'i' 'n' ';' ' ' 'a' 'n']\n"
          ],
          "name": "stdout"
        }
      ]
    },
    {
      "metadata": {
        "id": "VTpseiQJurU_",
        "colab_type": "code",
        "colab": {
          "base_uri": "https://localhost:8080/",
          "height": 221
        },
        "outputId": "b9692b39-38e8-496a-e27d-b5350aa631bb"
      },
      "cell_type": "code",
      "source": [
        "# If correctly shaped, these should be in correct succesion\n",
        "print(X[0])\n",
        "print(X[BATCH_SIZE])"
      ],
      "execution_count": 27,
      "outputs": [
        {
          "output_type": "stream",
          "text": [
            "['F' 'i' 'r' 's' 't' ' ' 'C' 'i' 't' 'i' 'z' 'e' 'n' ':' '\\n' 'B' 'e' 'f'\n",
            " 'o' 'r' 'e' ' ' 'w' 'e' ' ' 'p' 'r' 'o' 'c' 'e' 'e' 'd' ' ' 'a' 'n' 'y'\n",
            " ' ' 'f' 'u' 'r' 't' 'h' 'e' 'r' ',' ' ' 'h' 'e' 'a' 'r' ' ' 'm' 'e' ' '\n",
            " 's' 'p' 'e' 'a' 'k' '.' '\\n' '\\n' 'A' 'l' 'l' ':' '\\n' 'S' 'p' 'e' 'a'\n",
            " 'k' ',' ' ' 's' 'p' 'e' 'a' 'k' '.' '\\n' '\\n' 'F' 'i' 'r' 's' 't' ' ' 'C'\n",
            " 'i' 't' 'i' 'z' 'e' 'n' ':' '\\n' 'Y' 'o' 'u']\n",
            "[' ' 'a' 'r' 'e' ' ' 'a' 'l' 'l' ' ' 'r' 'e' 's' 'o' 'l' 'v' 'e' 'd' ' '\n",
            " 'r' 'a' 't' 'h' 'e' 'r' ' ' 't' 'o' ' ' 'd' 'i' 'e' ' ' 't' 'h' 'a' 'n'\n",
            " ' ' 't' 'o' ' ' 'f' 'a' 'm' 'i' 's' 'h' '?' '\\n' '\\n' 'A' 'l' 'l' ':'\n",
            " '\\n' 'R' 'e' 's' 'o' 'l' 'v' 'e' 'd' '.' ' ' 'r' 'e' 's' 'o' 'l' 'v' 'e'\n",
            " 'd' '.' '\\n' '\\n' 'F' 'i' 'r' 's' 't' ' ' 'C' 'i' 't' 'i' 'z' 'e' 'n' ':'\n",
            " '\\n' 'F' 'i' 'r' 's' 't' ',' ' ' 'y' 'o' 'u']\n"
          ],
          "name": "stdout"
        }
      ]
    },
    {
      "metadata": {
        "id": "cyWWiYgd_0Xh",
        "colab_type": "code",
        "colab": {
          "base_uri": "https://localhost:8080/",
          "height": 34
        },
        "outputId": "00ab2642-4389-4f09-fea6-76ef6dd680d6"
      },
      "cell_type": "code",
      "source": [
        "print(X.shape, y.shape)"
      ],
      "execution_count": 28,
      "outputs": [
        {
          "output_type": "stream",
          "text": [
            "(11136, 100) (11136, 100)\n"
          ],
          "name": "stdout"
        }
      ]
    },
    {
      "metadata": {
        "id": "14KBBTxY_5zV",
        "colab_type": "code",
        "colab": {
          "base_uri": "https://localhost:8080/",
          "height": 51
        },
        "outputId": "26bf9cb9-b129-4edc-e29e-90d505cdcbef"
      },
      "cell_type": "code",
      "source": [
        "print(X[0, :15])\n",
        "print(y[0, :15])"
      ],
      "execution_count": 29,
      "outputs": [
        {
          "output_type": "stream",
          "text": [
            "['F' 'i' 'r' 's' 't' ' ' 'C' 'i' 't' 'i' 'z' 'e' 'n' ':' '\\n']\n",
            "['i' 'r' 's' 't' ' ' 'C' 'i' 't' 'i' 'z' 'e' 'n' ':' '\\n' 'B']\n"
          ],
          "name": "stdout"
        }
      ]
    },
    {
      "metadata": {
        "id": "ry4r9EtVAAx4",
        "colab_type": "code",
        "colab": {
          "base_uri": "https://localhost:8080/",
          "height": 51
        },
        "outputId": "d1f56a34-2ca6-4d63-9379-483d05d184ff"
      },
      "cell_type": "code",
      "source": [
        "print(X[25, :15])\n",
        "print(y[25, :15])"
      ],
      "execution_count": 30,
      "outputs": [
        {
          "output_type": "stream",
          "text": [
            "['r' ',' ' ' 'd' 'i' 'd' ' ' 'h' 'e' ' ' 'n' 'o' 't' '?' '\\n']\n",
            "[',' ' ' 'd' 'i' 'd' ' ' 'h' 'e' ' ' 'n' 'o' 't' '?' '\\n' '\\n']\n"
          ],
          "name": "stdout"
        }
      ]
    },
    {
      "metadata": {
        "id": "EwPjKyPIAoew",
        "colab_type": "code",
        "colab": {}
      },
      "cell_type": "code",
      "source": [
        "def translate(text):\n",
        "    one_hot =[]\n",
        "    for seq in text:\n",
        "        idx_seq = []\n",
        "        for c in seq:\n",
        "            idx_seq.append(char2idx[c])\n",
        "        t_seq = tf.keras.utils.to_categorical(idx_seq, num_classes=vocab_size)\n",
        "        one_hot.append(t_seq)\n",
        "    \n",
        "    return np.array(one_hot)\n",
        "\n",
        "X = translate(X)\n",
        "y = translate(y)"
      ],
      "execution_count": 0,
      "outputs": []
    },
    {
      "metadata": {
        "id": "VAqq3JQJC35y",
        "colab_type": "code",
        "colab": {
          "base_uri": "https://localhost:8080/",
          "height": 51
        },
        "outputId": "919cb21f-332c-4652-e05e-827a33ff32b3"
      },
      "cell_type": "code",
      "source": [
        "print(X.shape)\n",
        "print(y.shape)"
      ],
      "execution_count": 32,
      "outputs": [
        {
          "output_type": "stream",
          "text": [
            "(11136, 100, 65)\n",
            "(11136, 100, 65)\n"
          ],
          "name": "stdout"
        }
      ]
    },
    {
      "metadata": {
        "id": "_Dl2mp1DDCmG",
        "colab_type": "code",
        "colab": {
          "base_uri": "https://localhost:8080/",
          "height": 1683
        },
        "outputId": "d363067d-049f-4313-9768-b72d3ffb2e98"
      },
      "cell_type": "code",
      "source": [
        "print(X)\n",
        "print(y)"
      ],
      "execution_count": 33,
      "outputs": [
        {
          "output_type": "stream",
          "text": [
            "[[[0. 0. 0. ... 0. 0. 0.]\n",
            "  [0. 0. 0. ... 0. 0. 0.]\n",
            "  [0. 0. 0. ... 0. 0. 0.]\n",
            "  ...\n",
            "  [0. 0. 0. ... 0. 0. 0.]\n",
            "  [0. 0. 0. ... 0. 0. 0.]\n",
            "  [0. 0. 0. ... 0. 0. 0.]]\n",
            "\n",
            " [[0. 1. 0. ... 0. 0. 0.]\n",
            "  [0. 0. 0. ... 0. 0. 0.]\n",
            "  [0. 0. 0. ... 0. 0. 0.]\n",
            "  ...\n",
            "  [0. 1. 0. ... 0. 0. 0.]\n",
            "  [0. 0. 0. ... 0. 0. 0.]\n",
            "  [0. 0. 0. ... 0. 0. 0.]]\n",
            "\n",
            " [[0. 1. 0. ... 0. 0. 0.]\n",
            "  [0. 0. 0. ... 0. 0. 0.]\n",
            "  [0. 0. 0. ... 0. 0. 0.]\n",
            "  ...\n",
            "  [0. 0. 0. ... 0. 0. 0.]\n",
            "  [1. 0. 0. ... 0. 0. 0.]\n",
            "  [1. 0. 0. ... 0. 0. 0.]]\n",
            "\n",
            " ...\n",
            "\n",
            " [[0. 1. 0. ... 0. 0. 0.]\n",
            "  [0. 0. 0. ... 0. 0. 0.]\n",
            "  [0. 0. 0. ... 0. 0. 0.]\n",
            "  ...\n",
            "  [0. 0. 0. ... 0. 0. 0.]\n",
            "  [0. 0. 0. ... 0. 1. 0.]\n",
            "  [0. 1. 0. ... 0. 0. 0.]]\n",
            "\n",
            " [[0. 0. 0. ... 0. 0. 0.]\n",
            "  [0. 0. 0. ... 0. 0. 0.]\n",
            "  [0. 0. 0. ... 0. 0. 0.]\n",
            "  ...\n",
            "  [0. 0. 0. ... 0. 0. 0.]\n",
            "  [0. 0. 0. ... 0. 0. 0.]\n",
            "  [0. 1. 0. ... 0. 0. 0.]]\n",
            "\n",
            " [[0. 0. 0. ... 0. 0. 0.]\n",
            "  [0. 0. 0. ... 0. 0. 0.]\n",
            "  [1. 0. 0. ... 0. 0. 0.]\n",
            "  ...\n",
            "  [0. 0. 0. ... 0. 0. 0.]\n",
            "  [1. 0. 0. ... 0. 0. 0.]\n",
            "  [0. 0. 0. ... 0. 0. 0.]]]\n",
            "[[[0. 0. 0. ... 0. 0. 0.]\n",
            "  [0. 0. 0. ... 0. 0. 0.]\n",
            "  [0. 0. 0. ... 0. 0. 0.]\n",
            "  ...\n",
            "  [0. 0. 0. ... 0. 0. 0.]\n",
            "  [0. 0. 0. ... 0. 0. 0.]\n",
            "  [0. 1. 0. ... 0. 0. 0.]]\n",
            "\n",
            " [[0. 0. 0. ... 0. 0. 0.]\n",
            "  [0. 0. 0. ... 0. 0. 0.]\n",
            "  [0. 0. 0. ... 0. 0. 0.]\n",
            "  ...\n",
            "  [0. 0. 0. ... 0. 0. 0.]\n",
            "  [0. 0. 0. ... 0. 0. 0.]\n",
            "  [0. 0. 0. ... 0. 0. 0.]]\n",
            "\n",
            " [[0. 0. 0. ... 0. 0. 0.]\n",
            "  [0. 0. 0. ... 0. 0. 0.]\n",
            "  [0. 0. 0. ... 0. 0. 0.]\n",
            "  ...\n",
            "  [1. 0. 0. ... 0. 0. 0.]\n",
            "  [1. 0. 0. ... 0. 0. 0.]\n",
            "  [0. 0. 0. ... 0. 0. 0.]]\n",
            "\n",
            " ...\n",
            "\n",
            " [[0. 0. 0. ... 0. 0. 0.]\n",
            "  [0. 0. 0. ... 0. 0. 0.]\n",
            "  [0. 0. 0. ... 0. 0. 0.]\n",
            "  ...\n",
            "  [0. 0. 0. ... 0. 1. 0.]\n",
            "  [0. 1. 0. ... 0. 0. 0.]\n",
            "  [0. 0. 0. ... 0. 0. 0.]]\n",
            "\n",
            " [[0. 0. 0. ... 0. 0. 0.]\n",
            "  [0. 0. 0. ... 0. 0. 0.]\n",
            "  [0. 0. 0. ... 0. 0. 0.]\n",
            "  ...\n",
            "  [0. 0. 0. ... 0. 0. 0.]\n",
            "  [0. 1. 0. ... 0. 0. 0.]\n",
            "  [0. 0. 0. ... 0. 0. 0.]]\n",
            "\n",
            " [[0. 0. 0. ... 0. 0. 0.]\n",
            "  [1. 0. 0. ... 0. 0. 0.]\n",
            "  [1. 0. 0. ... 0. 0. 0.]\n",
            "  ...\n",
            "  [1. 0. 0. ... 0. 0. 0.]\n",
            "  [0. 0. 0. ... 0. 0. 0.]\n",
            "  [0. 0. 0. ... 0. 0. 0.]]]\n"
          ],
          "name": "stdout"
        }
      ]
    },
    {
      "metadata": {
        "id": "2o1v5Ef_MKlP",
        "colab_type": "code",
        "colab": {}
      },
      "cell_type": "code",
      "source": [
        "def build_model(vocab_size, batch_size):\n",
        "    model = tf.keras.Sequential([\n",
        "        tf.keras.layers.GRU(1024, return_sequences=True, stateful=True, input_shape=(None, vocab_size), batch_size=batch_size),\n",
        "        tf.keras.layers.TimeDistributed(tf.keras.layers.Dense(vocab_size, activation='softmax'))\n",
        "    ])\n",
        "    return model"
      ],
      "execution_count": 0,
      "outputs": []
    },
    {
      "metadata": {
        "id": "4ziLNtpcjs7w",
        "colab_type": "code",
        "colab": {}
      },
      "cell_type": "code",
      "source": [
        "model = build_model(vocab_size=vocab_size, batch_size=BATCH_SIZE)"
      ],
      "execution_count": 0,
      "outputs": []
    },
    {
      "metadata": {
        "id": "i_39lxgP4Kks",
        "colab_type": "code",
        "outputId": "156f881a-76ff-4eda-8cac-6fd08f51500c",
        "colab": {
          "base_uri": "https://localhost:8080/",
          "height": 204
        }
      },
      "cell_type": "code",
      "source": [
        "model.summary()"
      ],
      "execution_count": 36,
      "outputs": [
        {
          "output_type": "stream",
          "text": [
            "_________________________________________________________________\n",
            "Layer (type)                 Output Shape              Param #   \n",
            "=================================================================\n",
            "gru (GRU)                    (64, None, 1024)          3348480   \n",
            "_________________________________________________________________\n",
            "time_distributed (TimeDistri (64, None, 65)            66625     \n",
            "=================================================================\n",
            "Total params: 3,415,105\n",
            "Trainable params: 3,415,105\n",
            "Non-trainable params: 0\n",
            "_________________________________________________________________\n"
          ],
          "name": "stdout"
        }
      ]
    },
    {
      "metadata": {
        "id": "0_MwtriEQvi5",
        "colab_type": "code",
        "colab": {
          "base_uri": "https://localhost:8080/",
          "height": 34
        },
        "outputId": "6ee8177f-3a13-45e5-feba-7a98f1deb702"
      },
      "cell_type": "code",
      "source": [
        "model.input"
      ],
      "execution_count": 37,
      "outputs": [
        {
          "output_type": "execute_result",
          "data": {
            "text/plain": [
              "<tf.Tensor 'gru_input:0' shape=(64, ?, 65) dtype=float32>"
            ]
          },
          "metadata": {
            "tags": []
          },
          "execution_count": 37
        }
      ]
    },
    {
      "metadata": {
        "id": "VCW56R7bMi_S",
        "colab_type": "code",
        "colab": {
          "base_uri": "https://localhost:8080/",
          "height": 51
        },
        "outputId": "654e6ee5-df7f-47ee-c8e4-8cf91db093d9"
      },
      "cell_type": "code",
      "source": [
        "# Test the shape of the output\n",
        "test_batch = X[:BATCH_SIZE]\n",
        "print('Input batch:', test_batch.shape)\n",
        "test_predictions = model.predict(test_batch, batch_size=BATCH_SIZE)\n",
        "\n",
        "print('Output batch:', test_predictions.shape)\n",
        "\n",
        "model.reset_states()"
      ],
      "execution_count": 38,
      "outputs": [
        {
          "output_type": "stream",
          "text": [
            "Input batch: (64, 100, 65)\n",
            "Output batch: (64, 100, 65)\n"
          ],
          "name": "stdout"
        }
      ]
    },
    {
      "metadata": {
        "id": "0HZcMaRbuDq1",
        "colab_type": "code",
        "colab": {
          "base_uri": "https://localhost:8080/",
          "height": 119
        },
        "outputId": "956103b1-cd27-4277-bb75-bc41bfc7ced9"
      },
      "cell_type": "code",
      "source": [
        "sampled_indicies = np.argmax(test_predictions[0], axis=1)\n",
        "sampled_indicies"
      ],
      "execution_count": 39,
      "outputs": [
        {
          "output_type": "execute_result",
          "data": {
            "text/plain": [
              "array([22, 34, 22, 26, 43, 46,  2, 42,  6, 42, 42, 37, 27, 27, 40, 54, 27,\n",
              "       27, 16, 55, 55, 37, 37, 37, 37, 46, 60, 43, 12, 37, 37, 41, 41, 41,\n",
              "       13, 13, 46, 46,  0,  0, 43, 40, 27, 55, 24, 60, 27, 27,  6, 55, 46,\n",
              "       11, 37, 37, 26, 46, 64,  6, 28, 11, 16, 46, 49, 29, 29, 11, 40, 27,\n",
              "       46, 64,  6, 16, 24, 46, 26, 46, 64,  6, 28, 11, 16, 46, 46, 46, 22,\n",
              "       26,  5, 46,  2, 42,  6, 42, 42, 37, 27, 27, 40, 14, 13, 29])"
            ]
          },
          "metadata": {
            "tags": []
          },
          "execution_count": 39
        }
      ]
    },
    {
      "metadata": {
        "id": "XRMYX1-R71I3",
        "colab_type": "code",
        "colab": {}
      },
      "cell_type": "code",
      "source": [
        "sampled_test_batch = np.argmax(test_batch[0], axis=1)"
      ],
      "execution_count": 0,
      "outputs": []
    },
    {
      "metadata": {
        "id": "RnynT4K_y18I",
        "colab_type": "code",
        "colab": {
          "base_uri": "https://localhost:8080/",
          "height": 102
        },
        "outputId": "e85febcc-479c-4659-8ea6-c4520062571d"
      },
      "cell_type": "code",
      "source": [
        "print('Input: \\n', repr(''.join([idx2char[i] for i in sampled_test_batch])))\n",
        "print()\n",
        "print('Next Char Predictions: \\n', repr(''.join([idx2char[i] for i in sampled_indicies])))"
      ],
      "execution_count": 41,
      "outputs": [
        {
          "output_type": "stream",
          "text": [
            "Input: \n",
            " 'First Citizen:\\nBefore we proceed any further, hear me speak.\\n\\nAll:\\nSpeak, speak.\\n\\nFirst Citizen:\\nYou'\n",
            "\n",
            "Next Char Predictions: \n",
            " \"JVJNeh!d,ddYOObpOODqqYYYYhve?YYcccAAhh\\n\\nebOqLvOO,qh;YYNhz,P;DhkQQ;bOhz,DLhNhz,P;DhhhJN'h!d,ddYOObBAQ\"\n"
          ],
          "name": "stdout"
        }
      ]
    },
    {
      "metadata": {
        "id": "VFm9p3mE7E08",
        "colab_type": "code",
        "colab": {}
      },
      "cell_type": "code",
      "source": [
        "model.compile(optimizer='adam', loss='categorical_crossentropy')"
      ],
      "execution_count": 0,
      "outputs": []
    },
    {
      "metadata": {
        "id": "85mMnbmA7NIN",
        "colab_type": "code",
        "colab": {}
      },
      "cell_type": "code",
      "source": [
        "# Directory where the checkpoints will be saved\n",
        "checkpoint_dir = 'training_checkpoints'\n",
        "# Name of the checkpoint files\n",
        "checkpoint_prefix = os.path.join(checkpoint_dir, \"new_ckpt_{epoch}\")\n",
        "\n",
        "checkpoint_callback = tf.keras.callbacks.ModelCheckpoint(filepath=checkpoint_prefix)"
      ],
      "execution_count": 0,
      "outputs": []
    },
    {
      "metadata": {
        "id": "qEvj6jUP7b-v",
        "colab_type": "code",
        "outputId": "74fe4b10-a63d-440a-fa8f-e90ec3e47249",
        "colab": {
          "base_uri": "https://localhost:8080/",
          "height": 697
        }
      },
      "cell_type": "code",
      "source": [
        "history = model.fit(X, y, epochs=20, batch_size=BATCH_SIZE, callbacks=[checkpoint_callback])"
      ],
      "execution_count": 44,
      "outputs": [
        {
          "output_type": "stream",
          "text": [
            "Epoch 1/20\n",
            "11136/11136 [==============================] - 68s 6ms/step - loss: 2.8894\n",
            "Epoch 2/20\n",
            "11136/11136 [==============================] - 67s 6ms/step - loss: 2.1603\n",
            "Epoch 3/20\n",
            "11136/11136 [==============================] - 67s 6ms/step - loss: 1.9679\n",
            "Epoch 4/20\n",
            "11136/11136 [==============================] - 67s 6ms/step - loss: 1.8212\n",
            "Epoch 5/20\n",
            "11136/11136 [==============================] - 67s 6ms/step - loss: 1.7099\n",
            "Epoch 6/20\n",
            "11136/11136 [==============================] - 67s 6ms/step - loss: 1.6242\n",
            "Epoch 7/20\n",
            "11136/11136 [==============================] - 67s 6ms/step - loss: 1.5565\n",
            "Epoch 8/20\n",
            "11136/11136 [==============================] - 67s 6ms/step - loss: 1.5019\n",
            "Epoch 9/20\n",
            "11136/11136 [==============================] - 67s 6ms/step - loss: 1.4556\n",
            "Epoch 10/20\n",
            "11136/11136 [==============================] - 67s 6ms/step - loss: 1.4151\n",
            "Epoch 11/20\n",
            "11136/11136 [==============================] - 67s 6ms/step - loss: 1.3798\n",
            "Epoch 12/20\n",
            "11136/11136 [==============================] - 67s 6ms/step - loss: 1.3457\n",
            "Epoch 13/20\n",
            "11136/11136 [==============================] - 67s 6ms/step - loss: 1.3143\n",
            "Epoch 14/20\n",
            "11136/11136 [==============================] - 67s 6ms/step - loss: 1.2824\n",
            "Epoch 15/20\n",
            "11136/11136 [==============================] - 67s 6ms/step - loss: 1.2504\n",
            "Epoch 16/20\n",
            "11136/11136 [==============================] - 67s 6ms/step - loss: 1.2173\n",
            "Epoch 17/20\n",
            "11136/11136 [==============================] - 66s 6ms/step - loss: 1.1831\n",
            "Epoch 18/20\n",
            "11136/11136 [==============================] - 66s 6ms/step - loss: 1.1472\n",
            "Epoch 19/20\n",
            "11136/11136 [==============================] - 67s 6ms/step - loss: 1.1119\n",
            "Epoch 20/20\n",
            "11136/11136 [==============================] - 67s 6ms/step - loss: 1.0752\n"
          ],
          "name": "stdout"
        }
      ]
    },
    {
      "metadata": {
        "id": "t1d2VJ9EExcm",
        "colab_type": "code",
        "colab": {}
      },
      "cell_type": "code",
      "source": [
        "loaded_model = tf.keras.models.load_model('training_checkpoints/new_ckpt_20')"
      ],
      "execution_count": 0,
      "outputs": []
    },
    {
      "metadata": {
        "id": "sbhuTcmUFlrZ",
        "colab_type": "code",
        "colab": {}
      },
      "cell_type": "code",
      "source": [
        "model = build_model(vocab_size, batch_size=1)\n",
        "\n",
        "weights = loaded_model.get_weights()\n",
        "model.set_weights(weights)"
      ],
      "execution_count": 0,
      "outputs": []
    },
    {
      "metadata": {
        "id": "WHxaVdjrH84W",
        "colab_type": "code",
        "colab": {
          "base_uri": "https://localhost:8080/",
          "height": 204
        },
        "outputId": "90758f01-a961-48f5-cc66-d69d752d32f3"
      },
      "cell_type": "code",
      "source": [
        "model.summary()"
      ],
      "execution_count": 47,
      "outputs": [
        {
          "output_type": "stream",
          "text": [
            "_________________________________________________________________\n",
            "Layer (type)                 Output Shape              Param #   \n",
            "=================================================================\n",
            "gru_1 (GRU)                  (1, None, 1024)           3348480   \n",
            "_________________________________________________________________\n",
            "time_distributed_1 (TimeDist (1, None, 65)             66625     \n",
            "=================================================================\n",
            "Total params: 3,415,105\n",
            "Trainable params: 3,415,105\n",
            "Non-trainable params: 0\n",
            "_________________________________________________________________\n"
          ],
          "name": "stdout"
        }
      ]
    },
    {
      "metadata": {
        "id": "vrQ44Ycq-UIt",
        "colab_type": "code",
        "colab": {
          "base_uri": "https://localhost:8080/",
          "height": 493
        },
        "outputId": "8ae22e6e-a6f4-4fc6-b636-e3319557f032"
      },
      "cell_type": "code",
      "source": [
        "# Generate text using the trained model\n",
        "\n",
        "n_generate = 1000\n",
        "start = 'R'\n",
        "generated_text = [start]\n",
        "\n",
        "model.reset_states()\n",
        "\n",
        "for i in range(n_generate):\n",
        "    input = generated_text[-1]\n",
        "    input = char2idx[input]\n",
        "    input = tf.keras.utils.to_categorical(input, num_classes=vocab_size)\n",
        "    input = np.array([[input]])\n",
        "    \n",
        "    prediction = model.predict(input, batch_size=1)\n",
        "    \n",
        "    prediction = np.squeeze(prediction)\n",
        "    prediction = np.argmax(prediction)\n",
        "    prediction = idx2char[prediction]\n",
        "    \n",
        "    generated_text.append(prediction)\n",
        "\n",
        "print(''.join(generated_text))"
      ],
      "execution_count": 48,
      "outputs": [
        {
          "output_type": "stream",
          "text": [
            "RIOLANUS:\n",
            "I would the sun be the royal blood\n",
            "Which thou wert born to see his soldiers;\n",
            "And when the sun should be the hearts of men, and so should have a soul of life\n",
            "being the first dead man's apperianced,\n",
            "And stand upon my brother, and the people stoop\n",
            "That I have seen the base of this and then the world goes with the heart\n",
            "As the most more incersed and confess,\n",
            "And stay thee to the pale and the lord of sale,\n",
            "And so should still she must not be the first that doth her blessing.\n",
            "\n",
            "BRUTUS:\n",
            "I would have the like to be soon'd by the seas of well.\n",
            "\n",
            "GLOUCESTER:\n",
            "I would the sun be all the state of many foots,\n",
            "And stand before the father of a king must go to him.\n",
            "\n",
            "POLIXENES:\n",
            "I will not stay thee here,\n",
            "Thou wast not so much with her brother and the people,\n",
            "And then be patient, as thou ladest not stay.\n",
            "\n",
            "KING RICHARD III:\n",
            "So then and so should be the father of my father's death,\n",
            "And then be patient, as thou ladger to the people,\n",
            "And with the state of many thousand men confesses with the blood\n",
            "Whi\n"
          ],
          "name": "stdout"
        }
      ]
    }
  ]
}