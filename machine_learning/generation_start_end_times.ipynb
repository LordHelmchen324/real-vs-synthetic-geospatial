{
 "cells": [
  {
   "cell_type": "code",
   "execution_count": 104,
   "metadata": {},
   "outputs": [],
   "source": [
    "import matplotlib.pyplot as plt\n",
    "import numpy as np\n",
    "import pandas as pd\n",
    "import pickle\n",
    "from sklearn.neighbors import KernelDensity"
   ]
  },
  {
   "cell_type": "code",
   "execution_count": 2,
   "metadata": {},
   "outputs": [],
   "source": [
    "cabspotting = pd.read_pickle('../data_cabspotting/cabspotting.pkl')\n",
    "geolife = pd.read_pickle('../data_geolife/geolife.pkl')\n",
    "mdc = pd.read_pickle('../data_mdc/mdc.pkl')\n",
    "tdrive = pd.read_pickle('../data_t-drive/t-drive.pkl')"
   ]
  },
  {
   "cell_type": "code",
   "execution_count": 3,
   "metadata": {},
   "outputs": [],
   "source": [
    "cabspotting = pd.DataFrame({'first': cabspotting.reset_index().groupby('user')['time'].min(),\n",
    "                            'last': cabspotting.reset_index().groupby('user')['time'].max()})\n",
    "geolife = pd.DataFrame({'first': geolife.reset_index().groupby('user')['time'].min(),\n",
    "                        'last': geolife.reset_index().groupby('user')['time'].max()})\n",
    "mdc = pd.DataFrame({'first': mdc.reset_index().groupby('user')['time'].min(),\n",
    "                    'last': mdc.reset_index().groupby('user')['time'].max()})\n",
    "tdrive = pd.DataFrame({'first': tdrive.reset_index().groupby('user')['time'].min(),\n",
    "                       'last': tdrive.reset_index().groupby('user')['time'].max()})"
   ]
  },
  {
   "cell_type": "code",
   "execution_count": 64,
   "metadata": {},
   "outputs": [],
   "source": [
    "grid = np.arange(0.0, 1.0, 0.005).reshape([-1, 1])"
   ]
  },
  {
   "cell_type": "code",
   "execution_count": 17,
   "metadata": {},
   "outputs": [
    {
     "data": {
      "text/plain": [
       "<matplotlib.axes._subplots.AxesSubplot at 0x10f10cef0>"
      ]
     },
     "execution_count": 17,
     "metadata": {},
     "output_type": "execute_result"
    },
    {
     "data": {
      "image/png": "[encoded data removed]",
      "text/plain": [
       "<Figure size 432x288 with 1 Axes>"
      ]
     },
     "metadata": {
      "needs_background": "light"
     },
     "output_type": "display_data"
    }
   ],
   "source": [
    "cabspotting['first'].hist()\n",
    "cabspotting['last'].hist()"
   ]
  },
  {
   "cell_type": "code",
   "execution_count": 36,
   "metadata": {},
   "outputs": [],
   "source": [
    "seconds_since = (cabspotting['first'] - cabspotting['first'].min()).dt.total_seconds()\n",
    "seconds_until = (cabspotting['last'] - cabspotting['first'].min()).dt.total_seconds()\n",
    "\n",
    "seconds_total = (cabspotting['last'].max() - cabspotting['first'].min()).total_seconds()\n",
    "\n",
    "cabspotting['rel_start'] = seconds_since / seconds_total\n",
    "cabspotting['rel_end'] = seconds_until / seconds_total"
   ]
  },
  {
   "cell_type": "code",
   "execution_count": 37,
   "metadata": {},
   "outputs": [
    {
     "data": {
      "text/plain": [
       "<matplotlib.axes._subplots.AxesSubplot at 0x11274b550>"
      ]
     },
     "execution_count": 37,
     "metadata": {},
     "output_type": "execute_result"
    },
    {
     "data": {
      "image/png": "[encoded data removed]",
      "text/plain": [
       "<Figure size 432x288 with 1 Axes>"
      ]
     },
     "metadata": {
      "needs_background": "light"
     },
     "output_type": "display_data"
    }
   ],
   "source": [
    "cabspotting['rel_start'].hist()\n",
    "cabspotting['rel_end'].hist()"
   ]
  },
  {
   "cell_type": "code",
   "execution_count": 92,
   "metadata": {},
   "outputs": [
    {
     "data": {
      "text/plain": [
       "KernelDensity(algorithm='auto', atol=0, bandwidth=0.03, breadth_first=True,\n",
       "       kernel='gaussian', leaf_size=40, metric='euclidean',\n",
       "       metric_params=None, rtol=0)"
      ]
     },
     "execution_count": 92,
     "metadata": {},
     "output_type": "execute_result"
    }
   ],
   "source": [
    "kde_cabspotting_starts = KernelDensity(bandwidth=0.03)\n",
    "kde_cabspotting_starts.fit(cabspotting['rel_start'].values.reshape([-1, 1]))"
   ]
  },
  {
   "cell_type": "code",
   "execution_count": 93,
   "metadata": {},
   "outputs": [
    {
     "data": {
      "text/plain": [
       "KernelDensity(algorithm='auto', atol=0, bandwidth=0.03, breadth_first=True,\n",
       "       kernel='gaussian', leaf_size=40, metric='euclidean',\n",
       "       metric_params=None, rtol=0)"
      ]
     },
     "execution_count": 93,
     "metadata": {},
     "output_type": "execute_result"
    }
   ],
   "source": [
    "kde_cabspotting_ends = KernelDensity(bandwidth=0.03)\n",
    "kde_cabspotting_ends.fit(cabspotting['rel_end'].values.reshape([-1, 1]))"
   ]
  },
  {
   "cell_type": "code",
   "execution_count": 94,
   "metadata": {},
   "outputs": [
    {
     "data": {
      "image/png": "[encoded data removed]",
      "text/plain": [
       "<Figure size 432x288 with 1 Axes>"
      ]
     },
     "metadata": {
      "needs_background": "light"
     },
     "output_type": "display_data"
    }
   ],
   "source": [
    "plt.plot(grid, np.exp(kde_cabspotting_starts.score_samples(grid)))\n",
    "plt.plot(grid, np.exp(kde_cabspotting_ends.score_samples(grid)))\n",
    "plt.show()"
   ]
  },
  {
   "cell_type": "code",
   "execution_count": 105,
   "metadata": {},
   "outputs": [],
   "source": [
    "sekde_cabspotting = {'kde_start': kde_cabspotting_starts,\n",
    "                     'kde_end': kde_cabspotting_ends,\n",
    "                     'zero': cabspotting['first'].min(),\n",
    "                     'one': cabspotting['last'].max()}"
   ]
  },
  {
   "cell_type": "code",
   "execution_count": 107,
   "metadata": {},
   "outputs": [],
   "source": [
    "pickle.dump(sekde_cabspotting, open('../data_cabspotting/sekde_cabspotting_003.pkl', 'wb'))"
   ]
  },
  {
   "cell_type": "code",
   "execution_count": 18,
   "metadata": {},
   "outputs": [
    {
     "data": {
      "text/plain": [
       "<matplotlib.axes._subplots.AxesSubplot at 0x1124725c0>"
      ]
     },
     "execution_count": 18,
     "metadata": {},
     "output_type": "execute_result"
    },
    {
     "data": {
      "image/png": "[encoded data removed]",
      "text/plain": [
       "<Figure size 432x288 with 1 Axes>"
      ]
     },
     "metadata": {
      "needs_background": "light"
     },
     "output_type": "display_data"
    }
   ],
   "source": [
    "geolife['first'].hist()\n",
    "geolife['last'].hist()"
   ]
  },
  {
   "cell_type": "code",
   "execution_count": 48,
   "metadata": {},
   "outputs": [
    {
     "data": {
      "text/plain": [
       "user\n",
       "163   2000-01-01 23:12:19\n",
       "142   2007-04-12 09:31:32\n",
       "161   2007-04-12 10:18:53\n",
       "97    2007-04-12 13:46:21\n",
       "111   2007-04-13 15:23:30\n",
       "Name: first, dtype: datetime64[ns]"
      ]
     },
     "execution_count": 48,
     "metadata": {},
     "output_type": "execute_result"
    }
   ],
   "source": [
    "geolife['first'].sort_values().iloc[0:5]"
   ]
  },
  {
   "cell_type": "code",
   "execution_count": 49,
   "metadata": {},
   "outputs": [],
   "source": [
    "seconds_since = (geolife['first'] - geolife['first'].sort_values().iloc[1]).dt.total_seconds()\n",
    "seconds_until = (geolife['last'] - geolife['first'].sort_values().iloc[1]).dt.total_seconds()\n",
    "\n",
    "seconds_total = (geolife['last'].max() - geolife['first'].sort_values().iloc[1]).total_seconds()\n",
    "\n",
    "geolife['rel_start'] = seconds_since / seconds_total\n",
    "geolife['rel_end'] = seconds_until / seconds_total"
   ]
  },
  {
   "cell_type": "code",
   "execution_count": 50,
   "metadata": {},
   "outputs": [
    {
     "data": {
      "text/plain": [
       "<matplotlib.axes._subplots.AxesSubplot at 0x1127f0a20>"
      ]
     },
     "execution_count": 50,
     "metadata": {},
     "output_type": "execute_result"
    },
    {
     "data": {
      "image/png": "[encoded data removed]",
      "text/plain": [
       "<Figure size 432x288 with 1 Axes>"
      ]
     },
     "metadata": {
      "needs_background": "light"
     },
     "output_type": "display_data"
    }
   ],
   "source": [
    "geolife['rel_start'].hist()\n",
    "geolife['rel_end'].hist()"
   ]
  },
  {
   "cell_type": "code",
   "execution_count": 95,
   "metadata": {},
   "outputs": [
    {
     "data": {
      "text/plain": [
       "KernelDensity(algorithm='auto', atol=0, bandwidth=0.03, breadth_first=True,\n",
       "       kernel='gaussian', leaf_size=40, metric='euclidean',\n",
       "       metric_params=None, rtol=0)"
      ]
     },
     "execution_count": 95,
     "metadata": {},
     "output_type": "execute_result"
    }
   ],
   "source": [
    "kde_geolife_starts = KernelDensity(bandwidth=0.03)\n",
    "kde_geolife_starts.fit(geolife['rel_start'].values.reshape([-1, 1]))"
   ]
  },
  {
   "cell_type": "code",
   "execution_count": 96,
   "metadata": {},
   "outputs": [
    {
     "data": {
      "text/plain": [
       "KernelDensity(algorithm='auto', atol=0, bandwidth=0.03, breadth_first=True,\n",
       "       kernel='gaussian', leaf_size=40, metric='euclidean',\n",
       "       metric_params=None, rtol=0)"
      ]
     },
     "execution_count": 96,
     "metadata": {},
     "output_type": "execute_result"
    }
   ],
   "source": [
    "kde_geolife_ends = KernelDensity(bandwidth=0.03)\n",
    "kde_geolife_ends.fit(geolife['rel_end'].values.reshape([-1, 1]))"
   ]
  },
  {
   "cell_type": "code",
   "execution_count": 97,
   "metadata": {},
   "outputs": [
    {
     "data": {
      "image/png": "[encoded data removed]",
      "text/plain": [
       "<Figure size 432x288 with 1 Axes>"
      ]
     },
     "metadata": {
      "needs_background": "light"
     },
     "output_type": "display_data"
    }
   ],
   "source": [
    "plt.plot(grid, np.exp(kde_geolife_starts.score_samples(grid)))\n",
    "plt.plot(grid, np.exp(kde_geolife_ends.score_samples(grid)))\n",
    "plt.show()"
   ]
  },
  {
   "cell_type": "code",
   "execution_count": 108,
   "metadata": {},
   "outputs": [],
   "source": [
    "sekde_geolife = {'kde_start': kde_geolife_starts,\n",
    "                 'kde_end': kde_geolife_ends,\n",
    "                 'zero': geolife['first'].sort_values().iloc[1],\n",
    "                 'one': geolife['last'].max()}"
   ]
  },
  {
   "cell_type": "code",
   "execution_count": 110,
   "metadata": {},
   "outputs": [],
   "source": [
    "pickle.dump(sekde_geolife, open('../data_geolife/sekde_geolife_003.pkl', 'wb'))"
   ]
  },
  {
   "cell_type": "code",
   "execution_count": 19,
   "metadata": {},
   "outputs": [
    {
     "data": {
      "text/plain": [
       "<matplotlib.axes._subplots.AxesSubplot at 0x1124151d0>"
      ]
     },
     "execution_count": 19,
     "metadata": {},
     "output_type": "execute_result"
    },
    {
     "data": {
      "image/png": "[encoded data removed]",
      "text/plain": [
       "<Figure size 432x288 with 1 Axes>"
      ]
     },
     "metadata": {
      "needs_background": "light"
     },
     "output_type": "display_data"
    }
   ],
   "source": [
    "mdc['first'].hist()\n",
    "mdc['last'].hist()"
   ]
  },
  {
   "cell_type": "code",
   "execution_count": 38,
   "metadata": {},
   "outputs": [],
   "source": [
    "seconds_since = (mdc['first'] - mdc['first'].min()).dt.total_seconds()\n",
    "seconds_until = (mdc['last'] - mdc['first'].min()).dt.total_seconds()\n",
    "\n",
    "seconds_total = (mdc['last'].max() - mdc['first'].min()).total_seconds()\n",
    "\n",
    "mdc['rel_start'] = seconds_since / seconds_total\n",
    "mdc['rel_end'] = seconds_until / seconds_total"
   ]
  },
  {
   "cell_type": "code",
   "execution_count": 39,
   "metadata": {},
   "outputs": [
    {
     "data": {
      "text/plain": [
       "<matplotlib.axes._subplots.AxesSubplot at 0x112dd7e80>"
      ]
     },
     "execution_count": 39,
     "metadata": {},
     "output_type": "execute_result"
    },
    {
     "data": {
      "image/png": "[encoded data removed]",
      "text/plain": [
       "<Figure size 432x288 with 1 Axes>"
      ]
     },
     "metadata": {
      "needs_background": "light"
     },
     "output_type": "display_data"
    }
   ],
   "source": [
    "mdc['rel_start'].hist()\n",
    "mdc['rel_end'].hist()"
   ]
  },
  {
   "cell_type": "code",
   "execution_count": 98,
   "metadata": {},
   "outputs": [
    {
     "data": {
      "text/plain": [
       "KernelDensity(algorithm='auto', atol=0, bandwidth=0.03, breadth_first=True,\n",
       "       kernel='gaussian', leaf_size=40, metric='euclidean',\n",
       "       metric_params=None, rtol=0)"
      ]
     },
     "execution_count": 98,
     "metadata": {},
     "output_type": "execute_result"
    }
   ],
   "source": [
    "kde_mdc_starts = KernelDensity(bandwidth=0.03)\n",
    "kde_mdc_starts.fit(mdc['rel_start'].values.reshape([-1, 1]))"
   ]
  },
  {
   "cell_type": "code",
   "execution_count": 99,
   "metadata": {},
   "outputs": [
    {
     "data": {
      "text/plain": [
       "KernelDensity(algorithm='auto', atol=0, bandwidth=0.03, breadth_first=True,\n",
       "       kernel='gaussian', leaf_size=40, metric='euclidean',\n",
       "       metric_params=None, rtol=0)"
      ]
     },
     "execution_count": 99,
     "metadata": {},
     "output_type": "execute_result"
    }
   ],
   "source": [
    "kde_mdc_ends = KernelDensity(bandwidth=0.03)\n",
    "kde_mdc_ends.fit(mdc['rel_end'].values.reshape([-1, 1]))"
   ]
  },
  {
   "cell_type": "code",
   "execution_count": 100,
   "metadata": {},
   "outputs": [
    {
     "data": {
      "image/png": "[encoded data removed]",
      "text/plain": [
       "<Figure size 432x288 with 1 Axes>"
      ]
     },
     "metadata": {
      "needs_background": "light"
     },
     "output_type": "display_data"
    }
   ],
   "source": [
    "plt.plot(grid, np.exp(kde_mdc_starts.score_samples(grid)))\n",
    "plt.plot(grid, np.exp(kde_mdc_ends.score_samples(grid)))\n",
    "plt.show()"
   ]
  },
  {
   "cell_type": "code",
   "execution_count": 111,
   "metadata": {},
   "outputs": [],
   "source": [
    "sekde_mdc = {'kde_start': kde_mdc_starts,\n",
    "             'kde_end': kde_mdc_ends,\n",
    "             'zero': mdc['first'].min(),\n",
    "             'one': mdc['last'].max()}"
   ]
  },
  {
   "cell_type": "code",
   "execution_count": 113,
   "metadata": {},
   "outputs": [],
   "source": [
    "pickle.dump(sekde_mdc, open('../data_mdc/sekde_mdc_003.pkl', 'wb'))"
   ]
  },
  {
   "cell_type": "code",
   "execution_count": 20,
   "metadata": {},
   "outputs": [
    {
     "data": {
      "text/plain": [
       "<matplotlib.axes._subplots.AxesSubplot at 0x112493208>"
      ]
     },
     "execution_count": 20,
     "metadata": {},
     "output_type": "execute_result"
    },
    {
     "data": {
      "image/png": "[encoded data removed]",
      "text/plain": [
       "<Figure size 432x288 with 1 Axes>"
      ]
     },
     "metadata": {
      "needs_background": "light"
     },
     "output_type": "display_data"
    }
   ],
   "source": [
    "tdrive['first'].hist()\n",
    "tdrive['last'].hist()"
   ]
  },
  {
   "cell_type": "code",
   "execution_count": 40,
   "metadata": {},
   "outputs": [],
   "source": [
    "seconds_since = (tdrive['first'] - tdrive['first'].min()).dt.total_seconds()\n",
    "seconds_until = (tdrive['last'] - tdrive['first'].min()).dt.total_seconds()\n",
    "\n",
    "seconds_total = (tdrive['last'].max() - tdrive['first'].min()).total_seconds()\n",
    "\n",
    "tdrive['rel_start'] = seconds_since / seconds_total\n",
    "tdrive['rel_end'] = seconds_until / seconds_total"
   ]
  },
  {
   "cell_type": "code",
   "execution_count": 41,
   "metadata": {},
   "outputs": [
    {
     "data": {
      "text/plain": [
       "<matplotlib.axes._subplots.AxesSubplot at 0x112dbdd68>"
      ]
     },
     "execution_count": 41,
     "metadata": {},
     "output_type": "execute_result"
    },
    {
     "data": {
      "image/png": "[encoded data removed]",
      "text/plain": [
       "<Figure size 432x288 with 1 Axes>"
      ]
     },
     "metadata": {
      "needs_background": "light"
     },
     "output_type": "display_data"
    }
   ],
   "source": [
    "tdrive['rel_start'].hist()\n",
    "tdrive['rel_end'].hist()"
   ]
  },
  {
   "cell_type": "code",
   "execution_count": 101,
   "metadata": {},
   "outputs": [
    {
     "data": {
      "text/plain": [
       "KernelDensity(algorithm='auto', atol=0, bandwidth=0.03, breadth_first=True,\n",
       "       kernel='gaussian', leaf_size=40, metric='euclidean',\n",
       "       metric_params=None, rtol=0)"
      ]
     },
     "execution_count": 101,
     "metadata": {},
     "output_type": "execute_result"
    }
   ],
   "source": [
    "kde_tdrive_starts = KernelDensity(bandwidth=0.03)\n",
    "kde_tdrive_starts.fit(tdrive['rel_start'].values.reshape([-1, 1]))"
   ]
  },
  {
   "cell_type": "code",
   "execution_count": 102,
   "metadata": {},
   "outputs": [
    {
     "data": {
      "text/plain": [
       "KernelDensity(algorithm='auto', atol=0, bandwidth=0.03, breadth_first=True,\n",
       "       kernel='gaussian', leaf_size=40, metric='euclidean',\n",
       "       metric_params=None, rtol=0)"
      ]
     },
     "execution_count": 102,
     "metadata": {},
     "output_type": "execute_result"
    }
   ],
   "source": [
    "kde_tdrive_ends = KernelDensity(bandwidth=0.03)\n",
    "kde_tdrive_ends.fit(tdrive['rel_end'].values.reshape([-1, 1]))"
   ]
  },
  {
   "cell_type": "code",
   "execution_count": 103,
   "metadata": {},
   "outputs": [
    {
     "data": {
      "image/png": "[encoded data removed]",
      "text/plain": [
       "<Figure size 432x288 with 1 Axes>"
      ]
     },
     "metadata": {
      "needs_background": "light"
     },
     "output_type": "display_data"
    }
   ],
   "source": [
    "plt.plot(grid, np.exp(kde_tdrive_starts.score_samples(grid)))\n",
    "plt.plot(grid, np.exp(kde_tdrive_ends.score_samples(grid)))\n",
    "plt.show()"
   ]
  },
  {
   "cell_type": "code",
   "execution_count": 114,
   "metadata": {},
   "outputs": [],
   "source": [
    "sekde_tdrive = {'kde_start': kde_tdrive_starts,\n",
    "                'kde_end': kde_tdrive_ends,\n",
    "                'zero': tdrive['first'].min(),\n",
    "                'one': tdrive['last'].max()}"
   ]
  },
  {
   "cell_type": "code",
   "execution_count": 118,
   "metadata": {},
   "outputs": [],
   "source": [
    "pickle.dump(sekde_tdrive, open('../data_t-drive/sekde_tdrive_003.pkl', 'wb'))"
   ]
  }
 ],
 "metadata": {
  "kernelspec": {
   "display_name": "Python 3",
   "language": "python",
   "name": "python3"
  },
  "language_info": {
   "codemirror_mode": {
    "name": "ipython",
    "version": 3
   },
   "file_extension": ".py",
   "mimetype": "text/x-python",
   "name": "python",
   "nbconvert_exporter": "python",
   "pygments_lexer": "ipython3",
   "version": "3.6.7"
  }
 },
 "nbformat": 4,
 "nbformat_minor": 2
}
