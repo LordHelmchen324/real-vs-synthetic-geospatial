{
 "cells": [
  {
   "cell_type": "code",
   "execution_count": 1,
   "metadata": {},
   "outputs": [],
   "source": [
    "import pandas as pd\n",
    "import numpy as np\n",
    "\n",
    "import datetime as dt"
   ]
  },
  {
   "cell_type": "code",
   "execution_count": 25,
   "metadata": {},
   "outputs": [],
   "source": [
    "# Read data from generated file\n",
    "\n",
    "df = pd.read_csv('./datasets/BerlinMOD_0_005_Geo_CSV/trips.csv')\n",
    "\n",
    "df['time'] = pd.to_datetime(df['Tstart'], format = '%Y-%m-%d %H:%M:%S')\n",
    "df['longitude'] = df['Xstart']\n",
    "df['latitude'] = df['Ystart']\n",
    "df['trip'] = df['Tripid']\n",
    "\n",
    "df.drop(['Tstart', 'Tend', 'Xstart', 'Xend', 'Ystart', 'Yend', 'Tripid'], axis=1, inplace=True)"
   ]
  },
  {
   "cell_type": "code",
   "execution_count": 26,
   "metadata": {},
   "outputs": [
    {
     "data": {
      "text/html": [
       "<div>\n",
       "<style scoped>\n",
       "    .dataframe tbody tr th:only-of-type {\n",
       "        vertical-align: middle;\n",
       "    }\n",
       "\n",
       "    .dataframe tbody tr th {\n",
       "        vertical-align: top;\n",
       "    }\n",
       "\n",
       "    .dataframe thead th {\n",
       "        text-align: right;\n",
       "    }\n",
       "</style>\n",
       "<table border=\"1\" class=\"dataframe\">\n",
       "  <thead>\n",
       "    <tr style=\"text-align: right;\">\n",
       "      <th></th>\n",
       "      <th>Moid</th>\n",
       "      <th>time</th>\n",
       "      <th>longitude</th>\n",
       "      <th>latitude</th>\n",
       "      <th>trip</th>\n",
       "    </tr>\n",
       "  </thead>\n",
       "  <tbody>\n",
       "    <tr>\n",
       "      <th>0</th>\n",
       "      <td>1</td>\n",
       "      <td>2007-05-27 00:00:00.000</td>\n",
       "      <td>13.43593</td>\n",
       "      <td>52.41721</td>\n",
       "      <td>1</td>\n",
       "    </tr>\n",
       "    <tr>\n",
       "      <th>1</th>\n",
       "      <td>1</td>\n",
       "      <td>2007-05-28 08:36:47.846</td>\n",
       "      <td>13.43593</td>\n",
       "      <td>52.41721</td>\n",
       "      <td>2</td>\n",
       "    </tr>\n",
       "    <tr>\n",
       "      <th>2</th>\n",
       "      <td>1</td>\n",
       "      <td>2007-05-28 08:36:49.846</td>\n",
       "      <td>13.43605</td>\n",
       "      <td>52.41723</td>\n",
       "      <td>2</td>\n",
       "    </tr>\n",
       "    <tr>\n",
       "      <th>3</th>\n",
       "      <td>1</td>\n",
       "      <td>2007-05-28 08:36:51.846</td>\n",
       "      <td>13.43628</td>\n",
       "      <td>52.41727</td>\n",
       "      <td>2</td>\n",
       "    </tr>\n",
       "    <tr>\n",
       "      <th>4</th>\n",
       "      <td>1</td>\n",
       "      <td>2007-05-28 08:36:53.846</td>\n",
       "      <td>13.43652</td>\n",
       "      <td>52.41730</td>\n",
       "      <td>2</td>\n",
       "    </tr>\n",
       "  </tbody>\n",
       "</table>\n",
       "</div>"
      ],
      "text/plain": [
       "   Moid                    time  longitude  latitude  trip\n",
       "0     1 2007-05-27 00:00:00.000   13.43593  52.41721     1\n",
       "1     1 2007-05-28 08:36:47.846   13.43593  52.41721     2\n",
       "2     1 2007-05-28 08:36:49.846   13.43605  52.41723     2\n",
       "3     1 2007-05-28 08:36:51.846   13.43628  52.41727     2\n",
       "4     1 2007-05-28 08:36:53.846   13.43652  52.41730     2"
      ]
     },
     "execution_count": 26,
     "metadata": {},
     "output_type": "execute_result"
    }
   ],
   "source": [
    "df.head()"
   ]
  },
  {
   "cell_type": "code",
   "execution_count": 33,
   "metadata": {},
   "outputs": [
    {
     "data": {
      "text/plain": [
       "(342260, 5)"
      ]
     },
     "execution_count": 33,
     "metadata": {},
     "output_type": "execute_result"
    }
   ],
   "source": [
    "df.shape"
   ]
  },
  {
   "cell_type": "code",
   "execution_count": 27,
   "metadata": {},
   "outputs": [
    {
     "data": {
      "text/plain": [
       "1       1\n",
       "2     350\n",
       "3       1\n",
       "4     352\n",
       "5       1\n",
       "6     357\n",
       "7       1\n",
       "8     359\n",
       "9       1\n",
       "10      1\n",
       "11    492\n",
       "12      1\n",
       "13    485\n",
       "14      1\n",
       "15    139\n",
       "Name: trip, dtype: int64"
      ]
     },
     "execution_count": 27,
     "metadata": {},
     "output_type": "execute_result"
    }
   ],
   "source": [
    "df['trip'].value_counts().sort_index().head(15)"
   ]
  },
  {
   "cell_type": "code",
   "execution_count": 28,
   "metadata": {},
   "outputs": [
    {
     "data": {
      "text/plain": [
       "1     1423\n",
       "2     2396\n",
       "3      355\n",
       "4     3625\n",
       "5     1873\n",
       "6     2812\n",
       "7     4139\n",
       "8     2689\n",
       "9     1844\n",
       "10    2879\n",
       "11    3865\n",
       "12    2245\n",
       "13    4167\n",
       "14    2718\n",
       "15    2219\n",
       "Name: Moid, dtype: int64"
      ]
     },
     "execution_count": 28,
     "metadata": {},
     "output_type": "execute_result"
    }
   ],
   "source": [
    "df['Moid'].value_counts().sort_index().head(15)"
   ]
  },
  {
   "cell_type": "code",
   "execution_count": 29,
   "metadata": {},
   "outputs": [
    {
     "data": {
      "text/plain": [
       "count                         342260\n",
       "unique                        341197\n",
       "top              2007-05-27 00:00:00\n",
       "freq                             141\n",
       "first            2007-05-27 00:00:00\n",
       "last      2007-05-30 01:34:26.561000\n",
       "Name: time, dtype: object"
      ]
     },
     "execution_count": 29,
     "metadata": {},
     "output_type": "execute_result"
    }
   ],
   "source": [
    "df['time'].describe()"
   ]
  },
  {
   "cell_type": "code",
   "execution_count": 31,
   "metadata": {},
   "outputs": [
    {
     "data": {
      "text/plain": [
       "count    342260.000000\n",
       "mean         52.502015\n",
       "std           0.042514\n",
       "min          52.382490\n",
       "25%          52.472470\n",
       "50%          52.505370\n",
       "75%          52.529850\n",
       "max          52.644000\n",
       "Name: latitude, dtype: float64"
      ]
     },
     "execution_count": 31,
     "metadata": {},
     "output_type": "execute_result"
    }
   ],
   "source": [
    "df['latitude'].describe()"
   ]
  },
  {
   "cell_type": "code",
   "execution_count": 32,
   "metadata": {},
   "outputs": [
    {
     "data": {
      "text/plain": [
       "count    342260.000000\n",
       "mean         13.381166\n",
       "std           0.104213\n",
       "min          13.112620\n",
       "25%          13.321000\n",
       "50%          13.385520\n",
       "75%          13.447820\n",
       "max          13.664390\n",
       "Name: longitude, dtype: float64"
      ]
     },
     "execution_count": 32,
     "metadata": {},
     "output_type": "execute_result"
    }
   ],
   "source": [
    "df['longitude'].describe()"
   ]
  },
  {
   "cell_type": "code",
   "execution_count": 34,
   "metadata": {},
   "outputs": [],
   "source": [
    "# Change the way the dataset is indexed\n",
    "\n",
    "df_reindexed = df.set_index(['Moid', 'time'])\n",
    "df_reindexed.sort_index(inplace=True)"
   ]
  },
  {
   "cell_type": "code",
   "execution_count": 37,
   "metadata": {},
   "outputs": [
    {
     "data": {
      "text/html": [
       "<div>\n",
       "<style scoped>\n",
       "    .dataframe tbody tr th:only-of-type {\n",
       "        vertical-align: middle;\n",
       "    }\n",
       "\n",
       "    .dataframe tbody tr th {\n",
       "        vertical-align: top;\n",
       "    }\n",
       "\n",
       "    .dataframe thead th {\n",
       "        text-align: right;\n",
       "    }\n",
       "</style>\n",
       "<table border=\"1\" class=\"dataframe\">\n",
       "  <thead>\n",
       "    <tr style=\"text-align: right;\">\n",
       "      <th></th>\n",
       "      <th></th>\n",
       "      <th>longitude</th>\n",
       "      <th>latitude</th>\n",
       "      <th>trip</th>\n",
       "    </tr>\n",
       "    <tr>\n",
       "      <th>Moid</th>\n",
       "      <th>time</th>\n",
       "      <th></th>\n",
       "      <th></th>\n",
       "      <th></th>\n",
       "    </tr>\n",
       "  </thead>\n",
       "  <tbody>\n",
       "    <tr>\n",
       "      <th rowspan=\"10\" valign=\"top\">1</th>\n",
       "      <th>2007-05-27 00:00:00.000</th>\n",
       "      <td>13.43593</td>\n",
       "      <td>52.41721</td>\n",
       "      <td>1</td>\n",
       "    </tr>\n",
       "    <tr>\n",
       "      <th>2007-05-28 08:36:47.846</th>\n",
       "      <td>13.43593</td>\n",
       "      <td>52.41721</td>\n",
       "      <td>2</td>\n",
       "    </tr>\n",
       "    <tr>\n",
       "      <th>2007-05-28 08:36:49.846</th>\n",
       "      <td>13.43605</td>\n",
       "      <td>52.41723</td>\n",
       "      <td>2</td>\n",
       "    </tr>\n",
       "    <tr>\n",
       "      <th>2007-05-28 08:36:51.846</th>\n",
       "      <td>13.43628</td>\n",
       "      <td>52.41727</td>\n",
       "      <td>2</td>\n",
       "    </tr>\n",
       "    <tr>\n",
       "      <th>2007-05-28 08:36:53.846</th>\n",
       "      <td>13.43652</td>\n",
       "      <td>52.41730</td>\n",
       "      <td>2</td>\n",
       "    </tr>\n",
       "    <tr>\n",
       "      <th>2007-05-28 08:36:55.846</th>\n",
       "      <td>13.43676</td>\n",
       "      <td>52.41734</td>\n",
       "      <td>2</td>\n",
       "    </tr>\n",
       "    <tr>\n",
       "      <th>2007-05-28 08:36:57.846</th>\n",
       "      <td>13.43700</td>\n",
       "      <td>52.41737</td>\n",
       "      <td>2</td>\n",
       "    </tr>\n",
       "    <tr>\n",
       "      <th>2007-05-28 08:36:59.846</th>\n",
       "      <td>13.43719</td>\n",
       "      <td>52.41741</td>\n",
       "      <td>2</td>\n",
       "    </tr>\n",
       "    <tr>\n",
       "      <th>2007-05-28 08:37:01.846</th>\n",
       "      <td>13.43739</td>\n",
       "      <td>52.41744</td>\n",
       "      <td>2</td>\n",
       "    </tr>\n",
       "    <tr>\n",
       "      <th>2007-05-28 08:37:03.846</th>\n",
       "      <td>13.43762</td>\n",
       "      <td>52.41747</td>\n",
       "      <td>2</td>\n",
       "    </tr>\n",
       "  </tbody>\n",
       "</table>\n",
       "</div>"
      ],
      "text/plain": [
       "                              longitude  latitude  trip\n",
       "Moid time                                              \n",
       "1    2007-05-27 00:00:00.000   13.43593  52.41721     1\n",
       "     2007-05-28 08:36:47.846   13.43593  52.41721     2\n",
       "     2007-05-28 08:36:49.846   13.43605  52.41723     2\n",
       "     2007-05-28 08:36:51.846   13.43628  52.41727     2\n",
       "     2007-05-28 08:36:53.846   13.43652  52.41730     2\n",
       "     2007-05-28 08:36:55.846   13.43676  52.41734     2\n",
       "     2007-05-28 08:36:57.846   13.43700  52.41737     2\n",
       "     2007-05-28 08:36:59.846   13.43719  52.41741     2\n",
       "     2007-05-28 08:37:01.846   13.43739  52.41744     2\n",
       "     2007-05-28 08:37:03.846   13.43762  52.41747     2"
      ]
     },
     "execution_count": 37,
     "metadata": {},
     "output_type": "execute_result"
    }
   ],
   "source": [
    "df_reindexed.head(10)"
   ]
  },
  {
   "cell_type": "code",
   "execution_count": 38,
   "metadata": {},
   "outputs": [],
   "source": [
    "# Save the dataset to .pkl\n",
    "\n",
    "df_reindexed.to_pickle('./datasets/berlinmod-test.pkl')"
   ]
  }
 ],
 "metadata": {
  "kernelspec": {
   "display_name": "Python 3",
   "language": "python",
   "name": "python3"
  },
  "language_info": {
   "codemirror_mode": {
    "name": "ipython",
    "version": 3
   },
   "file_extension": ".py",
   "mimetype": "text/x-python",
   "name": "python",
   "nbconvert_exporter": "python",
   "pygments_lexer": "ipython3",
   "version": "3.6.5"
  }
 },
 "nbformat": 4,
 "nbformat_minor": 2
}
